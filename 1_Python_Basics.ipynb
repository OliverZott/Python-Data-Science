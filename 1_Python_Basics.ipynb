{
 "cells": [
  {
   "cell_type": "markdown",
   "metadata": {},
   "source": [
    "# Python Basics \n",
    "(Abschnitt 3)\n"
   ]
  },
  {
   "cell_type": "code",
   "execution_count": 1,
   "metadata": {
    "scrolled": true
   },
   "outputs": [],
   "source": [
    "# help(list)"
   ]
  },
  {
   "cell_type": "code",
   "execution_count": 3,
   "metadata": {},
   "outputs": [
    {
     "data": {
      "text/plain": [
       "'C:\\\\Users\\\\HAL9000\\\\JupyterNotebooks'"
      ]
     },
     "execution_count": 3,
     "metadata": {},
     "output_type": "execute_result"
    }
   ],
   "source": [
    "pwd"
   ]
  },
  {
   "cell_type": "code",
   "execution_count": 6,
   "metadata": {},
   "outputs": [
    {
     "data": {
      "text/plain": [
       "2.0"
      ]
     },
     "execution_count": 6,
     "metadata": {},
     "output_type": "execute_result"
    }
   ],
   "source": [
    "float(4)/2\n"
   ]
  },
  {
   "cell_type": "code",
   "execution_count": 14,
   "metadata": {},
   "outputs": [
    {
     "name": "stdout",
     "output_type": "stream",
     "text": [
      "var1 is 8.\n",
      "var1 really is 8\n"
     ]
    }
   ],
   "source": [
    "var1 = 2**3\n",
    "print(\"var1 is {erg}.\".format(erg=var1))\n",
    "print(\"var1 really is {}\".format(var1))"
   ]
  },
  {
   "cell_type": "code",
   "execution_count": 8,
   "metadata": {},
   "outputs": [
    {
     "data": {
      "text/plain": [
       "1"
      ]
     },
     "execution_count": 8,
     "metadata": {},
     "output_type": "execute_result"
    }
   ],
   "source": [
    "5%2"
   ]
  },
  {
   "cell_type": "markdown",
   "metadata": {},
   "source": [
    "# Part 2 - Collections\n",
    "[Link1 - Doc](https://jpt-pynotes.readthedocs.io/en/latest/more-types.html)  \n",
    "[Link2 - Medium](https://medium.com/@paulrohan/python-list-vs-tuple-vs-dictionary-4a48655c7934)  \n",
    "[Link3 - geeksforgeeks](https://www.geeksforgeeks.org/difference-between-list-vs-set-vs-tuple-in-python/)  \n",
    "\n",
    "- **Lists**  \n",
    "  - `[]`\n",
    "  - dynamic sized arrays  \n",
    "  - mutable, ordered sequence of items \n",
    "  - can store any type of element\n",
    "  - other languages:  \n",
    "    - vector (C++) \n",
    "    - ArrayList (Java)\n",
    "    \n",
    "- **Dictionaries**  \n",
    "  - `{}`\n",
    "  - associative array\n",
    "  - mutible\n",
    "    \n",
    "- **Tuples**  \n",
    "  - `()`\n",
    "  - immutable, ordered sequence (cannot be changed or replaced)\n",
    "  - can store any type of element\n",
    "  - not the extensive functionality that the list class provides\n",
    "  \n",
    "- **Sets**  \n",
    "  - immutable, unordered collection of items\n",
    "  - unique!\n",
    "\n",
    "### Python Types and Structures\n",
    "\n",
    "- **Logical**: bool\n",
    "- **Numeric**: int, float, complex\n",
    "- **Sequence**: list, tuple, range\n",
    "- **Text Sequence**: str\n",
    "- **Binary Sequence**: bytes, bytearray, memoryview\n",
    "- **Map**: dict\n",
    "- **Set**: set, frozenset"
   ]
  },
  {
   "cell_type": "markdown",
   "metadata": {},
   "source": [
    "## Lists"
   ]
  },
  {
   "cell_type": "code",
   "execution_count": 1,
   "metadata": {},
   "outputs": [
    {
     "name": "stdout",
     "output_type": "stream",
     "text": [
      "['str', 13, 21, 47, 'b']\n",
      "47\n",
      "['str', 13, 21]\n",
      "['b']\n",
      "['str', 13, 21, 47, 'New']\n"
     ]
    }
   ],
   "source": [
    "# Lists\n",
    "list1 = ['str', 13, 21, 47]\n",
    "list1.append('b')\n",
    "print(list1)\n",
    "print(list1[3])\n",
    "print(list1[:3])\n",
    "print(list1[-1:])\n",
    "list1[-1] = 'New'\n",
    "print(list1)"
   ]
  },
  {
   "cell_type": "code",
   "execution_count": 36,
   "metadata": {},
   "outputs": [
    {
     "name": "stdout",
     "output_type": "stream",
     "text": [
      "[1, 2, 3, [4, 5, ['Goal']]]\n",
      "Goal\n"
     ]
    }
   ],
   "source": [
    "# Lists 2\n",
    "list2 = [1, 2, 3, [4, 5, ['Goal']]]\n",
    "print(list2)\n",
    "print(list2[-1][-1][0])"
   ]
  },
  {
   "cell_type": "markdown",
   "metadata": {},
   "source": [
    "### List Copy and reversion"
   ]
  },
  {
   "cell_type": "code",
   "execution_count": 1,
   "metadata": {},
   "outputs": [
    {
     "name": "stdout",
     "output_type": "stream",
     "text": [
      "['str', 13, 21, 47]\n",
      "['str', 13, 'new value', 47]\n",
      "\n",
      "<method-wrapper '__repr__' of list object at 0x000001E675144F40>\n",
      "<method-wrapper '__repr__' of list object at 0x000001E675144F40>\n",
      "list_copy == list_copy2: True\n",
      "list_copy is list_copy2: False\n",
      "Showing '__repr__' of a list: <method-wrapper '__repr__' of list object at 0x000001E675144540>\n",
      "Showing '__str__' of a list: <method-wrapper '__str__' of list object at 0x000001E675144540>/n/n\n",
      "\n",
      "<list_reverseiterator object at 0x000001E675176550>\n",
      "47\n",
      "new value\n",
      "13\n",
      "str\n",
      "['str', 13, 'new value', 47]\n",
      "[47, 'new value', 13, 'str']\n"
     ]
    }
   ],
   "source": [
    "list1 = ['str', 13, 21, 47]\n",
    "print(list1)\n",
    "list2 = list1\n",
    "list2[2] = \"new value\"  # Only copies pointer to same list!\n",
    "print(list1)\n",
    "print()\n",
    "\n",
    "\n",
    "\n",
    "list_copy = list1.copy()  # Creates separat copy of list.\n",
    "list_copy2 = list1.copy()\n",
    "print(list1.__repr__)\n",
    "print(list2.__repr__)\n",
    "print(f\"list_copy == list_copy2: {list_copy == list_copy2:}\")\n",
    "print(f\"list_copy is list_copy2: {list_copy is list_copy2:}\")\n",
    "\n",
    "print(f\"Showing '__repr__' of a list: {list_copy.__repr__}\")\n",
    "print(f\"Showing '__str__' of a list: {list_copy.__str__}/n/n\")\n",
    "print()\n",
    "\n",
    "\n",
    "\n",
    "# Retrieving reversed iterator instead of reversing list!\n",
    "list_reveresd_iter = reversed(list_copy)\n",
    "print(list_reveresd_iter)\n",
    "for val in list_reveresd_iter:\n",
    "    print(val)\n",
    "    \n",
    "print(list_copy)\n",
    "\n",
    "\n",
    "\n",
    "# Reversing whole list.\n",
    "list_copy2.reverse()\n",
    "print(list_copy2)"
   ]
  },
  {
   "cell_type": "markdown",
   "metadata": {},
   "source": [
    "## Dict"
   ]
  },
  {
   "cell_type": "code",
   "execution_count": 40,
   "metadata": {},
   "outputs": [
    {
     "name": "stdout",
     "output_type": "stream",
     "text": [
      "{'innerKey': [1, 2, 3]}\n",
      "2\n"
     ]
    }
   ],
   "source": [
    "# Arrays\n",
    "d = {'key1': {'innerKey': [1, 2, 3]}}\n",
    "print(d['key1'])\n",
    "print(d['key1']['innerKey'][1])"
   ]
  },
  {
   "cell_type": "code",
   "execution_count": 13,
   "metadata": {},
   "outputs": [
    {
     "name": "stdout",
     "output_type": "stream",
     "text": [
      "<class 'list'>\n"
     ]
    },
    {
     "ename": "TypeError",
     "evalue": "list indices must be integers or slices, not str",
     "output_type": "error",
     "traceback": [
      "\u001b[1;31m---------------------------------------------------------------------------\u001b[0m",
      "\u001b[1;31mTypeError\u001b[0m                                 Traceback (most recent call last)",
      "\u001b[1;32m<ipython-input-13-4908eda7d898>\u001b[0m in \u001b[0;36m<module>\u001b[1;34m\u001b[0m\n\u001b[0;32m      1\u001b[0m \u001b[0md2\u001b[0m \u001b[1;33m=\u001b[0m \u001b[1;33m[\u001b[0m\u001b[1;33m]\u001b[0m\u001b[1;33m\u001b[0m\u001b[1;33m\u001b[0m\u001b[0m\n\u001b[0;32m      2\u001b[0m \u001b[0mprint\u001b[0m\u001b[1;33m(\u001b[0m\u001b[0mtype\u001b[0m\u001b[1;33m(\u001b[0m\u001b[0md2\u001b[0m\u001b[1;33m)\u001b[0m\u001b[1;33m)\u001b[0m\u001b[1;33m\u001b[0m\u001b[1;33m\u001b[0m\u001b[0m\n\u001b[1;32m----> 3\u001b[1;33m \u001b[0md2\u001b[0m\u001b[1;33m[\u001b[0m\u001b[1;34m\"key1\"\u001b[0m\u001b[1;33m]\u001b[0m \u001b[1;33m=\u001b[0m \u001b[1;34m\"value1\"\u001b[0m\u001b[1;33m\u001b[0m\u001b[1;33m\u001b[0m\u001b[0m\n\u001b[0m\u001b[0;32m      4\u001b[0m \u001b[0md2\u001b[0m\u001b[1;33m[\u001b[0m\u001b[1;34m\"key2\"\u001b[0m\u001b[1;33m]\u001b[0m \u001b[1;33m=\u001b[0m \u001b[1;34m\"value2\"\u001b[0m\u001b[1;33m\u001b[0m\u001b[1;33m\u001b[0m\u001b[0m\n\u001b[0;32m      5\u001b[0m \u001b[0mprint\u001b[0m\u001b[1;33m(\u001b[0m\u001b[0md2\u001b[0m\u001b[1;33m)\u001b[0m\u001b[1;33m\u001b[0m\u001b[1;33m\u001b[0m\u001b[0m\n",
      "\u001b[1;31mTypeError\u001b[0m: list indices must be integers or slices, not str"
     ]
    }
   ],
   "source": [
    "d2 = []\n",
    "print(type(d2))\n",
    "d2[\"key1\"] = \"value1\"\n",
    "d2[\"key2\"] = \"value2\"\n",
    "print(d2)\n",
    "print(d2[\"key1\"])\n",
    "for k, v in d2.items():\n",
    "    print(f\"{k} --> {v}\")"
   ]
  },
  {
   "cell_type": "code",
   "execution_count": 25,
   "metadata": {},
   "outputs": [
    {
     "name": "stdout",
     "output_type": "stream",
     "text": [
      "human\n",
      "Olli --> Oliver Zott, 37, race: blub\n",
      "Leni --> Magdalena Bergmann, 34, race: human\n",
      "Olli -> <__main__.Person object at 0x000002772C885FA0>\n",
      "Leni -> <__main__.Person object at 0x000002772CA4F160>\n"
     ]
    }
   ],
   "source": [
    "class Person:\n",
    "    race = \"human\"\n",
    "    name: str\n",
    "    age: int\n",
    "\n",
    "d3 = {}\n",
    "d3[\"Olli\"] = Person()\n",
    "d3[\"Leni\"] = Person()\n",
    "\n",
    "\n",
    "d3[\"Olli\"].name = \"Oliver Zott\"\n",
    "d3[\"Olli\"].age = 37\n",
    "d3[\"Olli\"].race = \"blub\"\n",
    "\n",
    "\n",
    "d3[\"Leni\"].name = \"Magdalena Bergmann\"\n",
    "d3[\"Leni\"].age = 34\n",
    "\n",
    "print(Person.race)\n",
    "\n",
    "\n",
    "for k, v in d3.items():\n",
    "    print(f\"{k} --> {v.name}, {v.age}, race: {v.race}\")\n",
    "    \n",
    "for k, v in d3.items():\n",
    "    print(f\"{k} -> {v}\")"
   ]
  },
  {
   "cell_type": "markdown",
   "metadata": {},
   "source": [
    "## Tuple"
   ]
  },
  {
   "cell_type": "code",
   "execution_count": 47,
   "metadata": {},
   "outputs": [
    {
     "name": "stdout",
     "output_type": "stream",
     "text": [
      "(1, 2, 3)\n",
      "2\n"
     ]
    },
    {
     "ename": "TypeError",
     "evalue": "'tuple' object does not support item assignment",
     "output_type": "error",
     "traceback": [
      "\u001b[1;31m---------------------------------------------------------------------------\u001b[0m",
      "\u001b[1;31mTypeError\u001b[0m                                 Traceback (most recent call last)",
      "\u001b[1;32m<ipython-input-47-1f8b98889ecc>\u001b[0m in \u001b[0;36m<module>\u001b[1;34m\u001b[0m\n\u001b[0;32m      2\u001b[0m \u001b[0mprint\u001b[0m\u001b[1;33m(\u001b[0m\u001b[0mt\u001b[0m\u001b[1;33m)\u001b[0m\u001b[1;33m\u001b[0m\u001b[1;33m\u001b[0m\u001b[0m\n\u001b[0;32m      3\u001b[0m \u001b[0mprint\u001b[0m\u001b[1;33m(\u001b[0m\u001b[0mt\u001b[0m\u001b[1;33m[\u001b[0m\u001b[1;36m1\u001b[0m\u001b[1;33m]\u001b[0m\u001b[1;33m)\u001b[0m\u001b[1;33m\u001b[0m\u001b[1;33m\u001b[0m\u001b[0m\n\u001b[1;32m----> 4\u001b[1;33m \u001b[0mt\u001b[0m\u001b[1;33m[\u001b[0m\u001b[1;36m1\u001b[0m\u001b[1;33m]\u001b[0m \u001b[1;33m=\u001b[0m \u001b[1;36m2\u001b[0m\u001b[1;33m\u001b[0m\u001b[1;33m\u001b[0m\u001b[0m\n\u001b[0m",
      "\u001b[1;31mTypeError\u001b[0m: 'tuple' object does not support item assignment"
     ]
    }
   ],
   "source": [
    "t = (1, 2, 3)\n",
    "print(t)\n",
    "print(t[1])\n",
    "t[1] = 2"
   ]
  },
  {
   "cell_type": "markdown",
   "metadata": {},
   "source": [
    "## Set\n"
   ]
  },
  {
   "cell_type": "code",
   "execution_count": 43,
   "metadata": {},
   "outputs": [
    {
     "name": "stdout",
     "output_type": "stream",
     "text": [
      "{1, 2, 3, 5, 7}\n"
     ]
    }
   ],
   "source": [
    "s = {7, 1, 2, 3, 1, 3, 2, 2, 5}\n",
    "print(s)"
   ]
  },
  {
   "cell_type": "markdown",
   "metadata": {},
   "source": [
    "# Part 3 - Conditions, Loops, Functions\n",
    "\n",
    "- if-elif-else\n",
    "\n",
    "- for\n",
    "\n",
    "- while\n",
    "\n",
    "- for-in / range  \n",
    "  - list from range"
   ]
  },
  {
   "cell_type": "code",
   "execution_count": 56,
   "metadata": {},
   "outputs": [
    {
     "name": "stdout",
     "output_type": "stream",
     "text": [
      "x(7) is equal to y(7)\n"
     ]
    }
   ],
   "source": [
    "# if - elif - else\n",
    "x, y = 7, 7\n",
    "if x > y:\n",
    "    print(\"x({}) is greater then y({})\".format(x,y))\n",
    "elif y > x :\n",
    "    print(\"x({}) is lesse then y({})\".format(x,y))\n",
    "else:\n",
    "    print(\"x({}) is equal to y({})\".format(x,y))\n",
    "        "
   ]
  },
  {
   "cell_type": "code",
   "execution_count": 57,
   "metadata": {},
   "outputs": [
    {
     "name": "stdout",
     "output_type": "stream",
     "text": [
      "1\n",
      "2\n",
      "3\n",
      "4\n",
      "5\n"
     ]
    }
   ],
   "source": [
    "# for \n",
    "sqe = [1, 2, 3, 4, 5]\n",
    "for val in sqe:\n",
    "    print(val)"
   ]
  },
  {
   "cell_type": "code",
   "execution_count": 60,
   "metadata": {},
   "outputs": [
    {
     "name": "stdout",
     "output_type": "stream",
     "text": [
      "i is 1\n",
      "i is 2\n",
      "i is 3\n",
      "i is 4\n"
     ]
    }
   ],
   "source": [
    "# while\n",
    "i = 1\n",
    "while i < 5:\n",
    "    print('i is {}'.format(i))\n",
    "    i += 1"
   ]
  },
  {
   "cell_type": "code",
   "execution_count": 65,
   "metadata": {},
   "outputs": [
    {
     "name": "stdout",
     "output_type": "stream",
     "text": [
      "0\n",
      "1\n",
      "2\n",
      "3\n",
      "4\n",
      "range(0, 5)\n"
     ]
    },
    {
     "data": {
      "text/plain": [
       "[0, 1, 2, 3, 4]"
      ]
     },
     "execution_count": 65,
     "metadata": {},
     "output_type": "execute_result"
    }
   ],
   "source": [
    "# for-in / range\n",
    "for i in range(5):\n",
    "    print(i)\n",
    "\n",
    "print(range(5))\n",
    "\n",
    "list(range(5))"
   ]
  },
  {
   "cell_type": "markdown",
   "metadata": {},
   "source": [
    "### List Comprehension"
   ]
  },
  {
   "cell_type": "code",
   "execution_count": 68,
   "metadata": {},
   "outputs": [
    {
     "name": "stdout",
     "output_type": "stream",
     "text": [
      "[0, 1, 4, 9, 16]\n"
     ]
    }
   ],
   "source": [
    "# Without list-comprehension\n",
    "\n",
    "x = list(range(5))\n",
    "y = []\n",
    "\n",
    "for item in x:\n",
    "    y.append(item**2)\n",
    "print(y)\n",
    "\n"
   ]
  },
  {
   "cell_type": "code",
   "execution_count": 72,
   "metadata": {},
   "outputs": [
    {
     "data": {
      "text/plain": [
       "[25, 36, 49, 64, 81, 100, 121]"
      ]
     },
     "execution_count": 72,
     "metadata": {},
     "output_type": "execute_result"
    }
   ],
   "source": [
    "# with list-comprehension\n",
    "z = list(range(5, 12))\n",
    "[item**2 for item in z]"
   ]
  },
  {
   "cell_type": "markdown",
   "metadata": {},
   "source": [
    "### Functions\n",
    "\n",
    "INFO: press `Shift + Tab` for Description !!"
   ]
  },
  {
   "cell_type": "code",
   "execution_count": 93,
   "metadata": {},
   "outputs": [],
   "source": [
    "def func1 (param1: int = 11) -> None:\n",
    "    \"\"\"\n",
    "    Description:\n",
    "    Just some test-function\n",
    "    \"\"\"\n",
    "    print('Square of {} is {}'.format(param1, param1**2))\n"
   ]
  },
  {
   "cell_type": "code",
   "execution_count": 94,
   "metadata": {},
   "outputs": [
    {
     "name": "stdout",
     "output_type": "stream",
     "text": [
      "Square of 11 is 121\n",
      "None\n",
      "Square of 17 is 289\n",
      "None\n"
     ]
    }
   ],
   "source": [
    "print(func1())\n",
    "print(func1(17))"
   ]
  },
  {
   "cell_type": "code",
   "execution_count": 95,
   "metadata": {},
   "outputs": [
    {
     "data": {
      "text/plain": [
       "<function __main__.func1(param1: int = 11) -> None>"
      ]
     },
     "execution_count": 95,
     "metadata": {},
     "output_type": "execute_result"
    }
   ],
   "source": [
    "# press `Shift + Tab`\n",
    "func1"
   ]
  },
  {
   "cell_type": "markdown",
   "metadata": {},
   "source": [
    "## Part 4 - Lambda Expressions / Map & Filter / Methods"
   ]
  },
  {
   "cell_type": "markdown",
   "metadata": {},
   "source": [
    "### Lamda Expressions"
   ]
  },
  {
   "cell_type": "code",
   "execution_count": 97,
   "metadata": {},
   "outputs": [
    {
     "data": {
      "text/plain": [
       "14"
      ]
     },
     "execution_count": 97,
     "metadata": {},
     "output_type": "execute_result"
    }
   ],
   "source": [
    "# without lambda-expresion\n",
    "\n",
    "def times2(var):\n",
    "    return var*2\n",
    "\n",
    "times2(7)"
   ]
  },
  {
   "cell_type": "code",
   "execution_count": 98,
   "metadata": {},
   "outputs": [
    {
     "data": {
      "text/plain": [
       "24"
      ]
     },
     "execution_count": 98,
     "metadata": {},
     "output_type": "execute_result"
    }
   ],
   "source": [
    "# with lambda expression\n",
    "\n",
    "times3 = lambda var: var*3\n",
    "\n",
    "times3(8)"
   ]
  },
  {
   "cell_type": "markdown",
   "metadata": {},
   "source": [
    "### Map & Filter"
   ]
  },
  {
   "cell_type": "code",
   "execution_count": 125,
   "metadata": {},
   "outputs": [
    {
     "name": "stdout",
     "output_type": "stream",
     "text": [
      "List 'seq' is: [1, 2, 3, 4, 5, 6, 7, 8]'\n",
      "<class 'range'>\n",
      "<class 'list'>\n"
     ]
    }
   ],
   "source": [
    "seq = range(1, 9)\n",
    "seqList = list(seq)\n",
    "print(\"List 'seq' is: {}'\".format(seqList))\n",
    "print(type(seq))\n",
    "print(type(seqList))"
   ]
  },
  {
   "cell_type": "code",
   "execution_count": 126,
   "metadata": {},
   "outputs": [
    {
     "name": "stdout",
     "output_type": "stream",
     "text": [
      "<map object at 0x000001E675917250>\n",
      "[3, 6, 9, 12, 15, 18, 21, 24]\n"
     ]
    }
   ],
   "source": [
    "resultMap = map(times3, seqList)\n",
    "print(resultMap)\n",
    "print(list(resultMap))"
   ]
  },
  {
   "cell_type": "code",
   "execution_count": 127,
   "metadata": {},
   "outputs": [
    {
     "name": "stdout",
     "output_type": "stream",
     "text": [
      "[-2, -1, 0, 1, 2, 3, 4, 5]\n"
     ]
    }
   ],
   "source": [
    "# Combine lambda & maps\n",
    "resultLaMa = list(map(lambda var: var-3, seq))\n",
    "print(resultLaMa)"
   ]
  },
  {
   "cell_type": "code",
   "execution_count": 130,
   "metadata": {},
   "outputs": [
    {
     "name": "stdout",
     "output_type": "stream",
     "text": [
      "[1, 3, 5, 7]\n"
     ]
    }
   ],
   "source": [
    "# Filter\n",
    "resultLaFi = filter(lambda item: item%2!=0, seq)\n",
    "print(list(resultLaFi))"
   ]
  },
  {
   "cell_type": "markdown",
   "metadata": {},
   "source": [
    "### Standard Methods\n",
    "\n",
    "- upper() / lower()\n",
    "- split\n",
    "- check existence\n",
    "- Iterate Lists"
   ]
  },
  {
   "cell_type": "code",
   "execution_count": 146,
   "metadata": {},
   "outputs": [
    {
     "name": "stdout",
     "output_type": "stream",
     "text": [
      "['Hello, ', ' goin on here?']\n",
      "['whats', 'goin', 'on']\n"
     ]
    }
   ],
   "source": [
    "# str method\n",
    "\n",
    "str1 = 'Hello, whats goin on here?'\n",
    "print(str1.split('whats'))\n",
    "print(str1.split()[1:4])"
   ]
  },
  {
   "cell_type": "code",
   "execution_count": 153,
   "metadata": {},
   "outputs": [
    {
     "name": "stdout",
     "output_type": "stream",
     "text": [
      "{'key1': {'innerKey': [1, 2, 3]}}\n",
      "dict_keys(['key1'])\n",
      "dict_items([('key1', {'innerKey': [1, 2, 3]})])\n"
     ]
    }
   ],
   "source": [
    "# dict methods\n",
    "\n",
    "print(d)\n",
    "print(d.keys())\n",
    "print(d.items())\n",
    "\n",
    "# use `Shift` to show usable methods "
   ]
  },
  {
   "cell_type": "code",
   "execution_count": 158,
   "metadata": {},
   "outputs": [
    {
     "name": "stdout",
     "output_type": "stream",
     "text": [
      "new\n",
      "1\n"
     ]
    }
   ],
   "source": [
    "# pop()\n",
    "\n",
    "lst = [1, 2, 3, 'new']\n",
    "print(lst.pop())\n",
    "print(lst.pop(0))"
   ]
  },
  {
   "cell_type": "code",
   "execution_count": 159,
   "metadata": {},
   "outputs": [
    {
     "data": {
      "text/plain": [
       "False"
      ]
     },
     "execution_count": 159,
     "metadata": {},
     "output_type": "execute_result"
    }
   ],
   "source": [
    "# check existence\n",
    "x in lst"
   ]
  },
  {
   "cell_type": "code",
   "execution_count": 165,
   "metadata": {},
   "outputs": [
    {
     "name": "stdout",
     "output_type": "stream",
     "text": [
      "1\n",
      "2\n",
      "3\n",
      "4\n",
      "5\n",
      "6\n"
     ]
    }
   ],
   "source": [
    "# Iterate Lists\n",
    "\n",
    "x = [(1, 2), (3, 4), (5, 6)]\n",
    "for a, b in x:\n",
    "    print(a)\n",
    "    print(b)"
   ]
  },
  {
   "cell_type": "code",
   "execution_count": 164,
   "metadata": {},
   "outputs": [
    {
     "data": {
      "text/plain": [
       "'t'"
      ]
     },
     "execution_count": 164,
     "metadata": {},
     "output_type": "execute_result"
    }
   ],
   "source": [
    "word = 'string'\n",
    "word[1]"
   ]
  },
  {
   "cell_type": "code",
   "execution_count": 170,
   "metadata": {},
   "outputs": [
    {
     "data": {
      "text/plain": [
       "[6, 7, 8]"
      ]
     },
     "execution_count": 170,
     "metadata": {},
     "output_type": "execute_result"
    }
   ],
   "source": [
    "a = [1,2,3]\n",
    "b = map(lambda x: x+5, a)\n",
    "list(b)"
   ]
  },
  {
   "cell_type": "code",
   "execution_count": null,
   "metadata": {},
   "outputs": [],
   "source": []
  }
 ],
 "metadata": {
  "kernelspec": {
   "display_name": "Python 3",
   "language": "python",
   "name": "python3"
  },
  "language_info": {
   "codemirror_mode": {
    "name": "ipython",
    "version": 3
   },
   "file_extension": ".py",
   "mimetype": "text/x-python",
   "name": "python",
   "nbconvert_exporter": "python",
   "pygments_lexer": "ipython3",
   "version": "3.8.10"
  }
 },
 "nbformat": 4,
 "nbformat_minor": 4
}
