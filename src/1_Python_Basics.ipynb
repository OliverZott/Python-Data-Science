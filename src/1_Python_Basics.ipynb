{
 "cells": [
  {
   "cell_type": "markdown",
   "metadata": {
    "pycharm": {
     "name": "#%% md\n"
    }
   },
   "source": [
    "# Python Basics \n",
    "(Abschnitt 3)\n",
    "\n",
    "- Collections\n",
    "- Conditions, Loops, Functions, List Comprehension\n",
    "- Lambda Expressions, Map&Filter, Methods"
   ]
  },
  {
   "cell_type": "code",
   "execution_count": 1,
   "metadata": {
    "scrolled": true,
    "pycharm": {
     "name": "#%%\n"
    }
   },
   "outputs": [],
   "source": [
    "# help(list)"
   ]
  },
  {
   "cell_type": "code",
   "execution_count": 2,
   "metadata": {
    "pycharm": {
     "name": "#%%\n"
    }
   },
   "outputs": [
    {
     "data": {
      "text/plain": "'C:\\\\repos\\\\Python-Data-Science\\\\src'"
     },
     "execution_count": 2,
     "metadata": {},
     "output_type": "execute_result"
    }
   ],
   "source": [
    "pwd"
   ]
  },
  {
   "cell_type": "code",
   "execution_count": 3,
   "metadata": {
    "pycharm": {
     "name": "#%%\n"
    }
   },
   "outputs": [
    {
     "data": {
      "text/plain": "2.0"
     },
     "execution_count": 3,
     "metadata": {},
     "output_type": "execute_result"
    }
   ],
   "source": [
    "float(4)/2\n"
   ]
  },
  {
   "cell_type": "code",
   "execution_count": 4,
   "metadata": {
    "pycharm": {
     "name": "#%%\n"
    }
   },
   "outputs": [
    {
     "name": "stdout",
     "output_type": "stream",
     "text": [
      "var1 is 8.\n",
      "var1 really is 8\n"
     ]
    }
   ],
   "source": [
    "var1 = 2**3\n",
    "print(\"var1 is {erg}.\".format(erg=var1))\n",
    "print(\"var1 really is {}\".format(var1))"
   ]
  },
  {
   "cell_type": "code",
   "execution_count": 5,
   "metadata": {
    "pycharm": {
     "name": "#%%\n"
    }
   },
   "outputs": [
    {
     "data": {
      "text/plain": "1"
     },
     "execution_count": 5,
     "metadata": {},
     "output_type": "execute_result"
    }
   ],
   "source": [
    "5%2"
   ]
  },
  {
   "cell_type": "markdown",
   "metadata": {
    "pycharm": {
     "name": "#%% md\n"
    }
   },
   "source": [
    "# Part 2 - Collections\n",
    "[Link1 - Doc](https://jpt-pynotes.readthedocs.io/en/latest/more-types.html)  \n",
    "[Link2 - Medium](https://medium.com/@paulrohan/python-list-vs-tuple-vs-dictionary-4a48655c7934)  \n",
    "[Link3 - geeksforgeeks](https://www.geeksforgeeks.org/difference-between-list-vs-set-vs-tuple-in-python/)  \n",
    "\n",
    "- **Lists**  \n",
    "  - `[]`\n",
    "  - dynamic sized arrays  \n",
    "  - mutable, ordered sequence of items \n",
    "  - can store any type of element\n",
    "  - other languages:  \n",
    "    - vector (C++) \n",
    "    - ArrayList (Java)\n",
    "    \n",
    "- **Dictionaries**  \n",
    "  - `{}`\n",
    "  - associative array\n",
    "  - mutible\n",
    "    \n",
    "- **Tuples**  \n",
    "  - `()`\n",
    "  - immutable, ordered sequence (cannot be changed or replaced)\n",
    "  - can store any type of element\n",
    "  - not the extensive functionality that the list class provides\n",
    "  \n",
    "- **Sets**  \n",
    "  - immutable, unordered collection of items\n",
    "  - unique!\n",
    "\n",
    "### Python Types and Structures\n",
    "\n",
    "- **Logical**: bool\n",
    "- **Numeric**: int, float, complex\n",
    "- **Sequence**: list, tuple, range\n",
    "- **Text Sequence**: str\n",
    "- **Binary Sequence**: bytes, bytearray, memoryview\n",
    "- **Map**: dict\n",
    "- **Set**: set, frozenset"
   ]
  },
  {
   "cell_type": "markdown",
   "metadata": {
    "pycharm": {
     "name": "#%% md\n"
    }
   },
   "source": [
    "## Lists"
   ]
  },
  {
   "cell_type": "code",
   "execution_count": 6,
   "metadata": {
    "pycharm": {
     "name": "#%%\n"
    }
   },
   "outputs": [
    {
     "name": "stdout",
     "output_type": "stream",
     "text": [
      "['str', 13, 21, 47, 'b']\n",
      "47\n",
      "['str', 13, 21]\n",
      "['b']\n",
      "['str', 13, 21, 47, 'New']\n"
     ]
    }
   ],
   "source": [
    "# Lists\n",
    "list1 = ['str', 13, 21, 47]\n",
    "list1.append('b')\n",
    "print(list1)\n",
    "print(list1[3])\n",
    "print(list1[:3])\n",
    "print(list1[-1:])\n",
    "list1[-1] = 'New'\n",
    "print(list1)"
   ]
  },
  {
   "cell_type": "code",
   "execution_count": 7,
   "metadata": {
    "pycharm": {
     "name": "#%%\n"
    }
   },
   "outputs": [
    {
     "name": "stdout",
     "output_type": "stream",
     "text": [
      "[1, 2, 3, [4, 5, ['Goal']]]\n",
      "Goal\n"
     ]
    }
   ],
   "source": [
    "# Lists 2\n",
    "list2 = [1, 2, 3, [4, 5, ['Goal']]]\n",
    "print(list2)\n",
    "print(list2[-1][-1][0])"
   ]
  },
  {
   "cell_type": "markdown",
   "metadata": {
    "pycharm": {
     "name": "#%% md\n"
    }
   },
   "source": [
    "### List Copy and reversion"
   ]
  },
  {
   "cell_type": "code",
   "execution_count": 8,
   "metadata": {
    "pycharm": {
     "name": "#%%\n"
    }
   },
   "outputs": [
    {
     "name": "stdout",
     "output_type": "stream",
     "text": [
      "['str', 13, 21, 47]\n",
      "['str', 13, 'new value', 47]\n",
      "\n",
      "<method-wrapper '__repr__' of list object at 0x0000015B55217EC0>\n",
      "<method-wrapper '__repr__' of list object at 0x0000015B55217EC0>\n",
      "list_copy == list_copy2: True\n",
      "list_copy is list_copy2: False\n",
      "Showing '__repr__' of a list: <method-wrapper '__repr__' of list object at 0x0000015B5521E540>\n",
      "Showing '__str__' of a list: <method-wrapper '__str__' of list object at 0x0000015B5521E540>/n/n\n",
      "\n",
      "<list_reverseiterator object at 0x0000015B5520E9B0>\n",
      "47\n",
      "new value\n",
      "13\n",
      "str\n",
      "['str', 13, 'new value', 47]\n",
      "[47, 'new value', 13, 'str']\n"
     ]
    }
   ],
   "source": [
    "list1 = ['str', 13, 21, 47]\n",
    "print(list1)\n",
    "list2 = list1\n",
    "list2[2] = \"new value\"  # Only copies pointer to same list!\n",
    "print(list1)\n",
    "print()\n",
    "\n",
    "\n",
    "\n",
    "list_copy = list1.copy()  # Creates separate copy of list.\n",
    "list_copy2 = list1.copy()\n",
    "print(list1.__repr__)\n",
    "print(list2.__repr__)\n",
    "print(f\"list_copy == list_copy2: {list_copy == list_copy2:}\")\n",
    "print(f\"list_copy is list_copy2: {list_copy is list_copy2:}\")\n",
    "\n",
    "print(f\"Showing '__repr__' of a list: {list_copy.__repr__}\")\n",
    "print(f\"Showing '__str__' of a list: {list_copy.__str__}/n/n\")\n",
    "print()\n",
    "\n",
    "\n",
    "\n",
    "# Retrieving reversed iterator instead of reversing list!\n",
    "list_reversed_iter = reversed(list_copy)\n",
    "print(list_reversed_iter)\n",
    "for val in list_reversed_iter:\n",
    "    print(val)\n",
    "    \n",
    "print(list_copy)\n",
    "\n",
    "\n",
    "\n",
    "# Reversing whole list.\n",
    "list_copy2.reverse()\n",
    "print(list_copy2)"
   ]
  },
  {
   "cell_type": "markdown",
   "metadata": {
    "pycharm": {
     "name": "#%% md\n"
    }
   },
   "source": [
    "## Dict"
   ]
  },
  {
   "cell_type": "code",
   "execution_count": 9,
   "metadata": {
    "pycharm": {
     "name": "#%%\n"
    }
   },
   "outputs": [
    {
     "name": "stdout",
     "output_type": "stream",
     "text": [
      "{'innerKey': [1, 2, 3]}\n",
      "2\n"
     ]
    }
   ],
   "source": [
    "# Arrays\n",
    "d = {'key1': {'innerKey': [1, 2, 3]}}\n",
    "print(d['key1'])\n",
    "print(d['key1']['innerKey'][1])"
   ]
  },
  {
   "cell_type": "code",
   "execution_count": 10,
   "metadata": {
    "pycharm": {
     "name": "#%%\n"
    }
   },
   "outputs": [
    {
     "name": "stdout",
     "output_type": "stream",
     "text": [
      "<class 'dict'>\n",
      "{'key1': 'value1', 'key2': 'value2'}\n",
      "value1\n",
      "key1 --> value1\n",
      "key2 --> value2\n"
     ]
    }
   ],
   "source": [
    "d2 = {}\n",
    "print(type(d2))\n",
    "d2[\"key1\"] = \"value1\"\n",
    "d2[\"key2\"] = \"value2\"\n",
    "print(d2)\n",
    "print(d2[\"key1\"])\n",
    "for k, v in d2.items():\n",
    "    print(f\"{k} --> {v}\")"
   ]
  },
  {
   "cell_type": "code",
   "execution_count": 11,
   "metadata": {
    "pycharm": {
     "name": "#%%\n"
    }
   },
   "outputs": [
    {
     "name": "stdout",
     "output_type": "stream",
     "text": [
      "human\n",
      "Olli --> Oliver Zott, 37, race: blub\n",
      "Leni --> Magdalena Bergmann, 34, race: human\n",
      "Olli -> <__main__.Person object at 0x0000015B5520D780>\n",
      "Leni -> <__main__.Person object at 0x0000015B5520E290>\n"
     ]
    }
   ],
   "source": [
    "class Person:\n",
    "    race = \"human\"\n",
    "    name: str\n",
    "    age: int\n",
    "\n",
    "d3 = {}\n",
    "d3[\"Olli\"] = Person()\n",
    "d3[\"Leni\"] = Person()\n",
    "\n",
    "\n",
    "d3[\"Olli\"].name = \"Oliver Zott\"\n",
    "d3[\"Olli\"].age = 37\n",
    "d3[\"Olli\"].race = \"blub\"\n",
    "\n",
    "\n",
    "d3[\"Leni\"].name = \"Magdalena Bergmann\"\n",
    "d3[\"Leni\"].age = 34\n",
    "\n",
    "print(Person.race)\n",
    "\n",
    "\n",
    "for k, v in d3.items():\n",
    "    print(f\"{k} --> {v.name}, {v.age}, race: {v.race}\")\n",
    "    \n",
    "for k, v in d3.items():\n",
    "    print(f\"{k} -> {v}\")"
   ]
  },
  {
   "cell_type": "markdown",
   "metadata": {
    "pycharm": {
     "name": "#%% md\n"
    }
   },
   "source": [
    "## Tuple"
   ]
  },
  {
   "cell_type": "code",
   "execution_count": 12,
   "metadata": {
    "pycharm": {
     "name": "#%%\n"
    }
   },
   "outputs": [
    {
     "name": "stdout",
     "output_type": "stream",
     "text": [
      "(1, 2, 3)\n",
      "2\n"
     ]
    }
   ],
   "source": [
    "t = (1, 2, 3)\n",
    "print(t)\n",
    "print(t[1])\n",
    "# t[1] = 2  # no item assignment possible (immutable)"
   ]
  },
  {
   "cell_type": "markdown",
   "metadata": {
    "pycharm": {
     "name": "#%% md\n"
    }
   },
   "source": [
    "## Set\n"
   ]
  },
  {
   "cell_type": "code",
   "execution_count": 13,
   "metadata": {
    "pycharm": {
     "name": "#%%\n"
    }
   },
   "outputs": [
    {
     "name": "stdout",
     "output_type": "stream",
     "text": [
      "{1, 2, 3, 5, 7}\n"
     ]
    }
   ],
   "source": [
    "s = {7, 1, 2, 3, 1, 3, 2, 2, 5}\n",
    "print(s)"
   ]
  },
  {
   "cell_type": "markdown",
   "metadata": {
    "pycharm": {
     "name": "#%% md\n"
    }
   },
   "source": [
    "# Part 3 - Conditions, Loops, Functions\n",
    "\n",
    "- if-elif-else\n",
    "\n",
    "- for\n",
    "\n",
    "- while\n",
    "\n",
    "- for-in / range  \n",
    "  - list from range"
   ]
  },
  {
   "cell_type": "code",
   "execution_count": 14,
   "metadata": {
    "pycharm": {
     "name": "#%%\n"
    }
   },
   "outputs": [
    {
     "name": "stdout",
     "output_type": "stream",
     "text": [
      "x(7) is equal to y(7)\n"
     ]
    }
   ],
   "source": [
    "# if - elif - else\n",
    "x, y = 7, 7\n",
    "if x > y:\n",
    "    print(\"x({}) is greater then y({})\".format(x,y))\n",
    "elif y > x :\n",
    "    print(\"x({}) is less then y({})\".format(x,y))\n",
    "else:\n",
    "    print(\"x({}) is equal to y({})\".format(x,y))\n",
    "        "
   ]
  },
  {
   "cell_type": "code",
   "execution_count": 15,
   "metadata": {
    "pycharm": {
     "name": "#%%\n"
    }
   },
   "outputs": [
    {
     "name": "stdout",
     "output_type": "stream",
     "text": [
      "1\n",
      "2\n",
      "3\n",
      "4\n",
      "5\n"
     ]
    }
   ],
   "source": [
    "# for \n",
    "sqe = [1, 2, 3, 4, 5]\n",
    "for val in sqe:\n",
    "    print(val)"
   ]
  },
  {
   "cell_type": "code",
   "execution_count": 16,
   "metadata": {
    "pycharm": {
     "name": "#%%\n"
    }
   },
   "outputs": [
    {
     "name": "stdout",
     "output_type": "stream",
     "text": [
      "i is 1\n",
      "i is 2\n",
      "i is 3\n",
      "i is 4\n"
     ]
    }
   ],
   "source": [
    "# while\n",
    "i = 1\n",
    "while i < 5:\n",
    "    print('i is {}'.format(i))\n",
    "    i += 1"
   ]
  },
  {
   "cell_type": "code",
   "execution_count": 37,
   "metadata": {
    "pycharm": {
     "name": "#%%\n"
    }
   },
   "outputs": [
    {
     "name": "stdout",
     "output_type": "stream",
     "text": [
      "0\n",
      "1\n",
      "2\n",
      "3\n",
      "4\n",
      "range(0, 5)\n"
     ]
    },
    {
     "data": {
      "text/plain": "[0, 1, 2, 3, 4, 5, 6, 7, 8]"
     },
     "execution_count": 37,
     "metadata": {},
     "output_type": "execute_result"
    }
   ],
   "source": [
    "# for-in / range\n",
    "for i in range(5):\n",
    "    print(i)\n",
    "\n",
    "print(range(5))\n",
    "\n",
    "list(range(9))"
   ]
  },
  {
   "cell_type": "markdown",
   "metadata": {
    "tags": [],
    "pycharm": {
     "name": "#%% md\n"
    }
   },
   "source": [
    "### List Comprehension"
   ]
  },
  {
   "cell_type": "code",
   "execution_count": 38,
   "metadata": {
    "tags": [],
    "pycharm": {
     "name": "#%%\n"
    }
   },
   "outputs": [
    {
     "name": "stdout",
     "output_type": "stream",
     "text": [
      "[0, 1, 4, 9, 16]\n"
     ]
    }
   ],
   "source": [
    "# Without list-comprehension\n",
    "\n",
    "x = list(range(5))\n",
    "y = []\n",
    "\n",
    "for item in x:\n",
    "    y.append(item**2)\n",
    "print(y)\n",
    "\n"
   ]
  },
  {
   "cell_type": "code",
   "execution_count": 19,
   "metadata": {
    "tags": [],
    "pycharm": {
     "name": "#%%\n"
    }
   },
   "outputs": [
    {
     "data": {
      "text/plain": "[25, 36, 49, 64, 81, 100, 121]"
     },
     "execution_count": 19,
     "metadata": {},
     "output_type": "execute_result"
    }
   ],
   "source": [
    "# with list-comprehension\n",
    "z = list(range(5, 12))\n",
    "k = [item**2 for item in z]\n",
    "k"
   ]
  },
  {
   "cell_type": "markdown",
   "metadata": {
    "pycharm": {
     "name": "#%% md\n"
    }
   },
   "source": [
    "### Functions\n",
    "\n",
    "INFO: press `Shift + Tab` for Description !!"
   ]
  },
  {
   "cell_type": "code",
   "execution_count": 20,
   "metadata": {
    "pycharm": {
     "name": "#%%\n"
    }
   },
   "outputs": [],
   "source": [
    "def func1 (param1: int = 11) -> None:\n",
    "    \"\"\"\n",
    "    Description:\n",
    "    Just some test-function\n",
    "    \"\"\"\n",
    "    print('Square of {} is {}'.format(param1, param1**2))\n"
   ]
  },
  {
   "cell_type": "code",
   "execution_count": 21,
   "metadata": {
    "pycharm": {
     "name": "#%%\n"
    }
   },
   "outputs": [
    {
     "name": "stdout",
     "output_type": "stream",
     "text": [
      "Square of 11 is 121\n",
      "None\n",
      "Square of 17 is 289\n",
      "None\n"
     ]
    }
   ],
   "source": [
    "print(func1())\n",
    "print(func1(17))"
   ]
  },
  {
   "cell_type": "code",
   "execution_count": 22,
   "metadata": {
    "pycharm": {
     "name": "#%%\n"
    }
   },
   "outputs": [
    {
     "data": {
      "text/plain": "<function __main__.func1(param1: int = 11) -> None>"
     },
     "execution_count": 22,
     "metadata": {},
     "output_type": "execute_result"
    }
   ],
   "source": [
    "# press `Shift + Tab`\n",
    "func1"
   ]
  },
  {
   "cell_type": "markdown",
   "metadata": {
    "pycharm": {
     "name": "#%% md\n"
    }
   },
   "source": [
    "# Part 4 - Lambda Expressions / Map & Filter / Methods"
   ]
  },
  {
   "cell_type": "markdown",
   "metadata": {
    "pycharm": {
     "name": "#%% md\n"
    }
   },
   "source": [
    "### Lamda Expressions"
   ]
  },
  {
   "cell_type": "code",
   "execution_count": 23,
   "metadata": {
    "pycharm": {
     "name": "#%%\n"
    }
   },
   "outputs": [
    {
     "data": {
      "text/plain": "14"
     },
     "execution_count": 23,
     "metadata": {},
     "output_type": "execute_result"
    }
   ],
   "source": [
    "# without lambda-expresion\n",
    "\n",
    "def times2(var):\n",
    "    return var*2\n",
    "\n",
    "times2(7)"
   ]
  },
  {
   "cell_type": "code",
   "execution_count": 24,
   "metadata": {
    "pycharm": {
     "name": "#%%\n"
    }
   },
   "outputs": [
    {
     "data": {
      "text/plain": "24"
     },
     "execution_count": 24,
     "metadata": {},
     "output_type": "execute_result"
    }
   ],
   "source": [
    "# with lambda expression\n",
    "\n",
    "times3 = lambda var: var*3\n",
    "\n",
    "times3(8)"
   ]
  },
  {
   "cell_type": "markdown",
   "metadata": {
    "pycharm": {
     "name": "#%% md\n"
    }
   },
   "source": [
    "### Map & Filter"
   ]
  },
  {
   "cell_type": "code",
   "execution_count": 25,
   "metadata": {
    "pycharm": {
     "name": "#%%\n"
    }
   },
   "outputs": [
    {
     "name": "stdout",
     "output_type": "stream",
     "text": [
      "List 'seq' is: [1, 2, 3, 4, 5, 6, 7, 8]'\n",
      "<class 'range'>\n",
      "<class 'list'>\n"
     ]
    }
   ],
   "source": [
    "seq = range(1, 9)\n",
    "seqList = list(seq)\n",
    "print(\"List 'seq' is: {}'\".format(seqList))\n",
    "print(type(seq))\n",
    "print(type(seqList))"
   ]
  },
  {
   "cell_type": "code",
   "execution_count": 26,
   "metadata": {
    "pycharm": {
     "name": "#%%\n"
    }
   },
   "outputs": [
    {
     "name": "stdout",
     "output_type": "stream",
     "text": [
      "<map object at 0x0000015B5520EE90>\n",
      "[3, 6, 9, 12, 15, 18, 21, 24]\n"
     ]
    }
   ],
   "source": [
    "resultMap = map(times3, seqList)\n",
    "print(resultMap)\n",
    "print(list(resultMap))"
   ]
  },
  {
   "cell_type": "code",
   "execution_count": 27,
   "metadata": {
    "pycharm": {
     "name": "#%%\n"
    }
   },
   "outputs": [
    {
     "name": "stdout",
     "output_type": "stream",
     "text": [
      "[-2, -1, 0, 1, 2, 3, 4, 5]\n"
     ]
    }
   ],
   "source": [
    "# Combine lambda & maps\n",
    "resultLaMa = list(map(lambda var: var-3, seq))\n",
    "print(resultLaMa)"
   ]
  },
  {
   "cell_type": "code",
   "execution_count": 28,
   "metadata": {
    "pycharm": {
     "name": "#%%\n"
    }
   },
   "outputs": [
    {
     "name": "stdout",
     "output_type": "stream",
     "text": [
      "[1, 3, 5, 7]\n"
     ]
    }
   ],
   "source": [
    "# Filter\n",
    "resultLaFi = filter(lambda item: item%2!=0, seq)\n",
    "print(list(resultLaFi))"
   ]
  },
  {
   "cell_type": "markdown",
   "metadata": {
    "pycharm": {
     "name": "#%% md\n"
    }
   },
   "source": [
    "### Standard Methods\n",
    "\n",
    "- upper() / lower()\n",
    "- split\n",
    "- check existence\n",
    "- Iterate Lists"
   ]
  },
  {
   "cell_type": "code",
   "execution_count": 29,
   "metadata": {
    "pycharm": {
     "name": "#%%\n"
    }
   },
   "outputs": [
    {
     "name": "stdout",
     "output_type": "stream",
     "text": [
      "['Hello, ', ' goin on here?']\n",
      "['whats', 'goin', 'on']\n"
     ]
    }
   ],
   "source": [
    "# str method\n",
    "\n",
    "str1 = 'Hello, whats goin on here?'\n",
    "print(str1.split('whats'))\n",
    "print(str1.split()[1:4])"
   ]
  },
  {
   "cell_type": "code",
   "execution_count": 30,
   "metadata": {
    "pycharm": {
     "name": "#%%\n"
    }
   },
   "outputs": [
    {
     "name": "stdout",
     "output_type": "stream",
     "text": [
      "{'key1': {'innerKey': [1, 2, 3]}}\n",
      "dict_keys(['key1'])\n",
      "dict_items([('key1', {'innerKey': [1, 2, 3]})])\n"
     ]
    }
   ],
   "source": [
    "# dict methods\n",
    "\n",
    "print(d)\n",
    "print(d.keys())\n",
    "print(d.items())\n",
    "\n",
    "# use `Shift` to show usable methods "
   ]
  },
  {
   "cell_type": "code",
   "execution_count": 31,
   "metadata": {
    "pycharm": {
     "name": "#%%\n"
    }
   },
   "outputs": [
    {
     "name": "stdout",
     "output_type": "stream",
     "text": [
      "new\n",
      "1\n"
     ]
    }
   ],
   "source": [
    "# pop()\n",
    "\n",
    "lst = [1, 2, 3, 'new']\n",
    "print(lst.pop())\n",
    "print(lst.pop(0))"
   ]
  },
  {
   "cell_type": "code",
   "execution_count": 32,
   "metadata": {
    "pycharm": {
     "name": "#%%\n"
    }
   },
   "outputs": [
    {
     "data": {
      "text/plain": "False"
     },
     "execution_count": 32,
     "metadata": {},
     "output_type": "execute_result"
    }
   ],
   "source": [
    "# check existence\n",
    "x in lst"
   ]
  },
  {
   "cell_type": "code",
   "execution_count": 33,
   "metadata": {
    "pycharm": {
     "name": "#%%\n"
    }
   },
   "outputs": [
    {
     "name": "stdout",
     "output_type": "stream",
     "text": [
      "1\n",
      "2\n",
      "3\n",
      "4\n",
      "5\n",
      "6\n"
     ]
    }
   ],
   "source": [
    "# Iterate Lists\n",
    "\n",
    "x = [(1, 2), (3, 4), (5, 6)]\n",
    "for a, b in x:\n",
    "    print(a)\n",
    "    print(b)"
   ]
  },
  {
   "cell_type": "code",
   "execution_count": 34,
   "metadata": {
    "pycharm": {
     "name": "#%%\n"
    }
   },
   "outputs": [
    {
     "data": {
      "text/plain": "'t'"
     },
     "execution_count": 34,
     "metadata": {},
     "output_type": "execute_result"
    }
   ],
   "source": [
    "word = 'string'\n",
    "word[1]"
   ]
  },
  {
   "cell_type": "code",
   "execution_count": 35,
   "metadata": {
    "pycharm": {
     "name": "#%%\n"
    }
   },
   "outputs": [
    {
     "data": {
      "text/plain": "[6, 7, 8]"
     },
     "execution_count": 35,
     "metadata": {},
     "output_type": "execute_result"
    }
   ],
   "source": [
    "a = [1,2,3]\n",
    "b = map(lambda x: x+5, a)\n",
    "list(b)"
   ]
  },
  {
   "cell_type": "code",
   "execution_count": 35,
   "metadata": {
    "pycharm": {
     "name": "#%%\n"
    }
   },
   "outputs": [],
   "source": []
  }
 ],
 "metadata": {
  "interpreter": {
   "hash": "98d6978f604028959339f584b63f4329fd3a5aaf8c13e2a681597dfd818eefc2"
  },
  "kernelspec": {
   "display_name": "Python 3 (ipykernel)",
   "language": "python",
   "name": "python3"
  },
  "language_info": {
   "codemirror_mode": {
    "name": "ipython",
    "version": 3
   },
   "file_extension": ".py",
   "mimetype": "text/x-python",
   "name": "python",
   "nbconvert_exporter": "python",
   "pygments_lexer": "ipython3",
   "version": "3.8.11"
  }
 },
 "nbformat": 4,
 "nbformat_minor": 4
}