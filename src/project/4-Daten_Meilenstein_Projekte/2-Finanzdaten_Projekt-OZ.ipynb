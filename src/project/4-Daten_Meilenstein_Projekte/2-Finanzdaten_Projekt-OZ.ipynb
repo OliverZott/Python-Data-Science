{
 "cells": [
  {
   "attachments": {},
   "cell_type": "markdown",
   "metadata": {},
   "source": [
    "# Finance Data Project - OZ\n",
    "\n",
    "Prerequisites: `pip install pandas-datareader`"
   ]
  },
  {
   "cell_type": "markdown",
   "metadata": {},
   "source": []
  },
  {
   "cell_type": "code",
   "execution_count": null,
   "metadata": {},
   "outputs": [],
   "source": [
    "from pandas_datareader import data, wb\n",
    "import pandas as pd\n",
    "import numpy as np\n",
    "from datetime import datetime\n",
    "%matplotlib inline\n"
   ]
  },
  {
   "cell_type": "code",
   "execution_count": null,
   "metadata": {},
   "outputs": [],
   "source": [
    "# Data Import\n",
    "\n",
    "# Timespan\n",
    "start_date = datetime(2006, 1, 1)\n",
    "end_date = datetime.now()\n",
    "\n",
    "# bank of america\n",
    "BAC = data.DataReader(\"BAC\", 'stooq', start=start_date, end=end_date)\n",
    "\n",
    "# citigroup\n",
    "C = data.DataReader(\"C\", 'stooq', start=start_date, end=end_date)\n",
    "\n",
    "# goldman sachs\n",
    "GS = data.DataReader(\"GS\", 'stooq', start=start_date, end=end_date)\n",
    "\n",
    "# jpmorgan chase\n",
    "JPM = data.DataReader(\"JPM\", 'stooq', start=start_date, end=end_date)\n",
    "\n",
    "# morgan stanley\n",
    "MS = data.DataReader(\"MS\", 'stooq', start=start_date, end=end_date)\n",
    "\n",
    "# wells fargo\n",
    "WFC = data.DataReader(\"WFC\", 'stooq', start=start_date, end=end_date)\n",
    "\n",
    "# display(BAC.head())\n",
    "# display(BAC.info())\n",
    "# display(BAC)\n"
   ]
  },
  {
   "cell_type": "code",
   "execution_count": null,
   "metadata": {},
   "outputs": [],
   "source": [
    "tickers = ['BAC', 'C', 'GS', 'JPM', 'MS', 'WFC']\n",
    "tickers.sort()\n"
   ]
  },
  {
   "cell_type": "code",
   "execution_count": null,
   "metadata": {},
   "outputs": [],
   "source": [
    "bank_stocks = pd.concat([BAC, C, GS, JPM, MS, WFC], keys=tickers, axis=1)\n",
    "# bank_stocks.tail()\n"
   ]
  },
  {
   "cell_type": "code",
   "execution_count": null,
   "metadata": {},
   "outputs": [],
   "source": [
    "bank_stocks.columns.names = ['Bank Ticker','Stock Info']\n",
    "display(bank_stocks.tail())\n",
    "display(bank_stocks.columns)\n",
    "display(bank_stocks.index)\n",
    "\n"
   ]
  },
  {
   "cell_type": "code",
   "execution_count": null,
   "metadata": {},
   "outputs": [],
   "source": [
    "index = bank_stocks.index\n",
    "cols = bank_stocks.columns\n",
    "index.get_level_values(0)\n",
    "cols.get_level_values(0)\n",
    "cols.get_level_values(1)"
   ]
  },
  {
   "cell_type": "code",
   "execution_count": null,
   "metadata": {},
   "outputs": [],
   "source": [
    "bank_stocks_inv = pd.DataFrame(bank_stocks, columns=index[:3])\n",
    "bank_stocks_inv.head()"
   ]
  },
  {
   "cell_type": "code",
   "execution_count": null,
   "metadata": {},
   "outputs": [],
   "source": []
  },
  {
   "cell_type": "code",
   "execution_count": null,
   "metadata": {},
   "outputs": [],
   "source": []
  },
  {
   "cell_type": "code",
   "execution_count": null,
   "metadata": {},
   "outputs": [],
   "source": []
  },
  {
   "cell_type": "code",
   "execution_count": null,
   "metadata": {},
   "outputs": [],
   "source": [
    "BAC[\"Close\"].plot(figsize=(12,8), title=\"Bank of America Stock Price\")"
   ]
  },
  {
   "cell_type": "code",
   "execution_count": null,
   "metadata": {},
   "outputs": [],
   "source": []
  }
 ],
 "metadata": {
  "kernelspec": {
   "display_name": "venv",
   "language": "python",
   "name": "python3"
  },
  "language_info": {
   "codemirror_mode": {
    "name": "ipython",
    "version": 3
   },
   "file_extension": ".py",
   "mimetype": "text/x-python",
   "name": "python",
   "nbconvert_exporter": "python",
   "pygments_lexer": "ipython3",
   "version": "3.11.2"
  },
  "orig_nbformat": 4
 },
 "nbformat": 4,
 "nbformat_minor": 2
}
