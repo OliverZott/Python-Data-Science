{
 "cells": [
  {
   "cell_type": "markdown",
   "metadata": {
    "pycharm": {
     "name": "#%% md\n"
    }
   },
   "source": [
    "# 911 Anrufe Projekt - Aufgabe\n",
    "\n",
    "Für dieses Meilensteinprojekt analysieren wir daren von Anrufen die bei der amerikanischen Polizei (am. Rufnummer: 911) eingehen. Dieser Datensatz wird bei [Kaggle](https://www.kaggle.com/mchirico/montcoalert) bereitgestellt. Er beinhaltet die folgenden Felder:\n",
    "\n",
    "* lat: String Variable, Breitengrad\n",
    "* lng: String Variable, Längengrad\n",
    "* desc: String Variable, Beschreibung des Notrufs\n",
    "* zip: String Variable, Postleitzahl\n",
    "* title: String Variable, Titel\n",
    "* timeStamp: String Variable, Zeit: YYYY-MM-DD HH:MM:SS\n",
    "* twp: String Variable, Gemeinde\n",
    "* addr: String Variable, Addresse\n",
    "* e: String Variable, Dummy Variable (immer 1)\n",
    "\n",
    "Folge jetzt dem Notebook und versuche alle Aufgaben zu lösen oder Fragen zu beantworten. Vertraut auf eure Python und Data Science Fähigkeiten!\n",
    "\n",
    "## Daten und Vorbereitungen\n",
    "\n",
    "**Importiere Numpy und Pandas.**"
   ]
  },
  {
   "cell_type": "code",
   "execution_count": 131,
   "metadata": {
    "collapsed": true,
    "pycharm": {
     "name": "#%%\n"
    }
   },
   "outputs": [],
   "source": [
    "import pandas as pd\n",
    "import numpy as np\n",
    "import seaborn as sns\n",
    "\n",
    "# show full output\n",
    "from IPython.core.interactiveshell import InteractiveShell\n",
    "\n",
    "InteractiveShell.ast_node_interactivity = \"all\""
   ]
  },
  {
   "cell_type": "markdown",
   "metadata": {
    "pycharm": {
     "name": "#%% md\n"
    }
   },
   "source": [
    "**Importiere Visualisierungs-Librarys und nutze %matplotlib inline.**"
   ]
  },
  {
   "cell_type": "code",
   "execution_count": 132,
   "metadata": {
    "collapsed": true,
    "pycharm": {
     "name": "#%%\n"
    }
   },
   "outputs": [
    {
     "name": "stderr",
     "output_type": "stream",
     "text": [
      "UsageError: Line magic function `%` not found.\n"
     ]
    }
   ],
   "source": [
    "import matplotlib.pyplot as plt\n",
    "% matplotlib inline\n"
   ]
  },
  {
   "cell_type": "markdown",
   "metadata": {
    "pycharm": {
     "name": "#%% md\n"
    }
   },
   "source": [
    "**Lese das \"911.csv\" als DataFrame mit Namen df ein.**"
   ]
  },
  {
   "cell_type": "code",
   "execution_count": 133,
   "metadata": {
    "collapsed": true,
    "pycharm": {
     "name": "#%%\n"
    }
   },
   "outputs": [],
   "source": [
    "df = pd.read_csv(\"../../../data/911.csv\")"
   ]
  },
  {
   "cell_type": "markdown",
   "metadata": {
    "pycharm": {
     "name": "#%% md\n"
    }
   },
   "source": [
    "**Schaue dir die Infos zum DataFrame an.**"
   ]
  },
  {
   "cell_type": "code",
   "execution_count": 134,
   "metadata": {
    "pycharm": {
     "name": "#%%\n"
    }
   },
   "outputs": [
    {
     "name": "stdout",
     "output_type": "stream",
     "text": [
      "<class 'pandas.core.frame.DataFrame'>\n",
      "RangeIndex: 99492 entries, 0 to 99491\n",
      "Data columns (total 9 columns):\n",
      " #   Column     Non-Null Count  Dtype  \n",
      "---  ------     --------------  -----  \n",
      " 0   lat        99492 non-null  float64\n",
      " 1   lng        99492 non-null  float64\n",
      " 2   desc       99492 non-null  object \n",
      " 3   zip        86637 non-null  float64\n",
      " 4   title      99492 non-null  object \n",
      " 5   timeStamp  99492 non-null  object \n",
      " 6   twp        99449 non-null  object \n",
      " 7   addr       98973 non-null  object \n",
      " 8   e          99492 non-null  int64  \n",
      "dtypes: float64(3), int64(1), object(5)\n",
      "memory usage: 6.8+ MB\n"
     ]
    }
   ],
   "source": [
    "df.info()"
   ]
  },
  {
   "cell_type": "markdown",
   "metadata": {
    "pycharm": {
     "name": "#%% md\n"
    }
   },
   "source": [
    "**Schaue dir den Tabellenkopf an.**"
   ]
  },
  {
   "cell_type": "code",
   "execution_count": 135,
   "metadata": {
    "pycharm": {
     "name": "#%%\n"
    }
   },
   "outputs": [
    {
     "data": {
      "text/plain": "         lat        lng                                               desc  \\\n0  40.297876 -75.581294  REINDEER CT & DEAD END;  NEW HANOVER; Station ...   \n1  40.258061 -75.264680  BRIAR PATH & WHITEMARSH LN;  HATFIELD TOWNSHIP...   \n2  40.121182 -75.351975  HAWS AVE; NORRISTOWN; 2015-12-10 @ 14:39:21-St...   \n3  40.116153 -75.343513  AIRY ST & SWEDE ST;  NORRISTOWN; Station 308A;...   \n4  40.251492 -75.603350  CHERRYWOOD CT & DEAD END;  LOWER POTTSGROVE; S...   \n\n       zip                    title            timeStamp                twp  \\\n0  19525.0   EMS: BACK PAINS/INJURY  2015-12-10 17:40:00        NEW HANOVER   \n1  19446.0  EMS: DIABETIC EMERGENCY  2015-12-10 17:40:00  HATFIELD TOWNSHIP   \n2  19401.0      Fire: GAS-ODOR/LEAK  2015-12-10 17:40:00         NORRISTOWN   \n3  19401.0   EMS: CARDIAC EMERGENCY  2015-12-10 17:40:01         NORRISTOWN   \n4      NaN           EMS: DIZZINESS  2015-12-10 17:40:01   LOWER POTTSGROVE   \n\n                         addr  e  \n0      REINDEER CT & DEAD END  1  \n1  BRIAR PATH & WHITEMARSH LN  1  \n2                    HAWS AVE  1  \n3          AIRY ST & SWEDE ST  1  \n4    CHERRYWOOD CT & DEAD END  1  ",
      "text/html": "<div>\n<style scoped>\n    .dataframe tbody tr th:only-of-type {\n        vertical-align: middle;\n    }\n\n    .dataframe tbody tr th {\n        vertical-align: top;\n    }\n\n    .dataframe thead th {\n        text-align: right;\n    }\n</style>\n<table border=\"1\" class=\"dataframe\">\n  <thead>\n    <tr style=\"text-align: right;\">\n      <th></th>\n      <th>lat</th>\n      <th>lng</th>\n      <th>desc</th>\n      <th>zip</th>\n      <th>title</th>\n      <th>timeStamp</th>\n      <th>twp</th>\n      <th>addr</th>\n      <th>e</th>\n    </tr>\n  </thead>\n  <tbody>\n    <tr>\n      <th>0</th>\n      <td>40.297876</td>\n      <td>-75.581294</td>\n      <td>REINDEER CT &amp; DEAD END;  NEW HANOVER; Station ...</td>\n      <td>19525.0</td>\n      <td>EMS: BACK PAINS/INJURY</td>\n      <td>2015-12-10 17:40:00</td>\n      <td>NEW HANOVER</td>\n      <td>REINDEER CT &amp; DEAD END</td>\n      <td>1</td>\n    </tr>\n    <tr>\n      <th>1</th>\n      <td>40.258061</td>\n      <td>-75.264680</td>\n      <td>BRIAR PATH &amp; WHITEMARSH LN;  HATFIELD TOWNSHIP...</td>\n      <td>19446.0</td>\n      <td>EMS: DIABETIC EMERGENCY</td>\n      <td>2015-12-10 17:40:00</td>\n      <td>HATFIELD TOWNSHIP</td>\n      <td>BRIAR PATH &amp; WHITEMARSH LN</td>\n      <td>1</td>\n    </tr>\n    <tr>\n      <th>2</th>\n      <td>40.121182</td>\n      <td>-75.351975</td>\n      <td>HAWS AVE; NORRISTOWN; 2015-12-10 @ 14:39:21-St...</td>\n      <td>19401.0</td>\n      <td>Fire: GAS-ODOR/LEAK</td>\n      <td>2015-12-10 17:40:00</td>\n      <td>NORRISTOWN</td>\n      <td>HAWS AVE</td>\n      <td>1</td>\n    </tr>\n    <tr>\n      <th>3</th>\n      <td>40.116153</td>\n      <td>-75.343513</td>\n      <td>AIRY ST &amp; SWEDE ST;  NORRISTOWN; Station 308A;...</td>\n      <td>19401.0</td>\n      <td>EMS: CARDIAC EMERGENCY</td>\n      <td>2015-12-10 17:40:01</td>\n      <td>NORRISTOWN</td>\n      <td>AIRY ST &amp; SWEDE ST</td>\n      <td>1</td>\n    </tr>\n    <tr>\n      <th>4</th>\n      <td>40.251492</td>\n      <td>-75.603350</td>\n      <td>CHERRYWOOD CT &amp; DEAD END;  LOWER POTTSGROVE; S...</td>\n      <td>NaN</td>\n      <td>EMS: DIZZINESS</td>\n      <td>2015-12-10 17:40:01</td>\n      <td>LOWER POTTSGROVE</td>\n      <td>CHERRYWOOD CT &amp; DEAD END</td>\n      <td>1</td>\n    </tr>\n  </tbody>\n</table>\n</div>"
     },
     "execution_count": 135,
     "metadata": {},
     "output_type": "execute_result"
    }
   ],
   "source": [
    "df.head()"
   ]
  },
  {
   "cell_type": "markdown",
   "metadata": {
    "pycharm": {
     "name": "#%% md\n"
    }
   },
   "source": [
    "## Grundlegende Fragen\n",
    "\n",
    "**Was sind die Top 5 Postleitzahlen (en. zipcodes) mit Notrufen?**"
   ]
  },
  {
   "cell_type": "code",
   "execution_count": 136,
   "metadata": {
    "pycharm": {
     "name": "#%%\n"
    }
   },
   "outputs": [
    {
     "data": {
      "text/plain": "lat          14579\nlng          14586\ndesc         99455\nzip            104\ntitle          110\ntimeStamp    72577\ntwp             68\naddr         21914\ne                1\ndtype: int64"
     },
     "execution_count": 136,
     "metadata": {},
     "output_type": "execute_result"
    },
    {
     "data": {
      "text/plain": "19401.0    6979\n19464.0    6643\n19403.0    4854\n19446.0    4748\n19406.0    3174\nName: zip, dtype: int64"
     },
     "execution_count": 136,
     "metadata": {},
     "output_type": "execute_result"
    }
   ],
   "source": [
    "df.nunique()\n",
    "df[\"zip\"].value_counts().head()"
   ]
  },
  {
   "cell_type": "markdown",
   "metadata": {
    "pycharm": {
     "name": "#%% md\n"
    }
   },
   "source": [
    "**Was sind die Top 5 Gemeinden (en. township (twp)) mit Notrufen?**"
   ]
  },
  {
   "cell_type": "code",
   "execution_count": 137,
   "metadata": {
    "pycharm": {
     "name": "#%%\n"
    }
   },
   "outputs": [
    {
     "data": {
      "text/plain": "LOWER MERION    8443\nABINGTON        5977\nNORRISTOWN      5890\nUPPER MERION    5227\nCHELTENHAM      4575\nName: twp, dtype: int64"
     },
     "execution_count": 137,
     "metadata": {},
     "output_type": "execute_result"
    }
   ],
   "source": [
    "df[\"twp\"].value_counts().head()"
   ]
  },
  {
   "cell_type": "markdown",
   "metadata": {
    "pycharm": {
     "name": "#%% md\n"
    }
   },
   "source": [
    "**Schaue dir die \"title\" Spalte an; wie viele einzigartige Einträge gibt es?**"
   ]
  },
  {
   "cell_type": "code",
   "execution_count": 138,
   "metadata": {
    "pycharm": {
     "name": "#%%\n"
    }
   },
   "outputs": [
    {
     "data": {
      "text/plain": "110"
     },
     "execution_count": 138,
     "metadata": {},
     "output_type": "execute_result"
    }
   ],
   "source": [
    "df[\"title\"].nunique()"
   ]
  },
  {
   "cell_type": "code",
   "execution_count": 139,
   "outputs": [
    {
     "data": {
      "text/plain": "lat          14579\nlng          14586\ndesc         99455\nzip            104\ntitle          110\ntimeStamp    72577\ntwp             68\naddr         21914\ne                1\ndtype: int64"
     },
     "execution_count": 139,
     "metadata": {},
     "output_type": "execute_result"
    }
   ],
   "source": [
    "df.nunique()"
   ],
   "metadata": {
    "collapsed": false,
    "pycharm": {
     "name": "#%%\n"
    }
   }
  },
  {
   "cell_type": "markdown",
   "metadata": {
    "pycharm": {
     "name": "#%% md\n"
    }
   },
   "source": [
    "## Neue Features hinzufügen\n",
    "### New columns with lambdas\n",
    "\n",
    "\n",
    "**In der Titelspalte, sind \"Gründe/Zuständigkeiten\" vor dem Titelcode spezifiziert. Diese lauten \"EMS\", \"Fire\" und \"Traffic\". Nutze `.apply()` mit einer selbsterstellten lambda Funktion, um eine neue Spalte namens \"Reason\" (dt. Grund) zu erstellen, die diesen String enthält.**\n",
    "\n",
    "Zum Beispiel, wenn der Titel \"EMS: BACK PAINS/INJURY\" lautet, dann soll in der Spalte für den Grund \"EMS\" stehen."
   ]
  },
  {
   "cell_type": "code",
   "execution_count": 140,
   "metadata": {
    "pycharm": {
     "name": "#%%\n"
    }
   },
   "outputs": [
    {
     "data": {
      "text/plain": "             lat        lng  \\\n0      40.297876 -75.581294   \n1      40.258061 -75.264680   \n2      40.121182 -75.351975   \n3      40.116153 -75.343513   \n4      40.251492 -75.603350   \n...          ...        ...   \n99487  40.132869 -75.333515   \n99488  40.006974 -75.289080   \n99489  40.115429 -75.334679   \n99490  40.186431 -75.192555   \n99491  40.207055 -75.317952   \n\n                                                    desc      zip  \\\n0      REINDEER CT & DEAD END;  NEW HANOVER; Station ...  19525.0   \n1      BRIAR PATH & WHITEMARSH LN;  HATFIELD TOWNSHIP...  19446.0   \n2      HAWS AVE; NORRISTOWN; 2015-12-10 @ 14:39:21-St...  19401.0   \n3      AIRY ST & SWEDE ST;  NORRISTOWN; Station 308A;...  19401.0   \n4      CHERRYWOOD CT & DEAD END;  LOWER POTTSGROVE; S...      NaN   \n...                                                  ...      ...   \n99487  MARKLEY ST & W LOGAN ST; NORRISTOWN; 2016-08-2...  19401.0   \n99488  LANCASTER AVE & RITTENHOUSE PL; LOWER MERION; ...  19003.0   \n99489  CHESTNUT ST & WALNUT ST;  NORRISTOWN; Station ...  19401.0   \n99490  WELSH RD & WEBSTER LN;  HORSHAM; Station 352; ...  19002.0   \n99491  MORRIS RD & S BROAD ST; UPPER GWYNEDD; 2016-08...  19446.0   \n\n                             title            timeStamp                twp  \\\n0           EMS: BACK PAINS/INJURY  2015-12-10 17:40:00        NEW HANOVER   \n1          EMS: DIABETIC EMERGENCY  2015-12-10 17:40:00  HATFIELD TOWNSHIP   \n2              Fire: GAS-ODOR/LEAK  2015-12-10 17:40:00         NORRISTOWN   \n3           EMS: CARDIAC EMERGENCY  2015-12-10 17:40:01         NORRISTOWN   \n4                   EMS: DIZZINESS  2015-12-10 17:40:01   LOWER POTTSGROVE   \n...                            ...                  ...                ...   \n99487  Traffic: VEHICLE ACCIDENT -  2016-08-24 11:06:00         NORRISTOWN   \n99488  Traffic: VEHICLE ACCIDENT -  2016-08-24 11:07:02       LOWER MERION   \n99489             EMS: FALL VICTIM  2016-08-24 11:12:00         NORRISTOWN   \n99490         EMS: NAUSEA/VOMITING  2016-08-24 11:17:01            HORSHAM   \n99491  Traffic: VEHICLE ACCIDENT -  2016-08-24 11:17:02      UPPER GWYNEDD   \n\n                                 addr  e   reason  \n0              REINDEER CT & DEAD END  1      EMS  \n1          BRIAR PATH & WHITEMARSH LN  1      EMS  \n2                            HAWS AVE  1     Fire  \n3                  AIRY ST & SWEDE ST  1      EMS  \n4            CHERRYWOOD CT & DEAD END  1      EMS  \n...                               ... ..      ...  \n99487         MARKLEY ST & W LOGAN ST  1  Traffic  \n99488  LANCASTER AVE & RITTENHOUSE PL  1  Traffic  \n99489         CHESTNUT ST & WALNUT ST  1      EMS  \n99490           WELSH RD & WEBSTER LN  1      EMS  \n99491          MORRIS RD & S BROAD ST  1  Traffic  \n\n[99492 rows x 10 columns]",
      "text/html": "<div>\n<style scoped>\n    .dataframe tbody tr th:only-of-type {\n        vertical-align: middle;\n    }\n\n    .dataframe tbody tr th {\n        vertical-align: top;\n    }\n\n    .dataframe thead th {\n        text-align: right;\n    }\n</style>\n<table border=\"1\" class=\"dataframe\">\n  <thead>\n    <tr style=\"text-align: right;\">\n      <th></th>\n      <th>lat</th>\n      <th>lng</th>\n      <th>desc</th>\n      <th>zip</th>\n      <th>title</th>\n      <th>timeStamp</th>\n      <th>twp</th>\n      <th>addr</th>\n      <th>e</th>\n      <th>reason</th>\n    </tr>\n  </thead>\n  <tbody>\n    <tr>\n      <th>0</th>\n      <td>40.297876</td>\n      <td>-75.581294</td>\n      <td>REINDEER CT &amp; DEAD END;  NEW HANOVER; Station ...</td>\n      <td>19525.0</td>\n      <td>EMS: BACK PAINS/INJURY</td>\n      <td>2015-12-10 17:40:00</td>\n      <td>NEW HANOVER</td>\n      <td>REINDEER CT &amp; DEAD END</td>\n      <td>1</td>\n      <td>EMS</td>\n    </tr>\n    <tr>\n      <th>1</th>\n      <td>40.258061</td>\n      <td>-75.264680</td>\n      <td>BRIAR PATH &amp; WHITEMARSH LN;  HATFIELD TOWNSHIP...</td>\n      <td>19446.0</td>\n      <td>EMS: DIABETIC EMERGENCY</td>\n      <td>2015-12-10 17:40:00</td>\n      <td>HATFIELD TOWNSHIP</td>\n      <td>BRIAR PATH &amp; WHITEMARSH LN</td>\n      <td>1</td>\n      <td>EMS</td>\n    </tr>\n    <tr>\n      <th>2</th>\n      <td>40.121182</td>\n      <td>-75.351975</td>\n      <td>HAWS AVE; NORRISTOWN; 2015-12-10 @ 14:39:21-St...</td>\n      <td>19401.0</td>\n      <td>Fire: GAS-ODOR/LEAK</td>\n      <td>2015-12-10 17:40:00</td>\n      <td>NORRISTOWN</td>\n      <td>HAWS AVE</td>\n      <td>1</td>\n      <td>Fire</td>\n    </tr>\n    <tr>\n      <th>3</th>\n      <td>40.116153</td>\n      <td>-75.343513</td>\n      <td>AIRY ST &amp; SWEDE ST;  NORRISTOWN; Station 308A;...</td>\n      <td>19401.0</td>\n      <td>EMS: CARDIAC EMERGENCY</td>\n      <td>2015-12-10 17:40:01</td>\n      <td>NORRISTOWN</td>\n      <td>AIRY ST &amp; SWEDE ST</td>\n      <td>1</td>\n      <td>EMS</td>\n    </tr>\n    <tr>\n      <th>4</th>\n      <td>40.251492</td>\n      <td>-75.603350</td>\n      <td>CHERRYWOOD CT &amp; DEAD END;  LOWER POTTSGROVE; S...</td>\n      <td>NaN</td>\n      <td>EMS: DIZZINESS</td>\n      <td>2015-12-10 17:40:01</td>\n      <td>LOWER POTTSGROVE</td>\n      <td>CHERRYWOOD CT &amp; DEAD END</td>\n      <td>1</td>\n      <td>EMS</td>\n    </tr>\n    <tr>\n      <th>...</th>\n      <td>...</td>\n      <td>...</td>\n      <td>...</td>\n      <td>...</td>\n      <td>...</td>\n      <td>...</td>\n      <td>...</td>\n      <td>...</td>\n      <td>...</td>\n      <td>...</td>\n    </tr>\n    <tr>\n      <th>99487</th>\n      <td>40.132869</td>\n      <td>-75.333515</td>\n      <td>MARKLEY ST &amp; W LOGAN ST; NORRISTOWN; 2016-08-2...</td>\n      <td>19401.0</td>\n      <td>Traffic: VEHICLE ACCIDENT -</td>\n      <td>2016-08-24 11:06:00</td>\n      <td>NORRISTOWN</td>\n      <td>MARKLEY ST &amp; W LOGAN ST</td>\n      <td>1</td>\n      <td>Traffic</td>\n    </tr>\n    <tr>\n      <th>99488</th>\n      <td>40.006974</td>\n      <td>-75.289080</td>\n      <td>LANCASTER AVE &amp; RITTENHOUSE PL; LOWER MERION; ...</td>\n      <td>19003.0</td>\n      <td>Traffic: VEHICLE ACCIDENT -</td>\n      <td>2016-08-24 11:07:02</td>\n      <td>LOWER MERION</td>\n      <td>LANCASTER AVE &amp; RITTENHOUSE PL</td>\n      <td>1</td>\n      <td>Traffic</td>\n    </tr>\n    <tr>\n      <th>99489</th>\n      <td>40.115429</td>\n      <td>-75.334679</td>\n      <td>CHESTNUT ST &amp; WALNUT ST;  NORRISTOWN; Station ...</td>\n      <td>19401.0</td>\n      <td>EMS: FALL VICTIM</td>\n      <td>2016-08-24 11:12:00</td>\n      <td>NORRISTOWN</td>\n      <td>CHESTNUT ST &amp; WALNUT ST</td>\n      <td>1</td>\n      <td>EMS</td>\n    </tr>\n    <tr>\n      <th>99490</th>\n      <td>40.186431</td>\n      <td>-75.192555</td>\n      <td>WELSH RD &amp; WEBSTER LN;  HORSHAM; Station 352; ...</td>\n      <td>19002.0</td>\n      <td>EMS: NAUSEA/VOMITING</td>\n      <td>2016-08-24 11:17:01</td>\n      <td>HORSHAM</td>\n      <td>WELSH RD &amp; WEBSTER LN</td>\n      <td>1</td>\n      <td>EMS</td>\n    </tr>\n    <tr>\n      <th>99491</th>\n      <td>40.207055</td>\n      <td>-75.317952</td>\n      <td>MORRIS RD &amp; S BROAD ST; UPPER GWYNEDD; 2016-08...</td>\n      <td>19446.0</td>\n      <td>Traffic: VEHICLE ACCIDENT -</td>\n      <td>2016-08-24 11:17:02</td>\n      <td>UPPER GWYNEDD</td>\n      <td>MORRIS RD &amp; S BROAD ST</td>\n      <td>1</td>\n      <td>Traffic</td>\n    </tr>\n  </tbody>\n</table>\n<p>99492 rows × 10 columns</p>\n</div>"
     },
     "execution_count": 140,
     "metadata": {},
     "output_type": "execute_result"
    }
   ],
   "source": [
    "df[\"reason\"] = df[\"title\"].apply(lambda x: x.split(':')[0])\n",
    "df"
   ]
  },
  {
   "cell_type": "markdown",
   "metadata": {
    "pycharm": {
     "name": "#%% md\n"
    }
   },
   "source": [
    "**Was ist der häufigste Grund für Notrufe (basiert auf der neuen Spalte)?**"
   ]
  },
  {
   "cell_type": "code",
   "execution_count": 141,
   "metadata": {
    "pycharm": {
     "name": "#%%\n"
    }
   },
   "outputs": [
    {
     "data": {
      "text/plain": "48877"
     },
     "execution_count": 141,
     "metadata": {},
     "output_type": "execute_result"
    },
    {
     "data": {
      "text/plain": "EMS        48877\nTraffic    35695\nFire       14920\nName: reason, dtype: int64"
     },
     "execution_count": 141,
     "metadata": {},
     "output_type": "execute_result"
    }
   ],
   "source": [
    "df['reason'].value_counts().max()\n",
    "df['reason'].value_counts()"
   ]
  },
  {
   "cell_type": "markdown",
   "metadata": {
    "pycharm": {
     "name": "#%% md\n"
    }
   },
   "source": [
    "**Nutze jetzt Seaborn um ein `countplot` der Gründe für Notrufe zu erstellen.**"
   ]
  },
  {
   "cell_type": "code",
   "execution_count": 142,
   "metadata": {
    "collapsed": true,
    "pycharm": {
     "name": "#%%\n"
    }
   },
   "outputs": [
    {
     "data": {
      "text/plain": "<AxesSubplot:xlabel='reason', ylabel='count'>"
     },
     "execution_count": 142,
     "metadata": {},
     "output_type": "execute_result"
    },
    {
     "data": {
      "text/plain": "<Figure size 432x288 with 1 Axes>",
      "image/png": "[encoded data removed]"
     },
     "metadata": {
      "needs_background": "light"
     },
     "output_type": "display_data"
    }
   ],
   "source": [
    "sns.countplot(x='reason', data=df)"
   ]
  },
  {
   "cell_type": "markdown",
   "metadata": {
    "pycharm": {
     "name": "#%% md\n"
    }
   },
   "source": [
    "### Timestamp converting\n",
    "**Jetzt werden wir uns mehr auf die Zeitinformationen konzentrieren. Welchen Datentyp haben die Objekte in der *timestamp* Spalte?**"
   ]
  },
  {
   "cell_type": "code",
   "execution_count": 143,
   "metadata": {
    "pycharm": {
     "name": "#%%\n"
    }
   },
   "outputs": [
    {
     "data": {
      "text/plain": "str"
     },
     "execution_count": 143,
     "metadata": {},
     "output_type": "execute_result"
    },
    {
     "data": {
      "text/plain": "lat          float64\nlng          float64\ndesc          object\nzip          float64\ntitle         object\ntimeStamp     object\ntwp           object\naddr          object\ne              int64\nreason        object\ndtype: object"
     },
     "execution_count": 143,
     "metadata": {},
     "output_type": "execute_result"
    },
    {
     "data": {
      "text/plain": "'2015-12-10 17:40:00'"
     },
     "execution_count": 143,
     "metadata": {},
     "output_type": "execute_result"
    },
    {
     "data": {
      "text/plain": "'2015-12-10 17:40:00'"
     },
     "execution_count": 143,
     "metadata": {},
     "output_type": "execute_result"
    }
   ],
   "source": [
    "type(df['timeStamp'][0])\n",
    "\n",
    "df.dtypes\n",
    "df['timeStamp'][0]\n",
    "df['timeStamp'].iloc[0]"
   ]
  },
  {
   "cell_type": "markdown",
   "metadata": {
    "pycharm": {
     "name": "#%% md\n"
    }
   },
   "source": [
    "**Das Ergebnis der vorherigen Aufgabe sollte zeigen, dass diese Zeitinformation noch als String vorliegt. Nutze `pd.to_datetime`([Dokumentation](http://pandas.pydata.org/pandas-docs/stable/generated/pandas.to_datetime.html)), um diese Spalte vom String zum DateTime Datentyp zu ändern.**"
   ]
  },
  {
   "cell_type": "code",
   "execution_count": 144,
   "metadata": {
    "pycharm": {
     "name": "#%%\n"
    }
   },
   "outputs": [
    {
     "data": {
      "text/plain": "pandas._libs.tslibs.timestamps.Timestamp"
     },
     "execution_count": 144,
     "metadata": {},
     "output_type": "execute_result"
    },
    {
     "data": {
      "text/plain": "lat                 float64\nlng                 float64\ndesc                 object\nzip                 float64\ntitle                object\ntimeStamp    datetime64[ns]\ntwp                  object\naddr                 object\ne                     int64\nreason               object\ndtype: object"
     },
     "execution_count": 144,
     "metadata": {},
     "output_type": "execute_result"
    }
   ],
   "source": [
    "df['timeStamp'] = pd.to_datetime(df['timeStamp'])\n",
    "type(df['timeStamp'][0])\n",
    "df.dtypes"
   ]
  },
  {
   "cell_type": "markdown",
   "metadata": {
    "pycharm": {
     "name": "#%% md\n"
    }
   },
   "source": [
    "**Jetzt können wir spezifische Attribute des DateTime-Objekts abrufen, indem wir sie aufrufen. Zum Beispiel:**\n",
    "\n",
    "    time = df['timeStamp'].iloc[0]\n",
    "    time.hour\n",
    "    \n",
    "Durch Jupyters *Tab-Funktion* lassen sich alle Attribute erkunden, die wir auf \"time\" anwenden könnten.\n",
    "\n",
    "**Unsere Zeitinformationen liegen jetzt als DateTime Objekt vor. Nutze .apply() um 3 neue Spalten mit Namen \"Hour\" (dt. Stunde), \"Month\" (dt. Monat) und \"Day of Week\" (dt. Wochentag). Dazu bietet sich am besten die \"timeStamp\" Spalte an. Falls Schwierigkeiten beim Coden auftreten kannst du auf die Lösung zurückgreifen.**"
   ]
  },
  {
   "cell_type": "code",
   "execution_count": 145,
   "metadata": {
    "pycharm": {
     "name": "#%%\n"
    }
   },
   "outputs": [
    {
     "data": {
      "text/plain": "             lat        lng  \\\n0      40.297876 -75.581294   \n1      40.258061 -75.264680   \n2      40.121182 -75.351975   \n3      40.116153 -75.343513   \n4      40.251492 -75.603350   \n...          ...        ...   \n99487  40.132869 -75.333515   \n99488  40.006974 -75.289080   \n99489  40.115429 -75.334679   \n99490  40.186431 -75.192555   \n99491  40.207055 -75.317952   \n\n                                                    desc      zip  \\\n0      REINDEER CT & DEAD END;  NEW HANOVER; Station ...  19525.0   \n1      BRIAR PATH & WHITEMARSH LN;  HATFIELD TOWNSHIP...  19446.0   \n2      HAWS AVE; NORRISTOWN; 2015-12-10 @ 14:39:21-St...  19401.0   \n3      AIRY ST & SWEDE ST;  NORRISTOWN; Station 308A;...  19401.0   \n4      CHERRYWOOD CT & DEAD END;  LOWER POTTSGROVE; S...      NaN   \n...                                                  ...      ...   \n99487  MARKLEY ST & W LOGAN ST; NORRISTOWN; 2016-08-2...  19401.0   \n99488  LANCASTER AVE & RITTENHOUSE PL; LOWER MERION; ...  19003.0   \n99489  CHESTNUT ST & WALNUT ST;  NORRISTOWN; Station ...  19401.0   \n99490  WELSH RD & WEBSTER LN;  HORSHAM; Station 352; ...  19002.0   \n99491  MORRIS RD & S BROAD ST; UPPER GWYNEDD; 2016-08...  19446.0   \n\n                             title           timeStamp                twp  \\\n0           EMS: BACK PAINS/INJURY 2015-12-10 17:40:00        NEW HANOVER   \n1          EMS: DIABETIC EMERGENCY 2015-12-10 17:40:00  HATFIELD TOWNSHIP   \n2              Fire: GAS-ODOR/LEAK 2015-12-10 17:40:00         NORRISTOWN   \n3           EMS: CARDIAC EMERGENCY 2015-12-10 17:40:01         NORRISTOWN   \n4                   EMS: DIZZINESS 2015-12-10 17:40:01   LOWER POTTSGROVE   \n...                            ...                 ...                ...   \n99487  Traffic: VEHICLE ACCIDENT - 2016-08-24 11:06:00         NORRISTOWN   \n99488  Traffic: VEHICLE ACCIDENT - 2016-08-24 11:07:02       LOWER MERION   \n99489             EMS: FALL VICTIM 2016-08-24 11:12:00         NORRISTOWN   \n99490         EMS: NAUSEA/VOMITING 2016-08-24 11:17:01            HORSHAM   \n99491  Traffic: VEHICLE ACCIDENT - 2016-08-24 11:17:02      UPPER GWYNEDD   \n\n                                 addr  e   reason  hour  month  day  \n0              REINDEER CT & DEAD END  1      EMS    17     12    3  \n1          BRIAR PATH & WHITEMARSH LN  1      EMS    17     12    3  \n2                            HAWS AVE  1     Fire    17     12    3  \n3                  AIRY ST & SWEDE ST  1      EMS    17     12    3  \n4            CHERRYWOOD CT & DEAD END  1      EMS    17     12    3  \n...                               ... ..      ...   ...    ...  ...  \n99487         MARKLEY ST & W LOGAN ST  1  Traffic    11      8    2  \n99488  LANCASTER AVE & RITTENHOUSE PL  1  Traffic    11      8    2  \n99489         CHESTNUT ST & WALNUT ST  1      EMS    11      8    2  \n99490           WELSH RD & WEBSTER LN  1      EMS    11      8    2  \n99491          MORRIS RD & S BROAD ST  1  Traffic    11      8    2  \n\n[99492 rows x 13 columns]",
      "text/html": "<div>\n<style scoped>\n    .dataframe tbody tr th:only-of-type {\n        vertical-align: middle;\n    }\n\n    .dataframe tbody tr th {\n        vertical-align: top;\n    }\n\n    .dataframe thead th {\n        text-align: right;\n    }\n</style>\n<table border=\"1\" class=\"dataframe\">\n  <thead>\n    <tr style=\"text-align: right;\">\n      <th></th>\n      <th>lat</th>\n      <th>lng</th>\n      <th>desc</th>\n      <th>zip</th>\n      <th>title</th>\n      <th>timeStamp</th>\n      <th>twp</th>\n      <th>addr</th>\n      <th>e</th>\n      <th>reason</th>\n      <th>hour</th>\n      <th>month</th>\n      <th>day</th>\n    </tr>\n  </thead>\n  <tbody>\n    <tr>\n      <th>0</th>\n      <td>40.297876</td>\n      <td>-75.581294</td>\n      <td>REINDEER CT &amp; DEAD END;  NEW HANOVER; Station ...</td>\n      <td>19525.0</td>\n      <td>EMS: BACK PAINS/INJURY</td>\n      <td>2015-12-10 17:40:00</td>\n      <td>NEW HANOVER</td>\n      <td>REINDEER CT &amp; DEAD END</td>\n      <td>1</td>\n      <td>EMS</td>\n      <td>17</td>\n      <td>12</td>\n      <td>3</td>\n    </tr>\n    <tr>\n      <th>1</th>\n      <td>40.258061</td>\n      <td>-75.264680</td>\n      <td>BRIAR PATH &amp; WHITEMARSH LN;  HATFIELD TOWNSHIP...</td>\n      <td>19446.0</td>\n      <td>EMS: DIABETIC EMERGENCY</td>\n      <td>2015-12-10 17:40:00</td>\n      <td>HATFIELD TOWNSHIP</td>\n      <td>BRIAR PATH &amp; WHITEMARSH LN</td>\n      <td>1</td>\n      <td>EMS</td>\n      <td>17</td>\n      <td>12</td>\n      <td>3</td>\n    </tr>\n    <tr>\n      <th>2</th>\n      <td>40.121182</td>\n      <td>-75.351975</td>\n      <td>HAWS AVE; NORRISTOWN; 2015-12-10 @ 14:39:21-St...</td>\n      <td>19401.0</td>\n      <td>Fire: GAS-ODOR/LEAK</td>\n      <td>2015-12-10 17:40:00</td>\n      <td>NORRISTOWN</td>\n      <td>HAWS AVE</td>\n      <td>1</td>\n      <td>Fire</td>\n      <td>17</td>\n      <td>12</td>\n      <td>3</td>\n    </tr>\n    <tr>\n      <th>3</th>\n      <td>40.116153</td>\n      <td>-75.343513</td>\n      <td>AIRY ST &amp; SWEDE ST;  NORRISTOWN; Station 308A;...</td>\n      <td>19401.0</td>\n      <td>EMS: CARDIAC EMERGENCY</td>\n      <td>2015-12-10 17:40:01</td>\n      <td>NORRISTOWN</td>\n      <td>AIRY ST &amp; SWEDE ST</td>\n      <td>1</td>\n      <td>EMS</td>\n      <td>17</td>\n      <td>12</td>\n      <td>3</td>\n    </tr>\n    <tr>\n      <th>4</th>\n      <td>40.251492</td>\n      <td>-75.603350</td>\n      <td>CHERRYWOOD CT &amp; DEAD END;  LOWER POTTSGROVE; S...</td>\n      <td>NaN</td>\n      <td>EMS: DIZZINESS</td>\n      <td>2015-12-10 17:40:01</td>\n      <td>LOWER POTTSGROVE</td>\n      <td>CHERRYWOOD CT &amp; DEAD END</td>\n      <td>1</td>\n      <td>EMS</td>\n      <td>17</td>\n      <td>12</td>\n      <td>3</td>\n    </tr>\n    <tr>\n      <th>...</th>\n      <td>...</td>\n      <td>...</td>\n      <td>...</td>\n      <td>...</td>\n      <td>...</td>\n      <td>...</td>\n      <td>...</td>\n      <td>...</td>\n      <td>...</td>\n      <td>...</td>\n      <td>...</td>\n      <td>...</td>\n      <td>...</td>\n    </tr>\n    <tr>\n      <th>99487</th>\n      <td>40.132869</td>\n      <td>-75.333515</td>\n      <td>MARKLEY ST &amp; W LOGAN ST; NORRISTOWN; 2016-08-2...</td>\n      <td>19401.0</td>\n      <td>Traffic: VEHICLE ACCIDENT -</td>\n      <td>2016-08-24 11:06:00</td>\n      <td>NORRISTOWN</td>\n      <td>MARKLEY ST &amp; W LOGAN ST</td>\n      <td>1</td>\n      <td>Traffic</td>\n      <td>11</td>\n      <td>8</td>\n      <td>2</td>\n    </tr>\n    <tr>\n      <th>99488</th>\n      <td>40.006974</td>\n      <td>-75.289080</td>\n      <td>LANCASTER AVE &amp; RITTENHOUSE PL; LOWER MERION; ...</td>\n      <td>19003.0</td>\n      <td>Traffic: VEHICLE ACCIDENT -</td>\n      <td>2016-08-24 11:07:02</td>\n      <td>LOWER MERION</td>\n      <td>LANCASTER AVE &amp; RITTENHOUSE PL</td>\n      <td>1</td>\n      <td>Traffic</td>\n      <td>11</td>\n      <td>8</td>\n      <td>2</td>\n    </tr>\n    <tr>\n      <th>99489</th>\n      <td>40.115429</td>\n      <td>-75.334679</td>\n      <td>CHESTNUT ST &amp; WALNUT ST;  NORRISTOWN; Station ...</td>\n      <td>19401.0</td>\n      <td>EMS: FALL VICTIM</td>\n      <td>2016-08-24 11:12:00</td>\n      <td>NORRISTOWN</td>\n      <td>CHESTNUT ST &amp; WALNUT ST</td>\n      <td>1</td>\n      <td>EMS</td>\n      <td>11</td>\n      <td>8</td>\n      <td>2</td>\n    </tr>\n    <tr>\n      <th>99490</th>\n      <td>40.186431</td>\n      <td>-75.192555</td>\n      <td>WELSH RD &amp; WEBSTER LN;  HORSHAM; Station 352; ...</td>\n      <td>19002.0</td>\n      <td>EMS: NAUSEA/VOMITING</td>\n      <td>2016-08-24 11:17:01</td>\n      <td>HORSHAM</td>\n      <td>WELSH RD &amp; WEBSTER LN</td>\n      <td>1</td>\n      <td>EMS</td>\n      <td>11</td>\n      <td>8</td>\n      <td>2</td>\n    </tr>\n    <tr>\n      <th>99491</th>\n      <td>40.207055</td>\n      <td>-75.317952</td>\n      <td>MORRIS RD &amp; S BROAD ST; UPPER GWYNEDD; 2016-08...</td>\n      <td>19446.0</td>\n      <td>Traffic: VEHICLE ACCIDENT -</td>\n      <td>2016-08-24 11:17:02</td>\n      <td>UPPER GWYNEDD</td>\n      <td>MORRIS RD &amp; S BROAD ST</td>\n      <td>1</td>\n      <td>Traffic</td>\n      <td>11</td>\n      <td>8</td>\n      <td>2</td>\n    </tr>\n  </tbody>\n</table>\n<p>99492 rows × 13 columns</p>\n</div>"
     },
     "execution_count": 145,
     "metadata": {},
     "output_type": "execute_result"
    }
   ],
   "source": [
    "df['hour'] = df['timeStamp'].apply(lambda x: x.hour)\n",
    "df['month'] = df['timeStamp'].apply(lambda x: x.month)\n",
    "df['day'] = df['timeStamp'].apply(lambda x: x.dayofweek)\n",
    "\n",
    "df"
   ]
  },
  {
   "cell_type": "markdown",
   "metadata": {
    "pycharm": {
     "name": "#%% md\n"
    }
   },
   "source": [
    "**Achte darauf, dass der \"Day of Week\" eine Zahl von 0 bis 6 ist. Nutze die `.map()` Methode mit folgendem Dictionary, um daraus Strings zu machen:**"
   ]
  },
  {
   "cell_type": "code",
   "execution_count": 146,
   "metadata": {
    "collapsed": true,
    "pycharm": {
     "name": "#%%\n"
    }
   },
   "outputs": [
    {
     "data": {
      "text/plain": "         lat        lng                                               desc  \\\n0  40.297876 -75.581294  REINDEER CT & DEAD END;  NEW HANOVER; Station ...   \n1  40.258061 -75.264680  BRIAR PATH & WHITEMARSH LN;  HATFIELD TOWNSHIP...   \n2  40.121182 -75.351975  HAWS AVE; NORRISTOWN; 2015-12-10 @ 14:39:21-St...   \n3  40.116153 -75.343513  AIRY ST & SWEDE ST;  NORRISTOWN; Station 308A;...   \n4  40.251492 -75.603350  CHERRYWOOD CT & DEAD END;  LOWER POTTSGROVE; S...   \n\n       zip                    title           timeStamp                twp  \\\n0  19525.0   EMS: BACK PAINS/INJURY 2015-12-10 17:40:00        NEW HANOVER   \n1  19446.0  EMS: DIABETIC EMERGENCY 2015-12-10 17:40:00  HATFIELD TOWNSHIP   \n2  19401.0      Fire: GAS-ODOR/LEAK 2015-12-10 17:40:00         NORRISTOWN   \n3  19401.0   EMS: CARDIAC EMERGENCY 2015-12-10 17:40:01         NORRISTOWN   \n4      NaN           EMS: DIZZINESS 2015-12-10 17:40:01   LOWER POTTSGROVE   \n\n                         addr  e reason  hour  month  day  \n0      REINDEER CT & DEAD END  1    EMS    17     12  thu  \n1  BRIAR PATH & WHITEMARSH LN  1    EMS    17     12  thu  \n2                    HAWS AVE  1   Fire    17     12  thu  \n3          AIRY ST & SWEDE ST  1    EMS    17     12  thu  \n4    CHERRYWOOD CT & DEAD END  1    EMS    17     12  thu  ",
      "text/html": "<div>\n<style scoped>\n    .dataframe tbody tr th:only-of-type {\n        vertical-align: middle;\n    }\n\n    .dataframe tbody tr th {\n        vertical-align: top;\n    }\n\n    .dataframe thead th {\n        text-align: right;\n    }\n</style>\n<table border=\"1\" class=\"dataframe\">\n  <thead>\n    <tr style=\"text-align: right;\">\n      <th></th>\n      <th>lat</th>\n      <th>lng</th>\n      <th>desc</th>\n      <th>zip</th>\n      <th>title</th>\n      <th>timeStamp</th>\n      <th>twp</th>\n      <th>addr</th>\n      <th>e</th>\n      <th>reason</th>\n      <th>hour</th>\n      <th>month</th>\n      <th>day</th>\n    </tr>\n  </thead>\n  <tbody>\n    <tr>\n      <th>0</th>\n      <td>40.297876</td>\n      <td>-75.581294</td>\n      <td>REINDEER CT &amp; DEAD END;  NEW HANOVER; Station ...</td>\n      <td>19525.0</td>\n      <td>EMS: BACK PAINS/INJURY</td>\n      <td>2015-12-10 17:40:00</td>\n      <td>NEW HANOVER</td>\n      <td>REINDEER CT &amp; DEAD END</td>\n      <td>1</td>\n      <td>EMS</td>\n      <td>17</td>\n      <td>12</td>\n      <td>thu</td>\n    </tr>\n    <tr>\n      <th>1</th>\n      <td>40.258061</td>\n      <td>-75.264680</td>\n      <td>BRIAR PATH &amp; WHITEMARSH LN;  HATFIELD TOWNSHIP...</td>\n      <td>19446.0</td>\n      <td>EMS: DIABETIC EMERGENCY</td>\n      <td>2015-12-10 17:40:00</td>\n      <td>HATFIELD TOWNSHIP</td>\n      <td>BRIAR PATH &amp; WHITEMARSH LN</td>\n      <td>1</td>\n      <td>EMS</td>\n      <td>17</td>\n      <td>12</td>\n      <td>thu</td>\n    </tr>\n    <tr>\n      <th>2</th>\n      <td>40.121182</td>\n      <td>-75.351975</td>\n      <td>HAWS AVE; NORRISTOWN; 2015-12-10 @ 14:39:21-St...</td>\n      <td>19401.0</td>\n      <td>Fire: GAS-ODOR/LEAK</td>\n      <td>2015-12-10 17:40:00</td>\n      <td>NORRISTOWN</td>\n      <td>HAWS AVE</td>\n      <td>1</td>\n      <td>Fire</td>\n      <td>17</td>\n      <td>12</td>\n      <td>thu</td>\n    </tr>\n    <tr>\n      <th>3</th>\n      <td>40.116153</td>\n      <td>-75.343513</td>\n      <td>AIRY ST &amp; SWEDE ST;  NORRISTOWN; Station 308A;...</td>\n      <td>19401.0</td>\n      <td>EMS: CARDIAC EMERGENCY</td>\n      <td>2015-12-10 17:40:01</td>\n      <td>NORRISTOWN</td>\n      <td>AIRY ST &amp; SWEDE ST</td>\n      <td>1</td>\n      <td>EMS</td>\n      <td>17</td>\n      <td>12</td>\n      <td>thu</td>\n    </tr>\n    <tr>\n      <th>4</th>\n      <td>40.251492</td>\n      <td>-75.603350</td>\n      <td>CHERRYWOOD CT &amp; DEAD END;  LOWER POTTSGROVE; S...</td>\n      <td>NaN</td>\n      <td>EMS: DIZZINESS</td>\n      <td>2015-12-10 17:40:01</td>\n      <td>LOWER POTTSGROVE</td>\n      <td>CHERRYWOOD CT &amp; DEAD END</td>\n      <td>1</td>\n      <td>EMS</td>\n      <td>17</td>\n      <td>12</td>\n      <td>thu</td>\n    </tr>\n  </tbody>\n</table>\n</div>"
     },
     "execution_count": 146,
     "metadata": {},
     "output_type": "execute_result"
    }
   ],
   "source": [
    "day_key = list(range(7))\n",
    "day_values = ['mon', 'tue', 'wed', 'thu', 'fri', 'sat', 'sun']\n",
    "day_dict = dict(zip(day_key, day_values))\n",
    "\n",
    "df['day'] =df['day'].map(lambda x : day_dict[x])\n",
    "df.head()"
   ]
  },
  {
   "cell_type": "markdown",
   "metadata": {
    "pycharm": {
     "name": "#%% md\n"
    }
   },
   "source": [
    "**Jetzt nutze Searborn, um ein `countplot` zu erstellen. Es soll für jeden Wochentag farblich unterscheiden, was der Grund für den Notruf war.**"
   ]
  },
  {
   "cell_type": "code",
   "execution_count": null,
   "metadata": {
    "pycharm": {
     "name": "#%%\n"
    }
   },
   "outputs": [],
   "source": [
    "sns.countplot()"
   ]
  },
  {
   "cell_type": "markdown",
   "metadata": {
    "pycharm": {
     "name": "#%% md\n"
    }
   },
   "source": [
    "**Tue jetzt das gleiche für jeden Monat.**"
   ]
  },
  {
   "cell_type": "code",
   "execution_count": null,
   "metadata": {
    "pycharm": {
     "name": "#%%\n"
    }
   },
   "outputs": [],
   "source": []
  },
  {
   "cell_type": "markdown",
   "metadata": {
    "pycharm": {
     "name": "#%% md\n"
    }
   },
   "source": [
    "**Fällt dir etawas an diesem Diagramm auf?**"
   ]
  },
  {
   "cell_type": "code",
   "execution_count": null,
   "metadata": {
    "collapsed": true,
    "pycharm": {
     "name": "#%%\n"
    }
   },
   "outputs": [],
   "source": [
    "# Antwort"
   ]
  },
  {
   "cell_type": "markdown",
   "metadata": {
    "pycharm": {
     "name": "#%% md\n"
    }
   },
   "source": [
    "Dir sollte auffallen, dass einige Monate fehlen. Lass uns versuchen die fehlende Information zurückzuholen indem wir sie anders darstellen. Evtl. ein einfaches Liniendiagramm. Um das zu erreichen verwenden wir Pandas...\n",
    "\n",
    "**Erstelle jetzt ein groupby-Objekt namens \"byMonth\", indem du den DataFrame nach der Monatsspalte und nutze die `count()` Methode zur Aggregation. Anschließend nutze die `head()` Methode auf den zurückgegebenen DataFrame.**"
   ]
  },
  {
   "cell_type": "code",
   "execution_count": null,
   "metadata": {
    "pycharm": {
     "name": "#%%\n"
    }
   },
   "outputs": [],
   "source": []
  },
  {
   "cell_type": "markdown",
   "metadata": {
    "pycharm": {
     "name": "#%% md\n"
    }
   },
   "source": [
    "**Erstelle eine einfaches Diagramm des DataFrames der den Anzahl (en. count) von Anrufen pro Monat zeigt.**"
   ]
  },
  {
   "cell_type": "code",
   "execution_count": null,
   "metadata": {
    "pycharm": {
     "name": "#%%\n"
    }
   },
   "outputs": [],
   "source": []
  },
  {
   "cell_type": "markdown",
   "metadata": {
    "pycharm": {
     "name": "#%% md\n"
    }
   },
   "source": [
    "**Jetzt versuche Seaborn's `lmplot()`, um eine lineare Annäherung auf die Anrufe pro Monat zu legen.**\n",
    "\n",
    "*Hinweis: Denke daran, dass der Index möglicherweise zu einer Spalte gesetzt werden muss.*"
   ]
  },
  {
   "cell_type": "code",
   "execution_count": null,
   "metadata": {
    "pycharm": {
     "name": "#%%\n"
    }
   },
   "outputs": [],
   "source": []
  },
  {
   "cell_type": "markdown",
   "metadata": {
    "pycharm": {
     "name": "#%% md\n"
    }
   },
   "source": [
    "**Erstelle eine neue Spalte namens \"Date\" (dt. Datum), die das Datum aus der timeStamp Spalte beinhaltet. Dazu wirst du die `.date()` Methode nutzen müssen.**"
   ]
  },
  {
   "cell_type": "code",
   "execution_count": null,
   "metadata": {
    "pycharm": {
     "name": "#%%\n"
    }
   },
   "outputs": [],
   "source": []
  },
  {
   "cell_type": "markdown",
   "metadata": {
    "pycharm": {
     "name": "#%% md\n"
    }
   },
   "source": [
    "**Gruppiere jetzt über diese Date Spalte und aggregiere mit `count()`. Erstelle dann ein Diagramm der Anzahl an Notrufen.**"
   ]
  },
  {
   "cell_type": "code",
   "execution_count": null,
   "metadata": {
    "pycharm": {
     "name": "#%%\n"
    }
   },
   "outputs": [],
   "source": []
  },
  {
   "cell_type": "markdown",
   "metadata": {
    "pycharm": {
     "name": "#%% md\n"
    }
   },
   "source": [
    "**Erstelle dieses Diagramm nun erneut, aber trenne insgesamt drei Diagramme für jeden Grund von Notruf.**"
   ]
  },
  {
   "cell_type": "code",
   "execution_count": null,
   "metadata": {
    "pycharm": {
     "name": "#%%\n"
    }
   },
   "outputs": [],
   "source": []
  },
  {
   "cell_type": "code",
   "execution_count": null,
   "metadata": {
    "pycharm": {
     "name": "#%%\n"
    }
   },
   "outputs": [],
   "source": []
  },
  {
   "cell_type": "code",
   "execution_count": null,
   "metadata": {
    "pycharm": {
     "name": "#%%\n"
    }
   },
   "outputs": [],
   "source": []
  },
  {
   "cell_type": "markdown",
   "metadata": {
    "pycharm": {
     "name": "#%% md\n"
    }
   },
   "source": [
    "**Jetzt können wir mit Heatmaps und Seaborn weitermachen. Dazu müssen wir unseren DataFrame etwas restrukturieren, sodass die Stunden zu den Spalten werden und der \"Day of Week\" der Index. Es gibt dazu viele Möglichkeiten. Ich empfehle eine Kombination aus `groupby` und der `unstack` ([zur Dokumentation](http://pandas.pydata.org/pandas-docs/stable/generated/pandas.DataFrame.unstack.html)) Methode.**\n",
    "\n",
    "Falls du hier nicht weiter kommst schaue in die Lösung."
   ]
  },
  {
   "cell_type": "code",
   "execution_count": null,
   "metadata": {
    "pycharm": {
     "name": "#%%\n"
    }
   },
   "outputs": [],
   "source": []
  },
  {
   "cell_type": "markdown",
   "metadata": {
    "pycharm": {
     "name": "#%% md\n"
    }
   },
   "source": [
    "**Erstelle jetzt eine HeatMap unter Verwendung des neuen DataFrames.**"
   ]
  },
  {
   "cell_type": "code",
   "execution_count": null,
   "metadata": {
    "pycharm": {
     "name": "#%%\n"
    }
   },
   "outputs": [],
   "source": []
  },
  {
   "cell_type": "markdown",
   "metadata": {
    "pycharm": {
     "name": "#%% md\n"
    }
   },
   "source": [
    "**Erstelle jetzt eine Clustermap unter Verwendung des neuen DataFrames.**"
   ]
  },
  {
   "cell_type": "code",
   "execution_count": null,
   "metadata": {
    "pycharm": {
     "name": "#%%\n"
    }
   },
   "outputs": [],
   "source": []
  },
  {
   "cell_type": "markdown",
   "metadata": {
    "pycharm": {
     "name": "#%% md\n"
    }
   },
   "source": [
    "**Wiederhole diesen Vorgang nun unter Verwendung des Monats als Spaltenunterteilung.**"
   ]
  },
  {
   "cell_type": "code",
   "execution_count": null,
   "metadata": {
    "pycharm": {
     "name": "#%%\n"
    }
   },
   "outputs": [],
   "source": []
  },
  {
   "cell_type": "code",
   "execution_count": null,
   "metadata": {
    "pycharm": {
     "name": "#%%\n"
    }
   },
   "outputs": [],
   "source": []
  },
  {
   "cell_type": "code",
   "execution_count": null,
   "metadata": {
    "pycharm": {
     "name": "#%%\n"
    }
   },
   "outputs": [],
   "source": []
  },
  {
   "cell_type": "markdown",
   "metadata": {
    "pycharm": {
     "name": "#%% md\n"
    }
   },
   "source": [
    "**Super! Jetzt kannst du die Daten gerne noch weiter auf eigene Faust erkunden.**\n",
    "\n",
    "# Gut gemacht!"
   ]
  }
 ],
 "metadata": {
  "kernelspec": {
   "display_name": "Python 3",
   "language": "python",
   "name": "python3"
  },
  "language_info": {
   "codemirror_mode": {
    "name": "ipython",
    "version": 3
   },
   "file_extension": ".py",
   "mimetype": "text/x-python",
   "name": "python",
   "nbconvert_exporter": "python",
   "pygments_lexer": "ipython3",
   "version": "3.8.5"
  }
 },
 "nbformat": 4,
 "nbformat_minor": 2
}