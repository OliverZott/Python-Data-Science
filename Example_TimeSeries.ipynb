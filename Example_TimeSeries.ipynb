{
 "cells": [
  {
   "cell_type": "markdown",
   "id": "d4bdd543-d293-4e9d-84d6-a980c06e51e5",
   "metadata": {},
   "source": [
    "# Time Series\n",
    "\n",
    "- https://www.dataquest.io/blog/tutorial-time-series-analysis-with-pandas/\n"
   ]
  },
  {
   "cell_type": "code",
   "execution_count": 2,
   "id": "36d52d4e-b060-45e2-82db-de2aaeb844b5",
   "metadata": {},
   "outputs": [],
   "source": [
    "import pandas as pd"
   ]
  },
  {
   "cell_type": "markdown",
   "id": "9516d2d0-2ca4-444a-9b2a-bc244ae57d86",
   "metadata": {
    "tags": []
   },
   "source": [
    "## Time series data structures"
   ]
  },
  {
   "cell_type": "code",
   "execution_count": null,
   "id": "be470456-ce92-4232-af77-703c5c8327d0",
   "metadata": {},
   "outputs": [],
   "source": [
    "# to do"
   ]
  },
  {
   "cell_type": "markdown",
   "id": "ace504c2-6cc0-4ec6-a3f8-5b7dc45fa7d7",
   "metadata": {},
   "source": [
    "## Creating a time series DataFrame"
   ]
  },
  {
   "cell_type": "code",
   "execution_count": null,
   "id": "26662b8a-254e-4e44-a6cc-23f6d430f5ff",
   "metadata": {},
   "outputs": [],
   "source": [
    "# Open Power Systems Data\n",
    "opsd_daily = pd.read_csv('opsd_germany_daily.csv')"
   ]
  }
 ],
 "metadata": {
  "kernelspec": {
   "display_name": "Python 3",
   "language": "python",
   "name": "python3"
  },
  "language_info": {
   "codemirror_mode": {
    "name": "ipython",
    "version": 3
   },
   "file_extension": ".py",
   "mimetype": "text/x-python",
   "name": "python",
   "nbconvert_exporter": "python",
   "pygments_lexer": "ipython3",
   "version": "3.9.6"
  }
 },
 "nbformat": 4,
 "nbformat_minor": 5
}