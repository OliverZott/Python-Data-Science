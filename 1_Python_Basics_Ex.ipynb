{
 "cells": [
  {
   "cell_type": "markdown",
   "source": [
    "# Python Crashkurs Übung - Lösung\n",
    "\n",
    "Das ist eine optionale Übung, um dein Verständnis der Python Grundlagen zu testen. Wenn du das sehr schwer findest, dann bist du eventuell noch nicht bereit für diesen Kurs. Um die Grundlagen und die Programmiererfahrung zu sammeln, die notwendig sind, um diesen Kurs machen zu können, empfehle ich dir einen anderen meiner Kurse: Das [Python Bootcamp](https://www.udemy.com/originale-python-bootcamp/)"
   ],
   "metadata": {}
  },
  {
   "cell_type": "markdown",
   "source": [
    "## Übung\n",
    "\n",
    "Beantworte die folgenden Fragen oder vervollständige die Anweisungen, die in **fett** geschrieben sind. Nutze außerdem spezielle Methoden, sofern sie angegeben sind."
   ],
   "metadata": {}
  },
  {
   "cell_type": "markdown",
   "source": [
    "**1. Was ist 7 hoch 4?**"
   ],
   "metadata": {}
  },
  {
   "cell_type": "code",
   "execution_count": 1,
   "source": [
    "print(7**4)"
   ],
   "outputs": [
    {
     "output_type": "stream",
     "name": "stdout",
     "text": [
      "2401\n"
     ]
    }
   ],
   "metadata": {}
  },
  {
   "cell_type": "code",
   "execution_count": 2,
   "metadata": {},
   "outputs": [
    {
     "name": "stdout",
     "output_type": "stream",
     "text": [
      "Python 3.9.6\n"
     ]
    }
   ],
   "source": [
    "!python -V"
   ]
  },
  {
   "cell_type": "markdown",
   "source": [
    "**2. Trenne diesen String:**\n",
    "\n",
    "    s = \"Hallo lieber Sam!\"\n",
    "\n",
    "**Das Ergebnis soll eine Liste sein.**"
   ],
   "metadata": {}
  },
  {
   "cell_type": "code",
   "execution_count": 2,
   "source": [
    "s = \"Hallo lieber Sam!\"\r\n",
    "s.split()"
   ],
   "outputs": [
    {
     "output_type": "execute_result",
     "data": {
      "text/plain": [
       "['Hallo', 'lieber', 'Sam!']"
      ]
     },
     "metadata": {},
     "execution_count": 2
    }
   ],
   "metadata": {}
  },
  {
   "cell_type": "markdown",
   "source": [
    "**3. Gegeben sind die Variablen:**\n",
    "\n",
    "    planet = \"Erde\"\n",
    "    durchschnitt = 12742\n",
    "    \n",
    "**Nutze .format(), um den folgenden String auszugeben:**\n",
    "\n",
    "    Der Durchschnitt der Erde ist 12742 Kilometer."
   ],
   "metadata": {}
  },
  {
   "cell_type": "code",
   "execution_count": 3,
   "source": [
    "planet = \"Erde\"\r\n",
    "durchschnitt = 12742\r\n",
    "print(\"Der Durchschnitt der {} ist {} Kilometer.\".format(planet, durchschnitt))\r\n",
    "print(f\"Diameter of {planet} is {durchschnitt} km.\")"
   ],
   "outputs": [
    {
     "output_type": "stream",
     "name": "stdout",
     "text": [
      "Der Durchschnitt der Erde ist 12742 Kilometer.\n",
      "Diameter of Erde is 12742 km.\n"
     ]
    }
   ],
   "metadata": {}
  },
  {
   "cell_type": "markdown",
   "source": [
    "**4. Nutze die Indexierung in der gegebenen verschachtelten Liste um \"Hallo\" auszugeben**"
   ],
   "metadata": {}
  },
  {
   "cell_type": "code",
   "execution_count": 4,
   "source": [
    "lst = [1,2,[3,4],[5,[100,200,['Hello']],23,11],1,7]"
   ],
   "outputs": [],
   "metadata": {}
  },
  {
   "cell_type": "code",
   "execution_count": 5,
   "source": [
    "lst[3][1][2][0]"
   ],
   "outputs": [
    {
     "output_type": "execute_result",
     "data": {
      "text/plain": [
       "'Hello'"
      ]
     },
     "metadata": {},
     "execution_count": 5
    }
   ],
   "metadata": {}
  },
  {
   "cell_type": "markdown",
   "source": [
    "**5. Gegeben dem folgenden Dictionary wollen wir das Wort \"Hallo\" extrahieren. Vorsicht, das wird etwas knifflig!**"
   ],
   "metadata": {}
  },
  {
   "cell_type": "code",
   "execution_count": 19,
   "source": [
    "d = {'k1':[1,2,3,{'knifflig':['oh','man','inception',{'ziel':[1,2,3,'Hallo']}]}]}"
   ],
   "outputs": [],
   "metadata": {}
  },
  {
   "cell_type": "code",
   "execution_count": 7,
   "source": [
    "d['k1'][3]['knifflig'][3]['ziel'][3]"
   ],
   "outputs": [
    {
     "output_type": "execute_result",
     "data": {
      "text/plain": [
       "'Hallo'"
      ]
     },
     "metadata": {},
     "execution_count": 7
    }
   ],
   "metadata": {}
  },
  {
   "cell_type": "markdown",
   "source": [
    "**6. Was ist der Hauptunterschied zwischen einem Tupel und einer Liste?**"
   ],
   "metadata": {}
  },
  {
   "cell_type": "code",
   "execution_count": 8,
   "source": [
    "# list: mutable / tuple: immutable"
   ],
   "outputs": [],
   "metadata": {
    "collapsed": true,
    "jupyter": {
     "outputs_hidden": true
    }
   }
  },
  {
   "cell_type": "markdown",
   "source": [
    "**7. Erstelle eine Funktion, die die E-Mail Webseite eines Strings in folgender Form ausgibt:**\n",
    "    \n",
    "    nutzer@webseite.de\n",
    "    \n",
    "**Also z.B. würden wir durch Übergeben von \"nutzer@webseite.de\" das folgende Ergebnis erhalten: webseite.de**"
   ],
   "metadata": {}
  },
  {
   "cell_type": "code",
   "execution_count": 9,
   "source": [
    "def webseiteErhalten(para: str) -> str:\n",
    "    splitResult: str = para.split('@')\n",
    "    return splitResult[-1]"
   ],
   "outputs": [],
   "metadata": {}
  },
  {
   "cell_type": "code",
   "execution_count": 10,
   "source": [
    "webseiteErhalten(\"nutzer@webseite.de\")"
   ],
   "outputs": [
    {
     "output_type": "execute_result",
     "data": {
      "text/plain": [
       "'webseite.de'"
      ]
     },
     "metadata": {},
     "execution_count": 10
    }
   ],
   "metadata": {}
  },
  {
   "cell_type": "markdown",
   "source": [
    "**8. Erstelle eine Funktion, die `True` ausgibt, wenn das Wort \"Hund\" in einem String enthalten ist. Achte auf die Groß- und Kleinschreibung.**"
   ],
   "metadata": {}
  },
  {
   "cell_type": "code",
   "execution_count": 11,
   "source": [
    "def findeHund(par: str) -> bool:\n",
    "    return 'Hund' in par"
   ],
   "outputs": [],
   "metadata": {}
  },
  {
   "cell_type": "code",
   "execution_count": 12,
   "source": [
    "findeHund(\"Gibt es einen Hund hier?\")"
   ],
   "outputs": [
    {
     "output_type": "execute_result",
     "data": {
      "text/plain": [
       "True"
      ]
     },
     "metadata": {},
     "execution_count": 12
    }
   ],
   "metadata": {}
  },
  {
   "cell_type": "markdown",
   "source": [
    "**9. Erstelle eine Funktion, die die Anzahl der Nennungen von \"Hund\" in einem Satz zählt.**"
   ],
   "metadata": {}
  },
  {
   "cell_type": "code",
   "execution_count": 13,
   "source": [
    "def anzahlHund(par: str) -> int:\n",
    "    count = 0\n",
    "    for word in par.lower().split():\n",
    "        print(word)\n",
    "        if word == 'hund':\n",
    "            count += 1\n",
    "    return count\n",
    "        \n",
    "    # return par.count(\"Hund\")"
   ],
   "outputs": [],
   "metadata": {}
  },
  {
   "cell_type": "code",
   "execution_count": 14,
   "source": [
    "anzahlHund(\"Dieser Hund hund rennt so viel (Hund) schneller als der andere Hund man!\")"
   ],
   "outputs": [
    {
     "output_type": "stream",
     "name": "stdout",
     "text": [
      "dieser\n",
      "hund\n",
      "hund\n",
      "rennt\n",
      "so\n",
      "viel\n",
      "(hund)\n",
      "schneller\n",
      "als\n",
      "der\n",
      "andere\n",
      "hund\n",
      "man!\n"
     ]
    },
    {
     "output_type": "execute_result",
     "data": {
      "text/plain": [
       "3"
      ]
     },
     "metadata": {},
     "execution_count": 14
    }
   ],
   "metadata": {}
  },
  {
   "cell_type": "markdown",
   "source": [
    "**10. Nutze Lambda Expressions und die filter() Funktion, um Wörter aus einem Satz zu filtern, die nicht mit \"s\" beginnen. Zum Beispiel:**\n",
    "\n",
    "    seq = [\"suppe\",\"hund\",\"salat\",\"katze\",\"toll\"]\n",
    "    \n",
    "**sollte folgendes ergeben:**\n",
    "\n",
    "    [\"suppe\",\"salat\"]"
   ],
   "metadata": {}
  },
  {
   "cell_type": "code",
   "execution_count": 15,
   "source": [
    "seq = [\"suppe\",\"hund\",\"salat\",\"katze\",\"toll\"]\n",
    "seqFilter = filter(lambda item: item[0]=='s', seq)\n",
    "print(list(seqFilter))"
   ],
   "outputs": [
    {
     "output_type": "stream",
     "name": "stdout",
     "text": [
      "['suppe', 'salat']\n"
     ]
    }
   ],
   "metadata": {}
  },
  {
   "cell_type": "markdown",
   "source": [
    "## Finale Aufgabe\n",
    "\n",
    "**Du fährst ein klein wenig zu schnell und ein Polizist hält dich an. Schreibe eine Funktion, die eine der drei folgenden Reaktionen ergibt: \"Kein Strafzettel\", \"Kleiner Strafzettel\", \"Großer Strafzettel\". Wenn deine Geschwindigkeit 100 oder weniger beträgt, dann erhältst du \"Kein Strafzettel\". Für eine Geschwindigkeit zwischen 100 und 120 (inklusive) gibt es \"Kleiner Strafzettel\". Für Geschwindigkeiten über 120 gibt es \"Großer Strafzettel\". Außer es ist dein Geburtstag. Dann drückt der Polizist ein Auge zu und alle Grenzen liegen um 5 höher (Ob du Geburtstag hast ist in einem Boolean angegeben).**"
   ],
   "metadata": {}
  },
  {
   "cell_type": "code",
   "execution_count": 16,
   "source": [
    "def geschwindigkeitskontrolle(velocity: int, birthday: bool) -> str:\n",
    "    thresholds = [100, 120]\n",
    "    \n",
    "    if birthday:\n",
    "        thresholds = list(map(lambda x: x + 5, thresholds))\n",
    "\n",
    "    if velocity < thresholds[0]:\n",
    "        return \"Kein Strafzettel\"\n",
    "    elif velocity < thresholds[1]:\n",
    "        return \"Kleiner Strafzettel\"\n",
    "    else:\n",
    "        return \"Großer Strafzettel\""
   ],
   "outputs": [],
   "metadata": {}
  },
  {
   "cell_type": "code",
   "execution_count": 17,
   "source": [
    "geschwindigkeitskontrolle(121,True)"
   ],
   "outputs": [
    {
     "output_type": "execute_result",
     "data": {
      "text/plain": [
       "'Kleiner Strafzettel'"
      ]
     },
     "metadata": {},
     "execution_count": 17
    }
   ],
   "metadata": {}
  },
  {
   "cell_type": "code",
   "execution_count": 18,
   "source": [
    "geschwindigkeitskontrolle(121,False)"
   ],
   "outputs": [
    {
     "output_type": "execute_result",
     "data": {
      "text/plain": [
       "'Großer Strafzettel'"
      ]
     },
     "metadata": {},
     "execution_count": 18
    }
   ],
   "metadata": {}
  },
  {
   "cell_type": "markdown",
   "source": [
    "## Gut gemacht!"
   ],
   "metadata": {}
  }
 ],
 "metadata": {
  "kernelspec": {
   "display_name": "Python 3 (ipykernel)",
   "language": "python",
   "name": "python3"
  },
  "language_info": {
   "codemirror_mode": {
    "name": "ipython",
    "version": 3
   },
   "file_extension": ".py",
   "mimetype": "text/x-python",
   "name": "python",
   "nbconvert_exporter": "python",
   "pygments_lexer": "ipython3",
   "version": "3.9.6"
  }
 },
 "nbformat": 4,
 "nbformat_minor": 4
}