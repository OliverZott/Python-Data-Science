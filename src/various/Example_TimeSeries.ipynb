{
 "cells": [
  {
   "cell_type": "markdown",
   "source": [
    "# Time Series\r\n",
    "\r\n",
    "- https://www.dataquest.io/blog/tutorial-time-series-analysis-with-pandas/\r\n",
    "\r\n",
    "## Content\r\n",
    "- Time series data structures\r\n",
    "- Time-based indexing\r\n",
    "- Visualizing time series data\r\n",
    "- Seasonality\r\n",
    "- Frequencies\r\n",
    "- Resampling\r\n",
    "- Rolling windows\r\n",
    "- Trends"
   ],
   "metadata": {}
  },
  {
   "cell_type": "code",
   "execution_count": 4,
   "source": [
    "import pandas as pd\r\n",
    "import matplotlib.pyplot as plt\r\n",
    "import seaborn as sns\r\n",
    "import sys\r\n",
    "\r\n",
    "%matplotlib inline\r\n",
    "\r\n",
    "!python -V\r\n",
    "print(sys.executable)"
   ],
   "outputs": [
    {
     "output_type": "error",
     "ename": "ModuleNotFoundError",
     "evalue": "No module named 'matplotlib'",
     "traceback": [
      "\u001b[1;31m---------------------------------------------------------------------------\u001b[0m",
      "\u001b[1;31mModuleNotFoundError\u001b[0m                       Traceback (most recent call last)",
      "\u001b[1;32m<ipython-input-4-092e56c49fe6>\u001b[0m in \u001b[0;36m<module>\u001b[1;34m\u001b[0m\n\u001b[0;32m      1\u001b[0m \u001b[1;32mimport\u001b[0m \u001b[0mpandas\u001b[0m \u001b[1;32mas\u001b[0m \u001b[0mpd\u001b[0m\u001b[1;33m\u001b[0m\u001b[1;33m\u001b[0m\u001b[0m\n\u001b[1;32m----> 2\u001b[1;33m \u001b[1;32mimport\u001b[0m \u001b[0mmatplotlib\u001b[0m\u001b[1;33m.\u001b[0m\u001b[0mpyplot\u001b[0m \u001b[1;32mas\u001b[0m \u001b[0mplt\u001b[0m\u001b[1;33m\u001b[0m\u001b[1;33m\u001b[0m\u001b[0m\n\u001b[0m\u001b[0;32m      3\u001b[0m \u001b[1;32mimport\u001b[0m \u001b[0mseaborn\u001b[0m \u001b[1;32mas\u001b[0m \u001b[0msns\u001b[0m\u001b[1;33m\u001b[0m\u001b[1;33m\u001b[0m\u001b[0m\n\u001b[0;32m      4\u001b[0m \u001b[1;32mimport\u001b[0m \u001b[0msys\u001b[0m\u001b[1;33m\u001b[0m\u001b[1;33m\u001b[0m\u001b[0m\n\u001b[0;32m      5\u001b[0m \u001b[1;33m\u001b[0m\u001b[0m\n",
      "\u001b[1;31mModuleNotFoundError\u001b[0m: No module named 'matplotlib'"
     ]
    }
   ],
   "metadata": {
    "tags": []
   }
  },
  {
   "cell_type": "markdown",
   "source": [
    "---\r\n",
    "# Data Set"
   ],
   "metadata": {
    "jp-MarkdownHeadingCollapsed": true,
    "tags": []
   }
  },
  {
   "cell_type": "markdown",
   "source": [
    "The dataset: Open Power Systems Data [Link](https://github.com/jenfly/opsd/raw/master/opsd_germany_daily.csv)\r\n",
    "\r\n",
    "Daily time series of Open Power System Data (OPSD) for Germany, which has been rapidly expanding its renewable energy production in recent years. \r\n",
    "The data set includes country-wide totals of electricity consumption, wind power production, and solar power production for 2006-2017. You can download the data here.\r\n",
    "\r\n",
    "Electricity production and consumption are reported as daily totals in gigawatt-hours (GWh). The columns of the data file are:\r\n",
    "\r\n",
    "- *Date* - Thedate(yyyy-mm-ddformat)\r\n",
    "- *Consumption* - ElectricityconsumptioninGWh\r\n",
    "- *Wind* - WindpowerproductioninGWh\r\n",
    "- *Solar* - SolarpowerproductioninGWh\r\n",
    "- *Wind+Solar* - SumofwindandsolarpowerproductioninGWh"
   ],
   "metadata": {
    "tags": []
   }
  },
  {
   "cell_type": "markdown",
   "source": [
    "---\r\n",
    "# Creating a time series (data structure) DataFrame\r\n",
    "\r\n",
    "**Todo:**\r\n",
    "- check/adapt index\r\n",
    "- check/adapt datetime\r\n",
    "- add year/month/day columns for wrangling"
   ],
   "metadata": {
    "tags": []
   }
  },
  {
   "cell_type": "code",
   "execution_count": null,
   "source": [
    "# Open Power Systems Data\r\n",
    "opsd_daily = pd.read_csv('opsd_germany_daily.csv')\r\n",
    "opsd_daily.info  # not helpfull as it seems ?!"
   ],
   "outputs": [],
   "metadata": {
    "tags": []
   }
  },
  {
   "cell_type": "code",
   "execution_count": null,
   "source": [
    "opsd_daily.shape"
   ],
   "outputs": [],
   "metadata": {
    "tags": []
   }
  },
  {
   "cell_type": "code",
   "execution_count": null,
   "source": [
    "opsd_daily.head()"
   ],
   "outputs": [],
   "metadata": {
    "tags": []
   }
  },
  {
   "cell_type": "code",
   "execution_count": null,
   "source": [
    "opsd_daily.dtypes"
   ],
   "outputs": [],
   "metadata": {
    "tags": []
   }
  },
  {
   "cell_type": "markdown",
   "source": [
    "## Problem 1 - datetime\r\n",
    "- Seems like Date is not recognized as DateTime Object!\r\n"
   ],
   "metadata": {
    "jp-MarkdownHeadingCollapsed": true,
    "tags": []
   }
  },
  {
   "cell_type": "code",
   "execution_count": null,
   "source": [
    "opsd_daily['Date'] = pd.to_datetime(opsd_daily['Date'])\r\n",
    "opsd_daily.dtypes"
   ],
   "outputs": [],
   "metadata": {
    "tags": []
   }
  },
  {
   "cell_type": "markdown",
   "source": [
    "## Problem 2 - index\n",
    "- Wrong Index"
   ],
   "metadata": {
    "tags": []
   }
  },
  {
   "cell_type": "code",
   "execution_count": null,
   "source": [
    "opsd_daily = opsd_daily.set_index('Date')\n",
    "opsd_daily.head()"
   ],
   "outputs": [],
   "metadata": {
    "tags": []
   }
  },
  {
   "cell_type": "code",
   "execution_count": null,
   "source": [
    "opsd_daily.index"
   ],
   "outputs": [],
   "metadata": {
    "tags": []
   }
  },
  {
   "cell_type": "markdown",
   "source": [
    "## Solution while importing"
   ],
   "metadata": {
    "jp-MarkdownHeadingCollapsed": true,
    "tags": []
   }
  },
  {
   "cell_type": "code",
   "execution_count": null,
   "source": [
    "df = pd.read_csv('opsd_germany_daily.csv', index_col=0, parse_dates=True)"
   ],
   "outputs": [],
   "metadata": {
    "tags": []
   }
  },
  {
   "cell_type": "code",
   "execution_count": null,
   "source": [
    "df.head()\n"
   ],
   "outputs": [],
   "metadata": {}
  },
  {
   "cell_type": "code",
   "execution_count": null,
   "source": [
    "df.dtypes"
   ],
   "outputs": [],
   "metadata": {}
  },
  {
   "cell_type": "code",
   "execution_count": null,
   "source": [
    "df.index"
   ],
   "outputs": [],
   "metadata": {}
  },
  {
   "cell_type": "markdown",
   "source": [
    "## Add year/month/day"
   ],
   "metadata": {
    "jp-MarkdownHeadingCollapsed": true,
    "tags": []
   }
  },
  {
   "cell_type": "code",
   "execution_count": null,
   "source": [
    "df['Year'] = df.index.year\n",
    "df['Month'] = df.index.month\n",
    "df['day'] = df.index.day\n",
    "df.sample(5, random_state=0)"
   ],
   "outputs": [],
   "metadata": {}
  },
  {
   "cell_type": "markdown",
   "source": [
    "---\n",
    "# Time-based indexing\n",
    "\n",
    "**Remarks**:\n",
    "-  `loc`\n",
    "- also partial indexing\n"
   ],
   "metadata": {
    "jp-MarkdownHeadingCollapsed": true,
    "tags": []
   }
  },
  {
   "cell_type": "code",
   "execution_count": null,
   "source": [
    "df.head()\n",
    "\n",
    "# time-based indexing\n",
    "df.loc['2015-01-01':'2015-01-03']\n",
    "\n",
    "# partial string indexing\n",
    "df.loc['2010-02']"
   ],
   "outputs": [],
   "metadata": {}
  },
  {
   "cell_type": "markdown",
   "source": [
    "---\n",
    "# Visualizing time series data\n",
    "\n",
    "**Remarks**\n",
    "- blub"
   ],
   "metadata": {
    "tags": []
   }
  },
  {
   "cell_type": "markdown",
   "source": [
    "## Yearly seasonality"
   ],
   "metadata": {
    "jp-MarkdownHeadingCollapsed": true,
    "tags": []
   }
  },
  {
   "cell_type": "code",
   "execution_count": null,
   "source": [
    "# Use seaborn style defaults and set the default figure size\n",
    "sns.set(rc={'figure.figsize':(20, 7)})"
   ],
   "outputs": [],
   "metadata": {}
  },
  {
   "cell_type": "code",
   "execution_count": null,
   "source": [
    "cols_plot = ['Consumption', 'Solar', 'Wind']\n",
    "axes = df[cols_plot].plot(marker='.', alpha=0.5, linestyle='None', subplots=True)"
   ],
   "outputs": [],
   "metadata": {}
  },
  {
   "cell_type": "code",
   "execution_count": null,
   "source": [
    "axes = df[cols_plot].loc['2012':'2018'].plot(marker='.', alpha=0.5, linestyle='None', subplots=True)\n",
    "for ax in axes:\n",
    "    ax.set_ylabel('Daily Totals [GWh]')"
   ],
   "outputs": [],
   "metadata": {}
  },
  {
   "cell_type": "markdown",
   "source": [
    "### Observations\n",
    "- Electricity consumption is highest in winter, presumably due to electric heating and increased lighting usage, and lowest in summer.\n",
    "- Electricity consumption appears to split into two clusters — one with oscillations centered roughly around 1400 GWh, and another with fewer and more scattered data points, centered roughly around 1150 GWh. We might guess that these clusters correspond with weekdays and weekends, and we will investigate this further shortly.\n",
    "- Solar power production is highest in summer, when sunlight is most abundant, and lowest in winter.\n",
    "- Wind power production is highest in winter, presumably due to stronger winds and more frequent storms, and lowest in summer.\n",
    "- There appears to be a strong increasing trend in wind power production over the years.\n"
   ],
   "metadata": {}
  },
  {
   "cell_type": "markdown",
   "source": [
    "## Weekly seasonality "
   ],
   "metadata": {
    "tags": []
   }
  },
  {
   "cell_type": "code",
   "execution_count": null,
   "source": [
    "# df['Consumption'].loc['2015'].plot(linewidth=0.8)\n",
    "\n",
    "# differnet version\n",
    "ax = df.loc['2017', 'Consumption'].plot()\n",
    "ax.set_ylabel('Daily consumption [GWh]')"
   ],
   "outputs": [],
   "metadata": {}
  },
  {
   "cell_type": "markdown",
   "source": [
    "**Observation**\n",
    "\n",
    "Drastic decrease in electricity consumption in early January and late December, during the holidays.\n",
    "\n"
   ],
   "metadata": {
    "tags": []
   }
  },
  {
   "cell_type": "code",
   "execution_count": null,
   "source": [
    "ax = df.loc['2017-01':'2017-02', 'Consumption'].plot(marker='o', linestyle='--')\n",
    "#ax.set(xlim=(0,5), ylim=(0,5), xticks=[0,2.5,5], yticks=[0,2.5,5])\n"
   ],
   "outputs": [],
   "metadata": {}
  },
  {
   "cell_type": "markdown",
   "source": [
    "Consumption is highest on weekdays and lowest on weekends."
   ],
   "metadata": {}
  },
  {
   "cell_type": "markdown",
   "source": [
    "## Customizing time series plots\n",
    "\n",
    "Because date/time ticks are handled a bit differently in matplotlib.dates compared with the **DataFrame**’s `plot()` method, let’s create the *plot* directly in *matplotlib*. \n",
    "\n",
    "Then we use `mdates.WeekdayLocator()` and `mdates.MONDAY` to set the x-axis ticks to the first Monday of each week. \n",
    "\n",
    "We also use `mdates.DateFormatter()` to improve the formatting of the tick labels, using the format codes we saw earlier."
   ],
   "metadata": {
    "pycharm": {
     "name": "#%%\n"
    },
    "tags": []
   }
  },
  {
   "cell_type": "code",
   "execution_count": null,
   "source": [
    "import matplotlib.dates as mdates"
   ],
   "outputs": [],
   "metadata": {}
  },
  {
   "cell_type": "code",
   "execution_count": null,
   "source": [
    "fig, ax = plt.subplots()\n",
    "ax.plot(df.loc['2017-01':'2017-02', 'Consumption'], marker='o', linestyle='--')\n",
    "ax.set_ylabel('Daily Consumption (GWh)')\n",
    "ax.set_title('Jan-Feb 2017 Electricity Consumption')\n",
    "\n",
    "# Set x-axis major ticks to weekly interval, on Mondays\n",
    "ax.xaxis.set_major_locator(mdates.WeekdayLocator(byweekday=mdates.MONDAY))"
   ],
   "outputs": [],
   "metadata": {}
  },
  {
   "cell_type": "code",
   "execution_count": null,
   "source": [
    "ax.plot()"
   ],
   "outputs": [],
   "metadata": {}
  },
  {
   "cell_type": "code",
   "execution_count": null,
   "source": [],
   "outputs": [],
   "metadata": {}
  }
 ],
 "metadata": {
  "kernelspec": {
   "name": "python3",
   "display_name": "Python 3.8.11 64-bit ('base': conda)"
  },
  "language_info": {
   "codemirror_mode": {
    "name": "ipython",
    "version": 3
   },
   "file_extension": ".py",
   "mimetype": "text/x-python",
   "name": "python",
   "nbconvert_exporter": "python",
   "pygments_lexer": "ipython3",
   "version": "3.8.11"
  },
  "interpreter": {
   "hash": "ca095fa9ee420c4baef4194116b98c9b20e8bae6647a950342a770ee5d8fdaa7"
  }
 },
 "nbformat": 4,
 "nbformat_minor": 5
}