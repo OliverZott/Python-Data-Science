{
 "cells": [
  {
   "cell_type": "markdown",
   "metadata": {},
   "source": [
    "# Statistik Austria - Energy Example"
   ]
  },
  {
   "cell_type": "code",
   "execution_count": 32,
   "metadata": {
    "collapsed": false,
    "pycharm": {
     "name": "#%%\n"
    }
   },
   "outputs": [],
   "source": [
    "from IPython.core.interactiveshell import InteractiveShell\n",
    "import os\n",
    "import pandas as pd\n",
    "import numpy as np\n",
    "import matplotlib.pyplot as plt\n",
    "import seaborn as sns\n",
    "sns.set_theme()\n",
    "\n",
    "from datetime import datetime\n",
    "%matplotlib inline\n",
    "\n",
    "\n",
    "# show full output\n",
    "\n",
    "InteractiveShell.ast_node_interactivity = \"all\"\n"
   ]
  },
  {
   "cell_type": "markdown",
   "metadata": {},
   "source": [
    "#### First data import testing\n"
   ]
  },
  {
   "cell_type": "code",
   "execution_count": 33,
   "metadata": {
    "collapsed": false,
    "pycharm": {
     "name": "#%%\n"
    }
   },
   "outputs": [],
   "source": [
    "# df1_raw = pd.read_excel(\n",
    "#     \"../../data/statistik_austria/energy/jahresdurchschnittspreise_und_-steuern_2013_fuer_die_wichtigsten_energietr.xlsx\",\n",
    "#     header=None,\n",
    "#     na_values=\"n.v.\")\n",
    "# df1_raw.head()\n",
    "# df1_raw.tail()\n",
    "# df1_raw.info()\n",
    "# df1_raw.index\n",
    "# df1_raw.columns\n",
    "\n",
    "# remove wrong index form first xslx line\n",
    "# df1 = df1_raw.drop([0, 1,17])\n",
    "# df1 = df1.reset_index(drop=True)\n",
    "# header = list(df1_raw.loc[1])\n",
    "# header[0] = \"Energietraeger\"\n",
    "# df1.columns = header\n",
    "# df1[\"Jahr\"] = 2013\n",
    "# df1.head()\n"
   ]
  },
  {
   "cell_type": "markdown",
   "metadata": {},
   "source": [
    "## Data Import, Cleaning, Concatination"
   ]
  },
  {
   "cell_type": "code",
   "execution_count": 34,
   "metadata": {
    "collapsed": false,
    "pycharm": {
     "name": "#%%\n"
    }
   },
   "outputs": [],
   "source": [
    "# Data cleaning function\n",
    "\n",
    "header = ['Energietraeger',\n",
    "          'Nettopreis',\n",
    "          'Energiesteuern und -abgaben',\n",
    "          'MWSt',\n",
    "          'Steuern insgesamt',\n",
    "          'Bruttopreis']\n",
    "\n",
    "\n",
    "def clean_dataframe(df_raw, year: int):\n",
    "    df_clean = df_raw.drop([0, 1, 20])\n",
    "    df_clean = df_clean.reset_index(drop=True)\n",
    "    df_clean.columns = header\n",
    "    df_clean[\"Jahr\"] = year\n",
    "    return df_clean\n"
   ]
  },
  {
   "cell_type": "code",
   "execution_count": 35,
   "metadata": {
    "collapsed": false,
    "pycharm": {
     "name": "#%%\n"
    }
   },
   "outputs": [
    {
     "data": {
      "text/html": [
       "<div>\n",
       "<style scoped>\n",
       "    .dataframe tbody tr th:only-of-type {\n",
       "        vertical-align: middle;\n",
       "    }\n",
       "\n",
       "    .dataframe tbody tr th {\n",
       "        vertical-align: top;\n",
       "    }\n",
       "\n",
       "    .dataframe thead tr th {\n",
       "        text-align: left;\n",
       "    }\n",
       "</style>\n",
       "<table border=\"1\" class=\"dataframe\">\n",
       "  <thead>\n",
       "    <tr>\n",
       "      <th></th>\n",
       "      <th colspan=\"7\" halign=\"left\">2014</th>\n",
       "      <th colspan=\"3\" halign=\"left\">2017</th>\n",
       "      <th>...</th>\n",
       "      <th colspan=\"3\" halign=\"left\">2012</th>\n",
       "      <th colspan=\"7\" halign=\"left\">2018</th>\n",
       "    </tr>\n",
       "    <tr>\n",
       "      <th></th>\n",
       "      <th>Energietraeger</th>\n",
       "      <th>Nettopreis</th>\n",
       "      <th>Energiesteuern und -abgaben</th>\n",
       "      <th>MWSt</th>\n",
       "      <th>Steuern insgesamt</th>\n",
       "      <th>Bruttopreis</th>\n",
       "      <th>Jahr</th>\n",
       "      <th>Energietraeger</th>\n",
       "      <th>Nettopreis</th>\n",
       "      <th>Energiesteuern und -abgaben</th>\n",
       "      <th>...</th>\n",
       "      <th>Steuern insgesamt</th>\n",
       "      <th>Bruttopreis</th>\n",
       "      <th>Jahr</th>\n",
       "      <th>Energietraeger</th>\n",
       "      <th>Nettopreis</th>\n",
       "      <th>Energiesteuern und -abgaben</th>\n",
       "      <th>MWSt</th>\n",
       "      <th>Steuern insgesamt</th>\n",
       "      <th>Bruttopreis</th>\n",
       "      <th>Jahr</th>\n",
       "    </tr>\n",
       "  </thead>\n",
       "  <tbody>\n",
       "    <tr>\n",
       "      <th>0</th>\n",
       "      <td>Heizöl schwer (Industrie)/t1)</td>\n",
       "      <td>472.7875</td>\n",
       "      <td>67.7</td>\n",
       "      <td>0</td>\n",
       "      <td>67.7</td>\n",
       "      <td>540.4875</td>\n",
       "      <td>2014</td>\n",
       "      <td>Heizöl schwer (Industrie)/t1)</td>\n",
       "      <td>321.04</td>\n",
       "      <td>67.7</td>\n",
       "      <td>...</td>\n",
       "      <td>67.7</td>\n",
       "      <td>641.44975</td>\n",
       "      <td>2012</td>\n",
       "      <td>Heizöl schwer (Industrie)/t1)</td>\n",
       "      <td>386.44175</td>\n",
       "      <td>67.7</td>\n",
       "      <td>0</td>\n",
       "      <td>67.7</td>\n",
       "      <td>454.14175</td>\n",
       "      <td>2018</td>\n",
       "    </tr>\n",
       "    <tr>\n",
       "      <th>1</th>\n",
       "      <td>Heizöl schwer (Kraftwerke)/t</td>\n",
       "      <td>340.286991</td>\n",
       "      <td>7.7</td>\n",
       "      <td>0</td>\n",
       "      <td>7.7</td>\n",
       "      <td>347.986991</td>\n",
       "      <td>2014</td>\n",
       "      <td>Heizöl schwer (Kraftwerke)/t</td>\n",
       "      <td>120.042254</td>\n",
       "      <td>7.7</td>\n",
       "      <td>...</td>\n",
       "      <td>7.7</td>\n",
       "      <td>500.804256</td>\n",
       "      <td>2012</td>\n",
       "      <td>Heizöl schwer (Kraftwerke)/t</td>\n",
       "      <td>246.076435</td>\n",
       "      <td>7.7</td>\n",
       "      <td>0</td>\n",
       "      <td>7.7</td>\n",
       "      <td>253.776435</td>\n",
       "      <td>2018</td>\n",
       "    </tr>\n",
       "    <tr>\n",
       "      <th>2</th>\n",
       "      <td>Gasöl (Industrie)/1000 l</td>\n",
       "      <td>510.016467</td>\n",
       "      <td>109.18</td>\n",
       "      <td>0</td>\n",
       "      <td>109.18</td>\n",
       "      <td>619.196468</td>\n",
       "      <td>2014</td>\n",
       "      <td>Gasöl (Industrie)/1000 l</td>\n",
       "      <td>408.741955</td>\n",
       "      <td>109.18</td>\n",
       "      <td>...</td>\n",
       "      <td>109.18</td>\n",
       "      <td>680.04</td>\n",
       "      <td>2012</td>\n",
       "      <td>Gasöl (Industrie)/1000 l</td>\n",
       "      <td>462.541266</td>\n",
       "      <td>109.18</td>\n",
       "      <td>0</td>\n",
       "      <td>109.18</td>\n",
       "      <td>571.721266</td>\n",
       "      <td>2018</td>\n",
       "    </tr>\n",
       "    <tr>\n",
       "      <th>3</th>\n",
       "      <td>Gasöl (Haushalte)/1000 l1)</td>\n",
       "      <td>634.02</td>\n",
       "      <td>109.18</td>\n",
       "      <td>148.64</td>\n",
       "      <td>257.82</td>\n",
       "      <td>891.84</td>\n",
       "      <td>2014</td>\n",
       "      <td>Gasöl (Haushalte)/1000 l1)</td>\n",
       "      <td>462.537361</td>\n",
       "      <td>109.18</td>\n",
       "      <td>...</td>\n",
       "      <td>275.82</td>\n",
       "      <td>999.8375</td>\n",
       "      <td>2012</td>\n",
       "      <td>Gasöl (Haushalte)/1000 l1)</td>\n",
       "      <td>562.087228</td>\n",
       "      <td>109.18</td>\n",
       "      <td>134.253446</td>\n",
       "      <td>243.433446</td>\n",
       "      <td>805.518173</td>\n",
       "      <td>2018</td>\n",
       "    </tr>\n",
       "    <tr>\n",
       "      <th>4</th>\n",
       "      <td>Diesel (komm. Einsatz)/l</td>\n",
       "      <td>0.540401</td>\n",
       "      <td>0.409585</td>\n",
       "      <td>0</td>\n",
       "      <td>0.409585</td>\n",
       "      <td>0.949986</td>\n",
       "      <td>2014</td>\n",
       "      <td>Diesel (komm. Einsatz)/l</td>\n",
       "      <td>0.447073</td>\n",
       "      <td>0.40964</td>\n",
       "      <td>...</td>\n",
       "      <td>0.436795</td>\n",
       "      <td>0.975</td>\n",
       "      <td>2012</td>\n",
       "      <td>Diesel (komm. Einsatz)/l</td>\n",
       "      <td>0.497007</td>\n",
       "      <td>0.40964</td>\n",
       "      <td>0</td>\n",
       "      <td>0.40964</td>\n",
       "      <td>0.906647</td>\n",
       "      <td>2018</td>\n",
       "    </tr>\n",
       "  </tbody>\n",
       "</table>\n",
       "<p>5 rows × 91 columns</p>\n",
       "</div>"
      ],
      "text/plain": [
       "                            2014                                          \\\n",
       "                  Energietraeger  Nettopreis Energiesteuern und -abgaben   \n",
       "0  Heizöl schwer (Industrie)/t1)    472.7875                        67.7   \n",
       "1   Heizöl schwer (Kraftwerke)/t  340.286991                         7.7   \n",
       "2       Gasöl (Industrie)/1000 l  510.016467                      109.18   \n",
       "3     Gasöl (Haushalte)/1000 l1)      634.02                      109.18   \n",
       "4       Diesel (komm. Einsatz)/l    0.540401                    0.409585   \n",
       "\n",
       "                                                                        2017  \\\n",
       "     MWSt Steuern insgesamt Bruttopreis  Jahr                 Energietraeger   \n",
       "0       0              67.7    540.4875  2014  Heizöl schwer (Industrie)/t1)   \n",
       "1       0               7.7  347.986991  2014   Heizöl schwer (Kraftwerke)/t   \n",
       "2       0            109.18  619.196468  2014       Gasöl (Industrie)/1000 l   \n",
       "3  148.64            257.82      891.84  2014     Gasöl (Haushalte)/1000 l1)   \n",
       "4       0          0.409585    0.949986  2014       Diesel (komm. Einsatz)/l   \n",
       "\n",
       "                                           ...              2012              \\\n",
       "   Nettopreis Energiesteuern und -abgaben  ... Steuern insgesamt Bruttopreis   \n",
       "0      321.04                        67.7  ...              67.7   641.44975   \n",
       "1  120.042254                         7.7  ...               7.7  500.804256   \n",
       "2  408.741955                      109.18  ...            109.18      680.04   \n",
       "3  462.537361                      109.18  ...            275.82    999.8375   \n",
       "4    0.447073                     0.40964  ...          0.436795       0.975   \n",
       "\n",
       "                                  2018              \\\n",
       "   Jahr                 Energietraeger  Nettopreis   \n",
       "0  2012  Heizöl schwer (Industrie)/t1)   386.44175   \n",
       "1  2012   Heizöl schwer (Kraftwerke)/t  246.076435   \n",
       "2  2012       Gasöl (Industrie)/1000 l  462.541266   \n",
       "3  2012     Gasöl (Haushalte)/1000 l1)  562.087228   \n",
       "4  2012       Diesel (komm. Einsatz)/l    0.497007   \n",
       "\n",
       "                                                                               \n",
       "  Energiesteuern und -abgaben        MWSt Steuern insgesamt Bruttopreis  Jahr  \n",
       "0                        67.7           0              67.7   454.14175  2018  \n",
       "1                         7.7           0               7.7  253.776435  2018  \n",
       "2                      109.18           0            109.18  571.721266  2018  \n",
       "3                      109.18  134.253446        243.433446  805.518173  2018  \n",
       "4                     0.40964           0           0.40964    0.906647  2018  \n",
       "\n",
       "[5 rows x 91 columns]"
      ]
     },
     "execution_count": 35,
     "metadata": {},
     "output_type": "execute_result"
    }
   ],
   "source": [
    "# Data import from folder\n",
    "\n",
    "directory = \"../../data/statistik_austria/energy\"\n",
    "dataframes = {}\n",
    "\n",
    "for filename in os.listdir(directory):\n",
    "    f = os.path.join(directory, filename)\n",
    "\n",
    "    if os.path.isfile(f):\n",
    "        year = f[-40:-36]\n",
    "\n",
    "        df = pd.read_excel(f, header=None)\n",
    "        df = clean_dataframe(df, year)\n",
    "        df.name = year\n",
    "\n",
    "        dataframes[year] = df\n",
    "\n",
    "df_list = list(dataframes.values())\n",
    "df_names = list(dataframes.keys())\n",
    "\n",
    "\n",
    "# Multiindex concatination and column names\n",
    "df = pd.concat(df_list, axis=1, keys=df_names)\n",
    "df.columns.names = [\"Jahr\", \"Info\"]\n",
    "df.head()\n",
    "# df.index\n",
    "# df.columns\n",
    "# df.dtypes\n",
    "\n",
    "\n",
    "# df2 = pd.concat(df_list, axis=0, keys=df_names)\n",
    "# df2.columns.names = [\"Blub\"]\n",
    "# df2.head()\n",
    "# df2.index\n",
    "# df2.columns\n",
    "# df2.dtypes\n",
    "\n",
    "# df.tail()\n",
    "# df.info()\n",
    "# df.index.name = \"idx\"\n",
    "# df.index\n",
    "# df.columns\n"
   ]
  },
  {
   "cell_type": "markdown",
   "metadata": {},
   "source": [
    "## Data Analysis\n",
    "\n",
    "\n",
    "### Strompreis"
   ]
  },
  {
   "cell_type": "code",
   "execution_count": 36,
   "metadata": {
    "collapsed": false,
    "pycharm": {
     "name": "#%%\n"
    }
   },
   "outputs": [
    {
     "data": {
      "text/html": [
       "<div>\n",
       "<style scoped>\n",
       "    .dataframe tbody tr th:only-of-type {\n",
       "        vertical-align: middle;\n",
       "    }\n",
       "\n",
       "    .dataframe tbody tr th {\n",
       "        vertical-align: top;\n",
       "    }\n",
       "\n",
       "    .dataframe thead tr th {\n",
       "        text-align: left;\n",
       "    }\n",
       "</style>\n",
       "<table border=\"1\" class=\"dataframe\">\n",
       "  <thead>\n",
       "    <tr>\n",
       "      <th></th>\n",
       "      <th colspan=\"7\" halign=\"left\">2014</th>\n",
       "      <th colspan=\"3\" halign=\"left\">2017</th>\n",
       "      <th>...</th>\n",
       "      <th colspan=\"3\" halign=\"left\">2012</th>\n",
       "      <th colspan=\"7\" halign=\"left\">2018</th>\n",
       "    </tr>\n",
       "    <tr>\n",
       "      <th></th>\n",
       "      <th>Energietraeger</th>\n",
       "      <th>Nettopreis</th>\n",
       "      <th>Energiesteuern und -abgaben</th>\n",
       "      <th>MWSt</th>\n",
       "      <th>Steuern insgesamt</th>\n",
       "      <th>Bruttopreis</th>\n",
       "      <th>Jahr</th>\n",
       "      <th>Energietraeger</th>\n",
       "      <th>Nettopreis</th>\n",
       "      <th>Energiesteuern und -abgaben</th>\n",
       "      <th>...</th>\n",
       "      <th>Steuern insgesamt</th>\n",
       "      <th>Bruttopreis</th>\n",
       "      <th>Jahr</th>\n",
       "      <th>Energietraeger</th>\n",
       "      <th>Nettopreis</th>\n",
       "      <th>Energiesteuern und -abgaben</th>\n",
       "      <th>MWSt</th>\n",
       "      <th>Steuern insgesamt</th>\n",
       "      <th>Bruttopreis</th>\n",
       "      <th>Jahr</th>\n",
       "    </tr>\n",
       "  </thead>\n",
       "  <tbody>\n",
       "    <tr>\n",
       "      <th>0</th>\n",
       "      <td>Heizöl schwer (Industrie)/t1)</td>\n",
       "      <td>472.7875</td>\n",
       "      <td>67.7</td>\n",
       "      <td>0</td>\n",
       "      <td>67.7</td>\n",
       "      <td>540.4875</td>\n",
       "      <td>2014</td>\n",
       "      <td>Heizöl schwer (Industrie)/t1)</td>\n",
       "      <td>321.04</td>\n",
       "      <td>67.7</td>\n",
       "      <td>...</td>\n",
       "      <td>67.7</td>\n",
       "      <td>641.44975</td>\n",
       "      <td>2012</td>\n",
       "      <td>Heizöl schwer (Industrie)/t1)</td>\n",
       "      <td>386.44175</td>\n",
       "      <td>67.7</td>\n",
       "      <td>0</td>\n",
       "      <td>67.7</td>\n",
       "      <td>454.14175</td>\n",
       "      <td>2018</td>\n",
       "    </tr>\n",
       "    <tr>\n",
       "      <th>1</th>\n",
       "      <td>Heizöl schwer (Kraftwerke)/t</td>\n",
       "      <td>340.286991</td>\n",
       "      <td>7.7</td>\n",
       "      <td>0</td>\n",
       "      <td>7.7</td>\n",
       "      <td>347.986991</td>\n",
       "      <td>2014</td>\n",
       "      <td>Heizöl schwer (Kraftwerke)/t</td>\n",
       "      <td>120.042254</td>\n",
       "      <td>7.7</td>\n",
       "      <td>...</td>\n",
       "      <td>7.7</td>\n",
       "      <td>500.804256</td>\n",
       "      <td>2012</td>\n",
       "      <td>Heizöl schwer (Kraftwerke)/t</td>\n",
       "      <td>246.076435</td>\n",
       "      <td>7.7</td>\n",
       "      <td>0</td>\n",
       "      <td>7.7</td>\n",
       "      <td>253.776435</td>\n",
       "      <td>2018</td>\n",
       "    </tr>\n",
       "    <tr>\n",
       "      <th>2</th>\n",
       "      <td>Gasöl (Industrie)/1000 l</td>\n",
       "      <td>510.016467</td>\n",
       "      <td>109.18</td>\n",
       "      <td>0</td>\n",
       "      <td>109.18</td>\n",
       "      <td>619.196468</td>\n",
       "      <td>2014</td>\n",
       "      <td>Gasöl (Industrie)/1000 l</td>\n",
       "      <td>408.741955</td>\n",
       "      <td>109.18</td>\n",
       "      <td>...</td>\n",
       "      <td>109.18</td>\n",
       "      <td>680.04</td>\n",
       "      <td>2012</td>\n",
       "      <td>Gasöl (Industrie)/1000 l</td>\n",
       "      <td>462.541266</td>\n",
       "      <td>109.18</td>\n",
       "      <td>0</td>\n",
       "      <td>109.18</td>\n",
       "      <td>571.721266</td>\n",
       "      <td>2018</td>\n",
       "    </tr>\n",
       "    <tr>\n",
       "      <th>3</th>\n",
       "      <td>Gasöl (Haushalte)/1000 l1)</td>\n",
       "      <td>634.02</td>\n",
       "      <td>109.18</td>\n",
       "      <td>148.64</td>\n",
       "      <td>257.82</td>\n",
       "      <td>891.84</td>\n",
       "      <td>2014</td>\n",
       "      <td>Gasöl (Haushalte)/1000 l1)</td>\n",
       "      <td>462.537361</td>\n",
       "      <td>109.18</td>\n",
       "      <td>...</td>\n",
       "      <td>275.82</td>\n",
       "      <td>999.8375</td>\n",
       "      <td>2012</td>\n",
       "      <td>Gasöl (Haushalte)/1000 l1)</td>\n",
       "      <td>562.087228</td>\n",
       "      <td>109.18</td>\n",
       "      <td>134.253446</td>\n",
       "      <td>243.433446</td>\n",
       "      <td>805.518173</td>\n",
       "      <td>2018</td>\n",
       "    </tr>\n",
       "    <tr>\n",
       "      <th>4</th>\n",
       "      <td>Diesel (komm. Einsatz)/l</td>\n",
       "      <td>0.540401</td>\n",
       "      <td>0.409585</td>\n",
       "      <td>0</td>\n",
       "      <td>0.409585</td>\n",
       "      <td>0.949986</td>\n",
       "      <td>2014</td>\n",
       "      <td>Diesel (komm. Einsatz)/l</td>\n",
       "      <td>0.447073</td>\n",
       "      <td>0.40964</td>\n",
       "      <td>...</td>\n",
       "      <td>0.436795</td>\n",
       "      <td>0.975</td>\n",
       "      <td>2012</td>\n",
       "      <td>Diesel (komm. Einsatz)/l</td>\n",
       "      <td>0.497007</td>\n",
       "      <td>0.40964</td>\n",
       "      <td>0</td>\n",
       "      <td>0.40964</td>\n",
       "      <td>0.906647</td>\n",
       "      <td>2018</td>\n",
       "    </tr>\n",
       "  </tbody>\n",
       "</table>\n",
       "<p>5 rows × 91 columns</p>\n",
       "</div>"
      ],
      "text/plain": [
       "                            2014                                          \\\n",
       "                  Energietraeger  Nettopreis Energiesteuern und -abgaben   \n",
       "0  Heizöl schwer (Industrie)/t1)    472.7875                        67.7   \n",
       "1   Heizöl schwer (Kraftwerke)/t  340.286991                         7.7   \n",
       "2       Gasöl (Industrie)/1000 l  510.016467                      109.18   \n",
       "3     Gasöl (Haushalte)/1000 l1)      634.02                      109.18   \n",
       "4       Diesel (komm. Einsatz)/l    0.540401                    0.409585   \n",
       "\n",
       "                                                                        2017  \\\n",
       "     MWSt Steuern insgesamt Bruttopreis  Jahr                 Energietraeger   \n",
       "0       0              67.7    540.4875  2014  Heizöl schwer (Industrie)/t1)   \n",
       "1       0               7.7  347.986991  2014   Heizöl schwer (Kraftwerke)/t   \n",
       "2       0            109.18  619.196468  2014       Gasöl (Industrie)/1000 l   \n",
       "3  148.64            257.82      891.84  2014     Gasöl (Haushalte)/1000 l1)   \n",
       "4       0          0.409585    0.949986  2014       Diesel (komm. Einsatz)/l   \n",
       "\n",
       "                                           ...              2012              \\\n",
       "   Nettopreis Energiesteuern und -abgaben  ... Steuern insgesamt Bruttopreis   \n",
       "0      321.04                        67.7  ...              67.7   641.44975   \n",
       "1  120.042254                         7.7  ...               7.7  500.804256   \n",
       "2  408.741955                      109.18  ...            109.18      680.04   \n",
       "3  462.537361                      109.18  ...            275.82    999.8375   \n",
       "4    0.447073                     0.40964  ...          0.436795       0.975   \n",
       "\n",
       "                                  2018              \\\n",
       "   Jahr                 Energietraeger  Nettopreis   \n",
       "0  2012  Heizöl schwer (Industrie)/t1)   386.44175   \n",
       "1  2012   Heizöl schwer (Kraftwerke)/t  246.076435   \n",
       "2  2012       Gasöl (Industrie)/1000 l  462.541266   \n",
       "3  2012     Gasöl (Haushalte)/1000 l1)  562.087228   \n",
       "4  2012       Diesel (komm. Einsatz)/l    0.497007   \n",
       "\n",
       "                                                                               \n",
       "  Energiesteuern und -abgaben        MWSt Steuern insgesamt Bruttopreis  Jahr  \n",
       "0                        67.7           0              67.7   454.14175  2018  \n",
       "1                         7.7           0               7.7  253.776435  2018  \n",
       "2                      109.18           0            109.18  571.721266  2018  \n",
       "3                      109.18  134.253446        243.433446  805.518173  2018  \n",
       "4                     0.40964           0           0.40964    0.906647  2018  \n",
       "\n",
       "[5 rows x 91 columns]"
      ]
     },
     "execution_count": 36,
     "metadata": {},
     "output_type": "execute_result"
    },
    {
     "data": {
      "text/plain": [
       "RangeIndex(start=0, stop=18, step=1)"
      ]
     },
     "execution_count": 36,
     "metadata": {},
     "output_type": "execute_result"
    },
    {
     "ename": "KeyError",
     "evalue": "'Level Info not found'",
     "output_type": "error",
     "traceback": [
      "\u001b[0;31m---------------------------------------------------------------------------\u001b[0m",
      "\u001b[0;31mValueError\u001b[0m                                Traceback (most recent call last)",
      "File \u001b[0;32m~/repos/Python-Data-Science/venv/lib/python3.10/site-packages/pandas/core/indexes/multi.py:1529\u001b[0m, in \u001b[0;36mMultiIndex._get_level_number\u001b[0;34m(self, level)\u001b[0m\n\u001b[1;32m   <a href='file:///home/olli/repos/Python-Data-Science/venv/lib/python3.10/site-packages/pandas/core/indexes/multi.py?line=1527'>1528</a>\u001b[0m \u001b[39mtry\u001b[39;00m:\n\u001b[0;32m-> <a href='file:///home/olli/repos/Python-Data-Science/venv/lib/python3.10/site-packages/pandas/core/indexes/multi.py?line=1528'>1529</a>\u001b[0m     level \u001b[39m=\u001b[39m \u001b[39mself\u001b[39;49m\u001b[39m.\u001b[39;49mnames\u001b[39m.\u001b[39;49mindex(level)\n\u001b[1;32m   <a href='file:///home/olli/repos/Python-Data-Science/venv/lib/python3.10/site-packages/pandas/core/indexes/multi.py?line=1529'>1530</a>\u001b[0m \u001b[39mexcept\u001b[39;00m \u001b[39mValueError\u001b[39;00m \u001b[39mas\u001b[39;00m err:\n",
      "\u001b[0;31mValueError\u001b[0m: 'Info' is not in list",
      "\nThe above exception was the direct cause of the following exception:\n",
      "\u001b[0;31mKeyError\u001b[0m                                  Traceback (most recent call last)",
      "\u001b[1;32m/home/olli/repos/Python-Data-Science/src/statistik_austria/energy.ipynb Cell 9'\u001b[0m in \u001b[0;36m<cell line: 8>\u001b[0;34m()\u001b[0m\n\u001b[1;32m      <a href='vscode-notebook-cell:/home/olli/repos/Python-Data-Science/src/statistik_austria/energy.ipynb#ch0000008?line=4'>5</a>\u001b[0m df\u001b[39m.\u001b[39mindex\n\u001b[1;32m      <a href='vscode-notebook-cell:/home/olli/repos/Python-Data-Science/src/statistik_austria/energy.ipynb#ch0000008?line=5'>6</a>\u001b[0m \u001b[39m# df[\"2013\"][[\"Energietraeger\", \"Nettopreis\", \"Jahr\"]]\u001b[39;00m\n\u001b[0;32m----> <a href='vscode-notebook-cell:/home/olli/repos/Python-Data-Science/src/statistik_austria/energy.ipynb#ch0000008?line=7'>8</a>\u001b[0m strom \u001b[39m=\u001b[39m df\u001b[39m.\u001b[39;49mxs(key\u001b[39m=\u001b[39;49m\u001b[39m\"\u001b[39;49m\u001b[39mNettopreis\u001b[39;49m\u001b[39m\"\u001b[39;49m, axis\u001b[39m=\u001b[39;49m\u001b[39m1\u001b[39;49m, level\u001b[39m=\u001b[39;49m\u001b[39m\"\u001b[39;49m\u001b[39mInfo\u001b[39;49m\u001b[39m\"\u001b[39;49m)\u001b[39m.\u001b[39mloc[\u001b[39m17\u001b[39m]\n\u001b[1;32m      <a href='vscode-notebook-cell:/home/olli/repos/Python-Data-Science/src/statistik_austria/energy.ipynb#ch0000008?line=8'>9</a>\u001b[0m \u001b[39mtype\u001b[39m(strom)\n\u001b[1;32m     <a href='vscode-notebook-cell:/home/olli/repos/Python-Data-Science/src/statistik_austria/energy.ipynb#ch0000008?line=9'>10</a>\u001b[0m \u001b[39m# df.xs(key=\"Nettopreis\", axis=1, level=\"Info\")\u001b[39;00m\n",
      "File \u001b[0;32m~/repos/Python-Data-Science/venv/lib/python3.10/site-packages/pandas/core/generic.py:3836\u001b[0m, in \u001b[0;36mNDFrame.xs\u001b[0;34m(self, key, axis, level, drop_level)\u001b[0m\n\u001b[1;32m   <a href='file:///home/olli/repos/Python-Data-Science/venv/lib/python3.10/site-packages/pandas/core/generic.py?line=3833'>3834</a>\u001b[0m \u001b[39mif\u001b[39;00m \u001b[39mnot\u001b[39;00m \u001b[39misinstance\u001b[39m(labels, MultiIndex):\n\u001b[1;32m   <a href='file:///home/olli/repos/Python-Data-Science/venv/lib/python3.10/site-packages/pandas/core/generic.py?line=3834'>3835</a>\u001b[0m     \u001b[39mraise\u001b[39;00m \u001b[39mTypeError\u001b[39;00m(\u001b[39m\"\u001b[39m\u001b[39mIndex must be a MultiIndex\u001b[39m\u001b[39m\"\u001b[39m)\n\u001b[0;32m-> <a href='file:///home/olli/repos/Python-Data-Science/venv/lib/python3.10/site-packages/pandas/core/generic.py?line=3835'>3836</a>\u001b[0m loc, new_ax \u001b[39m=\u001b[39m labels\u001b[39m.\u001b[39;49mget_loc_level(key, level\u001b[39m=\u001b[39;49mlevel, drop_level\u001b[39m=\u001b[39;49mdrop_level)\n\u001b[1;32m   <a href='file:///home/olli/repos/Python-Data-Science/venv/lib/python3.10/site-packages/pandas/core/generic.py?line=3837'>3838</a>\u001b[0m \u001b[39m# create the tuple of the indexer\u001b[39;00m\n\u001b[1;32m   <a href='file:///home/olli/repos/Python-Data-Science/venv/lib/python3.10/site-packages/pandas/core/generic.py?line=3838'>3839</a>\u001b[0m _indexer \u001b[39m=\u001b[39m [\u001b[39mslice\u001b[39m(\u001b[39mNone\u001b[39;00m)] \u001b[39m*\u001b[39m \u001b[39mself\u001b[39m\u001b[39m.\u001b[39mndim\n",
      "File \u001b[0;32m~/repos/Python-Data-Science/venv/lib/python3.10/site-packages/pandas/core/indexes/multi.py:2968\u001b[0m, in \u001b[0;36mMultiIndex.get_loc_level\u001b[0;34m(self, key, level, drop_level)\u001b[0m\n\u001b[1;32m   <a href='file:///home/olli/repos/Python-Data-Science/venv/lib/python3.10/site-packages/pandas/core/indexes/multi.py?line=2929'>2930</a>\u001b[0m \u001b[39m\"\"\"\u001b[39;00m\n\u001b[1;32m   <a href='file:///home/olli/repos/Python-Data-Science/venv/lib/python3.10/site-packages/pandas/core/indexes/multi.py?line=2930'>2931</a>\u001b[0m \u001b[39mGet location and sliced index for requested label(s)/level(s).\u001b[39;00m\n\u001b[1;32m   <a href='file:///home/olli/repos/Python-Data-Science/venv/lib/python3.10/site-packages/pandas/core/indexes/multi.py?line=2931'>2932</a>\u001b[0m \n\u001b[0;32m   (...)\u001b[0m\n\u001b[1;32m   <a href='file:///home/olli/repos/Python-Data-Science/venv/lib/python3.10/site-packages/pandas/core/indexes/multi.py?line=2964'>2965</a>\u001b[0m \u001b[39m(1, None)\u001b[39;00m\n\u001b[1;32m   <a href='file:///home/olli/repos/Python-Data-Science/venv/lib/python3.10/site-packages/pandas/core/indexes/multi.py?line=2965'>2966</a>\u001b[0m \u001b[39m\"\"\"\u001b[39;00m\n\u001b[1;32m   <a href='file:///home/olli/repos/Python-Data-Science/venv/lib/python3.10/site-packages/pandas/core/indexes/multi.py?line=2966'>2967</a>\u001b[0m \u001b[39mif\u001b[39;00m \u001b[39mnot\u001b[39;00m \u001b[39misinstance\u001b[39m(level, (\u001b[39mlist\u001b[39m, \u001b[39mtuple\u001b[39m)):\n\u001b[0;32m-> <a href='file:///home/olli/repos/Python-Data-Science/venv/lib/python3.10/site-packages/pandas/core/indexes/multi.py?line=2967'>2968</a>\u001b[0m     level \u001b[39m=\u001b[39m \u001b[39mself\u001b[39;49m\u001b[39m.\u001b[39;49m_get_level_number(level)\n\u001b[1;32m   <a href='file:///home/olli/repos/Python-Data-Science/venv/lib/python3.10/site-packages/pandas/core/indexes/multi.py?line=2968'>2969</a>\u001b[0m \u001b[39melse\u001b[39;00m:\n\u001b[1;32m   <a href='file:///home/olli/repos/Python-Data-Science/venv/lib/python3.10/site-packages/pandas/core/indexes/multi.py?line=2969'>2970</a>\u001b[0m     level \u001b[39m=\u001b[39m [\u001b[39mself\u001b[39m\u001b[39m.\u001b[39m_get_level_number(lev) \u001b[39mfor\u001b[39;00m lev \u001b[39min\u001b[39;00m level]\n",
      "File \u001b[0;32m~/repos/Python-Data-Science/venv/lib/python3.10/site-packages/pandas/core/indexes/multi.py:1532\u001b[0m, in \u001b[0;36mMultiIndex._get_level_number\u001b[0;34m(self, level)\u001b[0m\n\u001b[1;32m   <a href='file:///home/olli/repos/Python-Data-Science/venv/lib/python3.10/site-packages/pandas/core/indexes/multi.py?line=1529'>1530</a>\u001b[0m \u001b[39mexcept\u001b[39;00m \u001b[39mValueError\u001b[39;00m \u001b[39mas\u001b[39;00m err:\n\u001b[1;32m   <a href='file:///home/olli/repos/Python-Data-Science/venv/lib/python3.10/site-packages/pandas/core/indexes/multi.py?line=1530'>1531</a>\u001b[0m     \u001b[39mif\u001b[39;00m \u001b[39mnot\u001b[39;00m is_integer(level):\n\u001b[0;32m-> <a href='file:///home/olli/repos/Python-Data-Science/venv/lib/python3.10/site-packages/pandas/core/indexes/multi.py?line=1531'>1532</a>\u001b[0m         \u001b[39mraise\u001b[39;00m \u001b[39mKeyError\u001b[39;00m(\u001b[39mf\u001b[39m\u001b[39m\"\u001b[39m\u001b[39mLevel \u001b[39m\u001b[39m{\u001b[39;00mlevel\u001b[39m}\u001b[39;00m\u001b[39m not found\u001b[39m\u001b[39m\"\u001b[39m) \u001b[39mfrom\u001b[39;00m \u001b[39merr\u001b[39;00m\n\u001b[1;32m   <a href='file:///home/olli/repos/Python-Data-Science/venv/lib/python3.10/site-packages/pandas/core/indexes/multi.py?line=1532'>1533</a>\u001b[0m     \u001b[39melif\u001b[39;00m level \u001b[39m<\u001b[39m \u001b[39m0\u001b[39m:\n\u001b[1;32m   <a href='file:///home/olli/repos/Python-Data-Science/venv/lib/python3.10/site-packages/pandas/core/indexes/multi.py?line=1533'>1534</a>\u001b[0m         level \u001b[39m+\u001b[39m\u001b[39m=\u001b[39m \u001b[39mself\u001b[39m\u001b[39m.\u001b[39mnlevels\n",
      "\u001b[0;31mKeyError\u001b[0m: 'Level Info not found'"
     ]
    }
   ],
   "source": [
    "# df[\"2013\"].loc[df[\"2013\"][\"Energietraeger\"] == \"Gasöl (Haushalte)/1000 l1)\"]\n",
    "# df[(\"2013\", \"Energietraeger\")]\n",
    "\n",
    "df.head()\n",
    "df.index\n",
    "# df[\"2013\"][[\"Energietraeger\", \"Nettopreis\", \"Jahr\"]]\n",
    "\n",
    "strom = df.xs(key=\"Nettopreis\", axis=1, level=\"Info\").loc[17]\n",
    "type(strom)\n",
    "# df.xs(key=\"Nettopreis\", axis=1, level=\"Info\")\n",
    "strom = strom.sort_index(ascending=True)\n",
    "\n"
   ]
  },
  {
   "cell_type": "code",
   "execution_count": null,
   "metadata": {
    "collapsed": false,
    "pycharm": {
     "name": "#%%\n"
    }
   },
   "outputs": [
    {
     "data": {
      "text/plain": [
       "<AxesSubplot:title={'center':'Strompreis (Netto)'}, xlabel='Jahr', ylabel='Kosten (€)'>"
      ]
     },
     "execution_count": 201,
     "metadata": {},
     "output_type": "execute_result"
    },
    {
     "data": {
      "text/plain": [
       "Text(0.5, 1.0, 'Strompreis (Netto)')"
      ]
     },
     "execution_count": 201,
     "metadata": {},
     "output_type": "execute_result"
    },
    {
     "data": {
      "image/png": "[encoded data removed]",
      "text/plain": [
       "<Figure size 1152x576 with 1 Axes>"
      ]
     },
     "metadata": {
      "needs_background": "light"
     },
     "output_type": "display_data"
    }
   ],
   "source": [
    "# strom\n",
    "# strom.info()\n",
    "# strom.describe()\n",
    "# strom.mean()\n",
    "# strom.max()\n",
    "strom.plot(kind='line', figsize=(16, 8), grid=True, xlabel='Jahr',\n",
    "           ylabel='Kosten (€)', title='Strompreis (Netto)')\n",
    "\n",
    "plt.title('Strompreis (Netto)', fontsize=18)\n",
    "\n"
   ]
  },
  {
   "cell_type": "code",
   "execution_count": null,
   "metadata": {},
   "outputs": [
    {
     "data": {
      "text/plain": [
       "Jahr\n",
       "2009         NaN\n",
       "2010    0.064418\n",
       "2011    0.012813\n",
       "2012   -0.000532\n",
       "2013   -0.019043\n",
       "2014   -0.053786\n",
       "2015   -0.045917\n",
       "2016   -0.021590\n",
       "2017   -0.019201\n",
       "2018    0.010206\n",
       "2019    0.048978\n",
       "2020    0.035153\n",
       "2021    0.012976\n",
       "Name: 17, dtype: float64"
      ]
     },
     "execution_count": 202,
     "metadata": {},
     "output_type": "execute_result"
    }
   ],
   "source": [
    "strom.pct_change()"
   ]
  },
  {
   "cell_type": "code",
   "execution_count": null,
   "metadata": {},
   "outputs": [
    {
     "data": {
      "text/plain": [
       "Index(['Nettopreis'], dtype='object', name='info')"
      ]
     },
     "execution_count": 203,
     "metadata": {},
     "output_type": "execute_result"
    },
    {
     "data": {
      "text/plain": [
       "Index(['2009', '2010', '2011', '2012', '2013', '2014', '2015', '2016', '2017',\n",
       "       '2018', '2019', '2020', '2021'],\n",
       "      dtype='object', name='Jahr')"
      ]
     },
     "execution_count": 203,
     "metadata": {},
     "output_type": "execute_result"
    },
    {
     "data": {
      "text/plain": [
       "<bound method NDFrame.head of info Nettopreis  Nettopreisänderung %\n",
       "Jahr                                 \n",
       "2009    0.13242                   NaN\n",
       "2010    0.14095              0.064418\n",
       "2011   0.142756              0.012813\n",
       "2012    0.14268             -0.000532\n",
       "2013   0.139963             -0.019043\n",
       "2014   0.132435             -0.053786\n",
       "2015   0.126354             -0.045917\n",
       "2016   0.123626             -0.021590\n",
       "2017   0.121252             -0.019201\n",
       "2018    0.12249              0.010206\n",
       "2019   0.128489              0.048978\n",
       "2020   0.133006              0.035153\n",
       "2021   0.134732              0.012976>"
      ]
     },
     "execution_count": 203,
     "metadata": {},
     "output_type": "execute_result"
    },
    {
     "data": {
      "text/plain": [
       "<AxesSubplot:xlabel='Jahr'>"
      ]
     },
     "execution_count": 203,
     "metadata": {},
     "output_type": "execute_result"
    },
    {
     "data": {
      "image/png": "[encoded data removed]",
      "text/plain": [
       "<Figure size 864x648 with 1 Axes>"
      ]
     },
     "metadata": {
      "needs_background": "light"
     },
     "output_type": "display_data"
    }
   ],
   "source": [
    "strom_df = strom.to_frame()\n",
    "strom_df.rename(columns={17: \"Nettopreis\"}, inplace=True)\n",
    "strom_df.columns.name = \"info\"\n",
    "strom_df.columns\n",
    "strom_df.index\n",
    "\n",
    "strom_df[\"Nettopreisänderung %\"] = strom.pct_change()\n",
    "strom_df.head\n",
    "\n",
    "strom_df.plot(figsize=(12,9))"
   ]
  },
  {
   "cell_type": "code",
   "execution_count": null,
   "metadata": {},
   "outputs": [],
   "source": []
  },
  {
   "cell_type": "code",
   "execution_count": null,
   "metadata": {},
   "outputs": [
    {
     "data": {
      "text/plain": [
       "Jahr\n",
       "2009     0.13242\n",
       "2010     0.14095\n",
       "2011    0.142756\n",
       "2012     0.14268\n",
       "2013    0.139963\n",
       "2014    0.132435\n",
       "2015    0.126354\n",
       "2016    0.123626\n",
       "2017    0.121252\n",
       "2018     0.12249\n",
       "2019    0.128489\n",
       "2020    0.133006\n",
       "2021    0.134732\n",
       "Name: 17, dtype: object"
      ]
     },
     "execution_count": 204,
     "metadata": {},
     "output_type": "execute_result"
    }
   ],
   "source": [
    "strom"
   ]
  },
  {
   "cell_type": "code",
   "execution_count": null,
   "metadata": {
    "collapsed": false,
    "pycharm": {
     "name": "#%%\n"
    }
   },
   "outputs": [],
   "source": []
  },
  {
   "cell_type": "code",
   "execution_count": null,
   "metadata": {
    "collapsed": false,
    "pycharm": {
     "name": "#%%\n"
    }
   },
   "outputs": [],
   "source": []
  },
  {
   "cell_type": "code",
   "execution_count": null,
   "metadata": {},
   "outputs": [],
   "source": []
  }
 ],
 "metadata": {
  "interpreter": {
   "hash": "7cf4223c67f4127f9c9d7eb44e1a37b4182cbe37d87e113f5023417041e5a6ef"
  },
  "kernelspec": {
   "display_name": "Python 3.10.4 ('venv': venv)",
   "language": "python",
   "name": "python3"
  },
  "language_info": {
   "codemirror_mode": {
    "name": "ipython",
    "version": 3
   },
   "file_extension": ".py",
   "mimetype": "text/x-python",
   "name": "python",
   "nbconvert_exporter": "python",
   "pygments_lexer": "ipython3",
   "version": "3.10.4"
  }
 },
 "nbformat": 4,
 "nbformat_minor": 0
}
