{
 "cells": [
  {
   "cell_type": "markdown",
   "source": [
    "# Python Basics \n",
    "(Abschnitt 3)\n",
    "\n",
    "- Collections\n",
    "- Conditions, Loops, Functions, List Comprehension\n",
    "- Lambda Expressions, Map&Filter, Methods"
   ],
   "metadata": {}
  },
  {
   "cell_type": "code",
   "execution_count": null,
   "source": [
    "# help(list)"
   ],
   "outputs": [],
   "metadata": {
    "scrolled": true
   }
  },
  {
   "cell_type": "code",
   "execution_count": null,
   "source": [
    "pwd"
   ],
   "outputs": [],
   "metadata": {}
  },
  {
   "cell_type": "code",
   "execution_count": null,
   "source": [
    "float(4)/2\n"
   ],
   "outputs": [],
   "metadata": {}
  },
  {
   "cell_type": "code",
   "execution_count": null,
   "source": [
    "var1 = 2**3\n",
    "print(\"var1 is {erg}.\".format(erg=var1))\n",
    "print(\"var1 really is {}\".format(var1))"
   ],
   "outputs": [],
   "metadata": {}
  },
  {
   "cell_type": "code",
   "execution_count": null,
   "source": [
    "5%2"
   ],
   "outputs": [],
   "metadata": {}
  },
  {
   "cell_type": "markdown",
   "source": [
    "# Part 2 - Collections\n",
    "[Link1 - Doc](https://jpt-pynotes.readthedocs.io/en/latest/more-types.html)  \n",
    "[Link2 - Medium](https://medium.com/@paulrohan/python-list-vs-tuple-vs-dictionary-4a48655c7934)  \n",
    "[Link3 - geeksforgeeks](https://www.geeksforgeeks.org/difference-between-list-vs-set-vs-tuple-in-python/)  \n",
    "\n",
    "- **Lists**  \n",
    "  - `[]`\n",
    "  - dynamic sized arrays  \n",
    "  - mutable, ordered sequence of items \n",
    "  - can store any type of element\n",
    "  - other languages:  \n",
    "    - vector (C++) \n",
    "    - ArrayList (Java)\n",
    "    \n",
    "- **Dictionaries**  \n",
    "  - `{}`\n",
    "  - associative array\n",
    "  - mutible\n",
    "    \n",
    "- **Tuples**  \n",
    "  - `()`\n",
    "  - immutable, ordered sequence (cannot be changed or replaced)\n",
    "  - can store any type of element\n",
    "  - not the extensive functionality that the list class provides\n",
    "  \n",
    "- **Sets**  \n",
    "  - immutable, unordered collection of items\n",
    "  - unique!\n",
    "\n",
    "### Python Types and Structures\n",
    "\n",
    "- **Logical**: bool\n",
    "- **Numeric**: int, float, complex\n",
    "- **Sequence**: list, tuple, range\n",
    "- **Text Sequence**: str\n",
    "- **Binary Sequence**: bytes, bytearray, memoryview\n",
    "- **Map**: dict\n",
    "- **Set**: set, frozenset"
   ],
   "metadata": {}
  },
  {
   "cell_type": "markdown",
   "source": [
    "## Lists"
   ],
   "metadata": {}
  },
  {
   "cell_type": "code",
   "execution_count": null,
   "source": [
    "# Lists\r\n",
    "list1 = ['str', 13, 21, 47]\r\n",
    "list1.append('b')\r\n",
    "print(list1)\r\n",
    "print(list1[3])\r\n",
    "print(list1[:3])\r\n",
    "print(list1[-1:])\r\n",
    "list1[-1] = 'New'\r\n",
    "print(list1)"
   ],
   "outputs": [],
   "metadata": {}
  },
  {
   "cell_type": "code",
   "execution_count": null,
   "source": [
    "# Lists 2\r\n",
    "list2 = [1, 2, 3, [4, 5, ['Goal']]]\r\n",
    "print(list2)\r\n",
    "print(list2[-1][-1][0])"
   ],
   "outputs": [],
   "metadata": {}
  },
  {
   "cell_type": "markdown",
   "source": [
    "### List Copy and reversion"
   ],
   "metadata": {}
  },
  {
   "cell_type": "code",
   "execution_count": null,
   "source": [
    "list1 = ['str', 13, 21, 47]\r\n",
    "print(list1)\r\n",
    "list2 = list1\r\n",
    "list2[2] = \"new value\"  # Only copies pointer to same list!\r\n",
    "print(list1)\r\n",
    "print()\r\n",
    "\r\n",
    "\r\n",
    "\r\n",
    "list_copy = list1.copy()  # Creates separat copy of list.\r\n",
    "list_copy2 = list1.copy()\r\n",
    "print(list1.__repr__)\r\n",
    "print(list2.__repr__)\r\n",
    "print(f\"list_copy == list_copy2: {list_copy == list_copy2:}\")\r\n",
    "print(f\"list_copy is list_copy2: {list_copy is list_copy2:}\")\r\n",
    "\r\n",
    "print(f\"Showing '__repr__' of a list: {list_copy.__repr__}\")\r\n",
    "print(f\"Showing '__str__' of a list: {list_copy.__str__}/n/n\")\r\n",
    "print()\r\n",
    "\r\n",
    "\r\n",
    "\r\n",
    "# Retrieving reversed iterator instead of reversing list!\r\n",
    "list_reveresd_iter = reversed(list_copy)\r\n",
    "print(list_reveresd_iter)\r\n",
    "for val in list_reveresd_iter:\r\n",
    "    print(val)\r\n",
    "    \r\n",
    "print(list_copy)\r\n",
    "\r\n",
    "\r\n",
    "\r\n",
    "# Reversing whole list.\r\n",
    "list_copy2.reverse()\r\n",
    "print(list_copy2)"
   ],
   "outputs": [],
   "metadata": {}
  },
  {
   "cell_type": "markdown",
   "source": [
    "## Dict"
   ],
   "metadata": {}
  },
  {
   "cell_type": "code",
   "execution_count": null,
   "source": [
    "# Arrays\r\n",
    "d = {'key1': {'innerKey': [1, 2, 3]}}\r\n",
    "print(d['key1'])\r\n",
    "print(d['key1']['innerKey'][1])"
   ],
   "outputs": [],
   "metadata": {}
  },
  {
   "cell_type": "code",
   "execution_count": null,
   "source": [
    "d2 = {}\r\n",
    "print(type(d2))\r\n",
    "d2[\"key1\"] = \"value1\"\r\n",
    "d2[\"key2\"] = \"value2\"\r\n",
    "print(d2)\r\n",
    "print(d2[\"key1\"])\r\n",
    "for k, v in d2.items():\r\n",
    "    print(f\"{k} --> {v}\")"
   ],
   "outputs": [],
   "metadata": {}
  },
  {
   "cell_type": "code",
   "execution_count": null,
   "source": [
    "class Person:\r\n",
    "    race = \"human\"\r\n",
    "    name: str\r\n",
    "    age: int\r\n",
    "\r\n",
    "d3 = {}\r\n",
    "d3[\"Olli\"] = Person()\r\n",
    "d3[\"Leni\"] = Person()\r\n",
    "\r\n",
    "\r\n",
    "d3[\"Olli\"].name = \"Oliver Zott\"\r\n",
    "d3[\"Olli\"].age = 37\r\n",
    "d3[\"Olli\"].race = \"blub\"\r\n",
    "\r\n",
    "\r\n",
    "d3[\"Leni\"].name = \"Magdalena Bergmann\"\r\n",
    "d3[\"Leni\"].age = 34\r\n",
    "\r\n",
    "print(Person.race)\r\n",
    "\r\n",
    "\r\n",
    "for k, v in d3.items():\r\n",
    "    print(f\"{k} --> {v.name}, {v.age}, race: {v.race}\")\r\n",
    "    \r\n",
    "for k, v in d3.items():\r\n",
    "    print(f\"{k} -> {v}\")"
   ],
   "outputs": [],
   "metadata": {}
  },
  {
   "cell_type": "markdown",
   "source": [
    "## Tuple"
   ],
   "metadata": {}
  },
  {
   "cell_type": "code",
   "execution_count": null,
   "source": [
    "t = (1, 2, 3)\r\n",
    "print(t)\r\n",
    "print(t[1])\r\n",
    "# t[1] = 2  # no item assignement posible (immutable)"
   ],
   "outputs": [],
   "metadata": {}
  },
  {
   "cell_type": "markdown",
   "source": [
    "## Set\n"
   ],
   "metadata": {}
  },
  {
   "cell_type": "code",
   "execution_count": null,
   "source": [
    "s = {7, 1, 2, 3, 1, 3, 2, 2, 5}\r\n",
    "print(s)"
   ],
   "outputs": [],
   "metadata": {}
  },
  {
   "cell_type": "markdown",
   "source": [
    "# Part 3 - Conditions, Loops, Functions\n",
    "\n",
    "- if-elif-else\n",
    "\n",
    "- for\n",
    "\n",
    "- while\n",
    "\n",
    "- for-in / range  \n",
    "  - list from range"
   ],
   "metadata": {}
  },
  {
   "cell_type": "code",
   "execution_count": null,
   "source": [
    "# if - elif - else\r\n",
    "x, y = 7, 7\r\n",
    "if x > y:\r\n",
    "    print(\"x({}) is greater then y({})\".format(x,y))\r\n",
    "elif y > x :\r\n",
    "    print(\"x({}) is lesse then y({})\".format(x,y))\r\n",
    "else:\r\n",
    "    print(\"x({}) is equal to y({})\".format(x,y))\r\n",
    "        "
   ],
   "outputs": [],
   "metadata": {}
  },
  {
   "cell_type": "code",
   "execution_count": null,
   "source": [
    "# for \r\n",
    "sqe = [1, 2, 3, 4, 5]\r\n",
    "for val in sqe:\r\n",
    "    print(val)"
   ],
   "outputs": [],
   "metadata": {}
  },
  {
   "cell_type": "code",
   "execution_count": null,
   "source": [
    "# while\r\n",
    "i = 1\r\n",
    "while i < 5:\r\n",
    "    print('i is {}'.format(i))\r\n",
    "    i += 1"
   ],
   "outputs": [],
   "metadata": {}
  },
  {
   "cell_type": "code",
   "execution_count": null,
   "source": [
    "# for-in / range\r\n",
    "for i in range(5):\r\n",
    "    print(i)\r\n",
    "\r\n",
    "print(range(5))\r\n",
    "\r\n",
    "list(range(5))"
   ],
   "outputs": [],
   "metadata": {}
  },
  {
   "cell_type": "markdown",
   "source": [
    "### List Comprehension"
   ],
   "metadata": {
    "tags": []
   }
  },
  {
   "cell_type": "code",
   "execution_count": null,
   "source": [
    "# Without list-comprehension\r\n",
    "\r\n",
    "x = list(range(5))\r\n",
    "y = []\r\n",
    "\r\n",
    "for item in x:\r\n",
    "    y.append(item**2)\r\n",
    "print(y)\r\n",
    "\r\n"
   ],
   "outputs": [],
   "metadata": {
    "tags": []
   }
  },
  {
   "cell_type": "code",
   "execution_count": 3,
   "source": [
    "# with list-comprehension\r\n",
    "z = list(range(5, 12))\r\n",
    "k = [item**2 for item in z]\r\n",
    "k"
   ],
   "outputs": [
    {
     "output_type": "execute_result",
     "data": {
      "text/plain": [
       "[25, 36, 49, 64, 81, 100, 121]"
      ]
     },
     "metadata": {},
     "execution_count": 3
    }
   ],
   "metadata": {
    "tags": []
   }
  },
  {
   "cell_type": "markdown",
   "source": [
    "### Functions\n",
    "\n",
    "INFO: press `Shift + Tab` for Description !!"
   ],
   "metadata": {}
  },
  {
   "cell_type": "code",
   "execution_count": null,
   "source": [
    "def func1 (param1: int = 11) -> None:\r\n",
    "    \"\"\"\r\n",
    "    Description:\r\n",
    "    Just some test-function\r\n",
    "    \"\"\"\r\n",
    "    print('Square of {} is {}'.format(param1, param1**2))\r\n"
   ],
   "outputs": [],
   "metadata": {}
  },
  {
   "cell_type": "code",
   "execution_count": null,
   "source": [
    "print(func1())\r\n",
    "print(func1(17))"
   ],
   "outputs": [],
   "metadata": {}
  },
  {
   "cell_type": "code",
   "execution_count": null,
   "source": [
    "# press `Shift + Tab`\r\n",
    "func1"
   ],
   "outputs": [],
   "metadata": {}
  },
  {
   "cell_type": "markdown",
   "source": [
    "## Part 4 - Lambda Expressions / Map & Filter / Methods"
   ],
   "metadata": {}
  },
  {
   "cell_type": "markdown",
   "source": [
    "### Lamda Expressions"
   ],
   "metadata": {}
  },
  {
   "cell_type": "code",
   "execution_count": null,
   "source": [
    "# without lambda-expresion\r\n",
    "\r\n",
    "def times2(var):\r\n",
    "    return var*2\r\n",
    "\r\n",
    "times2(7)"
   ],
   "outputs": [],
   "metadata": {}
  },
  {
   "cell_type": "code",
   "execution_count": null,
   "source": [
    "# with lambda expression\r\n",
    "\r\n",
    "times3 = lambda var: var*3\r\n",
    "\r\n",
    "times3(8)"
   ],
   "outputs": [],
   "metadata": {}
  },
  {
   "cell_type": "markdown",
   "source": [
    "### Map & Filter"
   ],
   "metadata": {}
  },
  {
   "cell_type": "code",
   "execution_count": null,
   "source": [
    "seq = range(1, 9)\r\n",
    "seqList = list(seq)\r\n",
    "print(\"List 'seq' is: {}'\".format(seqList))\r\n",
    "print(type(seq))\r\n",
    "print(type(seqList))"
   ],
   "outputs": [],
   "metadata": {}
  },
  {
   "cell_type": "code",
   "execution_count": null,
   "source": [
    "resultMap = map(times3, seqList)\r\n",
    "print(resultMap)\r\n",
    "print(list(resultMap))"
   ],
   "outputs": [],
   "metadata": {}
  },
  {
   "cell_type": "code",
   "execution_count": null,
   "source": [
    "# Combine lambda & maps\r\n",
    "resultLaMa = list(map(lambda var: var-3, seq))\r\n",
    "print(resultLaMa)"
   ],
   "outputs": [],
   "metadata": {}
  },
  {
   "cell_type": "code",
   "execution_count": null,
   "source": [
    "# Filter\r\n",
    "resultLaFi = filter(lambda item: item%2!=0, seq)\r\n",
    "print(list(resultLaFi))"
   ],
   "outputs": [],
   "metadata": {}
  },
  {
   "cell_type": "markdown",
   "source": [
    "### Standard Methods\n",
    "\n",
    "- upper() / lower()\n",
    "- split\n",
    "- check existence\n",
    "- Iterate Lists"
   ],
   "metadata": {}
  },
  {
   "cell_type": "code",
   "execution_count": null,
   "source": [
    "# str method\r\n",
    "\r\n",
    "str1 = 'Hello, whats goin on here?'\r\n",
    "print(str1.split('whats'))\r\n",
    "print(str1.split()[1:4])"
   ],
   "outputs": [],
   "metadata": {}
  },
  {
   "cell_type": "code",
   "execution_count": null,
   "source": [
    "# dict methods\r\n",
    "\r\n",
    "print(d)\r\n",
    "print(d.keys())\r\n",
    "print(d.items())\r\n",
    "\r\n",
    "# use `Shift` to show usable methods "
   ],
   "outputs": [],
   "metadata": {}
  },
  {
   "cell_type": "code",
   "execution_count": null,
   "source": [
    "# pop()\r\n",
    "\r\n",
    "lst = [1, 2, 3, 'new']\r\n",
    "print(lst.pop())\r\n",
    "print(lst.pop(0))"
   ],
   "outputs": [],
   "metadata": {}
  },
  {
   "cell_type": "code",
   "execution_count": null,
   "source": [
    "# check existence\r\n",
    "x in lst"
   ],
   "outputs": [],
   "metadata": {}
  },
  {
   "cell_type": "code",
   "execution_count": null,
   "source": [
    "# Iterate Lists\r\n",
    "\r\n",
    "x = [(1, 2), (3, 4), (5, 6)]\r\n",
    "for a, b in x:\r\n",
    "    print(a)\r\n",
    "    print(b)"
   ],
   "outputs": [],
   "metadata": {}
  },
  {
   "cell_type": "code",
   "execution_count": null,
   "source": [
    "word = 'string'\r\n",
    "word[1]"
   ],
   "outputs": [],
   "metadata": {}
  },
  {
   "cell_type": "code",
   "execution_count": null,
   "source": [
    "a = [1,2,3]\r\n",
    "b = map(lambda x: x+5, a)\r\n",
    "list(b)"
   ],
   "outputs": [],
   "metadata": {}
  },
  {
   "cell_type": "code",
   "execution_count": null,
   "source": [],
   "outputs": [],
   "metadata": {}
  }
 ],
 "metadata": {
  "kernelspec": {
   "name": "python3",
   "display_name": "Python 3.9.6 64-bit ('data_science': conda)"
  },
  "language_info": {
   "codemirror_mode": {
    "name": "ipython",
    "version": 3
   },
   "file_extension": ".py",
   "mimetype": "text/x-python",
   "name": "python",
   "nbconvert_exporter": "python",
   "pygments_lexer": "ipython3",
   "version": "3.9.6"
  },
  "interpreter": {
   "hash": "98d6978f604028959339f584b63f4329fd3a5aaf8c13e2a681597dfd818eefc2"
  }
 },
 "nbformat": 4,
 "nbformat_minor": 4
}