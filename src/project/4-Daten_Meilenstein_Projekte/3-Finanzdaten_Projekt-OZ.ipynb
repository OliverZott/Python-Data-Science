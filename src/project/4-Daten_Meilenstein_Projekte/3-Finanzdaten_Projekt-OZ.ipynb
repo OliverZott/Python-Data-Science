{
 "cells": [
  {
   "cell_type": "markdown",
   "metadata": {
    "pycharm": {
     "name": "#%% md\n"
    }
   },
   "source": [
    "# Finance Project\n",
    "\n",
    "In diesem Datenprojekt werden wir uns auf die Analyse von Aktienpreise konzentrieren. Denkt dabei daran, dass es hier primär um die Visualisierungs- und Analysefähigkeiten geht, nicht daraum verlässliche Finanzanalysen durchzuführen.\n",
    "\n",
    "**Achtung**: Dieses Projekt wird eine große Herausforderung weil es eine Menge neuer Konzepte einführt, die ihr selbst recherchieren müsst. Nichtsdestotrotz werden wir die notwendigen Hinweise geben. Dabei sei es jedem freigestellt parallel ins Lösungsnotebook oder das Video-Material zu schauen und dieses Projekt als \"Walkthrough\" zu lösen.\n",
    "\n",
    "Wir werden uns nun also Bankaktien anschauen und wie sie sich seit der Finanzkrise bis Anfang 2016 entwickelt haben.\n",
    "\n",
    "## Data\n",
    "\n",
    "In dieser Sektion werden wir lernen, wie wir mit Pandas direkt Daten aus Google Finance lesen können.\n",
    "\n",
    "Zuerst müssen wir demnach einige Imports machen, welche im Rahmen dieses Projektes gegeben sind.\n",
    "\n",
    "*Hinweis: Zum korrekten Auslesen der Finanzdaten müssen wir noch den [pandas-datareader](https://github.com/pydata/pandas-datareader) installieren:*\n",
    "\n",
    "    conda install pandas-datareader\n",
    "\n",
    "### Imports"
   ]
  },
  {
   "cell_type": "code",
   "execution_count": 1,
   "metadata": {
    "pycharm": {
     "name": "#%%\n"
    }
   },
   "outputs": [],
   "source": [
    "# pip install pandas_datareader\n",
    "from pandas_datareader import data, wb\n",
    "import pandas as pd\n",
    "import numpy as np\n",
    "from datetime import datetime\n",
    "%matplotlib inline\n",
    "\n",
    "\n",
    "# show full output\n",
    "from IPython.core.interactiveshell import InteractiveShell\n",
    "InteractiveShell.ast_node_interactivity = \"all\""
   ]
  },
  {
   "cell_type": "markdown",
   "metadata": {
    "pycharm": {
     "name": "#%% md\n"
    }
   },
   "source": [
    "### Daten\n",
    "\n",
    "Wir können die Daten durch verwendung des *Pandas Datareader* erhalten. Dieser liefert uns Aktieninformationen zu den folgenden Banken:\n",
    "\n",
    "* Bank of America\n",
    "* CitiGroup\n",
    "* Goldman Sachs\n",
    "* JPMorgan Chase\n",
    "* Morgan Stanley\n",
    "* Wells Fargo\n",
    "\n",
    "**Finde nun heraus, wie du die Aktiendaten vom 5 Jahren zurück bis heute für jede dieser Banken erhälst. Erstelle dazu für jede Bank einen eigenen DataFrame. Die Namen dieser DataFrames sollen dem Ticker Symbol (z.B.: BAC für Bank of America) entsprechen. Das alles benötigt einige Schritte:**\n",
    "\n",
    "1. Nutze `datetime`, um Start und Ende Objekte zu erstellen. \n",
    " **Achtung die Parameter für start und end haben leider in der   aktuellen pandas-datareader Version einen Bug**\n",
    "2. Finde das Ticker Symbol für jede Bank heraus.\n",
    "3. Finde heraus, wie du den datareader nutzen kannst, um die Informationen zu erhalten.\n",
    "\n",
    "**Nutze diese [Dokumentationsseite](http://pandas.pydata.org/pandas-docs/stable/ecosystem.html) für Hinweise und Tipps. Es sollte dabei nur um das richtige Ersetzen bestimmter Daten gehen. Nutze \"Stooq.com\" als Quelle. Zum Beispiel:**\n",
    "\n",
    "    # Bank of America\n",
    "    # Achtung die Parameter für start und end haben leider in der aktuellen pandas-datareader Version einen Bug. \n",
    "    # und werden nicht angewendet\n",
    "    BAC = data.DataReader(\"BAC\",\"stooq\",start,end)"
   ]
  },
  {
   "cell_type": "code",
   "execution_count": 2,
   "metadata": {
    "pycharm": {
     "name": "#%%\n"
    }
   },
   "outputs": [
    {
     "data": {
      "text/plain": "Bank Ticker    BAC                                     C                       \\\nStock Info    Open   High    Low  Close    Volume   Open   High    Low  Close   \nDate                                                                            \n2006-01-03   46.92  47.18  46.15  47.08  16296700  490.0  493.8  481.1  492.9   \n2006-01-04   47.00  47.24  46.45  46.58  17757900  488.6  491.0  483.5  483.8   \n2006-01-05   46.58  46.83  46.32  46.64  14970900  484.4  487.8  484.0  486.2   \n2006-01-06   46.80  46.91  46.35  46.57  12599800  488.8  489.0  482.0  486.2   \n2006-01-09   46.72  46.97  46.36  46.60  15620000  486.0  487.4  483.0  483.9   \n\nBank Ticker           ...     MS                                  WFC         \\\nStock Info    Volume  ...   Open   High    Low  Close   Volume   Open   High   \nDate                  ...                                                      \n2006-01-03   1537660  ...  57.17  58.49  56.74  58.31  5377000  31.60  31.98   \n2006-01-04   1871020  ...  58.70  59.28  58.35  58.35  7977800  31.80  31.82   \n2006-01-05   1143160  ...  58.55  58.59  58.02  58.51  5778000  31.50  31.56   \n2006-01-06   1370250  ...  58.77  58.85  58.05  58.57  6889800  31.58  31.78   \n2006-01-09   1680740  ...  58.63  59.29  58.62  59.19  4144500  31.68  31.82   \n\nBank Ticker                          \nStock Info     Low  Close    Volume  \nDate                                 \n2006-01-03   31.20  31.90  11016400  \n2006-01-04   31.36  31.53  10871000  \n2006-01-05   31.31  31.50  10158000  \n2006-01-06   31.38  31.68   8403800  \n2006-01-09   31.56  31.68   5619600  \n\n[5 rows x 30 columns]",
      "text/html": "<div>\n<style scoped>\n    .dataframe tbody tr th:only-of-type {\n        vertical-align: middle;\n    }\n\n    .dataframe tbody tr th {\n        vertical-align: top;\n    }\n\n    .dataframe thead tr th {\n        text-align: left;\n    }\n\n    .dataframe thead tr:last-of-type th {\n        text-align: right;\n    }\n</style>\n<table border=\"1\" class=\"dataframe\">\n  <thead>\n    <tr>\n      <th>Bank Ticker</th>\n      <th colspan=\"5\" halign=\"left\">BAC</th>\n      <th colspan=\"5\" halign=\"left\">C</th>\n      <th>...</th>\n      <th colspan=\"5\" halign=\"left\">MS</th>\n      <th colspan=\"5\" halign=\"left\">WFC</th>\n    </tr>\n    <tr>\n      <th>Stock Info</th>\n      <th>Open</th>\n      <th>High</th>\n      <th>Low</th>\n      <th>Close</th>\n      <th>Volume</th>\n      <th>Open</th>\n      <th>High</th>\n      <th>Low</th>\n      <th>Close</th>\n      <th>Volume</th>\n      <th>...</th>\n      <th>Open</th>\n      <th>High</th>\n      <th>Low</th>\n      <th>Close</th>\n      <th>Volume</th>\n      <th>Open</th>\n      <th>High</th>\n      <th>Low</th>\n      <th>Close</th>\n      <th>Volume</th>\n    </tr>\n    <tr>\n      <th>Date</th>\n      <th></th>\n      <th></th>\n      <th></th>\n      <th></th>\n      <th></th>\n      <th></th>\n      <th></th>\n      <th></th>\n      <th></th>\n      <th></th>\n      <th></th>\n      <th></th>\n      <th></th>\n      <th></th>\n      <th></th>\n      <th></th>\n      <th></th>\n      <th></th>\n      <th></th>\n      <th></th>\n      <th></th>\n    </tr>\n  </thead>\n  <tbody>\n    <tr>\n      <th>2006-01-03</th>\n      <td>46.92</td>\n      <td>47.18</td>\n      <td>46.15</td>\n      <td>47.08</td>\n      <td>16296700</td>\n      <td>490.0</td>\n      <td>493.8</td>\n      <td>481.1</td>\n      <td>492.9</td>\n      <td>1537660</td>\n      <td>...</td>\n      <td>57.17</td>\n      <td>58.49</td>\n      <td>56.74</td>\n      <td>58.31</td>\n      <td>5377000</td>\n      <td>31.60</td>\n      <td>31.98</td>\n      <td>31.20</td>\n      <td>31.90</td>\n      <td>11016400</td>\n    </tr>\n    <tr>\n      <th>2006-01-04</th>\n      <td>47.00</td>\n      <td>47.24</td>\n      <td>46.45</td>\n      <td>46.58</td>\n      <td>17757900</td>\n      <td>488.6</td>\n      <td>491.0</td>\n      <td>483.5</td>\n      <td>483.8</td>\n      <td>1871020</td>\n      <td>...</td>\n      <td>58.70</td>\n      <td>59.28</td>\n      <td>58.35</td>\n      <td>58.35</td>\n      <td>7977800</td>\n      <td>31.80</td>\n      <td>31.82</td>\n      <td>31.36</td>\n      <td>31.53</td>\n      <td>10871000</td>\n    </tr>\n    <tr>\n      <th>2006-01-05</th>\n      <td>46.58</td>\n      <td>46.83</td>\n      <td>46.32</td>\n      <td>46.64</td>\n      <td>14970900</td>\n      <td>484.4</td>\n      <td>487.8</td>\n      <td>484.0</td>\n      <td>486.2</td>\n      <td>1143160</td>\n      <td>...</td>\n      <td>58.55</td>\n      <td>58.59</td>\n      <td>58.02</td>\n      <td>58.51</td>\n      <td>5778000</td>\n      <td>31.50</td>\n      <td>31.56</td>\n      <td>31.31</td>\n      <td>31.50</td>\n      <td>10158000</td>\n    </tr>\n    <tr>\n      <th>2006-01-06</th>\n      <td>46.80</td>\n      <td>46.91</td>\n      <td>46.35</td>\n      <td>46.57</td>\n      <td>12599800</td>\n      <td>488.8</td>\n      <td>489.0</td>\n      <td>482.0</td>\n      <td>486.2</td>\n      <td>1370250</td>\n      <td>...</td>\n      <td>58.77</td>\n      <td>58.85</td>\n      <td>58.05</td>\n      <td>58.57</td>\n      <td>6889800</td>\n      <td>31.58</td>\n      <td>31.78</td>\n      <td>31.38</td>\n      <td>31.68</td>\n      <td>8403800</td>\n    </tr>\n    <tr>\n      <th>2006-01-09</th>\n      <td>46.72</td>\n      <td>46.97</td>\n      <td>46.36</td>\n      <td>46.60</td>\n      <td>15620000</td>\n      <td>486.0</td>\n      <td>487.4</td>\n      <td>483.0</td>\n      <td>483.9</td>\n      <td>1680740</td>\n      <td>...</td>\n      <td>58.63</td>\n      <td>59.29</td>\n      <td>58.62</td>\n      <td>59.19</td>\n      <td>4144500</td>\n      <td>31.68</td>\n      <td>31.82</td>\n      <td>31.56</td>\n      <td>31.68</td>\n      <td>5619600</td>\n    </tr>\n  </tbody>\n</table>\n<p>5 rows × 30 columns</p>\n</div>"
     },
     "execution_count": 2,
     "metadata": {},
     "output_type": "execute_result"
    }
   ],
   "source": [
    "BAC1 = data.DataReader(name=\"BAC\", data_source=\"stooq\")\n",
    "banks = pd.read_pickle('..\\..\\..\\data\\\\all_banks')\n",
    "\n",
    "banks.head()\n",
    "# banks.tail()\n",
    "\n",
    "# banks.index\n",
    "# banks.columns\n",
    "# banks.info()\n",
    "# banks.plot()\n",
    "# BAC.plot()"
   ]
  },
  {
   "cell_type": "code",
   "execution_count": 3,
   "metadata": {
    "pycharm": {
     "name": "#%%\n"
    }
   },
   "outputs": [],
   "source": [
    "banks_cols = banks.columns\n",
    "bank_set = set([x[0] for x in banks_cols])\n",
    "\n",
    "start = datetime(2007, 1, 1)\n",
    "end = datetime(2012, 12, 31)\n",
    "\n",
    "# Bank of America - BAC\n",
    "BAC = banks[\"BAC\"]\n",
    "\n",
    "BAC2 = data.DataReader(name=\"BAC\", data_source=\"stooq\", start=start, end=end)\n",
    "\n",
    "# CitiGroup\n",
    "C = banks[\"C\"]\n",
    "\n",
    "# Goldman Sachs \n",
    "GS = banks[\"GS\"]\n",
    "\n",
    "# JPMorgan Chase \n",
    "JPM = banks[\"JPM\"]\n",
    "\n",
    "# Morgan Stanley\n",
    "MS = banks[\"MS\"]\n",
    "\n",
    "# Wells Fargo\n",
    "WFC = banks[\"WFC\"]"
   ]
  },
  {
   "cell_type": "markdown",
   "metadata": {
    "pycharm": {
     "name": "#%% md\n"
    }
   },
   "source": [
    "**Erstelle eine Liste der Ticker Symbole (als String) in alphabetischer Reihenfolge. Nenne diese Liste \"tickers\".**"
   ]
  },
  {
   "cell_type": "code",
   "execution_count": 4,
   "metadata": {
    "collapsed": true,
    "pycharm": {
     "name": "#%%\n"
    }
   },
   "outputs": [
    {
     "data": {
      "text/plain": "['BAC', 'C', 'GS', 'JPM', 'MS', 'WFC']"
     },
     "execution_count": 4,
     "metadata": {},
     "output_type": "execute_result"
    }
   ],
   "source": [
    "tickers = list(bank_set)\n",
    "tickers.sort()\n",
    "tickers"
   ]
  },
  {
   "cell_type": "markdown",
   "metadata": {
    "pycharm": {
     "name": "#%% md\n"
    }
   },
   "source": [
    "**Nutze `pd.concat`, um die einzelnen DataFrames zu einem Banken-DataFrame namens \"bank_stocks\" zusammenzufassen. Setze dabei das Keys (dt. Schlüssel) Argument gleich der tickers-Liste.**\n",
    "\n",
    "*Hinweis: Achte auf die Achse auf die du `concat` anwendest.*"
   ]
  },
  {
   "cell_type": "code",
   "execution_count": 5,
   "metadata": {
    "collapsed": true,
    "pycharm": {
     "name": "#%%\n"
    }
   },
   "outputs": [],
   "source": [
    "bank_stocks = pd.concat([BAC, C, GS, JPM, MS, WFC], axis=1, keys=tickers)\n",
    "\n",
    "# bank_stocks.head()\n",
    "# bank_stocks.info()\n",
    "# bank_stocks.index\n",
    "# bank_stocks.columns"
   ]
  },
  {
   "cell_type": "markdown",
   "metadata": {
    "pycharm": {
     "name": "#%% md\n"
    }
   },
   "source": [
    "**Definiere die Spalten namen (bereits vorausgefüllt).**"
   ]
  },
  {
   "cell_type": "code",
   "execution_count": 6,
   "metadata": {
    "collapsed": true,
    "pycharm": {
     "name": "#%%\n"
    }
   },
   "outputs": [],
   "source": [
    "bank_stocks.columns.names = [\"Bank Ticker\", \"Stock Info\"]"
   ]
  },
  {
   "cell_type": "markdown",
   "metadata": {
    "pycharm": {
     "name": "#%% md\n"
    }
   },
   "source": [
    "**Schaue dir den head des bank_stocks DataFrame an.**"
   ]
  },
  {
   "cell_type": "code",
   "execution_count": 7,
   "metadata": {
    "pycharm": {
     "name": "#%%\n"
    }
   },
   "outputs": [
    {
     "data": {
      "text/plain": "Bank Ticker    BAC                                     C                       \\\nStock Info    Open   High    Low  Close    Volume   Open   High    Low  Close   \nDate                                                                            \n2006-01-03   46.92  47.18  46.15  47.08  16296700  490.0  493.8  481.1  492.9   \n2006-01-04   47.00  47.24  46.45  46.58  17757900  488.6  491.0  483.5  483.8   \n2006-01-05   46.58  46.83  46.32  46.64  14970900  484.4  487.8  484.0  486.2   \n2006-01-06   46.80  46.91  46.35  46.57  12599800  488.8  489.0  482.0  486.2   \n2006-01-09   46.72  46.97  46.36  46.60  15620000  486.0  487.4  483.0  483.9   \n\nBank Ticker           ...     MS                                  WFC         \\\nStock Info    Volume  ...   Open   High    Low  Close   Volume   Open   High   \nDate                  ...                                                      \n2006-01-03   1537660  ...  57.17  58.49  56.74  58.31  5377000  31.60  31.98   \n2006-01-04   1871020  ...  58.70  59.28  58.35  58.35  7977800  31.80  31.82   \n2006-01-05   1143160  ...  58.55  58.59  58.02  58.51  5778000  31.50  31.56   \n2006-01-06   1370250  ...  58.77  58.85  58.05  58.57  6889800  31.58  31.78   \n2006-01-09   1680740  ...  58.63  59.29  58.62  59.19  4144500  31.68  31.82   \n\nBank Ticker                          \nStock Info     Low  Close    Volume  \nDate                                 \n2006-01-03   31.20  31.90  11016400  \n2006-01-04   31.36  31.53  10871000  \n2006-01-05   31.31  31.50  10158000  \n2006-01-06   31.38  31.68   8403800  \n2006-01-09   31.56  31.68   5619600  \n\n[5 rows x 30 columns]",
      "text/html": "<div>\n<style scoped>\n    .dataframe tbody tr th:only-of-type {\n        vertical-align: middle;\n    }\n\n    .dataframe tbody tr th {\n        vertical-align: top;\n    }\n\n    .dataframe thead tr th {\n        text-align: left;\n    }\n\n    .dataframe thead tr:last-of-type th {\n        text-align: right;\n    }\n</style>\n<table border=\"1\" class=\"dataframe\">\n  <thead>\n    <tr>\n      <th>Bank Ticker</th>\n      <th colspan=\"5\" halign=\"left\">BAC</th>\n      <th colspan=\"5\" halign=\"left\">C</th>\n      <th>...</th>\n      <th colspan=\"5\" halign=\"left\">MS</th>\n      <th colspan=\"5\" halign=\"left\">WFC</th>\n    </tr>\n    <tr>\n      <th>Stock Info</th>\n      <th>Open</th>\n      <th>High</th>\n      <th>Low</th>\n      <th>Close</th>\n      <th>Volume</th>\n      <th>Open</th>\n      <th>High</th>\n      <th>Low</th>\n      <th>Close</th>\n      <th>Volume</th>\n      <th>...</th>\n      <th>Open</th>\n      <th>High</th>\n      <th>Low</th>\n      <th>Close</th>\n      <th>Volume</th>\n      <th>Open</th>\n      <th>High</th>\n      <th>Low</th>\n      <th>Close</th>\n      <th>Volume</th>\n    </tr>\n    <tr>\n      <th>Date</th>\n      <th></th>\n      <th></th>\n      <th></th>\n      <th></th>\n      <th></th>\n      <th></th>\n      <th></th>\n      <th></th>\n      <th></th>\n      <th></th>\n      <th></th>\n      <th></th>\n      <th></th>\n      <th></th>\n      <th></th>\n      <th></th>\n      <th></th>\n      <th></th>\n      <th></th>\n      <th></th>\n      <th></th>\n    </tr>\n  </thead>\n  <tbody>\n    <tr>\n      <th>2006-01-03</th>\n      <td>46.92</td>\n      <td>47.18</td>\n      <td>46.15</td>\n      <td>47.08</td>\n      <td>16296700</td>\n      <td>490.0</td>\n      <td>493.8</td>\n      <td>481.1</td>\n      <td>492.9</td>\n      <td>1537660</td>\n      <td>...</td>\n      <td>57.17</td>\n      <td>58.49</td>\n      <td>56.74</td>\n      <td>58.31</td>\n      <td>5377000</td>\n      <td>31.60</td>\n      <td>31.98</td>\n      <td>31.20</td>\n      <td>31.90</td>\n      <td>11016400</td>\n    </tr>\n    <tr>\n      <th>2006-01-04</th>\n      <td>47.00</td>\n      <td>47.24</td>\n      <td>46.45</td>\n      <td>46.58</td>\n      <td>17757900</td>\n      <td>488.6</td>\n      <td>491.0</td>\n      <td>483.5</td>\n      <td>483.8</td>\n      <td>1871020</td>\n      <td>...</td>\n      <td>58.70</td>\n      <td>59.28</td>\n      <td>58.35</td>\n      <td>58.35</td>\n      <td>7977800</td>\n      <td>31.80</td>\n      <td>31.82</td>\n      <td>31.36</td>\n      <td>31.53</td>\n      <td>10871000</td>\n    </tr>\n    <tr>\n      <th>2006-01-05</th>\n      <td>46.58</td>\n      <td>46.83</td>\n      <td>46.32</td>\n      <td>46.64</td>\n      <td>14970900</td>\n      <td>484.4</td>\n      <td>487.8</td>\n      <td>484.0</td>\n      <td>486.2</td>\n      <td>1143160</td>\n      <td>...</td>\n      <td>58.55</td>\n      <td>58.59</td>\n      <td>58.02</td>\n      <td>58.51</td>\n      <td>5778000</td>\n      <td>31.50</td>\n      <td>31.56</td>\n      <td>31.31</td>\n      <td>31.50</td>\n      <td>10158000</td>\n    </tr>\n    <tr>\n      <th>2006-01-06</th>\n      <td>46.80</td>\n      <td>46.91</td>\n      <td>46.35</td>\n      <td>46.57</td>\n      <td>12599800</td>\n      <td>488.8</td>\n      <td>489.0</td>\n      <td>482.0</td>\n      <td>486.2</td>\n      <td>1370250</td>\n      <td>...</td>\n      <td>58.77</td>\n      <td>58.85</td>\n      <td>58.05</td>\n      <td>58.57</td>\n      <td>6889800</td>\n      <td>31.58</td>\n      <td>31.78</td>\n      <td>31.38</td>\n      <td>31.68</td>\n      <td>8403800</td>\n    </tr>\n    <tr>\n      <th>2006-01-09</th>\n      <td>46.72</td>\n      <td>46.97</td>\n      <td>46.36</td>\n      <td>46.60</td>\n      <td>15620000</td>\n      <td>486.0</td>\n      <td>487.4</td>\n      <td>483.0</td>\n      <td>483.9</td>\n      <td>1680740</td>\n      <td>...</td>\n      <td>58.63</td>\n      <td>59.29</td>\n      <td>58.62</td>\n      <td>59.19</td>\n      <td>4144500</td>\n      <td>31.68</td>\n      <td>31.82</td>\n      <td>31.56</td>\n      <td>31.68</td>\n      <td>5619600</td>\n    </tr>\n  </tbody>\n</table>\n<p>5 rows × 30 columns</p>\n</div>"
     },
     "execution_count": 7,
     "metadata": {},
     "output_type": "execute_result"
    }
   ],
   "source": [
    "bank_stocks.head()"
   ]
  },
  {
   "cell_type": "markdown",
   "metadata": {
    "collapsed": true,
    "pycharm": {
     "name": "#%% md\n"
    }
   },
   "source": [
    "## Explorative Datenanalyse\n",
    "\n",
    "Lasst uns die Daten etwas untersuchen! Doch bevor wir damit loslegen ermutige ich euch, das [Multi-Level Indexing](http://pandas.pydata.org/pandas-docs/stable/advanced.html) und die [Nutzung von .xs](http://pandas.pydata.org/pandas-docs/stable/generated/pandas.DataFrame.xs.html) genauer anzuschauen.\n",
    "\n",
    "**Was ist der maximale Kurs zum Handelsschluss (en. close price) für jede der Banken in unserer gesamten Zeitperiode?**"
   ]
  },
  {
   "cell_type": "code",
   "execution_count": 8,
   "outputs": [
    {
     "data": {
      "text/plain": "MultiIndex([('BAC',   'Open'),\n            ('BAC',   'High'),\n            ('BAC',    'Low'),\n            ('BAC',  'Close'),\n            ('BAC', 'Volume'),\n            (  'C',   'Open'),\n            (  'C',   'High'),\n            (  'C',    'Low'),\n            (  'C',  'Close'),\n            (  'C', 'Volume'),\n            ( 'GS',   'Open'),\n            ( 'GS',   'High'),\n            ( 'GS',    'Low'),\n            ( 'GS',  'Close'),\n            ( 'GS', 'Volume'),\n            ('JPM',   'Open'),\n            ('JPM',   'High'),\n            ('JPM',    'Low'),\n            ('JPM',  'Close'),\n            ('JPM', 'Volume'),\n            ( 'MS',   'Open'),\n            ( 'MS',   'High'),\n            ( 'MS',    'Low'),\n            ( 'MS',  'Close'),\n            ( 'MS', 'Volume'),\n            ('WFC',   'Open'),\n            ('WFC',   'High'),\n            ('WFC',    'Low'),\n            ('WFC',  'Close'),\n            ('WFC', 'Volume')],\n           names=['Bank Ticker', 'Stock Info'])"
     },
     "execution_count": 8,
     "metadata": {},
     "output_type": "execute_result"
    },
    {
     "data": {
      "text/plain": "DatetimeIndex(['2006-01-03', '2006-01-04', '2006-01-05', '2006-01-06',\n               '2006-01-09', '2006-01-10', '2006-01-11', '2006-01-12',\n               '2006-01-13', '2006-01-17',\n               ...\n               '2015-12-17', '2015-12-18', '2015-12-21', '2015-12-22',\n               '2015-12-23', '2015-12-24', '2015-12-28', '2015-12-29',\n               '2015-12-30', '2015-12-31'],\n              dtype='datetime64[ns]', name='Date', length=2517, freq=None)"
     },
     "execution_count": 8,
     "metadata": {},
     "output_type": "execute_result"
    },
    {
     "data": {
      "text/plain": "Bank Ticker    BAC       C      GS    JPM     MS    WFC\nDate                                                   \n2006-01-03   47.08  492.90  128.87  40.19  58.31  31.90\n2006-01-04   46.58  483.80  127.09  39.62  58.35  31.53\n2006-01-05   46.64  486.20  127.04  39.74  58.51  31.50\n2006-01-06   46.57  486.20  128.84  40.02  58.57  31.68\n2006-01-09   46.60  483.90  130.39  40.67  59.19  31.68\n...            ...     ...     ...    ...    ...    ...\n2015-12-24   17.27   52.71  182.47  66.60  32.48  54.82\n2015-12-28   17.13   52.38  181.62  66.38  32.17  54.68\n2015-12-29   17.28   52.98  183.53  67.07  32.55  55.29\n2015-12-30   17.05   52.30  182.01  66.59  32.23  54.89\n2015-12-31   16.83   51.75  180.23  66.03  31.81  54.36\n\n[2517 rows x 6 columns]",
      "text/html": "<div>\n<style scoped>\n    .dataframe tbody tr th:only-of-type {\n        vertical-align: middle;\n    }\n\n    .dataframe tbody tr th {\n        vertical-align: top;\n    }\n\n    .dataframe thead th {\n        text-align: right;\n    }\n</style>\n<table border=\"1\" class=\"dataframe\">\n  <thead>\n    <tr style=\"text-align: right;\">\n      <th>Bank Ticker</th>\n      <th>BAC</th>\n      <th>C</th>\n      <th>GS</th>\n      <th>JPM</th>\n      <th>MS</th>\n      <th>WFC</th>\n    </tr>\n    <tr>\n      <th>Date</th>\n      <th></th>\n      <th></th>\n      <th></th>\n      <th></th>\n      <th></th>\n      <th></th>\n    </tr>\n  </thead>\n  <tbody>\n    <tr>\n      <th>2006-01-03</th>\n      <td>47.08</td>\n      <td>492.90</td>\n      <td>128.87</td>\n      <td>40.19</td>\n      <td>58.31</td>\n      <td>31.90</td>\n    </tr>\n    <tr>\n      <th>2006-01-04</th>\n      <td>46.58</td>\n      <td>483.80</td>\n      <td>127.09</td>\n      <td>39.62</td>\n      <td>58.35</td>\n      <td>31.53</td>\n    </tr>\n    <tr>\n      <th>2006-01-05</th>\n      <td>46.64</td>\n      <td>486.20</td>\n      <td>127.04</td>\n      <td>39.74</td>\n      <td>58.51</td>\n      <td>31.50</td>\n    </tr>\n    <tr>\n      <th>2006-01-06</th>\n      <td>46.57</td>\n      <td>486.20</td>\n      <td>128.84</td>\n      <td>40.02</td>\n      <td>58.57</td>\n      <td>31.68</td>\n    </tr>\n    <tr>\n      <th>2006-01-09</th>\n      <td>46.60</td>\n      <td>483.90</td>\n      <td>130.39</td>\n      <td>40.67</td>\n      <td>59.19</td>\n      <td>31.68</td>\n    </tr>\n    <tr>\n      <th>...</th>\n      <td>...</td>\n      <td>...</td>\n      <td>...</td>\n      <td>...</td>\n      <td>...</td>\n      <td>...</td>\n    </tr>\n    <tr>\n      <th>2015-12-24</th>\n      <td>17.27</td>\n      <td>52.71</td>\n      <td>182.47</td>\n      <td>66.60</td>\n      <td>32.48</td>\n      <td>54.82</td>\n    </tr>\n    <tr>\n      <th>2015-12-28</th>\n      <td>17.13</td>\n      <td>52.38</td>\n      <td>181.62</td>\n      <td>66.38</td>\n      <td>32.17</td>\n      <td>54.68</td>\n    </tr>\n    <tr>\n      <th>2015-12-29</th>\n      <td>17.28</td>\n      <td>52.98</td>\n      <td>183.53</td>\n      <td>67.07</td>\n      <td>32.55</td>\n      <td>55.29</td>\n    </tr>\n    <tr>\n      <th>2015-12-30</th>\n      <td>17.05</td>\n      <td>52.30</td>\n      <td>182.01</td>\n      <td>66.59</td>\n      <td>32.23</td>\n      <td>54.89</td>\n    </tr>\n    <tr>\n      <th>2015-12-31</th>\n      <td>16.83</td>\n      <td>51.75</td>\n      <td>180.23</td>\n      <td>66.03</td>\n      <td>31.81</td>\n      <td>54.36</td>\n    </tr>\n  </tbody>\n</table>\n<p>2517 rows × 6 columns</p>\n</div>"
     },
     "execution_count": 8,
     "metadata": {},
     "output_type": "execute_result"
    },
    {
     "data": {
      "text/plain": "Bank Ticker\nBAC     54.90\nC      564.10\nGS     247.92\nJPM     70.08\nMS      89.30\nWFC     58.52\ndtype: float64"
     },
     "execution_count": 8,
     "metadata": {},
     "output_type": "execute_result"
    }
   ],
   "source": [
    "bank_stocks.columns\n",
    "bank_stocks.index\n",
    "bank_stocks.xs(key=\"Close\", axis='columns', level=\"Stock Info\")\n",
    "bank_stocks.xs(key=\"Close\", axis='columns', level=\"Stock Info\").max()"
   ],
   "metadata": {
    "collapsed": false,
    "pycharm": {
     "name": "#%%\n"
    }
   }
  },
  {
   "cell_type": "markdown",
   "metadata": {
    "pycharm": {
     "name": "#%% md\n"
    }
   },
   "source": [
    "**Erstelle einen neuen leeren DataFrame namens \"returns\" (dt. Rendite). Dieser DataFrame wird die Renditen für die Aktien der Banken beinhalten. Renditen sind typischerweise wie folgt definiert:**\n",
    "\n",
    "$$r_t = \\frac{p_t - p_{t-1}}{p_{t-1}} = \\frac{p_t}{p_{t-1}} - 1$$"
   ]
  },
  {
   "cell_type": "code",
   "execution_count": 9,
   "metadata": {
    "collapsed": true,
    "pycharm": {
     "name": "#%%\n"
    }
   },
   "outputs": [],
   "source": [
    "returns = pd.DataFrame()"
   ]
  },
  {
   "cell_type": "markdown",
   "metadata": {
    "pycharm": {
     "name": "#%% md\n"
    }
   },
   "source": [
    "**Wir können nun Pandas `pct_change()` Methode auf den Schlusskurs anwenden, um eine Spalte zu erzeugen, die die Renditen beinhaltet. Erstelle dazu eine `for` Schleife, die für jeden Bank Aktienticker diese Renditenspalte erzeugt und sie in unseren returns DataFrame schreibt.**"
   ]
  },
  {
   "cell_type": "code",
   "execution_count": 9,
   "metadata": {
    "pycharm": {
     "name": "#%%\n"
    }
   },
   "outputs": [],
   "source": []
  },
  {
   "cell_type": "markdown",
   "metadata": {
    "pycharm": {
     "name": "#%% md\n"
    }
   },
   "source": [
    "**Erstelle jetzt ein `pairplot` mit Seaborn vom returns DataFrame. Welche Aktien stechen heraus? Woran könnte das liegen?**"
   ]
  },
  {
   "cell_type": "code",
   "execution_count": 10,
   "metadata": {
    "pycharm": {
     "name": "#%%\n"
    }
   },
   "outputs": [],
   "source": [
    "#returns[1:]\n"
   ]
  },
  {
   "cell_type": "markdown",
   "metadata": {
    "pycharm": {
     "name": "#%% md\n"
    }
   },
   "source": [
    "Hintergrundinformationen zum Crash der Citigroup Aktie gibts [hier](https://en.wikipedia.org/wiki/Citigroup#November_2008.2C_Collapse_.26_US_Government_Intervention_.28part_of_the_Global_Financial_Crisis.29).\n",
    "\n",
    "Man sieht außerdem einen enormen Crash im Wert der Aktien (was wir bei den Visualisierungen später noch tun werden)."
   ]
  },
  {
   "cell_type": "markdown",
   "metadata": {
    "pycharm": {
     "name": "#%% md\n"
    }
   },
   "source": [
    "**Unter Verwendung des return DataFrame: finde heraus an welchem Tag die jeweiligen Banken die besten und schlechtesten Eintagesrenditen hatten. Dabei sollte dir auffallen, dass 4 der Banken ihren schlechtesten am selben Tag hatte. Was passierte an diesem Tag?**"
   ]
  },
  {
   "cell_type": "code",
   "execution_count": 10,
   "metadata": {
    "pycharm": {
     "name": "#%%\n"
    }
   },
   "outputs": [],
   "source": []
  },
  {
   "cell_type": "code",
   "execution_count": 10,
   "metadata": {
    "pycharm": {
     "name": "#%%\n"
    }
   },
   "outputs": [],
   "source": []
  },
  {
   "cell_type": "markdown",
   "metadata": {
    "pycharm": {
     "name": "#%% md\n"
    }
   },
   "source": [
    "**Dabei sollte aufgefallen sein, dass der größte Einbruch und Gewinn der Citigroup nahe zusammen liegen. Ist etwas signifikantes passiert?**\n",
    "\n",
    "[Citigroup had a stock split.](https://www.google.com/webhp?sourceid=chrome-instant&ion=1&espv=2&ie=UTF-8#q=citigroup+stock+2011+may)"
   ]
  },
  {
   "cell_type": "markdown",
   "metadata": {
    "pycharm": {
     "name": "#%% md\n"
    }
   },
   "source": [
    "**Betrachte jetzt die Standardabweichung der Renditen. Welche Aktie würdest du demnach als die riskanteste über den gesamten Zeitraum hinweg bezeichnen? Welche würdest du als riskanteste im Jahr 2016 bezeichnen?**"
   ]
  },
  {
   "cell_type": "code",
   "execution_count": 10,
   "metadata": {
    "pycharm": {
     "name": "#%%\n"
    }
   },
   "outputs": [],
   "source": []
  },
  {
   "cell_type": "code",
   "execution_count": 10,
   "metadata": {
    "pycharm": {
     "name": "#%%\n"
    }
   },
   "outputs": [],
   "source": []
  },
  {
   "cell_type": "markdown",
   "metadata": {
    "pycharm": {
     "name": "#%% md\n"
    }
   },
   "source": [
    "**Erstelle ein `distplot` mit Seaborn für die Renditen von Morgan Stranley in 2016.**"
   ]
  },
  {
   "cell_type": "code",
   "execution_count": 10,
   "metadata": {
    "pycharm": {
     "name": "#%%\n"
    }
   },
   "outputs": [],
   "source": []
  },
  {
   "cell_type": "markdown",
   "metadata": {
    "pycharm": {
     "name": "#%% md\n"
    }
   },
   "source": [
    "**Erstelle ein `distplot` mit Seaborn für die Renditen der CitiGroup in 2015.**"
   ]
  },
  {
   "cell_type": "code",
   "execution_count": 10,
   "metadata": {
    "pycharm": {
     "name": "#%%\n"
    }
   },
   "outputs": [],
   "source": []
  },
  {
   "cell_type": "markdown",
   "metadata": {
    "pycharm": {
     "name": "#%% md\n"
    }
   },
   "source": [
    "## Mehr Visualisierungen\n",
    "\n",
    "Der folgende Teil dieses Projekts dreht sich komplett um Visualisierungen.  Nutze dabei eine Library deiner Wahl, oder mehrere. Ziel ist es, die abgebildeten Visualisierungen nachzustellen. Wähle zwischen Seaborn, Matplotlib, Plotly, Cufflinks oder einfach Pandas.\n",
    "\n",
    "### Importe"
   ]
  },
  {
   "cell_type": "code",
   "execution_count": 11,
   "metadata": {
    "pycharm": {
     "name": "#%%\n"
    }
   },
   "outputs": [
    {
     "name": "stderr",
     "output_type": "stream",
     "text": [
      "UsageError: Line magic function `%` not found.\n"
     ]
    }
   ],
   "source": [
    "import matplotlib.pyplot as plt\n",
    "import seaborn as sns\n",
    "\n",
    "sns.set_style('whitegrid')\n",
    "% matplotlib inline\n",
    "\n",
    "import cufflinks as cf\n",
    "cf.go_offline()"
   ]
  },
  {
   "cell_type": "markdown",
   "metadata": {
    "pycharm": {
     "name": "#%% md\n"
    }
   },
   "source": [
    "**Erstelle ein Liniendiagramm, das die Tagesschlusspreise für jede Bank für die gesamte Zeitperiode zeigt.**\n",
    "\n",
    "*Hinweis: Eine `for` Schleife oder .xs können funktionieren.*"
   ]
  },
  {
   "cell_type": "code",
   "execution_count": null,
   "metadata": {
    "pycharm": {
     "name": "#%%\n"
    }
   },
   "outputs": [],
   "source": []
  },
  {
   "cell_type": "code",
   "execution_count": null,
   "metadata": {
    "pycharm": {
     "name": "#%%\n"
    }
   },
   "outputs": [],
   "source": []
  },
  {
   "cell_type": "code",
   "execution_count": null,
   "metadata": {
    "pycharm": {
     "name": "#%%\n"
    }
   },
   "outputs": [],
   "source": [
    "# Plotly"
   ]
  },
  {
   "cell_type": "markdown",
   "metadata": {
    "pycharm": {
     "name": "#%% md\n"
    }
   },
   "source": [
    "### Laufender Durchschnitt\n",
    "\n",
    "Lasst uns den laufenden Durchschnitt für diese Aktien im Jahr 2008 berechnen.\n",
    "\n",
    "**Zeichne den laufenden 30-Tages-Durchschnitt gegen den Tagesschlusspreis für die Bank of America im Jahr 2008.**"
   ]
  },
  {
   "cell_type": "code",
   "execution_count": null,
   "metadata": {
    "pycharm": {
     "name": "#%%\n"
    }
   },
   "outputs": [],
   "source": []
  },
  {
   "cell_type": "markdown",
   "metadata": {
    "pycharm": {
     "name": "#%% md\n"
    }
   },
   "source": [
    "**Erstelle eine `heatmap` der Korrelation zwischen den Schlusspreisen der Banken.**"
   ]
  },
  {
   "cell_type": "code",
   "execution_count": null,
   "metadata": {
    "pycharm": {
     "name": "#%%\n"
    }
   },
   "outputs": [],
   "source": []
  },
  {
   "cell_type": "markdown",
   "metadata": {
    "pycharm": {
     "name": "#%% md\n"
    }
   },
   "source": [
    "**Optional: Nutze die `clustermap` aus Seaborn, um die Korrelationen zu clustern.**"
   ]
  },
  {
   "cell_type": "code",
   "execution_count": null,
   "metadata": {
    "pycharm": {
     "name": "#%%\n"
    }
   },
   "outputs": [],
   "source": []
  },
  {
   "cell_type": "code",
   "execution_count": null,
   "metadata": {
    "pycharm": {
     "name": "#%%\n"
    }
   },
   "outputs": [],
   "source": []
  },
  {
   "cell_type": "markdown",
   "metadata": {
    "pycharm": {
     "name": "#%% md\n"
    }
   },
   "source": [
    "# Gut gemacht!\n"
   ]
  }
 ],
 "metadata": {
  "kernelspec": {
   "display_name": "Python 3 (ipykernel)",
   "language": "python",
   "name": "python3"
  },
  "language_info": {
   "codemirror_mode": {
    "name": "ipython",
    "version": 3
   },
   "file_extension": ".py",
   "mimetype": "text/x-python",
   "name": "python",
   "nbconvert_exporter": "python",
   "pygments_lexer": "ipython3",
   "version": "3.8.5"
  }
 },
 "nbformat": 4,
 "nbformat_minor": 2
}