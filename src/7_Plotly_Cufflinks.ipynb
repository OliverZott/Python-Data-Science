{
 "cells": [
  {
   "cell_type": "markdown",
   "source": [
    "# Plotly and Cufflinks"
   ],
   "metadata": {
    "collapsed": false,
    "pycharm": {
     "name": "#%% md\n"
    }
   }
  },
  {
   "cell_type": "code",
   "execution_count": 28,
   "outputs": [],
   "source": [
    "import pandas as pd\n",
    "import numpy as np\n",
    "% matplotlib inline\n"
   ],
   "metadata": {
    "collapsed": false,
    "pycharm": {
     "name": "#%%\n"
    }
   }
  },
  {
   "cell_type": "code",
   "execution_count": 29,
   "outputs": [
    {
     "data": {
      "text/plain": "'5.8.0'"
     },
     "execution_count": 29,
     "metadata": {},
     "output_type": "execute_result"
    }
   ],
   "source": [
    "from plotly import __version__\n",
    "\n",
    "__version__"
   ],
   "metadata": {
    "collapsed": false,
    "pycharm": {
     "name": "#%%\n"
    }
   }
  },
  {
   "cell_type": "code",
   "execution_count": 30,
   "outputs": [],
   "source": [
    "from plotly.offline import download_plotlyjs, init_notebook_mode, plot, iplot"
   ],
   "metadata": {
    "collapsed": false,
    "pycharm": {
     "name": "#%%\n"
    }
   }
  },
  {
   "cell_type": "code",
   "execution_count": 31,
   "outputs": [],
   "source": [
    "import cufflinks as cf"
   ],
   "metadata": {
    "collapsed": false,
    "pycharm": {
     "name": "#%%\n"
    }
   }
  },
  {
   "cell_type": "code",
   "execution_count": 32,
   "outputs": [
    {
     "data": {
      "text/html": "        <script type=\"text/javascript\">\n        window.PlotlyConfig = {MathJaxConfig: 'local'};\n        if (window.MathJax && window.MathJax.Hub && window.MathJax.Hub.Config) {window.MathJax.Hub.Config({SVG: {font: \"STIX-Web\"}});}\n        if (typeof require !== 'undefined') {\n        require.undef(\"plotly\");\n        requirejs.config({\n            paths: {\n                'plotly': ['https://cdn.plot.ly/plotly-2.12.1.min']\n            }\n        });\n        require(['plotly'], function(Plotly) {\n            window._Plotly = Plotly;\n        });\n        }\n        </script>\n        "
     },
     "metadata": {},
     "output_type": "display_data"
    },
    {
     "data": {
      "text/html": "        <script type=\"text/javascript\">\n        window.PlotlyConfig = {MathJaxConfig: 'local'};\n        if (window.MathJax && window.MathJax.Hub && window.MathJax.Hub.Config) {window.MathJax.Hub.Config({SVG: {font: \"STIX-Web\"}});}\n        if (typeof require !== 'undefined') {\n        require.undef(\"plotly\");\n        requirejs.config({\n            paths: {\n                'plotly': ['https://cdn.plot.ly/plotly-2.12.1.min']\n            }\n        });\n        require(['plotly'], function(Plotly) {\n            window._Plotly = Plotly;\n        });\n        }\n        </script>\n        "
     },
     "metadata": {},
     "output_type": "display_data"
    }
   ],
   "source": [
    "# Notebook initialize and offline mode (no website, just in notebook)\n",
    "init_notebook_mode(connected=True)\n",
    "cf.go_offline()"
   ],
   "metadata": {
    "collapsed": false,
    "pycharm": {
     "name": "#%%\n"
    }
   }
  },
  {
   "cell_type": "markdown",
   "source": [
    "## Create Data"
   ],
   "metadata": {
    "collapsed": false,
    "pycharm": {
     "name": "#%% md\n"
    }
   }
  },
  {
   "cell_type": "code",
   "execution_count": 33,
   "outputs": [
    {
     "data": {
      "text/plain": "          A         B         C         D\n0  0.282943  1.765764  1.968851 -1.098285\n1  0.796834  0.401525 -0.467064  0.149582\n2  0.602964 -0.649044  0.212548  1.246130\n3 -1.565047 -0.066910 -0.651691  0.160663\n4  1.304012 -1.383626  0.528378 -1.064339",
      "text/html": "<div>\n<style scoped>\n    .dataframe tbody tr th:only-of-type {\n        vertical-align: middle;\n    }\n\n    .dataframe tbody tr th {\n        vertical-align: top;\n    }\n\n    .dataframe thead th {\n        text-align: right;\n    }\n</style>\n<table border=\"1\" class=\"dataframe\">\n  <thead>\n    <tr style=\"text-align: right;\">\n      <th></th>\n      <th>A</th>\n      <th>B</th>\n      <th>C</th>\n      <th>D</th>\n    </tr>\n  </thead>\n  <tbody>\n    <tr>\n      <th>0</th>\n      <td>0.282943</td>\n      <td>1.765764</td>\n      <td>1.968851</td>\n      <td>-1.098285</td>\n    </tr>\n    <tr>\n      <th>1</th>\n      <td>0.796834</td>\n      <td>0.401525</td>\n      <td>-0.467064</td>\n      <td>0.149582</td>\n    </tr>\n    <tr>\n      <th>2</th>\n      <td>0.602964</td>\n      <td>-0.649044</td>\n      <td>0.212548</td>\n      <td>1.246130</td>\n    </tr>\n    <tr>\n      <th>3</th>\n      <td>-1.565047</td>\n      <td>-0.066910</td>\n      <td>-0.651691</td>\n      <td>0.160663</td>\n    </tr>\n    <tr>\n      <th>4</th>\n      <td>1.304012</td>\n      <td>-1.383626</td>\n      <td>0.528378</td>\n      <td>-1.064339</td>\n    </tr>\n  </tbody>\n</table>\n</div>"
     },
     "execution_count": 33,
     "metadata": {},
     "output_type": "execute_result"
    }
   ],
   "source": [
    "df = pd.DataFrame(np.random.randn(100, 4), columns=\"A B C D\".split())\n",
    "df.head()"
   ],
   "metadata": {
    "collapsed": false,
    "pycharm": {
     "name": "#%%\n"
    }
   }
  },
  {
   "cell_type": "code",
   "execution_count": 34,
   "outputs": [
    {
     "data": {
      "text/plain": "  category  values\n0        A      32\n1        B      45\n2        C      50",
      "text/html": "<div>\n<style scoped>\n    .dataframe tbody tr th:only-of-type {\n        vertical-align: middle;\n    }\n\n    .dataframe tbody tr th {\n        vertical-align: top;\n    }\n\n    .dataframe thead th {\n        text-align: right;\n    }\n</style>\n<table border=\"1\" class=\"dataframe\">\n  <thead>\n    <tr style=\"text-align: right;\">\n      <th></th>\n      <th>category</th>\n      <th>values</th>\n    </tr>\n  </thead>\n  <tbody>\n    <tr>\n      <th>0</th>\n      <td>A</td>\n      <td>32</td>\n    </tr>\n    <tr>\n      <th>1</th>\n      <td>B</td>\n      <td>45</td>\n    </tr>\n    <tr>\n      <th>2</th>\n      <td>C</td>\n      <td>50</td>\n    </tr>\n  </tbody>\n</table>\n</div>"
     },
     "execution_count": 34,
     "metadata": {},
     "output_type": "execute_result"
    }
   ],
   "source": [
    "df2 = pd.DataFrame({'category': ['A', 'B', 'C'], 'values': [32, 45, 50]})\n",
    "df2.head()\n"
   ],
   "metadata": {
    "collapsed": false,
    "pycharm": {
     "name": "#%%\n"
    }
   }
  },
  {
   "cell_type": "markdown",
   "source": [
    "## Data Plot\n",
    "- iplot for interactive plots"
   ],
   "metadata": {
    "collapsed": false,
    "pycharm": {
     "name": "#%% md\n"
    }
   }
  },
  {
   "cell_type": "code",
   "execution_count": 35,
   "outputs": [
    {
     "data": {
      "text/plain": "<AxesSubplot:>"
     },
     "execution_count": 35,
     "metadata": {},
     "output_type": "execute_result"
    },
    {
     "data": {
      "text/plain": "<Figure size 432x288 with 1 Axes>",
      "image/png": "[encoded data removed]"
     },
     "metadata": {
      "needs_background": "light"
     },
     "output_type": "display_data"
    }
   ],
   "source": [
    "df[[\"A\", \"B\"]].plot()"
   ],
   "metadata": {
    "collapsed": false,
    "pycharm": {
     "name": "#%%\n"
    }
   }
  },
  {
   "cell_type": "code",
   "execution_count": 36,
   "outputs": [
    {
     "data": {
      "application/vnd.plotly.v1+json": {
       "data": [
        {
         "line": {
          "color": "rgba(255, 153, 51, 1.0)",
          "dash": "solid",
          "shape": "linear",
          "width": 1.3
         },
         "mode": "lines",
         "name": "A",
         "text": "",
         "x": [
          0,
          1,
          2,
          3,
          4,
          5,
          6,
          7,
          8,
          9,
          10,
          11,
          12,
          13,
          14,
          15,
          16,
          17,
          18,
          19,
          20,
          21,
          22,
          23,
          24,
          25,
          26,
          27,
          28,
          29,
          30,
          31,
          32,
          33,
          34,
          35,
          36,
          37,
          38,
          39,
          40,
          41,
          42,
          43,
          44,
          45,
          46,
          47,
          48,
          49,
          50,
          51,
          52,
          53,
          54,
          55,
          56,
          57,
          58,
          59,
          60,
          61,
          62,
          63,
          64,
          65,
          66,
          67,
          68,
          69,
          70,
          71,
          72,
          73,
          74,
          75,
          76,
          77,
          78,
          79,
          80,
          81,
          82,
          83,
          84,
          85,
          86,
          87,
          88,
          89,
          90,
          91,
          92,
          93,
          94,
          95,
          96,
          97,
          98,
          99
         ],
         "y": [
          0.28294306242083767,
          0.7968335417349354,
          0.6029639109107471,
          -1.5650465702073828,
          1.304012469593769,
          -0.7189638548328962,
          -0.8342772051709019,
          0.22903038848035023,
          -0.5555919147143817,
          1.4140028785570107,
          0.94608625189099,
          0.9475932345276445,
          0.23210000912619144,
          -0.2017794680697094,
          -1.4990317076611852,
          -0.7842492198303922,
          -1.3121806301629386,
          -1.5962284515435832,
          0.2657376571207234,
          -0.7577841855650336,
          0.39706212625730386,
          0.6073528236931202,
          0.5706027636271244,
          0.18683438249342266,
          -0.7940508543522877,
          -0.6444701200418613,
          -0.2110685265220033,
          -0.21394613693218092,
          0.4534506074097498,
          2.438321983713647,
          -1.2396923531952755,
          -1.0338891895089748,
          -1.8686878644477178,
          1.4426106451051863,
          1.3829077973469637,
          -0.9318189639747426,
          -1.351996586738685,
          1.5595608061328485,
          -0.04392079133593794,
          -0.3249146952228359,
          -0.3561904783582894,
          -0.23101513575681648,
          0.08360620220848271,
          -0.2775960238257498,
          0.1827848967298999,
          0.526474067214003,
          2.8941246385052737,
          0.3513291582553594,
          1.4747419625145186,
          0.8114972050269655,
          0.3904436172676149,
          0.5863844172483037,
          0.132548984097949,
          -0.008685401418308297,
          1.5120385158724081,
          -0.30670267379703225,
          -1.4923253483617496,
          0.4802337079853066,
          -0.16507077011425983,
          -2.0560055890795237,
          0.10582411220975962,
          2.060496097844001,
          0.8634647915354526,
          -0.3039246066953029,
          0.1229316646230268,
          -0.038431626183908746,
          -1.5625482329206086,
          0.8026387183329571,
          -1.0443326064301137,
          -1.7441282157838378,
          0.4085613297272926,
          1.1314362749851863,
          -0.9655028773082579,
          0.6140978821152564,
          -0.6593952533441673,
          -0.34343935659321273,
          0.4034289175552191,
          1.104816451182827,
          0.3878510482013112,
          -0.743700172880391,
          -0.42968150080935014,
          -0.9391664628727731,
          -0.5884295473521228,
          -0.7177875423794414,
          2.1228794383459997,
          -0.4975295949320428,
          1.5496946784360939,
          -0.1603496989445274,
          -1.567367392800217,
          -0.1371889550701248,
          1.1782392321059363,
          -0.22356969222959078,
          -0.5950862468932329,
          0.7425841600024924,
          0.12691537384773105,
          -2.0104992712368546,
          0.9657266887418268,
          0.43111491937499125,
          -1.1636538720055476,
          5.153381097441173E-4
         ],
         "type": "scatter"
        },
        {
         "line": {
          "color": "rgba(55, 128, 191, 1.0)",
          "dash": "solid",
          "shape": "linear",
          "width": 1.3
         },
         "mode": "lines",
         "name": "B",
         "text": "",
         "x": [
          0,
          1,
          2,
          3,
          4,
          5,
          6,
          7,
          8,
          9,
          10,
          11,
          12,
          13,
          14,
          15,
          16,
          17,
          18,
          19,
          20,
          21,
          22,
          23,
          24,
          25,
          26,
          27,
          28,
          29,
          30,
          31,
          32,
          33,
          34,
          35,
          36,
          37,
          38,
          39,
          40,
          41,
          42,
          43,
          44,
          45,
          46,
          47,
          48,
          49,
          50,
          51,
          52,
          53,
          54,
          55,
          56,
          57,
          58,
          59,
          60,
          61,
          62,
          63,
          64,
          65,
          66,
          67,
          68,
          69,
          70,
          71,
          72,
          73,
          74,
          75,
          76,
          77,
          78,
          79,
          80,
          81,
          82,
          83,
          84,
          85,
          86,
          87,
          88,
          89,
          90,
          91,
          92,
          93,
          94,
          95,
          96,
          97,
          98,
          99
         ],
         "y": [
          1.7657644339687022,
          0.40152524610963597,
          -0.6490441381987168,
          -0.06690985466349718,
          -1.3836260446239395,
          -1.2828230670369736,
          1.641103044752528,
          0.02950549536361005,
          -2.1318721666960796,
          -1.0425706714763656,
          -0.6881285360861475,
          0.7129372647011848,
          -0.41299957821847816,
          0.764715578317224,
          1.6320799119277163,
          0.6648963455373257,
          1.502186292770685,
          0.5717155903686859,
          -0.08096115022213794,
          1.6688301430783008,
          1.099781650299211,
          0.8677669207363187,
          -0.049835760740421294,
          -0.7937881637743242,
          -1.6797130681383161,
          -0.8745572359960498,
          -0.09444092644838366,
          1.25026970101619,
          -2.0408326288783494,
          0.40818850602513895,
          0.9625915949894845,
          0.19149098777623977,
          -0.5412840448442139,
          -0.9668667448686264,
          0.5369895159344095,
          0.4583338589453875,
          -0.0073253076901911825,
          -0.1696692115072209,
          -0.19499724667941787,
          -0.9760650430864394,
          0.45399599089019094,
          -1.438388683371131,
          -0.030663865329517898,
          -1.5185179787148289,
          -0.27104235629081364,
          1.2370207940253466,
          0.17549520318780185,
          -0.422093343206613,
          0.8053032459521436,
          1.1307406125923145,
          -1.2661415921852701,
          0.6825205226610233,
          -0.6866233951233202,
          -1.7648581385983473,
          -1.1252794765269931,
          -1.4694753261250473,
          0.4183908398921806,
          -0.8084090371479645,
          0.8278362870211943,
          -0.38093806077119186,
          2.1232446144391943,
          -0.7157103234847048,
          1.153458938556494,
          -0.8796592512734447,
          0.644698021217474,
          0.5279713712717733,
          2.418904656614257,
          -1.7570416086898197,
          0.6994030201855514,
          -0.02822940865389242,
          0.23331442504654712,
          -0.7184573666523312,
          0.28763082108987026,
          0.9558194586851085,
          -1.1307744435339449,
          0.5961646009260254,
          0.29319217653563767,
          -1.1388899044232315,
          -0.7596053768042313,
          -0.4300073438081864,
          0.6244910560352827,
          0.8010163299977416,
          -0.8568211136062038,
          -0.7896100550557182,
          -0.9629249914457718,
          -0.43639411199462874,
          0.001555813000358842,
          -0.17681091563059353,
          -0.5321232495662198,
          0.9130347810077699,
          0.14999294028596566,
          0.28951203578929724,
          -0.19401209846592063,
          -1.2577957050234982,
          0.5077320337947091,
          -0.5621704955948704,
          -0.7793490945044861,
          -0.15103745501382332,
          0.2372061381731799,
          -2.670105086556007
         ],
         "type": "scatter"
        }
       ],
       "layout": {
        "legend": {
         "bgcolor": "#F5F6F9",
         "font": {
          "color": "#4D5663"
         }
        },
        "paper_bgcolor": "#F5F6F9",
        "plot_bgcolor": "#F5F6F9",
        "template": {
         "data": {
          "barpolar": [
           {
            "marker": {
             "line": {
              "color": "#E5ECF6",
              "width": 0.5
             },
             "pattern": {
              "fillmode": "overlay",
              "size": 10,
              "solidity": 0.2
             }
            },
            "type": "barpolar"
           }
          ],
          "bar": [
           {
            "error_x": {
             "color": "#2a3f5f"
            },
            "error_y": {
             "color": "#2a3f5f"
            },
            "marker": {
             "line": {
              "color": "#E5ECF6",
              "width": 0.5
             },
             "pattern": {
              "fillmode": "overlay",
              "size": 10,
              "solidity": 0.2
             }
            },
            "type": "bar"
           }
          ],
          "carpet": [
           {
            "aaxis": {
             "endlinecolor": "#2a3f5f",
             "gridcolor": "white",
             "linecolor": "white",
             "minorgridcolor": "white",
             "startlinecolor": "#2a3f5f"
            },
            "baxis": {
             "endlinecolor": "#2a3f5f",
             "gridcolor": "white",
             "linecolor": "white",
             "minorgridcolor": "white",
             "startlinecolor": "#2a3f5f"
            },
            "type": "carpet"
           }
          ],
          "choropleth": [
           {
            "colorbar": {
             "outlinewidth": 0,
             "ticks": ""
            },
            "type": "choropleth"
           }
          ],
          "contourcarpet": [
           {
            "colorbar": {
             "outlinewidth": 0,
             "ticks": ""
            },
            "type": "contourcarpet"
           }
          ],
          "contour": [
           {
            "colorbar": {
             "outlinewidth": 0,
             "ticks": ""
            },
            "colorscale": [
             [
              0.0,
              "#0d0887"
             ],
             [
              0.1111111111111111,
              "#46039f"
             ],
             [
              0.2222222222222222,
              "#7201a8"
             ],
             [
              0.3333333333333333,
              "#9c179e"
             ],
             [
              0.4444444444444444,
              "#bd3786"
             ],
             [
              0.5555555555555556,
              "#d8576b"
             ],
             [
              0.6666666666666666,
              "#ed7953"
             ],
             [
              0.7777777777777778,
              "#fb9f3a"
             ],
             [
              0.8888888888888888,
              "#fdca26"
             ],
             [
              1.0,
              "#f0f921"
             ]
            ],
            "type": "contour"
           }
          ],
          "heatmapgl": [
           {
            "colorbar": {
             "outlinewidth": 0,
             "ticks": ""
            },
            "colorscale": [
             [
              0.0,
              "#0d0887"
             ],
             [
              0.1111111111111111,
              "#46039f"
             ],
             [
              0.2222222222222222,
              "#7201a8"
             ],
             [
              0.3333333333333333,
              "#9c179e"
             ],
             [
              0.4444444444444444,
              "#bd3786"
             ],
             [
              0.5555555555555556,
              "#d8576b"
             ],
             [
              0.6666666666666666,
              "#ed7953"
             ],
             [
              0.7777777777777778,
              "#fb9f3a"
             ],
             [
              0.8888888888888888,
              "#fdca26"
             ],
             [
              1.0,
              "#f0f921"
             ]
            ],
            "type": "heatmapgl"
           }
          ],
          "heatmap": [
           {
            "colorbar": {
             "outlinewidth": 0,
             "ticks": ""
            },
            "colorscale": [
             [
              0.0,
              "#0d0887"
             ],
             [
              0.1111111111111111,
              "#46039f"
             ],
             [
              0.2222222222222222,
              "#7201a8"
             ],
             [
              0.3333333333333333,
              "#9c179e"
             ],
             [
              0.4444444444444444,
              "#bd3786"
             ],
             [
              0.5555555555555556,
              "#d8576b"
             ],
             [
              0.6666666666666666,
              "#ed7953"
             ],
             [
              0.7777777777777778,
              "#fb9f3a"
             ],
             [
              0.8888888888888888,
              "#fdca26"
             ],
             [
              1.0,
              "#f0f921"
             ]
            ],
            "type": "heatmap"
           }
          ],
          "histogram2dcontour": [
           {
            "colorbar": {
             "outlinewidth": 0,
             "ticks": ""
            },
            "colorscale": [
             [
              0.0,
              "#0d0887"
             ],
             [
              0.1111111111111111,
              "#46039f"
             ],
             [
              0.2222222222222222,
              "#7201a8"
             ],
             [
              0.3333333333333333,
              "#9c179e"
             ],
             [
              0.4444444444444444,
              "#bd3786"
             ],
             [
              0.5555555555555556,
              "#d8576b"
             ],
             [
              0.6666666666666666,
              "#ed7953"
             ],
             [
              0.7777777777777778,
              "#fb9f3a"
             ],
             [
              0.8888888888888888,
              "#fdca26"
             ],
             [
              1.0,
              "#f0f921"
             ]
            ],
            "type": "histogram2dcontour"
           }
          ],
          "histogram2d": [
           {
            "colorbar": {
             "outlinewidth": 0,
             "ticks": ""
            },
            "colorscale": [
             [
              0.0,
              "#0d0887"
             ],
             [
              0.1111111111111111,
              "#46039f"
             ],
             [
              0.2222222222222222,
              "#7201a8"
             ],
             [
              0.3333333333333333,
              "#9c179e"
             ],
             [
              0.4444444444444444,
              "#bd3786"
             ],
             [
              0.5555555555555556,
              "#d8576b"
             ],
             [
              0.6666666666666666,
              "#ed7953"
             ],
             [
              0.7777777777777778,
              "#fb9f3a"
             ],
             [
              0.8888888888888888,
              "#fdca26"
             ],
             [
              1.0,
              "#f0f921"
             ]
            ],
            "type": "histogram2d"
           }
          ],
          "histogram": [
           {
            "marker": {
             "pattern": {
              "fillmode": "overlay",
              "size": 10,
              "solidity": 0.2
             }
            },
            "type": "histogram"
           }
          ],
          "mesh3d": [
           {
            "colorbar": {
             "outlinewidth": 0,
             "ticks": ""
            },
            "type": "mesh3d"
           }
          ],
          "parcoords": [
           {
            "line": {
             "colorbar": {
              "outlinewidth": 0,
              "ticks": ""
             }
            },
            "type": "parcoords"
           }
          ],
          "pie": [
           {
            "automargin": true,
            "type": "pie"
           }
          ],
          "scatter3d": [
           {
            "line": {
             "colorbar": {
              "outlinewidth": 0,
              "ticks": ""
             }
            },
            "marker": {
             "colorbar": {
              "outlinewidth": 0,
              "ticks": ""
             }
            },
            "type": "scatter3d"
           }
          ],
          "scattercarpet": [
           {
            "marker": {
             "colorbar": {
              "outlinewidth": 0,
              "ticks": ""
             }
            },
            "type": "scattercarpet"
           }
          ],
          "scattergeo": [
           {
            "marker": {
             "colorbar": {
              "outlinewidth": 0,
              "ticks": ""
             }
            },
            "type": "scattergeo"
           }
          ],
          "scattergl": [
           {
            "marker": {
             "colorbar": {
              "outlinewidth": 0,
              "ticks": ""
             }
            },
            "type": "scattergl"
           }
          ],
          "scattermapbox": [
           {
            "marker": {
             "colorbar": {
              "outlinewidth": 0,
              "ticks": ""
             }
            },
            "type": "scattermapbox"
           }
          ],
          "scatterpolargl": [
           {
            "marker": {
             "colorbar": {
              "outlinewidth": 0,
              "ticks": ""
             }
            },
            "type": "scatterpolargl"
           }
          ],
          "scatterpolar": [
           {
            "marker": {
             "colorbar": {
              "outlinewidth": 0,
              "ticks": ""
             }
            },
            "type": "scatterpolar"
           }
          ],
          "scatter": [
           {
            "fillpattern": {
             "fillmode": "overlay",
             "size": 10,
             "solidity": 0.2
            },
            "type": "scatter"
           }
          ],
          "scatterternary": [
           {
            "marker": {
             "colorbar": {
              "outlinewidth": 0,
              "ticks": ""
             }
            },
            "type": "scatterternary"
           }
          ],
          "surface": [
           {
            "colorbar": {
             "outlinewidth": 0,
             "ticks": ""
            },
            "colorscale": [
             [
              0.0,
              "#0d0887"
             ],
             [
              0.1111111111111111,
              "#46039f"
             ],
             [
              0.2222222222222222,
              "#7201a8"
             ],
             [
              0.3333333333333333,
              "#9c179e"
             ],
             [
              0.4444444444444444,
              "#bd3786"
             ],
             [
              0.5555555555555556,
              "#d8576b"
             ],
             [
              0.6666666666666666,
              "#ed7953"
             ],
             [
              0.7777777777777778,
              "#fb9f3a"
             ],
             [
              0.8888888888888888,
              "#fdca26"
             ],
             [
              1.0,
              "#f0f921"
             ]
            ],
            "type": "surface"
           }
          ],
          "table": [
           {
            "cells": {
             "fill": {
              "color": "#EBF0F8"
             },
             "line": {
              "color": "white"
             }
            },
            "header": {
             "fill": {
              "color": "#C8D4E3"
             },
             "line": {
              "color": "white"
             }
            },
            "type": "table"
           }
          ]
         },
         "layout": {
          "annotationdefaults": {
           "arrowcolor": "#2a3f5f",
           "arrowhead": 0,
           "arrowwidth": 1
          },
          "autotypenumbers": "strict",
          "coloraxis": {
           "colorbar": {
            "outlinewidth": 0,
            "ticks": ""
           }
          },
          "colorscale": {
           "diverging": [
            [
             0,
             "#8e0152"
            ],
            [
             0.1,
             "#c51b7d"
            ],
            [
             0.2,
             "#de77ae"
            ],
            [
             0.3,
             "#f1b6da"
            ],
            [
             0.4,
             "#fde0ef"
            ],
            [
             0.5,
             "#f7f7f7"
            ],
            [
             0.6,
             "#e6f5d0"
            ],
            [
             0.7,
             "#b8e186"
            ],
            [
             0.8,
             "#7fbc41"
            ],
            [
             0.9,
             "#4d9221"
            ],
            [
             1,
             "#276419"
            ]
           ],
           "sequential": [
            [
             0.0,
             "#0d0887"
            ],
            [
             0.1111111111111111,
             "#46039f"
            ],
            [
             0.2222222222222222,
             "#7201a8"
            ],
            [
             0.3333333333333333,
             "#9c179e"
            ],
            [
             0.4444444444444444,
             "#bd3786"
            ],
            [
             0.5555555555555556,
             "#d8576b"
            ],
            [
             0.6666666666666666,
             "#ed7953"
            ],
            [
             0.7777777777777778,
             "#fb9f3a"
            ],
            [
             0.8888888888888888,
             "#fdca26"
            ],
            [
             1.0,
             "#f0f921"
            ]
           ],
           "sequentialminus": [
            [
             0.0,
             "#0d0887"
            ],
            [
             0.1111111111111111,
             "#46039f"
            ],
            [
             0.2222222222222222,
             "#7201a8"
            ],
            [
             0.3333333333333333,
             "#9c179e"
            ],
            [
             0.4444444444444444,
             "#bd3786"
            ],
            [
             0.5555555555555556,
             "#d8576b"
            ],
            [
             0.6666666666666666,
             "#ed7953"
            ],
            [
             0.7777777777777778,
             "#fb9f3a"
            ],
            [
             0.8888888888888888,
             "#fdca26"
            ],
            [
             1.0,
             "#f0f921"
            ]
           ]
          },
          "colorway": [
           "#636efa",
           "#EF553B",
           "#00cc96",
           "#ab63fa",
           "#FFA15A",
           "#19d3f3",
           "#FF6692",
           "#B6E880",
           "#FF97FF",
           "#FECB52"
          ],
          "font": {
           "color": "#2a3f5f"
          },
          "geo": {
           "bgcolor": "white",
           "lakecolor": "white",
           "landcolor": "#E5ECF6",
           "showlakes": true,
           "showland": true,
           "subunitcolor": "white"
          },
          "hoverlabel": {
           "align": "left"
          },
          "hovermode": "closest",
          "mapbox": {
           "style": "light"
          },
          "paper_bgcolor": "white",
          "plot_bgcolor": "#E5ECF6",
          "polar": {
           "angularaxis": {
            "gridcolor": "white",
            "linecolor": "white",
            "ticks": ""
           },
           "bgcolor": "#E5ECF6",
           "radialaxis": {
            "gridcolor": "white",
            "linecolor": "white",
            "ticks": ""
           }
          },
          "scene": {
           "xaxis": {
            "backgroundcolor": "#E5ECF6",
            "gridcolor": "white",
            "gridwidth": 2,
            "linecolor": "white",
            "showbackground": true,
            "ticks": "",
            "zerolinecolor": "white"
           },
           "yaxis": {
            "backgroundcolor": "#E5ECF6",
            "gridcolor": "white",
            "gridwidth": 2,
            "linecolor": "white",
            "showbackground": true,
            "ticks": "",
            "zerolinecolor": "white"
           },
           "zaxis": {
            "backgroundcolor": "#E5ECF6",
            "gridcolor": "white",
            "gridwidth": 2,
            "linecolor": "white",
            "showbackground": true,
            "ticks": "",
            "zerolinecolor": "white"
           }
          },
          "shapedefaults": {
           "line": {
            "color": "#2a3f5f"
           }
          },
          "ternary": {
           "aaxis": {
            "gridcolor": "white",
            "linecolor": "white",
            "ticks": ""
           },
           "baxis": {
            "gridcolor": "white",
            "linecolor": "white",
            "ticks": ""
           },
           "bgcolor": "#E5ECF6",
           "caxis": {
            "gridcolor": "white",
            "linecolor": "white",
            "ticks": ""
           }
          },
          "title": {
           "x": 0.05
          },
          "xaxis": {
           "automargin": true,
           "gridcolor": "white",
           "linecolor": "white",
           "ticks": "",
           "title": {
            "standoff": 15
           },
           "zerolinecolor": "white",
           "zerolinewidth": 2
          },
          "yaxis": {
           "automargin": true,
           "gridcolor": "white",
           "linecolor": "white",
           "ticks": "",
           "title": {
            "standoff": 15
           },
           "zerolinecolor": "white",
           "zerolinewidth": 2
          }
         }
        },
        "title": {
         "font": {
          "color": "#4D5663"
         }
        },
        "xaxis": {
         "gridcolor": "#E1E5ED",
         "showgrid": true,
         "tickfont": {
          "color": "#4D5663"
         },
         "title": {
          "font": {
           "color": "#4D5663"
          },
          "text": ""
         },
         "zerolinecolor": "#E1E5ED"
        },
        "yaxis": {
         "gridcolor": "#E1E5ED",
         "showgrid": true,
         "tickfont": {
          "color": "#4D5663"
         },
         "title": {
          "font": {
           "color": "#4D5663"
          },
          "text": ""
         },
         "zerolinecolor": "#E1E5ED"
        }
       },
       "config": {
        "showLink": true,
        "linkText": "Export to plot.ly",
        "plotlyServerURL": "https://plot.ly"
       }
      },
      "text/html": "<div>                            <div id=\"95bf43fe-1af9-48f8-8f83-0f6be85f6162\" class=\"plotly-graph-div\" style=\"height:525px; width:100%;\"></div>            <script type=\"text/javascript\">                require([\"plotly\"], function(Plotly) {                    window.PLOTLYENV=window.PLOTLYENV || {};\n                    window.PLOTLYENV.BASE_URL='https://plot.ly';                                    if (document.getElementById(\"95bf43fe-1af9-48f8-8f83-0f6be85f6162\")) {                    Plotly.newPlot(                        \"95bf43fe-1af9-48f8-8f83-0f6be85f6162\",                        [{\"line\":{\"color\":\"rgba(255, 153, 51, 1.0)\",\"dash\":\"solid\",\"shape\":\"linear\",\"width\":1.3},\"mode\":\"lines\",\"name\":\"A\",\"text\":\"\",\"x\":[0,1,2,3,4,5,6,7,8,9,10,11,12,13,14,15,16,17,18,19,20,21,22,23,24,25,26,27,28,29,30,31,32,33,34,35,36,37,38,39,40,41,42,43,44,45,46,47,48,49,50,51,52,53,54,55,56,57,58,59,60,61,62,63,64,65,66,67,68,69,70,71,72,73,74,75,76,77,78,79,80,81,82,83,84,85,86,87,88,89,90,91,92,93,94,95,96,97,98,99],\"y\":[0.28294306242083767,0.7968335417349354,0.6029639109107471,-1.5650465702073828,1.304012469593769,-0.7189638548328962,-0.8342772051709019,0.22903038848035023,-0.5555919147143817,1.4140028785570107,0.94608625189099,0.9475932345276445,0.23210000912619144,-0.2017794680697094,-1.4990317076611852,-0.7842492198303922,-1.3121806301629386,-1.5962284515435832,0.2657376571207234,-0.7577841855650336,0.39706212625730386,0.6073528236931202,0.5706027636271244,0.18683438249342266,-0.7940508543522877,-0.6444701200418613,-0.2110685265220033,-0.21394613693218092,0.4534506074097498,2.438321983713647,-1.2396923531952755,-1.0338891895089748,-1.8686878644477178,1.4426106451051863,1.3829077973469637,-0.9318189639747426,-1.351996586738685,1.5595608061328485,-0.04392079133593794,-0.3249146952228359,-0.3561904783582894,-0.23101513575681648,0.08360620220848271,-0.2775960238257498,0.1827848967298999,0.526474067214003,2.8941246385052737,0.3513291582553594,1.4747419625145186,0.8114972050269655,0.3904436172676149,0.5863844172483037,0.132548984097949,-0.008685401418308297,1.5120385158724081,-0.30670267379703225,-1.4923253483617496,0.4802337079853066,-0.16507077011425983,-2.0560055890795237,0.10582411220975962,2.060496097844001,0.8634647915354526,-0.3039246066953029,0.1229316646230268,-0.038431626183908746,-1.5625482329206086,0.8026387183329571,-1.0443326064301137,-1.7441282157838378,0.4085613297272926,1.1314362749851863,-0.9655028773082579,0.6140978821152564,-0.6593952533441673,-0.34343935659321273,0.4034289175552191,1.104816451182827,0.3878510482013112,-0.743700172880391,-0.42968150080935014,-0.9391664628727731,-0.5884295473521228,-0.7177875423794414,2.1228794383459997,-0.4975295949320428,1.5496946784360939,-0.1603496989445274,-1.567367392800217,-0.1371889550701248,1.1782392321059363,-0.22356969222959078,-0.5950862468932329,0.7425841600024924,0.12691537384773105,-2.0104992712368546,0.9657266887418268,0.43111491937499125,-1.1636538720055476,0.0005153381097441173],\"type\":\"scatter\"},{\"line\":{\"color\":\"rgba(55, 128, 191, 1.0)\",\"dash\":\"solid\",\"shape\":\"linear\",\"width\":1.3},\"mode\":\"lines\",\"name\":\"B\",\"text\":\"\",\"x\":[0,1,2,3,4,5,6,7,8,9,10,11,12,13,14,15,16,17,18,19,20,21,22,23,24,25,26,27,28,29,30,31,32,33,34,35,36,37,38,39,40,41,42,43,44,45,46,47,48,49,50,51,52,53,54,55,56,57,58,59,60,61,62,63,64,65,66,67,68,69,70,71,72,73,74,75,76,77,78,79,80,81,82,83,84,85,86,87,88,89,90,91,92,93,94,95,96,97,98,99],\"y\":[1.7657644339687022,0.40152524610963597,-0.6490441381987168,-0.06690985466349718,-1.3836260446239395,-1.2828230670369736,1.641103044752528,0.02950549536361005,-2.1318721666960796,-1.0425706714763656,-0.6881285360861475,0.7129372647011848,-0.41299957821847816,0.764715578317224,1.6320799119277163,0.6648963455373257,1.502186292770685,0.5717155903686859,-0.08096115022213794,1.6688301430783008,1.099781650299211,0.8677669207363187,-0.049835760740421294,-0.7937881637743242,-1.6797130681383161,-0.8745572359960498,-0.09444092644838366,1.25026970101619,-2.0408326288783494,0.40818850602513895,0.9625915949894845,0.19149098777623977,-0.5412840448442139,-0.9668667448686264,0.5369895159344095,0.4583338589453875,-0.0073253076901911825,-0.1696692115072209,-0.19499724667941787,-0.9760650430864394,0.45399599089019094,-1.438388683371131,-0.030663865329517898,-1.5185179787148289,-0.27104235629081364,1.2370207940253466,0.17549520318780185,-0.422093343206613,0.8053032459521436,1.1307406125923145,-1.2661415921852701,0.6825205226610233,-0.6866233951233202,-1.7648581385983473,-1.1252794765269931,-1.4694753261250473,0.4183908398921806,-0.8084090371479645,0.8278362870211943,-0.38093806077119186,2.1232446144391943,-0.7157103234847048,1.153458938556494,-0.8796592512734447,0.644698021217474,0.5279713712717733,2.418904656614257,-1.7570416086898197,0.6994030201855514,-0.02822940865389242,0.23331442504654712,-0.7184573666523312,0.28763082108987026,0.9558194586851085,-1.1307744435339449,0.5961646009260254,0.29319217653563767,-1.1388899044232315,-0.7596053768042313,-0.4300073438081864,0.6244910560352827,0.8010163299977416,-0.8568211136062038,-0.7896100550557182,-0.9629249914457718,-0.43639411199462874,0.001555813000358842,-0.17681091563059353,-0.5321232495662198,0.9130347810077699,0.14999294028596566,0.28951203578929724,-0.19401209846592063,-1.2577957050234982,0.5077320337947091,-0.5621704955948704,-0.7793490945044861,-0.15103745501382332,0.2372061381731799,-2.670105086556007],\"type\":\"scatter\"}],                        {\"legend\":{\"bgcolor\":\"#F5F6F9\",\"font\":{\"color\":\"#4D5663\"}},\"paper_bgcolor\":\"#F5F6F9\",\"plot_bgcolor\":\"#F5F6F9\",\"template\":{\"data\":{\"barpolar\":[{\"marker\":{\"line\":{\"color\":\"#E5ECF6\",\"width\":0.5},\"pattern\":{\"fillmode\":\"overlay\",\"size\":10,\"solidity\":0.2}},\"type\":\"barpolar\"}],\"bar\":[{\"error_x\":{\"color\":\"#2a3f5f\"},\"error_y\":{\"color\":\"#2a3f5f\"},\"marker\":{\"line\":{\"color\":\"#E5ECF6\",\"width\":0.5},\"pattern\":{\"fillmode\":\"overlay\",\"size\":10,\"solidity\":0.2}},\"type\":\"bar\"}],\"carpet\":[{\"aaxis\":{\"endlinecolor\":\"#2a3f5f\",\"gridcolor\":\"white\",\"linecolor\":\"white\",\"minorgridcolor\":\"white\",\"startlinecolor\":\"#2a3f5f\"},\"baxis\":{\"endlinecolor\":\"#2a3f5f\",\"gridcolor\":\"white\",\"linecolor\":\"white\",\"minorgridcolor\":\"white\",\"startlinecolor\":\"#2a3f5f\"},\"type\":\"carpet\"}],\"choropleth\":[{\"colorbar\":{\"outlinewidth\":0,\"ticks\":\"\"},\"type\":\"choropleth\"}],\"contourcarpet\":[{\"colorbar\":{\"outlinewidth\":0,\"ticks\":\"\"},\"type\":\"contourcarpet\"}],\"contour\":[{\"colorbar\":{\"outlinewidth\":0,\"ticks\":\"\"},\"colorscale\":[[0.0,\"#0d0887\"],[0.1111111111111111,\"#46039f\"],[0.2222222222222222,\"#7201a8\"],[0.3333333333333333,\"#9c179e\"],[0.4444444444444444,\"#bd3786\"],[0.5555555555555556,\"#d8576b\"],[0.6666666666666666,\"#ed7953\"],[0.7777777777777778,\"#fb9f3a\"],[0.8888888888888888,\"#fdca26\"],[1.0,\"#f0f921\"]],\"type\":\"contour\"}],\"heatmapgl\":[{\"colorbar\":{\"outlinewidth\":0,\"ticks\":\"\"},\"colorscale\":[[0.0,\"#0d0887\"],[0.1111111111111111,\"#46039f\"],[0.2222222222222222,\"#7201a8\"],[0.3333333333333333,\"#9c179e\"],[0.4444444444444444,\"#bd3786\"],[0.5555555555555556,\"#d8576b\"],[0.6666666666666666,\"#ed7953\"],[0.7777777777777778,\"#fb9f3a\"],[0.8888888888888888,\"#fdca26\"],[1.0,\"#f0f921\"]],\"type\":\"heatmapgl\"}],\"heatmap\":[{\"colorbar\":{\"outlinewidth\":0,\"ticks\":\"\"},\"colorscale\":[[0.0,\"#0d0887\"],[0.1111111111111111,\"#46039f\"],[0.2222222222222222,\"#7201a8\"],[0.3333333333333333,\"#9c179e\"],[0.4444444444444444,\"#bd3786\"],[0.5555555555555556,\"#d8576b\"],[0.6666666666666666,\"#ed7953\"],[0.7777777777777778,\"#fb9f3a\"],[0.8888888888888888,\"#fdca26\"],[1.0,\"#f0f921\"]],\"type\":\"heatmap\"}],\"histogram2dcontour\":[{\"colorbar\":{\"outlinewidth\":0,\"ticks\":\"\"},\"colorscale\":[[0.0,\"#0d0887\"],[0.1111111111111111,\"#46039f\"],[0.2222222222222222,\"#7201a8\"],[0.3333333333333333,\"#9c179e\"],[0.4444444444444444,\"#bd3786\"],[0.5555555555555556,\"#d8576b\"],[0.6666666666666666,\"#ed7953\"],[0.7777777777777778,\"#fb9f3a\"],[0.8888888888888888,\"#fdca26\"],[1.0,\"#f0f921\"]],\"type\":\"histogram2dcontour\"}],\"histogram2d\":[{\"colorbar\":{\"outlinewidth\":0,\"ticks\":\"\"},\"colorscale\":[[0.0,\"#0d0887\"],[0.1111111111111111,\"#46039f\"],[0.2222222222222222,\"#7201a8\"],[0.3333333333333333,\"#9c179e\"],[0.4444444444444444,\"#bd3786\"],[0.5555555555555556,\"#d8576b\"],[0.6666666666666666,\"#ed7953\"],[0.7777777777777778,\"#fb9f3a\"],[0.8888888888888888,\"#fdca26\"],[1.0,\"#f0f921\"]],\"type\":\"histogram2d\"}],\"histogram\":[{\"marker\":{\"pattern\":{\"fillmode\":\"overlay\",\"size\":10,\"solidity\":0.2}},\"type\":\"histogram\"}],\"mesh3d\":[{\"colorbar\":{\"outlinewidth\":0,\"ticks\":\"\"},\"type\":\"mesh3d\"}],\"parcoords\":[{\"line\":{\"colorbar\":{\"outlinewidth\":0,\"ticks\":\"\"}},\"type\":\"parcoords\"}],\"pie\":[{\"automargin\":true,\"type\":\"pie\"}],\"scatter3d\":[{\"line\":{\"colorbar\":{\"outlinewidth\":0,\"ticks\":\"\"}},\"marker\":{\"colorbar\":{\"outlinewidth\":0,\"ticks\":\"\"}},\"type\":\"scatter3d\"}],\"scattercarpet\":[{\"marker\":{\"colorbar\":{\"outlinewidth\":0,\"ticks\":\"\"}},\"type\":\"scattercarpet\"}],\"scattergeo\":[{\"marker\":{\"colorbar\":{\"outlinewidth\":0,\"ticks\":\"\"}},\"type\":\"scattergeo\"}],\"scattergl\":[{\"marker\":{\"colorbar\":{\"outlinewidth\":0,\"ticks\":\"\"}},\"type\":\"scattergl\"}],\"scattermapbox\":[{\"marker\":{\"colorbar\":{\"outlinewidth\":0,\"ticks\":\"\"}},\"type\":\"scattermapbox\"}],\"scatterpolargl\":[{\"marker\":{\"colorbar\":{\"outlinewidth\":0,\"ticks\":\"\"}},\"type\":\"scatterpolargl\"}],\"scatterpolar\":[{\"marker\":{\"colorbar\":{\"outlinewidth\":0,\"ticks\":\"\"}},\"type\":\"scatterpolar\"}],\"scatter\":[{\"fillpattern\":{\"fillmode\":\"overlay\",\"size\":10,\"solidity\":0.2},\"type\":\"scatter\"}],\"scatterternary\":[{\"marker\":{\"colorbar\":{\"outlinewidth\":0,\"ticks\":\"\"}},\"type\":\"scatterternary\"}],\"surface\":[{\"colorbar\":{\"outlinewidth\":0,\"ticks\":\"\"},\"colorscale\":[[0.0,\"#0d0887\"],[0.1111111111111111,\"#46039f\"],[0.2222222222222222,\"#7201a8\"],[0.3333333333333333,\"#9c179e\"],[0.4444444444444444,\"#bd3786\"],[0.5555555555555556,\"#d8576b\"],[0.6666666666666666,\"#ed7953\"],[0.7777777777777778,\"#fb9f3a\"],[0.8888888888888888,\"#fdca26\"],[1.0,\"#f0f921\"]],\"type\":\"surface\"}],\"table\":[{\"cells\":{\"fill\":{\"color\":\"#EBF0F8\"},\"line\":{\"color\":\"white\"}},\"header\":{\"fill\":{\"color\":\"#C8D4E3\"},\"line\":{\"color\":\"white\"}},\"type\":\"table\"}]},\"layout\":{\"annotationdefaults\":{\"arrowcolor\":\"#2a3f5f\",\"arrowhead\":0,\"arrowwidth\":1},\"autotypenumbers\":\"strict\",\"coloraxis\":{\"colorbar\":{\"outlinewidth\":0,\"ticks\":\"\"}},\"colorscale\":{\"diverging\":[[0,\"#8e0152\"],[0.1,\"#c51b7d\"],[0.2,\"#de77ae\"],[0.3,\"#f1b6da\"],[0.4,\"#fde0ef\"],[0.5,\"#f7f7f7\"],[0.6,\"#e6f5d0\"],[0.7,\"#b8e186\"],[0.8,\"#7fbc41\"],[0.9,\"#4d9221\"],[1,\"#276419\"]],\"sequential\":[[0.0,\"#0d0887\"],[0.1111111111111111,\"#46039f\"],[0.2222222222222222,\"#7201a8\"],[0.3333333333333333,\"#9c179e\"],[0.4444444444444444,\"#bd3786\"],[0.5555555555555556,\"#d8576b\"],[0.6666666666666666,\"#ed7953\"],[0.7777777777777778,\"#fb9f3a\"],[0.8888888888888888,\"#fdca26\"],[1.0,\"#f0f921\"]],\"sequentialminus\":[[0.0,\"#0d0887\"],[0.1111111111111111,\"#46039f\"],[0.2222222222222222,\"#7201a8\"],[0.3333333333333333,\"#9c179e\"],[0.4444444444444444,\"#bd3786\"],[0.5555555555555556,\"#d8576b\"],[0.6666666666666666,\"#ed7953\"],[0.7777777777777778,\"#fb9f3a\"],[0.8888888888888888,\"#fdca26\"],[1.0,\"#f0f921\"]]},\"colorway\":[\"#636efa\",\"#EF553B\",\"#00cc96\",\"#ab63fa\",\"#FFA15A\",\"#19d3f3\",\"#FF6692\",\"#B6E880\",\"#FF97FF\",\"#FECB52\"],\"font\":{\"color\":\"#2a3f5f\"},\"geo\":{\"bgcolor\":\"white\",\"lakecolor\":\"white\",\"landcolor\":\"#E5ECF6\",\"showlakes\":true,\"showland\":true,\"subunitcolor\":\"white\"},\"hoverlabel\":{\"align\":\"left\"},\"hovermode\":\"closest\",\"mapbox\":{\"style\":\"light\"},\"paper_bgcolor\":\"white\",\"plot_bgcolor\":\"#E5ECF6\",\"polar\":{\"angularaxis\":{\"gridcolor\":\"white\",\"linecolor\":\"white\",\"ticks\":\"\"},\"bgcolor\":\"#E5ECF6\",\"radialaxis\":{\"gridcolor\":\"white\",\"linecolor\":\"white\",\"ticks\":\"\"}},\"scene\":{\"xaxis\":{\"backgroundcolor\":\"#E5ECF6\",\"gridcolor\":\"white\",\"gridwidth\":2,\"linecolor\":\"white\",\"showbackground\":true,\"ticks\":\"\",\"zerolinecolor\":\"white\"},\"yaxis\":{\"backgroundcolor\":\"#E5ECF6\",\"gridcolor\":\"white\",\"gridwidth\":2,\"linecolor\":\"white\",\"showbackground\":true,\"ticks\":\"\",\"zerolinecolor\":\"white\"},\"zaxis\":{\"backgroundcolor\":\"#E5ECF6\",\"gridcolor\":\"white\",\"gridwidth\":2,\"linecolor\":\"white\",\"showbackground\":true,\"ticks\":\"\",\"zerolinecolor\":\"white\"}},\"shapedefaults\":{\"line\":{\"color\":\"#2a3f5f\"}},\"ternary\":{\"aaxis\":{\"gridcolor\":\"white\",\"linecolor\":\"white\",\"ticks\":\"\"},\"baxis\":{\"gridcolor\":\"white\",\"linecolor\":\"white\",\"ticks\":\"\"},\"bgcolor\":\"#E5ECF6\",\"caxis\":{\"gridcolor\":\"white\",\"linecolor\":\"white\",\"ticks\":\"\"}},\"title\":{\"x\":0.05},\"xaxis\":{\"automargin\":true,\"gridcolor\":\"white\",\"linecolor\":\"white\",\"ticks\":\"\",\"title\":{\"standoff\":15},\"zerolinecolor\":\"white\",\"zerolinewidth\":2},\"yaxis\":{\"automargin\":true,\"gridcolor\":\"white\",\"linecolor\":\"white\",\"ticks\":\"\",\"title\":{\"standoff\":15},\"zerolinecolor\":\"white\",\"zerolinewidth\":2}}},\"title\":{\"font\":{\"color\":\"#4D5663\"}},\"xaxis\":{\"gridcolor\":\"#E1E5ED\",\"showgrid\":true,\"tickfont\":{\"color\":\"#4D5663\"},\"title\":{\"font\":{\"color\":\"#4D5663\"},\"text\":\"\"},\"zerolinecolor\":\"#E1E5ED\"},\"yaxis\":{\"gridcolor\":\"#E1E5ED\",\"showgrid\":true,\"tickfont\":{\"color\":\"#4D5663\"},\"title\":{\"font\":{\"color\":\"#4D5663\"},\"text\":\"\"},\"zerolinecolor\":\"#E1E5ED\"}},                        {\"showLink\": true, \"linkText\": \"Export to plot.ly\", \"plotlyServerURL\": \"https://plot.ly\", \"responsive\": true}                    ).then(function(){\n                            \nvar gd = document.getElementById('95bf43fe-1af9-48f8-8f83-0f6be85f6162');\nvar x = new MutationObserver(function (mutations, observer) {{\n        var display = window.getComputedStyle(gd).display;\n        if (!display || display === 'none') {{\n            console.log([gd, 'removed!']);\n            Plotly.purge(gd);\n            observer.disconnect();\n        }}\n}});\n\n// Listen for the removal of the full notebook cells\nvar notebookContainer = gd.closest('#notebook-container');\nif (notebookContainer) {{\n    x.observe(notebookContainer, {childList: true});\n}}\n\n// Listen for the clearing of the current output cell\nvar outputEl = gd.closest('.output');\nif (outputEl) {{\n    x.observe(outputEl, {childList: true});\n}}\n\n                        })                };                });            </script>        </div>"
     },
     "metadata": {},
     "output_type": "display_data"
    }
   ],
   "source": [
    "df[[\"A\", \"B\"]].iplot()\n"
   ],
   "metadata": {
    "collapsed": false,
    "pycharm": {
     "name": "#%%\n"
    }
   }
  },
  {
   "cell_type": "code",
   "execution_count": 37,
   "outputs": [
    {
     "data": {
      "application/vnd.plotly.v1+json": {
       "data": [
        {
         "line": {
          "color": "rgba(255, 153, 51, 1.0)",
          "dash": "solid",
          "shape": "linear",
          "width": 1.3
         },
         "marker": {
          "size": 5,
          "symbol": "circle"
         },
         "mode": "markers",
         "name": "B",
         "text": "",
         "x": [
          0.28294306242083767,
          0.7968335417349354,
          0.6029639109107471,
          -1.5650465702073828,
          1.304012469593769,
          -0.7189638548328962,
          -0.8342772051709019,
          0.22903038848035023,
          -0.5555919147143817,
          1.4140028785570107,
          0.94608625189099,
          0.9475932345276445,
          0.23210000912619144,
          -0.2017794680697094,
          -1.4990317076611852,
          -0.7842492198303922,
          -1.3121806301629386,
          -1.5962284515435832,
          0.2657376571207234,
          -0.7577841855650336,
          0.39706212625730386,
          0.6073528236931202,
          0.5706027636271244,
          0.18683438249342266,
          -0.7940508543522877,
          -0.6444701200418613,
          -0.2110685265220033,
          -0.21394613693218092,
          0.4534506074097498,
          2.438321983713647,
          -1.2396923531952755,
          -1.0338891895089748,
          -1.8686878644477178,
          1.4426106451051863,
          1.3829077973469637,
          -0.9318189639747426,
          -1.351996586738685,
          1.5595608061328485,
          -0.04392079133593794,
          -0.3249146952228359,
          -0.3561904783582894,
          -0.23101513575681648,
          0.08360620220848271,
          -0.2775960238257498,
          0.1827848967298999,
          0.526474067214003,
          2.8941246385052737,
          0.3513291582553594,
          1.4747419625145186,
          0.8114972050269655,
          0.3904436172676149,
          0.5863844172483037,
          0.132548984097949,
          -0.008685401418308297,
          1.5120385158724081,
          -0.30670267379703225,
          -1.4923253483617496,
          0.4802337079853066,
          -0.16507077011425983,
          -2.0560055890795237,
          0.10582411220975962,
          2.060496097844001,
          0.8634647915354526,
          -0.3039246066953029,
          0.1229316646230268,
          -0.038431626183908746,
          -1.5625482329206086,
          0.8026387183329571,
          -1.0443326064301137,
          -1.7441282157838378,
          0.4085613297272926,
          1.1314362749851863,
          -0.9655028773082579,
          0.6140978821152564,
          -0.6593952533441673,
          -0.34343935659321273,
          0.4034289175552191,
          1.104816451182827,
          0.3878510482013112,
          -0.743700172880391,
          -0.42968150080935014,
          -0.9391664628727731,
          -0.5884295473521228,
          -0.7177875423794414,
          2.1228794383459997,
          -0.4975295949320428,
          1.5496946784360939,
          -0.1603496989445274,
          -1.567367392800217,
          -0.1371889550701248,
          1.1782392321059363,
          -0.22356969222959078,
          -0.5950862468932329,
          0.7425841600024924,
          0.12691537384773105,
          -2.0104992712368546,
          0.9657266887418268,
          0.43111491937499125,
          -1.1636538720055476,
          5.153381097441173E-4
         ],
         "y": [
          1.7657644339687022,
          0.40152524610963597,
          -0.6490441381987168,
          -0.06690985466349718,
          -1.3836260446239395,
          -1.2828230670369736,
          1.641103044752528,
          0.02950549536361005,
          -2.1318721666960796,
          -1.0425706714763656,
          -0.6881285360861475,
          0.7129372647011848,
          -0.41299957821847816,
          0.764715578317224,
          1.6320799119277163,
          0.6648963455373257,
          1.502186292770685,
          0.5717155903686859,
          -0.08096115022213794,
          1.6688301430783008,
          1.099781650299211,
          0.8677669207363187,
          -0.049835760740421294,
          -0.7937881637743242,
          -1.6797130681383161,
          -0.8745572359960498,
          -0.09444092644838366,
          1.25026970101619,
          -2.0408326288783494,
          0.40818850602513895,
          0.9625915949894845,
          0.19149098777623977,
          -0.5412840448442139,
          -0.9668667448686264,
          0.5369895159344095,
          0.4583338589453875,
          -0.0073253076901911825,
          -0.1696692115072209,
          -0.19499724667941787,
          -0.9760650430864394,
          0.45399599089019094,
          -1.438388683371131,
          -0.030663865329517898,
          -1.5185179787148289,
          -0.27104235629081364,
          1.2370207940253466,
          0.17549520318780185,
          -0.422093343206613,
          0.8053032459521436,
          1.1307406125923145,
          -1.2661415921852701,
          0.6825205226610233,
          -0.6866233951233202,
          -1.7648581385983473,
          -1.1252794765269931,
          -1.4694753261250473,
          0.4183908398921806,
          -0.8084090371479645,
          0.8278362870211943,
          -0.38093806077119186,
          2.1232446144391943,
          -0.7157103234847048,
          1.153458938556494,
          -0.8796592512734447,
          0.644698021217474,
          0.5279713712717733,
          2.418904656614257,
          -1.7570416086898197,
          0.6994030201855514,
          -0.02822940865389242,
          0.23331442504654712,
          -0.7184573666523312,
          0.28763082108987026,
          0.9558194586851085,
          -1.1307744435339449,
          0.5961646009260254,
          0.29319217653563767,
          -1.1388899044232315,
          -0.7596053768042313,
          -0.4300073438081864,
          0.6244910560352827,
          0.8010163299977416,
          -0.8568211136062038,
          -0.7896100550557182,
          -0.9629249914457718,
          -0.43639411199462874,
          0.001555813000358842,
          -0.17681091563059353,
          -0.5321232495662198,
          0.9130347810077699,
          0.14999294028596566,
          0.28951203578929724,
          -0.19401209846592063,
          -1.2577957050234982,
          0.5077320337947091,
          -0.5621704955948704,
          -0.7793490945044861,
          -0.15103745501382332,
          0.2372061381731799,
          -2.670105086556007
         ],
         "type": "scatter"
        }
       ],
       "layout": {
        "legend": {
         "bgcolor": "#F5F6F9",
         "font": {
          "color": "#4D5663"
         }
        },
        "paper_bgcolor": "#F5F6F9",
        "plot_bgcolor": "#F5F6F9",
        "template": {
         "data": {
          "barpolar": [
           {
            "marker": {
             "line": {
              "color": "#E5ECF6",
              "width": 0.5
             },
             "pattern": {
              "fillmode": "overlay",
              "size": 10,
              "solidity": 0.2
             }
            },
            "type": "barpolar"
           }
          ],
          "bar": [
           {
            "error_x": {
             "color": "#2a3f5f"
            },
            "error_y": {
             "color": "#2a3f5f"
            },
            "marker": {
             "line": {
              "color": "#E5ECF6",
              "width": 0.5
             },
             "pattern": {
              "fillmode": "overlay",
              "size": 10,
              "solidity": 0.2
             }
            },
            "type": "bar"
           }
          ],
          "carpet": [
           {
            "aaxis": {
             "endlinecolor": "#2a3f5f",
             "gridcolor": "white",
             "linecolor": "white",
             "minorgridcolor": "white",
             "startlinecolor": "#2a3f5f"
            },
            "baxis": {
             "endlinecolor": "#2a3f5f",
             "gridcolor": "white",
             "linecolor": "white",
             "minorgridcolor": "white",
             "startlinecolor": "#2a3f5f"
            },
            "type": "carpet"
           }
          ],
          "choropleth": [
           {
            "colorbar": {
             "outlinewidth": 0,
             "ticks": ""
            },
            "type": "choropleth"
           }
          ],
          "contourcarpet": [
           {
            "colorbar": {
             "outlinewidth": 0,
             "ticks": ""
            },
            "type": "contourcarpet"
           }
          ],
          "contour": [
           {
            "colorbar": {
             "outlinewidth": 0,
             "ticks": ""
            },
            "colorscale": [
             [
              0.0,
              "#0d0887"
             ],
             [
              0.1111111111111111,
              "#46039f"
             ],
             [
              0.2222222222222222,
              "#7201a8"
             ],
             [
              0.3333333333333333,
              "#9c179e"
             ],
             [
              0.4444444444444444,
              "#bd3786"
             ],
             [
              0.5555555555555556,
              "#d8576b"
             ],
             [
              0.6666666666666666,
              "#ed7953"
             ],
             [
              0.7777777777777778,
              "#fb9f3a"
             ],
             [
              0.8888888888888888,
              "#fdca26"
             ],
             [
              1.0,
              "#f0f921"
             ]
            ],
            "type": "contour"
           }
          ],
          "heatmapgl": [
           {
            "colorbar": {
             "outlinewidth": 0,
             "ticks": ""
            },
            "colorscale": [
             [
              0.0,
              "#0d0887"
             ],
             [
              0.1111111111111111,
              "#46039f"
             ],
             [
              0.2222222222222222,
              "#7201a8"
             ],
             [
              0.3333333333333333,
              "#9c179e"
             ],
             [
              0.4444444444444444,
              "#bd3786"
             ],
             [
              0.5555555555555556,
              "#d8576b"
             ],
             [
              0.6666666666666666,
              "#ed7953"
             ],
             [
              0.7777777777777778,
              "#fb9f3a"
             ],
             [
              0.8888888888888888,
              "#fdca26"
             ],
             [
              1.0,
              "#f0f921"
             ]
            ],
            "type": "heatmapgl"
           }
          ],
          "heatmap": [
           {
            "colorbar": {
             "outlinewidth": 0,
             "ticks": ""
            },
            "colorscale": [
             [
              0.0,
              "#0d0887"
             ],
             [
              0.1111111111111111,
              "#46039f"
             ],
             [
              0.2222222222222222,
              "#7201a8"
             ],
             [
              0.3333333333333333,
              "#9c179e"
             ],
             [
              0.4444444444444444,
              "#bd3786"
             ],
             [
              0.5555555555555556,
              "#d8576b"
             ],
             [
              0.6666666666666666,
              "#ed7953"
             ],
             [
              0.7777777777777778,
              "#fb9f3a"
             ],
             [
              0.8888888888888888,
              "#fdca26"
             ],
             [
              1.0,
              "#f0f921"
             ]
            ],
            "type": "heatmap"
           }
          ],
          "histogram2dcontour": [
           {
            "colorbar": {
             "outlinewidth": 0,
             "ticks": ""
            },
            "colorscale": [
             [
              0.0,
              "#0d0887"
             ],
             [
              0.1111111111111111,
              "#46039f"
             ],
             [
              0.2222222222222222,
              "#7201a8"
             ],
             [
              0.3333333333333333,
              "#9c179e"
             ],
             [
              0.4444444444444444,
              "#bd3786"
             ],
             [
              0.5555555555555556,
              "#d8576b"
             ],
             [
              0.6666666666666666,
              "#ed7953"
             ],
             [
              0.7777777777777778,
              "#fb9f3a"
             ],
             [
              0.8888888888888888,
              "#fdca26"
             ],
             [
              1.0,
              "#f0f921"
             ]
            ],
            "type": "histogram2dcontour"
           }
          ],
          "histogram2d": [
           {
            "colorbar": {
             "outlinewidth": 0,
             "ticks": ""
            },
            "colorscale": [
             [
              0.0,
              "#0d0887"
             ],
             [
              0.1111111111111111,
              "#46039f"
             ],
             [
              0.2222222222222222,
              "#7201a8"
             ],
             [
              0.3333333333333333,
              "#9c179e"
             ],
             [
              0.4444444444444444,
              "#bd3786"
             ],
             [
              0.5555555555555556,
              "#d8576b"
             ],
             [
              0.6666666666666666,
              "#ed7953"
             ],
             [
              0.7777777777777778,
              "#fb9f3a"
             ],
             [
              0.8888888888888888,
              "#fdca26"
             ],
             [
              1.0,
              "#f0f921"
             ]
            ],
            "type": "histogram2d"
           }
          ],
          "histogram": [
           {
            "marker": {
             "pattern": {
              "fillmode": "overlay",
              "size": 10,
              "solidity": 0.2
             }
            },
            "type": "histogram"
           }
          ],
          "mesh3d": [
           {
            "colorbar": {
             "outlinewidth": 0,
             "ticks": ""
            },
            "type": "mesh3d"
           }
          ],
          "parcoords": [
           {
            "line": {
             "colorbar": {
              "outlinewidth": 0,
              "ticks": ""
             }
            },
            "type": "parcoords"
           }
          ],
          "pie": [
           {
            "automargin": true,
            "type": "pie"
           }
          ],
          "scatter3d": [
           {
            "line": {
             "colorbar": {
              "outlinewidth": 0,
              "ticks": ""
             }
            },
            "marker": {
             "colorbar": {
              "outlinewidth": 0,
              "ticks": ""
             }
            },
            "type": "scatter3d"
           }
          ],
          "scattercarpet": [
           {
            "marker": {
             "colorbar": {
              "outlinewidth": 0,
              "ticks": ""
             }
            },
            "type": "scattercarpet"
           }
          ],
          "scattergeo": [
           {
            "marker": {
             "colorbar": {
              "outlinewidth": 0,
              "ticks": ""
             }
            },
            "type": "scattergeo"
           }
          ],
          "scattergl": [
           {
            "marker": {
             "colorbar": {
              "outlinewidth": 0,
              "ticks": ""
             }
            },
            "type": "scattergl"
           }
          ],
          "scattermapbox": [
           {
            "marker": {
             "colorbar": {
              "outlinewidth": 0,
              "ticks": ""
             }
            },
            "type": "scattermapbox"
           }
          ],
          "scatterpolargl": [
           {
            "marker": {
             "colorbar": {
              "outlinewidth": 0,
              "ticks": ""
             }
            },
            "type": "scatterpolargl"
           }
          ],
          "scatterpolar": [
           {
            "marker": {
             "colorbar": {
              "outlinewidth": 0,
              "ticks": ""
             }
            },
            "type": "scatterpolar"
           }
          ],
          "scatter": [
           {
            "fillpattern": {
             "fillmode": "overlay",
             "size": 10,
             "solidity": 0.2
            },
            "type": "scatter"
           }
          ],
          "scatterternary": [
           {
            "marker": {
             "colorbar": {
              "outlinewidth": 0,
              "ticks": ""
             }
            },
            "type": "scatterternary"
           }
          ],
          "surface": [
           {
            "colorbar": {
             "outlinewidth": 0,
             "ticks": ""
            },
            "colorscale": [
             [
              0.0,
              "#0d0887"
             ],
             [
              0.1111111111111111,
              "#46039f"
             ],
             [
              0.2222222222222222,
              "#7201a8"
             ],
             [
              0.3333333333333333,
              "#9c179e"
             ],
             [
              0.4444444444444444,
              "#bd3786"
             ],
             [
              0.5555555555555556,
              "#d8576b"
             ],
             [
              0.6666666666666666,
              "#ed7953"
             ],
             [
              0.7777777777777778,
              "#fb9f3a"
             ],
             [
              0.8888888888888888,
              "#fdca26"
             ],
             [
              1.0,
              "#f0f921"
             ]
            ],
            "type": "surface"
           }
          ],
          "table": [
           {
            "cells": {
             "fill": {
              "color": "#EBF0F8"
             },
             "line": {
              "color": "white"
             }
            },
            "header": {
             "fill": {
              "color": "#C8D4E3"
             },
             "line": {
              "color": "white"
             }
            },
            "type": "table"
           }
          ]
         },
         "layout": {
          "annotationdefaults": {
           "arrowcolor": "#2a3f5f",
           "arrowhead": 0,
           "arrowwidth": 1
          },
          "autotypenumbers": "strict",
          "coloraxis": {
           "colorbar": {
            "outlinewidth": 0,
            "ticks": ""
           }
          },
          "colorscale": {
           "diverging": [
            [
             0,
             "#8e0152"
            ],
            [
             0.1,
             "#c51b7d"
            ],
            [
             0.2,
             "#de77ae"
            ],
            [
             0.3,
             "#f1b6da"
            ],
            [
             0.4,
             "#fde0ef"
            ],
            [
             0.5,
             "#f7f7f7"
            ],
            [
             0.6,
             "#e6f5d0"
            ],
            [
             0.7,
             "#b8e186"
            ],
            [
             0.8,
             "#7fbc41"
            ],
            [
             0.9,
             "#4d9221"
            ],
            [
             1,
             "#276419"
            ]
           ],
           "sequential": [
            [
             0.0,
             "#0d0887"
            ],
            [
             0.1111111111111111,
             "#46039f"
            ],
            [
             0.2222222222222222,
             "#7201a8"
            ],
            [
             0.3333333333333333,
             "#9c179e"
            ],
            [
             0.4444444444444444,
             "#bd3786"
            ],
            [
             0.5555555555555556,
             "#d8576b"
            ],
            [
             0.6666666666666666,
             "#ed7953"
            ],
            [
             0.7777777777777778,
             "#fb9f3a"
            ],
            [
             0.8888888888888888,
             "#fdca26"
            ],
            [
             1.0,
             "#f0f921"
            ]
           ],
           "sequentialminus": [
            [
             0.0,
             "#0d0887"
            ],
            [
             0.1111111111111111,
             "#46039f"
            ],
            [
             0.2222222222222222,
             "#7201a8"
            ],
            [
             0.3333333333333333,
             "#9c179e"
            ],
            [
             0.4444444444444444,
             "#bd3786"
            ],
            [
             0.5555555555555556,
             "#d8576b"
            ],
            [
             0.6666666666666666,
             "#ed7953"
            ],
            [
             0.7777777777777778,
             "#fb9f3a"
            ],
            [
             0.8888888888888888,
             "#fdca26"
            ],
            [
             1.0,
             "#f0f921"
            ]
           ]
          },
          "colorway": [
           "#636efa",
           "#EF553B",
           "#00cc96",
           "#ab63fa",
           "#FFA15A",
           "#19d3f3",
           "#FF6692",
           "#B6E880",
           "#FF97FF",
           "#FECB52"
          ],
          "font": {
           "color": "#2a3f5f"
          },
          "geo": {
           "bgcolor": "white",
           "lakecolor": "white",
           "landcolor": "#E5ECF6",
           "showlakes": true,
           "showland": true,
           "subunitcolor": "white"
          },
          "hoverlabel": {
           "align": "left"
          },
          "hovermode": "closest",
          "mapbox": {
           "style": "light"
          },
          "paper_bgcolor": "white",
          "plot_bgcolor": "#E5ECF6",
          "polar": {
           "angularaxis": {
            "gridcolor": "white",
            "linecolor": "white",
            "ticks": ""
           },
           "bgcolor": "#E5ECF6",
           "radialaxis": {
            "gridcolor": "white",
            "linecolor": "white",
            "ticks": ""
           }
          },
          "scene": {
           "xaxis": {
            "backgroundcolor": "#E5ECF6",
            "gridcolor": "white",
            "gridwidth": 2,
            "linecolor": "white",
            "showbackground": true,
            "ticks": "",
            "zerolinecolor": "white"
           },
           "yaxis": {
            "backgroundcolor": "#E5ECF6",
            "gridcolor": "white",
            "gridwidth": 2,
            "linecolor": "white",
            "showbackground": true,
            "ticks": "",
            "zerolinecolor": "white"
           },
           "zaxis": {
            "backgroundcolor": "#E5ECF6",
            "gridcolor": "white",
            "gridwidth": 2,
            "linecolor": "white",
            "showbackground": true,
            "ticks": "",
            "zerolinecolor": "white"
           }
          },
          "shapedefaults": {
           "line": {
            "color": "#2a3f5f"
           }
          },
          "ternary": {
           "aaxis": {
            "gridcolor": "white",
            "linecolor": "white",
            "ticks": ""
           },
           "baxis": {
            "gridcolor": "white",
            "linecolor": "white",
            "ticks": ""
           },
           "bgcolor": "#E5ECF6",
           "caxis": {
            "gridcolor": "white",
            "linecolor": "white",
            "ticks": ""
           }
          },
          "title": {
           "x": 0.05
          },
          "xaxis": {
           "automargin": true,
           "gridcolor": "white",
           "linecolor": "white",
           "ticks": "",
           "title": {
            "standoff": 15
           },
           "zerolinecolor": "white",
           "zerolinewidth": 2
          },
          "yaxis": {
           "automargin": true,
           "gridcolor": "white",
           "linecolor": "white",
           "ticks": "",
           "title": {
            "standoff": 15
           },
           "zerolinecolor": "white",
           "zerolinewidth": 2
          }
         }
        },
        "title": {
         "font": {
          "color": "#4D5663"
         }
        },
        "xaxis": {
         "gridcolor": "#E1E5ED",
         "showgrid": true,
         "tickfont": {
          "color": "#4D5663"
         },
         "title": {
          "font": {
           "color": "#4D5663"
          },
          "text": ""
         },
         "zerolinecolor": "#E1E5ED"
        },
        "yaxis": {
         "gridcolor": "#E1E5ED",
         "showgrid": true,
         "tickfont": {
          "color": "#4D5663"
         },
         "title": {
          "font": {
           "color": "#4D5663"
          },
          "text": ""
         },
         "zerolinecolor": "#E1E5ED"
        }
       },
       "config": {
        "showLink": true,
        "linkText": "Export to plot.ly",
        "plotlyServerURL": "https://plot.ly"
       }
      },
      "text/html": "<div>                            <div id=\"479d314e-df92-4481-83d0-6174918f41ae\" class=\"plotly-graph-div\" style=\"height:525px; width:100%;\"></div>            <script type=\"text/javascript\">                require([\"plotly\"], function(Plotly) {                    window.PLOTLYENV=window.PLOTLYENV || {};\n                    window.PLOTLYENV.BASE_URL='https://plot.ly';                                    if (document.getElementById(\"479d314e-df92-4481-83d0-6174918f41ae\")) {                    Plotly.newPlot(                        \"479d314e-df92-4481-83d0-6174918f41ae\",                        [{\"line\":{\"color\":\"rgba(255, 153, 51, 1.0)\",\"dash\":\"solid\",\"shape\":\"linear\",\"width\":1.3},\"marker\":{\"size\":5,\"symbol\":\"circle\"},\"mode\":\"markers\",\"name\":\"B\",\"text\":\"\",\"x\":[0.28294306242083767,0.7968335417349354,0.6029639109107471,-1.5650465702073828,1.304012469593769,-0.7189638548328962,-0.8342772051709019,0.22903038848035023,-0.5555919147143817,1.4140028785570107,0.94608625189099,0.9475932345276445,0.23210000912619144,-0.2017794680697094,-1.4990317076611852,-0.7842492198303922,-1.3121806301629386,-1.5962284515435832,0.2657376571207234,-0.7577841855650336,0.39706212625730386,0.6073528236931202,0.5706027636271244,0.18683438249342266,-0.7940508543522877,-0.6444701200418613,-0.2110685265220033,-0.21394613693218092,0.4534506074097498,2.438321983713647,-1.2396923531952755,-1.0338891895089748,-1.8686878644477178,1.4426106451051863,1.3829077973469637,-0.9318189639747426,-1.351996586738685,1.5595608061328485,-0.04392079133593794,-0.3249146952228359,-0.3561904783582894,-0.23101513575681648,0.08360620220848271,-0.2775960238257498,0.1827848967298999,0.526474067214003,2.8941246385052737,0.3513291582553594,1.4747419625145186,0.8114972050269655,0.3904436172676149,0.5863844172483037,0.132548984097949,-0.008685401418308297,1.5120385158724081,-0.30670267379703225,-1.4923253483617496,0.4802337079853066,-0.16507077011425983,-2.0560055890795237,0.10582411220975962,2.060496097844001,0.8634647915354526,-0.3039246066953029,0.1229316646230268,-0.038431626183908746,-1.5625482329206086,0.8026387183329571,-1.0443326064301137,-1.7441282157838378,0.4085613297272926,1.1314362749851863,-0.9655028773082579,0.6140978821152564,-0.6593952533441673,-0.34343935659321273,0.4034289175552191,1.104816451182827,0.3878510482013112,-0.743700172880391,-0.42968150080935014,-0.9391664628727731,-0.5884295473521228,-0.7177875423794414,2.1228794383459997,-0.4975295949320428,1.5496946784360939,-0.1603496989445274,-1.567367392800217,-0.1371889550701248,1.1782392321059363,-0.22356969222959078,-0.5950862468932329,0.7425841600024924,0.12691537384773105,-2.0104992712368546,0.9657266887418268,0.43111491937499125,-1.1636538720055476,0.0005153381097441173],\"y\":[1.7657644339687022,0.40152524610963597,-0.6490441381987168,-0.06690985466349718,-1.3836260446239395,-1.2828230670369736,1.641103044752528,0.02950549536361005,-2.1318721666960796,-1.0425706714763656,-0.6881285360861475,0.7129372647011848,-0.41299957821847816,0.764715578317224,1.6320799119277163,0.6648963455373257,1.502186292770685,0.5717155903686859,-0.08096115022213794,1.6688301430783008,1.099781650299211,0.8677669207363187,-0.049835760740421294,-0.7937881637743242,-1.6797130681383161,-0.8745572359960498,-0.09444092644838366,1.25026970101619,-2.0408326288783494,0.40818850602513895,0.9625915949894845,0.19149098777623977,-0.5412840448442139,-0.9668667448686264,0.5369895159344095,0.4583338589453875,-0.0073253076901911825,-0.1696692115072209,-0.19499724667941787,-0.9760650430864394,0.45399599089019094,-1.438388683371131,-0.030663865329517898,-1.5185179787148289,-0.27104235629081364,1.2370207940253466,0.17549520318780185,-0.422093343206613,0.8053032459521436,1.1307406125923145,-1.2661415921852701,0.6825205226610233,-0.6866233951233202,-1.7648581385983473,-1.1252794765269931,-1.4694753261250473,0.4183908398921806,-0.8084090371479645,0.8278362870211943,-0.38093806077119186,2.1232446144391943,-0.7157103234847048,1.153458938556494,-0.8796592512734447,0.644698021217474,0.5279713712717733,2.418904656614257,-1.7570416086898197,0.6994030201855514,-0.02822940865389242,0.23331442504654712,-0.7184573666523312,0.28763082108987026,0.9558194586851085,-1.1307744435339449,0.5961646009260254,0.29319217653563767,-1.1388899044232315,-0.7596053768042313,-0.4300073438081864,0.6244910560352827,0.8010163299977416,-0.8568211136062038,-0.7896100550557182,-0.9629249914457718,-0.43639411199462874,0.001555813000358842,-0.17681091563059353,-0.5321232495662198,0.9130347810077699,0.14999294028596566,0.28951203578929724,-0.19401209846592063,-1.2577957050234982,0.5077320337947091,-0.5621704955948704,-0.7793490945044861,-0.15103745501382332,0.2372061381731799,-2.670105086556007],\"type\":\"scatter\"}],                        {\"legend\":{\"bgcolor\":\"#F5F6F9\",\"font\":{\"color\":\"#4D5663\"}},\"paper_bgcolor\":\"#F5F6F9\",\"plot_bgcolor\":\"#F5F6F9\",\"template\":{\"data\":{\"barpolar\":[{\"marker\":{\"line\":{\"color\":\"#E5ECF6\",\"width\":0.5},\"pattern\":{\"fillmode\":\"overlay\",\"size\":10,\"solidity\":0.2}},\"type\":\"barpolar\"}],\"bar\":[{\"error_x\":{\"color\":\"#2a3f5f\"},\"error_y\":{\"color\":\"#2a3f5f\"},\"marker\":{\"line\":{\"color\":\"#E5ECF6\",\"width\":0.5},\"pattern\":{\"fillmode\":\"overlay\",\"size\":10,\"solidity\":0.2}},\"type\":\"bar\"}],\"carpet\":[{\"aaxis\":{\"endlinecolor\":\"#2a3f5f\",\"gridcolor\":\"white\",\"linecolor\":\"white\",\"minorgridcolor\":\"white\",\"startlinecolor\":\"#2a3f5f\"},\"baxis\":{\"endlinecolor\":\"#2a3f5f\",\"gridcolor\":\"white\",\"linecolor\":\"white\",\"minorgridcolor\":\"white\",\"startlinecolor\":\"#2a3f5f\"},\"type\":\"carpet\"}],\"choropleth\":[{\"colorbar\":{\"outlinewidth\":0,\"ticks\":\"\"},\"type\":\"choropleth\"}],\"contourcarpet\":[{\"colorbar\":{\"outlinewidth\":0,\"ticks\":\"\"},\"type\":\"contourcarpet\"}],\"contour\":[{\"colorbar\":{\"outlinewidth\":0,\"ticks\":\"\"},\"colorscale\":[[0.0,\"#0d0887\"],[0.1111111111111111,\"#46039f\"],[0.2222222222222222,\"#7201a8\"],[0.3333333333333333,\"#9c179e\"],[0.4444444444444444,\"#bd3786\"],[0.5555555555555556,\"#d8576b\"],[0.6666666666666666,\"#ed7953\"],[0.7777777777777778,\"#fb9f3a\"],[0.8888888888888888,\"#fdca26\"],[1.0,\"#f0f921\"]],\"type\":\"contour\"}],\"heatmapgl\":[{\"colorbar\":{\"outlinewidth\":0,\"ticks\":\"\"},\"colorscale\":[[0.0,\"#0d0887\"],[0.1111111111111111,\"#46039f\"],[0.2222222222222222,\"#7201a8\"],[0.3333333333333333,\"#9c179e\"],[0.4444444444444444,\"#bd3786\"],[0.5555555555555556,\"#d8576b\"],[0.6666666666666666,\"#ed7953\"],[0.7777777777777778,\"#fb9f3a\"],[0.8888888888888888,\"#fdca26\"],[1.0,\"#f0f921\"]],\"type\":\"heatmapgl\"}],\"heatmap\":[{\"colorbar\":{\"outlinewidth\":0,\"ticks\":\"\"},\"colorscale\":[[0.0,\"#0d0887\"],[0.1111111111111111,\"#46039f\"],[0.2222222222222222,\"#7201a8\"],[0.3333333333333333,\"#9c179e\"],[0.4444444444444444,\"#bd3786\"],[0.5555555555555556,\"#d8576b\"],[0.6666666666666666,\"#ed7953\"],[0.7777777777777778,\"#fb9f3a\"],[0.8888888888888888,\"#fdca26\"],[1.0,\"#f0f921\"]],\"type\":\"heatmap\"}],\"histogram2dcontour\":[{\"colorbar\":{\"outlinewidth\":0,\"ticks\":\"\"},\"colorscale\":[[0.0,\"#0d0887\"],[0.1111111111111111,\"#46039f\"],[0.2222222222222222,\"#7201a8\"],[0.3333333333333333,\"#9c179e\"],[0.4444444444444444,\"#bd3786\"],[0.5555555555555556,\"#d8576b\"],[0.6666666666666666,\"#ed7953\"],[0.7777777777777778,\"#fb9f3a\"],[0.8888888888888888,\"#fdca26\"],[1.0,\"#f0f921\"]],\"type\":\"histogram2dcontour\"}],\"histogram2d\":[{\"colorbar\":{\"outlinewidth\":0,\"ticks\":\"\"},\"colorscale\":[[0.0,\"#0d0887\"],[0.1111111111111111,\"#46039f\"],[0.2222222222222222,\"#7201a8\"],[0.3333333333333333,\"#9c179e\"],[0.4444444444444444,\"#bd3786\"],[0.5555555555555556,\"#d8576b\"],[0.6666666666666666,\"#ed7953\"],[0.7777777777777778,\"#fb9f3a\"],[0.8888888888888888,\"#fdca26\"],[1.0,\"#f0f921\"]],\"type\":\"histogram2d\"}],\"histogram\":[{\"marker\":{\"pattern\":{\"fillmode\":\"overlay\",\"size\":10,\"solidity\":0.2}},\"type\":\"histogram\"}],\"mesh3d\":[{\"colorbar\":{\"outlinewidth\":0,\"ticks\":\"\"},\"type\":\"mesh3d\"}],\"parcoords\":[{\"line\":{\"colorbar\":{\"outlinewidth\":0,\"ticks\":\"\"}},\"type\":\"parcoords\"}],\"pie\":[{\"automargin\":true,\"type\":\"pie\"}],\"scatter3d\":[{\"line\":{\"colorbar\":{\"outlinewidth\":0,\"ticks\":\"\"}},\"marker\":{\"colorbar\":{\"outlinewidth\":0,\"ticks\":\"\"}},\"type\":\"scatter3d\"}],\"scattercarpet\":[{\"marker\":{\"colorbar\":{\"outlinewidth\":0,\"ticks\":\"\"}},\"type\":\"scattercarpet\"}],\"scattergeo\":[{\"marker\":{\"colorbar\":{\"outlinewidth\":0,\"ticks\":\"\"}},\"type\":\"scattergeo\"}],\"scattergl\":[{\"marker\":{\"colorbar\":{\"outlinewidth\":0,\"ticks\":\"\"}},\"type\":\"scattergl\"}],\"scattermapbox\":[{\"marker\":{\"colorbar\":{\"outlinewidth\":0,\"ticks\":\"\"}},\"type\":\"scattermapbox\"}],\"scatterpolargl\":[{\"marker\":{\"colorbar\":{\"outlinewidth\":0,\"ticks\":\"\"}},\"type\":\"scatterpolargl\"}],\"scatterpolar\":[{\"marker\":{\"colorbar\":{\"outlinewidth\":0,\"ticks\":\"\"}},\"type\":\"scatterpolar\"}],\"scatter\":[{\"fillpattern\":{\"fillmode\":\"overlay\",\"size\":10,\"solidity\":0.2},\"type\":\"scatter\"}],\"scatterternary\":[{\"marker\":{\"colorbar\":{\"outlinewidth\":0,\"ticks\":\"\"}},\"type\":\"scatterternary\"}],\"surface\":[{\"colorbar\":{\"outlinewidth\":0,\"ticks\":\"\"},\"colorscale\":[[0.0,\"#0d0887\"],[0.1111111111111111,\"#46039f\"],[0.2222222222222222,\"#7201a8\"],[0.3333333333333333,\"#9c179e\"],[0.4444444444444444,\"#bd3786\"],[0.5555555555555556,\"#d8576b\"],[0.6666666666666666,\"#ed7953\"],[0.7777777777777778,\"#fb9f3a\"],[0.8888888888888888,\"#fdca26\"],[1.0,\"#f0f921\"]],\"type\":\"surface\"}],\"table\":[{\"cells\":{\"fill\":{\"color\":\"#EBF0F8\"},\"line\":{\"color\":\"white\"}},\"header\":{\"fill\":{\"color\":\"#C8D4E3\"},\"line\":{\"color\":\"white\"}},\"type\":\"table\"}]},\"layout\":{\"annotationdefaults\":{\"arrowcolor\":\"#2a3f5f\",\"arrowhead\":0,\"arrowwidth\":1},\"autotypenumbers\":\"strict\",\"coloraxis\":{\"colorbar\":{\"outlinewidth\":0,\"ticks\":\"\"}},\"colorscale\":{\"diverging\":[[0,\"#8e0152\"],[0.1,\"#c51b7d\"],[0.2,\"#de77ae\"],[0.3,\"#f1b6da\"],[0.4,\"#fde0ef\"],[0.5,\"#f7f7f7\"],[0.6,\"#e6f5d0\"],[0.7,\"#b8e186\"],[0.8,\"#7fbc41\"],[0.9,\"#4d9221\"],[1,\"#276419\"]],\"sequential\":[[0.0,\"#0d0887\"],[0.1111111111111111,\"#46039f\"],[0.2222222222222222,\"#7201a8\"],[0.3333333333333333,\"#9c179e\"],[0.4444444444444444,\"#bd3786\"],[0.5555555555555556,\"#d8576b\"],[0.6666666666666666,\"#ed7953\"],[0.7777777777777778,\"#fb9f3a\"],[0.8888888888888888,\"#fdca26\"],[1.0,\"#f0f921\"]],\"sequentialminus\":[[0.0,\"#0d0887\"],[0.1111111111111111,\"#46039f\"],[0.2222222222222222,\"#7201a8\"],[0.3333333333333333,\"#9c179e\"],[0.4444444444444444,\"#bd3786\"],[0.5555555555555556,\"#d8576b\"],[0.6666666666666666,\"#ed7953\"],[0.7777777777777778,\"#fb9f3a\"],[0.8888888888888888,\"#fdca26\"],[1.0,\"#f0f921\"]]},\"colorway\":[\"#636efa\",\"#EF553B\",\"#00cc96\",\"#ab63fa\",\"#FFA15A\",\"#19d3f3\",\"#FF6692\",\"#B6E880\",\"#FF97FF\",\"#FECB52\"],\"font\":{\"color\":\"#2a3f5f\"},\"geo\":{\"bgcolor\":\"white\",\"lakecolor\":\"white\",\"landcolor\":\"#E5ECF6\",\"showlakes\":true,\"showland\":true,\"subunitcolor\":\"white\"},\"hoverlabel\":{\"align\":\"left\"},\"hovermode\":\"closest\",\"mapbox\":{\"style\":\"light\"},\"paper_bgcolor\":\"white\",\"plot_bgcolor\":\"#E5ECF6\",\"polar\":{\"angularaxis\":{\"gridcolor\":\"white\",\"linecolor\":\"white\",\"ticks\":\"\"},\"bgcolor\":\"#E5ECF6\",\"radialaxis\":{\"gridcolor\":\"white\",\"linecolor\":\"white\",\"ticks\":\"\"}},\"scene\":{\"xaxis\":{\"backgroundcolor\":\"#E5ECF6\",\"gridcolor\":\"white\",\"gridwidth\":2,\"linecolor\":\"white\",\"showbackground\":true,\"ticks\":\"\",\"zerolinecolor\":\"white\"},\"yaxis\":{\"backgroundcolor\":\"#E5ECF6\",\"gridcolor\":\"white\",\"gridwidth\":2,\"linecolor\":\"white\",\"showbackground\":true,\"ticks\":\"\",\"zerolinecolor\":\"white\"},\"zaxis\":{\"backgroundcolor\":\"#E5ECF6\",\"gridcolor\":\"white\",\"gridwidth\":2,\"linecolor\":\"white\",\"showbackground\":true,\"ticks\":\"\",\"zerolinecolor\":\"white\"}},\"shapedefaults\":{\"line\":{\"color\":\"#2a3f5f\"}},\"ternary\":{\"aaxis\":{\"gridcolor\":\"white\",\"linecolor\":\"white\",\"ticks\":\"\"},\"baxis\":{\"gridcolor\":\"white\",\"linecolor\":\"white\",\"ticks\":\"\"},\"bgcolor\":\"#E5ECF6\",\"caxis\":{\"gridcolor\":\"white\",\"linecolor\":\"white\",\"ticks\":\"\"}},\"title\":{\"x\":0.05},\"xaxis\":{\"automargin\":true,\"gridcolor\":\"white\",\"linecolor\":\"white\",\"ticks\":\"\",\"title\":{\"standoff\":15},\"zerolinecolor\":\"white\",\"zerolinewidth\":2},\"yaxis\":{\"automargin\":true,\"gridcolor\":\"white\",\"linecolor\":\"white\",\"ticks\":\"\",\"title\":{\"standoff\":15},\"zerolinecolor\":\"white\",\"zerolinewidth\":2}}},\"title\":{\"font\":{\"color\":\"#4D5663\"}},\"xaxis\":{\"gridcolor\":\"#E1E5ED\",\"showgrid\":true,\"tickfont\":{\"color\":\"#4D5663\"},\"title\":{\"font\":{\"color\":\"#4D5663\"},\"text\":\"\"},\"zerolinecolor\":\"#E1E5ED\"},\"yaxis\":{\"gridcolor\":\"#E1E5ED\",\"showgrid\":true,\"tickfont\":{\"color\":\"#4D5663\"},\"title\":{\"font\":{\"color\":\"#4D5663\"},\"text\":\"\"},\"zerolinecolor\":\"#E1E5ED\"}},                        {\"showLink\": true, \"linkText\": \"Export to plot.ly\", \"plotlyServerURL\": \"https://plot.ly\", \"responsive\": true}                    ).then(function(){\n                            \nvar gd = document.getElementById('479d314e-df92-4481-83d0-6174918f41ae');\nvar x = new MutationObserver(function (mutations, observer) {{\n        var display = window.getComputedStyle(gd).display;\n        if (!display || display === 'none') {{\n            console.log([gd, 'removed!']);\n            Plotly.purge(gd);\n            observer.disconnect();\n        }}\n}});\n\n// Listen for the removal of the full notebook cells\nvar notebookContainer = gd.closest('#notebook-container');\nif (notebookContainer) {{\n    x.observe(notebookContainer, {childList: true});\n}}\n\n// Listen for the clearing of the current output cell\nvar outputEl = gd.closest('.output');\nif (outputEl) {{\n    x.observe(outputEl, {childList: true});\n}}\n\n                        })                };                });            </script>        </div>"
     },
     "metadata": {},
     "output_type": "display_data"
    }
   ],
   "source": [
    "df.iplot(kind='scatter', x='A', y='B', mode='markers', size=5)"
   ],
   "metadata": {
    "collapsed": false,
    "pycharm": {
     "name": "#%%\n"
    }
   }
  },
  {
   "cell_type": "code",
   "execution_count": 38,
   "outputs": [
    {
     "data": {
      "application/vnd.plotly.v1+json": {
       "data": [
        {
         "marker": {
          "color": "rgba(255, 153, 51, 0.6)",
          "line": {
           "color": "rgba(255, 153, 51, 1.0)",
           "width": 1
          }
         },
         "name": "values",
         "orientation": "v",
         "text": "",
         "x": [
          "A",
          "B",
          "C"
         ],
         "y": [
          32,
          45,
          50
         ],
         "type": "bar"
        }
       ],
       "layout": {
        "legend": {
         "bgcolor": "#F5F6F9",
         "font": {
          "color": "#4D5663"
         }
        },
        "paper_bgcolor": "#F5F6F9",
        "plot_bgcolor": "#F5F6F9",
        "template": {
         "data": {
          "barpolar": [
           {
            "marker": {
             "line": {
              "color": "#E5ECF6",
              "width": 0.5
             },
             "pattern": {
              "fillmode": "overlay",
              "size": 10,
              "solidity": 0.2
             }
            },
            "type": "barpolar"
           }
          ],
          "bar": [
           {
            "error_x": {
             "color": "#2a3f5f"
            },
            "error_y": {
             "color": "#2a3f5f"
            },
            "marker": {
             "line": {
              "color": "#E5ECF6",
              "width": 0.5
             },
             "pattern": {
              "fillmode": "overlay",
              "size": 10,
              "solidity": 0.2
             }
            },
            "type": "bar"
           }
          ],
          "carpet": [
           {
            "aaxis": {
             "endlinecolor": "#2a3f5f",
             "gridcolor": "white",
             "linecolor": "white",
             "minorgridcolor": "white",
             "startlinecolor": "#2a3f5f"
            },
            "baxis": {
             "endlinecolor": "#2a3f5f",
             "gridcolor": "white",
             "linecolor": "white",
             "minorgridcolor": "white",
             "startlinecolor": "#2a3f5f"
            },
            "type": "carpet"
           }
          ],
          "choropleth": [
           {
            "colorbar": {
             "outlinewidth": 0,
             "ticks": ""
            },
            "type": "choropleth"
           }
          ],
          "contourcarpet": [
           {
            "colorbar": {
             "outlinewidth": 0,
             "ticks": ""
            },
            "type": "contourcarpet"
           }
          ],
          "contour": [
           {
            "colorbar": {
             "outlinewidth": 0,
             "ticks": ""
            },
            "colorscale": [
             [
              0.0,
              "#0d0887"
             ],
             [
              0.1111111111111111,
              "#46039f"
             ],
             [
              0.2222222222222222,
              "#7201a8"
             ],
             [
              0.3333333333333333,
              "#9c179e"
             ],
             [
              0.4444444444444444,
              "#bd3786"
             ],
             [
              0.5555555555555556,
              "#d8576b"
             ],
             [
              0.6666666666666666,
              "#ed7953"
             ],
             [
              0.7777777777777778,
              "#fb9f3a"
             ],
             [
              0.8888888888888888,
              "#fdca26"
             ],
             [
              1.0,
              "#f0f921"
             ]
            ],
            "type": "contour"
           }
          ],
          "heatmapgl": [
           {
            "colorbar": {
             "outlinewidth": 0,
             "ticks": ""
            },
            "colorscale": [
             [
              0.0,
              "#0d0887"
             ],
             [
              0.1111111111111111,
              "#46039f"
             ],
             [
              0.2222222222222222,
              "#7201a8"
             ],
             [
              0.3333333333333333,
              "#9c179e"
             ],
             [
              0.4444444444444444,
              "#bd3786"
             ],
             [
              0.5555555555555556,
              "#d8576b"
             ],
             [
              0.6666666666666666,
              "#ed7953"
             ],
             [
              0.7777777777777778,
              "#fb9f3a"
             ],
             [
              0.8888888888888888,
              "#fdca26"
             ],
             [
              1.0,
              "#f0f921"
             ]
            ],
            "type": "heatmapgl"
           }
          ],
          "heatmap": [
           {
            "colorbar": {
             "outlinewidth": 0,
             "ticks": ""
            },
            "colorscale": [
             [
              0.0,
              "#0d0887"
             ],
             [
              0.1111111111111111,
              "#46039f"
             ],
             [
              0.2222222222222222,
              "#7201a8"
             ],
             [
              0.3333333333333333,
              "#9c179e"
             ],
             [
              0.4444444444444444,
              "#bd3786"
             ],
             [
              0.5555555555555556,
              "#d8576b"
             ],
             [
              0.6666666666666666,
              "#ed7953"
             ],
             [
              0.7777777777777778,
              "#fb9f3a"
             ],
             [
              0.8888888888888888,
              "#fdca26"
             ],
             [
              1.0,
              "#f0f921"
             ]
            ],
            "type": "heatmap"
           }
          ],
          "histogram2dcontour": [
           {
            "colorbar": {
             "outlinewidth": 0,
             "ticks": ""
            },
            "colorscale": [
             [
              0.0,
              "#0d0887"
             ],
             [
              0.1111111111111111,
              "#46039f"
             ],
             [
              0.2222222222222222,
              "#7201a8"
             ],
             [
              0.3333333333333333,
              "#9c179e"
             ],
             [
              0.4444444444444444,
              "#bd3786"
             ],
             [
              0.5555555555555556,
              "#d8576b"
             ],
             [
              0.6666666666666666,
              "#ed7953"
             ],
             [
              0.7777777777777778,
              "#fb9f3a"
             ],
             [
              0.8888888888888888,
              "#fdca26"
             ],
             [
              1.0,
              "#f0f921"
             ]
            ],
            "type": "histogram2dcontour"
           }
          ],
          "histogram2d": [
           {
            "colorbar": {
             "outlinewidth": 0,
             "ticks": ""
            },
            "colorscale": [
             [
              0.0,
              "#0d0887"
             ],
             [
              0.1111111111111111,
              "#46039f"
             ],
             [
              0.2222222222222222,
              "#7201a8"
             ],
             [
              0.3333333333333333,
              "#9c179e"
             ],
             [
              0.4444444444444444,
              "#bd3786"
             ],
             [
              0.5555555555555556,
              "#d8576b"
             ],
             [
              0.6666666666666666,
              "#ed7953"
             ],
             [
              0.7777777777777778,
              "#fb9f3a"
             ],
             [
              0.8888888888888888,
              "#fdca26"
             ],
             [
              1.0,
              "#f0f921"
             ]
            ],
            "type": "histogram2d"
           }
          ],
          "histogram": [
           {
            "marker": {
             "pattern": {
              "fillmode": "overlay",
              "size": 10,
              "solidity": 0.2
             }
            },
            "type": "histogram"
           }
          ],
          "mesh3d": [
           {
            "colorbar": {
             "outlinewidth": 0,
             "ticks": ""
            },
            "type": "mesh3d"
           }
          ],
          "parcoords": [
           {
            "line": {
             "colorbar": {
              "outlinewidth": 0,
              "ticks": ""
             }
            },
            "type": "parcoords"
           }
          ],
          "pie": [
           {
            "automargin": true,
            "type": "pie"
           }
          ],
          "scatter3d": [
           {
            "line": {
             "colorbar": {
              "outlinewidth": 0,
              "ticks": ""
             }
            },
            "marker": {
             "colorbar": {
              "outlinewidth": 0,
              "ticks": ""
             }
            },
            "type": "scatter3d"
           }
          ],
          "scattercarpet": [
           {
            "marker": {
             "colorbar": {
              "outlinewidth": 0,
              "ticks": ""
             }
            },
            "type": "scattercarpet"
           }
          ],
          "scattergeo": [
           {
            "marker": {
             "colorbar": {
              "outlinewidth": 0,
              "ticks": ""
             }
            },
            "type": "scattergeo"
           }
          ],
          "scattergl": [
           {
            "marker": {
             "colorbar": {
              "outlinewidth": 0,
              "ticks": ""
             }
            },
            "type": "scattergl"
           }
          ],
          "scattermapbox": [
           {
            "marker": {
             "colorbar": {
              "outlinewidth": 0,
              "ticks": ""
             }
            },
            "type": "scattermapbox"
           }
          ],
          "scatterpolargl": [
           {
            "marker": {
             "colorbar": {
              "outlinewidth": 0,
              "ticks": ""
             }
            },
            "type": "scatterpolargl"
           }
          ],
          "scatterpolar": [
           {
            "marker": {
             "colorbar": {
              "outlinewidth": 0,
              "ticks": ""
             }
            },
            "type": "scatterpolar"
           }
          ],
          "scatter": [
           {
            "fillpattern": {
             "fillmode": "overlay",
             "size": 10,
             "solidity": 0.2
            },
            "type": "scatter"
           }
          ],
          "scatterternary": [
           {
            "marker": {
             "colorbar": {
              "outlinewidth": 0,
              "ticks": ""
             }
            },
            "type": "scatterternary"
           }
          ],
          "surface": [
           {
            "colorbar": {
             "outlinewidth": 0,
             "ticks": ""
            },
            "colorscale": [
             [
              0.0,
              "#0d0887"
             ],
             [
              0.1111111111111111,
              "#46039f"
             ],
             [
              0.2222222222222222,
              "#7201a8"
             ],
             [
              0.3333333333333333,
              "#9c179e"
             ],
             [
              0.4444444444444444,
              "#bd3786"
             ],
             [
              0.5555555555555556,
              "#d8576b"
             ],
             [
              0.6666666666666666,
              "#ed7953"
             ],
             [
              0.7777777777777778,
              "#fb9f3a"
             ],
             [
              0.8888888888888888,
              "#fdca26"
             ],
             [
              1.0,
              "#f0f921"
             ]
            ],
            "type": "surface"
           }
          ],
          "table": [
           {
            "cells": {
             "fill": {
              "color": "#EBF0F8"
             },
             "line": {
              "color": "white"
             }
            },
            "header": {
             "fill": {
              "color": "#C8D4E3"
             },
             "line": {
              "color": "white"
             }
            },
            "type": "table"
           }
          ]
         },
         "layout": {
          "annotationdefaults": {
           "arrowcolor": "#2a3f5f",
           "arrowhead": 0,
           "arrowwidth": 1
          },
          "autotypenumbers": "strict",
          "coloraxis": {
           "colorbar": {
            "outlinewidth": 0,
            "ticks": ""
           }
          },
          "colorscale": {
           "diverging": [
            [
             0,
             "#8e0152"
            ],
            [
             0.1,
             "#c51b7d"
            ],
            [
             0.2,
             "#de77ae"
            ],
            [
             0.3,
             "#f1b6da"
            ],
            [
             0.4,
             "#fde0ef"
            ],
            [
             0.5,
             "#f7f7f7"
            ],
            [
             0.6,
             "#e6f5d0"
            ],
            [
             0.7,
             "#b8e186"
            ],
            [
             0.8,
             "#7fbc41"
            ],
            [
             0.9,
             "#4d9221"
            ],
            [
             1,
             "#276419"
            ]
           ],
           "sequential": [
            [
             0.0,
             "#0d0887"
            ],
            [
             0.1111111111111111,
             "#46039f"
            ],
            [
             0.2222222222222222,
             "#7201a8"
            ],
            [
             0.3333333333333333,
             "#9c179e"
            ],
            [
             0.4444444444444444,
             "#bd3786"
            ],
            [
             0.5555555555555556,
             "#d8576b"
            ],
            [
             0.6666666666666666,
             "#ed7953"
            ],
            [
             0.7777777777777778,
             "#fb9f3a"
            ],
            [
             0.8888888888888888,
             "#fdca26"
            ],
            [
             1.0,
             "#f0f921"
            ]
           ],
           "sequentialminus": [
            [
             0.0,
             "#0d0887"
            ],
            [
             0.1111111111111111,
             "#46039f"
            ],
            [
             0.2222222222222222,
             "#7201a8"
            ],
            [
             0.3333333333333333,
             "#9c179e"
            ],
            [
             0.4444444444444444,
             "#bd3786"
            ],
            [
             0.5555555555555556,
             "#d8576b"
            ],
            [
             0.6666666666666666,
             "#ed7953"
            ],
            [
             0.7777777777777778,
             "#fb9f3a"
            ],
            [
             0.8888888888888888,
             "#fdca26"
            ],
            [
             1.0,
             "#f0f921"
            ]
           ]
          },
          "colorway": [
           "#636efa",
           "#EF553B",
           "#00cc96",
           "#ab63fa",
           "#FFA15A",
           "#19d3f3",
           "#FF6692",
           "#B6E880",
           "#FF97FF",
           "#FECB52"
          ],
          "font": {
           "color": "#2a3f5f"
          },
          "geo": {
           "bgcolor": "white",
           "lakecolor": "white",
           "landcolor": "#E5ECF6",
           "showlakes": true,
           "showland": true,
           "subunitcolor": "white"
          },
          "hoverlabel": {
           "align": "left"
          },
          "hovermode": "closest",
          "mapbox": {
           "style": "light"
          },
          "paper_bgcolor": "white",
          "plot_bgcolor": "#E5ECF6",
          "polar": {
           "angularaxis": {
            "gridcolor": "white",
            "linecolor": "white",
            "ticks": ""
           },
           "bgcolor": "#E5ECF6",
           "radialaxis": {
            "gridcolor": "white",
            "linecolor": "white",
            "ticks": ""
           }
          },
          "scene": {
           "xaxis": {
            "backgroundcolor": "#E5ECF6",
            "gridcolor": "white",
            "gridwidth": 2,
            "linecolor": "white",
            "showbackground": true,
            "ticks": "",
            "zerolinecolor": "white"
           },
           "yaxis": {
            "backgroundcolor": "#E5ECF6",
            "gridcolor": "white",
            "gridwidth": 2,
            "linecolor": "white",
            "showbackground": true,
            "ticks": "",
            "zerolinecolor": "white"
           },
           "zaxis": {
            "backgroundcolor": "#E5ECF6",
            "gridcolor": "white",
            "gridwidth": 2,
            "linecolor": "white",
            "showbackground": true,
            "ticks": "",
            "zerolinecolor": "white"
           }
          },
          "shapedefaults": {
           "line": {
            "color": "#2a3f5f"
           }
          },
          "ternary": {
           "aaxis": {
            "gridcolor": "white",
            "linecolor": "white",
            "ticks": ""
           },
           "baxis": {
            "gridcolor": "white",
            "linecolor": "white",
            "ticks": ""
           },
           "bgcolor": "#E5ECF6",
           "caxis": {
            "gridcolor": "white",
            "linecolor": "white",
            "ticks": ""
           }
          },
          "title": {
           "x": 0.05
          },
          "xaxis": {
           "automargin": true,
           "gridcolor": "white",
           "linecolor": "white",
           "ticks": "",
           "title": {
            "standoff": 15
           },
           "zerolinecolor": "white",
           "zerolinewidth": 2
          },
          "yaxis": {
           "automargin": true,
           "gridcolor": "white",
           "linecolor": "white",
           "ticks": "",
           "title": {
            "standoff": 15
           },
           "zerolinecolor": "white",
           "zerolinewidth": 2
          }
         }
        },
        "title": {
         "font": {
          "color": "#4D5663"
         }
        },
        "xaxis": {
         "gridcolor": "#E1E5ED",
         "showgrid": true,
         "tickfont": {
          "color": "#4D5663"
         },
         "title": {
          "font": {
           "color": "#4D5663"
          },
          "text": ""
         },
         "zerolinecolor": "#E1E5ED"
        },
        "yaxis": {
         "gridcolor": "#E1E5ED",
         "showgrid": true,
         "tickfont": {
          "color": "#4D5663"
         },
         "title": {
          "font": {
           "color": "#4D5663"
          },
          "text": ""
         },
         "zerolinecolor": "#E1E5ED"
        }
       },
       "config": {
        "showLink": true,
        "linkText": "Export to plot.ly",
        "plotlyServerURL": "https://plot.ly"
       }
      },
      "text/html": "<div>                            <div id=\"a68c6b9f-13f4-4b1e-9824-16ed35c1f660\" class=\"plotly-graph-div\" style=\"height:525px; width:100%;\"></div>            <script type=\"text/javascript\">                require([\"plotly\"], function(Plotly) {                    window.PLOTLYENV=window.PLOTLYENV || {};\n                    window.PLOTLYENV.BASE_URL='https://plot.ly';                                    if (document.getElementById(\"a68c6b9f-13f4-4b1e-9824-16ed35c1f660\")) {                    Plotly.newPlot(                        \"a68c6b9f-13f4-4b1e-9824-16ed35c1f660\",                        [{\"marker\":{\"color\":\"rgba(255, 153, 51, 0.6)\",\"line\":{\"color\":\"rgba(255, 153, 51, 1.0)\",\"width\":1}},\"name\":\"values\",\"orientation\":\"v\",\"text\":\"\",\"x\":[\"A\",\"B\",\"C\"],\"y\":[32,45,50],\"type\":\"bar\"}],                        {\"legend\":{\"bgcolor\":\"#F5F6F9\",\"font\":{\"color\":\"#4D5663\"}},\"paper_bgcolor\":\"#F5F6F9\",\"plot_bgcolor\":\"#F5F6F9\",\"template\":{\"data\":{\"barpolar\":[{\"marker\":{\"line\":{\"color\":\"#E5ECF6\",\"width\":0.5},\"pattern\":{\"fillmode\":\"overlay\",\"size\":10,\"solidity\":0.2}},\"type\":\"barpolar\"}],\"bar\":[{\"error_x\":{\"color\":\"#2a3f5f\"},\"error_y\":{\"color\":\"#2a3f5f\"},\"marker\":{\"line\":{\"color\":\"#E5ECF6\",\"width\":0.5},\"pattern\":{\"fillmode\":\"overlay\",\"size\":10,\"solidity\":0.2}},\"type\":\"bar\"}],\"carpet\":[{\"aaxis\":{\"endlinecolor\":\"#2a3f5f\",\"gridcolor\":\"white\",\"linecolor\":\"white\",\"minorgridcolor\":\"white\",\"startlinecolor\":\"#2a3f5f\"},\"baxis\":{\"endlinecolor\":\"#2a3f5f\",\"gridcolor\":\"white\",\"linecolor\":\"white\",\"minorgridcolor\":\"white\",\"startlinecolor\":\"#2a3f5f\"},\"type\":\"carpet\"}],\"choropleth\":[{\"colorbar\":{\"outlinewidth\":0,\"ticks\":\"\"},\"type\":\"choropleth\"}],\"contourcarpet\":[{\"colorbar\":{\"outlinewidth\":0,\"ticks\":\"\"},\"type\":\"contourcarpet\"}],\"contour\":[{\"colorbar\":{\"outlinewidth\":0,\"ticks\":\"\"},\"colorscale\":[[0.0,\"#0d0887\"],[0.1111111111111111,\"#46039f\"],[0.2222222222222222,\"#7201a8\"],[0.3333333333333333,\"#9c179e\"],[0.4444444444444444,\"#bd3786\"],[0.5555555555555556,\"#d8576b\"],[0.6666666666666666,\"#ed7953\"],[0.7777777777777778,\"#fb9f3a\"],[0.8888888888888888,\"#fdca26\"],[1.0,\"#f0f921\"]],\"type\":\"contour\"}],\"heatmapgl\":[{\"colorbar\":{\"outlinewidth\":0,\"ticks\":\"\"},\"colorscale\":[[0.0,\"#0d0887\"],[0.1111111111111111,\"#46039f\"],[0.2222222222222222,\"#7201a8\"],[0.3333333333333333,\"#9c179e\"],[0.4444444444444444,\"#bd3786\"],[0.5555555555555556,\"#d8576b\"],[0.6666666666666666,\"#ed7953\"],[0.7777777777777778,\"#fb9f3a\"],[0.8888888888888888,\"#fdca26\"],[1.0,\"#f0f921\"]],\"type\":\"heatmapgl\"}],\"heatmap\":[{\"colorbar\":{\"outlinewidth\":0,\"ticks\":\"\"},\"colorscale\":[[0.0,\"#0d0887\"],[0.1111111111111111,\"#46039f\"],[0.2222222222222222,\"#7201a8\"],[0.3333333333333333,\"#9c179e\"],[0.4444444444444444,\"#bd3786\"],[0.5555555555555556,\"#d8576b\"],[0.6666666666666666,\"#ed7953\"],[0.7777777777777778,\"#fb9f3a\"],[0.8888888888888888,\"#fdca26\"],[1.0,\"#f0f921\"]],\"type\":\"heatmap\"}],\"histogram2dcontour\":[{\"colorbar\":{\"outlinewidth\":0,\"ticks\":\"\"},\"colorscale\":[[0.0,\"#0d0887\"],[0.1111111111111111,\"#46039f\"],[0.2222222222222222,\"#7201a8\"],[0.3333333333333333,\"#9c179e\"],[0.4444444444444444,\"#bd3786\"],[0.5555555555555556,\"#d8576b\"],[0.6666666666666666,\"#ed7953\"],[0.7777777777777778,\"#fb9f3a\"],[0.8888888888888888,\"#fdca26\"],[1.0,\"#f0f921\"]],\"type\":\"histogram2dcontour\"}],\"histogram2d\":[{\"colorbar\":{\"outlinewidth\":0,\"ticks\":\"\"},\"colorscale\":[[0.0,\"#0d0887\"],[0.1111111111111111,\"#46039f\"],[0.2222222222222222,\"#7201a8\"],[0.3333333333333333,\"#9c179e\"],[0.4444444444444444,\"#bd3786\"],[0.5555555555555556,\"#d8576b\"],[0.6666666666666666,\"#ed7953\"],[0.7777777777777778,\"#fb9f3a\"],[0.8888888888888888,\"#fdca26\"],[1.0,\"#f0f921\"]],\"type\":\"histogram2d\"}],\"histogram\":[{\"marker\":{\"pattern\":{\"fillmode\":\"overlay\",\"size\":10,\"solidity\":0.2}},\"type\":\"histogram\"}],\"mesh3d\":[{\"colorbar\":{\"outlinewidth\":0,\"ticks\":\"\"},\"type\":\"mesh3d\"}],\"parcoords\":[{\"line\":{\"colorbar\":{\"outlinewidth\":0,\"ticks\":\"\"}},\"type\":\"parcoords\"}],\"pie\":[{\"automargin\":true,\"type\":\"pie\"}],\"scatter3d\":[{\"line\":{\"colorbar\":{\"outlinewidth\":0,\"ticks\":\"\"}},\"marker\":{\"colorbar\":{\"outlinewidth\":0,\"ticks\":\"\"}},\"type\":\"scatter3d\"}],\"scattercarpet\":[{\"marker\":{\"colorbar\":{\"outlinewidth\":0,\"ticks\":\"\"}},\"type\":\"scattercarpet\"}],\"scattergeo\":[{\"marker\":{\"colorbar\":{\"outlinewidth\":0,\"ticks\":\"\"}},\"type\":\"scattergeo\"}],\"scattergl\":[{\"marker\":{\"colorbar\":{\"outlinewidth\":0,\"ticks\":\"\"}},\"type\":\"scattergl\"}],\"scattermapbox\":[{\"marker\":{\"colorbar\":{\"outlinewidth\":0,\"ticks\":\"\"}},\"type\":\"scattermapbox\"}],\"scatterpolargl\":[{\"marker\":{\"colorbar\":{\"outlinewidth\":0,\"ticks\":\"\"}},\"type\":\"scatterpolargl\"}],\"scatterpolar\":[{\"marker\":{\"colorbar\":{\"outlinewidth\":0,\"ticks\":\"\"}},\"type\":\"scatterpolar\"}],\"scatter\":[{\"fillpattern\":{\"fillmode\":\"overlay\",\"size\":10,\"solidity\":0.2},\"type\":\"scatter\"}],\"scatterternary\":[{\"marker\":{\"colorbar\":{\"outlinewidth\":0,\"ticks\":\"\"}},\"type\":\"scatterternary\"}],\"surface\":[{\"colorbar\":{\"outlinewidth\":0,\"ticks\":\"\"},\"colorscale\":[[0.0,\"#0d0887\"],[0.1111111111111111,\"#46039f\"],[0.2222222222222222,\"#7201a8\"],[0.3333333333333333,\"#9c179e\"],[0.4444444444444444,\"#bd3786\"],[0.5555555555555556,\"#d8576b\"],[0.6666666666666666,\"#ed7953\"],[0.7777777777777778,\"#fb9f3a\"],[0.8888888888888888,\"#fdca26\"],[1.0,\"#f0f921\"]],\"type\":\"surface\"}],\"table\":[{\"cells\":{\"fill\":{\"color\":\"#EBF0F8\"},\"line\":{\"color\":\"white\"}},\"header\":{\"fill\":{\"color\":\"#C8D4E3\"},\"line\":{\"color\":\"white\"}},\"type\":\"table\"}]},\"layout\":{\"annotationdefaults\":{\"arrowcolor\":\"#2a3f5f\",\"arrowhead\":0,\"arrowwidth\":1},\"autotypenumbers\":\"strict\",\"coloraxis\":{\"colorbar\":{\"outlinewidth\":0,\"ticks\":\"\"}},\"colorscale\":{\"diverging\":[[0,\"#8e0152\"],[0.1,\"#c51b7d\"],[0.2,\"#de77ae\"],[0.3,\"#f1b6da\"],[0.4,\"#fde0ef\"],[0.5,\"#f7f7f7\"],[0.6,\"#e6f5d0\"],[0.7,\"#b8e186\"],[0.8,\"#7fbc41\"],[0.9,\"#4d9221\"],[1,\"#276419\"]],\"sequential\":[[0.0,\"#0d0887\"],[0.1111111111111111,\"#46039f\"],[0.2222222222222222,\"#7201a8\"],[0.3333333333333333,\"#9c179e\"],[0.4444444444444444,\"#bd3786\"],[0.5555555555555556,\"#d8576b\"],[0.6666666666666666,\"#ed7953\"],[0.7777777777777778,\"#fb9f3a\"],[0.8888888888888888,\"#fdca26\"],[1.0,\"#f0f921\"]],\"sequentialminus\":[[0.0,\"#0d0887\"],[0.1111111111111111,\"#46039f\"],[0.2222222222222222,\"#7201a8\"],[0.3333333333333333,\"#9c179e\"],[0.4444444444444444,\"#bd3786\"],[0.5555555555555556,\"#d8576b\"],[0.6666666666666666,\"#ed7953\"],[0.7777777777777778,\"#fb9f3a\"],[0.8888888888888888,\"#fdca26\"],[1.0,\"#f0f921\"]]},\"colorway\":[\"#636efa\",\"#EF553B\",\"#00cc96\",\"#ab63fa\",\"#FFA15A\",\"#19d3f3\",\"#FF6692\",\"#B6E880\",\"#FF97FF\",\"#FECB52\"],\"font\":{\"color\":\"#2a3f5f\"},\"geo\":{\"bgcolor\":\"white\",\"lakecolor\":\"white\",\"landcolor\":\"#E5ECF6\",\"showlakes\":true,\"showland\":true,\"subunitcolor\":\"white\"},\"hoverlabel\":{\"align\":\"left\"},\"hovermode\":\"closest\",\"mapbox\":{\"style\":\"light\"},\"paper_bgcolor\":\"white\",\"plot_bgcolor\":\"#E5ECF6\",\"polar\":{\"angularaxis\":{\"gridcolor\":\"white\",\"linecolor\":\"white\",\"ticks\":\"\"},\"bgcolor\":\"#E5ECF6\",\"radialaxis\":{\"gridcolor\":\"white\",\"linecolor\":\"white\",\"ticks\":\"\"}},\"scene\":{\"xaxis\":{\"backgroundcolor\":\"#E5ECF6\",\"gridcolor\":\"white\",\"gridwidth\":2,\"linecolor\":\"white\",\"showbackground\":true,\"ticks\":\"\",\"zerolinecolor\":\"white\"},\"yaxis\":{\"backgroundcolor\":\"#E5ECF6\",\"gridcolor\":\"white\",\"gridwidth\":2,\"linecolor\":\"white\",\"showbackground\":true,\"ticks\":\"\",\"zerolinecolor\":\"white\"},\"zaxis\":{\"backgroundcolor\":\"#E5ECF6\",\"gridcolor\":\"white\",\"gridwidth\":2,\"linecolor\":\"white\",\"showbackground\":true,\"ticks\":\"\",\"zerolinecolor\":\"white\"}},\"shapedefaults\":{\"line\":{\"color\":\"#2a3f5f\"}},\"ternary\":{\"aaxis\":{\"gridcolor\":\"white\",\"linecolor\":\"white\",\"ticks\":\"\"},\"baxis\":{\"gridcolor\":\"white\",\"linecolor\":\"white\",\"ticks\":\"\"},\"bgcolor\":\"#E5ECF6\",\"caxis\":{\"gridcolor\":\"white\",\"linecolor\":\"white\",\"ticks\":\"\"}},\"title\":{\"x\":0.05},\"xaxis\":{\"automargin\":true,\"gridcolor\":\"white\",\"linecolor\":\"white\",\"ticks\":\"\",\"title\":{\"standoff\":15},\"zerolinecolor\":\"white\",\"zerolinewidth\":2},\"yaxis\":{\"automargin\":true,\"gridcolor\":\"white\",\"linecolor\":\"white\",\"ticks\":\"\",\"title\":{\"standoff\":15},\"zerolinecolor\":\"white\",\"zerolinewidth\":2}}},\"title\":{\"font\":{\"color\":\"#4D5663\"}},\"xaxis\":{\"gridcolor\":\"#E1E5ED\",\"showgrid\":true,\"tickfont\":{\"color\":\"#4D5663\"},\"title\":{\"font\":{\"color\":\"#4D5663\"},\"text\":\"\"},\"zerolinecolor\":\"#E1E5ED\"},\"yaxis\":{\"gridcolor\":\"#E1E5ED\",\"showgrid\":true,\"tickfont\":{\"color\":\"#4D5663\"},\"title\":{\"font\":{\"color\":\"#4D5663\"},\"text\":\"\"},\"zerolinecolor\":\"#E1E5ED\"}},                        {\"showLink\": true, \"linkText\": \"Export to plot.ly\", \"plotlyServerURL\": \"https://plot.ly\", \"responsive\": true}                    ).then(function(){\n                            \nvar gd = document.getElementById('a68c6b9f-13f4-4b1e-9824-16ed35c1f660');\nvar x = new MutationObserver(function (mutations, observer) {{\n        var display = window.getComputedStyle(gd).display;\n        if (!display || display === 'none') {{\n            console.log([gd, 'removed!']);\n            Plotly.purge(gd);\n            observer.disconnect();\n        }}\n}});\n\n// Listen for the removal of the full notebook cells\nvar notebookContainer = gd.closest('#notebook-container');\nif (notebookContainer) {{\n    x.observe(notebookContainer, {childList: true});\n}}\n\n// Listen for the clearing of the current output cell\nvar outputEl = gd.closest('.output');\nif (outputEl) {{\n    x.observe(outputEl, {childList: true});\n}}\n\n                        })                };                });            </script>        </div>"
     },
     "metadata": {},
     "output_type": "display_data"
    }
   ],
   "source": [
    "df2.iplot(kind='bar', x='category', y='values')"
   ],
   "metadata": {
    "collapsed": false,
    "pycharm": {
     "name": "#%%\n"
    }
   }
  },
  {
   "cell_type": "code",
   "execution_count": 40,
   "outputs": [
    {
     "data": {
      "application/vnd.plotly.v1+json": {
       "data": [
        {
         "marker": {
          "color": "rgba(255, 153, 51, 0.6)",
          "line": {
           "color": "rgba(255, 153, 51, 1.0)",
           "width": 1
          }
         },
         "name": "None",
         "orientation": "v",
         "text": "",
         "x": [
          "A",
          "B",
          "C",
          "D"
         ],
         "y": [
          0.7965383939374947,
          -7.917952431554445,
          0.12019155406560555,
          -5.468689349977257
         ],
         "type": "bar"
        }
       ],
       "layout": {
        "legend": {
         "bgcolor": "#F5F6F9",
         "font": {
          "color": "#4D5663"
         }
        },
        "paper_bgcolor": "#F5F6F9",
        "plot_bgcolor": "#F5F6F9",
        "template": {
         "data": {
          "barpolar": [
           {
            "marker": {
             "line": {
              "color": "#E5ECF6",
              "width": 0.5
             },
             "pattern": {
              "fillmode": "overlay",
              "size": 10,
              "solidity": 0.2
             }
            },
            "type": "barpolar"
           }
          ],
          "bar": [
           {
            "error_x": {
             "color": "#2a3f5f"
            },
            "error_y": {
             "color": "#2a3f5f"
            },
            "marker": {
             "line": {
              "color": "#E5ECF6",
              "width": 0.5
             },
             "pattern": {
              "fillmode": "overlay",
              "size": 10,
              "solidity": 0.2
             }
            },
            "type": "bar"
           }
          ],
          "carpet": [
           {
            "aaxis": {
             "endlinecolor": "#2a3f5f",
             "gridcolor": "white",
             "linecolor": "white",
             "minorgridcolor": "white",
             "startlinecolor": "#2a3f5f"
            },
            "baxis": {
             "endlinecolor": "#2a3f5f",
             "gridcolor": "white",
             "linecolor": "white",
             "minorgridcolor": "white",
             "startlinecolor": "#2a3f5f"
            },
            "type": "carpet"
           }
          ],
          "choropleth": [
           {
            "colorbar": {
             "outlinewidth": 0,
             "ticks": ""
            },
            "type": "choropleth"
           }
          ],
          "contourcarpet": [
           {
            "colorbar": {
             "outlinewidth": 0,
             "ticks": ""
            },
            "type": "contourcarpet"
           }
          ],
          "contour": [
           {
            "colorbar": {
             "outlinewidth": 0,
             "ticks": ""
            },
            "colorscale": [
             [
              0.0,
              "#0d0887"
             ],
             [
              0.1111111111111111,
              "#46039f"
             ],
             [
              0.2222222222222222,
              "#7201a8"
             ],
             [
              0.3333333333333333,
              "#9c179e"
             ],
             [
              0.4444444444444444,
              "#bd3786"
             ],
             [
              0.5555555555555556,
              "#d8576b"
             ],
             [
              0.6666666666666666,
              "#ed7953"
             ],
             [
              0.7777777777777778,
              "#fb9f3a"
             ],
             [
              0.8888888888888888,
              "#fdca26"
             ],
             [
              1.0,
              "#f0f921"
             ]
            ],
            "type": "contour"
           }
          ],
          "heatmapgl": [
           {
            "colorbar": {
             "outlinewidth": 0,
             "ticks": ""
            },
            "colorscale": [
             [
              0.0,
              "#0d0887"
             ],
             [
              0.1111111111111111,
              "#46039f"
             ],
             [
              0.2222222222222222,
              "#7201a8"
             ],
             [
              0.3333333333333333,
              "#9c179e"
             ],
             [
              0.4444444444444444,
              "#bd3786"
             ],
             [
              0.5555555555555556,
              "#d8576b"
             ],
             [
              0.6666666666666666,
              "#ed7953"
             ],
             [
              0.7777777777777778,
              "#fb9f3a"
             ],
             [
              0.8888888888888888,
              "#fdca26"
             ],
             [
              1.0,
              "#f0f921"
             ]
            ],
            "type": "heatmapgl"
           }
          ],
          "heatmap": [
           {
            "colorbar": {
             "outlinewidth": 0,
             "ticks": ""
            },
            "colorscale": [
             [
              0.0,
              "#0d0887"
             ],
             [
              0.1111111111111111,
              "#46039f"
             ],
             [
              0.2222222222222222,
              "#7201a8"
             ],
             [
              0.3333333333333333,
              "#9c179e"
             ],
             [
              0.4444444444444444,
              "#bd3786"
             ],
             [
              0.5555555555555556,
              "#d8576b"
             ],
             [
              0.6666666666666666,
              "#ed7953"
             ],
             [
              0.7777777777777778,
              "#fb9f3a"
             ],
             [
              0.8888888888888888,
              "#fdca26"
             ],
             [
              1.0,
              "#f0f921"
             ]
            ],
            "type": "heatmap"
           }
          ],
          "histogram2dcontour": [
           {
            "colorbar": {
             "outlinewidth": 0,
             "ticks": ""
            },
            "colorscale": [
             [
              0.0,
              "#0d0887"
             ],
             [
              0.1111111111111111,
              "#46039f"
             ],
             [
              0.2222222222222222,
              "#7201a8"
             ],
             [
              0.3333333333333333,
              "#9c179e"
             ],
             [
              0.4444444444444444,
              "#bd3786"
             ],
             [
              0.5555555555555556,
              "#d8576b"
             ],
             [
              0.6666666666666666,
              "#ed7953"
             ],
             [
              0.7777777777777778,
              "#fb9f3a"
             ],
             [
              0.8888888888888888,
              "#fdca26"
             ],
             [
              1.0,
              "#f0f921"
             ]
            ],
            "type": "histogram2dcontour"
           }
          ],
          "histogram2d": [
           {
            "colorbar": {
             "outlinewidth": 0,
             "ticks": ""
            },
            "colorscale": [
             [
              0.0,
              "#0d0887"
             ],
             [
              0.1111111111111111,
              "#46039f"
             ],
             [
              0.2222222222222222,
              "#7201a8"
             ],
             [
              0.3333333333333333,
              "#9c179e"
             ],
             [
              0.4444444444444444,
              "#bd3786"
             ],
             [
              0.5555555555555556,
              "#d8576b"
             ],
             [
              0.6666666666666666,
              "#ed7953"
             ],
             [
              0.7777777777777778,
              "#fb9f3a"
             ],
             [
              0.8888888888888888,
              "#fdca26"
             ],
             [
              1.0,
              "#f0f921"
             ]
            ],
            "type": "histogram2d"
           }
          ],
          "histogram": [
           {
            "marker": {
             "pattern": {
              "fillmode": "overlay",
              "size": 10,
              "solidity": 0.2
             }
            },
            "type": "histogram"
           }
          ],
          "mesh3d": [
           {
            "colorbar": {
             "outlinewidth": 0,
             "ticks": ""
            },
            "type": "mesh3d"
           }
          ],
          "parcoords": [
           {
            "line": {
             "colorbar": {
              "outlinewidth": 0,
              "ticks": ""
             }
            },
            "type": "parcoords"
           }
          ],
          "pie": [
           {
            "automargin": true,
            "type": "pie"
           }
          ],
          "scatter3d": [
           {
            "line": {
             "colorbar": {
              "outlinewidth": 0,
              "ticks": ""
             }
            },
            "marker": {
             "colorbar": {
              "outlinewidth": 0,
              "ticks": ""
             }
            },
            "type": "scatter3d"
           }
          ],
          "scattercarpet": [
           {
            "marker": {
             "colorbar": {
              "outlinewidth": 0,
              "ticks": ""
             }
            },
            "type": "scattercarpet"
           }
          ],
          "scattergeo": [
           {
            "marker": {
             "colorbar": {
              "outlinewidth": 0,
              "ticks": ""
             }
            },
            "type": "scattergeo"
           }
          ],
          "scattergl": [
           {
            "marker": {
             "colorbar": {
              "outlinewidth": 0,
              "ticks": ""
             }
            },
            "type": "scattergl"
           }
          ],
          "scattermapbox": [
           {
            "marker": {
             "colorbar": {
              "outlinewidth": 0,
              "ticks": ""
             }
            },
            "type": "scattermapbox"
           }
          ],
          "scatterpolargl": [
           {
            "marker": {
             "colorbar": {
              "outlinewidth": 0,
              "ticks": ""
             }
            },
            "type": "scatterpolargl"
           }
          ],
          "scatterpolar": [
           {
            "marker": {
             "colorbar": {
              "outlinewidth": 0,
              "ticks": ""
             }
            },
            "type": "scatterpolar"
           }
          ],
          "scatter": [
           {
            "fillpattern": {
             "fillmode": "overlay",
             "size": 10,
             "solidity": 0.2
            },
            "type": "scatter"
           }
          ],
          "scatterternary": [
           {
            "marker": {
             "colorbar": {
              "outlinewidth": 0,
              "ticks": ""
             }
            },
            "type": "scatterternary"
           }
          ],
          "surface": [
           {
            "colorbar": {
             "outlinewidth": 0,
             "ticks": ""
            },
            "colorscale": [
             [
              0.0,
              "#0d0887"
             ],
             [
              0.1111111111111111,
              "#46039f"
             ],
             [
              0.2222222222222222,
              "#7201a8"
             ],
             [
              0.3333333333333333,
              "#9c179e"
             ],
             [
              0.4444444444444444,
              "#bd3786"
             ],
             [
              0.5555555555555556,
              "#d8576b"
             ],
             [
              0.6666666666666666,
              "#ed7953"
             ],
             [
              0.7777777777777778,
              "#fb9f3a"
             ],
             [
              0.8888888888888888,
              "#fdca26"
             ],
             [
              1.0,
              "#f0f921"
             ]
            ],
            "type": "surface"
           }
          ],
          "table": [
           {
            "cells": {
             "fill": {
              "color": "#EBF0F8"
             },
             "line": {
              "color": "white"
             }
            },
            "header": {
             "fill": {
              "color": "#C8D4E3"
             },
             "line": {
              "color": "white"
             }
            },
            "type": "table"
           }
          ]
         },
         "layout": {
          "annotationdefaults": {
           "arrowcolor": "#2a3f5f",
           "arrowhead": 0,
           "arrowwidth": 1
          },
          "autotypenumbers": "strict",
          "coloraxis": {
           "colorbar": {
            "outlinewidth": 0,
            "ticks": ""
           }
          },
          "colorscale": {
           "diverging": [
            [
             0,
             "#8e0152"
            ],
            [
             0.1,
             "#c51b7d"
            ],
            [
             0.2,
             "#de77ae"
            ],
            [
             0.3,
             "#f1b6da"
            ],
            [
             0.4,
             "#fde0ef"
            ],
            [
             0.5,
             "#f7f7f7"
            ],
            [
             0.6,
             "#e6f5d0"
            ],
            [
             0.7,
             "#b8e186"
            ],
            [
             0.8,
             "#7fbc41"
            ],
            [
             0.9,
             "#4d9221"
            ],
            [
             1,
             "#276419"
            ]
           ],
           "sequential": [
            [
             0.0,
             "#0d0887"
            ],
            [
             0.1111111111111111,
             "#46039f"
            ],
            [
             0.2222222222222222,
             "#7201a8"
            ],
            [
             0.3333333333333333,
             "#9c179e"
            ],
            [
             0.4444444444444444,
             "#bd3786"
            ],
            [
             0.5555555555555556,
             "#d8576b"
            ],
            [
             0.6666666666666666,
             "#ed7953"
            ],
            [
             0.7777777777777778,
             "#fb9f3a"
            ],
            [
             0.8888888888888888,
             "#fdca26"
            ],
            [
             1.0,
             "#f0f921"
            ]
           ],
           "sequentialminus": [
            [
             0.0,
             "#0d0887"
            ],
            [
             0.1111111111111111,
             "#46039f"
            ],
            [
             0.2222222222222222,
             "#7201a8"
            ],
            [
             0.3333333333333333,
             "#9c179e"
            ],
            [
             0.4444444444444444,
             "#bd3786"
            ],
            [
             0.5555555555555556,
             "#d8576b"
            ],
            [
             0.6666666666666666,
             "#ed7953"
            ],
            [
             0.7777777777777778,
             "#fb9f3a"
            ],
            [
             0.8888888888888888,
             "#fdca26"
            ],
            [
             1.0,
             "#f0f921"
            ]
           ]
          },
          "colorway": [
           "#636efa",
           "#EF553B",
           "#00cc96",
           "#ab63fa",
           "#FFA15A",
           "#19d3f3",
           "#FF6692",
           "#B6E880",
           "#FF97FF",
           "#FECB52"
          ],
          "font": {
           "color": "#2a3f5f"
          },
          "geo": {
           "bgcolor": "white",
           "lakecolor": "white",
           "landcolor": "#E5ECF6",
           "showlakes": true,
           "showland": true,
           "subunitcolor": "white"
          },
          "hoverlabel": {
           "align": "left"
          },
          "hovermode": "closest",
          "mapbox": {
           "style": "light"
          },
          "paper_bgcolor": "white",
          "plot_bgcolor": "#E5ECF6",
          "polar": {
           "angularaxis": {
            "gridcolor": "white",
            "linecolor": "white",
            "ticks": ""
           },
           "bgcolor": "#E5ECF6",
           "radialaxis": {
            "gridcolor": "white",
            "linecolor": "white",
            "ticks": ""
           }
          },
          "scene": {
           "xaxis": {
            "backgroundcolor": "#E5ECF6",
            "gridcolor": "white",
            "gridwidth": 2,
            "linecolor": "white",
            "showbackground": true,
            "ticks": "",
            "zerolinecolor": "white"
           },
           "yaxis": {
            "backgroundcolor": "#E5ECF6",
            "gridcolor": "white",
            "gridwidth": 2,
            "linecolor": "white",
            "showbackground": true,
            "ticks": "",
            "zerolinecolor": "white"
           },
           "zaxis": {
            "backgroundcolor": "#E5ECF6",
            "gridcolor": "white",
            "gridwidth": 2,
            "linecolor": "white",
            "showbackground": true,
            "ticks": "",
            "zerolinecolor": "white"
           }
          },
          "shapedefaults": {
           "line": {
            "color": "#2a3f5f"
           }
          },
          "ternary": {
           "aaxis": {
            "gridcolor": "white",
            "linecolor": "white",
            "ticks": ""
           },
           "baxis": {
            "gridcolor": "white",
            "linecolor": "white",
            "ticks": ""
           },
           "bgcolor": "#E5ECF6",
           "caxis": {
            "gridcolor": "white",
            "linecolor": "white",
            "ticks": ""
           }
          },
          "title": {
           "x": 0.05
          },
          "xaxis": {
           "automargin": true,
           "gridcolor": "white",
           "linecolor": "white",
           "ticks": "",
           "title": {
            "standoff": 15
           },
           "zerolinecolor": "white",
           "zerolinewidth": 2
          },
          "yaxis": {
           "automargin": true,
           "gridcolor": "white",
           "linecolor": "white",
           "ticks": "",
           "title": {
            "standoff": 15
           },
           "zerolinecolor": "white",
           "zerolinewidth": 2
          }
         }
        },
        "title": {
         "font": {
          "color": "#4D5663"
         }
        },
        "xaxis": {
         "gridcolor": "#E1E5ED",
         "showgrid": true,
         "tickfont": {
          "color": "#4D5663"
         },
         "title": {
          "font": {
           "color": "#4D5663"
          },
          "text": ""
         },
         "zerolinecolor": "#E1E5ED"
        },
        "yaxis": {
         "gridcolor": "#E1E5ED",
         "showgrid": true,
         "tickfont": {
          "color": "#4D5663"
         },
         "title": {
          "font": {
           "color": "#4D5663"
          },
          "text": ""
         },
         "zerolinecolor": "#E1E5ED"
        }
       },
       "config": {
        "showLink": true,
        "linkText": "Export to plot.ly",
        "plotlyServerURL": "https://plot.ly"
       }
      },
      "text/html": "<div>                            <div id=\"c7e2becc-9145-4e19-8def-ce04eec47018\" class=\"plotly-graph-div\" style=\"height:525px; width:100%;\"></div>            <script type=\"text/javascript\">                require([\"plotly\"], function(Plotly) {                    window.PLOTLYENV=window.PLOTLYENV || {};\n                    window.PLOTLYENV.BASE_URL='https://plot.ly';                                    if (document.getElementById(\"c7e2becc-9145-4e19-8def-ce04eec47018\")) {                    Plotly.newPlot(                        \"c7e2becc-9145-4e19-8def-ce04eec47018\",                        [{\"marker\":{\"color\":\"rgba(255, 153, 51, 0.6)\",\"line\":{\"color\":\"rgba(255, 153, 51, 1.0)\",\"width\":1}},\"name\":\"None\",\"orientation\":\"v\",\"text\":\"\",\"x\":[\"A\",\"B\",\"C\",\"D\"],\"y\":[0.7965383939374947,-7.917952431554445,0.12019155406560555,-5.468689349977257],\"type\":\"bar\"}],                        {\"legend\":{\"bgcolor\":\"#F5F6F9\",\"font\":{\"color\":\"#4D5663\"}},\"paper_bgcolor\":\"#F5F6F9\",\"plot_bgcolor\":\"#F5F6F9\",\"template\":{\"data\":{\"barpolar\":[{\"marker\":{\"line\":{\"color\":\"#E5ECF6\",\"width\":0.5},\"pattern\":{\"fillmode\":\"overlay\",\"size\":10,\"solidity\":0.2}},\"type\":\"barpolar\"}],\"bar\":[{\"error_x\":{\"color\":\"#2a3f5f\"},\"error_y\":{\"color\":\"#2a3f5f\"},\"marker\":{\"line\":{\"color\":\"#E5ECF6\",\"width\":0.5},\"pattern\":{\"fillmode\":\"overlay\",\"size\":10,\"solidity\":0.2}},\"type\":\"bar\"}],\"carpet\":[{\"aaxis\":{\"endlinecolor\":\"#2a3f5f\",\"gridcolor\":\"white\",\"linecolor\":\"white\",\"minorgridcolor\":\"white\",\"startlinecolor\":\"#2a3f5f\"},\"baxis\":{\"endlinecolor\":\"#2a3f5f\",\"gridcolor\":\"white\",\"linecolor\":\"white\",\"minorgridcolor\":\"white\",\"startlinecolor\":\"#2a3f5f\"},\"type\":\"carpet\"}],\"choropleth\":[{\"colorbar\":{\"outlinewidth\":0,\"ticks\":\"\"},\"type\":\"choropleth\"}],\"contourcarpet\":[{\"colorbar\":{\"outlinewidth\":0,\"ticks\":\"\"},\"type\":\"contourcarpet\"}],\"contour\":[{\"colorbar\":{\"outlinewidth\":0,\"ticks\":\"\"},\"colorscale\":[[0.0,\"#0d0887\"],[0.1111111111111111,\"#46039f\"],[0.2222222222222222,\"#7201a8\"],[0.3333333333333333,\"#9c179e\"],[0.4444444444444444,\"#bd3786\"],[0.5555555555555556,\"#d8576b\"],[0.6666666666666666,\"#ed7953\"],[0.7777777777777778,\"#fb9f3a\"],[0.8888888888888888,\"#fdca26\"],[1.0,\"#f0f921\"]],\"type\":\"contour\"}],\"heatmapgl\":[{\"colorbar\":{\"outlinewidth\":0,\"ticks\":\"\"},\"colorscale\":[[0.0,\"#0d0887\"],[0.1111111111111111,\"#46039f\"],[0.2222222222222222,\"#7201a8\"],[0.3333333333333333,\"#9c179e\"],[0.4444444444444444,\"#bd3786\"],[0.5555555555555556,\"#d8576b\"],[0.6666666666666666,\"#ed7953\"],[0.7777777777777778,\"#fb9f3a\"],[0.8888888888888888,\"#fdca26\"],[1.0,\"#f0f921\"]],\"type\":\"heatmapgl\"}],\"heatmap\":[{\"colorbar\":{\"outlinewidth\":0,\"ticks\":\"\"},\"colorscale\":[[0.0,\"#0d0887\"],[0.1111111111111111,\"#46039f\"],[0.2222222222222222,\"#7201a8\"],[0.3333333333333333,\"#9c179e\"],[0.4444444444444444,\"#bd3786\"],[0.5555555555555556,\"#d8576b\"],[0.6666666666666666,\"#ed7953\"],[0.7777777777777778,\"#fb9f3a\"],[0.8888888888888888,\"#fdca26\"],[1.0,\"#f0f921\"]],\"type\":\"heatmap\"}],\"histogram2dcontour\":[{\"colorbar\":{\"outlinewidth\":0,\"ticks\":\"\"},\"colorscale\":[[0.0,\"#0d0887\"],[0.1111111111111111,\"#46039f\"],[0.2222222222222222,\"#7201a8\"],[0.3333333333333333,\"#9c179e\"],[0.4444444444444444,\"#bd3786\"],[0.5555555555555556,\"#d8576b\"],[0.6666666666666666,\"#ed7953\"],[0.7777777777777778,\"#fb9f3a\"],[0.8888888888888888,\"#fdca26\"],[1.0,\"#f0f921\"]],\"type\":\"histogram2dcontour\"}],\"histogram2d\":[{\"colorbar\":{\"outlinewidth\":0,\"ticks\":\"\"},\"colorscale\":[[0.0,\"#0d0887\"],[0.1111111111111111,\"#46039f\"],[0.2222222222222222,\"#7201a8\"],[0.3333333333333333,\"#9c179e\"],[0.4444444444444444,\"#bd3786\"],[0.5555555555555556,\"#d8576b\"],[0.6666666666666666,\"#ed7953\"],[0.7777777777777778,\"#fb9f3a\"],[0.8888888888888888,\"#fdca26\"],[1.0,\"#f0f921\"]],\"type\":\"histogram2d\"}],\"histogram\":[{\"marker\":{\"pattern\":{\"fillmode\":\"overlay\",\"size\":10,\"solidity\":0.2}},\"type\":\"histogram\"}],\"mesh3d\":[{\"colorbar\":{\"outlinewidth\":0,\"ticks\":\"\"},\"type\":\"mesh3d\"}],\"parcoords\":[{\"line\":{\"colorbar\":{\"outlinewidth\":0,\"ticks\":\"\"}},\"type\":\"parcoords\"}],\"pie\":[{\"automargin\":true,\"type\":\"pie\"}],\"scatter3d\":[{\"line\":{\"colorbar\":{\"outlinewidth\":0,\"ticks\":\"\"}},\"marker\":{\"colorbar\":{\"outlinewidth\":0,\"ticks\":\"\"}},\"type\":\"scatter3d\"}],\"scattercarpet\":[{\"marker\":{\"colorbar\":{\"outlinewidth\":0,\"ticks\":\"\"}},\"type\":\"scattercarpet\"}],\"scattergeo\":[{\"marker\":{\"colorbar\":{\"outlinewidth\":0,\"ticks\":\"\"}},\"type\":\"scattergeo\"}],\"scattergl\":[{\"marker\":{\"colorbar\":{\"outlinewidth\":0,\"ticks\":\"\"}},\"type\":\"scattergl\"}],\"scattermapbox\":[{\"marker\":{\"colorbar\":{\"outlinewidth\":0,\"ticks\":\"\"}},\"type\":\"scattermapbox\"}],\"scatterpolargl\":[{\"marker\":{\"colorbar\":{\"outlinewidth\":0,\"ticks\":\"\"}},\"type\":\"scatterpolargl\"}],\"scatterpolar\":[{\"marker\":{\"colorbar\":{\"outlinewidth\":0,\"ticks\":\"\"}},\"type\":\"scatterpolar\"}],\"scatter\":[{\"fillpattern\":{\"fillmode\":\"overlay\",\"size\":10,\"solidity\":0.2},\"type\":\"scatter\"}],\"scatterternary\":[{\"marker\":{\"colorbar\":{\"outlinewidth\":0,\"ticks\":\"\"}},\"type\":\"scatterternary\"}],\"surface\":[{\"colorbar\":{\"outlinewidth\":0,\"ticks\":\"\"},\"colorscale\":[[0.0,\"#0d0887\"],[0.1111111111111111,\"#46039f\"],[0.2222222222222222,\"#7201a8\"],[0.3333333333333333,\"#9c179e\"],[0.4444444444444444,\"#bd3786\"],[0.5555555555555556,\"#d8576b\"],[0.6666666666666666,\"#ed7953\"],[0.7777777777777778,\"#fb9f3a\"],[0.8888888888888888,\"#fdca26\"],[1.0,\"#f0f921\"]],\"type\":\"surface\"}],\"table\":[{\"cells\":{\"fill\":{\"color\":\"#EBF0F8\"},\"line\":{\"color\":\"white\"}},\"header\":{\"fill\":{\"color\":\"#C8D4E3\"},\"line\":{\"color\":\"white\"}},\"type\":\"table\"}]},\"layout\":{\"annotationdefaults\":{\"arrowcolor\":\"#2a3f5f\",\"arrowhead\":0,\"arrowwidth\":1},\"autotypenumbers\":\"strict\",\"coloraxis\":{\"colorbar\":{\"outlinewidth\":0,\"ticks\":\"\"}},\"colorscale\":{\"diverging\":[[0,\"#8e0152\"],[0.1,\"#c51b7d\"],[0.2,\"#de77ae\"],[0.3,\"#f1b6da\"],[0.4,\"#fde0ef\"],[0.5,\"#f7f7f7\"],[0.6,\"#e6f5d0\"],[0.7,\"#b8e186\"],[0.8,\"#7fbc41\"],[0.9,\"#4d9221\"],[1,\"#276419\"]],\"sequential\":[[0.0,\"#0d0887\"],[0.1111111111111111,\"#46039f\"],[0.2222222222222222,\"#7201a8\"],[0.3333333333333333,\"#9c179e\"],[0.4444444444444444,\"#bd3786\"],[0.5555555555555556,\"#d8576b\"],[0.6666666666666666,\"#ed7953\"],[0.7777777777777778,\"#fb9f3a\"],[0.8888888888888888,\"#fdca26\"],[1.0,\"#f0f921\"]],\"sequentialminus\":[[0.0,\"#0d0887\"],[0.1111111111111111,\"#46039f\"],[0.2222222222222222,\"#7201a8\"],[0.3333333333333333,\"#9c179e\"],[0.4444444444444444,\"#bd3786\"],[0.5555555555555556,\"#d8576b\"],[0.6666666666666666,\"#ed7953\"],[0.7777777777777778,\"#fb9f3a\"],[0.8888888888888888,\"#fdca26\"],[1.0,\"#f0f921\"]]},\"colorway\":[\"#636efa\",\"#EF553B\",\"#00cc96\",\"#ab63fa\",\"#FFA15A\",\"#19d3f3\",\"#FF6692\",\"#B6E880\",\"#FF97FF\",\"#FECB52\"],\"font\":{\"color\":\"#2a3f5f\"},\"geo\":{\"bgcolor\":\"white\",\"lakecolor\":\"white\",\"landcolor\":\"#E5ECF6\",\"showlakes\":true,\"showland\":true,\"subunitcolor\":\"white\"},\"hoverlabel\":{\"align\":\"left\"},\"hovermode\":\"closest\",\"mapbox\":{\"style\":\"light\"},\"paper_bgcolor\":\"white\",\"plot_bgcolor\":\"#E5ECF6\",\"polar\":{\"angularaxis\":{\"gridcolor\":\"white\",\"linecolor\":\"white\",\"ticks\":\"\"},\"bgcolor\":\"#E5ECF6\",\"radialaxis\":{\"gridcolor\":\"white\",\"linecolor\":\"white\",\"ticks\":\"\"}},\"scene\":{\"xaxis\":{\"backgroundcolor\":\"#E5ECF6\",\"gridcolor\":\"white\",\"gridwidth\":2,\"linecolor\":\"white\",\"showbackground\":true,\"ticks\":\"\",\"zerolinecolor\":\"white\"},\"yaxis\":{\"backgroundcolor\":\"#E5ECF6\",\"gridcolor\":\"white\",\"gridwidth\":2,\"linecolor\":\"white\",\"showbackground\":true,\"ticks\":\"\",\"zerolinecolor\":\"white\"},\"zaxis\":{\"backgroundcolor\":\"#E5ECF6\",\"gridcolor\":\"white\",\"gridwidth\":2,\"linecolor\":\"white\",\"showbackground\":true,\"ticks\":\"\",\"zerolinecolor\":\"white\"}},\"shapedefaults\":{\"line\":{\"color\":\"#2a3f5f\"}},\"ternary\":{\"aaxis\":{\"gridcolor\":\"white\",\"linecolor\":\"white\",\"ticks\":\"\"},\"baxis\":{\"gridcolor\":\"white\",\"linecolor\":\"white\",\"ticks\":\"\"},\"bgcolor\":\"#E5ECF6\",\"caxis\":{\"gridcolor\":\"white\",\"linecolor\":\"white\",\"ticks\":\"\"}},\"title\":{\"x\":0.05},\"xaxis\":{\"automargin\":true,\"gridcolor\":\"white\",\"linecolor\":\"white\",\"ticks\":\"\",\"title\":{\"standoff\":15},\"zerolinecolor\":\"white\",\"zerolinewidth\":2},\"yaxis\":{\"automargin\":true,\"gridcolor\":\"white\",\"linecolor\":\"white\",\"ticks\":\"\",\"title\":{\"standoff\":15},\"zerolinecolor\":\"white\",\"zerolinewidth\":2}}},\"title\":{\"font\":{\"color\":\"#4D5663\"}},\"xaxis\":{\"gridcolor\":\"#E1E5ED\",\"showgrid\":true,\"tickfont\":{\"color\":\"#4D5663\"},\"title\":{\"font\":{\"color\":\"#4D5663\"},\"text\":\"\"},\"zerolinecolor\":\"#E1E5ED\"},\"yaxis\":{\"gridcolor\":\"#E1E5ED\",\"showgrid\":true,\"tickfont\":{\"color\":\"#4D5663\"},\"title\":{\"font\":{\"color\":\"#4D5663\"},\"text\":\"\"},\"zerolinecolor\":\"#E1E5ED\"}},                        {\"showLink\": true, \"linkText\": \"Export to plot.ly\", \"plotlyServerURL\": \"https://plot.ly\", \"responsive\": true}                    ).then(function(){\n                            \nvar gd = document.getElementById('c7e2becc-9145-4e19-8def-ce04eec47018');\nvar x = new MutationObserver(function (mutations, observer) {{\n        var display = window.getComputedStyle(gd).display;\n        if (!display || display === 'none') {{\n            console.log([gd, 'removed!']);\n            Plotly.purge(gd);\n            observer.disconnect();\n        }}\n}});\n\n// Listen for the removal of the full notebook cells\nvar notebookContainer = gd.closest('#notebook-container');\nif (notebookContainer) {{\n    x.observe(notebookContainer, {childList: true});\n}}\n\n// Listen for the clearing of the current output cell\nvar outputEl = gd.closest('.output');\nif (outputEl) {{\n    x.observe(outputEl, {childList: true});\n}}\n\n                        })                };                });            </script>        </div>"
     },
     "metadata": {},
     "output_type": "display_data"
    }
   ],
   "source": [
    "df.sum().iplot(kind='bar')"
   ],
   "metadata": {
    "collapsed": false,
    "pycharm": {
     "name": "#%%\n"
    }
   }
  },
  {
   "cell_type": "code",
   "execution_count": 41,
   "outputs": [
    {
     "data": {
      "application/vnd.plotly.v1+json": {
       "data": [
        {
         "boxpoints": false,
         "line": {
          "width": 1.3
         },
         "marker": {
          "color": "rgba(255, 153, 51, 1.0)"
         },
         "name": "A",
         "orientation": "v",
         "y": [
          0.28294306242083767,
          0.7968335417349354,
          0.6029639109107471,
          -1.5650465702073828,
          1.304012469593769,
          -0.7189638548328962,
          -0.8342772051709019,
          0.22903038848035023,
          -0.5555919147143817,
          1.4140028785570107,
          0.94608625189099,
          0.9475932345276445,
          0.23210000912619144,
          -0.2017794680697094,
          -1.4990317076611852,
          -0.7842492198303922,
          -1.3121806301629386,
          -1.5962284515435832,
          0.2657376571207234,
          -0.7577841855650336,
          0.39706212625730386,
          0.6073528236931202,
          0.5706027636271244,
          0.18683438249342266,
          -0.7940508543522877,
          -0.6444701200418613,
          -0.2110685265220033,
          -0.21394613693218092,
          0.4534506074097498,
          2.438321983713647,
          -1.2396923531952755,
          -1.0338891895089748,
          -1.8686878644477178,
          1.4426106451051863,
          1.3829077973469637,
          -0.9318189639747426,
          -1.351996586738685,
          1.5595608061328485,
          -0.04392079133593794,
          -0.3249146952228359,
          -0.3561904783582894,
          -0.23101513575681648,
          0.08360620220848271,
          -0.2775960238257498,
          0.1827848967298999,
          0.526474067214003,
          2.8941246385052737,
          0.3513291582553594,
          1.4747419625145186,
          0.8114972050269655,
          0.3904436172676149,
          0.5863844172483037,
          0.132548984097949,
          -0.008685401418308297,
          1.5120385158724081,
          -0.30670267379703225,
          -1.4923253483617496,
          0.4802337079853066,
          -0.16507077011425983,
          -2.0560055890795237,
          0.10582411220975962,
          2.060496097844001,
          0.8634647915354526,
          -0.3039246066953029,
          0.1229316646230268,
          -0.038431626183908746,
          -1.5625482329206086,
          0.8026387183329571,
          -1.0443326064301137,
          -1.7441282157838378,
          0.4085613297272926,
          1.1314362749851863,
          -0.9655028773082579,
          0.6140978821152564,
          -0.6593952533441673,
          -0.34343935659321273,
          0.4034289175552191,
          1.104816451182827,
          0.3878510482013112,
          -0.743700172880391,
          -0.42968150080935014,
          -0.9391664628727731,
          -0.5884295473521228,
          -0.7177875423794414,
          2.1228794383459997,
          -0.4975295949320428,
          1.5496946784360939,
          -0.1603496989445274,
          -1.567367392800217,
          -0.1371889550701248,
          1.1782392321059363,
          -0.22356969222959078,
          -0.5950862468932329,
          0.7425841600024924,
          0.12691537384773105,
          -2.0104992712368546,
          0.9657266887418268,
          0.43111491937499125,
          -1.1636538720055476,
          5.153381097441173E-4
         ],
         "type": "box"
        },
        {
         "boxpoints": false,
         "line": {
          "width": 1.3
         },
         "marker": {
          "color": "rgba(55, 128, 191, 1.0)"
         },
         "name": "B",
         "orientation": "v",
         "y": [
          1.7657644339687022,
          0.40152524610963597,
          -0.6490441381987168,
          -0.06690985466349718,
          -1.3836260446239395,
          -1.2828230670369736,
          1.641103044752528,
          0.02950549536361005,
          -2.1318721666960796,
          -1.0425706714763656,
          -0.6881285360861475,
          0.7129372647011848,
          -0.41299957821847816,
          0.764715578317224,
          1.6320799119277163,
          0.6648963455373257,
          1.502186292770685,
          0.5717155903686859,
          -0.08096115022213794,
          1.6688301430783008,
          1.099781650299211,
          0.8677669207363187,
          -0.049835760740421294,
          -0.7937881637743242,
          -1.6797130681383161,
          -0.8745572359960498,
          -0.09444092644838366,
          1.25026970101619,
          -2.0408326288783494,
          0.40818850602513895,
          0.9625915949894845,
          0.19149098777623977,
          -0.5412840448442139,
          -0.9668667448686264,
          0.5369895159344095,
          0.4583338589453875,
          -0.0073253076901911825,
          -0.1696692115072209,
          -0.19499724667941787,
          -0.9760650430864394,
          0.45399599089019094,
          -1.438388683371131,
          -0.030663865329517898,
          -1.5185179787148289,
          -0.27104235629081364,
          1.2370207940253466,
          0.17549520318780185,
          -0.422093343206613,
          0.8053032459521436,
          1.1307406125923145,
          -1.2661415921852701,
          0.6825205226610233,
          -0.6866233951233202,
          -1.7648581385983473,
          -1.1252794765269931,
          -1.4694753261250473,
          0.4183908398921806,
          -0.8084090371479645,
          0.8278362870211943,
          -0.38093806077119186,
          2.1232446144391943,
          -0.7157103234847048,
          1.153458938556494,
          -0.8796592512734447,
          0.644698021217474,
          0.5279713712717733,
          2.418904656614257,
          -1.7570416086898197,
          0.6994030201855514,
          -0.02822940865389242,
          0.23331442504654712,
          -0.7184573666523312,
          0.28763082108987026,
          0.9558194586851085,
          -1.1307744435339449,
          0.5961646009260254,
          0.29319217653563767,
          -1.1388899044232315,
          -0.7596053768042313,
          -0.4300073438081864,
          0.6244910560352827,
          0.8010163299977416,
          -0.8568211136062038,
          -0.7896100550557182,
          -0.9629249914457718,
          -0.43639411199462874,
          0.001555813000358842,
          -0.17681091563059353,
          -0.5321232495662198,
          0.9130347810077699,
          0.14999294028596566,
          0.28951203578929724,
          -0.19401209846592063,
          -1.2577957050234982,
          0.5077320337947091,
          -0.5621704955948704,
          -0.7793490945044861,
          -0.15103745501382332,
          0.2372061381731799,
          -2.670105086556007
         ],
         "type": "box"
        },
        {
         "boxpoints": false,
         "line": {
          "width": 1.3
         },
         "marker": {
          "color": "rgba(50, 171, 96, 1.0)"
         },
         "name": "C",
         "orientation": "v",
         "y": [
          1.9688512544483658,
          -0.4670637559025583,
          0.21254837098282703,
          -0.6516910209747601,
          0.5283780997882954,
          -1.2545542878657616,
          1.6196262049773122,
          -0.0801112350530872,
          -0.7475681227771004,
          0.24469448167629484,
          1.6293306874438243,
          -0.47887637572466163,
          1.188573074681109,
          -0.7866333001968231,
          0.31334116043312854,
          -0.04375166465709195,
          1.098106114839438,
          -0.6922329600140962,
          -0.08678247966329718,
          0.5916321638693771,
          0.5579565061049254,
          -0.42895243549659184,
          -1.0104381884188447,
          -0.04696434665995022,
          0.5255970409910206,
          -0.7692651839125656,
          -1.1831886025318505,
          -0.6098739873848457,
          0.200073280459851,
          0.35597959402749435,
          -1.0292670748632338,
          -2.7344802203594774,
          -1.9441523009659971,
          0.7664776115849087,
          0.1400537725754366,
          -0.05918159770352548,
          0.4147534739976277,
          -1.2948571424125193,
          0.3112117882655775,
          0.4244149300520934,
          -0.5285500823654952,
          1.1928624338539995,
          -0.5399231120915295,
          -2.107949793256516,
          -0.23417733605514487,
          -0.9429631778221665,
          -0.243928139249279,
          -0.7478968352502519,
          -2.1254677052723223,
          1.7849810984402206,
          -0.4496865266673635,
          0.4747596939931916,
          1.7597641814292622,
          2.2169333470703787,
          0.23712303060237905,
          0.7174429594687959,
          0.37119755461333565,
          0.23200153316338043,
          0.002307375506775622,
          -0.34379379002474475,
          -0.8362242041614424,
          0.693635298620592,
          1.5270303697667875,
          -0.5615117770353253,
          -0.4507910051518651,
          2.51222992189218,
          0.3743225171633774,
          -0.6613744747982596,
          -1.0765990318372107,
          -0.9498751295308068,
          -0.20863538597655457,
          -1.2243447350782934,
          -0.22068181642592458,
          -0.9684415650560166,
          0.125433771321192,
          -0.4480610459423625,
          -0.11039472512050559,
          1.631880303908501,
          -0.24522734417462194,
          -0.46818678858719415,
          -0.022683988280568904,
          0.5677990973495867,
          0.5837045662577841,
          0.04390125624770037,
          0.21052547505528604,
          -1.0780123528381345,
          -0.09850335676066076,
          0.858282999570995,
          -0.3403900020407947,
          0.5806164343650096,
          0.15819115598443267,
          0.6058230389773845,
          -0.46653901272156106,
          0.06218512014908821,
          0.811881185608445,
          0.47530021700031944,
          0.8139384613908115,
          -0.014767467695816593,
          0.10243941126630765,
          0.41556612363657
         ],
         "type": "box"
        },
        {
         "boxpoints": false,
         "line": {
          "width": 1.3
         },
         "marker": {
          "color": "rgba(128, 0, 128, 1.0)"
         },
         "name": "D",
         "orientation": "v",
         "y": [
          -1.098285288430023,
          0.14958184404167088,
          1.2461298679584585,
          0.1606633336917265,
          -1.064338879728997,
          0.348695820548867,
          1.262583843295249,
          -0.2652580066333978,
          -2.3186208013452423,
          0.5680034377426191,
          0.8338783569185281,
          -0.09585283640443476,
          -0.46464390932887145,
          -2.2972444978095994,
          2.183909433297379,
          -0.013972018416402835,
          -0.7126676632467435,
          0.22922192628897645,
          1.637605005809018,
          -0.5135535537717857,
          -0.9261790276114082,
          4.174738246936915,
          -2.1935206929409814,
          2.1005090209585315,
          0.888072400808627,
          -0.1984147753111766,
          -0.6060905714943685,
          -1.378091241350273,
          0.10749483146196324,
          -1.0123953977752262,
          0.09650733283282696,
          -1.2731302613177875,
          -0.4085654017370767,
          0.2065593374355364,
          0.5219102699111029,
          0.23253206010127903,
          0.8022753480334646,
          -0.7626616617721025,
          -3.1738291113978567,
          -1.6674810426247788,
          -1.1462399692068828,
          1.0907686369810152,
          -0.5378591090951689,
          0.4648710366387402,
          0.23158383235184826,
          -1.8685527054804556,
          -0.0677166558648092,
          0.9547035877335902,
          0.2736767899790965,
          -0.24510439633762685,
          1.8287532241266817,
          -0.9869759895749884,
          -0.8388354194328247,
          1.5022029095222333,
          0.611225234255143,
          -0.24614466274467448,
          0.43233252564391855,
          -1.0501994517387059,
          -0.8457157432194893,
          0.6255056240299353,
          0.15667749966855699,
          -0.4537303101034507,
          0.18872694836491294,
          1.7568123950413166,
          -0.30484909598802196,
          -0.03899430760080177,
          0.9187544549747515,
          0.5770909461636848,
          0.21081839895770305,
          -0.09285429791354204,
          0.25446224307737236,
          -0.7419890916278661,
          -0.009095920170494667,
          0.25596074176293654,
          -0.025723841005877705,
          0.7031950797014404,
          0.6907715831130319,
          -1.7153935493262509,
          -0.25408157808083154,
          1.1979840271940898,
          2.951036676812776,
          2.1671358251555866,
          -0.6410759273752508,
          0.339982431884618,
          0.11364826400115999,
          -0.7934179783598645,
          -0.8679177248664283,
          -1.4627692201330509,
          -2.5736579742436296,
          -1.3397880382466327,
          0.3491660530251151,
          0.2569914029439571,
          -0.7460985291208861,
          -0.7465245013540494,
          -0.8097864569083478,
          -0.5456804041774364,
          0.5808559193030063,
          -0.536706453502714,
          0.6344186541349182,
          -0.5613980713435446
         ],
         "type": "box"
        }
       ],
       "layout": {
        "legend": {
         "bgcolor": "#F5F6F9",
         "font": {
          "color": "#4D5663"
         }
        },
        "paper_bgcolor": "#F5F6F9",
        "plot_bgcolor": "#F5F6F9",
        "template": {
         "data": {
          "barpolar": [
           {
            "marker": {
             "line": {
              "color": "#E5ECF6",
              "width": 0.5
             },
             "pattern": {
              "fillmode": "overlay",
              "size": 10,
              "solidity": 0.2
             }
            },
            "type": "barpolar"
           }
          ],
          "bar": [
           {
            "error_x": {
             "color": "#2a3f5f"
            },
            "error_y": {
             "color": "#2a3f5f"
            },
            "marker": {
             "line": {
              "color": "#E5ECF6",
              "width": 0.5
             },
             "pattern": {
              "fillmode": "overlay",
              "size": 10,
              "solidity": 0.2
             }
            },
            "type": "bar"
           }
          ],
          "carpet": [
           {
            "aaxis": {
             "endlinecolor": "#2a3f5f",
             "gridcolor": "white",
             "linecolor": "white",
             "minorgridcolor": "white",
             "startlinecolor": "#2a3f5f"
            },
            "baxis": {
             "endlinecolor": "#2a3f5f",
             "gridcolor": "white",
             "linecolor": "white",
             "minorgridcolor": "white",
             "startlinecolor": "#2a3f5f"
            },
            "type": "carpet"
           }
          ],
          "choropleth": [
           {
            "colorbar": {
             "outlinewidth": 0,
             "ticks": ""
            },
            "type": "choropleth"
           }
          ],
          "contourcarpet": [
           {
            "colorbar": {
             "outlinewidth": 0,
             "ticks": ""
            },
            "type": "contourcarpet"
           }
          ],
          "contour": [
           {
            "colorbar": {
             "outlinewidth": 0,
             "ticks": ""
            },
            "colorscale": [
             [
              0.0,
              "#0d0887"
             ],
             [
              0.1111111111111111,
              "#46039f"
             ],
             [
              0.2222222222222222,
              "#7201a8"
             ],
             [
              0.3333333333333333,
              "#9c179e"
             ],
             [
              0.4444444444444444,
              "#bd3786"
             ],
             [
              0.5555555555555556,
              "#d8576b"
             ],
             [
              0.6666666666666666,
              "#ed7953"
             ],
             [
              0.7777777777777778,
              "#fb9f3a"
             ],
             [
              0.8888888888888888,
              "#fdca26"
             ],
             [
              1.0,
              "#f0f921"
             ]
            ],
            "type": "contour"
           }
          ],
          "heatmapgl": [
           {
            "colorbar": {
             "outlinewidth": 0,
             "ticks": ""
            },
            "colorscale": [
             [
              0.0,
              "#0d0887"
             ],
             [
              0.1111111111111111,
              "#46039f"
             ],
             [
              0.2222222222222222,
              "#7201a8"
             ],
             [
              0.3333333333333333,
              "#9c179e"
             ],
             [
              0.4444444444444444,
              "#bd3786"
             ],
             [
              0.5555555555555556,
              "#d8576b"
             ],
             [
              0.6666666666666666,
              "#ed7953"
             ],
             [
              0.7777777777777778,
              "#fb9f3a"
             ],
             [
              0.8888888888888888,
              "#fdca26"
             ],
             [
              1.0,
              "#f0f921"
             ]
            ],
            "type": "heatmapgl"
           }
          ],
          "heatmap": [
           {
            "colorbar": {
             "outlinewidth": 0,
             "ticks": ""
            },
            "colorscale": [
             [
              0.0,
              "#0d0887"
             ],
             [
              0.1111111111111111,
              "#46039f"
             ],
             [
              0.2222222222222222,
              "#7201a8"
             ],
             [
              0.3333333333333333,
              "#9c179e"
             ],
             [
              0.4444444444444444,
              "#bd3786"
             ],
             [
              0.5555555555555556,
              "#d8576b"
             ],
             [
              0.6666666666666666,
              "#ed7953"
             ],
             [
              0.7777777777777778,
              "#fb9f3a"
             ],
             [
              0.8888888888888888,
              "#fdca26"
             ],
             [
              1.0,
              "#f0f921"
             ]
            ],
            "type": "heatmap"
           }
          ],
          "histogram2dcontour": [
           {
            "colorbar": {
             "outlinewidth": 0,
             "ticks": ""
            },
            "colorscale": [
             [
              0.0,
              "#0d0887"
             ],
             [
              0.1111111111111111,
              "#46039f"
             ],
             [
              0.2222222222222222,
              "#7201a8"
             ],
             [
              0.3333333333333333,
              "#9c179e"
             ],
             [
              0.4444444444444444,
              "#bd3786"
             ],
             [
              0.5555555555555556,
              "#d8576b"
             ],
             [
              0.6666666666666666,
              "#ed7953"
             ],
             [
              0.7777777777777778,
              "#fb9f3a"
             ],
             [
              0.8888888888888888,
              "#fdca26"
             ],
             [
              1.0,
              "#f0f921"
             ]
            ],
            "type": "histogram2dcontour"
           }
          ],
          "histogram2d": [
           {
            "colorbar": {
             "outlinewidth": 0,
             "ticks": ""
            },
            "colorscale": [
             [
              0.0,
              "#0d0887"
             ],
             [
              0.1111111111111111,
              "#46039f"
             ],
             [
              0.2222222222222222,
              "#7201a8"
             ],
             [
              0.3333333333333333,
              "#9c179e"
             ],
             [
              0.4444444444444444,
              "#bd3786"
             ],
             [
              0.5555555555555556,
              "#d8576b"
             ],
             [
              0.6666666666666666,
              "#ed7953"
             ],
             [
              0.7777777777777778,
              "#fb9f3a"
             ],
             [
              0.8888888888888888,
              "#fdca26"
             ],
             [
              1.0,
              "#f0f921"
             ]
            ],
            "type": "histogram2d"
           }
          ],
          "histogram": [
           {
            "marker": {
             "pattern": {
              "fillmode": "overlay",
              "size": 10,
              "solidity": 0.2
             }
            },
            "type": "histogram"
           }
          ],
          "mesh3d": [
           {
            "colorbar": {
             "outlinewidth": 0,
             "ticks": ""
            },
            "type": "mesh3d"
           }
          ],
          "parcoords": [
           {
            "line": {
             "colorbar": {
              "outlinewidth": 0,
              "ticks": ""
             }
            },
            "type": "parcoords"
           }
          ],
          "pie": [
           {
            "automargin": true,
            "type": "pie"
           }
          ],
          "scatter3d": [
           {
            "line": {
             "colorbar": {
              "outlinewidth": 0,
              "ticks": ""
             }
            },
            "marker": {
             "colorbar": {
              "outlinewidth": 0,
              "ticks": ""
             }
            },
            "type": "scatter3d"
           }
          ],
          "scattercarpet": [
           {
            "marker": {
             "colorbar": {
              "outlinewidth": 0,
              "ticks": ""
             }
            },
            "type": "scattercarpet"
           }
          ],
          "scattergeo": [
           {
            "marker": {
             "colorbar": {
              "outlinewidth": 0,
              "ticks": ""
             }
            },
            "type": "scattergeo"
           }
          ],
          "scattergl": [
           {
            "marker": {
             "colorbar": {
              "outlinewidth": 0,
              "ticks": ""
             }
            },
            "type": "scattergl"
           }
          ],
          "scattermapbox": [
           {
            "marker": {
             "colorbar": {
              "outlinewidth": 0,
              "ticks": ""
             }
            },
            "type": "scattermapbox"
           }
          ],
          "scatterpolargl": [
           {
            "marker": {
             "colorbar": {
              "outlinewidth": 0,
              "ticks": ""
             }
            },
            "type": "scatterpolargl"
           }
          ],
          "scatterpolar": [
           {
            "marker": {
             "colorbar": {
              "outlinewidth": 0,
              "ticks": ""
             }
            },
            "type": "scatterpolar"
           }
          ],
          "scatter": [
           {
            "fillpattern": {
             "fillmode": "overlay",
             "size": 10,
             "solidity": 0.2
            },
            "type": "scatter"
           }
          ],
          "scatterternary": [
           {
            "marker": {
             "colorbar": {
              "outlinewidth": 0,
              "ticks": ""
             }
            },
            "type": "scatterternary"
           }
          ],
          "surface": [
           {
            "colorbar": {
             "outlinewidth": 0,
             "ticks": ""
            },
            "colorscale": [
             [
              0.0,
              "#0d0887"
             ],
             [
              0.1111111111111111,
              "#46039f"
             ],
             [
              0.2222222222222222,
              "#7201a8"
             ],
             [
              0.3333333333333333,
              "#9c179e"
             ],
             [
              0.4444444444444444,
              "#bd3786"
             ],
             [
              0.5555555555555556,
              "#d8576b"
             ],
             [
              0.6666666666666666,
              "#ed7953"
             ],
             [
              0.7777777777777778,
              "#fb9f3a"
             ],
             [
              0.8888888888888888,
              "#fdca26"
             ],
             [
              1.0,
              "#f0f921"
             ]
            ],
            "type": "surface"
           }
          ],
          "table": [
           {
            "cells": {
             "fill": {
              "color": "#EBF0F8"
             },
             "line": {
              "color": "white"
             }
            },
            "header": {
             "fill": {
              "color": "#C8D4E3"
             },
             "line": {
              "color": "white"
             }
            },
            "type": "table"
           }
          ]
         },
         "layout": {
          "annotationdefaults": {
           "arrowcolor": "#2a3f5f",
           "arrowhead": 0,
           "arrowwidth": 1
          },
          "autotypenumbers": "strict",
          "coloraxis": {
           "colorbar": {
            "outlinewidth": 0,
            "ticks": ""
           }
          },
          "colorscale": {
           "diverging": [
            [
             0,
             "#8e0152"
            ],
            [
             0.1,
             "#c51b7d"
            ],
            [
             0.2,
             "#de77ae"
            ],
            [
             0.3,
             "#f1b6da"
            ],
            [
             0.4,
             "#fde0ef"
            ],
            [
             0.5,
             "#f7f7f7"
            ],
            [
             0.6,
             "#e6f5d0"
            ],
            [
             0.7,
             "#b8e186"
            ],
            [
             0.8,
             "#7fbc41"
            ],
            [
             0.9,
             "#4d9221"
            ],
            [
             1,
             "#276419"
            ]
           ],
           "sequential": [
            [
             0.0,
             "#0d0887"
            ],
            [
             0.1111111111111111,
             "#46039f"
            ],
            [
             0.2222222222222222,
             "#7201a8"
            ],
            [
             0.3333333333333333,
             "#9c179e"
            ],
            [
             0.4444444444444444,
             "#bd3786"
            ],
            [
             0.5555555555555556,
             "#d8576b"
            ],
            [
             0.6666666666666666,
             "#ed7953"
            ],
            [
             0.7777777777777778,
             "#fb9f3a"
            ],
            [
             0.8888888888888888,
             "#fdca26"
            ],
            [
             1.0,
             "#f0f921"
            ]
           ],
           "sequentialminus": [
            [
             0.0,
             "#0d0887"
            ],
            [
             0.1111111111111111,
             "#46039f"
            ],
            [
             0.2222222222222222,
             "#7201a8"
            ],
            [
             0.3333333333333333,
             "#9c179e"
            ],
            [
             0.4444444444444444,
             "#bd3786"
            ],
            [
             0.5555555555555556,
             "#d8576b"
            ],
            [
             0.6666666666666666,
             "#ed7953"
            ],
            [
             0.7777777777777778,
             "#fb9f3a"
            ],
            [
             0.8888888888888888,
             "#fdca26"
            ],
            [
             1.0,
             "#f0f921"
            ]
           ]
          },
          "colorway": [
           "#636efa",
           "#EF553B",
           "#00cc96",
           "#ab63fa",
           "#FFA15A",
           "#19d3f3",
           "#FF6692",
           "#B6E880",
           "#FF97FF",
           "#FECB52"
          ],
          "font": {
           "color": "#2a3f5f"
          },
          "geo": {
           "bgcolor": "white",
           "lakecolor": "white",
           "landcolor": "#E5ECF6",
           "showlakes": true,
           "showland": true,
           "subunitcolor": "white"
          },
          "hoverlabel": {
           "align": "left"
          },
          "hovermode": "closest",
          "mapbox": {
           "style": "light"
          },
          "paper_bgcolor": "white",
          "plot_bgcolor": "#E5ECF6",
          "polar": {
           "angularaxis": {
            "gridcolor": "white",
            "linecolor": "white",
            "ticks": ""
           },
           "bgcolor": "#E5ECF6",
           "radialaxis": {
            "gridcolor": "white",
            "linecolor": "white",
            "ticks": ""
           }
          },
          "scene": {
           "xaxis": {
            "backgroundcolor": "#E5ECF6",
            "gridcolor": "white",
            "gridwidth": 2,
            "linecolor": "white",
            "showbackground": true,
            "ticks": "",
            "zerolinecolor": "white"
           },
           "yaxis": {
            "backgroundcolor": "#E5ECF6",
            "gridcolor": "white",
            "gridwidth": 2,
            "linecolor": "white",
            "showbackground": true,
            "ticks": "",
            "zerolinecolor": "white"
           },
           "zaxis": {
            "backgroundcolor": "#E5ECF6",
            "gridcolor": "white",
            "gridwidth": 2,
            "linecolor": "white",
            "showbackground": true,
            "ticks": "",
            "zerolinecolor": "white"
           }
          },
          "shapedefaults": {
           "line": {
            "color": "#2a3f5f"
           }
          },
          "ternary": {
           "aaxis": {
            "gridcolor": "white",
            "linecolor": "white",
            "ticks": ""
           },
           "baxis": {
            "gridcolor": "white",
            "linecolor": "white",
            "ticks": ""
           },
           "bgcolor": "#E5ECF6",
           "caxis": {
            "gridcolor": "white",
            "linecolor": "white",
            "ticks": ""
           }
          },
          "title": {
           "x": 0.05
          },
          "xaxis": {
           "automargin": true,
           "gridcolor": "white",
           "linecolor": "white",
           "ticks": "",
           "title": {
            "standoff": 15
           },
           "zerolinecolor": "white",
           "zerolinewidth": 2
          },
          "yaxis": {
           "automargin": true,
           "gridcolor": "white",
           "linecolor": "white",
           "ticks": "",
           "title": {
            "standoff": 15
           },
           "zerolinecolor": "white",
           "zerolinewidth": 2
          }
         }
        },
        "title": {
         "font": {
          "color": "#4D5663"
         }
        },
        "xaxis": {
         "gridcolor": "#E1E5ED",
         "showgrid": true,
         "tickfont": {
          "color": "#4D5663"
         },
         "title": {
          "font": {
           "color": "#4D5663"
          },
          "text": ""
         },
         "zerolinecolor": "#E1E5ED"
        },
        "yaxis": {
         "gridcolor": "#E1E5ED",
         "showgrid": true,
         "tickfont": {
          "color": "#4D5663"
         },
         "title": {
          "font": {
           "color": "#4D5663"
          },
          "text": ""
         },
         "zerolinecolor": "#E1E5ED"
        }
       },
       "config": {
        "showLink": true,
        "linkText": "Export to plot.ly",
        "plotlyServerURL": "https://plot.ly"
       }
      },
      "text/html": "<div>                            <div id=\"540d2e02-5887-40a7-b164-5e1192c4dc82\" class=\"plotly-graph-div\" style=\"height:525px; width:100%;\"></div>            <script type=\"text/javascript\">                require([\"plotly\"], function(Plotly) {                    window.PLOTLYENV=window.PLOTLYENV || {};\n                    window.PLOTLYENV.BASE_URL='https://plot.ly';                                    if (document.getElementById(\"540d2e02-5887-40a7-b164-5e1192c4dc82\")) {                    Plotly.newPlot(                        \"540d2e02-5887-40a7-b164-5e1192c4dc82\",                        [{\"boxpoints\":false,\"line\":{\"width\":1.3},\"marker\":{\"color\":\"rgba(255, 153, 51, 1.0)\"},\"name\":\"A\",\"orientation\":\"v\",\"y\":[0.28294306242083767,0.7968335417349354,0.6029639109107471,-1.5650465702073828,1.304012469593769,-0.7189638548328962,-0.8342772051709019,0.22903038848035023,-0.5555919147143817,1.4140028785570107,0.94608625189099,0.9475932345276445,0.23210000912619144,-0.2017794680697094,-1.4990317076611852,-0.7842492198303922,-1.3121806301629386,-1.5962284515435832,0.2657376571207234,-0.7577841855650336,0.39706212625730386,0.6073528236931202,0.5706027636271244,0.18683438249342266,-0.7940508543522877,-0.6444701200418613,-0.2110685265220033,-0.21394613693218092,0.4534506074097498,2.438321983713647,-1.2396923531952755,-1.0338891895089748,-1.8686878644477178,1.4426106451051863,1.3829077973469637,-0.9318189639747426,-1.351996586738685,1.5595608061328485,-0.04392079133593794,-0.3249146952228359,-0.3561904783582894,-0.23101513575681648,0.08360620220848271,-0.2775960238257498,0.1827848967298999,0.526474067214003,2.8941246385052737,0.3513291582553594,1.4747419625145186,0.8114972050269655,0.3904436172676149,0.5863844172483037,0.132548984097949,-0.008685401418308297,1.5120385158724081,-0.30670267379703225,-1.4923253483617496,0.4802337079853066,-0.16507077011425983,-2.0560055890795237,0.10582411220975962,2.060496097844001,0.8634647915354526,-0.3039246066953029,0.1229316646230268,-0.038431626183908746,-1.5625482329206086,0.8026387183329571,-1.0443326064301137,-1.7441282157838378,0.4085613297272926,1.1314362749851863,-0.9655028773082579,0.6140978821152564,-0.6593952533441673,-0.34343935659321273,0.4034289175552191,1.104816451182827,0.3878510482013112,-0.743700172880391,-0.42968150080935014,-0.9391664628727731,-0.5884295473521228,-0.7177875423794414,2.1228794383459997,-0.4975295949320428,1.5496946784360939,-0.1603496989445274,-1.567367392800217,-0.1371889550701248,1.1782392321059363,-0.22356969222959078,-0.5950862468932329,0.7425841600024924,0.12691537384773105,-2.0104992712368546,0.9657266887418268,0.43111491937499125,-1.1636538720055476,0.0005153381097441173],\"type\":\"box\"},{\"boxpoints\":false,\"line\":{\"width\":1.3},\"marker\":{\"color\":\"rgba(55, 128, 191, 1.0)\"},\"name\":\"B\",\"orientation\":\"v\",\"y\":[1.7657644339687022,0.40152524610963597,-0.6490441381987168,-0.06690985466349718,-1.3836260446239395,-1.2828230670369736,1.641103044752528,0.02950549536361005,-2.1318721666960796,-1.0425706714763656,-0.6881285360861475,0.7129372647011848,-0.41299957821847816,0.764715578317224,1.6320799119277163,0.6648963455373257,1.502186292770685,0.5717155903686859,-0.08096115022213794,1.6688301430783008,1.099781650299211,0.8677669207363187,-0.049835760740421294,-0.7937881637743242,-1.6797130681383161,-0.8745572359960498,-0.09444092644838366,1.25026970101619,-2.0408326288783494,0.40818850602513895,0.9625915949894845,0.19149098777623977,-0.5412840448442139,-0.9668667448686264,0.5369895159344095,0.4583338589453875,-0.0073253076901911825,-0.1696692115072209,-0.19499724667941787,-0.9760650430864394,0.45399599089019094,-1.438388683371131,-0.030663865329517898,-1.5185179787148289,-0.27104235629081364,1.2370207940253466,0.17549520318780185,-0.422093343206613,0.8053032459521436,1.1307406125923145,-1.2661415921852701,0.6825205226610233,-0.6866233951233202,-1.7648581385983473,-1.1252794765269931,-1.4694753261250473,0.4183908398921806,-0.8084090371479645,0.8278362870211943,-0.38093806077119186,2.1232446144391943,-0.7157103234847048,1.153458938556494,-0.8796592512734447,0.644698021217474,0.5279713712717733,2.418904656614257,-1.7570416086898197,0.6994030201855514,-0.02822940865389242,0.23331442504654712,-0.7184573666523312,0.28763082108987026,0.9558194586851085,-1.1307744435339449,0.5961646009260254,0.29319217653563767,-1.1388899044232315,-0.7596053768042313,-0.4300073438081864,0.6244910560352827,0.8010163299977416,-0.8568211136062038,-0.7896100550557182,-0.9629249914457718,-0.43639411199462874,0.001555813000358842,-0.17681091563059353,-0.5321232495662198,0.9130347810077699,0.14999294028596566,0.28951203578929724,-0.19401209846592063,-1.2577957050234982,0.5077320337947091,-0.5621704955948704,-0.7793490945044861,-0.15103745501382332,0.2372061381731799,-2.670105086556007],\"type\":\"box\"},{\"boxpoints\":false,\"line\":{\"width\":1.3},\"marker\":{\"color\":\"rgba(50, 171, 96, 1.0)\"},\"name\":\"C\",\"orientation\":\"v\",\"y\":[1.9688512544483658,-0.4670637559025583,0.21254837098282703,-0.6516910209747601,0.5283780997882954,-1.2545542878657616,1.6196262049773122,-0.0801112350530872,-0.7475681227771004,0.24469448167629484,1.6293306874438243,-0.47887637572466163,1.188573074681109,-0.7866333001968231,0.31334116043312854,-0.04375166465709195,1.098106114839438,-0.6922329600140962,-0.08678247966329718,0.5916321638693771,0.5579565061049254,-0.42895243549659184,-1.0104381884188447,-0.04696434665995022,0.5255970409910206,-0.7692651839125656,-1.1831886025318505,-0.6098739873848457,0.200073280459851,0.35597959402749435,-1.0292670748632338,-2.7344802203594774,-1.9441523009659971,0.7664776115849087,0.1400537725754366,-0.05918159770352548,0.4147534739976277,-1.2948571424125193,0.3112117882655775,0.4244149300520934,-0.5285500823654952,1.1928624338539995,-0.5399231120915295,-2.107949793256516,-0.23417733605514487,-0.9429631778221665,-0.243928139249279,-0.7478968352502519,-2.1254677052723223,1.7849810984402206,-0.4496865266673635,0.4747596939931916,1.7597641814292622,2.2169333470703787,0.23712303060237905,0.7174429594687959,0.37119755461333565,0.23200153316338043,0.002307375506775622,-0.34379379002474475,-0.8362242041614424,0.693635298620592,1.5270303697667875,-0.5615117770353253,-0.4507910051518651,2.51222992189218,0.3743225171633774,-0.6613744747982596,-1.0765990318372107,-0.9498751295308068,-0.20863538597655457,-1.2243447350782934,-0.22068181642592458,-0.9684415650560166,0.125433771321192,-0.4480610459423625,-0.11039472512050559,1.631880303908501,-0.24522734417462194,-0.46818678858719415,-0.022683988280568904,0.5677990973495867,0.5837045662577841,0.04390125624770037,0.21052547505528604,-1.0780123528381345,-0.09850335676066076,0.858282999570995,-0.3403900020407947,0.5806164343650096,0.15819115598443267,0.6058230389773845,-0.46653901272156106,0.06218512014908821,0.811881185608445,0.47530021700031944,0.8139384613908115,-0.014767467695816593,0.10243941126630765,0.41556612363657],\"type\":\"box\"},{\"boxpoints\":false,\"line\":{\"width\":1.3},\"marker\":{\"color\":\"rgba(128, 0, 128, 1.0)\"},\"name\":\"D\",\"orientation\":\"v\",\"y\":[-1.098285288430023,0.14958184404167088,1.2461298679584585,0.1606633336917265,-1.064338879728997,0.348695820548867,1.262583843295249,-0.2652580066333978,-2.3186208013452423,0.5680034377426191,0.8338783569185281,-0.09585283640443476,-0.46464390932887145,-2.2972444978095994,2.183909433297379,-0.013972018416402835,-0.7126676632467435,0.22922192628897645,1.637605005809018,-0.5135535537717857,-0.9261790276114082,4.174738246936915,-2.1935206929409814,2.1005090209585315,0.888072400808627,-0.1984147753111766,-0.6060905714943685,-1.378091241350273,0.10749483146196324,-1.0123953977752262,0.09650733283282696,-1.2731302613177875,-0.4085654017370767,0.2065593374355364,0.5219102699111029,0.23253206010127903,0.8022753480334646,-0.7626616617721025,-3.1738291113978567,-1.6674810426247788,-1.1462399692068828,1.0907686369810152,-0.5378591090951689,0.4648710366387402,0.23158383235184826,-1.8685527054804556,-0.0677166558648092,0.9547035877335902,0.2736767899790965,-0.24510439633762685,1.8287532241266817,-0.9869759895749884,-0.8388354194328247,1.5022029095222333,0.611225234255143,-0.24614466274467448,0.43233252564391855,-1.0501994517387059,-0.8457157432194893,0.6255056240299353,0.15667749966855699,-0.4537303101034507,0.18872694836491294,1.7568123950413166,-0.30484909598802196,-0.03899430760080177,0.9187544549747515,0.5770909461636848,0.21081839895770305,-0.09285429791354204,0.25446224307737236,-0.7419890916278661,-0.009095920170494667,0.25596074176293654,-0.025723841005877705,0.7031950797014404,0.6907715831130319,-1.7153935493262509,-0.25408157808083154,1.1979840271940898,2.951036676812776,2.1671358251555866,-0.6410759273752508,0.339982431884618,0.11364826400115999,-0.7934179783598645,-0.8679177248664283,-1.4627692201330509,-2.5736579742436296,-1.3397880382466327,0.3491660530251151,0.2569914029439571,-0.7460985291208861,-0.7465245013540494,-0.8097864569083478,-0.5456804041774364,0.5808559193030063,-0.536706453502714,0.6344186541349182,-0.5613980713435446],\"type\":\"box\"}],                        {\"legend\":{\"bgcolor\":\"#F5F6F9\",\"font\":{\"color\":\"#4D5663\"}},\"paper_bgcolor\":\"#F5F6F9\",\"plot_bgcolor\":\"#F5F6F9\",\"template\":{\"data\":{\"barpolar\":[{\"marker\":{\"line\":{\"color\":\"#E5ECF6\",\"width\":0.5},\"pattern\":{\"fillmode\":\"overlay\",\"size\":10,\"solidity\":0.2}},\"type\":\"barpolar\"}],\"bar\":[{\"error_x\":{\"color\":\"#2a3f5f\"},\"error_y\":{\"color\":\"#2a3f5f\"},\"marker\":{\"line\":{\"color\":\"#E5ECF6\",\"width\":0.5},\"pattern\":{\"fillmode\":\"overlay\",\"size\":10,\"solidity\":0.2}},\"type\":\"bar\"}],\"carpet\":[{\"aaxis\":{\"endlinecolor\":\"#2a3f5f\",\"gridcolor\":\"white\",\"linecolor\":\"white\",\"minorgridcolor\":\"white\",\"startlinecolor\":\"#2a3f5f\"},\"baxis\":{\"endlinecolor\":\"#2a3f5f\",\"gridcolor\":\"white\",\"linecolor\":\"white\",\"minorgridcolor\":\"white\",\"startlinecolor\":\"#2a3f5f\"},\"type\":\"carpet\"}],\"choropleth\":[{\"colorbar\":{\"outlinewidth\":0,\"ticks\":\"\"},\"type\":\"choropleth\"}],\"contourcarpet\":[{\"colorbar\":{\"outlinewidth\":0,\"ticks\":\"\"},\"type\":\"contourcarpet\"}],\"contour\":[{\"colorbar\":{\"outlinewidth\":0,\"ticks\":\"\"},\"colorscale\":[[0.0,\"#0d0887\"],[0.1111111111111111,\"#46039f\"],[0.2222222222222222,\"#7201a8\"],[0.3333333333333333,\"#9c179e\"],[0.4444444444444444,\"#bd3786\"],[0.5555555555555556,\"#d8576b\"],[0.6666666666666666,\"#ed7953\"],[0.7777777777777778,\"#fb9f3a\"],[0.8888888888888888,\"#fdca26\"],[1.0,\"#f0f921\"]],\"type\":\"contour\"}],\"heatmapgl\":[{\"colorbar\":{\"outlinewidth\":0,\"ticks\":\"\"},\"colorscale\":[[0.0,\"#0d0887\"],[0.1111111111111111,\"#46039f\"],[0.2222222222222222,\"#7201a8\"],[0.3333333333333333,\"#9c179e\"],[0.4444444444444444,\"#bd3786\"],[0.5555555555555556,\"#d8576b\"],[0.6666666666666666,\"#ed7953\"],[0.7777777777777778,\"#fb9f3a\"],[0.8888888888888888,\"#fdca26\"],[1.0,\"#f0f921\"]],\"type\":\"heatmapgl\"}],\"heatmap\":[{\"colorbar\":{\"outlinewidth\":0,\"ticks\":\"\"},\"colorscale\":[[0.0,\"#0d0887\"],[0.1111111111111111,\"#46039f\"],[0.2222222222222222,\"#7201a8\"],[0.3333333333333333,\"#9c179e\"],[0.4444444444444444,\"#bd3786\"],[0.5555555555555556,\"#d8576b\"],[0.6666666666666666,\"#ed7953\"],[0.7777777777777778,\"#fb9f3a\"],[0.8888888888888888,\"#fdca26\"],[1.0,\"#f0f921\"]],\"type\":\"heatmap\"}],\"histogram2dcontour\":[{\"colorbar\":{\"outlinewidth\":0,\"ticks\":\"\"},\"colorscale\":[[0.0,\"#0d0887\"],[0.1111111111111111,\"#46039f\"],[0.2222222222222222,\"#7201a8\"],[0.3333333333333333,\"#9c179e\"],[0.4444444444444444,\"#bd3786\"],[0.5555555555555556,\"#d8576b\"],[0.6666666666666666,\"#ed7953\"],[0.7777777777777778,\"#fb9f3a\"],[0.8888888888888888,\"#fdca26\"],[1.0,\"#f0f921\"]],\"type\":\"histogram2dcontour\"}],\"histogram2d\":[{\"colorbar\":{\"outlinewidth\":0,\"ticks\":\"\"},\"colorscale\":[[0.0,\"#0d0887\"],[0.1111111111111111,\"#46039f\"],[0.2222222222222222,\"#7201a8\"],[0.3333333333333333,\"#9c179e\"],[0.4444444444444444,\"#bd3786\"],[0.5555555555555556,\"#d8576b\"],[0.6666666666666666,\"#ed7953\"],[0.7777777777777778,\"#fb9f3a\"],[0.8888888888888888,\"#fdca26\"],[1.0,\"#f0f921\"]],\"type\":\"histogram2d\"}],\"histogram\":[{\"marker\":{\"pattern\":{\"fillmode\":\"overlay\",\"size\":10,\"solidity\":0.2}},\"type\":\"histogram\"}],\"mesh3d\":[{\"colorbar\":{\"outlinewidth\":0,\"ticks\":\"\"},\"type\":\"mesh3d\"}],\"parcoords\":[{\"line\":{\"colorbar\":{\"outlinewidth\":0,\"ticks\":\"\"}},\"type\":\"parcoords\"}],\"pie\":[{\"automargin\":true,\"type\":\"pie\"}],\"scatter3d\":[{\"line\":{\"colorbar\":{\"outlinewidth\":0,\"ticks\":\"\"}},\"marker\":{\"colorbar\":{\"outlinewidth\":0,\"ticks\":\"\"}},\"type\":\"scatter3d\"}],\"scattercarpet\":[{\"marker\":{\"colorbar\":{\"outlinewidth\":0,\"ticks\":\"\"}},\"type\":\"scattercarpet\"}],\"scattergeo\":[{\"marker\":{\"colorbar\":{\"outlinewidth\":0,\"ticks\":\"\"}},\"type\":\"scattergeo\"}],\"scattergl\":[{\"marker\":{\"colorbar\":{\"outlinewidth\":0,\"ticks\":\"\"}},\"type\":\"scattergl\"}],\"scattermapbox\":[{\"marker\":{\"colorbar\":{\"outlinewidth\":0,\"ticks\":\"\"}},\"type\":\"scattermapbox\"}],\"scatterpolargl\":[{\"marker\":{\"colorbar\":{\"outlinewidth\":0,\"ticks\":\"\"}},\"type\":\"scatterpolargl\"}],\"scatterpolar\":[{\"marker\":{\"colorbar\":{\"outlinewidth\":0,\"ticks\":\"\"}},\"type\":\"scatterpolar\"}],\"scatter\":[{\"fillpattern\":{\"fillmode\":\"overlay\",\"size\":10,\"solidity\":0.2},\"type\":\"scatter\"}],\"scatterternary\":[{\"marker\":{\"colorbar\":{\"outlinewidth\":0,\"ticks\":\"\"}},\"type\":\"scatterternary\"}],\"surface\":[{\"colorbar\":{\"outlinewidth\":0,\"ticks\":\"\"},\"colorscale\":[[0.0,\"#0d0887\"],[0.1111111111111111,\"#46039f\"],[0.2222222222222222,\"#7201a8\"],[0.3333333333333333,\"#9c179e\"],[0.4444444444444444,\"#bd3786\"],[0.5555555555555556,\"#d8576b\"],[0.6666666666666666,\"#ed7953\"],[0.7777777777777778,\"#fb9f3a\"],[0.8888888888888888,\"#fdca26\"],[1.0,\"#f0f921\"]],\"type\":\"surface\"}],\"table\":[{\"cells\":{\"fill\":{\"color\":\"#EBF0F8\"},\"line\":{\"color\":\"white\"}},\"header\":{\"fill\":{\"color\":\"#C8D4E3\"},\"line\":{\"color\":\"white\"}},\"type\":\"table\"}]},\"layout\":{\"annotationdefaults\":{\"arrowcolor\":\"#2a3f5f\",\"arrowhead\":0,\"arrowwidth\":1},\"autotypenumbers\":\"strict\",\"coloraxis\":{\"colorbar\":{\"outlinewidth\":0,\"ticks\":\"\"}},\"colorscale\":{\"diverging\":[[0,\"#8e0152\"],[0.1,\"#c51b7d\"],[0.2,\"#de77ae\"],[0.3,\"#f1b6da\"],[0.4,\"#fde0ef\"],[0.5,\"#f7f7f7\"],[0.6,\"#e6f5d0\"],[0.7,\"#b8e186\"],[0.8,\"#7fbc41\"],[0.9,\"#4d9221\"],[1,\"#276419\"]],\"sequential\":[[0.0,\"#0d0887\"],[0.1111111111111111,\"#46039f\"],[0.2222222222222222,\"#7201a8\"],[0.3333333333333333,\"#9c179e\"],[0.4444444444444444,\"#bd3786\"],[0.5555555555555556,\"#d8576b\"],[0.6666666666666666,\"#ed7953\"],[0.7777777777777778,\"#fb9f3a\"],[0.8888888888888888,\"#fdca26\"],[1.0,\"#f0f921\"]],\"sequentialminus\":[[0.0,\"#0d0887\"],[0.1111111111111111,\"#46039f\"],[0.2222222222222222,\"#7201a8\"],[0.3333333333333333,\"#9c179e\"],[0.4444444444444444,\"#bd3786\"],[0.5555555555555556,\"#d8576b\"],[0.6666666666666666,\"#ed7953\"],[0.7777777777777778,\"#fb9f3a\"],[0.8888888888888888,\"#fdca26\"],[1.0,\"#f0f921\"]]},\"colorway\":[\"#636efa\",\"#EF553B\",\"#00cc96\",\"#ab63fa\",\"#FFA15A\",\"#19d3f3\",\"#FF6692\",\"#B6E880\",\"#FF97FF\",\"#FECB52\"],\"font\":{\"color\":\"#2a3f5f\"},\"geo\":{\"bgcolor\":\"white\",\"lakecolor\":\"white\",\"landcolor\":\"#E5ECF6\",\"showlakes\":true,\"showland\":true,\"subunitcolor\":\"white\"},\"hoverlabel\":{\"align\":\"left\"},\"hovermode\":\"closest\",\"mapbox\":{\"style\":\"light\"},\"paper_bgcolor\":\"white\",\"plot_bgcolor\":\"#E5ECF6\",\"polar\":{\"angularaxis\":{\"gridcolor\":\"white\",\"linecolor\":\"white\",\"ticks\":\"\"},\"bgcolor\":\"#E5ECF6\",\"radialaxis\":{\"gridcolor\":\"white\",\"linecolor\":\"white\",\"ticks\":\"\"}},\"scene\":{\"xaxis\":{\"backgroundcolor\":\"#E5ECF6\",\"gridcolor\":\"white\",\"gridwidth\":2,\"linecolor\":\"white\",\"showbackground\":true,\"ticks\":\"\",\"zerolinecolor\":\"white\"},\"yaxis\":{\"backgroundcolor\":\"#E5ECF6\",\"gridcolor\":\"white\",\"gridwidth\":2,\"linecolor\":\"white\",\"showbackground\":true,\"ticks\":\"\",\"zerolinecolor\":\"white\"},\"zaxis\":{\"backgroundcolor\":\"#E5ECF6\",\"gridcolor\":\"white\",\"gridwidth\":2,\"linecolor\":\"white\",\"showbackground\":true,\"ticks\":\"\",\"zerolinecolor\":\"white\"}},\"shapedefaults\":{\"line\":{\"color\":\"#2a3f5f\"}},\"ternary\":{\"aaxis\":{\"gridcolor\":\"white\",\"linecolor\":\"white\",\"ticks\":\"\"},\"baxis\":{\"gridcolor\":\"white\",\"linecolor\":\"white\",\"ticks\":\"\"},\"bgcolor\":\"#E5ECF6\",\"caxis\":{\"gridcolor\":\"white\",\"linecolor\":\"white\",\"ticks\":\"\"}},\"title\":{\"x\":0.05},\"xaxis\":{\"automargin\":true,\"gridcolor\":\"white\",\"linecolor\":\"white\",\"ticks\":\"\",\"title\":{\"standoff\":15},\"zerolinecolor\":\"white\",\"zerolinewidth\":2},\"yaxis\":{\"automargin\":true,\"gridcolor\":\"white\",\"linecolor\":\"white\",\"ticks\":\"\",\"title\":{\"standoff\":15},\"zerolinecolor\":\"white\",\"zerolinewidth\":2}}},\"title\":{\"font\":{\"color\":\"#4D5663\"}},\"xaxis\":{\"gridcolor\":\"#E1E5ED\",\"showgrid\":true,\"tickfont\":{\"color\":\"#4D5663\"},\"title\":{\"font\":{\"color\":\"#4D5663\"},\"text\":\"\"},\"zerolinecolor\":\"#E1E5ED\"},\"yaxis\":{\"gridcolor\":\"#E1E5ED\",\"showgrid\":true,\"tickfont\":{\"color\":\"#4D5663\"},\"title\":{\"font\":{\"color\":\"#4D5663\"},\"text\":\"\"},\"zerolinecolor\":\"#E1E5ED\"}},                        {\"showLink\": true, \"linkText\": \"Export to plot.ly\", \"plotlyServerURL\": \"https://plot.ly\", \"responsive\": true}                    ).then(function(){\n                            \nvar gd = document.getElementById('540d2e02-5887-40a7-b164-5e1192c4dc82');\nvar x = new MutationObserver(function (mutations, observer) {{\n        var display = window.getComputedStyle(gd).display;\n        if (!display || display === 'none') {{\n            console.log([gd, 'removed!']);\n            Plotly.purge(gd);\n            observer.disconnect();\n        }}\n}});\n\n// Listen for the removal of the full notebook cells\nvar notebookContainer = gd.closest('#notebook-container');\nif (notebookContainer) {{\n    x.observe(notebookContainer, {childList: true});\n}}\n\n// Listen for the clearing of the current output cell\nvar outputEl = gd.closest('.output');\nif (outputEl) {{\n    x.observe(outputEl, {childList: true});\n}}\n\n                        })                };                });            </script>        </div>"
     },
     "metadata": {},
     "output_type": "display_data"
    }
   ],
   "source": [
    "df.iplot(kind='box')"
   ],
   "metadata": {
    "collapsed": false,
    "pycharm": {
     "name": "#%%\n"
    }
   }
  },
  {
   "cell_type": "code",
   "execution_count": 43,
   "outputs": [
    {
     "data": {
      "text/plain": "   x   y  z\n0  1  10  5\n1  2  20  4\n2  3  30  3\n3  4  20  2\n4  5  10  1",
      "text/html": "<div>\n<style scoped>\n    .dataframe tbody tr th:only-of-type {\n        vertical-align: middle;\n    }\n\n    .dataframe tbody tr th {\n        vertical-align: top;\n    }\n\n    .dataframe thead th {\n        text-align: right;\n    }\n</style>\n<table border=\"1\" class=\"dataframe\">\n  <thead>\n    <tr style=\"text-align: right;\">\n      <th></th>\n      <th>x</th>\n      <th>y</th>\n      <th>z</th>\n    </tr>\n  </thead>\n  <tbody>\n    <tr>\n      <th>0</th>\n      <td>1</td>\n      <td>10</td>\n      <td>5</td>\n    </tr>\n    <tr>\n      <th>1</th>\n      <td>2</td>\n      <td>20</td>\n      <td>4</td>\n    </tr>\n    <tr>\n      <th>2</th>\n      <td>3</td>\n      <td>30</td>\n      <td>3</td>\n    </tr>\n    <tr>\n      <th>3</th>\n      <td>4</td>\n      <td>20</td>\n      <td>2</td>\n    </tr>\n    <tr>\n      <th>4</th>\n      <td>5</td>\n      <td>10</td>\n      <td>1</td>\n    </tr>\n  </tbody>\n</table>\n</div>"
     },
     "execution_count": 43,
     "metadata": {},
     "output_type": "execute_result"
    }
   ],
   "source": [
    "df3 = pd.DataFrame({'x': [1, 2, 3, 4, 5], 'y': [10, 20, 30, 20, 10], 'z': [5, 4, 3, 2, 1]})\n",
    "df3.head()"
   ],
   "metadata": {
    "collapsed": false,
    "pycharm": {
     "name": "#%%\n"
    }
   }
  },
  {
   "cell_type": "code",
   "execution_count": 45,
   "outputs": [
    {
     "data": {
      "application/vnd.plotly.v1+json": {
       "data": [
        {
         "colorscale": [
          [
           0.0,
           "rgb(165,0,38)"
          ],
          [
           0.1,
           "rgb(215,48,39)"
          ],
          [
           0.2,
           "rgb(244,109,67)"
          ],
          [
           0.3,
           "rgb(253,174,97)"
          ],
          [
           0.4,
           "rgb(254,224,144)"
          ],
          [
           0.5,
           "rgb(255,255,191)"
          ],
          [
           0.6,
           "rgb(224,243,248)"
          ],
          [
           0.7,
           "rgb(171,217,233)"
          ],
          [
           0.8,
           "rgb(116,173,209)"
          ],
          [
           0.9,
           "rgb(69,117,180)"
          ],
          [
           1.0,
           "rgb(49,54,149)"
          ]
         ],
         "x": [
          0,
          1,
          2,
          3,
          4
         ],
         "y": [
          "x",
          "y",
          "z"
         ],
         "z": [
          [
           1,
           2,
           3,
           4,
           5
          ],
          [
           10,
           20,
           30,
           20,
           10
          ],
          [
           5,
           4,
           3,
           2,
           1
          ]
         ],
         "type": "surface"
        }
       ],
       "layout": {
        "legend": {
         "bgcolor": "#F5F6F9",
         "font": {
          "color": "#4D5663"
         }
        },
        "paper_bgcolor": "#F5F6F9",
        "plot_bgcolor": "#F5F6F9",
        "template": {
         "data": {
          "barpolar": [
           {
            "marker": {
             "line": {
              "color": "rgb(17,17,17)",
              "width": 0.5
             },
             "pattern": {
              "fillmode": "overlay",
              "size": 10,
              "solidity": 0.2
             }
            },
            "type": "barpolar"
           }
          ],
          "bar": [
           {
            "error_x": {
             "color": "#f2f5fa"
            },
            "error_y": {
             "color": "#f2f5fa"
            },
            "marker": {
             "line": {
              "color": "rgb(17,17,17)",
              "width": 0.5
             },
             "pattern": {
              "fillmode": "overlay",
              "size": 10,
              "solidity": 0.2
             }
            },
            "type": "bar"
           }
          ],
          "carpet": [
           {
            "aaxis": {
             "endlinecolor": "#A2B1C6",
             "gridcolor": "#506784",
             "linecolor": "#506784",
             "minorgridcolor": "#506784",
             "startlinecolor": "#A2B1C6"
            },
            "baxis": {
             "endlinecolor": "#A2B1C6",
             "gridcolor": "#506784",
             "linecolor": "#506784",
             "minorgridcolor": "#506784",
             "startlinecolor": "#A2B1C6"
            },
            "type": "carpet"
           }
          ],
          "choropleth": [
           {
            "colorbar": {
             "outlinewidth": 0,
             "ticks": ""
            },
            "type": "choropleth"
           }
          ],
          "contourcarpet": [
           {
            "colorbar": {
             "outlinewidth": 0,
             "ticks": ""
            },
            "type": "contourcarpet"
           }
          ],
          "contour": [
           {
            "colorbar": {
             "outlinewidth": 0,
             "ticks": ""
            },
            "colorscale": [
             [
              0.0,
              "#0d0887"
             ],
             [
              0.1111111111111111,
              "#46039f"
             ],
             [
              0.2222222222222222,
              "#7201a8"
             ],
             [
              0.3333333333333333,
              "#9c179e"
             ],
             [
              0.4444444444444444,
              "#bd3786"
             ],
             [
              0.5555555555555556,
              "#d8576b"
             ],
             [
              0.6666666666666666,
              "#ed7953"
             ],
             [
              0.7777777777777778,
              "#fb9f3a"
             ],
             [
              0.8888888888888888,
              "#fdca26"
             ],
             [
              1.0,
              "#f0f921"
             ]
            ],
            "type": "contour"
           }
          ],
          "heatmapgl": [
           {
            "colorbar": {
             "outlinewidth": 0,
             "ticks": ""
            },
            "colorscale": [
             [
              0.0,
              "#0d0887"
             ],
             [
              0.1111111111111111,
              "#46039f"
             ],
             [
              0.2222222222222222,
              "#7201a8"
             ],
             [
              0.3333333333333333,
              "#9c179e"
             ],
             [
              0.4444444444444444,
              "#bd3786"
             ],
             [
              0.5555555555555556,
              "#d8576b"
             ],
             [
              0.6666666666666666,
              "#ed7953"
             ],
             [
              0.7777777777777778,
              "#fb9f3a"
             ],
             [
              0.8888888888888888,
              "#fdca26"
             ],
             [
              1.0,
              "#f0f921"
             ]
            ],
            "type": "heatmapgl"
           }
          ],
          "heatmap": [
           {
            "colorbar": {
             "outlinewidth": 0,
             "ticks": ""
            },
            "colorscale": [
             [
              0.0,
              "#0d0887"
             ],
             [
              0.1111111111111111,
              "#46039f"
             ],
             [
              0.2222222222222222,
              "#7201a8"
             ],
             [
              0.3333333333333333,
              "#9c179e"
             ],
             [
              0.4444444444444444,
              "#bd3786"
             ],
             [
              0.5555555555555556,
              "#d8576b"
             ],
             [
              0.6666666666666666,
              "#ed7953"
             ],
             [
              0.7777777777777778,
              "#fb9f3a"
             ],
             [
              0.8888888888888888,
              "#fdca26"
             ],
             [
              1.0,
              "#f0f921"
             ]
            ],
            "type": "heatmap"
           }
          ],
          "histogram2dcontour": [
           {
            "colorbar": {
             "outlinewidth": 0,
             "ticks": ""
            },
            "colorscale": [
             [
              0.0,
              "#0d0887"
             ],
             [
              0.1111111111111111,
              "#46039f"
             ],
             [
              0.2222222222222222,
              "#7201a8"
             ],
             [
              0.3333333333333333,
              "#9c179e"
             ],
             [
              0.4444444444444444,
              "#bd3786"
             ],
             [
              0.5555555555555556,
              "#d8576b"
             ],
             [
              0.6666666666666666,
              "#ed7953"
             ],
             [
              0.7777777777777778,
              "#fb9f3a"
             ],
             [
              0.8888888888888888,
              "#fdca26"
             ],
             [
              1.0,
              "#f0f921"
             ]
            ],
            "type": "histogram2dcontour"
           }
          ],
          "histogram2d": [
           {
            "colorbar": {
             "outlinewidth": 0,
             "ticks": ""
            },
            "colorscale": [
             [
              0.0,
              "#0d0887"
             ],
             [
              0.1111111111111111,
              "#46039f"
             ],
             [
              0.2222222222222222,
              "#7201a8"
             ],
             [
              0.3333333333333333,
              "#9c179e"
             ],
             [
              0.4444444444444444,
              "#bd3786"
             ],
             [
              0.5555555555555556,
              "#d8576b"
             ],
             [
              0.6666666666666666,
              "#ed7953"
             ],
             [
              0.7777777777777778,
              "#fb9f3a"
             ],
             [
              0.8888888888888888,
              "#fdca26"
             ],
             [
              1.0,
              "#f0f921"
             ]
            ],
            "type": "histogram2d"
           }
          ],
          "histogram": [
           {
            "marker": {
             "pattern": {
              "fillmode": "overlay",
              "size": 10,
              "solidity": 0.2
             }
            },
            "type": "histogram"
           }
          ],
          "mesh3d": [
           {
            "colorbar": {
             "outlinewidth": 0,
             "ticks": ""
            },
            "type": "mesh3d"
           }
          ],
          "parcoords": [
           {
            "line": {
             "colorbar": {
              "outlinewidth": 0,
              "ticks": ""
             }
            },
            "type": "parcoords"
           }
          ],
          "pie": [
           {
            "automargin": true,
            "type": "pie"
           }
          ],
          "scatter3d": [
           {
            "line": {
             "colorbar": {
              "outlinewidth": 0,
              "ticks": ""
             }
            },
            "marker": {
             "colorbar": {
              "outlinewidth": 0,
              "ticks": ""
             }
            },
            "type": "scatter3d"
           }
          ],
          "scattercarpet": [
           {
            "marker": {
             "colorbar": {
              "outlinewidth": 0,
              "ticks": ""
             }
            },
            "type": "scattercarpet"
           }
          ],
          "scattergeo": [
           {
            "marker": {
             "colorbar": {
              "outlinewidth": 0,
              "ticks": ""
             }
            },
            "type": "scattergeo"
           }
          ],
          "scattergl": [
           {
            "marker": {
             "line": {
              "color": "#283442"
             }
            },
            "type": "scattergl"
           }
          ],
          "scattermapbox": [
           {
            "marker": {
             "colorbar": {
              "outlinewidth": 0,
              "ticks": ""
             }
            },
            "type": "scattermapbox"
           }
          ],
          "scatterpolargl": [
           {
            "marker": {
             "colorbar": {
              "outlinewidth": 0,
              "ticks": ""
             }
            },
            "type": "scatterpolargl"
           }
          ],
          "scatterpolar": [
           {
            "marker": {
             "colorbar": {
              "outlinewidth": 0,
              "ticks": ""
             }
            },
            "type": "scatterpolar"
           }
          ],
          "scatter": [
           {
            "marker": {
             "line": {
              "color": "#283442"
             }
            },
            "type": "scatter"
           }
          ],
          "scatterternary": [
           {
            "marker": {
             "colorbar": {
              "outlinewidth": 0,
              "ticks": ""
             }
            },
            "type": "scatterternary"
           }
          ],
          "surface": [
           {
            "colorbar": {
             "outlinewidth": 0,
             "ticks": ""
            },
            "colorscale": [
             [
              0.0,
              "#0d0887"
             ],
             [
              0.1111111111111111,
              "#46039f"
             ],
             [
              0.2222222222222222,
              "#7201a8"
             ],
             [
              0.3333333333333333,
              "#9c179e"
             ],
             [
              0.4444444444444444,
              "#bd3786"
             ],
             [
              0.5555555555555556,
              "#d8576b"
             ],
             [
              0.6666666666666666,
              "#ed7953"
             ],
             [
              0.7777777777777778,
              "#fb9f3a"
             ],
             [
              0.8888888888888888,
              "#fdca26"
             ],
             [
              1.0,
              "#f0f921"
             ]
            ],
            "type": "surface"
           }
          ],
          "table": [
           {
            "cells": {
             "fill": {
              "color": "#506784"
             },
             "line": {
              "color": "rgb(17,17,17)"
             }
            },
            "header": {
             "fill": {
              "color": "#2a3f5f"
             },
             "line": {
              "color": "rgb(17,17,17)"
             }
            },
            "type": "table"
           }
          ]
         },
         "layout": {
          "annotationdefaults": {
           "arrowcolor": "#f2f5fa",
           "arrowhead": 0,
           "arrowwidth": 1
          },
          "autotypenumbers": "strict",
          "coloraxis": {
           "colorbar": {
            "outlinewidth": 0,
            "ticks": ""
           }
          },
          "colorscale": {
           "diverging": [
            [
             0,
             "#8e0152"
            ],
            [
             0.1,
             "#c51b7d"
            ],
            [
             0.2,
             "#de77ae"
            ],
            [
             0.3,
             "#f1b6da"
            ],
            [
             0.4,
             "#fde0ef"
            ],
            [
             0.5,
             "#f7f7f7"
            ],
            [
             0.6,
             "#e6f5d0"
            ],
            [
             0.7,
             "#b8e186"
            ],
            [
             0.8,
             "#7fbc41"
            ],
            [
             0.9,
             "#4d9221"
            ],
            [
             1,
             "#276419"
            ]
           ],
           "sequential": [
            [
             0.0,
             "#0d0887"
            ],
            [
             0.1111111111111111,
             "#46039f"
            ],
            [
             0.2222222222222222,
             "#7201a8"
            ],
            [
             0.3333333333333333,
             "#9c179e"
            ],
            [
             0.4444444444444444,
             "#bd3786"
            ],
            [
             0.5555555555555556,
             "#d8576b"
            ],
            [
             0.6666666666666666,
             "#ed7953"
            ],
            [
             0.7777777777777778,
             "#fb9f3a"
            ],
            [
             0.8888888888888888,
             "#fdca26"
            ],
            [
             1.0,
             "#f0f921"
            ]
           ],
           "sequentialminus": [
            [
             0.0,
             "#0d0887"
            ],
            [
             0.1111111111111111,
             "#46039f"
            ],
            [
             0.2222222222222222,
             "#7201a8"
            ],
            [
             0.3333333333333333,
             "#9c179e"
            ],
            [
             0.4444444444444444,
             "#bd3786"
            ],
            [
             0.5555555555555556,
             "#d8576b"
            ],
            [
             0.6666666666666666,
             "#ed7953"
            ],
            [
             0.7777777777777778,
             "#fb9f3a"
            ],
            [
             0.8888888888888888,
             "#fdca26"
            ],
            [
             1.0,
             "#f0f921"
            ]
           ]
          },
          "colorway": [
           "#636efa",
           "#EF553B",
           "#00cc96",
           "#ab63fa",
           "#FFA15A",
           "#19d3f3",
           "#FF6692",
           "#B6E880",
           "#FF97FF",
           "#FECB52"
          ],
          "font": {
           "color": "#f2f5fa"
          },
          "geo": {
           "bgcolor": "rgb(17,17,17)",
           "lakecolor": "rgb(17,17,17)",
           "landcolor": "rgb(17,17,17)",
           "showlakes": true,
           "showland": true,
           "subunitcolor": "#506784"
          },
          "hoverlabel": {
           "align": "left"
          },
          "hovermode": "closest",
          "mapbox": {
           "style": "dark"
          },
          "paper_bgcolor": "rgb(17,17,17)",
          "plot_bgcolor": "rgb(17,17,17)",
          "polar": {
           "angularaxis": {
            "gridcolor": "#506784",
            "linecolor": "#506784",
            "ticks": ""
           },
           "bgcolor": "rgb(17,17,17)",
           "radialaxis": {
            "gridcolor": "#506784",
            "linecolor": "#506784",
            "ticks": ""
           }
          },
          "scene": {
           "xaxis": {
            "backgroundcolor": "rgb(17,17,17)",
            "gridcolor": "#506784",
            "gridwidth": 2,
            "linecolor": "#506784",
            "showbackground": true,
            "ticks": "",
            "zerolinecolor": "#C8D4E3"
           },
           "yaxis": {
            "backgroundcolor": "rgb(17,17,17)",
            "gridcolor": "#506784",
            "gridwidth": 2,
            "linecolor": "#506784",
            "showbackground": true,
            "ticks": "",
            "zerolinecolor": "#C8D4E3"
           },
           "zaxis": {
            "backgroundcolor": "rgb(17,17,17)",
            "gridcolor": "#506784",
            "gridwidth": 2,
            "linecolor": "#506784",
            "showbackground": true,
            "ticks": "",
            "zerolinecolor": "#C8D4E3"
           }
          },
          "shapedefaults": {
           "line": {
            "color": "#f2f5fa"
           }
          },
          "sliderdefaults": {
           "bgcolor": "#C8D4E3",
           "bordercolor": "rgb(17,17,17)",
           "borderwidth": 1,
           "tickwidth": 0
          },
          "ternary": {
           "aaxis": {
            "gridcolor": "#506784",
            "linecolor": "#506784",
            "ticks": ""
           },
           "baxis": {
            "gridcolor": "#506784",
            "linecolor": "#506784",
            "ticks": ""
           },
           "bgcolor": "rgb(17,17,17)",
           "caxis": {
            "gridcolor": "#506784",
            "linecolor": "#506784",
            "ticks": ""
           }
          },
          "title": {
           "x": 0.05
          },
          "updatemenudefaults": {
           "bgcolor": "#506784",
           "borderwidth": 0
          },
          "xaxis": {
           "automargin": true,
           "gridcolor": "#283442",
           "linecolor": "#506784",
           "ticks": "",
           "title": {
            "standoff": 15
           },
           "zerolinecolor": "#283442",
           "zerolinewidth": 2
          },
          "yaxis": {
           "automargin": true,
           "gridcolor": "#283442",
           "linecolor": "#506784",
           "ticks": "",
           "title": {
            "standoff": 15
           },
           "zerolinecolor": "#283442",
           "zerolinewidth": 2
          }
         }
        },
        "title": {
         "font": {
          "color": "#4D5663"
         }
        },
        "xaxis": {
         "gridcolor": "#E1E5ED",
         "showgrid": true,
         "tickfont": {
          "color": "#4D5663"
         },
         "title": {
          "font": {
           "color": "#4D5663"
          },
          "text": ""
         },
         "zerolinecolor": "#E1E5ED"
        },
        "yaxis": {
         "gridcolor": "#E1E5ED",
         "showgrid": true,
         "tickfont": {
          "color": "#4D5663"
         },
         "title": {
          "font": {
           "color": "#4D5663"
          },
          "text": ""
         },
         "zerolinecolor": "#E1E5ED"
        }
       },
       "config": {
        "showLink": true,
        "linkText": "Export to plot.ly",
        "plotlyServerURL": "https://plot.ly"
       }
      },
      "text/html": "<div>                            <div id=\"4a9e4036-e256-45ff-9a3d-edceff503074\" class=\"plotly-graph-div\" style=\"height:525px; width:100%;\"></div>            <script type=\"text/javascript\">                require([\"plotly\"], function(Plotly) {                    window.PLOTLYENV=window.PLOTLYENV || {};\n                    window.PLOTLYENV.BASE_URL='https://plot.ly';                                    if (document.getElementById(\"4a9e4036-e256-45ff-9a3d-edceff503074\")) {                    Plotly.newPlot(                        \"4a9e4036-e256-45ff-9a3d-edceff503074\",                        [{\"colorscale\":[[0.0,\"rgb(165,0,38)\"],[0.1,\"rgb(215,48,39)\"],[0.2,\"rgb(244,109,67)\"],[0.3,\"rgb(253,174,97)\"],[0.4,\"rgb(254,224,144)\"],[0.5,\"rgb(255,255,191)\"],[0.6,\"rgb(224,243,248)\"],[0.7,\"rgb(171,217,233)\"],[0.8,\"rgb(116,173,209)\"],[0.9,\"rgb(69,117,180)\"],[1.0,\"rgb(49,54,149)\"]],\"x\":[0,1,2,3,4],\"y\":[\"x\",\"y\",\"z\"],\"z\":[[1,2,3,4,5],[10,20,30,20,10],[5,4,3,2,1]],\"type\":\"surface\"}],                        {\"legend\":{\"bgcolor\":\"#F5F6F9\",\"font\":{\"color\":\"#4D5663\"}},\"paper_bgcolor\":\"#F5F6F9\",\"plot_bgcolor\":\"#F5F6F9\",\"template\":{\"data\":{\"barpolar\":[{\"marker\":{\"line\":{\"color\":\"rgb(17,17,17)\",\"width\":0.5},\"pattern\":{\"fillmode\":\"overlay\",\"size\":10,\"solidity\":0.2}},\"type\":\"barpolar\"}],\"bar\":[{\"error_x\":{\"color\":\"#f2f5fa\"},\"error_y\":{\"color\":\"#f2f5fa\"},\"marker\":{\"line\":{\"color\":\"rgb(17,17,17)\",\"width\":0.5},\"pattern\":{\"fillmode\":\"overlay\",\"size\":10,\"solidity\":0.2}},\"type\":\"bar\"}],\"carpet\":[{\"aaxis\":{\"endlinecolor\":\"#A2B1C6\",\"gridcolor\":\"#506784\",\"linecolor\":\"#506784\",\"minorgridcolor\":\"#506784\",\"startlinecolor\":\"#A2B1C6\"},\"baxis\":{\"endlinecolor\":\"#A2B1C6\",\"gridcolor\":\"#506784\",\"linecolor\":\"#506784\",\"minorgridcolor\":\"#506784\",\"startlinecolor\":\"#A2B1C6\"},\"type\":\"carpet\"}],\"choropleth\":[{\"colorbar\":{\"outlinewidth\":0,\"ticks\":\"\"},\"type\":\"choropleth\"}],\"contourcarpet\":[{\"colorbar\":{\"outlinewidth\":0,\"ticks\":\"\"},\"type\":\"contourcarpet\"}],\"contour\":[{\"colorbar\":{\"outlinewidth\":0,\"ticks\":\"\"},\"colorscale\":[[0.0,\"#0d0887\"],[0.1111111111111111,\"#46039f\"],[0.2222222222222222,\"#7201a8\"],[0.3333333333333333,\"#9c179e\"],[0.4444444444444444,\"#bd3786\"],[0.5555555555555556,\"#d8576b\"],[0.6666666666666666,\"#ed7953\"],[0.7777777777777778,\"#fb9f3a\"],[0.8888888888888888,\"#fdca26\"],[1.0,\"#f0f921\"]],\"type\":\"contour\"}],\"heatmapgl\":[{\"colorbar\":{\"outlinewidth\":0,\"ticks\":\"\"},\"colorscale\":[[0.0,\"#0d0887\"],[0.1111111111111111,\"#46039f\"],[0.2222222222222222,\"#7201a8\"],[0.3333333333333333,\"#9c179e\"],[0.4444444444444444,\"#bd3786\"],[0.5555555555555556,\"#d8576b\"],[0.6666666666666666,\"#ed7953\"],[0.7777777777777778,\"#fb9f3a\"],[0.8888888888888888,\"#fdca26\"],[1.0,\"#f0f921\"]],\"type\":\"heatmapgl\"}],\"heatmap\":[{\"colorbar\":{\"outlinewidth\":0,\"ticks\":\"\"},\"colorscale\":[[0.0,\"#0d0887\"],[0.1111111111111111,\"#46039f\"],[0.2222222222222222,\"#7201a8\"],[0.3333333333333333,\"#9c179e\"],[0.4444444444444444,\"#bd3786\"],[0.5555555555555556,\"#d8576b\"],[0.6666666666666666,\"#ed7953\"],[0.7777777777777778,\"#fb9f3a\"],[0.8888888888888888,\"#fdca26\"],[1.0,\"#f0f921\"]],\"type\":\"heatmap\"}],\"histogram2dcontour\":[{\"colorbar\":{\"outlinewidth\":0,\"ticks\":\"\"},\"colorscale\":[[0.0,\"#0d0887\"],[0.1111111111111111,\"#46039f\"],[0.2222222222222222,\"#7201a8\"],[0.3333333333333333,\"#9c179e\"],[0.4444444444444444,\"#bd3786\"],[0.5555555555555556,\"#d8576b\"],[0.6666666666666666,\"#ed7953\"],[0.7777777777777778,\"#fb9f3a\"],[0.8888888888888888,\"#fdca26\"],[1.0,\"#f0f921\"]],\"type\":\"histogram2dcontour\"}],\"histogram2d\":[{\"colorbar\":{\"outlinewidth\":0,\"ticks\":\"\"},\"colorscale\":[[0.0,\"#0d0887\"],[0.1111111111111111,\"#46039f\"],[0.2222222222222222,\"#7201a8\"],[0.3333333333333333,\"#9c179e\"],[0.4444444444444444,\"#bd3786\"],[0.5555555555555556,\"#d8576b\"],[0.6666666666666666,\"#ed7953\"],[0.7777777777777778,\"#fb9f3a\"],[0.8888888888888888,\"#fdca26\"],[1.0,\"#f0f921\"]],\"type\":\"histogram2d\"}],\"histogram\":[{\"marker\":{\"pattern\":{\"fillmode\":\"overlay\",\"size\":10,\"solidity\":0.2}},\"type\":\"histogram\"}],\"mesh3d\":[{\"colorbar\":{\"outlinewidth\":0,\"ticks\":\"\"},\"type\":\"mesh3d\"}],\"parcoords\":[{\"line\":{\"colorbar\":{\"outlinewidth\":0,\"ticks\":\"\"}},\"type\":\"parcoords\"}],\"pie\":[{\"automargin\":true,\"type\":\"pie\"}],\"scatter3d\":[{\"line\":{\"colorbar\":{\"outlinewidth\":0,\"ticks\":\"\"}},\"marker\":{\"colorbar\":{\"outlinewidth\":0,\"ticks\":\"\"}},\"type\":\"scatter3d\"}],\"scattercarpet\":[{\"marker\":{\"colorbar\":{\"outlinewidth\":0,\"ticks\":\"\"}},\"type\":\"scattercarpet\"}],\"scattergeo\":[{\"marker\":{\"colorbar\":{\"outlinewidth\":0,\"ticks\":\"\"}},\"type\":\"scattergeo\"}],\"scattergl\":[{\"marker\":{\"line\":{\"color\":\"#283442\"}},\"type\":\"scattergl\"}],\"scattermapbox\":[{\"marker\":{\"colorbar\":{\"outlinewidth\":0,\"ticks\":\"\"}},\"type\":\"scattermapbox\"}],\"scatterpolargl\":[{\"marker\":{\"colorbar\":{\"outlinewidth\":0,\"ticks\":\"\"}},\"type\":\"scatterpolargl\"}],\"scatterpolar\":[{\"marker\":{\"colorbar\":{\"outlinewidth\":0,\"ticks\":\"\"}},\"type\":\"scatterpolar\"}],\"scatter\":[{\"marker\":{\"line\":{\"color\":\"#283442\"}},\"type\":\"scatter\"}],\"scatterternary\":[{\"marker\":{\"colorbar\":{\"outlinewidth\":0,\"ticks\":\"\"}},\"type\":\"scatterternary\"}],\"surface\":[{\"colorbar\":{\"outlinewidth\":0,\"ticks\":\"\"},\"colorscale\":[[0.0,\"#0d0887\"],[0.1111111111111111,\"#46039f\"],[0.2222222222222222,\"#7201a8\"],[0.3333333333333333,\"#9c179e\"],[0.4444444444444444,\"#bd3786\"],[0.5555555555555556,\"#d8576b\"],[0.6666666666666666,\"#ed7953\"],[0.7777777777777778,\"#fb9f3a\"],[0.8888888888888888,\"#fdca26\"],[1.0,\"#f0f921\"]],\"type\":\"surface\"}],\"table\":[{\"cells\":{\"fill\":{\"color\":\"#506784\"},\"line\":{\"color\":\"rgb(17,17,17)\"}},\"header\":{\"fill\":{\"color\":\"#2a3f5f\"},\"line\":{\"color\":\"rgb(17,17,17)\"}},\"type\":\"table\"}]},\"layout\":{\"annotationdefaults\":{\"arrowcolor\":\"#f2f5fa\",\"arrowhead\":0,\"arrowwidth\":1},\"autotypenumbers\":\"strict\",\"coloraxis\":{\"colorbar\":{\"outlinewidth\":0,\"ticks\":\"\"}},\"colorscale\":{\"diverging\":[[0,\"#8e0152\"],[0.1,\"#c51b7d\"],[0.2,\"#de77ae\"],[0.3,\"#f1b6da\"],[0.4,\"#fde0ef\"],[0.5,\"#f7f7f7\"],[0.6,\"#e6f5d0\"],[0.7,\"#b8e186\"],[0.8,\"#7fbc41\"],[0.9,\"#4d9221\"],[1,\"#276419\"]],\"sequential\":[[0.0,\"#0d0887\"],[0.1111111111111111,\"#46039f\"],[0.2222222222222222,\"#7201a8\"],[0.3333333333333333,\"#9c179e\"],[0.4444444444444444,\"#bd3786\"],[0.5555555555555556,\"#d8576b\"],[0.6666666666666666,\"#ed7953\"],[0.7777777777777778,\"#fb9f3a\"],[0.8888888888888888,\"#fdca26\"],[1.0,\"#f0f921\"]],\"sequentialminus\":[[0.0,\"#0d0887\"],[0.1111111111111111,\"#46039f\"],[0.2222222222222222,\"#7201a8\"],[0.3333333333333333,\"#9c179e\"],[0.4444444444444444,\"#bd3786\"],[0.5555555555555556,\"#d8576b\"],[0.6666666666666666,\"#ed7953\"],[0.7777777777777778,\"#fb9f3a\"],[0.8888888888888888,\"#fdca26\"],[1.0,\"#f0f921\"]]},\"colorway\":[\"#636efa\",\"#EF553B\",\"#00cc96\",\"#ab63fa\",\"#FFA15A\",\"#19d3f3\",\"#FF6692\",\"#B6E880\",\"#FF97FF\",\"#FECB52\"],\"font\":{\"color\":\"#f2f5fa\"},\"geo\":{\"bgcolor\":\"rgb(17,17,17)\",\"lakecolor\":\"rgb(17,17,17)\",\"landcolor\":\"rgb(17,17,17)\",\"showlakes\":true,\"showland\":true,\"subunitcolor\":\"#506784\"},\"hoverlabel\":{\"align\":\"left\"},\"hovermode\":\"closest\",\"mapbox\":{\"style\":\"dark\"},\"paper_bgcolor\":\"rgb(17,17,17)\",\"plot_bgcolor\":\"rgb(17,17,17)\",\"polar\":{\"angularaxis\":{\"gridcolor\":\"#506784\",\"linecolor\":\"#506784\",\"ticks\":\"\"},\"bgcolor\":\"rgb(17,17,17)\",\"radialaxis\":{\"gridcolor\":\"#506784\",\"linecolor\":\"#506784\",\"ticks\":\"\"}},\"scene\":{\"xaxis\":{\"backgroundcolor\":\"rgb(17,17,17)\",\"gridcolor\":\"#506784\",\"gridwidth\":2,\"linecolor\":\"#506784\",\"showbackground\":true,\"ticks\":\"\",\"zerolinecolor\":\"#C8D4E3\"},\"yaxis\":{\"backgroundcolor\":\"rgb(17,17,17)\",\"gridcolor\":\"#506784\",\"gridwidth\":2,\"linecolor\":\"#506784\",\"showbackground\":true,\"ticks\":\"\",\"zerolinecolor\":\"#C8D4E3\"},\"zaxis\":{\"backgroundcolor\":\"rgb(17,17,17)\",\"gridcolor\":\"#506784\",\"gridwidth\":2,\"linecolor\":\"#506784\",\"showbackground\":true,\"ticks\":\"\",\"zerolinecolor\":\"#C8D4E3\"}},\"shapedefaults\":{\"line\":{\"color\":\"#f2f5fa\"}},\"sliderdefaults\":{\"bgcolor\":\"#C8D4E3\",\"bordercolor\":\"rgb(17,17,17)\",\"borderwidth\":1,\"tickwidth\":0},\"ternary\":{\"aaxis\":{\"gridcolor\":\"#506784\",\"linecolor\":\"#506784\",\"ticks\":\"\"},\"baxis\":{\"gridcolor\":\"#506784\",\"linecolor\":\"#506784\",\"ticks\":\"\"},\"bgcolor\":\"rgb(17,17,17)\",\"caxis\":{\"gridcolor\":\"#506784\",\"linecolor\":\"#506784\",\"ticks\":\"\"}},\"title\":{\"x\":0.05},\"updatemenudefaults\":{\"bgcolor\":\"#506784\",\"borderwidth\":0},\"xaxis\":{\"automargin\":true,\"gridcolor\":\"#283442\",\"linecolor\":\"#506784\",\"ticks\":\"\",\"title\":{\"standoff\":15},\"zerolinecolor\":\"#283442\",\"zerolinewidth\":2},\"yaxis\":{\"automargin\":true,\"gridcolor\":\"#283442\",\"linecolor\":\"#506784\",\"ticks\":\"\",\"title\":{\"standoff\":15},\"zerolinecolor\":\"#283442\",\"zerolinewidth\":2}}},\"title\":{\"font\":{\"color\":\"#4D5663\"}},\"xaxis\":{\"gridcolor\":\"#E1E5ED\",\"showgrid\":true,\"tickfont\":{\"color\":\"#4D5663\"},\"title\":{\"font\":{\"color\":\"#4D5663\"},\"text\":\"\"},\"zerolinecolor\":\"#E1E5ED\"},\"yaxis\":{\"gridcolor\":\"#E1E5ED\",\"showgrid\":true,\"tickfont\":{\"color\":\"#4D5663\"},\"title\":{\"font\":{\"color\":\"#4D5663\"},\"text\":\"\"},\"zerolinecolor\":\"#E1E5ED\"}},                        {\"showLink\": true, \"linkText\": \"Export to plot.ly\", \"plotlyServerURL\": \"https://plot.ly\", \"responsive\": true}                    ).then(function(){\n                            \nvar gd = document.getElementById('4a9e4036-e256-45ff-9a3d-edceff503074');\nvar x = new MutationObserver(function (mutations, observer) {{\n        var display = window.getComputedStyle(gd).display;\n        if (!display || display === 'none') {{\n            console.log([gd, 'removed!']);\n            Plotly.purge(gd);\n            observer.disconnect();\n        }}\n}});\n\n// Listen for the removal of the full notebook cells\nvar notebookContainer = gd.closest('#notebook-container');\nif (notebookContainer) {{\n    x.observe(notebookContainer, {childList: true});\n}}\n\n// Listen for the clearing of the current output cell\nvar outputEl = gd.closest('.output');\nif (outputEl) {{\n    x.observe(outputEl, {childList: true});\n}}\n\n                        })                };                });            </script>        </div>"
     },
     "metadata": {},
     "output_type": "display_data"
    }
   ],
   "source": [
    "df3.iplot(kind='surface', colorscale='rdylbu')\n"
   ],
   "metadata": {
    "collapsed": false,
    "pycharm": {
     "name": "#%%\n"
    }
   }
  },
  {
   "cell_type": "code",
   "execution_count": 46,
   "outputs": [
    {
     "name": "stderr",
     "output_type": "stream",
     "text": [
      "C:\\repos\\Python-Data-Science\\venv\\lib\\site-packages\\cufflinks\\plotlytools.py:849: FutureWarning:\n",
      "\n",
      "The pandas.np module is deprecated and will be removed from pandas in a future version. Import numpy directly instead.\n",
      "\n",
      "C:\\repos\\Python-Data-Science\\venv\\lib\\site-packages\\cufflinks\\plotlytools.py:850: FutureWarning:\n",
      "\n",
      "The pandas.np module is deprecated and will be removed from pandas in a future version. Import numpy directly instead.\n",
      "\n"
     ]
    },
    {
     "data": {
      "application/vnd.plotly.v1+json": {
       "data": [
        {
         "line": {
          "color": "rgba(255, 153, 51, 1.0)",
          "dash": "solid",
          "shape": "linear",
          "width": 1.3
         },
         "mode": "lines",
         "name": "A",
         "text": "",
         "x": [
          0,
          1,
          2,
          3,
          4,
          5,
          6,
          7,
          8,
          9,
          10,
          11,
          12,
          13,
          14,
          15,
          16,
          17,
          18,
          19,
          20,
          21,
          22,
          23,
          24,
          25,
          26,
          27,
          28,
          29,
          30,
          31,
          32,
          33,
          34,
          35,
          36,
          37,
          38,
          39,
          40,
          41,
          42,
          43,
          44,
          45,
          46,
          47,
          48,
          49,
          50,
          51,
          52,
          53,
          54,
          55,
          56,
          57,
          58,
          59,
          60,
          61,
          62,
          63,
          64,
          65,
          66,
          67,
          68,
          69,
          70,
          71,
          72,
          73,
          74,
          75,
          76,
          77,
          78,
          79,
          80,
          81,
          82,
          83,
          84,
          85,
          86,
          87,
          88,
          89,
          90,
          91,
          92,
          93,
          94,
          95,
          96,
          97,
          98,
          99
         ],
         "y": [
          0.28294306242083767,
          0.7968335417349354,
          0.6029639109107471,
          -1.5650465702073828,
          1.304012469593769,
          -0.7189638548328962,
          -0.8342772051709019,
          0.22903038848035023,
          -0.5555919147143817,
          1.4140028785570107,
          0.94608625189099,
          0.9475932345276445,
          0.23210000912619144,
          -0.2017794680697094,
          -1.4990317076611852,
          -0.7842492198303922,
          -1.3121806301629386,
          -1.5962284515435832,
          0.2657376571207234,
          -0.7577841855650336,
          0.39706212625730386,
          0.6073528236931202,
          0.5706027636271244,
          0.18683438249342266,
          -0.7940508543522877,
          -0.6444701200418613,
          -0.2110685265220033,
          -0.21394613693218092,
          0.4534506074097498,
          2.438321983713647,
          -1.2396923531952755,
          -1.0338891895089748,
          -1.8686878644477178,
          1.4426106451051863,
          1.3829077973469637,
          -0.9318189639747426,
          -1.351996586738685,
          1.5595608061328485,
          -0.04392079133593794,
          -0.3249146952228359,
          -0.3561904783582894,
          -0.23101513575681648,
          0.08360620220848271,
          -0.2775960238257498,
          0.1827848967298999,
          0.526474067214003,
          2.8941246385052737,
          0.3513291582553594,
          1.4747419625145186,
          0.8114972050269655,
          0.3904436172676149,
          0.5863844172483037,
          0.132548984097949,
          -0.008685401418308297,
          1.5120385158724081,
          -0.30670267379703225,
          -1.4923253483617496,
          0.4802337079853066,
          -0.16507077011425983,
          -2.0560055890795237,
          0.10582411220975962,
          2.060496097844001,
          0.8634647915354526,
          -0.3039246066953029,
          0.1229316646230268,
          -0.038431626183908746,
          -1.5625482329206086,
          0.8026387183329571,
          -1.0443326064301137,
          -1.7441282157838378,
          0.4085613297272926,
          1.1314362749851863,
          -0.9655028773082579,
          0.6140978821152564,
          -0.6593952533441673,
          -0.34343935659321273,
          0.4034289175552191,
          1.104816451182827,
          0.3878510482013112,
          -0.743700172880391,
          -0.42968150080935014,
          -0.9391664628727731,
          -0.5884295473521228,
          -0.7177875423794414,
          2.1228794383459997,
          -0.4975295949320428,
          1.5496946784360939,
          -0.1603496989445274,
          -1.567367392800217,
          -0.1371889550701248,
          1.1782392321059363,
          -0.22356969222959078,
          -0.5950862468932329,
          0.7425841600024924,
          0.12691537384773105,
          -2.0104992712368546,
          0.9657266887418268,
          0.43111491937499125,
          -1.1636538720055476,
          5.153381097441173E-4
         ],
         "type": "scatter"
        },
        {
         "line": {
          "color": "rgba(55, 128, 191, 1.0)",
          "dash": "solid",
          "shape": "linear",
          "width": 1.3
         },
         "mode": "lines",
         "name": "B",
         "text": "",
         "x": [
          0,
          1,
          2,
          3,
          4,
          5,
          6,
          7,
          8,
          9,
          10,
          11,
          12,
          13,
          14,
          15,
          16,
          17,
          18,
          19,
          20,
          21,
          22,
          23,
          24,
          25,
          26,
          27,
          28,
          29,
          30,
          31,
          32,
          33,
          34,
          35,
          36,
          37,
          38,
          39,
          40,
          41,
          42,
          43,
          44,
          45,
          46,
          47,
          48,
          49,
          50,
          51,
          52,
          53,
          54,
          55,
          56,
          57,
          58,
          59,
          60,
          61,
          62,
          63,
          64,
          65,
          66,
          67,
          68,
          69,
          70,
          71,
          72,
          73,
          74,
          75,
          76,
          77,
          78,
          79,
          80,
          81,
          82,
          83,
          84,
          85,
          86,
          87,
          88,
          89,
          90,
          91,
          92,
          93,
          94,
          95,
          96,
          97,
          98,
          99
         ],
         "y": [
          1.7657644339687022,
          0.40152524610963597,
          -0.6490441381987168,
          -0.06690985466349718,
          -1.3836260446239395,
          -1.2828230670369736,
          1.641103044752528,
          0.02950549536361005,
          -2.1318721666960796,
          -1.0425706714763656,
          -0.6881285360861475,
          0.7129372647011848,
          -0.41299957821847816,
          0.764715578317224,
          1.6320799119277163,
          0.6648963455373257,
          1.502186292770685,
          0.5717155903686859,
          -0.08096115022213794,
          1.6688301430783008,
          1.099781650299211,
          0.8677669207363187,
          -0.049835760740421294,
          -0.7937881637743242,
          -1.6797130681383161,
          -0.8745572359960498,
          -0.09444092644838366,
          1.25026970101619,
          -2.0408326288783494,
          0.40818850602513895,
          0.9625915949894845,
          0.19149098777623977,
          -0.5412840448442139,
          -0.9668667448686264,
          0.5369895159344095,
          0.4583338589453875,
          -0.0073253076901911825,
          -0.1696692115072209,
          -0.19499724667941787,
          -0.9760650430864394,
          0.45399599089019094,
          -1.438388683371131,
          -0.030663865329517898,
          -1.5185179787148289,
          -0.27104235629081364,
          1.2370207940253466,
          0.17549520318780185,
          -0.422093343206613,
          0.8053032459521436,
          1.1307406125923145,
          -1.2661415921852701,
          0.6825205226610233,
          -0.6866233951233202,
          -1.7648581385983473,
          -1.1252794765269931,
          -1.4694753261250473,
          0.4183908398921806,
          -0.8084090371479645,
          0.8278362870211943,
          -0.38093806077119186,
          2.1232446144391943,
          -0.7157103234847048,
          1.153458938556494,
          -0.8796592512734447,
          0.644698021217474,
          0.5279713712717733,
          2.418904656614257,
          -1.7570416086898197,
          0.6994030201855514,
          -0.02822940865389242,
          0.23331442504654712,
          -0.7184573666523312,
          0.28763082108987026,
          0.9558194586851085,
          -1.1307744435339449,
          0.5961646009260254,
          0.29319217653563767,
          -1.1388899044232315,
          -0.7596053768042313,
          -0.4300073438081864,
          0.6244910560352827,
          0.8010163299977416,
          -0.8568211136062038,
          -0.7896100550557182,
          -0.9629249914457718,
          -0.43639411199462874,
          0.001555813000358842,
          -0.17681091563059353,
          -0.5321232495662198,
          0.9130347810077699,
          0.14999294028596566,
          0.28951203578929724,
          -0.19401209846592063,
          -1.2577957050234982,
          0.5077320337947091,
          -0.5621704955948704,
          -0.7793490945044861,
          -0.15103745501382332,
          0.2372061381731799,
          -2.670105086556007
         ],
         "type": "scatter"
        },
        {
         "connectgaps": false,
         "fill": "tozeroy",
         "line": {
          "color": "green",
          "dash": "solid",
          "shape": "linear",
          "width": 0.5
         },
         "mode": "lines",
         "name": "Spread",
         "showlegend": false,
         "x": [
          0,
          1,
          2,
          3,
          4,
          5,
          6,
          7,
          8,
          9,
          10,
          11,
          12,
          13,
          14,
          15,
          16,
          17,
          18,
          19,
          20,
          21,
          22,
          23,
          24,
          25,
          26,
          27,
          28,
          29,
          30,
          31,
          32,
          33,
          34,
          35,
          36,
          37,
          38,
          39,
          40,
          41,
          42,
          43,
          44,
          45,
          46,
          47,
          48,
          49,
          50,
          51,
          52,
          53,
          54,
          55,
          56,
          57,
          58,
          59,
          60,
          61,
          62,
          63,
          64,
          65,
          66,
          67,
          68,
          69,
          70,
          71,
          72,
          73,
          74,
          75,
          76,
          77,
          78,
          79,
          80,
          81,
          82,
          83,
          84,
          85,
          86,
          87,
          88,
          89,
          90,
          91,
          92,
          93,
          94,
          95,
          96,
          97,
          98,
          99
         ],
         "xaxis": "x2",
         "y": [
          "",
          0.3953082956252994,
          1.2520080491094638,
          "",
          2.687638514217708,
          0.5638592122040774,
          "",
          0.19952489311674018,
          1.5762802519816979,
          2.4565735500333763,
          1.6342147879771376,
          0.23465596982645975,
          0.6450995873446697,
          "",
          "",
          "",
          "",
          "",
          0.34669880734286135,
          "",
          "",
          "",
          0.6204385243675457,
          0.9806225462677468,
          0.8856622137860284,
          0.23008711595418851,
          "",
          "",
          2.494283236288099,
          2.030133477688508,
          "",
          "",
          "",
          2.4094773899738127,
          0.8459182814125542,
          "",
          "",
          1.7292300176400695,
          0.15107645534347994,
          0.6511503478636035,
          "",
          1.2073735476143146,
          0.1142700675380006,
          1.240921954889079,
          0.45382725302071353,
          "",
          2.718629435317472,
          0.7734225014619724,
          0.669438716562375,
          "",
          1.656585209452885,
          "",
          0.8191723792212692,
          1.756172737180039,
          2.6373179923994012,
          1.162772652328015,
          "",
          1.2886427451332712,
          "",
          "",
          "",
          2.776206421328706,
          "",
          0.5757346445781417,
          "",
          "",
          "",
          2.559680327022777,
          "",
          "",
          0.17524690468074547,
          1.8498936416375176,
          "",
          "",
          0.4713791901897776,
          "",
          0.11023674101958142,
          2.2437063556060584,
          1.1474564250055426,
          "",
          "",
          "",
          0.268391566254081,
          0.07182251267627682,
          3.0858044297917715,
          "",
          1.548138865435735,
          0.01646121668606612,
          "",
          "",
          1.0282462918199706,
          "",
          "",
          2.0003798650259905,
          "",
          "",
          1.7450757832463129,
          0.5821523743888146,
          "",
          2.6706204246657514
         ],
         "yaxis": "y2",
         "type": "scatter"
        },
        {
         "connectgaps": false,
         "fill": "tozeroy",
         "line": {
          "color": "red",
          "dash": "solid",
          "shape": "linear",
          "width": 0.5
         },
         "mode": "lines",
         "name": "Spread",
         "showlegend": false,
         "x": [
          0,
          1,
          2,
          3,
          4,
          5,
          6,
          7,
          8,
          9,
          10,
          11,
          12,
          13,
          14,
          15,
          16,
          17,
          18,
          19,
          20,
          21,
          22,
          23,
          24,
          25,
          26,
          27,
          28,
          29,
          30,
          31,
          32,
          33,
          34,
          35,
          36,
          37,
          38,
          39,
          40,
          41,
          42,
          43,
          44,
          45,
          46,
          47,
          48,
          49,
          50,
          51,
          52,
          53,
          54,
          55,
          56,
          57,
          58,
          59,
          60,
          61,
          62,
          63,
          64,
          65,
          66,
          67,
          68,
          69,
          70,
          71,
          72,
          73,
          74,
          75,
          76,
          77,
          78,
          79,
          80,
          81,
          82,
          83,
          84,
          85,
          86,
          87,
          88,
          89,
          90,
          91,
          92,
          93,
          94,
          95,
          96,
          97,
          98,
          99
         ],
         "xaxis": "x2",
         "y": [
          -1.4828213715478644,
          "",
          "",
          -1.4981367155438856,
          "",
          "",
          -2.47538024992343,
          "",
          "",
          "",
          "",
          "",
          "",
          -0.9664950463869334,
          -3.1311116195889017,
          -1.4491455653677179,
          -2.8143669229336234,
          -2.167944041912269,
          "",
          -2.4266143286433346,
          -0.7027195240419072,
          -0.2604140970431985,
          "",
          "",
          "",
          "",
          -0.11662760007361965,
          -1.464215837948371,
          "",
          "",
          -2.20228394818476,
          -1.2253801772852146,
          -1.327403819603504,
          "",
          "",
          -1.39015282292013,
          -1.3446712790484938,
          "",
          "",
          "",
          -0.8101864692484804,
          "",
          "",
          "",
          "",
          -0.7105467268113436,
          "",
          "",
          "",
          -0.31924340756534897,
          "",
          -0.09613610541271955,
          "",
          "",
          "",
          "",
          -1.91071618825393,
          "",
          -0.9929070571354541,
          -1.6750675283083318,
          -2.0174205022294345,
          "",
          -0.2899941470210413,
          "",
          -0.5217663565944471,
          -0.566402997455682,
          -3.9814528895348658,
          "",
          -1.7437356266156652,
          -1.7158988071299455,
          "",
          "",
          -1.2531336983981283,
          -0.34172157656985214,
          "",
          -0.9396039575192381,
          "",
          "",
          "",
          -0.31369282907220464,
          -1.0541725568446327,
          -1.7401827928705147,
          "",
          "",
          "",
          -0.061135482937414054,
          "",
          "",
          -1.0352441432339972,
          -1.0502237360778948,
          "",
          -0.513081728018888,
          -0.40107414842731226,
          "",
          -0.38081665994697805,
          -1.448328775641984,
          "",
          "",
          -1.4008600101787274,
          ""
         ],
         "yaxis": "y2",
         "type": "scatter"
        }
       ],
       "layout": {
        "hovermode": "x",
        "legend": {
         "bgcolor": "#F5F6F9",
         "font": {
          "color": "#4D5663"
         }
        },
        "paper_bgcolor": "#F5F6F9",
        "plot_bgcolor": "#F5F6F9",
        "template": {
         "data": {
          "barpolar": [
           {
            "marker": {
             "line": {
              "color": "rgb(17,17,17)",
              "width": 0.5
             },
             "pattern": {
              "fillmode": "overlay",
              "size": 10,
              "solidity": 0.2
             }
            },
            "type": "barpolar"
           }
          ],
          "bar": [
           {
            "error_x": {
             "color": "#f2f5fa"
            },
            "error_y": {
             "color": "#f2f5fa"
            },
            "marker": {
             "line": {
              "color": "rgb(17,17,17)",
              "width": 0.5
             },
             "pattern": {
              "fillmode": "overlay",
              "size": 10,
              "solidity": 0.2
             }
            },
            "type": "bar"
           }
          ],
          "carpet": [
           {
            "aaxis": {
             "endlinecolor": "#A2B1C6",
             "gridcolor": "#506784",
             "linecolor": "#506784",
             "minorgridcolor": "#506784",
             "startlinecolor": "#A2B1C6"
            },
            "baxis": {
             "endlinecolor": "#A2B1C6",
             "gridcolor": "#506784",
             "linecolor": "#506784",
             "minorgridcolor": "#506784",
             "startlinecolor": "#A2B1C6"
            },
            "type": "carpet"
           }
          ],
          "choropleth": [
           {
            "colorbar": {
             "outlinewidth": 0,
             "ticks": ""
            },
            "type": "choropleth"
           }
          ],
          "contourcarpet": [
           {
            "colorbar": {
             "outlinewidth": 0,
             "ticks": ""
            },
            "type": "contourcarpet"
           }
          ],
          "contour": [
           {
            "colorbar": {
             "outlinewidth": 0,
             "ticks": ""
            },
            "colorscale": [
             [
              0.0,
              "#0d0887"
             ],
             [
              0.1111111111111111,
              "#46039f"
             ],
             [
              0.2222222222222222,
              "#7201a8"
             ],
             [
              0.3333333333333333,
              "#9c179e"
             ],
             [
              0.4444444444444444,
              "#bd3786"
             ],
             [
              0.5555555555555556,
              "#d8576b"
             ],
             [
              0.6666666666666666,
              "#ed7953"
             ],
             [
              0.7777777777777778,
              "#fb9f3a"
             ],
             [
              0.8888888888888888,
              "#fdca26"
             ],
             [
              1.0,
              "#f0f921"
             ]
            ],
            "type": "contour"
           }
          ],
          "heatmapgl": [
           {
            "colorbar": {
             "outlinewidth": 0,
             "ticks": ""
            },
            "colorscale": [
             [
              0.0,
              "#0d0887"
             ],
             [
              0.1111111111111111,
              "#46039f"
             ],
             [
              0.2222222222222222,
              "#7201a8"
             ],
             [
              0.3333333333333333,
              "#9c179e"
             ],
             [
              0.4444444444444444,
              "#bd3786"
             ],
             [
              0.5555555555555556,
              "#d8576b"
             ],
             [
              0.6666666666666666,
              "#ed7953"
             ],
             [
              0.7777777777777778,
              "#fb9f3a"
             ],
             [
              0.8888888888888888,
              "#fdca26"
             ],
             [
              1.0,
              "#f0f921"
             ]
            ],
            "type": "heatmapgl"
           }
          ],
          "heatmap": [
           {
            "colorbar": {
             "outlinewidth": 0,
             "ticks": ""
            },
            "colorscale": [
             [
              0.0,
              "#0d0887"
             ],
             [
              0.1111111111111111,
              "#46039f"
             ],
             [
              0.2222222222222222,
              "#7201a8"
             ],
             [
              0.3333333333333333,
              "#9c179e"
             ],
             [
              0.4444444444444444,
              "#bd3786"
             ],
             [
              0.5555555555555556,
              "#d8576b"
             ],
             [
              0.6666666666666666,
              "#ed7953"
             ],
             [
              0.7777777777777778,
              "#fb9f3a"
             ],
             [
              0.8888888888888888,
              "#fdca26"
             ],
             [
              1.0,
              "#f0f921"
             ]
            ],
            "type": "heatmap"
           }
          ],
          "histogram2dcontour": [
           {
            "colorbar": {
             "outlinewidth": 0,
             "ticks": ""
            },
            "colorscale": [
             [
              0.0,
              "#0d0887"
             ],
             [
              0.1111111111111111,
              "#46039f"
             ],
             [
              0.2222222222222222,
              "#7201a8"
             ],
             [
              0.3333333333333333,
              "#9c179e"
             ],
             [
              0.4444444444444444,
              "#bd3786"
             ],
             [
              0.5555555555555556,
              "#d8576b"
             ],
             [
              0.6666666666666666,
              "#ed7953"
             ],
             [
              0.7777777777777778,
              "#fb9f3a"
             ],
             [
              0.8888888888888888,
              "#fdca26"
             ],
             [
              1.0,
              "#f0f921"
             ]
            ],
            "type": "histogram2dcontour"
           }
          ],
          "histogram2d": [
           {
            "colorbar": {
             "outlinewidth": 0,
             "ticks": ""
            },
            "colorscale": [
             [
              0.0,
              "#0d0887"
             ],
             [
              0.1111111111111111,
              "#46039f"
             ],
             [
              0.2222222222222222,
              "#7201a8"
             ],
             [
              0.3333333333333333,
              "#9c179e"
             ],
             [
              0.4444444444444444,
              "#bd3786"
             ],
             [
              0.5555555555555556,
              "#d8576b"
             ],
             [
              0.6666666666666666,
              "#ed7953"
             ],
             [
              0.7777777777777778,
              "#fb9f3a"
             ],
             [
              0.8888888888888888,
              "#fdca26"
             ],
             [
              1.0,
              "#f0f921"
             ]
            ],
            "type": "histogram2d"
           }
          ],
          "histogram": [
           {
            "marker": {
             "pattern": {
              "fillmode": "overlay",
              "size": 10,
              "solidity": 0.2
             }
            },
            "type": "histogram"
           }
          ],
          "mesh3d": [
           {
            "colorbar": {
             "outlinewidth": 0,
             "ticks": ""
            },
            "type": "mesh3d"
           }
          ],
          "parcoords": [
           {
            "line": {
             "colorbar": {
              "outlinewidth": 0,
              "ticks": ""
             }
            },
            "type": "parcoords"
           }
          ],
          "pie": [
           {
            "automargin": true,
            "type": "pie"
           }
          ],
          "scatter3d": [
           {
            "line": {
             "colorbar": {
              "outlinewidth": 0,
              "ticks": ""
             }
            },
            "marker": {
             "colorbar": {
              "outlinewidth": 0,
              "ticks": ""
             }
            },
            "type": "scatter3d"
           }
          ],
          "scattercarpet": [
           {
            "marker": {
             "colorbar": {
              "outlinewidth": 0,
              "ticks": ""
             }
            },
            "type": "scattercarpet"
           }
          ],
          "scattergeo": [
           {
            "marker": {
             "colorbar": {
              "outlinewidth": 0,
              "ticks": ""
             }
            },
            "type": "scattergeo"
           }
          ],
          "scattergl": [
           {
            "marker": {
             "line": {
              "color": "#283442"
             }
            },
            "type": "scattergl"
           }
          ],
          "scattermapbox": [
           {
            "marker": {
             "colorbar": {
              "outlinewidth": 0,
              "ticks": ""
             }
            },
            "type": "scattermapbox"
           }
          ],
          "scatterpolargl": [
           {
            "marker": {
             "colorbar": {
              "outlinewidth": 0,
              "ticks": ""
             }
            },
            "type": "scatterpolargl"
           }
          ],
          "scatterpolar": [
           {
            "marker": {
             "colorbar": {
              "outlinewidth": 0,
              "ticks": ""
             }
            },
            "type": "scatterpolar"
           }
          ],
          "scatter": [
           {
            "marker": {
             "line": {
              "color": "#283442"
             }
            },
            "type": "scatter"
           }
          ],
          "scatterternary": [
           {
            "marker": {
             "colorbar": {
              "outlinewidth": 0,
              "ticks": ""
             }
            },
            "type": "scatterternary"
           }
          ],
          "surface": [
           {
            "colorbar": {
             "outlinewidth": 0,
             "ticks": ""
            },
            "colorscale": [
             [
              0.0,
              "#0d0887"
             ],
             [
              0.1111111111111111,
              "#46039f"
             ],
             [
              0.2222222222222222,
              "#7201a8"
             ],
             [
              0.3333333333333333,
              "#9c179e"
             ],
             [
              0.4444444444444444,
              "#bd3786"
             ],
             [
              0.5555555555555556,
              "#d8576b"
             ],
             [
              0.6666666666666666,
              "#ed7953"
             ],
             [
              0.7777777777777778,
              "#fb9f3a"
             ],
             [
              0.8888888888888888,
              "#fdca26"
             ],
             [
              1.0,
              "#f0f921"
             ]
            ],
            "type": "surface"
           }
          ],
          "table": [
           {
            "cells": {
             "fill": {
              "color": "#506784"
             },
             "line": {
              "color": "rgb(17,17,17)"
             }
            },
            "header": {
             "fill": {
              "color": "#2a3f5f"
             },
             "line": {
              "color": "rgb(17,17,17)"
             }
            },
            "type": "table"
           }
          ]
         },
         "layout": {
          "annotationdefaults": {
           "arrowcolor": "#f2f5fa",
           "arrowhead": 0,
           "arrowwidth": 1
          },
          "autotypenumbers": "strict",
          "coloraxis": {
           "colorbar": {
            "outlinewidth": 0,
            "ticks": ""
           }
          },
          "colorscale": {
           "diverging": [
            [
             0,
             "#8e0152"
            ],
            [
             0.1,
             "#c51b7d"
            ],
            [
             0.2,
             "#de77ae"
            ],
            [
             0.3,
             "#f1b6da"
            ],
            [
             0.4,
             "#fde0ef"
            ],
            [
             0.5,
             "#f7f7f7"
            ],
            [
             0.6,
             "#e6f5d0"
            ],
            [
             0.7,
             "#b8e186"
            ],
            [
             0.8,
             "#7fbc41"
            ],
            [
             0.9,
             "#4d9221"
            ],
            [
             1,
             "#276419"
            ]
           ],
           "sequential": [
            [
             0.0,
             "#0d0887"
            ],
            [
             0.1111111111111111,
             "#46039f"
            ],
            [
             0.2222222222222222,
             "#7201a8"
            ],
            [
             0.3333333333333333,
             "#9c179e"
            ],
            [
             0.4444444444444444,
             "#bd3786"
            ],
            [
             0.5555555555555556,
             "#d8576b"
            ],
            [
             0.6666666666666666,
             "#ed7953"
            ],
            [
             0.7777777777777778,
             "#fb9f3a"
            ],
            [
             0.8888888888888888,
             "#fdca26"
            ],
            [
             1.0,
             "#f0f921"
            ]
           ],
           "sequentialminus": [
            [
             0.0,
             "#0d0887"
            ],
            [
             0.1111111111111111,
             "#46039f"
            ],
            [
             0.2222222222222222,
             "#7201a8"
            ],
            [
             0.3333333333333333,
             "#9c179e"
            ],
            [
             0.4444444444444444,
             "#bd3786"
            ],
            [
             0.5555555555555556,
             "#d8576b"
            ],
            [
             0.6666666666666666,
             "#ed7953"
            ],
            [
             0.7777777777777778,
             "#fb9f3a"
            ],
            [
             0.8888888888888888,
             "#fdca26"
            ],
            [
             1.0,
             "#f0f921"
            ]
           ]
          },
          "colorway": [
           "#636efa",
           "#EF553B",
           "#00cc96",
           "#ab63fa",
           "#FFA15A",
           "#19d3f3",
           "#FF6692",
           "#B6E880",
           "#FF97FF",
           "#FECB52"
          ],
          "font": {
           "color": "#f2f5fa"
          },
          "geo": {
           "bgcolor": "rgb(17,17,17)",
           "lakecolor": "rgb(17,17,17)",
           "landcolor": "rgb(17,17,17)",
           "showlakes": true,
           "showland": true,
           "subunitcolor": "#506784"
          },
          "hoverlabel": {
           "align": "left"
          },
          "hovermode": "closest",
          "mapbox": {
           "style": "dark"
          },
          "paper_bgcolor": "rgb(17,17,17)",
          "plot_bgcolor": "rgb(17,17,17)",
          "polar": {
           "angularaxis": {
            "gridcolor": "#506784",
            "linecolor": "#506784",
            "ticks": ""
           },
           "bgcolor": "rgb(17,17,17)",
           "radialaxis": {
            "gridcolor": "#506784",
            "linecolor": "#506784",
            "ticks": ""
           }
          },
          "scene": {
           "xaxis": {
            "backgroundcolor": "rgb(17,17,17)",
            "gridcolor": "#506784",
            "gridwidth": 2,
            "linecolor": "#506784",
            "showbackground": true,
            "ticks": "",
            "zerolinecolor": "#C8D4E3"
           },
           "yaxis": {
            "backgroundcolor": "rgb(17,17,17)",
            "gridcolor": "#506784",
            "gridwidth": 2,
            "linecolor": "#506784",
            "showbackground": true,
            "ticks": "",
            "zerolinecolor": "#C8D4E3"
           },
           "zaxis": {
            "backgroundcolor": "rgb(17,17,17)",
            "gridcolor": "#506784",
            "gridwidth": 2,
            "linecolor": "#506784",
            "showbackground": true,
            "ticks": "",
            "zerolinecolor": "#C8D4E3"
           }
          },
          "shapedefaults": {
           "line": {
            "color": "#f2f5fa"
           }
          },
          "sliderdefaults": {
           "bgcolor": "#C8D4E3",
           "bordercolor": "rgb(17,17,17)",
           "borderwidth": 1,
           "tickwidth": 0
          },
          "ternary": {
           "aaxis": {
            "gridcolor": "#506784",
            "linecolor": "#506784",
            "ticks": ""
           },
           "baxis": {
            "gridcolor": "#506784",
            "linecolor": "#506784",
            "ticks": ""
           },
           "bgcolor": "rgb(17,17,17)",
           "caxis": {
            "gridcolor": "#506784",
            "linecolor": "#506784",
            "ticks": ""
           }
          },
          "title": {
           "x": 0.05
          },
          "updatemenudefaults": {
           "bgcolor": "#506784",
           "borderwidth": 0
          },
          "xaxis": {
           "automargin": true,
           "gridcolor": "#283442",
           "linecolor": "#506784",
           "ticks": "",
           "title": {
            "standoff": 15
           },
           "zerolinecolor": "#283442",
           "zerolinewidth": 2
          },
          "yaxis": {
           "automargin": true,
           "gridcolor": "#283442",
           "linecolor": "#506784",
           "ticks": "",
           "title": {
            "standoff": 15
           },
           "zerolinecolor": "#283442",
           "zerolinewidth": 2
          }
         }
        },
        "title": {
         "font": {
          "color": "#4D5663"
         }
        },
        "xaxis": {
         "gridcolor": "#E1E5ED",
         "showgrid": true,
         "tickfont": {
          "color": "#4D5663"
         },
         "title": {
          "font": {
           "color": "#4D5663"
          },
          "text": ""
         },
         "zerolinecolor": "#E1E5ED"
        },
        "yaxis": {
         "domain": [
          0.3,
          1
         ],
         "gridcolor": "#E1E5ED",
         "showgrid": true,
         "tickfont": {
          "color": "#4D5663"
         },
         "title": {
          "font": {
           "color": "#4D5663"
          },
          "text": ""
         },
         "zerolinecolor": "#E1E5ED"
        },
        "yaxis2": {
         "domain": [
          0,
          0.25
         ],
         "gridcolor": "#E1E5ED",
         "showgrid": true,
         "tickfont": {
          "color": "#4D5663"
         },
         "title": {
          "font": {
           "color": "#4D5663"
          },
          "text": "Spread"
         },
         "zerolinecolor": "#E1E5ED"
        },
        "xaxis2": {
         "anchor": "y2",
         "gridcolor": "#E1E5ED",
         "showgrid": true,
         "showticklabels": false,
         "tickfont": {
          "color": "#4D5663"
         },
         "title": {
          "font": {
           "color": "#4D5663"
          },
          "text": ""
         },
         "zerolinecolor": "#E1E5ED"
        }
       },
       "config": {
        "showLink": true,
        "linkText": "Export to plot.ly",
        "plotlyServerURL": "https://plot.ly"
       }
      },
      "text/html": "<div>                            <div id=\"1133edb9-6017-452f-9dee-7f34a54ea749\" class=\"plotly-graph-div\" style=\"height:525px; width:100%;\"></div>            <script type=\"text/javascript\">                require([\"plotly\"], function(Plotly) {                    window.PLOTLYENV=window.PLOTLYENV || {};\n                    window.PLOTLYENV.BASE_URL='https://plot.ly';                                    if (document.getElementById(\"1133edb9-6017-452f-9dee-7f34a54ea749\")) {                    Plotly.newPlot(                        \"1133edb9-6017-452f-9dee-7f34a54ea749\",                        [{\"line\":{\"color\":\"rgba(255, 153, 51, 1.0)\",\"dash\":\"solid\",\"shape\":\"linear\",\"width\":1.3},\"mode\":\"lines\",\"name\":\"A\",\"text\":\"\",\"x\":[0,1,2,3,4,5,6,7,8,9,10,11,12,13,14,15,16,17,18,19,20,21,22,23,24,25,26,27,28,29,30,31,32,33,34,35,36,37,38,39,40,41,42,43,44,45,46,47,48,49,50,51,52,53,54,55,56,57,58,59,60,61,62,63,64,65,66,67,68,69,70,71,72,73,74,75,76,77,78,79,80,81,82,83,84,85,86,87,88,89,90,91,92,93,94,95,96,97,98,99],\"y\":[0.28294306242083767,0.7968335417349354,0.6029639109107471,-1.5650465702073828,1.304012469593769,-0.7189638548328962,-0.8342772051709019,0.22903038848035023,-0.5555919147143817,1.4140028785570107,0.94608625189099,0.9475932345276445,0.23210000912619144,-0.2017794680697094,-1.4990317076611852,-0.7842492198303922,-1.3121806301629386,-1.5962284515435832,0.2657376571207234,-0.7577841855650336,0.39706212625730386,0.6073528236931202,0.5706027636271244,0.18683438249342266,-0.7940508543522877,-0.6444701200418613,-0.2110685265220033,-0.21394613693218092,0.4534506074097498,2.438321983713647,-1.2396923531952755,-1.0338891895089748,-1.8686878644477178,1.4426106451051863,1.3829077973469637,-0.9318189639747426,-1.351996586738685,1.5595608061328485,-0.04392079133593794,-0.3249146952228359,-0.3561904783582894,-0.23101513575681648,0.08360620220848271,-0.2775960238257498,0.1827848967298999,0.526474067214003,2.8941246385052737,0.3513291582553594,1.4747419625145186,0.8114972050269655,0.3904436172676149,0.5863844172483037,0.132548984097949,-0.008685401418308297,1.5120385158724081,-0.30670267379703225,-1.4923253483617496,0.4802337079853066,-0.16507077011425983,-2.0560055890795237,0.10582411220975962,2.060496097844001,0.8634647915354526,-0.3039246066953029,0.1229316646230268,-0.038431626183908746,-1.5625482329206086,0.8026387183329571,-1.0443326064301137,-1.7441282157838378,0.4085613297272926,1.1314362749851863,-0.9655028773082579,0.6140978821152564,-0.6593952533441673,-0.34343935659321273,0.4034289175552191,1.104816451182827,0.3878510482013112,-0.743700172880391,-0.42968150080935014,-0.9391664628727731,-0.5884295473521228,-0.7177875423794414,2.1228794383459997,-0.4975295949320428,1.5496946784360939,-0.1603496989445274,-1.567367392800217,-0.1371889550701248,1.1782392321059363,-0.22356969222959078,-0.5950862468932329,0.7425841600024924,0.12691537384773105,-2.0104992712368546,0.9657266887418268,0.43111491937499125,-1.1636538720055476,0.0005153381097441173],\"type\":\"scatter\"},{\"line\":{\"color\":\"rgba(55, 128, 191, 1.0)\",\"dash\":\"solid\",\"shape\":\"linear\",\"width\":1.3},\"mode\":\"lines\",\"name\":\"B\",\"text\":\"\",\"x\":[0,1,2,3,4,5,6,7,8,9,10,11,12,13,14,15,16,17,18,19,20,21,22,23,24,25,26,27,28,29,30,31,32,33,34,35,36,37,38,39,40,41,42,43,44,45,46,47,48,49,50,51,52,53,54,55,56,57,58,59,60,61,62,63,64,65,66,67,68,69,70,71,72,73,74,75,76,77,78,79,80,81,82,83,84,85,86,87,88,89,90,91,92,93,94,95,96,97,98,99],\"y\":[1.7657644339687022,0.40152524610963597,-0.6490441381987168,-0.06690985466349718,-1.3836260446239395,-1.2828230670369736,1.641103044752528,0.02950549536361005,-2.1318721666960796,-1.0425706714763656,-0.6881285360861475,0.7129372647011848,-0.41299957821847816,0.764715578317224,1.6320799119277163,0.6648963455373257,1.502186292770685,0.5717155903686859,-0.08096115022213794,1.6688301430783008,1.099781650299211,0.8677669207363187,-0.049835760740421294,-0.7937881637743242,-1.6797130681383161,-0.8745572359960498,-0.09444092644838366,1.25026970101619,-2.0408326288783494,0.40818850602513895,0.9625915949894845,0.19149098777623977,-0.5412840448442139,-0.9668667448686264,0.5369895159344095,0.4583338589453875,-0.0073253076901911825,-0.1696692115072209,-0.19499724667941787,-0.9760650430864394,0.45399599089019094,-1.438388683371131,-0.030663865329517898,-1.5185179787148289,-0.27104235629081364,1.2370207940253466,0.17549520318780185,-0.422093343206613,0.8053032459521436,1.1307406125923145,-1.2661415921852701,0.6825205226610233,-0.6866233951233202,-1.7648581385983473,-1.1252794765269931,-1.4694753261250473,0.4183908398921806,-0.8084090371479645,0.8278362870211943,-0.38093806077119186,2.1232446144391943,-0.7157103234847048,1.153458938556494,-0.8796592512734447,0.644698021217474,0.5279713712717733,2.418904656614257,-1.7570416086898197,0.6994030201855514,-0.02822940865389242,0.23331442504654712,-0.7184573666523312,0.28763082108987026,0.9558194586851085,-1.1307744435339449,0.5961646009260254,0.29319217653563767,-1.1388899044232315,-0.7596053768042313,-0.4300073438081864,0.6244910560352827,0.8010163299977416,-0.8568211136062038,-0.7896100550557182,-0.9629249914457718,-0.43639411199462874,0.001555813000358842,-0.17681091563059353,-0.5321232495662198,0.9130347810077699,0.14999294028596566,0.28951203578929724,-0.19401209846592063,-1.2577957050234982,0.5077320337947091,-0.5621704955948704,-0.7793490945044861,-0.15103745501382332,0.2372061381731799,-2.670105086556007],\"type\":\"scatter\"},{\"connectgaps\":false,\"fill\":\"tozeroy\",\"line\":{\"color\":\"green\",\"dash\":\"solid\",\"shape\":\"linear\",\"width\":0.5},\"mode\":\"lines\",\"name\":\"Spread\",\"showlegend\":false,\"x\":[0,1,2,3,4,5,6,7,8,9,10,11,12,13,14,15,16,17,18,19,20,21,22,23,24,25,26,27,28,29,30,31,32,33,34,35,36,37,38,39,40,41,42,43,44,45,46,47,48,49,50,51,52,53,54,55,56,57,58,59,60,61,62,63,64,65,66,67,68,69,70,71,72,73,74,75,76,77,78,79,80,81,82,83,84,85,86,87,88,89,90,91,92,93,94,95,96,97,98,99],\"xaxis\":\"x2\",\"y\":[\"\",0.3953082956252994,1.2520080491094638,\"\",2.687638514217708,0.5638592122040774,\"\",0.19952489311674018,1.5762802519816979,2.4565735500333763,1.6342147879771376,0.23465596982645975,0.6450995873446697,\"\",\"\",\"\",\"\",\"\",0.34669880734286135,\"\",\"\",\"\",0.6204385243675457,0.9806225462677468,0.8856622137860284,0.23008711595418851,\"\",\"\",2.494283236288099,2.030133477688508,\"\",\"\",\"\",2.4094773899738127,0.8459182814125542,\"\",\"\",1.7292300176400695,0.15107645534347994,0.6511503478636035,\"\",1.2073735476143146,0.1142700675380006,1.240921954889079,0.45382725302071353,\"\",2.718629435317472,0.7734225014619724,0.669438716562375,\"\",1.656585209452885,\"\",0.8191723792212692,1.756172737180039,2.6373179923994012,1.162772652328015,\"\",1.2886427451332712,\"\",\"\",\"\",2.776206421328706,\"\",0.5757346445781417,\"\",\"\",\"\",2.559680327022777,\"\",\"\",0.17524690468074547,1.8498936416375176,\"\",\"\",0.4713791901897776,\"\",0.11023674101958142,2.2437063556060584,1.1474564250055426,\"\",\"\",\"\",0.268391566254081,0.07182251267627682,3.0858044297917715,\"\",1.548138865435735,0.01646121668606612,\"\",\"\",1.0282462918199706,\"\",\"\",2.0003798650259905,\"\",\"\",1.7450757832463129,0.5821523743888146,\"\",2.6706204246657514],\"yaxis\":\"y2\",\"type\":\"scatter\"},{\"connectgaps\":false,\"fill\":\"tozeroy\",\"line\":{\"color\":\"red\",\"dash\":\"solid\",\"shape\":\"linear\",\"width\":0.5},\"mode\":\"lines\",\"name\":\"Spread\",\"showlegend\":false,\"x\":[0,1,2,3,4,5,6,7,8,9,10,11,12,13,14,15,16,17,18,19,20,21,22,23,24,25,26,27,28,29,30,31,32,33,34,35,36,37,38,39,40,41,42,43,44,45,46,47,48,49,50,51,52,53,54,55,56,57,58,59,60,61,62,63,64,65,66,67,68,69,70,71,72,73,74,75,76,77,78,79,80,81,82,83,84,85,86,87,88,89,90,91,92,93,94,95,96,97,98,99],\"xaxis\":\"x2\",\"y\":[-1.4828213715478644,\"\",\"\",-1.4981367155438856,\"\",\"\",-2.47538024992343,\"\",\"\",\"\",\"\",\"\",\"\",-0.9664950463869334,-3.1311116195889017,-1.4491455653677179,-2.8143669229336234,-2.167944041912269,\"\",-2.4266143286433346,-0.7027195240419072,-0.2604140970431985,\"\",\"\",\"\",\"\",-0.11662760007361965,-1.464215837948371,\"\",\"\",-2.20228394818476,-1.2253801772852146,-1.327403819603504,\"\",\"\",-1.39015282292013,-1.3446712790484938,\"\",\"\",\"\",-0.8101864692484804,\"\",\"\",\"\",\"\",-0.7105467268113436,\"\",\"\",\"\",-0.31924340756534897,\"\",-0.09613610541271955,\"\",\"\",\"\",\"\",-1.91071618825393,\"\",-0.9929070571354541,-1.6750675283083318,-2.0174205022294345,\"\",-0.2899941470210413,\"\",-0.5217663565944471,-0.566402997455682,-3.9814528895348658,\"\",-1.7437356266156652,-1.7158988071299455,\"\",\"\",-1.2531336983981283,-0.34172157656985214,\"\",-0.9396039575192381,\"\",\"\",\"\",-0.31369282907220464,-1.0541725568446327,-1.7401827928705147,\"\",\"\",\"\",-0.061135482937414054,\"\",\"\",-1.0352441432339972,-1.0502237360778948,\"\",-0.513081728018888,-0.40107414842731226,\"\",-0.38081665994697805,-1.448328775641984,\"\",\"\",-1.4008600101787274,\"\"],\"yaxis\":\"y2\",\"type\":\"scatter\"}],                        {\"hovermode\":\"x\",\"legend\":{\"bgcolor\":\"#F5F6F9\",\"font\":{\"color\":\"#4D5663\"}},\"paper_bgcolor\":\"#F5F6F9\",\"plot_bgcolor\":\"#F5F6F9\",\"template\":{\"data\":{\"barpolar\":[{\"marker\":{\"line\":{\"color\":\"rgb(17,17,17)\",\"width\":0.5},\"pattern\":{\"fillmode\":\"overlay\",\"size\":10,\"solidity\":0.2}},\"type\":\"barpolar\"}],\"bar\":[{\"error_x\":{\"color\":\"#f2f5fa\"},\"error_y\":{\"color\":\"#f2f5fa\"},\"marker\":{\"line\":{\"color\":\"rgb(17,17,17)\",\"width\":0.5},\"pattern\":{\"fillmode\":\"overlay\",\"size\":10,\"solidity\":0.2}},\"type\":\"bar\"}],\"carpet\":[{\"aaxis\":{\"endlinecolor\":\"#A2B1C6\",\"gridcolor\":\"#506784\",\"linecolor\":\"#506784\",\"minorgridcolor\":\"#506784\",\"startlinecolor\":\"#A2B1C6\"},\"baxis\":{\"endlinecolor\":\"#A2B1C6\",\"gridcolor\":\"#506784\",\"linecolor\":\"#506784\",\"minorgridcolor\":\"#506784\",\"startlinecolor\":\"#A2B1C6\"},\"type\":\"carpet\"}],\"choropleth\":[{\"colorbar\":{\"outlinewidth\":0,\"ticks\":\"\"},\"type\":\"choropleth\"}],\"contourcarpet\":[{\"colorbar\":{\"outlinewidth\":0,\"ticks\":\"\"},\"type\":\"contourcarpet\"}],\"contour\":[{\"colorbar\":{\"outlinewidth\":0,\"ticks\":\"\"},\"colorscale\":[[0.0,\"#0d0887\"],[0.1111111111111111,\"#46039f\"],[0.2222222222222222,\"#7201a8\"],[0.3333333333333333,\"#9c179e\"],[0.4444444444444444,\"#bd3786\"],[0.5555555555555556,\"#d8576b\"],[0.6666666666666666,\"#ed7953\"],[0.7777777777777778,\"#fb9f3a\"],[0.8888888888888888,\"#fdca26\"],[1.0,\"#f0f921\"]],\"type\":\"contour\"}],\"heatmapgl\":[{\"colorbar\":{\"outlinewidth\":0,\"ticks\":\"\"},\"colorscale\":[[0.0,\"#0d0887\"],[0.1111111111111111,\"#46039f\"],[0.2222222222222222,\"#7201a8\"],[0.3333333333333333,\"#9c179e\"],[0.4444444444444444,\"#bd3786\"],[0.5555555555555556,\"#d8576b\"],[0.6666666666666666,\"#ed7953\"],[0.7777777777777778,\"#fb9f3a\"],[0.8888888888888888,\"#fdca26\"],[1.0,\"#f0f921\"]],\"type\":\"heatmapgl\"}],\"heatmap\":[{\"colorbar\":{\"outlinewidth\":0,\"ticks\":\"\"},\"colorscale\":[[0.0,\"#0d0887\"],[0.1111111111111111,\"#46039f\"],[0.2222222222222222,\"#7201a8\"],[0.3333333333333333,\"#9c179e\"],[0.4444444444444444,\"#bd3786\"],[0.5555555555555556,\"#d8576b\"],[0.6666666666666666,\"#ed7953\"],[0.7777777777777778,\"#fb9f3a\"],[0.8888888888888888,\"#fdca26\"],[1.0,\"#f0f921\"]],\"type\":\"heatmap\"}],\"histogram2dcontour\":[{\"colorbar\":{\"outlinewidth\":0,\"ticks\":\"\"},\"colorscale\":[[0.0,\"#0d0887\"],[0.1111111111111111,\"#46039f\"],[0.2222222222222222,\"#7201a8\"],[0.3333333333333333,\"#9c179e\"],[0.4444444444444444,\"#bd3786\"],[0.5555555555555556,\"#d8576b\"],[0.6666666666666666,\"#ed7953\"],[0.7777777777777778,\"#fb9f3a\"],[0.8888888888888888,\"#fdca26\"],[1.0,\"#f0f921\"]],\"type\":\"histogram2dcontour\"}],\"histogram2d\":[{\"colorbar\":{\"outlinewidth\":0,\"ticks\":\"\"},\"colorscale\":[[0.0,\"#0d0887\"],[0.1111111111111111,\"#46039f\"],[0.2222222222222222,\"#7201a8\"],[0.3333333333333333,\"#9c179e\"],[0.4444444444444444,\"#bd3786\"],[0.5555555555555556,\"#d8576b\"],[0.6666666666666666,\"#ed7953\"],[0.7777777777777778,\"#fb9f3a\"],[0.8888888888888888,\"#fdca26\"],[1.0,\"#f0f921\"]],\"type\":\"histogram2d\"}],\"histogram\":[{\"marker\":{\"pattern\":{\"fillmode\":\"overlay\",\"size\":10,\"solidity\":0.2}},\"type\":\"histogram\"}],\"mesh3d\":[{\"colorbar\":{\"outlinewidth\":0,\"ticks\":\"\"},\"type\":\"mesh3d\"}],\"parcoords\":[{\"line\":{\"colorbar\":{\"outlinewidth\":0,\"ticks\":\"\"}},\"type\":\"parcoords\"}],\"pie\":[{\"automargin\":true,\"type\":\"pie\"}],\"scatter3d\":[{\"line\":{\"colorbar\":{\"outlinewidth\":0,\"ticks\":\"\"}},\"marker\":{\"colorbar\":{\"outlinewidth\":0,\"ticks\":\"\"}},\"type\":\"scatter3d\"}],\"scattercarpet\":[{\"marker\":{\"colorbar\":{\"outlinewidth\":0,\"ticks\":\"\"}},\"type\":\"scattercarpet\"}],\"scattergeo\":[{\"marker\":{\"colorbar\":{\"outlinewidth\":0,\"ticks\":\"\"}},\"type\":\"scattergeo\"}],\"scattergl\":[{\"marker\":{\"line\":{\"color\":\"#283442\"}},\"type\":\"scattergl\"}],\"scattermapbox\":[{\"marker\":{\"colorbar\":{\"outlinewidth\":0,\"ticks\":\"\"}},\"type\":\"scattermapbox\"}],\"scatterpolargl\":[{\"marker\":{\"colorbar\":{\"outlinewidth\":0,\"ticks\":\"\"}},\"type\":\"scatterpolargl\"}],\"scatterpolar\":[{\"marker\":{\"colorbar\":{\"outlinewidth\":0,\"ticks\":\"\"}},\"type\":\"scatterpolar\"}],\"scatter\":[{\"marker\":{\"line\":{\"color\":\"#283442\"}},\"type\":\"scatter\"}],\"scatterternary\":[{\"marker\":{\"colorbar\":{\"outlinewidth\":0,\"ticks\":\"\"}},\"type\":\"scatterternary\"}],\"surface\":[{\"colorbar\":{\"outlinewidth\":0,\"ticks\":\"\"},\"colorscale\":[[0.0,\"#0d0887\"],[0.1111111111111111,\"#46039f\"],[0.2222222222222222,\"#7201a8\"],[0.3333333333333333,\"#9c179e\"],[0.4444444444444444,\"#bd3786\"],[0.5555555555555556,\"#d8576b\"],[0.6666666666666666,\"#ed7953\"],[0.7777777777777778,\"#fb9f3a\"],[0.8888888888888888,\"#fdca26\"],[1.0,\"#f0f921\"]],\"type\":\"surface\"}],\"table\":[{\"cells\":{\"fill\":{\"color\":\"#506784\"},\"line\":{\"color\":\"rgb(17,17,17)\"}},\"header\":{\"fill\":{\"color\":\"#2a3f5f\"},\"line\":{\"color\":\"rgb(17,17,17)\"}},\"type\":\"table\"}]},\"layout\":{\"annotationdefaults\":{\"arrowcolor\":\"#f2f5fa\",\"arrowhead\":0,\"arrowwidth\":1},\"autotypenumbers\":\"strict\",\"coloraxis\":{\"colorbar\":{\"outlinewidth\":0,\"ticks\":\"\"}},\"colorscale\":{\"diverging\":[[0,\"#8e0152\"],[0.1,\"#c51b7d\"],[0.2,\"#de77ae\"],[0.3,\"#f1b6da\"],[0.4,\"#fde0ef\"],[0.5,\"#f7f7f7\"],[0.6,\"#e6f5d0\"],[0.7,\"#b8e186\"],[0.8,\"#7fbc41\"],[0.9,\"#4d9221\"],[1,\"#276419\"]],\"sequential\":[[0.0,\"#0d0887\"],[0.1111111111111111,\"#46039f\"],[0.2222222222222222,\"#7201a8\"],[0.3333333333333333,\"#9c179e\"],[0.4444444444444444,\"#bd3786\"],[0.5555555555555556,\"#d8576b\"],[0.6666666666666666,\"#ed7953\"],[0.7777777777777778,\"#fb9f3a\"],[0.8888888888888888,\"#fdca26\"],[1.0,\"#f0f921\"]],\"sequentialminus\":[[0.0,\"#0d0887\"],[0.1111111111111111,\"#46039f\"],[0.2222222222222222,\"#7201a8\"],[0.3333333333333333,\"#9c179e\"],[0.4444444444444444,\"#bd3786\"],[0.5555555555555556,\"#d8576b\"],[0.6666666666666666,\"#ed7953\"],[0.7777777777777778,\"#fb9f3a\"],[0.8888888888888888,\"#fdca26\"],[1.0,\"#f0f921\"]]},\"colorway\":[\"#636efa\",\"#EF553B\",\"#00cc96\",\"#ab63fa\",\"#FFA15A\",\"#19d3f3\",\"#FF6692\",\"#B6E880\",\"#FF97FF\",\"#FECB52\"],\"font\":{\"color\":\"#f2f5fa\"},\"geo\":{\"bgcolor\":\"rgb(17,17,17)\",\"lakecolor\":\"rgb(17,17,17)\",\"landcolor\":\"rgb(17,17,17)\",\"showlakes\":true,\"showland\":true,\"subunitcolor\":\"#506784\"},\"hoverlabel\":{\"align\":\"left\"},\"hovermode\":\"closest\",\"mapbox\":{\"style\":\"dark\"},\"paper_bgcolor\":\"rgb(17,17,17)\",\"plot_bgcolor\":\"rgb(17,17,17)\",\"polar\":{\"angularaxis\":{\"gridcolor\":\"#506784\",\"linecolor\":\"#506784\",\"ticks\":\"\"},\"bgcolor\":\"rgb(17,17,17)\",\"radialaxis\":{\"gridcolor\":\"#506784\",\"linecolor\":\"#506784\",\"ticks\":\"\"}},\"scene\":{\"xaxis\":{\"backgroundcolor\":\"rgb(17,17,17)\",\"gridcolor\":\"#506784\",\"gridwidth\":2,\"linecolor\":\"#506784\",\"showbackground\":true,\"ticks\":\"\",\"zerolinecolor\":\"#C8D4E3\"},\"yaxis\":{\"backgroundcolor\":\"rgb(17,17,17)\",\"gridcolor\":\"#506784\",\"gridwidth\":2,\"linecolor\":\"#506784\",\"showbackground\":true,\"ticks\":\"\",\"zerolinecolor\":\"#C8D4E3\"},\"zaxis\":{\"backgroundcolor\":\"rgb(17,17,17)\",\"gridcolor\":\"#506784\",\"gridwidth\":2,\"linecolor\":\"#506784\",\"showbackground\":true,\"ticks\":\"\",\"zerolinecolor\":\"#C8D4E3\"}},\"shapedefaults\":{\"line\":{\"color\":\"#f2f5fa\"}},\"sliderdefaults\":{\"bgcolor\":\"#C8D4E3\",\"bordercolor\":\"rgb(17,17,17)\",\"borderwidth\":1,\"tickwidth\":0},\"ternary\":{\"aaxis\":{\"gridcolor\":\"#506784\",\"linecolor\":\"#506784\",\"ticks\":\"\"},\"baxis\":{\"gridcolor\":\"#506784\",\"linecolor\":\"#506784\",\"ticks\":\"\"},\"bgcolor\":\"rgb(17,17,17)\",\"caxis\":{\"gridcolor\":\"#506784\",\"linecolor\":\"#506784\",\"ticks\":\"\"}},\"title\":{\"x\":0.05},\"updatemenudefaults\":{\"bgcolor\":\"#506784\",\"borderwidth\":0},\"xaxis\":{\"automargin\":true,\"gridcolor\":\"#283442\",\"linecolor\":\"#506784\",\"ticks\":\"\",\"title\":{\"standoff\":15},\"zerolinecolor\":\"#283442\",\"zerolinewidth\":2},\"yaxis\":{\"automargin\":true,\"gridcolor\":\"#283442\",\"linecolor\":\"#506784\",\"ticks\":\"\",\"title\":{\"standoff\":15},\"zerolinecolor\":\"#283442\",\"zerolinewidth\":2}}},\"title\":{\"font\":{\"color\":\"#4D5663\"}},\"xaxis\":{\"gridcolor\":\"#E1E5ED\",\"showgrid\":true,\"tickfont\":{\"color\":\"#4D5663\"},\"title\":{\"font\":{\"color\":\"#4D5663\"},\"text\":\"\"},\"zerolinecolor\":\"#E1E5ED\"},\"yaxis\":{\"domain\":[0.3,1],\"gridcolor\":\"#E1E5ED\",\"showgrid\":true,\"tickfont\":{\"color\":\"#4D5663\"},\"title\":{\"font\":{\"color\":\"#4D5663\"},\"text\":\"\"},\"zerolinecolor\":\"#E1E5ED\"},\"yaxis2\":{\"domain\":[0,0.25],\"gridcolor\":\"#E1E5ED\",\"showgrid\":true,\"tickfont\":{\"color\":\"#4D5663\"},\"title\":{\"font\":{\"color\":\"#4D5663\"},\"text\":\"Spread\"},\"zerolinecolor\":\"#E1E5ED\"},\"xaxis2\":{\"anchor\":\"y2\",\"gridcolor\":\"#E1E5ED\",\"showgrid\":true,\"showticklabels\":false,\"tickfont\":{\"color\":\"#4D5663\"},\"title\":{\"font\":{\"color\":\"#4D5663\"},\"text\":\"\"},\"zerolinecolor\":\"#E1E5ED\"}},                        {\"showLink\": true, \"linkText\": \"Export to plot.ly\", \"plotlyServerURL\": \"https://plot.ly\", \"responsive\": true}                    ).then(function(){\n                            \nvar gd = document.getElementById('1133edb9-6017-452f-9dee-7f34a54ea749');\nvar x = new MutationObserver(function (mutations, observer) {{\n        var display = window.getComputedStyle(gd).display;\n        if (!display || display === 'none') {{\n            console.log([gd, 'removed!']);\n            Plotly.purge(gd);\n            observer.disconnect();\n        }}\n}});\n\n// Listen for the removal of the full notebook cells\nvar notebookContainer = gd.closest('#notebook-container');\nif (notebookContainer) {{\n    x.observe(notebookContainer, {childList: true});\n}}\n\n// Listen for the clearing of the current output cell\nvar outputEl = gd.closest('.output');\nif (outputEl) {{\n    x.observe(outputEl, {childList: true});\n}}\n\n                        })                };                });            </script>        </div>"
     },
     "metadata": {},
     "output_type": "display_data"
    }
   ],
   "source": [
    "df[['A', 'B']].iplot(kind='spread')\n"
   ],
   "metadata": {
    "collapsed": false,
    "pycharm": {
     "name": "#%%\n"
    }
   }
  },
  {
   "cell_type": "code",
   "execution_count": 50,
   "outputs": [
    {
     "data": {
      "application/vnd.plotly.v1+json": {
       "data": [
        {
         "histfunc": "count",
         "histnorm": "",
         "marker": {
          "color": "rgba(255, 153, 51, 1.0)",
          "line": {
           "color": "#4D5663",
           "width": 1.3
          }
         },
         "name": "A",
         "opacity": 0.8,
         "orientation": "v",
         "x": [
          0.28294306242083767,
          0.7968335417349354,
          0.6029639109107471,
          -1.5650465702073828,
          1.304012469593769,
          -0.7189638548328962,
          -0.8342772051709019,
          0.22903038848035023,
          -0.5555919147143817,
          1.4140028785570107,
          0.94608625189099,
          0.9475932345276445,
          0.23210000912619144,
          -0.2017794680697094,
          -1.4990317076611852,
          -0.7842492198303922,
          -1.3121806301629386,
          -1.5962284515435832,
          0.2657376571207234,
          -0.7577841855650336,
          0.39706212625730386,
          0.6073528236931202,
          0.5706027636271244,
          0.18683438249342266,
          -0.7940508543522877,
          -0.6444701200418613,
          -0.2110685265220033,
          -0.21394613693218092,
          0.4534506074097498,
          2.438321983713647,
          -1.2396923531952755,
          -1.0338891895089748,
          -1.8686878644477178,
          1.4426106451051863,
          1.3829077973469637,
          -0.9318189639747426,
          -1.351996586738685,
          1.5595608061328485,
          -0.04392079133593794,
          -0.3249146952228359,
          -0.3561904783582894,
          -0.23101513575681648,
          0.08360620220848271,
          -0.2775960238257498,
          0.1827848967298999,
          0.526474067214003,
          2.8941246385052737,
          0.3513291582553594,
          1.4747419625145186,
          0.8114972050269655,
          0.3904436172676149,
          0.5863844172483037,
          0.132548984097949,
          -0.008685401418308297,
          1.5120385158724081,
          -0.30670267379703225,
          -1.4923253483617496,
          0.4802337079853066,
          -0.16507077011425983,
          -2.0560055890795237,
          0.10582411220975962,
          2.060496097844001,
          0.8634647915354526,
          -0.3039246066953029,
          0.1229316646230268,
          -0.038431626183908746,
          -1.5625482329206086,
          0.8026387183329571,
          -1.0443326064301137,
          -1.7441282157838378,
          0.4085613297272926,
          1.1314362749851863,
          -0.9655028773082579,
          0.6140978821152564,
          -0.6593952533441673,
          -0.34343935659321273,
          0.4034289175552191,
          1.104816451182827,
          0.3878510482013112,
          -0.743700172880391,
          -0.42968150080935014,
          -0.9391664628727731,
          -0.5884295473521228,
          -0.7177875423794414,
          2.1228794383459997,
          -0.4975295949320428,
          1.5496946784360939,
          -0.1603496989445274,
          -1.567367392800217,
          -0.1371889550701248,
          1.1782392321059363,
          -0.22356969222959078,
          -0.5950862468932329,
          0.7425841600024924,
          0.12691537384773105,
          -2.0104992712368546,
          0.9657266887418268,
          0.43111491937499125,
          -1.1636538720055476,
          5.153381097441173E-4
         ],
         "type": "histogram"
        }
       ],
       "layout": {
        "barmode": "overlay",
        "legend": {
         "bgcolor": "#F5F6F9",
         "font": {
          "color": "#4D5663"
         }
        },
        "paper_bgcolor": "#F5F6F9",
        "plot_bgcolor": "#F5F6F9",
        "template": {
         "data": {
          "barpolar": [
           {
            "marker": {
             "line": {
              "color": "rgb(17,17,17)",
              "width": 0.5
             },
             "pattern": {
              "fillmode": "overlay",
              "size": 10,
              "solidity": 0.2
             }
            },
            "type": "barpolar"
           }
          ],
          "bar": [
           {
            "error_x": {
             "color": "#f2f5fa"
            },
            "error_y": {
             "color": "#f2f5fa"
            },
            "marker": {
             "line": {
              "color": "rgb(17,17,17)",
              "width": 0.5
             },
             "pattern": {
              "fillmode": "overlay",
              "size": 10,
              "solidity": 0.2
             }
            },
            "type": "bar"
           }
          ],
          "carpet": [
           {
            "aaxis": {
             "endlinecolor": "#A2B1C6",
             "gridcolor": "#506784",
             "linecolor": "#506784",
             "minorgridcolor": "#506784",
             "startlinecolor": "#A2B1C6"
            },
            "baxis": {
             "endlinecolor": "#A2B1C6",
             "gridcolor": "#506784",
             "linecolor": "#506784",
             "minorgridcolor": "#506784",
             "startlinecolor": "#A2B1C6"
            },
            "type": "carpet"
           }
          ],
          "choropleth": [
           {
            "colorbar": {
             "outlinewidth": 0,
             "ticks": ""
            },
            "type": "choropleth"
           }
          ],
          "contourcarpet": [
           {
            "colorbar": {
             "outlinewidth": 0,
             "ticks": ""
            },
            "type": "contourcarpet"
           }
          ],
          "contour": [
           {
            "colorbar": {
             "outlinewidth": 0,
             "ticks": ""
            },
            "colorscale": [
             [
              0.0,
              "#0d0887"
             ],
             [
              0.1111111111111111,
              "#46039f"
             ],
             [
              0.2222222222222222,
              "#7201a8"
             ],
             [
              0.3333333333333333,
              "#9c179e"
             ],
             [
              0.4444444444444444,
              "#bd3786"
             ],
             [
              0.5555555555555556,
              "#d8576b"
             ],
             [
              0.6666666666666666,
              "#ed7953"
             ],
             [
              0.7777777777777778,
              "#fb9f3a"
             ],
             [
              0.8888888888888888,
              "#fdca26"
             ],
             [
              1.0,
              "#f0f921"
             ]
            ],
            "type": "contour"
           }
          ],
          "heatmapgl": [
           {
            "colorbar": {
             "outlinewidth": 0,
             "ticks": ""
            },
            "colorscale": [
             [
              0.0,
              "#0d0887"
             ],
             [
              0.1111111111111111,
              "#46039f"
             ],
             [
              0.2222222222222222,
              "#7201a8"
             ],
             [
              0.3333333333333333,
              "#9c179e"
             ],
             [
              0.4444444444444444,
              "#bd3786"
             ],
             [
              0.5555555555555556,
              "#d8576b"
             ],
             [
              0.6666666666666666,
              "#ed7953"
             ],
             [
              0.7777777777777778,
              "#fb9f3a"
             ],
             [
              0.8888888888888888,
              "#fdca26"
             ],
             [
              1.0,
              "#f0f921"
             ]
            ],
            "type": "heatmapgl"
           }
          ],
          "heatmap": [
           {
            "colorbar": {
             "outlinewidth": 0,
             "ticks": ""
            },
            "colorscale": [
             [
              0.0,
              "#0d0887"
             ],
             [
              0.1111111111111111,
              "#46039f"
             ],
             [
              0.2222222222222222,
              "#7201a8"
             ],
             [
              0.3333333333333333,
              "#9c179e"
             ],
             [
              0.4444444444444444,
              "#bd3786"
             ],
             [
              0.5555555555555556,
              "#d8576b"
             ],
             [
              0.6666666666666666,
              "#ed7953"
             ],
             [
              0.7777777777777778,
              "#fb9f3a"
             ],
             [
              0.8888888888888888,
              "#fdca26"
             ],
             [
              1.0,
              "#f0f921"
             ]
            ],
            "type": "heatmap"
           }
          ],
          "histogram2dcontour": [
           {
            "colorbar": {
             "outlinewidth": 0,
             "ticks": ""
            },
            "colorscale": [
             [
              0.0,
              "#0d0887"
             ],
             [
              0.1111111111111111,
              "#46039f"
             ],
             [
              0.2222222222222222,
              "#7201a8"
             ],
             [
              0.3333333333333333,
              "#9c179e"
             ],
             [
              0.4444444444444444,
              "#bd3786"
             ],
             [
              0.5555555555555556,
              "#d8576b"
             ],
             [
              0.6666666666666666,
              "#ed7953"
             ],
             [
              0.7777777777777778,
              "#fb9f3a"
             ],
             [
              0.8888888888888888,
              "#fdca26"
             ],
             [
              1.0,
              "#f0f921"
             ]
            ],
            "type": "histogram2dcontour"
           }
          ],
          "histogram2d": [
           {
            "colorbar": {
             "outlinewidth": 0,
             "ticks": ""
            },
            "colorscale": [
             [
              0.0,
              "#0d0887"
             ],
             [
              0.1111111111111111,
              "#46039f"
             ],
             [
              0.2222222222222222,
              "#7201a8"
             ],
             [
              0.3333333333333333,
              "#9c179e"
             ],
             [
              0.4444444444444444,
              "#bd3786"
             ],
             [
              0.5555555555555556,
              "#d8576b"
             ],
             [
              0.6666666666666666,
              "#ed7953"
             ],
             [
              0.7777777777777778,
              "#fb9f3a"
             ],
             [
              0.8888888888888888,
              "#fdca26"
             ],
             [
              1.0,
              "#f0f921"
             ]
            ],
            "type": "histogram2d"
           }
          ],
          "histogram": [
           {
            "marker": {
             "pattern": {
              "fillmode": "overlay",
              "size": 10,
              "solidity": 0.2
             }
            },
            "type": "histogram"
           }
          ],
          "mesh3d": [
           {
            "colorbar": {
             "outlinewidth": 0,
             "ticks": ""
            },
            "type": "mesh3d"
           }
          ],
          "parcoords": [
           {
            "line": {
             "colorbar": {
              "outlinewidth": 0,
              "ticks": ""
             }
            },
            "type": "parcoords"
           }
          ],
          "pie": [
           {
            "automargin": true,
            "type": "pie"
           }
          ],
          "scatter3d": [
           {
            "line": {
             "colorbar": {
              "outlinewidth": 0,
              "ticks": ""
             }
            },
            "marker": {
             "colorbar": {
              "outlinewidth": 0,
              "ticks": ""
             }
            },
            "type": "scatter3d"
           }
          ],
          "scattercarpet": [
           {
            "marker": {
             "colorbar": {
              "outlinewidth": 0,
              "ticks": ""
             }
            },
            "type": "scattercarpet"
           }
          ],
          "scattergeo": [
           {
            "marker": {
             "colorbar": {
              "outlinewidth": 0,
              "ticks": ""
             }
            },
            "type": "scattergeo"
           }
          ],
          "scattergl": [
           {
            "marker": {
             "line": {
              "color": "#283442"
             }
            },
            "type": "scattergl"
           }
          ],
          "scattermapbox": [
           {
            "marker": {
             "colorbar": {
              "outlinewidth": 0,
              "ticks": ""
             }
            },
            "type": "scattermapbox"
           }
          ],
          "scatterpolargl": [
           {
            "marker": {
             "colorbar": {
              "outlinewidth": 0,
              "ticks": ""
             }
            },
            "type": "scatterpolargl"
           }
          ],
          "scatterpolar": [
           {
            "marker": {
             "colorbar": {
              "outlinewidth": 0,
              "ticks": ""
             }
            },
            "type": "scatterpolar"
           }
          ],
          "scatter": [
           {
            "marker": {
             "line": {
              "color": "#283442"
             }
            },
            "type": "scatter"
           }
          ],
          "scatterternary": [
           {
            "marker": {
             "colorbar": {
              "outlinewidth": 0,
              "ticks": ""
             }
            },
            "type": "scatterternary"
           }
          ],
          "surface": [
           {
            "colorbar": {
             "outlinewidth": 0,
             "ticks": ""
            },
            "colorscale": [
             [
              0.0,
              "#0d0887"
             ],
             [
              0.1111111111111111,
              "#46039f"
             ],
             [
              0.2222222222222222,
              "#7201a8"
             ],
             [
              0.3333333333333333,
              "#9c179e"
             ],
             [
              0.4444444444444444,
              "#bd3786"
             ],
             [
              0.5555555555555556,
              "#d8576b"
             ],
             [
              0.6666666666666666,
              "#ed7953"
             ],
             [
              0.7777777777777778,
              "#fb9f3a"
             ],
             [
              0.8888888888888888,
              "#fdca26"
             ],
             [
              1.0,
              "#f0f921"
             ]
            ],
            "type": "surface"
           }
          ],
          "table": [
           {
            "cells": {
             "fill": {
              "color": "#506784"
             },
             "line": {
              "color": "rgb(17,17,17)"
             }
            },
            "header": {
             "fill": {
              "color": "#2a3f5f"
             },
             "line": {
              "color": "rgb(17,17,17)"
             }
            },
            "type": "table"
           }
          ]
         },
         "layout": {
          "annotationdefaults": {
           "arrowcolor": "#f2f5fa",
           "arrowhead": 0,
           "arrowwidth": 1
          },
          "autotypenumbers": "strict",
          "coloraxis": {
           "colorbar": {
            "outlinewidth": 0,
            "ticks": ""
           }
          },
          "colorscale": {
           "diverging": [
            [
             0,
             "#8e0152"
            ],
            [
             0.1,
             "#c51b7d"
            ],
            [
             0.2,
             "#de77ae"
            ],
            [
             0.3,
             "#f1b6da"
            ],
            [
             0.4,
             "#fde0ef"
            ],
            [
             0.5,
             "#f7f7f7"
            ],
            [
             0.6,
             "#e6f5d0"
            ],
            [
             0.7,
             "#b8e186"
            ],
            [
             0.8,
             "#7fbc41"
            ],
            [
             0.9,
             "#4d9221"
            ],
            [
             1,
             "#276419"
            ]
           ],
           "sequential": [
            [
             0.0,
             "#0d0887"
            ],
            [
             0.1111111111111111,
             "#46039f"
            ],
            [
             0.2222222222222222,
             "#7201a8"
            ],
            [
             0.3333333333333333,
             "#9c179e"
            ],
            [
             0.4444444444444444,
             "#bd3786"
            ],
            [
             0.5555555555555556,
             "#d8576b"
            ],
            [
             0.6666666666666666,
             "#ed7953"
            ],
            [
             0.7777777777777778,
             "#fb9f3a"
            ],
            [
             0.8888888888888888,
             "#fdca26"
            ],
            [
             1.0,
             "#f0f921"
            ]
           ],
           "sequentialminus": [
            [
             0.0,
             "#0d0887"
            ],
            [
             0.1111111111111111,
             "#46039f"
            ],
            [
             0.2222222222222222,
             "#7201a8"
            ],
            [
             0.3333333333333333,
             "#9c179e"
            ],
            [
             0.4444444444444444,
             "#bd3786"
            ],
            [
             0.5555555555555556,
             "#d8576b"
            ],
            [
             0.6666666666666666,
             "#ed7953"
            ],
            [
             0.7777777777777778,
             "#fb9f3a"
            ],
            [
             0.8888888888888888,
             "#fdca26"
            ],
            [
             1.0,
             "#f0f921"
            ]
           ]
          },
          "colorway": [
           "#636efa",
           "#EF553B",
           "#00cc96",
           "#ab63fa",
           "#FFA15A",
           "#19d3f3",
           "#FF6692",
           "#B6E880",
           "#FF97FF",
           "#FECB52"
          ],
          "font": {
           "color": "#f2f5fa"
          },
          "geo": {
           "bgcolor": "rgb(17,17,17)",
           "lakecolor": "rgb(17,17,17)",
           "landcolor": "rgb(17,17,17)",
           "showlakes": true,
           "showland": true,
           "subunitcolor": "#506784"
          },
          "hoverlabel": {
           "align": "left"
          },
          "hovermode": "closest",
          "mapbox": {
           "style": "dark"
          },
          "paper_bgcolor": "rgb(17,17,17)",
          "plot_bgcolor": "rgb(17,17,17)",
          "polar": {
           "angularaxis": {
            "gridcolor": "#506784",
            "linecolor": "#506784",
            "ticks": ""
           },
           "bgcolor": "rgb(17,17,17)",
           "radialaxis": {
            "gridcolor": "#506784",
            "linecolor": "#506784",
            "ticks": ""
           }
          },
          "scene": {
           "xaxis": {
            "backgroundcolor": "rgb(17,17,17)",
            "gridcolor": "#506784",
            "gridwidth": 2,
            "linecolor": "#506784",
            "showbackground": true,
            "ticks": "",
            "zerolinecolor": "#C8D4E3"
           },
           "yaxis": {
            "backgroundcolor": "rgb(17,17,17)",
            "gridcolor": "#506784",
            "gridwidth": 2,
            "linecolor": "#506784",
            "showbackground": true,
            "ticks": "",
            "zerolinecolor": "#C8D4E3"
           },
           "zaxis": {
            "backgroundcolor": "rgb(17,17,17)",
            "gridcolor": "#506784",
            "gridwidth": 2,
            "linecolor": "#506784",
            "showbackground": true,
            "ticks": "",
            "zerolinecolor": "#C8D4E3"
           }
          },
          "shapedefaults": {
           "line": {
            "color": "#f2f5fa"
           }
          },
          "sliderdefaults": {
           "bgcolor": "#C8D4E3",
           "bordercolor": "rgb(17,17,17)",
           "borderwidth": 1,
           "tickwidth": 0
          },
          "ternary": {
           "aaxis": {
            "gridcolor": "#506784",
            "linecolor": "#506784",
            "ticks": ""
           },
           "baxis": {
            "gridcolor": "#506784",
            "linecolor": "#506784",
            "ticks": ""
           },
           "bgcolor": "rgb(17,17,17)",
           "caxis": {
            "gridcolor": "#506784",
            "linecolor": "#506784",
            "ticks": ""
           }
          },
          "title": {
           "x": 0.05
          },
          "updatemenudefaults": {
           "bgcolor": "#506784",
           "borderwidth": 0
          },
          "xaxis": {
           "automargin": true,
           "gridcolor": "#283442",
           "linecolor": "#506784",
           "ticks": "",
           "title": {
            "standoff": 15
           },
           "zerolinecolor": "#283442",
           "zerolinewidth": 2
          },
          "yaxis": {
           "automargin": true,
           "gridcolor": "#283442",
           "linecolor": "#506784",
           "ticks": "",
           "title": {
            "standoff": 15
           },
           "zerolinecolor": "#283442",
           "zerolinewidth": 2
          }
         }
        },
        "title": {
         "font": {
          "color": "#4D5663"
         }
        },
        "xaxis": {
         "gridcolor": "#E1E5ED",
         "showgrid": true,
         "tickfont": {
          "color": "#4D5663"
         },
         "title": {
          "font": {
           "color": "#4D5663"
          },
          "text": ""
         },
         "zerolinecolor": "#E1E5ED"
        },
        "yaxis": {
         "gridcolor": "#E1E5ED",
         "showgrid": true,
         "tickfont": {
          "color": "#4D5663"
         },
         "title": {
          "font": {
           "color": "#4D5663"
          },
          "text": ""
         },
         "zerolinecolor": "#E1E5ED"
        }
       },
       "config": {
        "showLink": true,
        "linkText": "Export to plot.ly",
        "plotlyServerURL": "https://plot.ly"
       }
      },
      "text/html": "<div>                            <div id=\"a4d0f747-1422-49c9-8c6c-0b5ef3936a81\" class=\"plotly-graph-div\" style=\"height:525px; width:100%;\"></div>            <script type=\"text/javascript\">                require([\"plotly\"], function(Plotly) {                    window.PLOTLYENV=window.PLOTLYENV || {};\n                    window.PLOTLYENV.BASE_URL='https://plot.ly';                                    if (document.getElementById(\"a4d0f747-1422-49c9-8c6c-0b5ef3936a81\")) {                    Plotly.newPlot(                        \"a4d0f747-1422-49c9-8c6c-0b5ef3936a81\",                        [{\"histfunc\":\"count\",\"histnorm\":\"\",\"marker\":{\"color\":\"rgba(255, 153, 51, 1.0)\",\"line\":{\"color\":\"#4D5663\",\"width\":1.3}},\"name\":\"A\",\"opacity\":0.8,\"orientation\":\"v\",\"x\":[0.28294306242083767,0.7968335417349354,0.6029639109107471,-1.5650465702073828,1.304012469593769,-0.7189638548328962,-0.8342772051709019,0.22903038848035023,-0.5555919147143817,1.4140028785570107,0.94608625189099,0.9475932345276445,0.23210000912619144,-0.2017794680697094,-1.4990317076611852,-0.7842492198303922,-1.3121806301629386,-1.5962284515435832,0.2657376571207234,-0.7577841855650336,0.39706212625730386,0.6073528236931202,0.5706027636271244,0.18683438249342266,-0.7940508543522877,-0.6444701200418613,-0.2110685265220033,-0.21394613693218092,0.4534506074097498,2.438321983713647,-1.2396923531952755,-1.0338891895089748,-1.8686878644477178,1.4426106451051863,1.3829077973469637,-0.9318189639747426,-1.351996586738685,1.5595608061328485,-0.04392079133593794,-0.3249146952228359,-0.3561904783582894,-0.23101513575681648,0.08360620220848271,-0.2775960238257498,0.1827848967298999,0.526474067214003,2.8941246385052737,0.3513291582553594,1.4747419625145186,0.8114972050269655,0.3904436172676149,0.5863844172483037,0.132548984097949,-0.008685401418308297,1.5120385158724081,-0.30670267379703225,-1.4923253483617496,0.4802337079853066,-0.16507077011425983,-2.0560055890795237,0.10582411220975962,2.060496097844001,0.8634647915354526,-0.3039246066953029,0.1229316646230268,-0.038431626183908746,-1.5625482329206086,0.8026387183329571,-1.0443326064301137,-1.7441282157838378,0.4085613297272926,1.1314362749851863,-0.9655028773082579,0.6140978821152564,-0.6593952533441673,-0.34343935659321273,0.4034289175552191,1.104816451182827,0.3878510482013112,-0.743700172880391,-0.42968150080935014,-0.9391664628727731,-0.5884295473521228,-0.7177875423794414,2.1228794383459997,-0.4975295949320428,1.5496946784360939,-0.1603496989445274,-1.567367392800217,-0.1371889550701248,1.1782392321059363,-0.22356969222959078,-0.5950862468932329,0.7425841600024924,0.12691537384773105,-2.0104992712368546,0.9657266887418268,0.43111491937499125,-1.1636538720055476,0.0005153381097441173],\"type\":\"histogram\"}],                        {\"barmode\":\"overlay\",\"legend\":{\"bgcolor\":\"#F5F6F9\",\"font\":{\"color\":\"#4D5663\"}},\"paper_bgcolor\":\"#F5F6F9\",\"plot_bgcolor\":\"#F5F6F9\",\"template\":{\"data\":{\"barpolar\":[{\"marker\":{\"line\":{\"color\":\"rgb(17,17,17)\",\"width\":0.5},\"pattern\":{\"fillmode\":\"overlay\",\"size\":10,\"solidity\":0.2}},\"type\":\"barpolar\"}],\"bar\":[{\"error_x\":{\"color\":\"#f2f5fa\"},\"error_y\":{\"color\":\"#f2f5fa\"},\"marker\":{\"line\":{\"color\":\"rgb(17,17,17)\",\"width\":0.5},\"pattern\":{\"fillmode\":\"overlay\",\"size\":10,\"solidity\":0.2}},\"type\":\"bar\"}],\"carpet\":[{\"aaxis\":{\"endlinecolor\":\"#A2B1C6\",\"gridcolor\":\"#506784\",\"linecolor\":\"#506784\",\"minorgridcolor\":\"#506784\",\"startlinecolor\":\"#A2B1C6\"},\"baxis\":{\"endlinecolor\":\"#A2B1C6\",\"gridcolor\":\"#506784\",\"linecolor\":\"#506784\",\"minorgridcolor\":\"#506784\",\"startlinecolor\":\"#A2B1C6\"},\"type\":\"carpet\"}],\"choropleth\":[{\"colorbar\":{\"outlinewidth\":0,\"ticks\":\"\"},\"type\":\"choropleth\"}],\"contourcarpet\":[{\"colorbar\":{\"outlinewidth\":0,\"ticks\":\"\"},\"type\":\"contourcarpet\"}],\"contour\":[{\"colorbar\":{\"outlinewidth\":0,\"ticks\":\"\"},\"colorscale\":[[0.0,\"#0d0887\"],[0.1111111111111111,\"#46039f\"],[0.2222222222222222,\"#7201a8\"],[0.3333333333333333,\"#9c179e\"],[0.4444444444444444,\"#bd3786\"],[0.5555555555555556,\"#d8576b\"],[0.6666666666666666,\"#ed7953\"],[0.7777777777777778,\"#fb9f3a\"],[0.8888888888888888,\"#fdca26\"],[1.0,\"#f0f921\"]],\"type\":\"contour\"}],\"heatmapgl\":[{\"colorbar\":{\"outlinewidth\":0,\"ticks\":\"\"},\"colorscale\":[[0.0,\"#0d0887\"],[0.1111111111111111,\"#46039f\"],[0.2222222222222222,\"#7201a8\"],[0.3333333333333333,\"#9c179e\"],[0.4444444444444444,\"#bd3786\"],[0.5555555555555556,\"#d8576b\"],[0.6666666666666666,\"#ed7953\"],[0.7777777777777778,\"#fb9f3a\"],[0.8888888888888888,\"#fdca26\"],[1.0,\"#f0f921\"]],\"type\":\"heatmapgl\"}],\"heatmap\":[{\"colorbar\":{\"outlinewidth\":0,\"ticks\":\"\"},\"colorscale\":[[0.0,\"#0d0887\"],[0.1111111111111111,\"#46039f\"],[0.2222222222222222,\"#7201a8\"],[0.3333333333333333,\"#9c179e\"],[0.4444444444444444,\"#bd3786\"],[0.5555555555555556,\"#d8576b\"],[0.6666666666666666,\"#ed7953\"],[0.7777777777777778,\"#fb9f3a\"],[0.8888888888888888,\"#fdca26\"],[1.0,\"#f0f921\"]],\"type\":\"heatmap\"}],\"histogram2dcontour\":[{\"colorbar\":{\"outlinewidth\":0,\"ticks\":\"\"},\"colorscale\":[[0.0,\"#0d0887\"],[0.1111111111111111,\"#46039f\"],[0.2222222222222222,\"#7201a8\"],[0.3333333333333333,\"#9c179e\"],[0.4444444444444444,\"#bd3786\"],[0.5555555555555556,\"#d8576b\"],[0.6666666666666666,\"#ed7953\"],[0.7777777777777778,\"#fb9f3a\"],[0.8888888888888888,\"#fdca26\"],[1.0,\"#f0f921\"]],\"type\":\"histogram2dcontour\"}],\"histogram2d\":[{\"colorbar\":{\"outlinewidth\":0,\"ticks\":\"\"},\"colorscale\":[[0.0,\"#0d0887\"],[0.1111111111111111,\"#46039f\"],[0.2222222222222222,\"#7201a8\"],[0.3333333333333333,\"#9c179e\"],[0.4444444444444444,\"#bd3786\"],[0.5555555555555556,\"#d8576b\"],[0.6666666666666666,\"#ed7953\"],[0.7777777777777778,\"#fb9f3a\"],[0.8888888888888888,\"#fdca26\"],[1.0,\"#f0f921\"]],\"type\":\"histogram2d\"}],\"histogram\":[{\"marker\":{\"pattern\":{\"fillmode\":\"overlay\",\"size\":10,\"solidity\":0.2}},\"type\":\"histogram\"}],\"mesh3d\":[{\"colorbar\":{\"outlinewidth\":0,\"ticks\":\"\"},\"type\":\"mesh3d\"}],\"parcoords\":[{\"line\":{\"colorbar\":{\"outlinewidth\":0,\"ticks\":\"\"}},\"type\":\"parcoords\"}],\"pie\":[{\"automargin\":true,\"type\":\"pie\"}],\"scatter3d\":[{\"line\":{\"colorbar\":{\"outlinewidth\":0,\"ticks\":\"\"}},\"marker\":{\"colorbar\":{\"outlinewidth\":0,\"ticks\":\"\"}},\"type\":\"scatter3d\"}],\"scattercarpet\":[{\"marker\":{\"colorbar\":{\"outlinewidth\":0,\"ticks\":\"\"}},\"type\":\"scattercarpet\"}],\"scattergeo\":[{\"marker\":{\"colorbar\":{\"outlinewidth\":0,\"ticks\":\"\"}},\"type\":\"scattergeo\"}],\"scattergl\":[{\"marker\":{\"line\":{\"color\":\"#283442\"}},\"type\":\"scattergl\"}],\"scattermapbox\":[{\"marker\":{\"colorbar\":{\"outlinewidth\":0,\"ticks\":\"\"}},\"type\":\"scattermapbox\"}],\"scatterpolargl\":[{\"marker\":{\"colorbar\":{\"outlinewidth\":0,\"ticks\":\"\"}},\"type\":\"scatterpolargl\"}],\"scatterpolar\":[{\"marker\":{\"colorbar\":{\"outlinewidth\":0,\"ticks\":\"\"}},\"type\":\"scatterpolar\"}],\"scatter\":[{\"marker\":{\"line\":{\"color\":\"#283442\"}},\"type\":\"scatter\"}],\"scatterternary\":[{\"marker\":{\"colorbar\":{\"outlinewidth\":0,\"ticks\":\"\"}},\"type\":\"scatterternary\"}],\"surface\":[{\"colorbar\":{\"outlinewidth\":0,\"ticks\":\"\"},\"colorscale\":[[0.0,\"#0d0887\"],[0.1111111111111111,\"#46039f\"],[0.2222222222222222,\"#7201a8\"],[0.3333333333333333,\"#9c179e\"],[0.4444444444444444,\"#bd3786\"],[0.5555555555555556,\"#d8576b\"],[0.6666666666666666,\"#ed7953\"],[0.7777777777777778,\"#fb9f3a\"],[0.8888888888888888,\"#fdca26\"],[1.0,\"#f0f921\"]],\"type\":\"surface\"}],\"table\":[{\"cells\":{\"fill\":{\"color\":\"#506784\"},\"line\":{\"color\":\"rgb(17,17,17)\"}},\"header\":{\"fill\":{\"color\":\"#2a3f5f\"},\"line\":{\"color\":\"rgb(17,17,17)\"}},\"type\":\"table\"}]},\"layout\":{\"annotationdefaults\":{\"arrowcolor\":\"#f2f5fa\",\"arrowhead\":0,\"arrowwidth\":1},\"autotypenumbers\":\"strict\",\"coloraxis\":{\"colorbar\":{\"outlinewidth\":0,\"ticks\":\"\"}},\"colorscale\":{\"diverging\":[[0,\"#8e0152\"],[0.1,\"#c51b7d\"],[0.2,\"#de77ae\"],[0.3,\"#f1b6da\"],[0.4,\"#fde0ef\"],[0.5,\"#f7f7f7\"],[0.6,\"#e6f5d0\"],[0.7,\"#b8e186\"],[0.8,\"#7fbc41\"],[0.9,\"#4d9221\"],[1,\"#276419\"]],\"sequential\":[[0.0,\"#0d0887\"],[0.1111111111111111,\"#46039f\"],[0.2222222222222222,\"#7201a8\"],[0.3333333333333333,\"#9c179e\"],[0.4444444444444444,\"#bd3786\"],[0.5555555555555556,\"#d8576b\"],[0.6666666666666666,\"#ed7953\"],[0.7777777777777778,\"#fb9f3a\"],[0.8888888888888888,\"#fdca26\"],[1.0,\"#f0f921\"]],\"sequentialminus\":[[0.0,\"#0d0887\"],[0.1111111111111111,\"#46039f\"],[0.2222222222222222,\"#7201a8\"],[0.3333333333333333,\"#9c179e\"],[0.4444444444444444,\"#bd3786\"],[0.5555555555555556,\"#d8576b\"],[0.6666666666666666,\"#ed7953\"],[0.7777777777777778,\"#fb9f3a\"],[0.8888888888888888,\"#fdca26\"],[1.0,\"#f0f921\"]]},\"colorway\":[\"#636efa\",\"#EF553B\",\"#00cc96\",\"#ab63fa\",\"#FFA15A\",\"#19d3f3\",\"#FF6692\",\"#B6E880\",\"#FF97FF\",\"#FECB52\"],\"font\":{\"color\":\"#f2f5fa\"},\"geo\":{\"bgcolor\":\"rgb(17,17,17)\",\"lakecolor\":\"rgb(17,17,17)\",\"landcolor\":\"rgb(17,17,17)\",\"showlakes\":true,\"showland\":true,\"subunitcolor\":\"#506784\"},\"hoverlabel\":{\"align\":\"left\"},\"hovermode\":\"closest\",\"mapbox\":{\"style\":\"dark\"},\"paper_bgcolor\":\"rgb(17,17,17)\",\"plot_bgcolor\":\"rgb(17,17,17)\",\"polar\":{\"angularaxis\":{\"gridcolor\":\"#506784\",\"linecolor\":\"#506784\",\"ticks\":\"\"},\"bgcolor\":\"rgb(17,17,17)\",\"radialaxis\":{\"gridcolor\":\"#506784\",\"linecolor\":\"#506784\",\"ticks\":\"\"}},\"scene\":{\"xaxis\":{\"backgroundcolor\":\"rgb(17,17,17)\",\"gridcolor\":\"#506784\",\"gridwidth\":2,\"linecolor\":\"#506784\",\"showbackground\":true,\"ticks\":\"\",\"zerolinecolor\":\"#C8D4E3\"},\"yaxis\":{\"backgroundcolor\":\"rgb(17,17,17)\",\"gridcolor\":\"#506784\",\"gridwidth\":2,\"linecolor\":\"#506784\",\"showbackground\":true,\"ticks\":\"\",\"zerolinecolor\":\"#C8D4E3\"},\"zaxis\":{\"backgroundcolor\":\"rgb(17,17,17)\",\"gridcolor\":\"#506784\",\"gridwidth\":2,\"linecolor\":\"#506784\",\"showbackground\":true,\"ticks\":\"\",\"zerolinecolor\":\"#C8D4E3\"}},\"shapedefaults\":{\"line\":{\"color\":\"#f2f5fa\"}},\"sliderdefaults\":{\"bgcolor\":\"#C8D4E3\",\"bordercolor\":\"rgb(17,17,17)\",\"borderwidth\":1,\"tickwidth\":0},\"ternary\":{\"aaxis\":{\"gridcolor\":\"#506784\",\"linecolor\":\"#506784\",\"ticks\":\"\"},\"baxis\":{\"gridcolor\":\"#506784\",\"linecolor\":\"#506784\",\"ticks\":\"\"},\"bgcolor\":\"rgb(17,17,17)\",\"caxis\":{\"gridcolor\":\"#506784\",\"linecolor\":\"#506784\",\"ticks\":\"\"}},\"title\":{\"x\":0.05},\"updatemenudefaults\":{\"bgcolor\":\"#506784\",\"borderwidth\":0},\"xaxis\":{\"automargin\":true,\"gridcolor\":\"#283442\",\"linecolor\":\"#506784\",\"ticks\":\"\",\"title\":{\"standoff\":15},\"zerolinecolor\":\"#283442\",\"zerolinewidth\":2},\"yaxis\":{\"automargin\":true,\"gridcolor\":\"#283442\",\"linecolor\":\"#506784\",\"ticks\":\"\",\"title\":{\"standoff\":15},\"zerolinecolor\":\"#283442\",\"zerolinewidth\":2}}},\"title\":{\"font\":{\"color\":\"#4D5663\"}},\"xaxis\":{\"gridcolor\":\"#E1E5ED\",\"showgrid\":true,\"tickfont\":{\"color\":\"#4D5663\"},\"title\":{\"font\":{\"color\":\"#4D5663\"},\"text\":\"\"},\"zerolinecolor\":\"#E1E5ED\"},\"yaxis\":{\"gridcolor\":\"#E1E5ED\",\"showgrid\":true,\"tickfont\":{\"color\":\"#4D5663\"},\"title\":{\"font\":{\"color\":\"#4D5663\"},\"text\":\"\"},\"zerolinecolor\":\"#E1E5ED\"}},                        {\"showLink\": true, \"linkText\": \"Export to plot.ly\", \"plotlyServerURL\": \"https://plot.ly\", \"responsive\": true}                    ).then(function(){\n                            \nvar gd = document.getElementById('a4d0f747-1422-49c9-8c6c-0b5ef3936a81');\nvar x = new MutationObserver(function (mutations, observer) {{\n        var display = window.getComputedStyle(gd).display;\n        if (!display || display === 'none') {{\n            console.log([gd, 'removed!']);\n            Plotly.purge(gd);\n            observer.disconnect();\n        }}\n}});\n\n// Listen for the removal of the full notebook cells\nvar notebookContainer = gd.closest('#notebook-container');\nif (notebookContainer) {{\n    x.observe(notebookContainer, {childList: true});\n}}\n\n// Listen for the clearing of the current output cell\nvar outputEl = gd.closest('.output');\nif (outputEl) {{\n    x.observe(outputEl, {childList: true});\n}}\n\n                        })                };                });            </script>        </div>"
     },
     "metadata": {},
     "output_type": "display_data"
    }
   ],
   "source": [
    "df[\"A\"].iplot(kind='hist')\n"
   ],
   "metadata": {
    "collapsed": false,
    "pycharm": {
     "name": "#%%\n"
    }
   }
  },
  {
   "cell_type": "code",
   "execution_count": 51,
   "outputs": [
    {
     "data": {
      "application/vnd.plotly.v1+json": {
       "data": [
        {
         "marker": {
          "color": [
           "rgb(255, 153, 51)",
           "rgb(55, 128, 191)",
           "rgb(50, 171, 96)",
           "rgb(128, 0, 128)",
           "rgb(219, 64, 82)",
           "rgb(0, 128, 128)",
           "rgb(255, 255, 51)",
           "rgb(128, 128, 0)",
           "rgb(251, 128, 114)",
           "rgb(128, 177, 211)"
          ],
          "line": {
           "width": 1.3
          },
          "size": [
           101,
           55,
           68,
           51,
           74,
           40,
           94,
           62,
           49,
           68,
           95,
           54,
           86,
           49,
           70,
           63,
           85,
           50,
           62,
           75,
           74,
           55,
           44,
           63,
           74,
           49,
           41,
           52,
           67,
           70,
           44,
           12,
           27,
           78,
           66,
           62,
           72,
           39,
           70,
           72,
           54,
           86,
           53,
           23,
           59,
           46,
           59,
           49,
           23,
           98,
           55,
           73,
           97,
           106,
           68,
           77,
           71,
           68,
           64,
           57,
           48,
           77,
           93,
           53,
           55,
           112,
           71,
           51,
           43,
           46,
           60,
           40,
           59,
           45,
           66,
           55,
           62,
           95,
           59,
           55,
           63,
           74,
           75,
           64,
           68,
           43,
           62,
           80,
           57,
           75,
           67,
           75,
           55,
           65,
           79,
           73,
           79,
           63,
           66,
           72
          ],
          "symbol": "circle"
         },
         "mode": "markers",
         "text": "",
         "x": [
          0.28294306242083767,
          0.7968335417349354,
          0.6029639109107471,
          -1.5650465702073828,
          1.304012469593769,
          -0.7189638548328962,
          -0.8342772051709019,
          0.22903038848035023,
          -0.5555919147143817,
          1.4140028785570107,
          0.94608625189099,
          0.9475932345276445,
          0.23210000912619144,
          -0.2017794680697094,
          -1.4990317076611852,
          -0.7842492198303922,
          -1.3121806301629386,
          -1.5962284515435832,
          0.2657376571207234,
          -0.7577841855650336,
          0.39706212625730386,
          0.6073528236931202,
          0.5706027636271244,
          0.18683438249342266,
          -0.7940508543522877,
          -0.6444701200418613,
          -0.2110685265220033,
          -0.21394613693218092,
          0.4534506074097498,
          2.438321983713647,
          -1.2396923531952755,
          -1.0338891895089748,
          -1.8686878644477178,
          1.4426106451051863,
          1.3829077973469637,
          -0.9318189639747426,
          -1.351996586738685,
          1.5595608061328485,
          -0.04392079133593794,
          -0.3249146952228359,
          -0.3561904783582894,
          -0.23101513575681648,
          0.08360620220848271,
          -0.2775960238257498,
          0.1827848967298999,
          0.526474067214003,
          2.8941246385052737,
          0.3513291582553594,
          1.4747419625145186,
          0.8114972050269655,
          0.3904436172676149,
          0.5863844172483037,
          0.132548984097949,
          -0.008685401418308297,
          1.5120385158724081,
          -0.30670267379703225,
          -1.4923253483617496,
          0.4802337079853066,
          -0.16507077011425983,
          -2.0560055890795237,
          0.10582411220975962,
          2.060496097844001,
          0.8634647915354526,
          -0.3039246066953029,
          0.1229316646230268,
          -0.038431626183908746,
          -1.5625482329206086,
          0.8026387183329571,
          -1.0443326064301137,
          -1.7441282157838378,
          0.4085613297272926,
          1.1314362749851863,
          -0.9655028773082579,
          0.6140978821152564,
          -0.6593952533441673,
          -0.34343935659321273,
          0.4034289175552191,
          1.104816451182827,
          0.3878510482013112,
          -0.743700172880391,
          -0.42968150080935014,
          -0.9391664628727731,
          -0.5884295473521228,
          -0.7177875423794414,
          2.1228794383459997,
          -0.4975295949320428,
          1.5496946784360939,
          -0.1603496989445274,
          -1.567367392800217,
          -0.1371889550701248,
          1.1782392321059363,
          -0.22356969222959078,
          -0.5950862468932329,
          0.7425841600024924,
          0.12691537384773105,
          -2.0104992712368546,
          0.9657266887418268,
          0.43111491937499125,
          -1.1636538720055476,
          5.153381097441173E-4
         ],
         "y": [
          1.7657644339687022,
          0.40152524610963597,
          -0.6490441381987168,
          -0.06690985466349718,
          -1.3836260446239395,
          -1.2828230670369736,
          1.641103044752528,
          0.02950549536361005,
          -2.1318721666960796,
          -1.0425706714763656,
          -0.6881285360861475,
          0.7129372647011848,
          -0.41299957821847816,
          0.764715578317224,
          1.6320799119277163,
          0.6648963455373257,
          1.502186292770685,
          0.5717155903686859,
          -0.08096115022213794,
          1.6688301430783008,
          1.099781650299211,
          0.8677669207363187,
          -0.049835760740421294,
          -0.7937881637743242,
          -1.6797130681383161,
          -0.8745572359960498,
          -0.09444092644838366,
          1.25026970101619,
          -2.0408326288783494,
          0.40818850602513895,
          0.9625915949894845,
          0.19149098777623977,
          -0.5412840448442139,
          -0.9668667448686264,
          0.5369895159344095,
          0.4583338589453875,
          -0.0073253076901911825,
          -0.1696692115072209,
          -0.19499724667941787,
          -0.9760650430864394,
          0.45399599089019094,
          -1.438388683371131,
          -0.030663865329517898,
          -1.5185179787148289,
          -0.27104235629081364,
          1.2370207940253466,
          0.17549520318780185,
          -0.422093343206613,
          0.8053032459521436,
          1.1307406125923145,
          -1.2661415921852701,
          0.6825205226610233,
          -0.6866233951233202,
          -1.7648581385983473,
          -1.1252794765269931,
          -1.4694753261250473,
          0.4183908398921806,
          -0.8084090371479645,
          0.8278362870211943,
          -0.38093806077119186,
          2.1232446144391943,
          -0.7157103234847048,
          1.153458938556494,
          -0.8796592512734447,
          0.644698021217474,
          0.5279713712717733,
          2.418904656614257,
          -1.7570416086898197,
          0.6994030201855514,
          -0.02822940865389242,
          0.23331442504654712,
          -0.7184573666523312,
          0.28763082108987026,
          0.9558194586851085,
          -1.1307744435339449,
          0.5961646009260254,
          0.29319217653563767,
          -1.1388899044232315,
          -0.7596053768042313,
          -0.4300073438081864,
          0.6244910560352827,
          0.8010163299977416,
          -0.8568211136062038,
          -0.7896100550557182,
          -0.9629249914457718,
          -0.43639411199462874,
          0.001555813000358842,
          -0.17681091563059353,
          -0.5321232495662198,
          0.9130347810077699,
          0.14999294028596566,
          0.28951203578929724,
          -0.19401209846592063,
          -1.2577957050234982,
          0.5077320337947091,
          -0.5621704955948704,
          -0.7793490945044861,
          -0.15103745501382332,
          0.2372061381731799,
          -2.670105086556007
         ],
         "type": "scatter"
        }
       ],
       "layout": {
        "legend": {
         "bgcolor": "#F5F6F9",
         "font": {
          "color": "#4D5663"
         }
        },
        "paper_bgcolor": "#F5F6F9",
        "plot_bgcolor": "#F5F6F9",
        "template": {
         "data": {
          "barpolar": [
           {
            "marker": {
             "line": {
              "color": "rgb(17,17,17)",
              "width": 0.5
             },
             "pattern": {
              "fillmode": "overlay",
              "size": 10,
              "solidity": 0.2
             }
            },
            "type": "barpolar"
           }
          ],
          "bar": [
           {
            "error_x": {
             "color": "#f2f5fa"
            },
            "error_y": {
             "color": "#f2f5fa"
            },
            "marker": {
             "line": {
              "color": "rgb(17,17,17)",
              "width": 0.5
             },
             "pattern": {
              "fillmode": "overlay",
              "size": 10,
              "solidity": 0.2
             }
            },
            "type": "bar"
           }
          ],
          "carpet": [
           {
            "aaxis": {
             "endlinecolor": "#A2B1C6",
             "gridcolor": "#506784",
             "linecolor": "#506784",
             "minorgridcolor": "#506784",
             "startlinecolor": "#A2B1C6"
            },
            "baxis": {
             "endlinecolor": "#A2B1C6",
             "gridcolor": "#506784",
             "linecolor": "#506784",
             "minorgridcolor": "#506784",
             "startlinecolor": "#A2B1C6"
            },
            "type": "carpet"
           }
          ],
          "choropleth": [
           {
            "colorbar": {
             "outlinewidth": 0,
             "ticks": ""
            },
            "type": "choropleth"
           }
          ],
          "contourcarpet": [
           {
            "colorbar": {
             "outlinewidth": 0,
             "ticks": ""
            },
            "type": "contourcarpet"
           }
          ],
          "contour": [
           {
            "colorbar": {
             "outlinewidth": 0,
             "ticks": ""
            },
            "colorscale": [
             [
              0.0,
              "#0d0887"
             ],
             [
              0.1111111111111111,
              "#46039f"
             ],
             [
              0.2222222222222222,
              "#7201a8"
             ],
             [
              0.3333333333333333,
              "#9c179e"
             ],
             [
              0.4444444444444444,
              "#bd3786"
             ],
             [
              0.5555555555555556,
              "#d8576b"
             ],
             [
              0.6666666666666666,
              "#ed7953"
             ],
             [
              0.7777777777777778,
              "#fb9f3a"
             ],
             [
              0.8888888888888888,
              "#fdca26"
             ],
             [
              1.0,
              "#f0f921"
             ]
            ],
            "type": "contour"
           }
          ],
          "heatmapgl": [
           {
            "colorbar": {
             "outlinewidth": 0,
             "ticks": ""
            },
            "colorscale": [
             [
              0.0,
              "#0d0887"
             ],
             [
              0.1111111111111111,
              "#46039f"
             ],
             [
              0.2222222222222222,
              "#7201a8"
             ],
             [
              0.3333333333333333,
              "#9c179e"
             ],
             [
              0.4444444444444444,
              "#bd3786"
             ],
             [
              0.5555555555555556,
              "#d8576b"
             ],
             [
              0.6666666666666666,
              "#ed7953"
             ],
             [
              0.7777777777777778,
              "#fb9f3a"
             ],
             [
              0.8888888888888888,
              "#fdca26"
             ],
             [
              1.0,
              "#f0f921"
             ]
            ],
            "type": "heatmapgl"
           }
          ],
          "heatmap": [
           {
            "colorbar": {
             "outlinewidth": 0,
             "ticks": ""
            },
            "colorscale": [
             [
              0.0,
              "#0d0887"
             ],
             [
              0.1111111111111111,
              "#46039f"
             ],
             [
              0.2222222222222222,
              "#7201a8"
             ],
             [
              0.3333333333333333,
              "#9c179e"
             ],
             [
              0.4444444444444444,
              "#bd3786"
             ],
             [
              0.5555555555555556,
              "#d8576b"
             ],
             [
              0.6666666666666666,
              "#ed7953"
             ],
             [
              0.7777777777777778,
              "#fb9f3a"
             ],
             [
              0.8888888888888888,
              "#fdca26"
             ],
             [
              1.0,
              "#f0f921"
             ]
            ],
            "type": "heatmap"
           }
          ],
          "histogram2dcontour": [
           {
            "colorbar": {
             "outlinewidth": 0,
             "ticks": ""
            },
            "colorscale": [
             [
              0.0,
              "#0d0887"
             ],
             [
              0.1111111111111111,
              "#46039f"
             ],
             [
              0.2222222222222222,
              "#7201a8"
             ],
             [
              0.3333333333333333,
              "#9c179e"
             ],
             [
              0.4444444444444444,
              "#bd3786"
             ],
             [
              0.5555555555555556,
              "#d8576b"
             ],
             [
              0.6666666666666666,
              "#ed7953"
             ],
             [
              0.7777777777777778,
              "#fb9f3a"
             ],
             [
              0.8888888888888888,
              "#fdca26"
             ],
             [
              1.0,
              "#f0f921"
             ]
            ],
            "type": "histogram2dcontour"
           }
          ],
          "histogram2d": [
           {
            "colorbar": {
             "outlinewidth": 0,
             "ticks": ""
            },
            "colorscale": [
             [
              0.0,
              "#0d0887"
             ],
             [
              0.1111111111111111,
              "#46039f"
             ],
             [
              0.2222222222222222,
              "#7201a8"
             ],
             [
              0.3333333333333333,
              "#9c179e"
             ],
             [
              0.4444444444444444,
              "#bd3786"
             ],
             [
              0.5555555555555556,
              "#d8576b"
             ],
             [
              0.6666666666666666,
              "#ed7953"
             ],
             [
              0.7777777777777778,
              "#fb9f3a"
             ],
             [
              0.8888888888888888,
              "#fdca26"
             ],
             [
              1.0,
              "#f0f921"
             ]
            ],
            "type": "histogram2d"
           }
          ],
          "histogram": [
           {
            "marker": {
             "pattern": {
              "fillmode": "overlay",
              "size": 10,
              "solidity": 0.2
             }
            },
            "type": "histogram"
           }
          ],
          "mesh3d": [
           {
            "colorbar": {
             "outlinewidth": 0,
             "ticks": ""
            },
            "type": "mesh3d"
           }
          ],
          "parcoords": [
           {
            "line": {
             "colorbar": {
              "outlinewidth": 0,
              "ticks": ""
             }
            },
            "type": "parcoords"
           }
          ],
          "pie": [
           {
            "automargin": true,
            "type": "pie"
           }
          ],
          "scatter3d": [
           {
            "line": {
             "colorbar": {
              "outlinewidth": 0,
              "ticks": ""
             }
            },
            "marker": {
             "colorbar": {
              "outlinewidth": 0,
              "ticks": ""
             }
            },
            "type": "scatter3d"
           }
          ],
          "scattercarpet": [
           {
            "marker": {
             "colorbar": {
              "outlinewidth": 0,
              "ticks": ""
             }
            },
            "type": "scattercarpet"
           }
          ],
          "scattergeo": [
           {
            "marker": {
             "colorbar": {
              "outlinewidth": 0,
              "ticks": ""
             }
            },
            "type": "scattergeo"
           }
          ],
          "scattergl": [
           {
            "marker": {
             "line": {
              "color": "#283442"
             }
            },
            "type": "scattergl"
           }
          ],
          "scattermapbox": [
           {
            "marker": {
             "colorbar": {
              "outlinewidth": 0,
              "ticks": ""
             }
            },
            "type": "scattermapbox"
           }
          ],
          "scatterpolargl": [
           {
            "marker": {
             "colorbar": {
              "outlinewidth": 0,
              "ticks": ""
             }
            },
            "type": "scatterpolargl"
           }
          ],
          "scatterpolar": [
           {
            "marker": {
             "colorbar": {
              "outlinewidth": 0,
              "ticks": ""
             }
            },
            "type": "scatterpolar"
           }
          ],
          "scatter": [
           {
            "marker": {
             "line": {
              "color": "#283442"
             }
            },
            "type": "scatter"
           }
          ],
          "scatterternary": [
           {
            "marker": {
             "colorbar": {
              "outlinewidth": 0,
              "ticks": ""
             }
            },
            "type": "scatterternary"
           }
          ],
          "surface": [
           {
            "colorbar": {
             "outlinewidth": 0,
             "ticks": ""
            },
            "colorscale": [
             [
              0.0,
              "#0d0887"
             ],
             [
              0.1111111111111111,
              "#46039f"
             ],
             [
              0.2222222222222222,
              "#7201a8"
             ],
             [
              0.3333333333333333,
              "#9c179e"
             ],
             [
              0.4444444444444444,
              "#bd3786"
             ],
             [
              0.5555555555555556,
              "#d8576b"
             ],
             [
              0.6666666666666666,
              "#ed7953"
             ],
             [
              0.7777777777777778,
              "#fb9f3a"
             ],
             [
              0.8888888888888888,
              "#fdca26"
             ],
             [
              1.0,
              "#f0f921"
             ]
            ],
            "type": "surface"
           }
          ],
          "table": [
           {
            "cells": {
             "fill": {
              "color": "#506784"
             },
             "line": {
              "color": "rgb(17,17,17)"
             }
            },
            "header": {
             "fill": {
              "color": "#2a3f5f"
             },
             "line": {
              "color": "rgb(17,17,17)"
             }
            },
            "type": "table"
           }
          ]
         },
         "layout": {
          "annotationdefaults": {
           "arrowcolor": "#f2f5fa",
           "arrowhead": 0,
           "arrowwidth": 1
          },
          "autotypenumbers": "strict",
          "coloraxis": {
           "colorbar": {
            "outlinewidth": 0,
            "ticks": ""
           }
          },
          "colorscale": {
           "diverging": [
            [
             0,
             "#8e0152"
            ],
            [
             0.1,
             "#c51b7d"
            ],
            [
             0.2,
             "#de77ae"
            ],
            [
             0.3,
             "#f1b6da"
            ],
            [
             0.4,
             "#fde0ef"
            ],
            [
             0.5,
             "#f7f7f7"
            ],
            [
             0.6,
             "#e6f5d0"
            ],
            [
             0.7,
             "#b8e186"
            ],
            [
             0.8,
             "#7fbc41"
            ],
            [
             0.9,
             "#4d9221"
            ],
            [
             1,
             "#276419"
            ]
           ],
           "sequential": [
            [
             0.0,
             "#0d0887"
            ],
            [
             0.1111111111111111,
             "#46039f"
            ],
            [
             0.2222222222222222,
             "#7201a8"
            ],
            [
             0.3333333333333333,
             "#9c179e"
            ],
            [
             0.4444444444444444,
             "#bd3786"
            ],
            [
             0.5555555555555556,
             "#d8576b"
            ],
            [
             0.6666666666666666,
             "#ed7953"
            ],
            [
             0.7777777777777778,
             "#fb9f3a"
            ],
            [
             0.8888888888888888,
             "#fdca26"
            ],
            [
             1.0,
             "#f0f921"
            ]
           ],
           "sequentialminus": [
            [
             0.0,
             "#0d0887"
            ],
            [
             0.1111111111111111,
             "#46039f"
            ],
            [
             0.2222222222222222,
             "#7201a8"
            ],
            [
             0.3333333333333333,
             "#9c179e"
            ],
            [
             0.4444444444444444,
             "#bd3786"
            ],
            [
             0.5555555555555556,
             "#d8576b"
            ],
            [
             0.6666666666666666,
             "#ed7953"
            ],
            [
             0.7777777777777778,
             "#fb9f3a"
            ],
            [
             0.8888888888888888,
             "#fdca26"
            ],
            [
             1.0,
             "#f0f921"
            ]
           ]
          },
          "colorway": [
           "#636efa",
           "#EF553B",
           "#00cc96",
           "#ab63fa",
           "#FFA15A",
           "#19d3f3",
           "#FF6692",
           "#B6E880",
           "#FF97FF",
           "#FECB52"
          ],
          "font": {
           "color": "#f2f5fa"
          },
          "geo": {
           "bgcolor": "rgb(17,17,17)",
           "lakecolor": "rgb(17,17,17)",
           "landcolor": "rgb(17,17,17)",
           "showlakes": true,
           "showland": true,
           "subunitcolor": "#506784"
          },
          "hoverlabel": {
           "align": "left"
          },
          "hovermode": "closest",
          "mapbox": {
           "style": "dark"
          },
          "paper_bgcolor": "rgb(17,17,17)",
          "plot_bgcolor": "rgb(17,17,17)",
          "polar": {
           "angularaxis": {
            "gridcolor": "#506784",
            "linecolor": "#506784",
            "ticks": ""
           },
           "bgcolor": "rgb(17,17,17)",
           "radialaxis": {
            "gridcolor": "#506784",
            "linecolor": "#506784",
            "ticks": ""
           }
          },
          "scene": {
           "xaxis": {
            "backgroundcolor": "rgb(17,17,17)",
            "gridcolor": "#506784",
            "gridwidth": 2,
            "linecolor": "#506784",
            "showbackground": true,
            "ticks": "",
            "zerolinecolor": "#C8D4E3"
           },
           "yaxis": {
            "backgroundcolor": "rgb(17,17,17)",
            "gridcolor": "#506784",
            "gridwidth": 2,
            "linecolor": "#506784",
            "showbackground": true,
            "ticks": "",
            "zerolinecolor": "#C8D4E3"
           },
           "zaxis": {
            "backgroundcolor": "rgb(17,17,17)",
            "gridcolor": "#506784",
            "gridwidth": 2,
            "linecolor": "#506784",
            "showbackground": true,
            "ticks": "",
            "zerolinecolor": "#C8D4E3"
           }
          },
          "shapedefaults": {
           "line": {
            "color": "#f2f5fa"
           }
          },
          "sliderdefaults": {
           "bgcolor": "#C8D4E3",
           "bordercolor": "rgb(17,17,17)",
           "borderwidth": 1,
           "tickwidth": 0
          },
          "ternary": {
           "aaxis": {
            "gridcolor": "#506784",
            "linecolor": "#506784",
            "ticks": ""
           },
           "baxis": {
            "gridcolor": "#506784",
            "linecolor": "#506784",
            "ticks": ""
           },
           "bgcolor": "rgb(17,17,17)",
           "caxis": {
            "gridcolor": "#506784",
            "linecolor": "#506784",
            "ticks": ""
           }
          },
          "title": {
           "x": 0.05
          },
          "updatemenudefaults": {
           "bgcolor": "#506784",
           "borderwidth": 0
          },
          "xaxis": {
           "automargin": true,
           "gridcolor": "#283442",
           "linecolor": "#506784",
           "ticks": "",
           "title": {
            "standoff": 15
           },
           "zerolinecolor": "#283442",
           "zerolinewidth": 2
          },
          "yaxis": {
           "automargin": true,
           "gridcolor": "#283442",
           "linecolor": "#506784",
           "ticks": "",
           "title": {
            "standoff": 15
           },
           "zerolinecolor": "#283442",
           "zerolinewidth": 2
          }
         }
        },
        "title": {
         "font": {
          "color": "#4D5663"
         }
        },
        "xaxis": {
         "gridcolor": "#E1E5ED",
         "showgrid": true,
         "tickfont": {
          "color": "#4D5663"
         },
         "title": {
          "font": {
           "color": "#4D5663"
          },
          "text": ""
         },
         "zerolinecolor": "#E1E5ED"
        },
        "yaxis": {
         "gridcolor": "#E1E5ED",
         "showgrid": true,
         "tickfont": {
          "color": "#4D5663"
         },
         "title": {
          "font": {
           "color": "#4D5663"
          },
          "text": ""
         },
         "zerolinecolor": "#E1E5ED"
        }
       },
       "config": {
        "showLink": true,
        "linkText": "Export to plot.ly",
        "plotlyServerURL": "https://plot.ly"
       }
      },
      "text/html": "<div>                            <div id=\"a821f102-d0a4-48ff-89e7-ab1be81e5c80\" class=\"plotly-graph-div\" style=\"height:525px; width:100%;\"></div>            <script type=\"text/javascript\">                require([\"plotly\"], function(Plotly) {                    window.PLOTLYENV=window.PLOTLYENV || {};\n                    window.PLOTLYENV.BASE_URL='https://plot.ly';                                    if (document.getElementById(\"a821f102-d0a4-48ff-89e7-ab1be81e5c80\")) {                    Plotly.newPlot(                        \"a821f102-d0a4-48ff-89e7-ab1be81e5c80\",                        [{\"marker\":{\"color\":[\"rgb(255, 153, 51)\",\"rgb(55, 128, 191)\",\"rgb(50, 171, 96)\",\"rgb(128, 0, 128)\",\"rgb(219, 64, 82)\",\"rgb(0, 128, 128)\",\"rgb(255, 255, 51)\",\"rgb(128, 128, 0)\",\"rgb(251, 128, 114)\",\"rgb(128, 177, 211)\"],\"line\":{\"width\":1.3},\"size\":[101,55,68,51,74,40,94,62,49,68,95,54,86,49,70,63,85,50,62,75,74,55,44,63,74,49,41,52,67,70,44,12,27,78,66,62,72,39,70,72,54,86,53,23,59,46,59,49,23,98,55,73,97,106,68,77,71,68,64,57,48,77,93,53,55,112,71,51,43,46,60,40,59,45,66,55,62,95,59,55,63,74,75,64,68,43,62,80,57,75,67,75,55,65,79,73,79,63,66,72],\"symbol\":\"circle\"},\"mode\":\"markers\",\"text\":\"\",\"x\":[0.28294306242083767,0.7968335417349354,0.6029639109107471,-1.5650465702073828,1.304012469593769,-0.7189638548328962,-0.8342772051709019,0.22903038848035023,-0.5555919147143817,1.4140028785570107,0.94608625189099,0.9475932345276445,0.23210000912619144,-0.2017794680697094,-1.4990317076611852,-0.7842492198303922,-1.3121806301629386,-1.5962284515435832,0.2657376571207234,-0.7577841855650336,0.39706212625730386,0.6073528236931202,0.5706027636271244,0.18683438249342266,-0.7940508543522877,-0.6444701200418613,-0.2110685265220033,-0.21394613693218092,0.4534506074097498,2.438321983713647,-1.2396923531952755,-1.0338891895089748,-1.8686878644477178,1.4426106451051863,1.3829077973469637,-0.9318189639747426,-1.351996586738685,1.5595608061328485,-0.04392079133593794,-0.3249146952228359,-0.3561904783582894,-0.23101513575681648,0.08360620220848271,-0.2775960238257498,0.1827848967298999,0.526474067214003,2.8941246385052737,0.3513291582553594,1.4747419625145186,0.8114972050269655,0.3904436172676149,0.5863844172483037,0.132548984097949,-0.008685401418308297,1.5120385158724081,-0.30670267379703225,-1.4923253483617496,0.4802337079853066,-0.16507077011425983,-2.0560055890795237,0.10582411220975962,2.060496097844001,0.8634647915354526,-0.3039246066953029,0.1229316646230268,-0.038431626183908746,-1.5625482329206086,0.8026387183329571,-1.0443326064301137,-1.7441282157838378,0.4085613297272926,1.1314362749851863,-0.9655028773082579,0.6140978821152564,-0.6593952533441673,-0.34343935659321273,0.4034289175552191,1.104816451182827,0.3878510482013112,-0.743700172880391,-0.42968150080935014,-0.9391664628727731,-0.5884295473521228,-0.7177875423794414,2.1228794383459997,-0.4975295949320428,1.5496946784360939,-0.1603496989445274,-1.567367392800217,-0.1371889550701248,1.1782392321059363,-0.22356969222959078,-0.5950862468932329,0.7425841600024924,0.12691537384773105,-2.0104992712368546,0.9657266887418268,0.43111491937499125,-1.1636538720055476,0.0005153381097441173],\"y\":[1.7657644339687022,0.40152524610963597,-0.6490441381987168,-0.06690985466349718,-1.3836260446239395,-1.2828230670369736,1.641103044752528,0.02950549536361005,-2.1318721666960796,-1.0425706714763656,-0.6881285360861475,0.7129372647011848,-0.41299957821847816,0.764715578317224,1.6320799119277163,0.6648963455373257,1.502186292770685,0.5717155903686859,-0.08096115022213794,1.6688301430783008,1.099781650299211,0.8677669207363187,-0.049835760740421294,-0.7937881637743242,-1.6797130681383161,-0.8745572359960498,-0.09444092644838366,1.25026970101619,-2.0408326288783494,0.40818850602513895,0.9625915949894845,0.19149098777623977,-0.5412840448442139,-0.9668667448686264,0.5369895159344095,0.4583338589453875,-0.0073253076901911825,-0.1696692115072209,-0.19499724667941787,-0.9760650430864394,0.45399599089019094,-1.438388683371131,-0.030663865329517898,-1.5185179787148289,-0.27104235629081364,1.2370207940253466,0.17549520318780185,-0.422093343206613,0.8053032459521436,1.1307406125923145,-1.2661415921852701,0.6825205226610233,-0.6866233951233202,-1.7648581385983473,-1.1252794765269931,-1.4694753261250473,0.4183908398921806,-0.8084090371479645,0.8278362870211943,-0.38093806077119186,2.1232446144391943,-0.7157103234847048,1.153458938556494,-0.8796592512734447,0.644698021217474,0.5279713712717733,2.418904656614257,-1.7570416086898197,0.6994030201855514,-0.02822940865389242,0.23331442504654712,-0.7184573666523312,0.28763082108987026,0.9558194586851085,-1.1307744435339449,0.5961646009260254,0.29319217653563767,-1.1388899044232315,-0.7596053768042313,-0.4300073438081864,0.6244910560352827,0.8010163299977416,-0.8568211136062038,-0.7896100550557182,-0.9629249914457718,-0.43639411199462874,0.001555813000358842,-0.17681091563059353,-0.5321232495662198,0.9130347810077699,0.14999294028596566,0.28951203578929724,-0.19401209846592063,-1.2577957050234982,0.5077320337947091,-0.5621704955948704,-0.7793490945044861,-0.15103745501382332,0.2372061381731799,-2.670105086556007],\"type\":\"scatter\"}],                        {\"legend\":{\"bgcolor\":\"#F5F6F9\",\"font\":{\"color\":\"#4D5663\"}},\"paper_bgcolor\":\"#F5F6F9\",\"plot_bgcolor\":\"#F5F6F9\",\"template\":{\"data\":{\"barpolar\":[{\"marker\":{\"line\":{\"color\":\"rgb(17,17,17)\",\"width\":0.5},\"pattern\":{\"fillmode\":\"overlay\",\"size\":10,\"solidity\":0.2}},\"type\":\"barpolar\"}],\"bar\":[{\"error_x\":{\"color\":\"#f2f5fa\"},\"error_y\":{\"color\":\"#f2f5fa\"},\"marker\":{\"line\":{\"color\":\"rgb(17,17,17)\",\"width\":0.5},\"pattern\":{\"fillmode\":\"overlay\",\"size\":10,\"solidity\":0.2}},\"type\":\"bar\"}],\"carpet\":[{\"aaxis\":{\"endlinecolor\":\"#A2B1C6\",\"gridcolor\":\"#506784\",\"linecolor\":\"#506784\",\"minorgridcolor\":\"#506784\",\"startlinecolor\":\"#A2B1C6\"},\"baxis\":{\"endlinecolor\":\"#A2B1C6\",\"gridcolor\":\"#506784\",\"linecolor\":\"#506784\",\"minorgridcolor\":\"#506784\",\"startlinecolor\":\"#A2B1C6\"},\"type\":\"carpet\"}],\"choropleth\":[{\"colorbar\":{\"outlinewidth\":0,\"ticks\":\"\"},\"type\":\"choropleth\"}],\"contourcarpet\":[{\"colorbar\":{\"outlinewidth\":0,\"ticks\":\"\"},\"type\":\"contourcarpet\"}],\"contour\":[{\"colorbar\":{\"outlinewidth\":0,\"ticks\":\"\"},\"colorscale\":[[0.0,\"#0d0887\"],[0.1111111111111111,\"#46039f\"],[0.2222222222222222,\"#7201a8\"],[0.3333333333333333,\"#9c179e\"],[0.4444444444444444,\"#bd3786\"],[0.5555555555555556,\"#d8576b\"],[0.6666666666666666,\"#ed7953\"],[0.7777777777777778,\"#fb9f3a\"],[0.8888888888888888,\"#fdca26\"],[1.0,\"#f0f921\"]],\"type\":\"contour\"}],\"heatmapgl\":[{\"colorbar\":{\"outlinewidth\":0,\"ticks\":\"\"},\"colorscale\":[[0.0,\"#0d0887\"],[0.1111111111111111,\"#46039f\"],[0.2222222222222222,\"#7201a8\"],[0.3333333333333333,\"#9c179e\"],[0.4444444444444444,\"#bd3786\"],[0.5555555555555556,\"#d8576b\"],[0.6666666666666666,\"#ed7953\"],[0.7777777777777778,\"#fb9f3a\"],[0.8888888888888888,\"#fdca26\"],[1.0,\"#f0f921\"]],\"type\":\"heatmapgl\"}],\"heatmap\":[{\"colorbar\":{\"outlinewidth\":0,\"ticks\":\"\"},\"colorscale\":[[0.0,\"#0d0887\"],[0.1111111111111111,\"#46039f\"],[0.2222222222222222,\"#7201a8\"],[0.3333333333333333,\"#9c179e\"],[0.4444444444444444,\"#bd3786\"],[0.5555555555555556,\"#d8576b\"],[0.6666666666666666,\"#ed7953\"],[0.7777777777777778,\"#fb9f3a\"],[0.8888888888888888,\"#fdca26\"],[1.0,\"#f0f921\"]],\"type\":\"heatmap\"}],\"histogram2dcontour\":[{\"colorbar\":{\"outlinewidth\":0,\"ticks\":\"\"},\"colorscale\":[[0.0,\"#0d0887\"],[0.1111111111111111,\"#46039f\"],[0.2222222222222222,\"#7201a8\"],[0.3333333333333333,\"#9c179e\"],[0.4444444444444444,\"#bd3786\"],[0.5555555555555556,\"#d8576b\"],[0.6666666666666666,\"#ed7953\"],[0.7777777777777778,\"#fb9f3a\"],[0.8888888888888888,\"#fdca26\"],[1.0,\"#f0f921\"]],\"type\":\"histogram2dcontour\"}],\"histogram2d\":[{\"colorbar\":{\"outlinewidth\":0,\"ticks\":\"\"},\"colorscale\":[[0.0,\"#0d0887\"],[0.1111111111111111,\"#46039f\"],[0.2222222222222222,\"#7201a8\"],[0.3333333333333333,\"#9c179e\"],[0.4444444444444444,\"#bd3786\"],[0.5555555555555556,\"#d8576b\"],[0.6666666666666666,\"#ed7953\"],[0.7777777777777778,\"#fb9f3a\"],[0.8888888888888888,\"#fdca26\"],[1.0,\"#f0f921\"]],\"type\":\"histogram2d\"}],\"histogram\":[{\"marker\":{\"pattern\":{\"fillmode\":\"overlay\",\"size\":10,\"solidity\":0.2}},\"type\":\"histogram\"}],\"mesh3d\":[{\"colorbar\":{\"outlinewidth\":0,\"ticks\":\"\"},\"type\":\"mesh3d\"}],\"parcoords\":[{\"line\":{\"colorbar\":{\"outlinewidth\":0,\"ticks\":\"\"}},\"type\":\"parcoords\"}],\"pie\":[{\"automargin\":true,\"type\":\"pie\"}],\"scatter3d\":[{\"line\":{\"colorbar\":{\"outlinewidth\":0,\"ticks\":\"\"}},\"marker\":{\"colorbar\":{\"outlinewidth\":0,\"ticks\":\"\"}},\"type\":\"scatter3d\"}],\"scattercarpet\":[{\"marker\":{\"colorbar\":{\"outlinewidth\":0,\"ticks\":\"\"}},\"type\":\"scattercarpet\"}],\"scattergeo\":[{\"marker\":{\"colorbar\":{\"outlinewidth\":0,\"ticks\":\"\"}},\"type\":\"scattergeo\"}],\"scattergl\":[{\"marker\":{\"line\":{\"color\":\"#283442\"}},\"type\":\"scattergl\"}],\"scattermapbox\":[{\"marker\":{\"colorbar\":{\"outlinewidth\":0,\"ticks\":\"\"}},\"type\":\"scattermapbox\"}],\"scatterpolargl\":[{\"marker\":{\"colorbar\":{\"outlinewidth\":0,\"ticks\":\"\"}},\"type\":\"scatterpolargl\"}],\"scatterpolar\":[{\"marker\":{\"colorbar\":{\"outlinewidth\":0,\"ticks\":\"\"}},\"type\":\"scatterpolar\"}],\"scatter\":[{\"marker\":{\"line\":{\"color\":\"#283442\"}},\"type\":\"scatter\"}],\"scatterternary\":[{\"marker\":{\"colorbar\":{\"outlinewidth\":0,\"ticks\":\"\"}},\"type\":\"scatterternary\"}],\"surface\":[{\"colorbar\":{\"outlinewidth\":0,\"ticks\":\"\"},\"colorscale\":[[0.0,\"#0d0887\"],[0.1111111111111111,\"#46039f\"],[0.2222222222222222,\"#7201a8\"],[0.3333333333333333,\"#9c179e\"],[0.4444444444444444,\"#bd3786\"],[0.5555555555555556,\"#d8576b\"],[0.6666666666666666,\"#ed7953\"],[0.7777777777777778,\"#fb9f3a\"],[0.8888888888888888,\"#fdca26\"],[1.0,\"#f0f921\"]],\"type\":\"surface\"}],\"table\":[{\"cells\":{\"fill\":{\"color\":\"#506784\"},\"line\":{\"color\":\"rgb(17,17,17)\"}},\"header\":{\"fill\":{\"color\":\"#2a3f5f\"},\"line\":{\"color\":\"rgb(17,17,17)\"}},\"type\":\"table\"}]},\"layout\":{\"annotationdefaults\":{\"arrowcolor\":\"#f2f5fa\",\"arrowhead\":0,\"arrowwidth\":1},\"autotypenumbers\":\"strict\",\"coloraxis\":{\"colorbar\":{\"outlinewidth\":0,\"ticks\":\"\"}},\"colorscale\":{\"diverging\":[[0,\"#8e0152\"],[0.1,\"#c51b7d\"],[0.2,\"#de77ae\"],[0.3,\"#f1b6da\"],[0.4,\"#fde0ef\"],[0.5,\"#f7f7f7\"],[0.6,\"#e6f5d0\"],[0.7,\"#b8e186\"],[0.8,\"#7fbc41\"],[0.9,\"#4d9221\"],[1,\"#276419\"]],\"sequential\":[[0.0,\"#0d0887\"],[0.1111111111111111,\"#46039f\"],[0.2222222222222222,\"#7201a8\"],[0.3333333333333333,\"#9c179e\"],[0.4444444444444444,\"#bd3786\"],[0.5555555555555556,\"#d8576b\"],[0.6666666666666666,\"#ed7953\"],[0.7777777777777778,\"#fb9f3a\"],[0.8888888888888888,\"#fdca26\"],[1.0,\"#f0f921\"]],\"sequentialminus\":[[0.0,\"#0d0887\"],[0.1111111111111111,\"#46039f\"],[0.2222222222222222,\"#7201a8\"],[0.3333333333333333,\"#9c179e\"],[0.4444444444444444,\"#bd3786\"],[0.5555555555555556,\"#d8576b\"],[0.6666666666666666,\"#ed7953\"],[0.7777777777777778,\"#fb9f3a\"],[0.8888888888888888,\"#fdca26\"],[1.0,\"#f0f921\"]]},\"colorway\":[\"#636efa\",\"#EF553B\",\"#00cc96\",\"#ab63fa\",\"#FFA15A\",\"#19d3f3\",\"#FF6692\",\"#B6E880\",\"#FF97FF\",\"#FECB52\"],\"font\":{\"color\":\"#f2f5fa\"},\"geo\":{\"bgcolor\":\"rgb(17,17,17)\",\"lakecolor\":\"rgb(17,17,17)\",\"landcolor\":\"rgb(17,17,17)\",\"showlakes\":true,\"showland\":true,\"subunitcolor\":\"#506784\"},\"hoverlabel\":{\"align\":\"left\"},\"hovermode\":\"closest\",\"mapbox\":{\"style\":\"dark\"},\"paper_bgcolor\":\"rgb(17,17,17)\",\"plot_bgcolor\":\"rgb(17,17,17)\",\"polar\":{\"angularaxis\":{\"gridcolor\":\"#506784\",\"linecolor\":\"#506784\",\"ticks\":\"\"},\"bgcolor\":\"rgb(17,17,17)\",\"radialaxis\":{\"gridcolor\":\"#506784\",\"linecolor\":\"#506784\",\"ticks\":\"\"}},\"scene\":{\"xaxis\":{\"backgroundcolor\":\"rgb(17,17,17)\",\"gridcolor\":\"#506784\",\"gridwidth\":2,\"linecolor\":\"#506784\",\"showbackground\":true,\"ticks\":\"\",\"zerolinecolor\":\"#C8D4E3\"},\"yaxis\":{\"backgroundcolor\":\"rgb(17,17,17)\",\"gridcolor\":\"#506784\",\"gridwidth\":2,\"linecolor\":\"#506784\",\"showbackground\":true,\"ticks\":\"\",\"zerolinecolor\":\"#C8D4E3\"},\"zaxis\":{\"backgroundcolor\":\"rgb(17,17,17)\",\"gridcolor\":\"#506784\",\"gridwidth\":2,\"linecolor\":\"#506784\",\"showbackground\":true,\"ticks\":\"\",\"zerolinecolor\":\"#C8D4E3\"}},\"shapedefaults\":{\"line\":{\"color\":\"#f2f5fa\"}},\"sliderdefaults\":{\"bgcolor\":\"#C8D4E3\",\"bordercolor\":\"rgb(17,17,17)\",\"borderwidth\":1,\"tickwidth\":0},\"ternary\":{\"aaxis\":{\"gridcolor\":\"#506784\",\"linecolor\":\"#506784\",\"ticks\":\"\"},\"baxis\":{\"gridcolor\":\"#506784\",\"linecolor\":\"#506784\",\"ticks\":\"\"},\"bgcolor\":\"rgb(17,17,17)\",\"caxis\":{\"gridcolor\":\"#506784\",\"linecolor\":\"#506784\",\"ticks\":\"\"}},\"title\":{\"x\":0.05},\"updatemenudefaults\":{\"bgcolor\":\"#506784\",\"borderwidth\":0},\"xaxis\":{\"automargin\":true,\"gridcolor\":\"#283442\",\"linecolor\":\"#506784\",\"ticks\":\"\",\"title\":{\"standoff\":15},\"zerolinecolor\":\"#283442\",\"zerolinewidth\":2},\"yaxis\":{\"automargin\":true,\"gridcolor\":\"#283442\",\"linecolor\":\"#506784\",\"ticks\":\"\",\"title\":{\"standoff\":15},\"zerolinecolor\":\"#283442\",\"zerolinewidth\":2}}},\"title\":{\"font\":{\"color\":\"#4D5663\"}},\"xaxis\":{\"gridcolor\":\"#E1E5ED\",\"showgrid\":true,\"tickfont\":{\"color\":\"#4D5663\"},\"title\":{\"font\":{\"color\":\"#4D5663\"},\"text\":\"\"},\"zerolinecolor\":\"#E1E5ED\"},\"yaxis\":{\"gridcolor\":\"#E1E5ED\",\"showgrid\":true,\"tickfont\":{\"color\":\"#4D5663\"},\"title\":{\"font\":{\"color\":\"#4D5663\"},\"text\":\"\"},\"zerolinecolor\":\"#E1E5ED\"}},                        {\"showLink\": true, \"linkText\": \"Export to plot.ly\", \"plotlyServerURL\": \"https://plot.ly\", \"responsive\": true}                    ).then(function(){\n                            \nvar gd = document.getElementById('a821f102-d0a4-48ff-89e7-ab1be81e5c80');\nvar x = new MutationObserver(function (mutations, observer) {{\n        var display = window.getComputedStyle(gd).display;\n        if (!display || display === 'none') {{\n            console.log([gd, 'removed!']);\n            Plotly.purge(gd);\n            observer.disconnect();\n        }}\n}});\n\n// Listen for the removal of the full notebook cells\nvar notebookContainer = gd.closest('#notebook-container');\nif (notebookContainer) {{\n    x.observe(notebookContainer, {childList: true});\n}}\n\n// Listen for the clearing of the current output cell\nvar outputEl = gd.closest('.output');\nif (outputEl) {{\n    x.observe(outputEl, {childList: true});\n}}\n\n                        })                };                });            </script>        </div>"
     },
     "metadata": {},
     "output_type": "display_data"
    }
   ],
   "source": [
    "df.iplot(kind='bubble', x='A', y='B', size='C')\n"
   ],
   "metadata": {
    "collapsed": false,
    "pycharm": {
     "name": "#%%\n"
    }
   }
  },
  {
   "cell_type": "code",
   "execution_count": 52,
   "outputs": [
    {
     "data": {
      "application/vnd.plotly.v1+json": {
       "data": [
        {
         "histfunc": "count",
         "histnorm": "",
         "marker": {
          "color": "rgba(255, 153, 51, 1.0)",
          "line": {
           "color": "#4D5663",
           "width": 1.3
          }
         },
         "name": "A",
         "nbinsx": 10,
         "opacity": 0.8,
         "orientation": "v",
         "x": [
          0.28294306242083767,
          0.7968335417349354,
          0.6029639109107471,
          -1.5650465702073828,
          1.304012469593769,
          -0.7189638548328962,
          -0.8342772051709019,
          0.22903038848035023,
          -0.5555919147143817,
          1.4140028785570107,
          0.94608625189099,
          0.9475932345276445,
          0.23210000912619144,
          -0.2017794680697094,
          -1.4990317076611852,
          -0.7842492198303922,
          -1.3121806301629386,
          -1.5962284515435832,
          0.2657376571207234,
          -0.7577841855650336,
          0.39706212625730386,
          0.6073528236931202,
          0.5706027636271244,
          0.18683438249342266,
          -0.7940508543522877,
          -0.6444701200418613,
          -0.2110685265220033,
          -0.21394613693218092,
          0.4534506074097498,
          2.438321983713647,
          -1.2396923531952755,
          -1.0338891895089748,
          -1.8686878644477178,
          1.4426106451051863,
          1.3829077973469637,
          -0.9318189639747426,
          -1.351996586738685,
          1.5595608061328485,
          -0.04392079133593794,
          -0.3249146952228359,
          -0.3561904783582894,
          -0.23101513575681648,
          0.08360620220848271,
          -0.2775960238257498,
          0.1827848967298999,
          0.526474067214003,
          2.8941246385052737,
          0.3513291582553594,
          1.4747419625145186,
          0.8114972050269655,
          0.3904436172676149,
          0.5863844172483037,
          0.132548984097949,
          -0.008685401418308297,
          1.5120385158724081,
          -0.30670267379703225,
          -1.4923253483617496,
          0.4802337079853066,
          -0.16507077011425983,
          -2.0560055890795237,
          0.10582411220975962,
          2.060496097844001,
          0.8634647915354526,
          -0.3039246066953029,
          0.1229316646230268,
          -0.038431626183908746,
          -1.5625482329206086,
          0.8026387183329571,
          -1.0443326064301137,
          -1.7441282157838378,
          0.4085613297272926,
          1.1314362749851863,
          -0.9655028773082579,
          0.6140978821152564,
          -0.6593952533441673,
          -0.34343935659321273,
          0.4034289175552191,
          1.104816451182827,
          0.3878510482013112,
          -0.743700172880391,
          -0.42968150080935014,
          -0.9391664628727731,
          -0.5884295473521228,
          -0.7177875423794414,
          2.1228794383459997,
          -0.4975295949320428,
          1.5496946784360939,
          -0.1603496989445274,
          -1.567367392800217,
          -0.1371889550701248,
          1.1782392321059363,
          -0.22356969222959078,
          -0.5950862468932329,
          0.7425841600024924,
          0.12691537384773105,
          -2.0104992712368546,
          0.9657266887418268,
          0.43111491937499125,
          -1.1636538720055476,
          5.153381097441173E-4
         ],
         "xaxis": "x",
         "yaxis": "y",
         "type": "histogram"
        },
        {
         "line": {
          "color": "rgba(128, 128, 128, 1.0)",
          "dash": "solid",
          "shape": "linear",
          "width": 1.3
         },
         "marker": {
          "size": 2,
          "symbol": "circle"
         },
         "mode": "markers",
         "name": "A",
         "text": "",
         "x": [
          1.7657644339687022,
          0.40152524610963597,
          -0.6490441381987168,
          -0.06690985466349718,
          -1.3836260446239395,
          -1.2828230670369736,
          1.641103044752528,
          0.02950549536361005,
          -2.1318721666960796,
          -1.0425706714763656,
          -0.6881285360861475,
          0.7129372647011848,
          -0.41299957821847816,
          0.764715578317224,
          1.6320799119277163,
          0.6648963455373257,
          1.502186292770685,
          0.5717155903686859,
          -0.08096115022213794,
          1.6688301430783008,
          1.099781650299211,
          0.8677669207363187,
          -0.049835760740421294,
          -0.7937881637743242,
          -1.6797130681383161,
          -0.8745572359960498,
          -0.09444092644838366,
          1.25026970101619,
          -2.0408326288783494,
          0.40818850602513895,
          0.9625915949894845,
          0.19149098777623977,
          -0.5412840448442139,
          -0.9668667448686264,
          0.5369895159344095,
          0.4583338589453875,
          -0.0073253076901911825,
          -0.1696692115072209,
          -0.19499724667941787,
          -0.9760650430864394,
          0.45399599089019094,
          -1.438388683371131,
          -0.030663865329517898,
          -1.5185179787148289,
          -0.27104235629081364,
          1.2370207940253466,
          0.17549520318780185,
          -0.422093343206613,
          0.8053032459521436,
          1.1307406125923145,
          -1.2661415921852701,
          0.6825205226610233,
          -0.6866233951233202,
          -1.7648581385983473,
          -1.1252794765269931,
          -1.4694753261250473,
          0.4183908398921806,
          -0.8084090371479645,
          0.8278362870211943,
          -0.38093806077119186,
          2.1232446144391943,
          -0.7157103234847048,
          1.153458938556494,
          -0.8796592512734447,
          0.644698021217474,
          0.5279713712717733,
          2.418904656614257,
          -1.7570416086898197,
          0.6994030201855514,
          -0.02822940865389242,
          0.23331442504654712,
          -0.7184573666523312,
          0.28763082108987026,
          0.9558194586851085,
          -1.1307744435339449,
          0.5961646009260254,
          0.29319217653563767,
          -1.1388899044232315,
          -0.7596053768042313,
          -0.4300073438081864,
          0.6244910560352827,
          0.8010163299977416,
          -0.8568211136062038,
          -0.7896100550557182,
          -0.9629249914457718,
          -0.43639411199462874,
          0.001555813000358842,
          -0.17681091563059353,
          -0.5321232495662198,
          0.9130347810077699,
          0.14999294028596566,
          0.28951203578929724,
          -0.19401209846592063,
          -1.2577957050234982,
          0.5077320337947091,
          -0.5621704955948704,
          -0.7793490945044861,
          -0.15103745501382332,
          0.2372061381731799,
          -2.670105086556007
         ],
         "xaxis": "x2",
         "y": [
          0.28294306242083767,
          0.7968335417349354,
          0.6029639109107471,
          -1.5650465702073828,
          1.304012469593769,
          -0.7189638548328962,
          -0.8342772051709019,
          0.22903038848035023,
          -0.5555919147143817,
          1.4140028785570107,
          0.94608625189099,
          0.9475932345276445,
          0.23210000912619144,
          -0.2017794680697094,
          -1.4990317076611852,
          -0.7842492198303922,
          -1.3121806301629386,
          -1.5962284515435832,
          0.2657376571207234,
          -0.7577841855650336,
          0.39706212625730386,
          0.6073528236931202,
          0.5706027636271244,
          0.18683438249342266,
          -0.7940508543522877,
          -0.6444701200418613,
          -0.2110685265220033,
          -0.21394613693218092,
          0.4534506074097498,
          2.438321983713647,
          -1.2396923531952755,
          -1.0338891895089748,
          -1.8686878644477178,
          1.4426106451051863,
          1.3829077973469637,
          -0.9318189639747426,
          -1.351996586738685,
          1.5595608061328485,
          -0.04392079133593794,
          -0.3249146952228359,
          -0.3561904783582894,
          -0.23101513575681648,
          0.08360620220848271,
          -0.2775960238257498,
          0.1827848967298999,
          0.526474067214003,
          2.8941246385052737,
          0.3513291582553594,
          1.4747419625145186,
          0.8114972050269655,
          0.3904436172676149,
          0.5863844172483037,
          0.132548984097949,
          -0.008685401418308297,
          1.5120385158724081,
          -0.30670267379703225,
          -1.4923253483617496,
          0.4802337079853066,
          -0.16507077011425983,
          -2.0560055890795237,
          0.10582411220975962,
          2.060496097844001,
          0.8634647915354526,
          -0.3039246066953029,
          0.1229316646230268,
          -0.038431626183908746,
          -1.5625482329206086,
          0.8026387183329571,
          -1.0443326064301137,
          -1.7441282157838378,
          0.4085613297272926,
          1.1314362749851863,
          -0.9655028773082579,
          0.6140978821152564,
          -0.6593952533441673,
          -0.34343935659321273,
          0.4034289175552191,
          1.104816451182827,
          0.3878510482013112,
          -0.743700172880391,
          -0.42968150080935014,
          -0.9391664628727731,
          -0.5884295473521228,
          -0.7177875423794414,
          2.1228794383459997,
          -0.4975295949320428,
          1.5496946784360939,
          -0.1603496989445274,
          -1.567367392800217,
          -0.1371889550701248,
          1.1782392321059363,
          -0.22356969222959078,
          -0.5950862468932329,
          0.7425841600024924,
          0.12691537384773105,
          -2.0104992712368546,
          0.9657266887418268,
          0.43111491937499125,
          -1.1636538720055476,
          5.153381097441173E-4
         ],
         "yaxis": "y2",
         "type": "scatter"
        },
        {
         "line": {
          "color": "rgba(128, 128, 128, 1.0)",
          "dash": "solid",
          "shape": "linear",
          "width": 1.3
         },
         "marker": {
          "size": 2,
          "symbol": "circle"
         },
         "mode": "markers",
         "name": "A",
         "text": "",
         "x": [
          1.9688512544483658,
          -0.4670637559025583,
          0.21254837098282703,
          -0.6516910209747601,
          0.5283780997882954,
          -1.2545542878657616,
          1.6196262049773122,
          -0.0801112350530872,
          -0.7475681227771004,
          0.24469448167629484,
          1.6293306874438243,
          -0.47887637572466163,
          1.188573074681109,
          -0.7866333001968231,
          0.31334116043312854,
          -0.04375166465709195,
          1.098106114839438,
          -0.6922329600140962,
          -0.08678247966329718,
          0.5916321638693771,
          0.5579565061049254,
          -0.42895243549659184,
          -1.0104381884188447,
          -0.04696434665995022,
          0.5255970409910206,
          -0.7692651839125656,
          -1.1831886025318505,
          -0.6098739873848457,
          0.200073280459851,
          0.35597959402749435,
          -1.0292670748632338,
          -2.7344802203594774,
          -1.9441523009659971,
          0.7664776115849087,
          0.1400537725754366,
          -0.05918159770352548,
          0.4147534739976277,
          -1.2948571424125193,
          0.3112117882655775,
          0.4244149300520934,
          -0.5285500823654952,
          1.1928624338539995,
          -0.5399231120915295,
          -2.107949793256516,
          -0.23417733605514487,
          -0.9429631778221665,
          -0.243928139249279,
          -0.7478968352502519,
          -2.1254677052723223,
          1.7849810984402206,
          -0.4496865266673635,
          0.4747596939931916,
          1.7597641814292622,
          2.2169333470703787,
          0.23712303060237905,
          0.7174429594687959,
          0.37119755461333565,
          0.23200153316338043,
          0.002307375506775622,
          -0.34379379002474475,
          -0.8362242041614424,
          0.693635298620592,
          1.5270303697667875,
          -0.5615117770353253,
          -0.4507910051518651,
          2.51222992189218,
          0.3743225171633774,
          -0.6613744747982596,
          -1.0765990318372107,
          -0.9498751295308068,
          -0.20863538597655457,
          -1.2243447350782934,
          -0.22068181642592458,
          -0.9684415650560166,
          0.125433771321192,
          -0.4480610459423625,
          -0.11039472512050559,
          1.631880303908501,
          -0.24522734417462194,
          -0.46818678858719415,
          -0.022683988280568904,
          0.5677990973495867,
          0.5837045662577841,
          0.04390125624770037,
          0.21052547505528604,
          -1.0780123528381345,
          -0.09850335676066076,
          0.858282999570995,
          -0.3403900020407947,
          0.5806164343650096,
          0.15819115598443267,
          0.6058230389773845,
          -0.46653901272156106,
          0.06218512014908821,
          0.811881185608445,
          0.47530021700031944,
          0.8139384613908115,
          -0.014767467695816593,
          0.10243941126630765,
          0.41556612363657
         ],
         "xaxis": "x3",
         "y": [
          0.28294306242083767,
          0.7968335417349354,
          0.6029639109107471,
          -1.5650465702073828,
          1.304012469593769,
          -0.7189638548328962,
          -0.8342772051709019,
          0.22903038848035023,
          -0.5555919147143817,
          1.4140028785570107,
          0.94608625189099,
          0.9475932345276445,
          0.23210000912619144,
          -0.2017794680697094,
          -1.4990317076611852,
          -0.7842492198303922,
          -1.3121806301629386,
          -1.5962284515435832,
          0.2657376571207234,
          -0.7577841855650336,
          0.39706212625730386,
          0.6073528236931202,
          0.5706027636271244,
          0.18683438249342266,
          -0.7940508543522877,
          -0.6444701200418613,
          -0.2110685265220033,
          -0.21394613693218092,
          0.4534506074097498,
          2.438321983713647,
          -1.2396923531952755,
          -1.0338891895089748,
          -1.8686878644477178,
          1.4426106451051863,
          1.3829077973469637,
          -0.9318189639747426,
          -1.351996586738685,
          1.5595608061328485,
          -0.04392079133593794,
          -0.3249146952228359,
          -0.3561904783582894,
          -0.23101513575681648,
          0.08360620220848271,
          -0.2775960238257498,
          0.1827848967298999,
          0.526474067214003,
          2.8941246385052737,
          0.3513291582553594,
          1.4747419625145186,
          0.8114972050269655,
          0.3904436172676149,
          0.5863844172483037,
          0.132548984097949,
          -0.008685401418308297,
          1.5120385158724081,
          -0.30670267379703225,
          -1.4923253483617496,
          0.4802337079853066,
          -0.16507077011425983,
          -2.0560055890795237,
          0.10582411220975962,
          2.060496097844001,
          0.8634647915354526,
          -0.3039246066953029,
          0.1229316646230268,
          -0.038431626183908746,
          -1.5625482329206086,
          0.8026387183329571,
          -1.0443326064301137,
          -1.7441282157838378,
          0.4085613297272926,
          1.1314362749851863,
          -0.9655028773082579,
          0.6140978821152564,
          -0.6593952533441673,
          -0.34343935659321273,
          0.4034289175552191,
          1.104816451182827,
          0.3878510482013112,
          -0.743700172880391,
          -0.42968150080935014,
          -0.9391664628727731,
          -0.5884295473521228,
          -0.7177875423794414,
          2.1228794383459997,
          -0.4975295949320428,
          1.5496946784360939,
          -0.1603496989445274,
          -1.567367392800217,
          -0.1371889550701248,
          1.1782392321059363,
          -0.22356969222959078,
          -0.5950862468932329,
          0.7425841600024924,
          0.12691537384773105,
          -2.0104992712368546,
          0.9657266887418268,
          0.43111491937499125,
          -1.1636538720055476,
          5.153381097441173E-4
         ],
         "yaxis": "y3",
         "type": "scatter"
        },
        {
         "line": {
          "color": "rgba(128, 128, 128, 1.0)",
          "dash": "solid",
          "shape": "linear",
          "width": 1.3
         },
         "marker": {
          "size": 2,
          "symbol": "circle"
         },
         "mode": "markers",
         "name": "A",
         "text": "",
         "x": [
          -1.098285288430023,
          0.14958184404167088,
          1.2461298679584585,
          0.1606633336917265,
          -1.064338879728997,
          0.348695820548867,
          1.262583843295249,
          -0.2652580066333978,
          -2.3186208013452423,
          0.5680034377426191,
          0.8338783569185281,
          -0.09585283640443476,
          -0.46464390932887145,
          -2.2972444978095994,
          2.183909433297379,
          -0.013972018416402835,
          -0.7126676632467435,
          0.22922192628897645,
          1.637605005809018,
          -0.5135535537717857,
          -0.9261790276114082,
          4.174738246936915,
          -2.1935206929409814,
          2.1005090209585315,
          0.888072400808627,
          -0.1984147753111766,
          -0.6060905714943685,
          -1.378091241350273,
          0.10749483146196324,
          -1.0123953977752262,
          0.09650733283282696,
          -1.2731302613177875,
          -0.4085654017370767,
          0.2065593374355364,
          0.5219102699111029,
          0.23253206010127903,
          0.8022753480334646,
          -0.7626616617721025,
          -3.1738291113978567,
          -1.6674810426247788,
          -1.1462399692068828,
          1.0907686369810152,
          -0.5378591090951689,
          0.4648710366387402,
          0.23158383235184826,
          -1.8685527054804556,
          -0.0677166558648092,
          0.9547035877335902,
          0.2736767899790965,
          -0.24510439633762685,
          1.8287532241266817,
          -0.9869759895749884,
          -0.8388354194328247,
          1.5022029095222333,
          0.611225234255143,
          -0.24614466274467448,
          0.43233252564391855,
          -1.0501994517387059,
          -0.8457157432194893,
          0.6255056240299353,
          0.15667749966855699,
          -0.4537303101034507,
          0.18872694836491294,
          1.7568123950413166,
          -0.30484909598802196,
          -0.03899430760080177,
          0.9187544549747515,
          0.5770909461636848,
          0.21081839895770305,
          -0.09285429791354204,
          0.25446224307737236,
          -0.7419890916278661,
          -0.009095920170494667,
          0.25596074176293654,
          -0.025723841005877705,
          0.7031950797014404,
          0.6907715831130319,
          -1.7153935493262509,
          -0.25408157808083154,
          1.1979840271940898,
          2.951036676812776,
          2.1671358251555866,
          -0.6410759273752508,
          0.339982431884618,
          0.11364826400115999,
          -0.7934179783598645,
          -0.8679177248664283,
          -1.4627692201330509,
          -2.5736579742436296,
          -1.3397880382466327,
          0.3491660530251151,
          0.2569914029439571,
          -0.7460985291208861,
          -0.7465245013540494,
          -0.8097864569083478,
          -0.5456804041774364,
          0.5808559193030063,
          -0.536706453502714,
          0.6344186541349182,
          -0.5613980713435446
         ],
         "xaxis": "x4",
         "y": [
          0.28294306242083767,
          0.7968335417349354,
          0.6029639109107471,
          -1.5650465702073828,
          1.304012469593769,
          -0.7189638548328962,
          -0.8342772051709019,
          0.22903038848035023,
          -0.5555919147143817,
          1.4140028785570107,
          0.94608625189099,
          0.9475932345276445,
          0.23210000912619144,
          -0.2017794680697094,
          -1.4990317076611852,
          -0.7842492198303922,
          -1.3121806301629386,
          -1.5962284515435832,
          0.2657376571207234,
          -0.7577841855650336,
          0.39706212625730386,
          0.6073528236931202,
          0.5706027636271244,
          0.18683438249342266,
          -0.7940508543522877,
          -0.6444701200418613,
          -0.2110685265220033,
          -0.21394613693218092,
          0.4534506074097498,
          2.438321983713647,
          -1.2396923531952755,
          -1.0338891895089748,
          -1.8686878644477178,
          1.4426106451051863,
          1.3829077973469637,
          -0.9318189639747426,
          -1.351996586738685,
          1.5595608061328485,
          -0.04392079133593794,
          -0.3249146952228359,
          -0.3561904783582894,
          -0.23101513575681648,
          0.08360620220848271,
          -0.2775960238257498,
          0.1827848967298999,
          0.526474067214003,
          2.8941246385052737,
          0.3513291582553594,
          1.4747419625145186,
          0.8114972050269655,
          0.3904436172676149,
          0.5863844172483037,
          0.132548984097949,
          -0.008685401418308297,
          1.5120385158724081,
          -0.30670267379703225,
          -1.4923253483617496,
          0.4802337079853066,
          -0.16507077011425983,
          -2.0560055890795237,
          0.10582411220975962,
          2.060496097844001,
          0.8634647915354526,
          -0.3039246066953029,
          0.1229316646230268,
          -0.038431626183908746,
          -1.5625482329206086,
          0.8026387183329571,
          -1.0443326064301137,
          -1.7441282157838378,
          0.4085613297272926,
          1.1314362749851863,
          -0.9655028773082579,
          0.6140978821152564,
          -0.6593952533441673,
          -0.34343935659321273,
          0.4034289175552191,
          1.104816451182827,
          0.3878510482013112,
          -0.743700172880391,
          -0.42968150080935014,
          -0.9391664628727731,
          -0.5884295473521228,
          -0.7177875423794414,
          2.1228794383459997,
          -0.4975295949320428,
          1.5496946784360939,
          -0.1603496989445274,
          -1.567367392800217,
          -0.1371889550701248,
          1.1782392321059363,
          -0.22356969222959078,
          -0.5950862468932329,
          0.7425841600024924,
          0.12691537384773105,
          -2.0104992712368546,
          0.9657266887418268,
          0.43111491937499125,
          -1.1636538720055476,
          5.153381097441173E-4
         ],
         "yaxis": "y4",
         "type": "scatter"
        },
        {
         "line": {
          "color": "rgba(128, 128, 128, 1.0)",
          "dash": "solid",
          "shape": "linear",
          "width": 1.3
         },
         "marker": {
          "size": 2,
          "symbol": "circle"
         },
         "mode": "markers",
         "name": "B",
         "text": "",
         "x": [
          0.28294306242083767,
          0.7968335417349354,
          0.6029639109107471,
          -1.5650465702073828,
          1.304012469593769,
          -0.7189638548328962,
          -0.8342772051709019,
          0.22903038848035023,
          -0.5555919147143817,
          1.4140028785570107,
          0.94608625189099,
          0.9475932345276445,
          0.23210000912619144,
          -0.2017794680697094,
          -1.4990317076611852,
          -0.7842492198303922,
          -1.3121806301629386,
          -1.5962284515435832,
          0.2657376571207234,
          -0.7577841855650336,
          0.39706212625730386,
          0.6073528236931202,
          0.5706027636271244,
          0.18683438249342266,
          -0.7940508543522877,
          -0.6444701200418613,
          -0.2110685265220033,
          -0.21394613693218092,
          0.4534506074097498,
          2.438321983713647,
          -1.2396923531952755,
          -1.0338891895089748,
          -1.8686878644477178,
          1.4426106451051863,
          1.3829077973469637,
          -0.9318189639747426,
          -1.351996586738685,
          1.5595608061328485,
          -0.04392079133593794,
          -0.3249146952228359,
          -0.3561904783582894,
          -0.23101513575681648,
          0.08360620220848271,
          -0.2775960238257498,
          0.1827848967298999,
          0.526474067214003,
          2.8941246385052737,
          0.3513291582553594,
          1.4747419625145186,
          0.8114972050269655,
          0.3904436172676149,
          0.5863844172483037,
          0.132548984097949,
          -0.008685401418308297,
          1.5120385158724081,
          -0.30670267379703225,
          -1.4923253483617496,
          0.4802337079853066,
          -0.16507077011425983,
          -2.0560055890795237,
          0.10582411220975962,
          2.060496097844001,
          0.8634647915354526,
          -0.3039246066953029,
          0.1229316646230268,
          -0.038431626183908746,
          -1.5625482329206086,
          0.8026387183329571,
          -1.0443326064301137,
          -1.7441282157838378,
          0.4085613297272926,
          1.1314362749851863,
          -0.9655028773082579,
          0.6140978821152564,
          -0.6593952533441673,
          -0.34343935659321273,
          0.4034289175552191,
          1.104816451182827,
          0.3878510482013112,
          -0.743700172880391,
          -0.42968150080935014,
          -0.9391664628727731,
          -0.5884295473521228,
          -0.7177875423794414,
          2.1228794383459997,
          -0.4975295949320428,
          1.5496946784360939,
          -0.1603496989445274,
          -1.567367392800217,
          -0.1371889550701248,
          1.1782392321059363,
          -0.22356969222959078,
          -0.5950862468932329,
          0.7425841600024924,
          0.12691537384773105,
          -2.0104992712368546,
          0.9657266887418268,
          0.43111491937499125,
          -1.1636538720055476,
          5.153381097441173E-4
         ],
         "xaxis": "x5",
         "y": [
          1.7657644339687022,
          0.40152524610963597,
          -0.6490441381987168,
          -0.06690985466349718,
          -1.3836260446239395,
          -1.2828230670369736,
          1.641103044752528,
          0.02950549536361005,
          -2.1318721666960796,
          -1.0425706714763656,
          -0.6881285360861475,
          0.7129372647011848,
          -0.41299957821847816,
          0.764715578317224,
          1.6320799119277163,
          0.6648963455373257,
          1.502186292770685,
          0.5717155903686859,
          -0.08096115022213794,
          1.6688301430783008,
          1.099781650299211,
          0.8677669207363187,
          -0.049835760740421294,
          -0.7937881637743242,
          -1.6797130681383161,
          -0.8745572359960498,
          -0.09444092644838366,
          1.25026970101619,
          -2.0408326288783494,
          0.40818850602513895,
          0.9625915949894845,
          0.19149098777623977,
          -0.5412840448442139,
          -0.9668667448686264,
          0.5369895159344095,
          0.4583338589453875,
          -0.0073253076901911825,
          -0.1696692115072209,
          -0.19499724667941787,
          -0.9760650430864394,
          0.45399599089019094,
          -1.438388683371131,
          -0.030663865329517898,
          -1.5185179787148289,
          -0.27104235629081364,
          1.2370207940253466,
          0.17549520318780185,
          -0.422093343206613,
          0.8053032459521436,
          1.1307406125923145,
          -1.2661415921852701,
          0.6825205226610233,
          -0.6866233951233202,
          -1.7648581385983473,
          -1.1252794765269931,
          -1.4694753261250473,
          0.4183908398921806,
          -0.8084090371479645,
          0.8278362870211943,
          -0.38093806077119186,
          2.1232446144391943,
          -0.7157103234847048,
          1.153458938556494,
          -0.8796592512734447,
          0.644698021217474,
          0.5279713712717733,
          2.418904656614257,
          -1.7570416086898197,
          0.6994030201855514,
          -0.02822940865389242,
          0.23331442504654712,
          -0.7184573666523312,
          0.28763082108987026,
          0.9558194586851085,
          -1.1307744435339449,
          0.5961646009260254,
          0.29319217653563767,
          -1.1388899044232315,
          -0.7596053768042313,
          -0.4300073438081864,
          0.6244910560352827,
          0.8010163299977416,
          -0.8568211136062038,
          -0.7896100550557182,
          -0.9629249914457718,
          -0.43639411199462874,
          0.001555813000358842,
          -0.17681091563059353,
          -0.5321232495662198,
          0.9130347810077699,
          0.14999294028596566,
          0.28951203578929724,
          -0.19401209846592063,
          -1.2577957050234982,
          0.5077320337947091,
          -0.5621704955948704,
          -0.7793490945044861,
          -0.15103745501382332,
          0.2372061381731799,
          -2.670105086556007
         ],
         "yaxis": "y5",
         "type": "scatter"
        },
        {
         "histfunc": "count",
         "histnorm": "",
         "marker": {
          "color": "rgba(55, 128, 191, 1.0)",
          "line": {
           "color": "#4D5663",
           "width": 1.3
          }
         },
         "name": "B",
         "nbinsx": 10,
         "opacity": 0.8,
         "orientation": "v",
         "x": [
          1.7657644339687022,
          0.40152524610963597,
          -0.6490441381987168,
          -0.06690985466349718,
          -1.3836260446239395,
          -1.2828230670369736,
          1.641103044752528,
          0.02950549536361005,
          -2.1318721666960796,
          -1.0425706714763656,
          -0.6881285360861475,
          0.7129372647011848,
          -0.41299957821847816,
          0.764715578317224,
          1.6320799119277163,
          0.6648963455373257,
          1.502186292770685,
          0.5717155903686859,
          -0.08096115022213794,
          1.6688301430783008,
          1.099781650299211,
          0.8677669207363187,
          -0.049835760740421294,
          -0.7937881637743242,
          -1.6797130681383161,
          -0.8745572359960498,
          -0.09444092644838366,
          1.25026970101619,
          -2.0408326288783494,
          0.40818850602513895,
          0.9625915949894845,
          0.19149098777623977,
          -0.5412840448442139,
          -0.9668667448686264,
          0.5369895159344095,
          0.4583338589453875,
          -0.0073253076901911825,
          -0.1696692115072209,
          -0.19499724667941787,
          -0.9760650430864394,
          0.45399599089019094,
          -1.438388683371131,
          -0.030663865329517898,
          -1.5185179787148289,
          -0.27104235629081364,
          1.2370207940253466,
          0.17549520318780185,
          -0.422093343206613,
          0.8053032459521436,
          1.1307406125923145,
          -1.2661415921852701,
          0.6825205226610233,
          -0.6866233951233202,
          -1.7648581385983473,
          -1.1252794765269931,
          -1.4694753261250473,
          0.4183908398921806,
          -0.8084090371479645,
          0.8278362870211943,
          -0.38093806077119186,
          2.1232446144391943,
          -0.7157103234847048,
          1.153458938556494,
          -0.8796592512734447,
          0.644698021217474,
          0.5279713712717733,
          2.418904656614257,
          -1.7570416086898197,
          0.6994030201855514,
          -0.02822940865389242,
          0.23331442504654712,
          -0.7184573666523312,
          0.28763082108987026,
          0.9558194586851085,
          -1.1307744435339449,
          0.5961646009260254,
          0.29319217653563767,
          -1.1388899044232315,
          -0.7596053768042313,
          -0.4300073438081864,
          0.6244910560352827,
          0.8010163299977416,
          -0.8568211136062038,
          -0.7896100550557182,
          -0.9629249914457718,
          -0.43639411199462874,
          0.001555813000358842,
          -0.17681091563059353,
          -0.5321232495662198,
          0.9130347810077699,
          0.14999294028596566,
          0.28951203578929724,
          -0.19401209846592063,
          -1.2577957050234982,
          0.5077320337947091,
          -0.5621704955948704,
          -0.7793490945044861,
          -0.15103745501382332,
          0.2372061381731799,
          -2.670105086556007
         ],
         "xaxis": "x6",
         "yaxis": "y6",
         "type": "histogram"
        },
        {
         "line": {
          "color": "rgba(128, 128, 128, 1.0)",
          "dash": "solid",
          "shape": "linear",
          "width": 1.3
         },
         "marker": {
          "size": 2,
          "symbol": "circle"
         },
         "mode": "markers",
         "name": "B",
         "text": "",
         "x": [
          1.9688512544483658,
          -0.4670637559025583,
          0.21254837098282703,
          -0.6516910209747601,
          0.5283780997882954,
          -1.2545542878657616,
          1.6196262049773122,
          -0.0801112350530872,
          -0.7475681227771004,
          0.24469448167629484,
          1.6293306874438243,
          -0.47887637572466163,
          1.188573074681109,
          -0.7866333001968231,
          0.31334116043312854,
          -0.04375166465709195,
          1.098106114839438,
          -0.6922329600140962,
          -0.08678247966329718,
          0.5916321638693771,
          0.5579565061049254,
          -0.42895243549659184,
          -1.0104381884188447,
          -0.04696434665995022,
          0.5255970409910206,
          -0.7692651839125656,
          -1.1831886025318505,
          -0.6098739873848457,
          0.200073280459851,
          0.35597959402749435,
          -1.0292670748632338,
          -2.7344802203594774,
          -1.9441523009659971,
          0.7664776115849087,
          0.1400537725754366,
          -0.05918159770352548,
          0.4147534739976277,
          -1.2948571424125193,
          0.3112117882655775,
          0.4244149300520934,
          -0.5285500823654952,
          1.1928624338539995,
          -0.5399231120915295,
          -2.107949793256516,
          -0.23417733605514487,
          -0.9429631778221665,
          -0.243928139249279,
          -0.7478968352502519,
          -2.1254677052723223,
          1.7849810984402206,
          -0.4496865266673635,
          0.4747596939931916,
          1.7597641814292622,
          2.2169333470703787,
          0.23712303060237905,
          0.7174429594687959,
          0.37119755461333565,
          0.23200153316338043,
          0.002307375506775622,
          -0.34379379002474475,
          -0.8362242041614424,
          0.693635298620592,
          1.5270303697667875,
          -0.5615117770353253,
          -0.4507910051518651,
          2.51222992189218,
          0.3743225171633774,
          -0.6613744747982596,
          -1.0765990318372107,
          -0.9498751295308068,
          -0.20863538597655457,
          -1.2243447350782934,
          -0.22068181642592458,
          -0.9684415650560166,
          0.125433771321192,
          -0.4480610459423625,
          -0.11039472512050559,
          1.631880303908501,
          -0.24522734417462194,
          -0.46818678858719415,
          -0.022683988280568904,
          0.5677990973495867,
          0.5837045662577841,
          0.04390125624770037,
          0.21052547505528604,
          -1.0780123528381345,
          -0.09850335676066076,
          0.858282999570995,
          -0.3403900020407947,
          0.5806164343650096,
          0.15819115598443267,
          0.6058230389773845,
          -0.46653901272156106,
          0.06218512014908821,
          0.811881185608445,
          0.47530021700031944,
          0.8139384613908115,
          -0.014767467695816593,
          0.10243941126630765,
          0.41556612363657
         ],
         "xaxis": "x7",
         "y": [
          1.7657644339687022,
          0.40152524610963597,
          -0.6490441381987168,
          -0.06690985466349718,
          -1.3836260446239395,
          -1.2828230670369736,
          1.641103044752528,
          0.02950549536361005,
          -2.1318721666960796,
          -1.0425706714763656,
          -0.6881285360861475,
          0.7129372647011848,
          -0.41299957821847816,
          0.764715578317224,
          1.6320799119277163,
          0.6648963455373257,
          1.502186292770685,
          0.5717155903686859,
          -0.08096115022213794,
          1.6688301430783008,
          1.099781650299211,
          0.8677669207363187,
          -0.049835760740421294,
          -0.7937881637743242,
          -1.6797130681383161,
          -0.8745572359960498,
          -0.09444092644838366,
          1.25026970101619,
          -2.0408326288783494,
          0.40818850602513895,
          0.9625915949894845,
          0.19149098777623977,
          -0.5412840448442139,
          -0.9668667448686264,
          0.5369895159344095,
          0.4583338589453875,
          -0.0073253076901911825,
          -0.1696692115072209,
          -0.19499724667941787,
          -0.9760650430864394,
          0.45399599089019094,
          -1.438388683371131,
          -0.030663865329517898,
          -1.5185179787148289,
          -0.27104235629081364,
          1.2370207940253466,
          0.17549520318780185,
          -0.422093343206613,
          0.8053032459521436,
          1.1307406125923145,
          -1.2661415921852701,
          0.6825205226610233,
          -0.6866233951233202,
          -1.7648581385983473,
          -1.1252794765269931,
          -1.4694753261250473,
          0.4183908398921806,
          -0.8084090371479645,
          0.8278362870211943,
          -0.38093806077119186,
          2.1232446144391943,
          -0.7157103234847048,
          1.153458938556494,
          -0.8796592512734447,
          0.644698021217474,
          0.5279713712717733,
          2.418904656614257,
          -1.7570416086898197,
          0.6994030201855514,
          -0.02822940865389242,
          0.23331442504654712,
          -0.7184573666523312,
          0.28763082108987026,
          0.9558194586851085,
          -1.1307744435339449,
          0.5961646009260254,
          0.29319217653563767,
          -1.1388899044232315,
          -0.7596053768042313,
          -0.4300073438081864,
          0.6244910560352827,
          0.8010163299977416,
          -0.8568211136062038,
          -0.7896100550557182,
          -0.9629249914457718,
          -0.43639411199462874,
          0.001555813000358842,
          -0.17681091563059353,
          -0.5321232495662198,
          0.9130347810077699,
          0.14999294028596566,
          0.28951203578929724,
          -0.19401209846592063,
          -1.2577957050234982,
          0.5077320337947091,
          -0.5621704955948704,
          -0.7793490945044861,
          -0.15103745501382332,
          0.2372061381731799,
          -2.670105086556007
         ],
         "yaxis": "y7",
         "type": "scatter"
        },
        {
         "line": {
          "color": "rgba(128, 128, 128, 1.0)",
          "dash": "solid",
          "shape": "linear",
          "width": 1.3
         },
         "marker": {
          "size": 2,
          "symbol": "circle"
         },
         "mode": "markers",
         "name": "B",
         "text": "",
         "x": [
          -1.098285288430023,
          0.14958184404167088,
          1.2461298679584585,
          0.1606633336917265,
          -1.064338879728997,
          0.348695820548867,
          1.262583843295249,
          -0.2652580066333978,
          -2.3186208013452423,
          0.5680034377426191,
          0.8338783569185281,
          -0.09585283640443476,
          -0.46464390932887145,
          -2.2972444978095994,
          2.183909433297379,
          -0.013972018416402835,
          -0.7126676632467435,
          0.22922192628897645,
          1.637605005809018,
          -0.5135535537717857,
          -0.9261790276114082,
          4.174738246936915,
          -2.1935206929409814,
          2.1005090209585315,
          0.888072400808627,
          -0.1984147753111766,
          -0.6060905714943685,
          -1.378091241350273,
          0.10749483146196324,
          -1.0123953977752262,
          0.09650733283282696,
          -1.2731302613177875,
          -0.4085654017370767,
          0.2065593374355364,
          0.5219102699111029,
          0.23253206010127903,
          0.8022753480334646,
          -0.7626616617721025,
          -3.1738291113978567,
          -1.6674810426247788,
          -1.1462399692068828,
          1.0907686369810152,
          -0.5378591090951689,
          0.4648710366387402,
          0.23158383235184826,
          -1.8685527054804556,
          -0.0677166558648092,
          0.9547035877335902,
          0.2736767899790965,
          -0.24510439633762685,
          1.8287532241266817,
          -0.9869759895749884,
          -0.8388354194328247,
          1.5022029095222333,
          0.611225234255143,
          -0.24614466274467448,
          0.43233252564391855,
          -1.0501994517387059,
          -0.8457157432194893,
          0.6255056240299353,
          0.15667749966855699,
          -0.4537303101034507,
          0.18872694836491294,
          1.7568123950413166,
          -0.30484909598802196,
          -0.03899430760080177,
          0.9187544549747515,
          0.5770909461636848,
          0.21081839895770305,
          -0.09285429791354204,
          0.25446224307737236,
          -0.7419890916278661,
          -0.009095920170494667,
          0.25596074176293654,
          -0.025723841005877705,
          0.7031950797014404,
          0.6907715831130319,
          -1.7153935493262509,
          -0.25408157808083154,
          1.1979840271940898,
          2.951036676812776,
          2.1671358251555866,
          -0.6410759273752508,
          0.339982431884618,
          0.11364826400115999,
          -0.7934179783598645,
          -0.8679177248664283,
          -1.4627692201330509,
          -2.5736579742436296,
          -1.3397880382466327,
          0.3491660530251151,
          0.2569914029439571,
          -0.7460985291208861,
          -0.7465245013540494,
          -0.8097864569083478,
          -0.5456804041774364,
          0.5808559193030063,
          -0.536706453502714,
          0.6344186541349182,
          -0.5613980713435446
         ],
         "xaxis": "x8",
         "y": [
          1.7657644339687022,
          0.40152524610963597,
          -0.6490441381987168,
          -0.06690985466349718,
          -1.3836260446239395,
          -1.2828230670369736,
          1.641103044752528,
          0.02950549536361005,
          -2.1318721666960796,
          -1.0425706714763656,
          -0.6881285360861475,
          0.7129372647011848,
          -0.41299957821847816,
          0.764715578317224,
          1.6320799119277163,
          0.6648963455373257,
          1.502186292770685,
          0.5717155903686859,
          -0.08096115022213794,
          1.6688301430783008,
          1.099781650299211,
          0.8677669207363187,
          -0.049835760740421294,
          -0.7937881637743242,
          -1.6797130681383161,
          -0.8745572359960498,
          -0.09444092644838366,
          1.25026970101619,
          -2.0408326288783494,
          0.40818850602513895,
          0.9625915949894845,
          0.19149098777623977,
          -0.5412840448442139,
          -0.9668667448686264,
          0.5369895159344095,
          0.4583338589453875,
          -0.0073253076901911825,
          -0.1696692115072209,
          -0.19499724667941787,
          -0.9760650430864394,
          0.45399599089019094,
          -1.438388683371131,
          -0.030663865329517898,
          -1.5185179787148289,
          -0.27104235629081364,
          1.2370207940253466,
          0.17549520318780185,
          -0.422093343206613,
          0.8053032459521436,
          1.1307406125923145,
          -1.2661415921852701,
          0.6825205226610233,
          -0.6866233951233202,
          -1.7648581385983473,
          -1.1252794765269931,
          -1.4694753261250473,
          0.4183908398921806,
          -0.8084090371479645,
          0.8278362870211943,
          -0.38093806077119186,
          2.1232446144391943,
          -0.7157103234847048,
          1.153458938556494,
          -0.8796592512734447,
          0.644698021217474,
          0.5279713712717733,
          2.418904656614257,
          -1.7570416086898197,
          0.6994030201855514,
          -0.02822940865389242,
          0.23331442504654712,
          -0.7184573666523312,
          0.28763082108987026,
          0.9558194586851085,
          -1.1307744435339449,
          0.5961646009260254,
          0.29319217653563767,
          -1.1388899044232315,
          -0.7596053768042313,
          -0.4300073438081864,
          0.6244910560352827,
          0.8010163299977416,
          -0.8568211136062038,
          -0.7896100550557182,
          -0.9629249914457718,
          -0.43639411199462874,
          0.001555813000358842,
          -0.17681091563059353,
          -0.5321232495662198,
          0.9130347810077699,
          0.14999294028596566,
          0.28951203578929724,
          -0.19401209846592063,
          -1.2577957050234982,
          0.5077320337947091,
          -0.5621704955948704,
          -0.7793490945044861,
          -0.15103745501382332,
          0.2372061381731799,
          -2.670105086556007
         ],
         "yaxis": "y8",
         "type": "scatter"
        },
        {
         "line": {
          "color": "rgba(128, 128, 128, 1.0)",
          "dash": "solid",
          "shape": "linear",
          "width": 1.3
         },
         "marker": {
          "size": 2,
          "symbol": "circle"
         },
         "mode": "markers",
         "name": "C",
         "text": "",
         "x": [
          0.28294306242083767,
          0.7968335417349354,
          0.6029639109107471,
          -1.5650465702073828,
          1.304012469593769,
          -0.7189638548328962,
          -0.8342772051709019,
          0.22903038848035023,
          -0.5555919147143817,
          1.4140028785570107,
          0.94608625189099,
          0.9475932345276445,
          0.23210000912619144,
          -0.2017794680697094,
          -1.4990317076611852,
          -0.7842492198303922,
          -1.3121806301629386,
          -1.5962284515435832,
          0.2657376571207234,
          -0.7577841855650336,
          0.39706212625730386,
          0.6073528236931202,
          0.5706027636271244,
          0.18683438249342266,
          -0.7940508543522877,
          -0.6444701200418613,
          -0.2110685265220033,
          -0.21394613693218092,
          0.4534506074097498,
          2.438321983713647,
          -1.2396923531952755,
          -1.0338891895089748,
          -1.8686878644477178,
          1.4426106451051863,
          1.3829077973469637,
          -0.9318189639747426,
          -1.351996586738685,
          1.5595608061328485,
          -0.04392079133593794,
          -0.3249146952228359,
          -0.3561904783582894,
          -0.23101513575681648,
          0.08360620220848271,
          -0.2775960238257498,
          0.1827848967298999,
          0.526474067214003,
          2.8941246385052737,
          0.3513291582553594,
          1.4747419625145186,
          0.8114972050269655,
          0.3904436172676149,
          0.5863844172483037,
          0.132548984097949,
          -0.008685401418308297,
          1.5120385158724081,
          -0.30670267379703225,
          -1.4923253483617496,
          0.4802337079853066,
          -0.16507077011425983,
          -2.0560055890795237,
          0.10582411220975962,
          2.060496097844001,
          0.8634647915354526,
          -0.3039246066953029,
          0.1229316646230268,
          -0.038431626183908746,
          -1.5625482329206086,
          0.8026387183329571,
          -1.0443326064301137,
          -1.7441282157838378,
          0.4085613297272926,
          1.1314362749851863,
          -0.9655028773082579,
          0.6140978821152564,
          -0.6593952533441673,
          -0.34343935659321273,
          0.4034289175552191,
          1.104816451182827,
          0.3878510482013112,
          -0.743700172880391,
          -0.42968150080935014,
          -0.9391664628727731,
          -0.5884295473521228,
          -0.7177875423794414,
          2.1228794383459997,
          -0.4975295949320428,
          1.5496946784360939,
          -0.1603496989445274,
          -1.567367392800217,
          -0.1371889550701248,
          1.1782392321059363,
          -0.22356969222959078,
          -0.5950862468932329,
          0.7425841600024924,
          0.12691537384773105,
          -2.0104992712368546,
          0.9657266887418268,
          0.43111491937499125,
          -1.1636538720055476,
          5.153381097441173E-4
         ],
         "xaxis": "x9",
         "y": [
          1.9688512544483658,
          -0.4670637559025583,
          0.21254837098282703,
          -0.6516910209747601,
          0.5283780997882954,
          -1.2545542878657616,
          1.6196262049773122,
          -0.0801112350530872,
          -0.7475681227771004,
          0.24469448167629484,
          1.6293306874438243,
          -0.47887637572466163,
          1.188573074681109,
          -0.7866333001968231,
          0.31334116043312854,
          -0.04375166465709195,
          1.098106114839438,
          -0.6922329600140962,
          -0.08678247966329718,
          0.5916321638693771,
          0.5579565061049254,
          -0.42895243549659184,
          -1.0104381884188447,
          -0.04696434665995022,
          0.5255970409910206,
          -0.7692651839125656,
          -1.1831886025318505,
          -0.6098739873848457,
          0.200073280459851,
          0.35597959402749435,
          -1.0292670748632338,
          -2.7344802203594774,
          -1.9441523009659971,
          0.7664776115849087,
          0.1400537725754366,
          -0.05918159770352548,
          0.4147534739976277,
          -1.2948571424125193,
          0.3112117882655775,
          0.4244149300520934,
          -0.5285500823654952,
          1.1928624338539995,
          -0.5399231120915295,
          -2.107949793256516,
          -0.23417733605514487,
          -0.9429631778221665,
          -0.243928139249279,
          -0.7478968352502519,
          -2.1254677052723223,
          1.7849810984402206,
          -0.4496865266673635,
          0.4747596939931916,
          1.7597641814292622,
          2.2169333470703787,
          0.23712303060237905,
          0.7174429594687959,
          0.37119755461333565,
          0.23200153316338043,
          0.002307375506775622,
          -0.34379379002474475,
          -0.8362242041614424,
          0.693635298620592,
          1.5270303697667875,
          -0.5615117770353253,
          -0.4507910051518651,
          2.51222992189218,
          0.3743225171633774,
          -0.6613744747982596,
          -1.0765990318372107,
          -0.9498751295308068,
          -0.20863538597655457,
          -1.2243447350782934,
          -0.22068181642592458,
          -0.9684415650560166,
          0.125433771321192,
          -0.4480610459423625,
          -0.11039472512050559,
          1.631880303908501,
          -0.24522734417462194,
          -0.46818678858719415,
          -0.022683988280568904,
          0.5677990973495867,
          0.5837045662577841,
          0.04390125624770037,
          0.21052547505528604,
          -1.0780123528381345,
          -0.09850335676066076,
          0.858282999570995,
          -0.3403900020407947,
          0.5806164343650096,
          0.15819115598443267,
          0.6058230389773845,
          -0.46653901272156106,
          0.06218512014908821,
          0.811881185608445,
          0.47530021700031944,
          0.8139384613908115,
          -0.014767467695816593,
          0.10243941126630765,
          0.41556612363657
         ],
         "yaxis": "y9",
         "type": "scatter"
        },
        {
         "line": {
          "color": "rgba(128, 128, 128, 1.0)",
          "dash": "solid",
          "shape": "linear",
          "width": 1.3
         },
         "marker": {
          "size": 2,
          "symbol": "circle"
         },
         "mode": "markers",
         "name": "C",
         "text": "",
         "x": [
          1.7657644339687022,
          0.40152524610963597,
          -0.6490441381987168,
          -0.06690985466349718,
          -1.3836260446239395,
          -1.2828230670369736,
          1.641103044752528,
          0.02950549536361005,
          -2.1318721666960796,
          -1.0425706714763656,
          -0.6881285360861475,
          0.7129372647011848,
          -0.41299957821847816,
          0.764715578317224,
          1.6320799119277163,
          0.6648963455373257,
          1.502186292770685,
          0.5717155903686859,
          -0.08096115022213794,
          1.6688301430783008,
          1.099781650299211,
          0.8677669207363187,
          -0.049835760740421294,
          -0.7937881637743242,
          -1.6797130681383161,
          -0.8745572359960498,
          -0.09444092644838366,
          1.25026970101619,
          -2.0408326288783494,
          0.40818850602513895,
          0.9625915949894845,
          0.19149098777623977,
          -0.5412840448442139,
          -0.9668667448686264,
          0.5369895159344095,
          0.4583338589453875,
          -0.0073253076901911825,
          -0.1696692115072209,
          -0.19499724667941787,
          -0.9760650430864394,
          0.45399599089019094,
          -1.438388683371131,
          -0.030663865329517898,
          -1.5185179787148289,
          -0.27104235629081364,
          1.2370207940253466,
          0.17549520318780185,
          -0.422093343206613,
          0.8053032459521436,
          1.1307406125923145,
          -1.2661415921852701,
          0.6825205226610233,
          -0.6866233951233202,
          -1.7648581385983473,
          -1.1252794765269931,
          -1.4694753261250473,
          0.4183908398921806,
          -0.8084090371479645,
          0.8278362870211943,
          -0.38093806077119186,
          2.1232446144391943,
          -0.7157103234847048,
          1.153458938556494,
          -0.8796592512734447,
          0.644698021217474,
          0.5279713712717733,
          2.418904656614257,
          -1.7570416086898197,
          0.6994030201855514,
          -0.02822940865389242,
          0.23331442504654712,
          -0.7184573666523312,
          0.28763082108987026,
          0.9558194586851085,
          -1.1307744435339449,
          0.5961646009260254,
          0.29319217653563767,
          -1.1388899044232315,
          -0.7596053768042313,
          -0.4300073438081864,
          0.6244910560352827,
          0.8010163299977416,
          -0.8568211136062038,
          -0.7896100550557182,
          -0.9629249914457718,
          -0.43639411199462874,
          0.001555813000358842,
          -0.17681091563059353,
          -0.5321232495662198,
          0.9130347810077699,
          0.14999294028596566,
          0.28951203578929724,
          -0.19401209846592063,
          -1.2577957050234982,
          0.5077320337947091,
          -0.5621704955948704,
          -0.7793490945044861,
          -0.15103745501382332,
          0.2372061381731799,
          -2.670105086556007
         ],
         "xaxis": "x10",
         "y": [
          1.9688512544483658,
          -0.4670637559025583,
          0.21254837098282703,
          -0.6516910209747601,
          0.5283780997882954,
          -1.2545542878657616,
          1.6196262049773122,
          -0.0801112350530872,
          -0.7475681227771004,
          0.24469448167629484,
          1.6293306874438243,
          -0.47887637572466163,
          1.188573074681109,
          -0.7866333001968231,
          0.31334116043312854,
          -0.04375166465709195,
          1.098106114839438,
          -0.6922329600140962,
          -0.08678247966329718,
          0.5916321638693771,
          0.5579565061049254,
          -0.42895243549659184,
          -1.0104381884188447,
          -0.04696434665995022,
          0.5255970409910206,
          -0.7692651839125656,
          -1.1831886025318505,
          -0.6098739873848457,
          0.200073280459851,
          0.35597959402749435,
          -1.0292670748632338,
          -2.7344802203594774,
          -1.9441523009659971,
          0.7664776115849087,
          0.1400537725754366,
          -0.05918159770352548,
          0.4147534739976277,
          -1.2948571424125193,
          0.3112117882655775,
          0.4244149300520934,
          -0.5285500823654952,
          1.1928624338539995,
          -0.5399231120915295,
          -2.107949793256516,
          -0.23417733605514487,
          -0.9429631778221665,
          -0.243928139249279,
          -0.7478968352502519,
          -2.1254677052723223,
          1.7849810984402206,
          -0.4496865266673635,
          0.4747596939931916,
          1.7597641814292622,
          2.2169333470703787,
          0.23712303060237905,
          0.7174429594687959,
          0.37119755461333565,
          0.23200153316338043,
          0.002307375506775622,
          -0.34379379002474475,
          -0.8362242041614424,
          0.693635298620592,
          1.5270303697667875,
          -0.5615117770353253,
          -0.4507910051518651,
          2.51222992189218,
          0.3743225171633774,
          -0.6613744747982596,
          -1.0765990318372107,
          -0.9498751295308068,
          -0.20863538597655457,
          -1.2243447350782934,
          -0.22068181642592458,
          -0.9684415650560166,
          0.125433771321192,
          -0.4480610459423625,
          -0.11039472512050559,
          1.631880303908501,
          -0.24522734417462194,
          -0.46818678858719415,
          -0.022683988280568904,
          0.5677990973495867,
          0.5837045662577841,
          0.04390125624770037,
          0.21052547505528604,
          -1.0780123528381345,
          -0.09850335676066076,
          0.858282999570995,
          -0.3403900020407947,
          0.5806164343650096,
          0.15819115598443267,
          0.6058230389773845,
          -0.46653901272156106,
          0.06218512014908821,
          0.811881185608445,
          0.47530021700031944,
          0.8139384613908115,
          -0.014767467695816593,
          0.10243941126630765,
          0.41556612363657
         ],
         "yaxis": "y10",
         "type": "scatter"
        },
        {
         "histfunc": "count",
         "histnorm": "",
         "marker": {
          "color": "rgba(50, 171, 96, 1.0)",
          "line": {
           "color": "#4D5663",
           "width": 1.3
          }
         },
         "name": "C",
         "nbinsx": 10,
         "opacity": 0.8,
         "orientation": "v",
         "x": [
          1.9688512544483658,
          -0.4670637559025583,
          0.21254837098282703,
          -0.6516910209747601,
          0.5283780997882954,
          -1.2545542878657616,
          1.6196262049773122,
          -0.0801112350530872,
          -0.7475681227771004,
          0.24469448167629484,
          1.6293306874438243,
          -0.47887637572466163,
          1.188573074681109,
          -0.7866333001968231,
          0.31334116043312854,
          -0.04375166465709195,
          1.098106114839438,
          -0.6922329600140962,
          -0.08678247966329718,
          0.5916321638693771,
          0.5579565061049254,
          -0.42895243549659184,
          -1.0104381884188447,
          -0.04696434665995022,
          0.5255970409910206,
          -0.7692651839125656,
          -1.1831886025318505,
          -0.6098739873848457,
          0.200073280459851,
          0.35597959402749435,
          -1.0292670748632338,
          -2.7344802203594774,
          -1.9441523009659971,
          0.7664776115849087,
          0.1400537725754366,
          -0.05918159770352548,
          0.4147534739976277,
          -1.2948571424125193,
          0.3112117882655775,
          0.4244149300520934,
          -0.5285500823654952,
          1.1928624338539995,
          -0.5399231120915295,
          -2.107949793256516,
          -0.23417733605514487,
          -0.9429631778221665,
          -0.243928139249279,
          -0.7478968352502519,
          -2.1254677052723223,
          1.7849810984402206,
          -0.4496865266673635,
          0.4747596939931916,
          1.7597641814292622,
          2.2169333470703787,
          0.23712303060237905,
          0.7174429594687959,
          0.37119755461333565,
          0.23200153316338043,
          0.002307375506775622,
          -0.34379379002474475,
          -0.8362242041614424,
          0.693635298620592,
          1.5270303697667875,
          -0.5615117770353253,
          -0.4507910051518651,
          2.51222992189218,
          0.3743225171633774,
          -0.6613744747982596,
          -1.0765990318372107,
          -0.9498751295308068,
          -0.20863538597655457,
          -1.2243447350782934,
          -0.22068181642592458,
          -0.9684415650560166,
          0.125433771321192,
          -0.4480610459423625,
          -0.11039472512050559,
          1.631880303908501,
          -0.24522734417462194,
          -0.46818678858719415,
          -0.022683988280568904,
          0.5677990973495867,
          0.5837045662577841,
          0.04390125624770037,
          0.21052547505528604,
          -1.0780123528381345,
          -0.09850335676066076,
          0.858282999570995,
          -0.3403900020407947,
          0.5806164343650096,
          0.15819115598443267,
          0.6058230389773845,
          -0.46653901272156106,
          0.06218512014908821,
          0.811881185608445,
          0.47530021700031944,
          0.8139384613908115,
          -0.014767467695816593,
          0.10243941126630765,
          0.41556612363657
         ],
         "xaxis": "x11",
         "yaxis": "y11",
         "type": "histogram"
        },
        {
         "line": {
          "color": "rgba(128, 128, 128, 1.0)",
          "dash": "solid",
          "shape": "linear",
          "width": 1.3
         },
         "marker": {
          "size": 2,
          "symbol": "circle"
         },
         "mode": "markers",
         "name": "C",
         "text": "",
         "x": [
          -1.098285288430023,
          0.14958184404167088,
          1.2461298679584585,
          0.1606633336917265,
          -1.064338879728997,
          0.348695820548867,
          1.262583843295249,
          -0.2652580066333978,
          -2.3186208013452423,
          0.5680034377426191,
          0.8338783569185281,
          -0.09585283640443476,
          -0.46464390932887145,
          -2.2972444978095994,
          2.183909433297379,
          -0.013972018416402835,
          -0.7126676632467435,
          0.22922192628897645,
          1.637605005809018,
          -0.5135535537717857,
          -0.9261790276114082,
          4.174738246936915,
          -2.1935206929409814,
          2.1005090209585315,
          0.888072400808627,
          -0.1984147753111766,
          -0.6060905714943685,
          -1.378091241350273,
          0.10749483146196324,
          -1.0123953977752262,
          0.09650733283282696,
          -1.2731302613177875,
          -0.4085654017370767,
          0.2065593374355364,
          0.5219102699111029,
          0.23253206010127903,
          0.8022753480334646,
          -0.7626616617721025,
          -3.1738291113978567,
          -1.6674810426247788,
          -1.1462399692068828,
          1.0907686369810152,
          -0.5378591090951689,
          0.4648710366387402,
          0.23158383235184826,
          -1.8685527054804556,
          -0.0677166558648092,
          0.9547035877335902,
          0.2736767899790965,
          -0.24510439633762685,
          1.8287532241266817,
          -0.9869759895749884,
          -0.8388354194328247,
          1.5022029095222333,
          0.611225234255143,
          -0.24614466274467448,
          0.43233252564391855,
          -1.0501994517387059,
          -0.8457157432194893,
          0.6255056240299353,
          0.15667749966855699,
          -0.4537303101034507,
          0.18872694836491294,
          1.7568123950413166,
          -0.30484909598802196,
          -0.03899430760080177,
          0.9187544549747515,
          0.5770909461636848,
          0.21081839895770305,
          -0.09285429791354204,
          0.25446224307737236,
          -0.7419890916278661,
          -0.009095920170494667,
          0.25596074176293654,
          -0.025723841005877705,
          0.7031950797014404,
          0.6907715831130319,
          -1.7153935493262509,
          -0.25408157808083154,
          1.1979840271940898,
          2.951036676812776,
          2.1671358251555866,
          -0.6410759273752508,
          0.339982431884618,
          0.11364826400115999,
          -0.7934179783598645,
          -0.8679177248664283,
          -1.4627692201330509,
          -2.5736579742436296,
          -1.3397880382466327,
          0.3491660530251151,
          0.2569914029439571,
          -0.7460985291208861,
          -0.7465245013540494,
          -0.8097864569083478,
          -0.5456804041774364,
          0.5808559193030063,
          -0.536706453502714,
          0.6344186541349182,
          -0.5613980713435446
         ],
         "xaxis": "x12",
         "y": [
          1.9688512544483658,
          -0.4670637559025583,
          0.21254837098282703,
          -0.6516910209747601,
          0.5283780997882954,
          -1.2545542878657616,
          1.6196262049773122,
          -0.0801112350530872,
          -0.7475681227771004,
          0.24469448167629484,
          1.6293306874438243,
          -0.47887637572466163,
          1.188573074681109,
          -0.7866333001968231,
          0.31334116043312854,
          -0.04375166465709195,
          1.098106114839438,
          -0.6922329600140962,
          -0.08678247966329718,
          0.5916321638693771,
          0.5579565061049254,
          -0.42895243549659184,
          -1.0104381884188447,
          -0.04696434665995022,
          0.5255970409910206,
          -0.7692651839125656,
          -1.1831886025318505,
          -0.6098739873848457,
          0.200073280459851,
          0.35597959402749435,
          -1.0292670748632338,
          -2.7344802203594774,
          -1.9441523009659971,
          0.7664776115849087,
          0.1400537725754366,
          -0.05918159770352548,
          0.4147534739976277,
          -1.2948571424125193,
          0.3112117882655775,
          0.4244149300520934,
          -0.5285500823654952,
          1.1928624338539995,
          -0.5399231120915295,
          -2.107949793256516,
          -0.23417733605514487,
          -0.9429631778221665,
          -0.243928139249279,
          -0.7478968352502519,
          -2.1254677052723223,
          1.7849810984402206,
          -0.4496865266673635,
          0.4747596939931916,
          1.7597641814292622,
          2.2169333470703787,
          0.23712303060237905,
          0.7174429594687959,
          0.37119755461333565,
          0.23200153316338043,
          0.002307375506775622,
          -0.34379379002474475,
          -0.8362242041614424,
          0.693635298620592,
          1.5270303697667875,
          -0.5615117770353253,
          -0.4507910051518651,
          2.51222992189218,
          0.3743225171633774,
          -0.6613744747982596,
          -1.0765990318372107,
          -0.9498751295308068,
          -0.20863538597655457,
          -1.2243447350782934,
          -0.22068181642592458,
          -0.9684415650560166,
          0.125433771321192,
          -0.4480610459423625,
          -0.11039472512050559,
          1.631880303908501,
          -0.24522734417462194,
          -0.46818678858719415,
          -0.022683988280568904,
          0.5677990973495867,
          0.5837045662577841,
          0.04390125624770037,
          0.21052547505528604,
          -1.0780123528381345,
          -0.09850335676066076,
          0.858282999570995,
          -0.3403900020407947,
          0.5806164343650096,
          0.15819115598443267,
          0.6058230389773845,
          -0.46653901272156106,
          0.06218512014908821,
          0.811881185608445,
          0.47530021700031944,
          0.8139384613908115,
          -0.014767467695816593,
          0.10243941126630765,
          0.41556612363657
         ],
         "yaxis": "y12",
         "type": "scatter"
        },
        {
         "line": {
          "color": "rgba(128, 128, 128, 1.0)",
          "dash": "solid",
          "shape": "linear",
          "width": 1.3
         },
         "marker": {
          "size": 2,
          "symbol": "circle"
         },
         "mode": "markers",
         "name": "D",
         "text": "",
         "x": [
          0.28294306242083767,
          0.7968335417349354,
          0.6029639109107471,
          -1.5650465702073828,
          1.304012469593769,
          -0.7189638548328962,
          -0.8342772051709019,
          0.22903038848035023,
          -0.5555919147143817,
          1.4140028785570107,
          0.94608625189099,
          0.9475932345276445,
          0.23210000912619144,
          -0.2017794680697094,
          -1.4990317076611852,
          -0.7842492198303922,
          -1.3121806301629386,
          -1.5962284515435832,
          0.2657376571207234,
          -0.7577841855650336,
          0.39706212625730386,
          0.6073528236931202,
          0.5706027636271244,
          0.18683438249342266,
          -0.7940508543522877,
          -0.6444701200418613,
          -0.2110685265220033,
          -0.21394613693218092,
          0.4534506074097498,
          2.438321983713647,
          -1.2396923531952755,
          -1.0338891895089748,
          -1.8686878644477178,
          1.4426106451051863,
          1.3829077973469637,
          -0.9318189639747426,
          -1.351996586738685,
          1.5595608061328485,
          -0.04392079133593794,
          -0.3249146952228359,
          -0.3561904783582894,
          -0.23101513575681648,
          0.08360620220848271,
          -0.2775960238257498,
          0.1827848967298999,
          0.526474067214003,
          2.8941246385052737,
          0.3513291582553594,
          1.4747419625145186,
          0.8114972050269655,
          0.3904436172676149,
          0.5863844172483037,
          0.132548984097949,
          -0.008685401418308297,
          1.5120385158724081,
          -0.30670267379703225,
          -1.4923253483617496,
          0.4802337079853066,
          -0.16507077011425983,
          -2.0560055890795237,
          0.10582411220975962,
          2.060496097844001,
          0.8634647915354526,
          -0.3039246066953029,
          0.1229316646230268,
          -0.038431626183908746,
          -1.5625482329206086,
          0.8026387183329571,
          -1.0443326064301137,
          -1.7441282157838378,
          0.4085613297272926,
          1.1314362749851863,
          -0.9655028773082579,
          0.6140978821152564,
          -0.6593952533441673,
          -0.34343935659321273,
          0.4034289175552191,
          1.104816451182827,
          0.3878510482013112,
          -0.743700172880391,
          -0.42968150080935014,
          -0.9391664628727731,
          -0.5884295473521228,
          -0.7177875423794414,
          2.1228794383459997,
          -0.4975295949320428,
          1.5496946784360939,
          -0.1603496989445274,
          -1.567367392800217,
          -0.1371889550701248,
          1.1782392321059363,
          -0.22356969222959078,
          -0.5950862468932329,
          0.7425841600024924,
          0.12691537384773105,
          -2.0104992712368546,
          0.9657266887418268,
          0.43111491937499125,
          -1.1636538720055476,
          5.153381097441173E-4
         ],
         "xaxis": "x13",
         "y": [
          -1.098285288430023,
          0.14958184404167088,
          1.2461298679584585,
          0.1606633336917265,
          -1.064338879728997,
          0.348695820548867,
          1.262583843295249,
          -0.2652580066333978,
          -2.3186208013452423,
          0.5680034377426191,
          0.8338783569185281,
          -0.09585283640443476,
          -0.46464390932887145,
          -2.2972444978095994,
          2.183909433297379,
          -0.013972018416402835,
          -0.7126676632467435,
          0.22922192628897645,
          1.637605005809018,
          -0.5135535537717857,
          -0.9261790276114082,
          4.174738246936915,
          -2.1935206929409814,
          2.1005090209585315,
          0.888072400808627,
          -0.1984147753111766,
          -0.6060905714943685,
          -1.378091241350273,
          0.10749483146196324,
          -1.0123953977752262,
          0.09650733283282696,
          -1.2731302613177875,
          -0.4085654017370767,
          0.2065593374355364,
          0.5219102699111029,
          0.23253206010127903,
          0.8022753480334646,
          -0.7626616617721025,
          -3.1738291113978567,
          -1.6674810426247788,
          -1.1462399692068828,
          1.0907686369810152,
          -0.5378591090951689,
          0.4648710366387402,
          0.23158383235184826,
          -1.8685527054804556,
          -0.0677166558648092,
          0.9547035877335902,
          0.2736767899790965,
          -0.24510439633762685,
          1.8287532241266817,
          -0.9869759895749884,
          -0.8388354194328247,
          1.5022029095222333,
          0.611225234255143,
          -0.24614466274467448,
          0.43233252564391855,
          -1.0501994517387059,
          -0.8457157432194893,
          0.6255056240299353,
          0.15667749966855699,
          -0.4537303101034507,
          0.18872694836491294,
          1.7568123950413166,
          -0.30484909598802196,
          -0.03899430760080177,
          0.9187544549747515,
          0.5770909461636848,
          0.21081839895770305,
          -0.09285429791354204,
          0.25446224307737236,
          -0.7419890916278661,
          -0.009095920170494667,
          0.25596074176293654,
          -0.025723841005877705,
          0.7031950797014404,
          0.6907715831130319,
          -1.7153935493262509,
          -0.25408157808083154,
          1.1979840271940898,
          2.951036676812776,
          2.1671358251555866,
          -0.6410759273752508,
          0.339982431884618,
          0.11364826400115999,
          -0.7934179783598645,
          -0.8679177248664283,
          -1.4627692201330509,
          -2.5736579742436296,
          -1.3397880382466327,
          0.3491660530251151,
          0.2569914029439571,
          -0.7460985291208861,
          -0.7465245013540494,
          -0.8097864569083478,
          -0.5456804041774364,
          0.5808559193030063,
          -0.536706453502714,
          0.6344186541349182,
          -0.5613980713435446
         ],
         "yaxis": "y13",
         "type": "scatter"
        },
        {
         "line": {
          "color": "rgba(128, 128, 128, 1.0)",
          "dash": "solid",
          "shape": "linear",
          "width": 1.3
         },
         "marker": {
          "size": 2,
          "symbol": "circle"
         },
         "mode": "markers",
         "name": "D",
         "text": "",
         "x": [
          1.7657644339687022,
          0.40152524610963597,
          -0.6490441381987168,
          -0.06690985466349718,
          -1.3836260446239395,
          -1.2828230670369736,
          1.641103044752528,
          0.02950549536361005,
          -2.1318721666960796,
          -1.0425706714763656,
          -0.6881285360861475,
          0.7129372647011848,
          -0.41299957821847816,
          0.764715578317224,
          1.6320799119277163,
          0.6648963455373257,
          1.502186292770685,
          0.5717155903686859,
          -0.08096115022213794,
          1.6688301430783008,
          1.099781650299211,
          0.8677669207363187,
          -0.049835760740421294,
          -0.7937881637743242,
          -1.6797130681383161,
          -0.8745572359960498,
          -0.09444092644838366,
          1.25026970101619,
          -2.0408326288783494,
          0.40818850602513895,
          0.9625915949894845,
          0.19149098777623977,
          -0.5412840448442139,
          -0.9668667448686264,
          0.5369895159344095,
          0.4583338589453875,
          -0.0073253076901911825,
          -0.1696692115072209,
          -0.19499724667941787,
          -0.9760650430864394,
          0.45399599089019094,
          -1.438388683371131,
          -0.030663865329517898,
          -1.5185179787148289,
          -0.27104235629081364,
          1.2370207940253466,
          0.17549520318780185,
          -0.422093343206613,
          0.8053032459521436,
          1.1307406125923145,
          -1.2661415921852701,
          0.6825205226610233,
          -0.6866233951233202,
          -1.7648581385983473,
          -1.1252794765269931,
          -1.4694753261250473,
          0.4183908398921806,
          -0.8084090371479645,
          0.8278362870211943,
          -0.38093806077119186,
          2.1232446144391943,
          -0.7157103234847048,
          1.153458938556494,
          -0.8796592512734447,
          0.644698021217474,
          0.5279713712717733,
          2.418904656614257,
          -1.7570416086898197,
          0.6994030201855514,
          -0.02822940865389242,
          0.23331442504654712,
          -0.7184573666523312,
          0.28763082108987026,
          0.9558194586851085,
          -1.1307744435339449,
          0.5961646009260254,
          0.29319217653563767,
          -1.1388899044232315,
          -0.7596053768042313,
          -0.4300073438081864,
          0.6244910560352827,
          0.8010163299977416,
          -0.8568211136062038,
          -0.7896100550557182,
          -0.9629249914457718,
          -0.43639411199462874,
          0.001555813000358842,
          -0.17681091563059353,
          -0.5321232495662198,
          0.9130347810077699,
          0.14999294028596566,
          0.28951203578929724,
          -0.19401209846592063,
          -1.2577957050234982,
          0.5077320337947091,
          -0.5621704955948704,
          -0.7793490945044861,
          -0.15103745501382332,
          0.2372061381731799,
          -2.670105086556007
         ],
         "xaxis": "x14",
         "y": [
          -1.098285288430023,
          0.14958184404167088,
          1.2461298679584585,
          0.1606633336917265,
          -1.064338879728997,
          0.348695820548867,
          1.262583843295249,
          -0.2652580066333978,
          -2.3186208013452423,
          0.5680034377426191,
          0.8338783569185281,
          -0.09585283640443476,
          -0.46464390932887145,
          -2.2972444978095994,
          2.183909433297379,
          -0.013972018416402835,
          -0.7126676632467435,
          0.22922192628897645,
          1.637605005809018,
          -0.5135535537717857,
          -0.9261790276114082,
          4.174738246936915,
          -2.1935206929409814,
          2.1005090209585315,
          0.888072400808627,
          -0.1984147753111766,
          -0.6060905714943685,
          -1.378091241350273,
          0.10749483146196324,
          -1.0123953977752262,
          0.09650733283282696,
          -1.2731302613177875,
          -0.4085654017370767,
          0.2065593374355364,
          0.5219102699111029,
          0.23253206010127903,
          0.8022753480334646,
          -0.7626616617721025,
          -3.1738291113978567,
          -1.6674810426247788,
          -1.1462399692068828,
          1.0907686369810152,
          -0.5378591090951689,
          0.4648710366387402,
          0.23158383235184826,
          -1.8685527054804556,
          -0.0677166558648092,
          0.9547035877335902,
          0.2736767899790965,
          -0.24510439633762685,
          1.8287532241266817,
          -0.9869759895749884,
          -0.8388354194328247,
          1.5022029095222333,
          0.611225234255143,
          -0.24614466274467448,
          0.43233252564391855,
          -1.0501994517387059,
          -0.8457157432194893,
          0.6255056240299353,
          0.15667749966855699,
          -0.4537303101034507,
          0.18872694836491294,
          1.7568123950413166,
          -0.30484909598802196,
          -0.03899430760080177,
          0.9187544549747515,
          0.5770909461636848,
          0.21081839895770305,
          -0.09285429791354204,
          0.25446224307737236,
          -0.7419890916278661,
          -0.009095920170494667,
          0.25596074176293654,
          -0.025723841005877705,
          0.7031950797014404,
          0.6907715831130319,
          -1.7153935493262509,
          -0.25408157808083154,
          1.1979840271940898,
          2.951036676812776,
          2.1671358251555866,
          -0.6410759273752508,
          0.339982431884618,
          0.11364826400115999,
          -0.7934179783598645,
          -0.8679177248664283,
          -1.4627692201330509,
          -2.5736579742436296,
          -1.3397880382466327,
          0.3491660530251151,
          0.2569914029439571,
          -0.7460985291208861,
          -0.7465245013540494,
          -0.8097864569083478,
          -0.5456804041774364,
          0.5808559193030063,
          -0.536706453502714,
          0.6344186541349182,
          -0.5613980713435446
         ],
         "yaxis": "y14",
         "type": "scatter"
        },
        {
         "line": {
          "color": "rgba(128, 128, 128, 1.0)",
          "dash": "solid",
          "shape": "linear",
          "width": 1.3
         },
         "marker": {
          "size": 2,
          "symbol": "circle"
         },
         "mode": "markers",
         "name": "D",
         "text": "",
         "x": [
          1.9688512544483658,
          -0.4670637559025583,
          0.21254837098282703,
          -0.6516910209747601,
          0.5283780997882954,
          -1.2545542878657616,
          1.6196262049773122,
          -0.0801112350530872,
          -0.7475681227771004,
          0.24469448167629484,
          1.6293306874438243,
          -0.47887637572466163,
          1.188573074681109,
          -0.7866333001968231,
          0.31334116043312854,
          -0.04375166465709195,
          1.098106114839438,
          -0.6922329600140962,
          -0.08678247966329718,
          0.5916321638693771,
          0.5579565061049254,
          -0.42895243549659184,
          -1.0104381884188447,
          -0.04696434665995022,
          0.5255970409910206,
          -0.7692651839125656,
          -1.1831886025318505,
          -0.6098739873848457,
          0.200073280459851,
          0.35597959402749435,
          -1.0292670748632338,
          -2.7344802203594774,
          -1.9441523009659971,
          0.7664776115849087,
          0.1400537725754366,
          -0.05918159770352548,
          0.4147534739976277,
          -1.2948571424125193,
          0.3112117882655775,
          0.4244149300520934,
          -0.5285500823654952,
          1.1928624338539995,
          -0.5399231120915295,
          -2.107949793256516,
          -0.23417733605514487,
          -0.9429631778221665,
          -0.243928139249279,
          -0.7478968352502519,
          -2.1254677052723223,
          1.7849810984402206,
          -0.4496865266673635,
          0.4747596939931916,
          1.7597641814292622,
          2.2169333470703787,
          0.23712303060237905,
          0.7174429594687959,
          0.37119755461333565,
          0.23200153316338043,
          0.002307375506775622,
          -0.34379379002474475,
          -0.8362242041614424,
          0.693635298620592,
          1.5270303697667875,
          -0.5615117770353253,
          -0.4507910051518651,
          2.51222992189218,
          0.3743225171633774,
          -0.6613744747982596,
          -1.0765990318372107,
          -0.9498751295308068,
          -0.20863538597655457,
          -1.2243447350782934,
          -0.22068181642592458,
          -0.9684415650560166,
          0.125433771321192,
          -0.4480610459423625,
          -0.11039472512050559,
          1.631880303908501,
          -0.24522734417462194,
          -0.46818678858719415,
          -0.022683988280568904,
          0.5677990973495867,
          0.5837045662577841,
          0.04390125624770037,
          0.21052547505528604,
          -1.0780123528381345,
          -0.09850335676066076,
          0.858282999570995,
          -0.3403900020407947,
          0.5806164343650096,
          0.15819115598443267,
          0.6058230389773845,
          -0.46653901272156106,
          0.06218512014908821,
          0.811881185608445,
          0.47530021700031944,
          0.8139384613908115,
          -0.014767467695816593,
          0.10243941126630765,
          0.41556612363657
         ],
         "xaxis": "x15",
         "y": [
          -1.098285288430023,
          0.14958184404167088,
          1.2461298679584585,
          0.1606633336917265,
          -1.064338879728997,
          0.348695820548867,
          1.262583843295249,
          -0.2652580066333978,
          -2.3186208013452423,
          0.5680034377426191,
          0.8338783569185281,
          -0.09585283640443476,
          -0.46464390932887145,
          -2.2972444978095994,
          2.183909433297379,
          -0.013972018416402835,
          -0.7126676632467435,
          0.22922192628897645,
          1.637605005809018,
          -0.5135535537717857,
          -0.9261790276114082,
          4.174738246936915,
          -2.1935206929409814,
          2.1005090209585315,
          0.888072400808627,
          -0.1984147753111766,
          -0.6060905714943685,
          -1.378091241350273,
          0.10749483146196324,
          -1.0123953977752262,
          0.09650733283282696,
          -1.2731302613177875,
          -0.4085654017370767,
          0.2065593374355364,
          0.5219102699111029,
          0.23253206010127903,
          0.8022753480334646,
          -0.7626616617721025,
          -3.1738291113978567,
          -1.6674810426247788,
          -1.1462399692068828,
          1.0907686369810152,
          -0.5378591090951689,
          0.4648710366387402,
          0.23158383235184826,
          -1.8685527054804556,
          -0.0677166558648092,
          0.9547035877335902,
          0.2736767899790965,
          -0.24510439633762685,
          1.8287532241266817,
          -0.9869759895749884,
          -0.8388354194328247,
          1.5022029095222333,
          0.611225234255143,
          -0.24614466274467448,
          0.43233252564391855,
          -1.0501994517387059,
          -0.8457157432194893,
          0.6255056240299353,
          0.15667749966855699,
          -0.4537303101034507,
          0.18872694836491294,
          1.7568123950413166,
          -0.30484909598802196,
          -0.03899430760080177,
          0.9187544549747515,
          0.5770909461636848,
          0.21081839895770305,
          -0.09285429791354204,
          0.25446224307737236,
          -0.7419890916278661,
          -0.009095920170494667,
          0.25596074176293654,
          -0.025723841005877705,
          0.7031950797014404,
          0.6907715831130319,
          -1.7153935493262509,
          -0.25408157808083154,
          1.1979840271940898,
          2.951036676812776,
          2.1671358251555866,
          -0.6410759273752508,
          0.339982431884618,
          0.11364826400115999,
          -0.7934179783598645,
          -0.8679177248664283,
          -1.4627692201330509,
          -2.5736579742436296,
          -1.3397880382466327,
          0.3491660530251151,
          0.2569914029439571,
          -0.7460985291208861,
          -0.7465245013540494,
          -0.8097864569083478,
          -0.5456804041774364,
          0.5808559193030063,
          -0.536706453502714,
          0.6344186541349182,
          -0.5613980713435446
         ],
         "yaxis": "y15",
         "type": "scatter"
        },
        {
         "histfunc": "count",
         "histnorm": "",
         "marker": {
          "color": "rgba(128, 0, 128, 1.0)",
          "line": {
           "color": "#4D5663",
           "width": 1.3
          }
         },
         "name": "D",
         "nbinsx": 10,
         "opacity": 0.8,
         "orientation": "v",
         "x": [
          -1.098285288430023,
          0.14958184404167088,
          1.2461298679584585,
          0.1606633336917265,
          -1.064338879728997,
          0.348695820548867,
          1.262583843295249,
          -0.2652580066333978,
          -2.3186208013452423,
          0.5680034377426191,
          0.8338783569185281,
          -0.09585283640443476,
          -0.46464390932887145,
          -2.2972444978095994,
          2.183909433297379,
          -0.013972018416402835,
          -0.7126676632467435,
          0.22922192628897645,
          1.637605005809018,
          -0.5135535537717857,
          -0.9261790276114082,
          4.174738246936915,
          -2.1935206929409814,
          2.1005090209585315,
          0.888072400808627,
          -0.1984147753111766,
          -0.6060905714943685,
          -1.378091241350273,
          0.10749483146196324,
          -1.0123953977752262,
          0.09650733283282696,
          -1.2731302613177875,
          -0.4085654017370767,
          0.2065593374355364,
          0.5219102699111029,
          0.23253206010127903,
          0.8022753480334646,
          -0.7626616617721025,
          -3.1738291113978567,
          -1.6674810426247788,
          -1.1462399692068828,
          1.0907686369810152,
          -0.5378591090951689,
          0.4648710366387402,
          0.23158383235184826,
          -1.8685527054804556,
          -0.0677166558648092,
          0.9547035877335902,
          0.2736767899790965,
          -0.24510439633762685,
          1.8287532241266817,
          -0.9869759895749884,
          -0.8388354194328247,
          1.5022029095222333,
          0.611225234255143,
          -0.24614466274467448,
          0.43233252564391855,
          -1.0501994517387059,
          -0.8457157432194893,
          0.6255056240299353,
          0.15667749966855699,
          -0.4537303101034507,
          0.18872694836491294,
          1.7568123950413166,
          -0.30484909598802196,
          -0.03899430760080177,
          0.9187544549747515,
          0.5770909461636848,
          0.21081839895770305,
          -0.09285429791354204,
          0.25446224307737236,
          -0.7419890916278661,
          -0.009095920170494667,
          0.25596074176293654,
          -0.025723841005877705,
          0.7031950797014404,
          0.6907715831130319,
          -1.7153935493262509,
          -0.25408157808083154,
          1.1979840271940898,
          2.951036676812776,
          2.1671358251555866,
          -0.6410759273752508,
          0.339982431884618,
          0.11364826400115999,
          -0.7934179783598645,
          -0.8679177248664283,
          -1.4627692201330509,
          -2.5736579742436296,
          -1.3397880382466327,
          0.3491660530251151,
          0.2569914029439571,
          -0.7460985291208861,
          -0.7465245013540494,
          -0.8097864569083478,
          -0.5456804041774364,
          0.5808559193030063,
          -0.536706453502714,
          0.6344186541349182,
          -0.5613980713435446
         ],
         "xaxis": "x16",
         "yaxis": "y16",
         "type": "histogram"
        }
       ],
       "layout": {
        "bargap": 0.02,
        "legend": {
         "bgcolor": "#F5F6F9",
         "font": {
          "color": "#4D5663"
         }
        },
        "paper_bgcolor": "#F5F6F9",
        "plot_bgcolor": "#F5F6F9",
        "showlegend": false,
        "template": {
         "data": {
          "barpolar": [
           {
            "marker": {
             "line": {
              "color": "rgb(17,17,17)",
              "width": 0.5
             },
             "pattern": {
              "fillmode": "overlay",
              "size": 10,
              "solidity": 0.2
             }
            },
            "type": "barpolar"
           }
          ],
          "bar": [
           {
            "error_x": {
             "color": "#f2f5fa"
            },
            "error_y": {
             "color": "#f2f5fa"
            },
            "marker": {
             "line": {
              "color": "rgb(17,17,17)",
              "width": 0.5
             },
             "pattern": {
              "fillmode": "overlay",
              "size": 10,
              "solidity": 0.2
             }
            },
            "type": "bar"
           }
          ],
          "carpet": [
           {
            "aaxis": {
             "endlinecolor": "#A2B1C6",
             "gridcolor": "#506784",
             "linecolor": "#506784",
             "minorgridcolor": "#506784",
             "startlinecolor": "#A2B1C6"
            },
            "baxis": {
             "endlinecolor": "#A2B1C6",
             "gridcolor": "#506784",
             "linecolor": "#506784",
             "minorgridcolor": "#506784",
             "startlinecolor": "#A2B1C6"
            },
            "type": "carpet"
           }
          ],
          "choropleth": [
           {
            "colorbar": {
             "outlinewidth": 0,
             "ticks": ""
            },
            "type": "choropleth"
           }
          ],
          "contourcarpet": [
           {
            "colorbar": {
             "outlinewidth": 0,
             "ticks": ""
            },
            "type": "contourcarpet"
           }
          ],
          "contour": [
           {
            "colorbar": {
             "outlinewidth": 0,
             "ticks": ""
            },
            "colorscale": [
             [
              0.0,
              "#0d0887"
             ],
             [
              0.1111111111111111,
              "#46039f"
             ],
             [
              0.2222222222222222,
              "#7201a8"
             ],
             [
              0.3333333333333333,
              "#9c179e"
             ],
             [
              0.4444444444444444,
              "#bd3786"
             ],
             [
              0.5555555555555556,
              "#d8576b"
             ],
             [
              0.6666666666666666,
              "#ed7953"
             ],
             [
              0.7777777777777778,
              "#fb9f3a"
             ],
             [
              0.8888888888888888,
              "#fdca26"
             ],
             [
              1.0,
              "#f0f921"
             ]
            ],
            "type": "contour"
           }
          ],
          "heatmapgl": [
           {
            "colorbar": {
             "outlinewidth": 0,
             "ticks": ""
            },
            "colorscale": [
             [
              0.0,
              "#0d0887"
             ],
             [
              0.1111111111111111,
              "#46039f"
             ],
             [
              0.2222222222222222,
              "#7201a8"
             ],
             [
              0.3333333333333333,
              "#9c179e"
             ],
             [
              0.4444444444444444,
              "#bd3786"
             ],
             [
              0.5555555555555556,
              "#d8576b"
             ],
             [
              0.6666666666666666,
              "#ed7953"
             ],
             [
              0.7777777777777778,
              "#fb9f3a"
             ],
             [
              0.8888888888888888,
              "#fdca26"
             ],
             [
              1.0,
              "#f0f921"
             ]
            ],
            "type": "heatmapgl"
           }
          ],
          "heatmap": [
           {
            "colorbar": {
             "outlinewidth": 0,
             "ticks": ""
            },
            "colorscale": [
             [
              0.0,
              "#0d0887"
             ],
             [
              0.1111111111111111,
              "#46039f"
             ],
             [
              0.2222222222222222,
              "#7201a8"
             ],
             [
              0.3333333333333333,
              "#9c179e"
             ],
             [
              0.4444444444444444,
              "#bd3786"
             ],
             [
              0.5555555555555556,
              "#d8576b"
             ],
             [
              0.6666666666666666,
              "#ed7953"
             ],
             [
              0.7777777777777778,
              "#fb9f3a"
             ],
             [
              0.8888888888888888,
              "#fdca26"
             ],
             [
              1.0,
              "#f0f921"
             ]
            ],
            "type": "heatmap"
           }
          ],
          "histogram2dcontour": [
           {
            "colorbar": {
             "outlinewidth": 0,
             "ticks": ""
            },
            "colorscale": [
             [
              0.0,
              "#0d0887"
             ],
             [
              0.1111111111111111,
              "#46039f"
             ],
             [
              0.2222222222222222,
              "#7201a8"
             ],
             [
              0.3333333333333333,
              "#9c179e"
             ],
             [
              0.4444444444444444,
              "#bd3786"
             ],
             [
              0.5555555555555556,
              "#d8576b"
             ],
             [
              0.6666666666666666,
              "#ed7953"
             ],
             [
              0.7777777777777778,
              "#fb9f3a"
             ],
             [
              0.8888888888888888,
              "#fdca26"
             ],
             [
              1.0,
              "#f0f921"
             ]
            ],
            "type": "histogram2dcontour"
           }
          ],
          "histogram2d": [
           {
            "colorbar": {
             "outlinewidth": 0,
             "ticks": ""
            },
            "colorscale": [
             [
              0.0,
              "#0d0887"
             ],
             [
              0.1111111111111111,
              "#46039f"
             ],
             [
              0.2222222222222222,
              "#7201a8"
             ],
             [
              0.3333333333333333,
              "#9c179e"
             ],
             [
              0.4444444444444444,
              "#bd3786"
             ],
             [
              0.5555555555555556,
              "#d8576b"
             ],
             [
              0.6666666666666666,
              "#ed7953"
             ],
             [
              0.7777777777777778,
              "#fb9f3a"
             ],
             [
              0.8888888888888888,
              "#fdca26"
             ],
             [
              1.0,
              "#f0f921"
             ]
            ],
            "type": "histogram2d"
           }
          ],
          "histogram": [
           {
            "marker": {
             "pattern": {
              "fillmode": "overlay",
              "size": 10,
              "solidity": 0.2
             }
            },
            "type": "histogram"
           }
          ],
          "mesh3d": [
           {
            "colorbar": {
             "outlinewidth": 0,
             "ticks": ""
            },
            "type": "mesh3d"
           }
          ],
          "parcoords": [
           {
            "line": {
             "colorbar": {
              "outlinewidth": 0,
              "ticks": ""
             }
            },
            "type": "parcoords"
           }
          ],
          "pie": [
           {
            "automargin": true,
            "type": "pie"
           }
          ],
          "scatter3d": [
           {
            "line": {
             "colorbar": {
              "outlinewidth": 0,
              "ticks": ""
             }
            },
            "marker": {
             "colorbar": {
              "outlinewidth": 0,
              "ticks": ""
             }
            },
            "type": "scatter3d"
           }
          ],
          "scattercarpet": [
           {
            "marker": {
             "colorbar": {
              "outlinewidth": 0,
              "ticks": ""
             }
            },
            "type": "scattercarpet"
           }
          ],
          "scattergeo": [
           {
            "marker": {
             "colorbar": {
              "outlinewidth": 0,
              "ticks": ""
             }
            },
            "type": "scattergeo"
           }
          ],
          "scattergl": [
           {
            "marker": {
             "line": {
              "color": "#283442"
             }
            },
            "type": "scattergl"
           }
          ],
          "scattermapbox": [
           {
            "marker": {
             "colorbar": {
              "outlinewidth": 0,
              "ticks": ""
             }
            },
            "type": "scattermapbox"
           }
          ],
          "scatterpolargl": [
           {
            "marker": {
             "colorbar": {
              "outlinewidth": 0,
              "ticks": ""
             }
            },
            "type": "scatterpolargl"
           }
          ],
          "scatterpolar": [
           {
            "marker": {
             "colorbar": {
              "outlinewidth": 0,
              "ticks": ""
             }
            },
            "type": "scatterpolar"
           }
          ],
          "scatter": [
           {
            "marker": {
             "line": {
              "color": "#283442"
             }
            },
            "type": "scatter"
           }
          ],
          "scatterternary": [
           {
            "marker": {
             "colorbar": {
              "outlinewidth": 0,
              "ticks": ""
             }
            },
            "type": "scatterternary"
           }
          ],
          "surface": [
           {
            "colorbar": {
             "outlinewidth": 0,
             "ticks": ""
            },
            "colorscale": [
             [
              0.0,
              "#0d0887"
             ],
             [
              0.1111111111111111,
              "#46039f"
             ],
             [
              0.2222222222222222,
              "#7201a8"
             ],
             [
              0.3333333333333333,
              "#9c179e"
             ],
             [
              0.4444444444444444,
              "#bd3786"
             ],
             [
              0.5555555555555556,
              "#d8576b"
             ],
             [
              0.6666666666666666,
              "#ed7953"
             ],
             [
              0.7777777777777778,
              "#fb9f3a"
             ],
             [
              0.8888888888888888,
              "#fdca26"
             ],
             [
              1.0,
              "#f0f921"
             ]
            ],
            "type": "surface"
           }
          ],
          "table": [
           {
            "cells": {
             "fill": {
              "color": "#506784"
             },
             "line": {
              "color": "rgb(17,17,17)"
             }
            },
            "header": {
             "fill": {
              "color": "#2a3f5f"
             },
             "line": {
              "color": "rgb(17,17,17)"
             }
            },
            "type": "table"
           }
          ]
         },
         "layout": {
          "annotationdefaults": {
           "arrowcolor": "#f2f5fa",
           "arrowhead": 0,
           "arrowwidth": 1
          },
          "autotypenumbers": "strict",
          "coloraxis": {
           "colorbar": {
            "outlinewidth": 0,
            "ticks": ""
           }
          },
          "colorscale": {
           "diverging": [
            [
             0,
             "#8e0152"
            ],
            [
             0.1,
             "#c51b7d"
            ],
            [
             0.2,
             "#de77ae"
            ],
            [
             0.3,
             "#f1b6da"
            ],
            [
             0.4,
             "#fde0ef"
            ],
            [
             0.5,
             "#f7f7f7"
            ],
            [
             0.6,
             "#e6f5d0"
            ],
            [
             0.7,
             "#b8e186"
            ],
            [
             0.8,
             "#7fbc41"
            ],
            [
             0.9,
             "#4d9221"
            ],
            [
             1,
             "#276419"
            ]
           ],
           "sequential": [
            [
             0.0,
             "#0d0887"
            ],
            [
             0.1111111111111111,
             "#46039f"
            ],
            [
             0.2222222222222222,
             "#7201a8"
            ],
            [
             0.3333333333333333,
             "#9c179e"
            ],
            [
             0.4444444444444444,
             "#bd3786"
            ],
            [
             0.5555555555555556,
             "#d8576b"
            ],
            [
             0.6666666666666666,
             "#ed7953"
            ],
            [
             0.7777777777777778,
             "#fb9f3a"
            ],
            [
             0.8888888888888888,
             "#fdca26"
            ],
            [
             1.0,
             "#f0f921"
            ]
           ],
           "sequentialminus": [
            [
             0.0,
             "#0d0887"
            ],
            [
             0.1111111111111111,
             "#46039f"
            ],
            [
             0.2222222222222222,
             "#7201a8"
            ],
            [
             0.3333333333333333,
             "#9c179e"
            ],
            [
             0.4444444444444444,
             "#bd3786"
            ],
            [
             0.5555555555555556,
             "#d8576b"
            ],
            [
             0.6666666666666666,
             "#ed7953"
            ],
            [
             0.7777777777777778,
             "#fb9f3a"
            ],
            [
             0.8888888888888888,
             "#fdca26"
            ],
            [
             1.0,
             "#f0f921"
            ]
           ]
          },
          "colorway": [
           "#636efa",
           "#EF553B",
           "#00cc96",
           "#ab63fa",
           "#FFA15A",
           "#19d3f3",
           "#FF6692",
           "#B6E880",
           "#FF97FF",
           "#FECB52"
          ],
          "font": {
           "color": "#f2f5fa"
          },
          "geo": {
           "bgcolor": "rgb(17,17,17)",
           "lakecolor": "rgb(17,17,17)",
           "landcolor": "rgb(17,17,17)",
           "showlakes": true,
           "showland": true,
           "subunitcolor": "#506784"
          },
          "hoverlabel": {
           "align": "left"
          },
          "hovermode": "closest",
          "mapbox": {
           "style": "dark"
          },
          "paper_bgcolor": "rgb(17,17,17)",
          "plot_bgcolor": "rgb(17,17,17)",
          "polar": {
           "angularaxis": {
            "gridcolor": "#506784",
            "linecolor": "#506784",
            "ticks": ""
           },
           "bgcolor": "rgb(17,17,17)",
           "radialaxis": {
            "gridcolor": "#506784",
            "linecolor": "#506784",
            "ticks": ""
           }
          },
          "scene": {
           "xaxis": {
            "backgroundcolor": "rgb(17,17,17)",
            "gridcolor": "#506784",
            "gridwidth": 2,
            "linecolor": "#506784",
            "showbackground": true,
            "ticks": "",
            "zerolinecolor": "#C8D4E3"
           },
           "yaxis": {
            "backgroundcolor": "rgb(17,17,17)",
            "gridcolor": "#506784",
            "gridwidth": 2,
            "linecolor": "#506784",
            "showbackground": true,
            "ticks": "",
            "zerolinecolor": "#C8D4E3"
           },
           "zaxis": {
            "backgroundcolor": "rgb(17,17,17)",
            "gridcolor": "#506784",
            "gridwidth": 2,
            "linecolor": "#506784",
            "showbackground": true,
            "ticks": "",
            "zerolinecolor": "#C8D4E3"
           }
          },
          "shapedefaults": {
           "line": {
            "color": "#f2f5fa"
           }
          },
          "sliderdefaults": {
           "bgcolor": "#C8D4E3",
           "bordercolor": "rgb(17,17,17)",
           "borderwidth": 1,
           "tickwidth": 0
          },
          "ternary": {
           "aaxis": {
            "gridcolor": "#506784",
            "linecolor": "#506784",
            "ticks": ""
           },
           "baxis": {
            "gridcolor": "#506784",
            "linecolor": "#506784",
            "ticks": ""
           },
           "bgcolor": "rgb(17,17,17)",
           "caxis": {
            "gridcolor": "#506784",
            "linecolor": "#506784",
            "ticks": ""
           }
          },
          "title": {
           "x": 0.05
          },
          "updatemenudefaults": {
           "bgcolor": "#506784",
           "borderwidth": 0
          },
          "xaxis": {
           "automargin": true,
           "gridcolor": "#283442",
           "linecolor": "#506784",
           "ticks": "",
           "title": {
            "standoff": 15
           },
           "zerolinecolor": "#283442",
           "zerolinewidth": 2
          },
          "yaxis": {
           "automargin": true,
           "gridcolor": "#283442",
           "linecolor": "#506784",
           "ticks": "",
           "title": {
            "standoff": 15
           },
           "zerolinecolor": "#283442",
           "zerolinewidth": 2
          }
         }
        },
        "title": {
         "font": {
          "color": "#4D5663"
         }
        },
        "xaxis": {
         "anchor": "y",
         "domain": [
          0.0,
          0.2125
         ],
         "gridcolor": "#E1E5ED",
         "showgrid": false,
         "tickfont": {
          "color": "#4D5663"
         },
         "title": {
          "font": {
           "color": "#4D5663"
          },
          "text": ""
         },
         "zerolinecolor": "#E1E5ED"
        },
        "yaxis": {
         "anchor": "x",
         "domain": [
          0.8025,
          1.0
         ],
         "gridcolor": "#E1E5ED",
         "showgrid": false,
         "tickfont": {
          "color": "#4D5663"
         },
         "title": {
          "font": {
           "color": "#4D5663"
          },
          "text": ""
         },
         "zerolinecolor": "#E1E5ED"
        },
        "xaxis2": {
         "anchor": "y2",
         "domain": [
          0.2625,
          0.475
         ],
         "gridcolor": "#E1E5ED",
         "showgrid": false,
         "tickfont": {
          "color": "#4D5663"
         },
         "title": {
          "font": {
           "color": "#4D5663"
          },
          "text": ""
         },
         "zerolinecolor": "#E1E5ED"
        },
        "yaxis2": {
         "anchor": "x2",
         "domain": [
          0.8025,
          1.0
         ],
         "gridcolor": "#E1E5ED",
         "showgrid": false,
         "tickfont": {
          "color": "#4D5663"
         },
         "title": {
          "font": {
           "color": "#4D5663"
          },
          "text": ""
         },
         "zerolinecolor": "#E1E5ED"
        },
        "xaxis3": {
         "anchor": "y3",
         "domain": [
          0.525,
          0.7375
         ],
         "gridcolor": "#E1E5ED",
         "showgrid": false,
         "tickfont": {
          "color": "#4D5663"
         },
         "title": {
          "font": {
           "color": "#4D5663"
          },
          "text": ""
         },
         "zerolinecolor": "#E1E5ED"
        },
        "yaxis3": {
         "anchor": "x3",
         "domain": [
          0.8025,
          1.0
         ],
         "gridcolor": "#E1E5ED",
         "showgrid": false,
         "tickfont": {
          "color": "#4D5663"
         },
         "title": {
          "font": {
           "color": "#4D5663"
          },
          "text": ""
         },
         "zerolinecolor": "#E1E5ED"
        },
        "xaxis4": {
         "anchor": "y4",
         "domain": [
          0.7875,
          1.0
         ],
         "gridcolor": "#E1E5ED",
         "showgrid": false,
         "tickfont": {
          "color": "#4D5663"
         },
         "title": {
          "font": {
           "color": "#4D5663"
          },
          "text": ""
         },
         "zerolinecolor": "#E1E5ED"
        },
        "yaxis4": {
         "anchor": "x4",
         "domain": [
          0.8025,
          1.0
         ],
         "gridcolor": "#E1E5ED",
         "showgrid": false,
         "tickfont": {
          "color": "#4D5663"
         },
         "title": {
          "font": {
           "color": "#4D5663"
          },
          "text": ""
         },
         "zerolinecolor": "#E1E5ED"
        },
        "xaxis5": {
         "anchor": "y5",
         "domain": [
          0.0,
          0.2125
         ],
         "gridcolor": "#E1E5ED",
         "showgrid": false,
         "tickfont": {
          "color": "#4D5663"
         },
         "title": {
          "font": {
           "color": "#4D5663"
          },
          "text": ""
         },
         "zerolinecolor": "#E1E5ED"
        },
        "yaxis5": {
         "anchor": "x5",
         "domain": [
          0.535,
          0.7325
         ],
         "gridcolor": "#E1E5ED",
         "showgrid": false,
         "tickfont": {
          "color": "#4D5663"
         },
         "title": {
          "font": {
           "color": "#4D5663"
          },
          "text": ""
         },
         "zerolinecolor": "#E1E5ED"
        },
        "xaxis6": {
         "anchor": "y6",
         "domain": [
          0.2625,
          0.475
         ],
         "gridcolor": "#E1E5ED",
         "showgrid": false,
         "tickfont": {
          "color": "#4D5663"
         },
         "title": {
          "font": {
           "color": "#4D5663"
          },
          "text": ""
         },
         "zerolinecolor": "#E1E5ED"
        },
        "yaxis6": {
         "anchor": "x6",
         "domain": [
          0.535,
          0.7325
         ],
         "gridcolor": "#E1E5ED",
         "showgrid": false,
         "tickfont": {
          "color": "#4D5663"
         },
         "title": {
          "font": {
           "color": "#4D5663"
          },
          "text": ""
         },
         "zerolinecolor": "#E1E5ED"
        },
        "xaxis7": {
         "anchor": "y7",
         "domain": [
          0.525,
          0.7375
         ],
         "gridcolor": "#E1E5ED",
         "showgrid": false,
         "tickfont": {
          "color": "#4D5663"
         },
         "title": {
          "font": {
           "color": "#4D5663"
          },
          "text": ""
         },
         "zerolinecolor": "#E1E5ED"
        },
        "yaxis7": {
         "anchor": "x7",
         "domain": [
          0.535,
          0.7325
         ],
         "gridcolor": "#E1E5ED",
         "showgrid": false,
         "tickfont": {
          "color": "#4D5663"
         },
         "title": {
          "font": {
           "color": "#4D5663"
          },
          "text": ""
         },
         "zerolinecolor": "#E1E5ED"
        },
        "xaxis8": {
         "anchor": "y8",
         "domain": [
          0.7875,
          1.0
         ],
         "gridcolor": "#E1E5ED",
         "showgrid": false,
         "tickfont": {
          "color": "#4D5663"
         },
         "title": {
          "font": {
           "color": "#4D5663"
          },
          "text": ""
         },
         "zerolinecolor": "#E1E5ED"
        },
        "yaxis8": {
         "anchor": "x8",
         "domain": [
          0.535,
          0.7325
         ],
         "gridcolor": "#E1E5ED",
         "showgrid": false,
         "tickfont": {
          "color": "#4D5663"
         },
         "title": {
          "font": {
           "color": "#4D5663"
          },
          "text": ""
         },
         "zerolinecolor": "#E1E5ED"
        },
        "xaxis9": {
         "anchor": "y9",
         "domain": [
          0.0,
          0.2125
         ],
         "gridcolor": "#E1E5ED",
         "showgrid": false,
         "tickfont": {
          "color": "#4D5663"
         },
         "title": {
          "font": {
           "color": "#4D5663"
          },
          "text": ""
         },
         "zerolinecolor": "#E1E5ED"
        },
        "yaxis9": {
         "anchor": "x9",
         "domain": [
          0.2675,
          0.465
         ],
         "gridcolor": "#E1E5ED",
         "showgrid": false,
         "tickfont": {
          "color": "#4D5663"
         },
         "title": {
          "font": {
           "color": "#4D5663"
          },
          "text": ""
         },
         "zerolinecolor": "#E1E5ED"
        },
        "xaxis10": {
         "anchor": "y10",
         "domain": [
          0.2625,
          0.475
         ],
         "gridcolor": "#E1E5ED",
         "showgrid": false,
         "tickfont": {
          "color": "#4D5663"
         },
         "title": {
          "font": {
           "color": "#4D5663"
          },
          "text": ""
         },
         "zerolinecolor": "#E1E5ED"
        },
        "yaxis10": {
         "anchor": "x10",
         "domain": [
          0.2675,
          0.465
         ],
         "gridcolor": "#E1E5ED",
         "showgrid": false,
         "tickfont": {
          "color": "#4D5663"
         },
         "title": {
          "font": {
           "color": "#4D5663"
          },
          "text": ""
         },
         "zerolinecolor": "#E1E5ED"
        },
        "xaxis11": {
         "anchor": "y11",
         "domain": [
          0.525,
          0.7375
         ],
         "gridcolor": "#E1E5ED",
         "showgrid": false,
         "tickfont": {
          "color": "#4D5663"
         },
         "title": {
          "font": {
           "color": "#4D5663"
          },
          "text": ""
         },
         "zerolinecolor": "#E1E5ED"
        },
        "yaxis11": {
         "anchor": "x11",
         "domain": [
          0.2675,
          0.465
         ],
         "gridcolor": "#E1E5ED",
         "showgrid": false,
         "tickfont": {
          "color": "#4D5663"
         },
         "title": {
          "font": {
           "color": "#4D5663"
          },
          "text": ""
         },
         "zerolinecolor": "#E1E5ED"
        },
        "xaxis12": {
         "anchor": "y12",
         "domain": [
          0.7875,
          1.0
         ],
         "gridcolor": "#E1E5ED",
         "showgrid": false,
         "tickfont": {
          "color": "#4D5663"
         },
         "title": {
          "font": {
           "color": "#4D5663"
          },
          "text": ""
         },
         "zerolinecolor": "#E1E5ED"
        },
        "yaxis12": {
         "anchor": "x12",
         "domain": [
          0.2675,
          0.465
         ],
         "gridcolor": "#E1E5ED",
         "showgrid": false,
         "tickfont": {
          "color": "#4D5663"
         },
         "title": {
          "font": {
           "color": "#4D5663"
          },
          "text": ""
         },
         "zerolinecolor": "#E1E5ED"
        },
        "xaxis13": {
         "anchor": "y13",
         "domain": [
          0.0,
          0.2125
         ],
         "gridcolor": "#E1E5ED",
         "showgrid": false,
         "tickfont": {
          "color": "#4D5663"
         },
         "title": {
          "font": {
           "color": "#4D5663"
          },
          "text": ""
         },
         "zerolinecolor": "#E1E5ED"
        },
        "yaxis13": {
         "anchor": "x13",
         "domain": [
          0.0,
          0.1975
         ],
         "gridcolor": "#E1E5ED",
         "showgrid": false,
         "tickfont": {
          "color": "#4D5663"
         },
         "title": {
          "font": {
           "color": "#4D5663"
          },
          "text": ""
         },
         "zerolinecolor": "#E1E5ED"
        },
        "xaxis14": {
         "anchor": "y14",
         "domain": [
          0.2625,
          0.475
         ],
         "gridcolor": "#E1E5ED",
         "showgrid": false,
         "tickfont": {
          "color": "#4D5663"
         },
         "title": {
          "font": {
           "color": "#4D5663"
          },
          "text": ""
         },
         "zerolinecolor": "#E1E5ED"
        },
        "yaxis14": {
         "anchor": "x14",
         "domain": [
          0.0,
          0.1975
         ],
         "gridcolor": "#E1E5ED",
         "showgrid": false,
         "tickfont": {
          "color": "#4D5663"
         },
         "title": {
          "font": {
           "color": "#4D5663"
          },
          "text": ""
         },
         "zerolinecolor": "#E1E5ED"
        },
        "xaxis15": {
         "anchor": "y15",
         "domain": [
          0.525,
          0.7375
         ],
         "gridcolor": "#E1E5ED",
         "showgrid": false,
         "tickfont": {
          "color": "#4D5663"
         },
         "title": {
          "font": {
           "color": "#4D5663"
          },
          "text": ""
         },
         "zerolinecolor": "#E1E5ED"
        },
        "yaxis15": {
         "anchor": "x15",
         "domain": [
          0.0,
          0.1975
         ],
         "gridcolor": "#E1E5ED",
         "showgrid": false,
         "tickfont": {
          "color": "#4D5663"
         },
         "title": {
          "font": {
           "color": "#4D5663"
          },
          "text": ""
         },
         "zerolinecolor": "#E1E5ED"
        },
        "xaxis16": {
         "anchor": "y16",
         "domain": [
          0.7875,
          1.0
         ],
         "gridcolor": "#E1E5ED",
         "showgrid": false,
         "tickfont": {
          "color": "#4D5663"
         },
         "title": {
          "font": {
           "color": "#4D5663"
          },
          "text": ""
         },
         "zerolinecolor": "#E1E5ED"
        },
        "yaxis16": {
         "anchor": "x16",
         "domain": [
          0.0,
          0.1975
         ],
         "gridcolor": "#E1E5ED",
         "showgrid": false,
         "tickfont": {
          "color": "#4D5663"
         },
         "title": {
          "font": {
           "color": "#4D5663"
          },
          "text": ""
         },
         "zerolinecolor": "#E1E5ED"
        }
       },
       "config": {
        "showLink": true,
        "linkText": "Export to plot.ly",
        "plotlyServerURL": "https://plot.ly"
       }
      },
      "text/html": "<div>                            <div id=\"64214dbb-1ec0-412d-b772-ae3b71fc7119\" class=\"plotly-graph-div\" style=\"height:525px; width:100%;\"></div>            <script type=\"text/javascript\">                require([\"plotly\"], function(Plotly) {                    window.PLOTLYENV=window.PLOTLYENV || {};\n                    window.PLOTLYENV.BASE_URL='https://plot.ly';                                    if (document.getElementById(\"64214dbb-1ec0-412d-b772-ae3b71fc7119\")) {                    Plotly.newPlot(                        \"64214dbb-1ec0-412d-b772-ae3b71fc7119\",                        [{\"histfunc\":\"count\",\"histnorm\":\"\",\"marker\":{\"color\":\"rgba(255, 153, 51, 1.0)\",\"line\":{\"color\":\"#4D5663\",\"width\":1.3}},\"name\":\"A\",\"nbinsx\":10,\"opacity\":0.8,\"orientation\":\"v\",\"x\":[0.28294306242083767,0.7968335417349354,0.6029639109107471,-1.5650465702073828,1.304012469593769,-0.7189638548328962,-0.8342772051709019,0.22903038848035023,-0.5555919147143817,1.4140028785570107,0.94608625189099,0.9475932345276445,0.23210000912619144,-0.2017794680697094,-1.4990317076611852,-0.7842492198303922,-1.3121806301629386,-1.5962284515435832,0.2657376571207234,-0.7577841855650336,0.39706212625730386,0.6073528236931202,0.5706027636271244,0.18683438249342266,-0.7940508543522877,-0.6444701200418613,-0.2110685265220033,-0.21394613693218092,0.4534506074097498,2.438321983713647,-1.2396923531952755,-1.0338891895089748,-1.8686878644477178,1.4426106451051863,1.3829077973469637,-0.9318189639747426,-1.351996586738685,1.5595608061328485,-0.04392079133593794,-0.3249146952228359,-0.3561904783582894,-0.23101513575681648,0.08360620220848271,-0.2775960238257498,0.1827848967298999,0.526474067214003,2.8941246385052737,0.3513291582553594,1.4747419625145186,0.8114972050269655,0.3904436172676149,0.5863844172483037,0.132548984097949,-0.008685401418308297,1.5120385158724081,-0.30670267379703225,-1.4923253483617496,0.4802337079853066,-0.16507077011425983,-2.0560055890795237,0.10582411220975962,2.060496097844001,0.8634647915354526,-0.3039246066953029,0.1229316646230268,-0.038431626183908746,-1.5625482329206086,0.8026387183329571,-1.0443326064301137,-1.7441282157838378,0.4085613297272926,1.1314362749851863,-0.9655028773082579,0.6140978821152564,-0.6593952533441673,-0.34343935659321273,0.4034289175552191,1.104816451182827,0.3878510482013112,-0.743700172880391,-0.42968150080935014,-0.9391664628727731,-0.5884295473521228,-0.7177875423794414,2.1228794383459997,-0.4975295949320428,1.5496946784360939,-0.1603496989445274,-1.567367392800217,-0.1371889550701248,1.1782392321059363,-0.22356969222959078,-0.5950862468932329,0.7425841600024924,0.12691537384773105,-2.0104992712368546,0.9657266887418268,0.43111491937499125,-1.1636538720055476,0.0005153381097441173],\"xaxis\":\"x\",\"yaxis\":\"y\",\"type\":\"histogram\"},{\"line\":{\"color\":\"rgba(128, 128, 128, 1.0)\",\"dash\":\"solid\",\"shape\":\"linear\",\"width\":1.3},\"marker\":{\"size\":2,\"symbol\":\"circle\"},\"mode\":\"markers\",\"name\":\"A\",\"text\":\"\",\"x\":[1.7657644339687022,0.40152524610963597,-0.6490441381987168,-0.06690985466349718,-1.3836260446239395,-1.2828230670369736,1.641103044752528,0.02950549536361005,-2.1318721666960796,-1.0425706714763656,-0.6881285360861475,0.7129372647011848,-0.41299957821847816,0.764715578317224,1.6320799119277163,0.6648963455373257,1.502186292770685,0.5717155903686859,-0.08096115022213794,1.6688301430783008,1.099781650299211,0.8677669207363187,-0.049835760740421294,-0.7937881637743242,-1.6797130681383161,-0.8745572359960498,-0.09444092644838366,1.25026970101619,-2.0408326288783494,0.40818850602513895,0.9625915949894845,0.19149098777623977,-0.5412840448442139,-0.9668667448686264,0.5369895159344095,0.4583338589453875,-0.0073253076901911825,-0.1696692115072209,-0.19499724667941787,-0.9760650430864394,0.45399599089019094,-1.438388683371131,-0.030663865329517898,-1.5185179787148289,-0.27104235629081364,1.2370207940253466,0.17549520318780185,-0.422093343206613,0.8053032459521436,1.1307406125923145,-1.2661415921852701,0.6825205226610233,-0.6866233951233202,-1.7648581385983473,-1.1252794765269931,-1.4694753261250473,0.4183908398921806,-0.8084090371479645,0.8278362870211943,-0.38093806077119186,2.1232446144391943,-0.7157103234847048,1.153458938556494,-0.8796592512734447,0.644698021217474,0.5279713712717733,2.418904656614257,-1.7570416086898197,0.6994030201855514,-0.02822940865389242,0.23331442504654712,-0.7184573666523312,0.28763082108987026,0.9558194586851085,-1.1307744435339449,0.5961646009260254,0.29319217653563767,-1.1388899044232315,-0.7596053768042313,-0.4300073438081864,0.6244910560352827,0.8010163299977416,-0.8568211136062038,-0.7896100550557182,-0.9629249914457718,-0.43639411199462874,0.001555813000358842,-0.17681091563059353,-0.5321232495662198,0.9130347810077699,0.14999294028596566,0.28951203578929724,-0.19401209846592063,-1.2577957050234982,0.5077320337947091,-0.5621704955948704,-0.7793490945044861,-0.15103745501382332,0.2372061381731799,-2.670105086556007],\"xaxis\":\"x2\",\"y\":[0.28294306242083767,0.7968335417349354,0.6029639109107471,-1.5650465702073828,1.304012469593769,-0.7189638548328962,-0.8342772051709019,0.22903038848035023,-0.5555919147143817,1.4140028785570107,0.94608625189099,0.9475932345276445,0.23210000912619144,-0.2017794680697094,-1.4990317076611852,-0.7842492198303922,-1.3121806301629386,-1.5962284515435832,0.2657376571207234,-0.7577841855650336,0.39706212625730386,0.6073528236931202,0.5706027636271244,0.18683438249342266,-0.7940508543522877,-0.6444701200418613,-0.2110685265220033,-0.21394613693218092,0.4534506074097498,2.438321983713647,-1.2396923531952755,-1.0338891895089748,-1.8686878644477178,1.4426106451051863,1.3829077973469637,-0.9318189639747426,-1.351996586738685,1.5595608061328485,-0.04392079133593794,-0.3249146952228359,-0.3561904783582894,-0.23101513575681648,0.08360620220848271,-0.2775960238257498,0.1827848967298999,0.526474067214003,2.8941246385052737,0.3513291582553594,1.4747419625145186,0.8114972050269655,0.3904436172676149,0.5863844172483037,0.132548984097949,-0.008685401418308297,1.5120385158724081,-0.30670267379703225,-1.4923253483617496,0.4802337079853066,-0.16507077011425983,-2.0560055890795237,0.10582411220975962,2.060496097844001,0.8634647915354526,-0.3039246066953029,0.1229316646230268,-0.038431626183908746,-1.5625482329206086,0.8026387183329571,-1.0443326064301137,-1.7441282157838378,0.4085613297272926,1.1314362749851863,-0.9655028773082579,0.6140978821152564,-0.6593952533441673,-0.34343935659321273,0.4034289175552191,1.104816451182827,0.3878510482013112,-0.743700172880391,-0.42968150080935014,-0.9391664628727731,-0.5884295473521228,-0.7177875423794414,2.1228794383459997,-0.4975295949320428,1.5496946784360939,-0.1603496989445274,-1.567367392800217,-0.1371889550701248,1.1782392321059363,-0.22356969222959078,-0.5950862468932329,0.7425841600024924,0.12691537384773105,-2.0104992712368546,0.9657266887418268,0.43111491937499125,-1.1636538720055476,0.0005153381097441173],\"yaxis\":\"y2\",\"type\":\"scatter\"},{\"line\":{\"color\":\"rgba(128, 128, 128, 1.0)\",\"dash\":\"solid\",\"shape\":\"linear\",\"width\":1.3},\"marker\":{\"size\":2,\"symbol\":\"circle\"},\"mode\":\"markers\",\"name\":\"A\",\"text\":\"\",\"x\":[1.9688512544483658,-0.4670637559025583,0.21254837098282703,-0.6516910209747601,0.5283780997882954,-1.2545542878657616,1.6196262049773122,-0.0801112350530872,-0.7475681227771004,0.24469448167629484,1.6293306874438243,-0.47887637572466163,1.188573074681109,-0.7866333001968231,0.31334116043312854,-0.04375166465709195,1.098106114839438,-0.6922329600140962,-0.08678247966329718,0.5916321638693771,0.5579565061049254,-0.42895243549659184,-1.0104381884188447,-0.04696434665995022,0.5255970409910206,-0.7692651839125656,-1.1831886025318505,-0.6098739873848457,0.200073280459851,0.35597959402749435,-1.0292670748632338,-2.7344802203594774,-1.9441523009659971,0.7664776115849087,0.1400537725754366,-0.05918159770352548,0.4147534739976277,-1.2948571424125193,0.3112117882655775,0.4244149300520934,-0.5285500823654952,1.1928624338539995,-0.5399231120915295,-2.107949793256516,-0.23417733605514487,-0.9429631778221665,-0.243928139249279,-0.7478968352502519,-2.1254677052723223,1.7849810984402206,-0.4496865266673635,0.4747596939931916,1.7597641814292622,2.2169333470703787,0.23712303060237905,0.7174429594687959,0.37119755461333565,0.23200153316338043,0.002307375506775622,-0.34379379002474475,-0.8362242041614424,0.693635298620592,1.5270303697667875,-0.5615117770353253,-0.4507910051518651,2.51222992189218,0.3743225171633774,-0.6613744747982596,-1.0765990318372107,-0.9498751295308068,-0.20863538597655457,-1.2243447350782934,-0.22068181642592458,-0.9684415650560166,0.125433771321192,-0.4480610459423625,-0.11039472512050559,1.631880303908501,-0.24522734417462194,-0.46818678858719415,-0.022683988280568904,0.5677990973495867,0.5837045662577841,0.04390125624770037,0.21052547505528604,-1.0780123528381345,-0.09850335676066076,0.858282999570995,-0.3403900020407947,0.5806164343650096,0.15819115598443267,0.6058230389773845,-0.46653901272156106,0.06218512014908821,0.811881185608445,0.47530021700031944,0.8139384613908115,-0.014767467695816593,0.10243941126630765,0.41556612363657],\"xaxis\":\"x3\",\"y\":[0.28294306242083767,0.7968335417349354,0.6029639109107471,-1.5650465702073828,1.304012469593769,-0.7189638548328962,-0.8342772051709019,0.22903038848035023,-0.5555919147143817,1.4140028785570107,0.94608625189099,0.9475932345276445,0.23210000912619144,-0.2017794680697094,-1.4990317076611852,-0.7842492198303922,-1.3121806301629386,-1.5962284515435832,0.2657376571207234,-0.7577841855650336,0.39706212625730386,0.6073528236931202,0.5706027636271244,0.18683438249342266,-0.7940508543522877,-0.6444701200418613,-0.2110685265220033,-0.21394613693218092,0.4534506074097498,2.438321983713647,-1.2396923531952755,-1.0338891895089748,-1.8686878644477178,1.4426106451051863,1.3829077973469637,-0.9318189639747426,-1.351996586738685,1.5595608061328485,-0.04392079133593794,-0.3249146952228359,-0.3561904783582894,-0.23101513575681648,0.08360620220848271,-0.2775960238257498,0.1827848967298999,0.526474067214003,2.8941246385052737,0.3513291582553594,1.4747419625145186,0.8114972050269655,0.3904436172676149,0.5863844172483037,0.132548984097949,-0.008685401418308297,1.5120385158724081,-0.30670267379703225,-1.4923253483617496,0.4802337079853066,-0.16507077011425983,-2.0560055890795237,0.10582411220975962,2.060496097844001,0.8634647915354526,-0.3039246066953029,0.1229316646230268,-0.038431626183908746,-1.5625482329206086,0.8026387183329571,-1.0443326064301137,-1.7441282157838378,0.4085613297272926,1.1314362749851863,-0.9655028773082579,0.6140978821152564,-0.6593952533441673,-0.34343935659321273,0.4034289175552191,1.104816451182827,0.3878510482013112,-0.743700172880391,-0.42968150080935014,-0.9391664628727731,-0.5884295473521228,-0.7177875423794414,2.1228794383459997,-0.4975295949320428,1.5496946784360939,-0.1603496989445274,-1.567367392800217,-0.1371889550701248,1.1782392321059363,-0.22356969222959078,-0.5950862468932329,0.7425841600024924,0.12691537384773105,-2.0104992712368546,0.9657266887418268,0.43111491937499125,-1.1636538720055476,0.0005153381097441173],\"yaxis\":\"y3\",\"type\":\"scatter\"},{\"line\":{\"color\":\"rgba(128, 128, 128, 1.0)\",\"dash\":\"solid\",\"shape\":\"linear\",\"width\":1.3},\"marker\":{\"size\":2,\"symbol\":\"circle\"},\"mode\":\"markers\",\"name\":\"A\",\"text\":\"\",\"x\":[-1.098285288430023,0.14958184404167088,1.2461298679584585,0.1606633336917265,-1.064338879728997,0.348695820548867,1.262583843295249,-0.2652580066333978,-2.3186208013452423,0.5680034377426191,0.8338783569185281,-0.09585283640443476,-0.46464390932887145,-2.2972444978095994,2.183909433297379,-0.013972018416402835,-0.7126676632467435,0.22922192628897645,1.637605005809018,-0.5135535537717857,-0.9261790276114082,4.174738246936915,-2.1935206929409814,2.1005090209585315,0.888072400808627,-0.1984147753111766,-0.6060905714943685,-1.378091241350273,0.10749483146196324,-1.0123953977752262,0.09650733283282696,-1.2731302613177875,-0.4085654017370767,0.2065593374355364,0.5219102699111029,0.23253206010127903,0.8022753480334646,-0.7626616617721025,-3.1738291113978567,-1.6674810426247788,-1.1462399692068828,1.0907686369810152,-0.5378591090951689,0.4648710366387402,0.23158383235184826,-1.8685527054804556,-0.0677166558648092,0.9547035877335902,0.2736767899790965,-0.24510439633762685,1.8287532241266817,-0.9869759895749884,-0.8388354194328247,1.5022029095222333,0.611225234255143,-0.24614466274467448,0.43233252564391855,-1.0501994517387059,-0.8457157432194893,0.6255056240299353,0.15667749966855699,-0.4537303101034507,0.18872694836491294,1.7568123950413166,-0.30484909598802196,-0.03899430760080177,0.9187544549747515,0.5770909461636848,0.21081839895770305,-0.09285429791354204,0.25446224307737236,-0.7419890916278661,-0.009095920170494667,0.25596074176293654,-0.025723841005877705,0.7031950797014404,0.6907715831130319,-1.7153935493262509,-0.25408157808083154,1.1979840271940898,2.951036676812776,2.1671358251555866,-0.6410759273752508,0.339982431884618,0.11364826400115999,-0.7934179783598645,-0.8679177248664283,-1.4627692201330509,-2.5736579742436296,-1.3397880382466327,0.3491660530251151,0.2569914029439571,-0.7460985291208861,-0.7465245013540494,-0.8097864569083478,-0.5456804041774364,0.5808559193030063,-0.536706453502714,0.6344186541349182,-0.5613980713435446],\"xaxis\":\"x4\",\"y\":[0.28294306242083767,0.7968335417349354,0.6029639109107471,-1.5650465702073828,1.304012469593769,-0.7189638548328962,-0.8342772051709019,0.22903038848035023,-0.5555919147143817,1.4140028785570107,0.94608625189099,0.9475932345276445,0.23210000912619144,-0.2017794680697094,-1.4990317076611852,-0.7842492198303922,-1.3121806301629386,-1.5962284515435832,0.2657376571207234,-0.7577841855650336,0.39706212625730386,0.6073528236931202,0.5706027636271244,0.18683438249342266,-0.7940508543522877,-0.6444701200418613,-0.2110685265220033,-0.21394613693218092,0.4534506074097498,2.438321983713647,-1.2396923531952755,-1.0338891895089748,-1.8686878644477178,1.4426106451051863,1.3829077973469637,-0.9318189639747426,-1.351996586738685,1.5595608061328485,-0.04392079133593794,-0.3249146952228359,-0.3561904783582894,-0.23101513575681648,0.08360620220848271,-0.2775960238257498,0.1827848967298999,0.526474067214003,2.8941246385052737,0.3513291582553594,1.4747419625145186,0.8114972050269655,0.3904436172676149,0.5863844172483037,0.132548984097949,-0.008685401418308297,1.5120385158724081,-0.30670267379703225,-1.4923253483617496,0.4802337079853066,-0.16507077011425983,-2.0560055890795237,0.10582411220975962,2.060496097844001,0.8634647915354526,-0.3039246066953029,0.1229316646230268,-0.038431626183908746,-1.5625482329206086,0.8026387183329571,-1.0443326064301137,-1.7441282157838378,0.4085613297272926,1.1314362749851863,-0.9655028773082579,0.6140978821152564,-0.6593952533441673,-0.34343935659321273,0.4034289175552191,1.104816451182827,0.3878510482013112,-0.743700172880391,-0.42968150080935014,-0.9391664628727731,-0.5884295473521228,-0.7177875423794414,2.1228794383459997,-0.4975295949320428,1.5496946784360939,-0.1603496989445274,-1.567367392800217,-0.1371889550701248,1.1782392321059363,-0.22356969222959078,-0.5950862468932329,0.7425841600024924,0.12691537384773105,-2.0104992712368546,0.9657266887418268,0.43111491937499125,-1.1636538720055476,0.0005153381097441173],\"yaxis\":\"y4\",\"type\":\"scatter\"},{\"line\":{\"color\":\"rgba(128, 128, 128, 1.0)\",\"dash\":\"solid\",\"shape\":\"linear\",\"width\":1.3},\"marker\":{\"size\":2,\"symbol\":\"circle\"},\"mode\":\"markers\",\"name\":\"B\",\"text\":\"\",\"x\":[0.28294306242083767,0.7968335417349354,0.6029639109107471,-1.5650465702073828,1.304012469593769,-0.7189638548328962,-0.8342772051709019,0.22903038848035023,-0.5555919147143817,1.4140028785570107,0.94608625189099,0.9475932345276445,0.23210000912619144,-0.2017794680697094,-1.4990317076611852,-0.7842492198303922,-1.3121806301629386,-1.5962284515435832,0.2657376571207234,-0.7577841855650336,0.39706212625730386,0.6073528236931202,0.5706027636271244,0.18683438249342266,-0.7940508543522877,-0.6444701200418613,-0.2110685265220033,-0.21394613693218092,0.4534506074097498,2.438321983713647,-1.2396923531952755,-1.0338891895089748,-1.8686878644477178,1.4426106451051863,1.3829077973469637,-0.9318189639747426,-1.351996586738685,1.5595608061328485,-0.04392079133593794,-0.3249146952228359,-0.3561904783582894,-0.23101513575681648,0.08360620220848271,-0.2775960238257498,0.1827848967298999,0.526474067214003,2.8941246385052737,0.3513291582553594,1.4747419625145186,0.8114972050269655,0.3904436172676149,0.5863844172483037,0.132548984097949,-0.008685401418308297,1.5120385158724081,-0.30670267379703225,-1.4923253483617496,0.4802337079853066,-0.16507077011425983,-2.0560055890795237,0.10582411220975962,2.060496097844001,0.8634647915354526,-0.3039246066953029,0.1229316646230268,-0.038431626183908746,-1.5625482329206086,0.8026387183329571,-1.0443326064301137,-1.7441282157838378,0.4085613297272926,1.1314362749851863,-0.9655028773082579,0.6140978821152564,-0.6593952533441673,-0.34343935659321273,0.4034289175552191,1.104816451182827,0.3878510482013112,-0.743700172880391,-0.42968150080935014,-0.9391664628727731,-0.5884295473521228,-0.7177875423794414,2.1228794383459997,-0.4975295949320428,1.5496946784360939,-0.1603496989445274,-1.567367392800217,-0.1371889550701248,1.1782392321059363,-0.22356969222959078,-0.5950862468932329,0.7425841600024924,0.12691537384773105,-2.0104992712368546,0.9657266887418268,0.43111491937499125,-1.1636538720055476,0.0005153381097441173],\"xaxis\":\"x5\",\"y\":[1.7657644339687022,0.40152524610963597,-0.6490441381987168,-0.06690985466349718,-1.3836260446239395,-1.2828230670369736,1.641103044752528,0.02950549536361005,-2.1318721666960796,-1.0425706714763656,-0.6881285360861475,0.7129372647011848,-0.41299957821847816,0.764715578317224,1.6320799119277163,0.6648963455373257,1.502186292770685,0.5717155903686859,-0.08096115022213794,1.6688301430783008,1.099781650299211,0.8677669207363187,-0.049835760740421294,-0.7937881637743242,-1.6797130681383161,-0.8745572359960498,-0.09444092644838366,1.25026970101619,-2.0408326288783494,0.40818850602513895,0.9625915949894845,0.19149098777623977,-0.5412840448442139,-0.9668667448686264,0.5369895159344095,0.4583338589453875,-0.0073253076901911825,-0.1696692115072209,-0.19499724667941787,-0.9760650430864394,0.45399599089019094,-1.438388683371131,-0.030663865329517898,-1.5185179787148289,-0.27104235629081364,1.2370207940253466,0.17549520318780185,-0.422093343206613,0.8053032459521436,1.1307406125923145,-1.2661415921852701,0.6825205226610233,-0.6866233951233202,-1.7648581385983473,-1.1252794765269931,-1.4694753261250473,0.4183908398921806,-0.8084090371479645,0.8278362870211943,-0.38093806077119186,2.1232446144391943,-0.7157103234847048,1.153458938556494,-0.8796592512734447,0.644698021217474,0.5279713712717733,2.418904656614257,-1.7570416086898197,0.6994030201855514,-0.02822940865389242,0.23331442504654712,-0.7184573666523312,0.28763082108987026,0.9558194586851085,-1.1307744435339449,0.5961646009260254,0.29319217653563767,-1.1388899044232315,-0.7596053768042313,-0.4300073438081864,0.6244910560352827,0.8010163299977416,-0.8568211136062038,-0.7896100550557182,-0.9629249914457718,-0.43639411199462874,0.001555813000358842,-0.17681091563059353,-0.5321232495662198,0.9130347810077699,0.14999294028596566,0.28951203578929724,-0.19401209846592063,-1.2577957050234982,0.5077320337947091,-0.5621704955948704,-0.7793490945044861,-0.15103745501382332,0.2372061381731799,-2.670105086556007],\"yaxis\":\"y5\",\"type\":\"scatter\"},{\"histfunc\":\"count\",\"histnorm\":\"\",\"marker\":{\"color\":\"rgba(55, 128, 191, 1.0)\",\"line\":{\"color\":\"#4D5663\",\"width\":1.3}},\"name\":\"B\",\"nbinsx\":10,\"opacity\":0.8,\"orientation\":\"v\",\"x\":[1.7657644339687022,0.40152524610963597,-0.6490441381987168,-0.06690985466349718,-1.3836260446239395,-1.2828230670369736,1.641103044752528,0.02950549536361005,-2.1318721666960796,-1.0425706714763656,-0.6881285360861475,0.7129372647011848,-0.41299957821847816,0.764715578317224,1.6320799119277163,0.6648963455373257,1.502186292770685,0.5717155903686859,-0.08096115022213794,1.6688301430783008,1.099781650299211,0.8677669207363187,-0.049835760740421294,-0.7937881637743242,-1.6797130681383161,-0.8745572359960498,-0.09444092644838366,1.25026970101619,-2.0408326288783494,0.40818850602513895,0.9625915949894845,0.19149098777623977,-0.5412840448442139,-0.9668667448686264,0.5369895159344095,0.4583338589453875,-0.0073253076901911825,-0.1696692115072209,-0.19499724667941787,-0.9760650430864394,0.45399599089019094,-1.438388683371131,-0.030663865329517898,-1.5185179787148289,-0.27104235629081364,1.2370207940253466,0.17549520318780185,-0.422093343206613,0.8053032459521436,1.1307406125923145,-1.2661415921852701,0.6825205226610233,-0.6866233951233202,-1.7648581385983473,-1.1252794765269931,-1.4694753261250473,0.4183908398921806,-0.8084090371479645,0.8278362870211943,-0.38093806077119186,2.1232446144391943,-0.7157103234847048,1.153458938556494,-0.8796592512734447,0.644698021217474,0.5279713712717733,2.418904656614257,-1.7570416086898197,0.6994030201855514,-0.02822940865389242,0.23331442504654712,-0.7184573666523312,0.28763082108987026,0.9558194586851085,-1.1307744435339449,0.5961646009260254,0.29319217653563767,-1.1388899044232315,-0.7596053768042313,-0.4300073438081864,0.6244910560352827,0.8010163299977416,-0.8568211136062038,-0.7896100550557182,-0.9629249914457718,-0.43639411199462874,0.001555813000358842,-0.17681091563059353,-0.5321232495662198,0.9130347810077699,0.14999294028596566,0.28951203578929724,-0.19401209846592063,-1.2577957050234982,0.5077320337947091,-0.5621704955948704,-0.7793490945044861,-0.15103745501382332,0.2372061381731799,-2.670105086556007],\"xaxis\":\"x6\",\"yaxis\":\"y6\",\"type\":\"histogram\"},{\"line\":{\"color\":\"rgba(128, 128, 128, 1.0)\",\"dash\":\"solid\",\"shape\":\"linear\",\"width\":1.3},\"marker\":{\"size\":2,\"symbol\":\"circle\"},\"mode\":\"markers\",\"name\":\"B\",\"text\":\"\",\"x\":[1.9688512544483658,-0.4670637559025583,0.21254837098282703,-0.6516910209747601,0.5283780997882954,-1.2545542878657616,1.6196262049773122,-0.0801112350530872,-0.7475681227771004,0.24469448167629484,1.6293306874438243,-0.47887637572466163,1.188573074681109,-0.7866333001968231,0.31334116043312854,-0.04375166465709195,1.098106114839438,-0.6922329600140962,-0.08678247966329718,0.5916321638693771,0.5579565061049254,-0.42895243549659184,-1.0104381884188447,-0.04696434665995022,0.5255970409910206,-0.7692651839125656,-1.1831886025318505,-0.6098739873848457,0.200073280459851,0.35597959402749435,-1.0292670748632338,-2.7344802203594774,-1.9441523009659971,0.7664776115849087,0.1400537725754366,-0.05918159770352548,0.4147534739976277,-1.2948571424125193,0.3112117882655775,0.4244149300520934,-0.5285500823654952,1.1928624338539995,-0.5399231120915295,-2.107949793256516,-0.23417733605514487,-0.9429631778221665,-0.243928139249279,-0.7478968352502519,-2.1254677052723223,1.7849810984402206,-0.4496865266673635,0.4747596939931916,1.7597641814292622,2.2169333470703787,0.23712303060237905,0.7174429594687959,0.37119755461333565,0.23200153316338043,0.002307375506775622,-0.34379379002474475,-0.8362242041614424,0.693635298620592,1.5270303697667875,-0.5615117770353253,-0.4507910051518651,2.51222992189218,0.3743225171633774,-0.6613744747982596,-1.0765990318372107,-0.9498751295308068,-0.20863538597655457,-1.2243447350782934,-0.22068181642592458,-0.9684415650560166,0.125433771321192,-0.4480610459423625,-0.11039472512050559,1.631880303908501,-0.24522734417462194,-0.46818678858719415,-0.022683988280568904,0.5677990973495867,0.5837045662577841,0.04390125624770037,0.21052547505528604,-1.0780123528381345,-0.09850335676066076,0.858282999570995,-0.3403900020407947,0.5806164343650096,0.15819115598443267,0.6058230389773845,-0.46653901272156106,0.06218512014908821,0.811881185608445,0.47530021700031944,0.8139384613908115,-0.014767467695816593,0.10243941126630765,0.41556612363657],\"xaxis\":\"x7\",\"y\":[1.7657644339687022,0.40152524610963597,-0.6490441381987168,-0.06690985466349718,-1.3836260446239395,-1.2828230670369736,1.641103044752528,0.02950549536361005,-2.1318721666960796,-1.0425706714763656,-0.6881285360861475,0.7129372647011848,-0.41299957821847816,0.764715578317224,1.6320799119277163,0.6648963455373257,1.502186292770685,0.5717155903686859,-0.08096115022213794,1.6688301430783008,1.099781650299211,0.8677669207363187,-0.049835760740421294,-0.7937881637743242,-1.6797130681383161,-0.8745572359960498,-0.09444092644838366,1.25026970101619,-2.0408326288783494,0.40818850602513895,0.9625915949894845,0.19149098777623977,-0.5412840448442139,-0.9668667448686264,0.5369895159344095,0.4583338589453875,-0.0073253076901911825,-0.1696692115072209,-0.19499724667941787,-0.9760650430864394,0.45399599089019094,-1.438388683371131,-0.030663865329517898,-1.5185179787148289,-0.27104235629081364,1.2370207940253466,0.17549520318780185,-0.422093343206613,0.8053032459521436,1.1307406125923145,-1.2661415921852701,0.6825205226610233,-0.6866233951233202,-1.7648581385983473,-1.1252794765269931,-1.4694753261250473,0.4183908398921806,-0.8084090371479645,0.8278362870211943,-0.38093806077119186,2.1232446144391943,-0.7157103234847048,1.153458938556494,-0.8796592512734447,0.644698021217474,0.5279713712717733,2.418904656614257,-1.7570416086898197,0.6994030201855514,-0.02822940865389242,0.23331442504654712,-0.7184573666523312,0.28763082108987026,0.9558194586851085,-1.1307744435339449,0.5961646009260254,0.29319217653563767,-1.1388899044232315,-0.7596053768042313,-0.4300073438081864,0.6244910560352827,0.8010163299977416,-0.8568211136062038,-0.7896100550557182,-0.9629249914457718,-0.43639411199462874,0.001555813000358842,-0.17681091563059353,-0.5321232495662198,0.9130347810077699,0.14999294028596566,0.28951203578929724,-0.19401209846592063,-1.2577957050234982,0.5077320337947091,-0.5621704955948704,-0.7793490945044861,-0.15103745501382332,0.2372061381731799,-2.670105086556007],\"yaxis\":\"y7\",\"type\":\"scatter\"},{\"line\":{\"color\":\"rgba(128, 128, 128, 1.0)\",\"dash\":\"solid\",\"shape\":\"linear\",\"width\":1.3},\"marker\":{\"size\":2,\"symbol\":\"circle\"},\"mode\":\"markers\",\"name\":\"B\",\"text\":\"\",\"x\":[-1.098285288430023,0.14958184404167088,1.2461298679584585,0.1606633336917265,-1.064338879728997,0.348695820548867,1.262583843295249,-0.2652580066333978,-2.3186208013452423,0.5680034377426191,0.8338783569185281,-0.09585283640443476,-0.46464390932887145,-2.2972444978095994,2.183909433297379,-0.013972018416402835,-0.7126676632467435,0.22922192628897645,1.637605005809018,-0.5135535537717857,-0.9261790276114082,4.174738246936915,-2.1935206929409814,2.1005090209585315,0.888072400808627,-0.1984147753111766,-0.6060905714943685,-1.378091241350273,0.10749483146196324,-1.0123953977752262,0.09650733283282696,-1.2731302613177875,-0.4085654017370767,0.2065593374355364,0.5219102699111029,0.23253206010127903,0.8022753480334646,-0.7626616617721025,-3.1738291113978567,-1.6674810426247788,-1.1462399692068828,1.0907686369810152,-0.5378591090951689,0.4648710366387402,0.23158383235184826,-1.8685527054804556,-0.0677166558648092,0.9547035877335902,0.2736767899790965,-0.24510439633762685,1.8287532241266817,-0.9869759895749884,-0.8388354194328247,1.5022029095222333,0.611225234255143,-0.24614466274467448,0.43233252564391855,-1.0501994517387059,-0.8457157432194893,0.6255056240299353,0.15667749966855699,-0.4537303101034507,0.18872694836491294,1.7568123950413166,-0.30484909598802196,-0.03899430760080177,0.9187544549747515,0.5770909461636848,0.21081839895770305,-0.09285429791354204,0.25446224307737236,-0.7419890916278661,-0.009095920170494667,0.25596074176293654,-0.025723841005877705,0.7031950797014404,0.6907715831130319,-1.7153935493262509,-0.25408157808083154,1.1979840271940898,2.951036676812776,2.1671358251555866,-0.6410759273752508,0.339982431884618,0.11364826400115999,-0.7934179783598645,-0.8679177248664283,-1.4627692201330509,-2.5736579742436296,-1.3397880382466327,0.3491660530251151,0.2569914029439571,-0.7460985291208861,-0.7465245013540494,-0.8097864569083478,-0.5456804041774364,0.5808559193030063,-0.536706453502714,0.6344186541349182,-0.5613980713435446],\"xaxis\":\"x8\",\"y\":[1.7657644339687022,0.40152524610963597,-0.6490441381987168,-0.06690985466349718,-1.3836260446239395,-1.2828230670369736,1.641103044752528,0.02950549536361005,-2.1318721666960796,-1.0425706714763656,-0.6881285360861475,0.7129372647011848,-0.41299957821847816,0.764715578317224,1.6320799119277163,0.6648963455373257,1.502186292770685,0.5717155903686859,-0.08096115022213794,1.6688301430783008,1.099781650299211,0.8677669207363187,-0.049835760740421294,-0.7937881637743242,-1.6797130681383161,-0.8745572359960498,-0.09444092644838366,1.25026970101619,-2.0408326288783494,0.40818850602513895,0.9625915949894845,0.19149098777623977,-0.5412840448442139,-0.9668667448686264,0.5369895159344095,0.4583338589453875,-0.0073253076901911825,-0.1696692115072209,-0.19499724667941787,-0.9760650430864394,0.45399599089019094,-1.438388683371131,-0.030663865329517898,-1.5185179787148289,-0.27104235629081364,1.2370207940253466,0.17549520318780185,-0.422093343206613,0.8053032459521436,1.1307406125923145,-1.2661415921852701,0.6825205226610233,-0.6866233951233202,-1.7648581385983473,-1.1252794765269931,-1.4694753261250473,0.4183908398921806,-0.8084090371479645,0.8278362870211943,-0.38093806077119186,2.1232446144391943,-0.7157103234847048,1.153458938556494,-0.8796592512734447,0.644698021217474,0.5279713712717733,2.418904656614257,-1.7570416086898197,0.6994030201855514,-0.02822940865389242,0.23331442504654712,-0.7184573666523312,0.28763082108987026,0.9558194586851085,-1.1307744435339449,0.5961646009260254,0.29319217653563767,-1.1388899044232315,-0.7596053768042313,-0.4300073438081864,0.6244910560352827,0.8010163299977416,-0.8568211136062038,-0.7896100550557182,-0.9629249914457718,-0.43639411199462874,0.001555813000358842,-0.17681091563059353,-0.5321232495662198,0.9130347810077699,0.14999294028596566,0.28951203578929724,-0.19401209846592063,-1.2577957050234982,0.5077320337947091,-0.5621704955948704,-0.7793490945044861,-0.15103745501382332,0.2372061381731799,-2.670105086556007],\"yaxis\":\"y8\",\"type\":\"scatter\"},{\"line\":{\"color\":\"rgba(128, 128, 128, 1.0)\",\"dash\":\"solid\",\"shape\":\"linear\",\"width\":1.3},\"marker\":{\"size\":2,\"symbol\":\"circle\"},\"mode\":\"markers\",\"name\":\"C\",\"text\":\"\",\"x\":[0.28294306242083767,0.7968335417349354,0.6029639109107471,-1.5650465702073828,1.304012469593769,-0.7189638548328962,-0.8342772051709019,0.22903038848035023,-0.5555919147143817,1.4140028785570107,0.94608625189099,0.9475932345276445,0.23210000912619144,-0.2017794680697094,-1.4990317076611852,-0.7842492198303922,-1.3121806301629386,-1.5962284515435832,0.2657376571207234,-0.7577841855650336,0.39706212625730386,0.6073528236931202,0.5706027636271244,0.18683438249342266,-0.7940508543522877,-0.6444701200418613,-0.2110685265220033,-0.21394613693218092,0.4534506074097498,2.438321983713647,-1.2396923531952755,-1.0338891895089748,-1.8686878644477178,1.4426106451051863,1.3829077973469637,-0.9318189639747426,-1.351996586738685,1.5595608061328485,-0.04392079133593794,-0.3249146952228359,-0.3561904783582894,-0.23101513575681648,0.08360620220848271,-0.2775960238257498,0.1827848967298999,0.526474067214003,2.8941246385052737,0.3513291582553594,1.4747419625145186,0.8114972050269655,0.3904436172676149,0.5863844172483037,0.132548984097949,-0.008685401418308297,1.5120385158724081,-0.30670267379703225,-1.4923253483617496,0.4802337079853066,-0.16507077011425983,-2.0560055890795237,0.10582411220975962,2.060496097844001,0.8634647915354526,-0.3039246066953029,0.1229316646230268,-0.038431626183908746,-1.5625482329206086,0.8026387183329571,-1.0443326064301137,-1.7441282157838378,0.4085613297272926,1.1314362749851863,-0.9655028773082579,0.6140978821152564,-0.6593952533441673,-0.34343935659321273,0.4034289175552191,1.104816451182827,0.3878510482013112,-0.743700172880391,-0.42968150080935014,-0.9391664628727731,-0.5884295473521228,-0.7177875423794414,2.1228794383459997,-0.4975295949320428,1.5496946784360939,-0.1603496989445274,-1.567367392800217,-0.1371889550701248,1.1782392321059363,-0.22356969222959078,-0.5950862468932329,0.7425841600024924,0.12691537384773105,-2.0104992712368546,0.9657266887418268,0.43111491937499125,-1.1636538720055476,0.0005153381097441173],\"xaxis\":\"x9\",\"y\":[1.9688512544483658,-0.4670637559025583,0.21254837098282703,-0.6516910209747601,0.5283780997882954,-1.2545542878657616,1.6196262049773122,-0.0801112350530872,-0.7475681227771004,0.24469448167629484,1.6293306874438243,-0.47887637572466163,1.188573074681109,-0.7866333001968231,0.31334116043312854,-0.04375166465709195,1.098106114839438,-0.6922329600140962,-0.08678247966329718,0.5916321638693771,0.5579565061049254,-0.42895243549659184,-1.0104381884188447,-0.04696434665995022,0.5255970409910206,-0.7692651839125656,-1.1831886025318505,-0.6098739873848457,0.200073280459851,0.35597959402749435,-1.0292670748632338,-2.7344802203594774,-1.9441523009659971,0.7664776115849087,0.1400537725754366,-0.05918159770352548,0.4147534739976277,-1.2948571424125193,0.3112117882655775,0.4244149300520934,-0.5285500823654952,1.1928624338539995,-0.5399231120915295,-2.107949793256516,-0.23417733605514487,-0.9429631778221665,-0.243928139249279,-0.7478968352502519,-2.1254677052723223,1.7849810984402206,-0.4496865266673635,0.4747596939931916,1.7597641814292622,2.2169333470703787,0.23712303060237905,0.7174429594687959,0.37119755461333565,0.23200153316338043,0.002307375506775622,-0.34379379002474475,-0.8362242041614424,0.693635298620592,1.5270303697667875,-0.5615117770353253,-0.4507910051518651,2.51222992189218,0.3743225171633774,-0.6613744747982596,-1.0765990318372107,-0.9498751295308068,-0.20863538597655457,-1.2243447350782934,-0.22068181642592458,-0.9684415650560166,0.125433771321192,-0.4480610459423625,-0.11039472512050559,1.631880303908501,-0.24522734417462194,-0.46818678858719415,-0.022683988280568904,0.5677990973495867,0.5837045662577841,0.04390125624770037,0.21052547505528604,-1.0780123528381345,-0.09850335676066076,0.858282999570995,-0.3403900020407947,0.5806164343650096,0.15819115598443267,0.6058230389773845,-0.46653901272156106,0.06218512014908821,0.811881185608445,0.47530021700031944,0.8139384613908115,-0.014767467695816593,0.10243941126630765,0.41556612363657],\"yaxis\":\"y9\",\"type\":\"scatter\"},{\"line\":{\"color\":\"rgba(128, 128, 128, 1.0)\",\"dash\":\"solid\",\"shape\":\"linear\",\"width\":1.3},\"marker\":{\"size\":2,\"symbol\":\"circle\"},\"mode\":\"markers\",\"name\":\"C\",\"text\":\"\",\"x\":[1.7657644339687022,0.40152524610963597,-0.6490441381987168,-0.06690985466349718,-1.3836260446239395,-1.2828230670369736,1.641103044752528,0.02950549536361005,-2.1318721666960796,-1.0425706714763656,-0.6881285360861475,0.7129372647011848,-0.41299957821847816,0.764715578317224,1.6320799119277163,0.6648963455373257,1.502186292770685,0.5717155903686859,-0.08096115022213794,1.6688301430783008,1.099781650299211,0.8677669207363187,-0.049835760740421294,-0.7937881637743242,-1.6797130681383161,-0.8745572359960498,-0.09444092644838366,1.25026970101619,-2.0408326288783494,0.40818850602513895,0.9625915949894845,0.19149098777623977,-0.5412840448442139,-0.9668667448686264,0.5369895159344095,0.4583338589453875,-0.0073253076901911825,-0.1696692115072209,-0.19499724667941787,-0.9760650430864394,0.45399599089019094,-1.438388683371131,-0.030663865329517898,-1.5185179787148289,-0.27104235629081364,1.2370207940253466,0.17549520318780185,-0.422093343206613,0.8053032459521436,1.1307406125923145,-1.2661415921852701,0.6825205226610233,-0.6866233951233202,-1.7648581385983473,-1.1252794765269931,-1.4694753261250473,0.4183908398921806,-0.8084090371479645,0.8278362870211943,-0.38093806077119186,2.1232446144391943,-0.7157103234847048,1.153458938556494,-0.8796592512734447,0.644698021217474,0.5279713712717733,2.418904656614257,-1.7570416086898197,0.6994030201855514,-0.02822940865389242,0.23331442504654712,-0.7184573666523312,0.28763082108987026,0.9558194586851085,-1.1307744435339449,0.5961646009260254,0.29319217653563767,-1.1388899044232315,-0.7596053768042313,-0.4300073438081864,0.6244910560352827,0.8010163299977416,-0.8568211136062038,-0.7896100550557182,-0.9629249914457718,-0.43639411199462874,0.001555813000358842,-0.17681091563059353,-0.5321232495662198,0.9130347810077699,0.14999294028596566,0.28951203578929724,-0.19401209846592063,-1.2577957050234982,0.5077320337947091,-0.5621704955948704,-0.7793490945044861,-0.15103745501382332,0.2372061381731799,-2.670105086556007],\"xaxis\":\"x10\",\"y\":[1.9688512544483658,-0.4670637559025583,0.21254837098282703,-0.6516910209747601,0.5283780997882954,-1.2545542878657616,1.6196262049773122,-0.0801112350530872,-0.7475681227771004,0.24469448167629484,1.6293306874438243,-0.47887637572466163,1.188573074681109,-0.7866333001968231,0.31334116043312854,-0.04375166465709195,1.098106114839438,-0.6922329600140962,-0.08678247966329718,0.5916321638693771,0.5579565061049254,-0.42895243549659184,-1.0104381884188447,-0.04696434665995022,0.5255970409910206,-0.7692651839125656,-1.1831886025318505,-0.6098739873848457,0.200073280459851,0.35597959402749435,-1.0292670748632338,-2.7344802203594774,-1.9441523009659971,0.7664776115849087,0.1400537725754366,-0.05918159770352548,0.4147534739976277,-1.2948571424125193,0.3112117882655775,0.4244149300520934,-0.5285500823654952,1.1928624338539995,-0.5399231120915295,-2.107949793256516,-0.23417733605514487,-0.9429631778221665,-0.243928139249279,-0.7478968352502519,-2.1254677052723223,1.7849810984402206,-0.4496865266673635,0.4747596939931916,1.7597641814292622,2.2169333470703787,0.23712303060237905,0.7174429594687959,0.37119755461333565,0.23200153316338043,0.002307375506775622,-0.34379379002474475,-0.8362242041614424,0.693635298620592,1.5270303697667875,-0.5615117770353253,-0.4507910051518651,2.51222992189218,0.3743225171633774,-0.6613744747982596,-1.0765990318372107,-0.9498751295308068,-0.20863538597655457,-1.2243447350782934,-0.22068181642592458,-0.9684415650560166,0.125433771321192,-0.4480610459423625,-0.11039472512050559,1.631880303908501,-0.24522734417462194,-0.46818678858719415,-0.022683988280568904,0.5677990973495867,0.5837045662577841,0.04390125624770037,0.21052547505528604,-1.0780123528381345,-0.09850335676066076,0.858282999570995,-0.3403900020407947,0.5806164343650096,0.15819115598443267,0.6058230389773845,-0.46653901272156106,0.06218512014908821,0.811881185608445,0.47530021700031944,0.8139384613908115,-0.014767467695816593,0.10243941126630765,0.41556612363657],\"yaxis\":\"y10\",\"type\":\"scatter\"},{\"histfunc\":\"count\",\"histnorm\":\"\",\"marker\":{\"color\":\"rgba(50, 171, 96, 1.0)\",\"line\":{\"color\":\"#4D5663\",\"width\":1.3}},\"name\":\"C\",\"nbinsx\":10,\"opacity\":0.8,\"orientation\":\"v\",\"x\":[1.9688512544483658,-0.4670637559025583,0.21254837098282703,-0.6516910209747601,0.5283780997882954,-1.2545542878657616,1.6196262049773122,-0.0801112350530872,-0.7475681227771004,0.24469448167629484,1.6293306874438243,-0.47887637572466163,1.188573074681109,-0.7866333001968231,0.31334116043312854,-0.04375166465709195,1.098106114839438,-0.6922329600140962,-0.08678247966329718,0.5916321638693771,0.5579565061049254,-0.42895243549659184,-1.0104381884188447,-0.04696434665995022,0.5255970409910206,-0.7692651839125656,-1.1831886025318505,-0.6098739873848457,0.200073280459851,0.35597959402749435,-1.0292670748632338,-2.7344802203594774,-1.9441523009659971,0.7664776115849087,0.1400537725754366,-0.05918159770352548,0.4147534739976277,-1.2948571424125193,0.3112117882655775,0.4244149300520934,-0.5285500823654952,1.1928624338539995,-0.5399231120915295,-2.107949793256516,-0.23417733605514487,-0.9429631778221665,-0.243928139249279,-0.7478968352502519,-2.1254677052723223,1.7849810984402206,-0.4496865266673635,0.4747596939931916,1.7597641814292622,2.2169333470703787,0.23712303060237905,0.7174429594687959,0.37119755461333565,0.23200153316338043,0.002307375506775622,-0.34379379002474475,-0.8362242041614424,0.693635298620592,1.5270303697667875,-0.5615117770353253,-0.4507910051518651,2.51222992189218,0.3743225171633774,-0.6613744747982596,-1.0765990318372107,-0.9498751295308068,-0.20863538597655457,-1.2243447350782934,-0.22068181642592458,-0.9684415650560166,0.125433771321192,-0.4480610459423625,-0.11039472512050559,1.631880303908501,-0.24522734417462194,-0.46818678858719415,-0.022683988280568904,0.5677990973495867,0.5837045662577841,0.04390125624770037,0.21052547505528604,-1.0780123528381345,-0.09850335676066076,0.858282999570995,-0.3403900020407947,0.5806164343650096,0.15819115598443267,0.6058230389773845,-0.46653901272156106,0.06218512014908821,0.811881185608445,0.47530021700031944,0.8139384613908115,-0.014767467695816593,0.10243941126630765,0.41556612363657],\"xaxis\":\"x11\",\"yaxis\":\"y11\",\"type\":\"histogram\"},{\"line\":{\"color\":\"rgba(128, 128, 128, 1.0)\",\"dash\":\"solid\",\"shape\":\"linear\",\"width\":1.3},\"marker\":{\"size\":2,\"symbol\":\"circle\"},\"mode\":\"markers\",\"name\":\"C\",\"text\":\"\",\"x\":[-1.098285288430023,0.14958184404167088,1.2461298679584585,0.1606633336917265,-1.064338879728997,0.348695820548867,1.262583843295249,-0.2652580066333978,-2.3186208013452423,0.5680034377426191,0.8338783569185281,-0.09585283640443476,-0.46464390932887145,-2.2972444978095994,2.183909433297379,-0.013972018416402835,-0.7126676632467435,0.22922192628897645,1.637605005809018,-0.5135535537717857,-0.9261790276114082,4.174738246936915,-2.1935206929409814,2.1005090209585315,0.888072400808627,-0.1984147753111766,-0.6060905714943685,-1.378091241350273,0.10749483146196324,-1.0123953977752262,0.09650733283282696,-1.2731302613177875,-0.4085654017370767,0.2065593374355364,0.5219102699111029,0.23253206010127903,0.8022753480334646,-0.7626616617721025,-3.1738291113978567,-1.6674810426247788,-1.1462399692068828,1.0907686369810152,-0.5378591090951689,0.4648710366387402,0.23158383235184826,-1.8685527054804556,-0.0677166558648092,0.9547035877335902,0.2736767899790965,-0.24510439633762685,1.8287532241266817,-0.9869759895749884,-0.8388354194328247,1.5022029095222333,0.611225234255143,-0.24614466274467448,0.43233252564391855,-1.0501994517387059,-0.8457157432194893,0.6255056240299353,0.15667749966855699,-0.4537303101034507,0.18872694836491294,1.7568123950413166,-0.30484909598802196,-0.03899430760080177,0.9187544549747515,0.5770909461636848,0.21081839895770305,-0.09285429791354204,0.25446224307737236,-0.7419890916278661,-0.009095920170494667,0.25596074176293654,-0.025723841005877705,0.7031950797014404,0.6907715831130319,-1.7153935493262509,-0.25408157808083154,1.1979840271940898,2.951036676812776,2.1671358251555866,-0.6410759273752508,0.339982431884618,0.11364826400115999,-0.7934179783598645,-0.8679177248664283,-1.4627692201330509,-2.5736579742436296,-1.3397880382466327,0.3491660530251151,0.2569914029439571,-0.7460985291208861,-0.7465245013540494,-0.8097864569083478,-0.5456804041774364,0.5808559193030063,-0.536706453502714,0.6344186541349182,-0.5613980713435446],\"xaxis\":\"x12\",\"y\":[1.9688512544483658,-0.4670637559025583,0.21254837098282703,-0.6516910209747601,0.5283780997882954,-1.2545542878657616,1.6196262049773122,-0.0801112350530872,-0.7475681227771004,0.24469448167629484,1.6293306874438243,-0.47887637572466163,1.188573074681109,-0.7866333001968231,0.31334116043312854,-0.04375166465709195,1.098106114839438,-0.6922329600140962,-0.08678247966329718,0.5916321638693771,0.5579565061049254,-0.42895243549659184,-1.0104381884188447,-0.04696434665995022,0.5255970409910206,-0.7692651839125656,-1.1831886025318505,-0.6098739873848457,0.200073280459851,0.35597959402749435,-1.0292670748632338,-2.7344802203594774,-1.9441523009659971,0.7664776115849087,0.1400537725754366,-0.05918159770352548,0.4147534739976277,-1.2948571424125193,0.3112117882655775,0.4244149300520934,-0.5285500823654952,1.1928624338539995,-0.5399231120915295,-2.107949793256516,-0.23417733605514487,-0.9429631778221665,-0.243928139249279,-0.7478968352502519,-2.1254677052723223,1.7849810984402206,-0.4496865266673635,0.4747596939931916,1.7597641814292622,2.2169333470703787,0.23712303060237905,0.7174429594687959,0.37119755461333565,0.23200153316338043,0.002307375506775622,-0.34379379002474475,-0.8362242041614424,0.693635298620592,1.5270303697667875,-0.5615117770353253,-0.4507910051518651,2.51222992189218,0.3743225171633774,-0.6613744747982596,-1.0765990318372107,-0.9498751295308068,-0.20863538597655457,-1.2243447350782934,-0.22068181642592458,-0.9684415650560166,0.125433771321192,-0.4480610459423625,-0.11039472512050559,1.631880303908501,-0.24522734417462194,-0.46818678858719415,-0.022683988280568904,0.5677990973495867,0.5837045662577841,0.04390125624770037,0.21052547505528604,-1.0780123528381345,-0.09850335676066076,0.858282999570995,-0.3403900020407947,0.5806164343650096,0.15819115598443267,0.6058230389773845,-0.46653901272156106,0.06218512014908821,0.811881185608445,0.47530021700031944,0.8139384613908115,-0.014767467695816593,0.10243941126630765,0.41556612363657],\"yaxis\":\"y12\",\"type\":\"scatter\"},{\"line\":{\"color\":\"rgba(128, 128, 128, 1.0)\",\"dash\":\"solid\",\"shape\":\"linear\",\"width\":1.3},\"marker\":{\"size\":2,\"symbol\":\"circle\"},\"mode\":\"markers\",\"name\":\"D\",\"text\":\"\",\"x\":[0.28294306242083767,0.7968335417349354,0.6029639109107471,-1.5650465702073828,1.304012469593769,-0.7189638548328962,-0.8342772051709019,0.22903038848035023,-0.5555919147143817,1.4140028785570107,0.94608625189099,0.9475932345276445,0.23210000912619144,-0.2017794680697094,-1.4990317076611852,-0.7842492198303922,-1.3121806301629386,-1.5962284515435832,0.2657376571207234,-0.7577841855650336,0.39706212625730386,0.6073528236931202,0.5706027636271244,0.18683438249342266,-0.7940508543522877,-0.6444701200418613,-0.2110685265220033,-0.21394613693218092,0.4534506074097498,2.438321983713647,-1.2396923531952755,-1.0338891895089748,-1.8686878644477178,1.4426106451051863,1.3829077973469637,-0.9318189639747426,-1.351996586738685,1.5595608061328485,-0.04392079133593794,-0.3249146952228359,-0.3561904783582894,-0.23101513575681648,0.08360620220848271,-0.2775960238257498,0.1827848967298999,0.526474067214003,2.8941246385052737,0.3513291582553594,1.4747419625145186,0.8114972050269655,0.3904436172676149,0.5863844172483037,0.132548984097949,-0.008685401418308297,1.5120385158724081,-0.30670267379703225,-1.4923253483617496,0.4802337079853066,-0.16507077011425983,-2.0560055890795237,0.10582411220975962,2.060496097844001,0.8634647915354526,-0.3039246066953029,0.1229316646230268,-0.038431626183908746,-1.5625482329206086,0.8026387183329571,-1.0443326064301137,-1.7441282157838378,0.4085613297272926,1.1314362749851863,-0.9655028773082579,0.6140978821152564,-0.6593952533441673,-0.34343935659321273,0.4034289175552191,1.104816451182827,0.3878510482013112,-0.743700172880391,-0.42968150080935014,-0.9391664628727731,-0.5884295473521228,-0.7177875423794414,2.1228794383459997,-0.4975295949320428,1.5496946784360939,-0.1603496989445274,-1.567367392800217,-0.1371889550701248,1.1782392321059363,-0.22356969222959078,-0.5950862468932329,0.7425841600024924,0.12691537384773105,-2.0104992712368546,0.9657266887418268,0.43111491937499125,-1.1636538720055476,0.0005153381097441173],\"xaxis\":\"x13\",\"y\":[-1.098285288430023,0.14958184404167088,1.2461298679584585,0.1606633336917265,-1.064338879728997,0.348695820548867,1.262583843295249,-0.2652580066333978,-2.3186208013452423,0.5680034377426191,0.8338783569185281,-0.09585283640443476,-0.46464390932887145,-2.2972444978095994,2.183909433297379,-0.013972018416402835,-0.7126676632467435,0.22922192628897645,1.637605005809018,-0.5135535537717857,-0.9261790276114082,4.174738246936915,-2.1935206929409814,2.1005090209585315,0.888072400808627,-0.1984147753111766,-0.6060905714943685,-1.378091241350273,0.10749483146196324,-1.0123953977752262,0.09650733283282696,-1.2731302613177875,-0.4085654017370767,0.2065593374355364,0.5219102699111029,0.23253206010127903,0.8022753480334646,-0.7626616617721025,-3.1738291113978567,-1.6674810426247788,-1.1462399692068828,1.0907686369810152,-0.5378591090951689,0.4648710366387402,0.23158383235184826,-1.8685527054804556,-0.0677166558648092,0.9547035877335902,0.2736767899790965,-0.24510439633762685,1.8287532241266817,-0.9869759895749884,-0.8388354194328247,1.5022029095222333,0.611225234255143,-0.24614466274467448,0.43233252564391855,-1.0501994517387059,-0.8457157432194893,0.6255056240299353,0.15667749966855699,-0.4537303101034507,0.18872694836491294,1.7568123950413166,-0.30484909598802196,-0.03899430760080177,0.9187544549747515,0.5770909461636848,0.21081839895770305,-0.09285429791354204,0.25446224307737236,-0.7419890916278661,-0.009095920170494667,0.25596074176293654,-0.025723841005877705,0.7031950797014404,0.6907715831130319,-1.7153935493262509,-0.25408157808083154,1.1979840271940898,2.951036676812776,2.1671358251555866,-0.6410759273752508,0.339982431884618,0.11364826400115999,-0.7934179783598645,-0.8679177248664283,-1.4627692201330509,-2.5736579742436296,-1.3397880382466327,0.3491660530251151,0.2569914029439571,-0.7460985291208861,-0.7465245013540494,-0.8097864569083478,-0.5456804041774364,0.5808559193030063,-0.536706453502714,0.6344186541349182,-0.5613980713435446],\"yaxis\":\"y13\",\"type\":\"scatter\"},{\"line\":{\"color\":\"rgba(128, 128, 128, 1.0)\",\"dash\":\"solid\",\"shape\":\"linear\",\"width\":1.3},\"marker\":{\"size\":2,\"symbol\":\"circle\"},\"mode\":\"markers\",\"name\":\"D\",\"text\":\"\",\"x\":[1.7657644339687022,0.40152524610963597,-0.6490441381987168,-0.06690985466349718,-1.3836260446239395,-1.2828230670369736,1.641103044752528,0.02950549536361005,-2.1318721666960796,-1.0425706714763656,-0.6881285360861475,0.7129372647011848,-0.41299957821847816,0.764715578317224,1.6320799119277163,0.6648963455373257,1.502186292770685,0.5717155903686859,-0.08096115022213794,1.6688301430783008,1.099781650299211,0.8677669207363187,-0.049835760740421294,-0.7937881637743242,-1.6797130681383161,-0.8745572359960498,-0.09444092644838366,1.25026970101619,-2.0408326288783494,0.40818850602513895,0.9625915949894845,0.19149098777623977,-0.5412840448442139,-0.9668667448686264,0.5369895159344095,0.4583338589453875,-0.0073253076901911825,-0.1696692115072209,-0.19499724667941787,-0.9760650430864394,0.45399599089019094,-1.438388683371131,-0.030663865329517898,-1.5185179787148289,-0.27104235629081364,1.2370207940253466,0.17549520318780185,-0.422093343206613,0.8053032459521436,1.1307406125923145,-1.2661415921852701,0.6825205226610233,-0.6866233951233202,-1.7648581385983473,-1.1252794765269931,-1.4694753261250473,0.4183908398921806,-0.8084090371479645,0.8278362870211943,-0.38093806077119186,2.1232446144391943,-0.7157103234847048,1.153458938556494,-0.8796592512734447,0.644698021217474,0.5279713712717733,2.418904656614257,-1.7570416086898197,0.6994030201855514,-0.02822940865389242,0.23331442504654712,-0.7184573666523312,0.28763082108987026,0.9558194586851085,-1.1307744435339449,0.5961646009260254,0.29319217653563767,-1.1388899044232315,-0.7596053768042313,-0.4300073438081864,0.6244910560352827,0.8010163299977416,-0.8568211136062038,-0.7896100550557182,-0.9629249914457718,-0.43639411199462874,0.001555813000358842,-0.17681091563059353,-0.5321232495662198,0.9130347810077699,0.14999294028596566,0.28951203578929724,-0.19401209846592063,-1.2577957050234982,0.5077320337947091,-0.5621704955948704,-0.7793490945044861,-0.15103745501382332,0.2372061381731799,-2.670105086556007],\"xaxis\":\"x14\",\"y\":[-1.098285288430023,0.14958184404167088,1.2461298679584585,0.1606633336917265,-1.064338879728997,0.348695820548867,1.262583843295249,-0.2652580066333978,-2.3186208013452423,0.5680034377426191,0.8338783569185281,-0.09585283640443476,-0.46464390932887145,-2.2972444978095994,2.183909433297379,-0.013972018416402835,-0.7126676632467435,0.22922192628897645,1.637605005809018,-0.5135535537717857,-0.9261790276114082,4.174738246936915,-2.1935206929409814,2.1005090209585315,0.888072400808627,-0.1984147753111766,-0.6060905714943685,-1.378091241350273,0.10749483146196324,-1.0123953977752262,0.09650733283282696,-1.2731302613177875,-0.4085654017370767,0.2065593374355364,0.5219102699111029,0.23253206010127903,0.8022753480334646,-0.7626616617721025,-3.1738291113978567,-1.6674810426247788,-1.1462399692068828,1.0907686369810152,-0.5378591090951689,0.4648710366387402,0.23158383235184826,-1.8685527054804556,-0.0677166558648092,0.9547035877335902,0.2736767899790965,-0.24510439633762685,1.8287532241266817,-0.9869759895749884,-0.8388354194328247,1.5022029095222333,0.611225234255143,-0.24614466274467448,0.43233252564391855,-1.0501994517387059,-0.8457157432194893,0.6255056240299353,0.15667749966855699,-0.4537303101034507,0.18872694836491294,1.7568123950413166,-0.30484909598802196,-0.03899430760080177,0.9187544549747515,0.5770909461636848,0.21081839895770305,-0.09285429791354204,0.25446224307737236,-0.7419890916278661,-0.009095920170494667,0.25596074176293654,-0.025723841005877705,0.7031950797014404,0.6907715831130319,-1.7153935493262509,-0.25408157808083154,1.1979840271940898,2.951036676812776,2.1671358251555866,-0.6410759273752508,0.339982431884618,0.11364826400115999,-0.7934179783598645,-0.8679177248664283,-1.4627692201330509,-2.5736579742436296,-1.3397880382466327,0.3491660530251151,0.2569914029439571,-0.7460985291208861,-0.7465245013540494,-0.8097864569083478,-0.5456804041774364,0.5808559193030063,-0.536706453502714,0.6344186541349182,-0.5613980713435446],\"yaxis\":\"y14\",\"type\":\"scatter\"},{\"line\":{\"color\":\"rgba(128, 128, 128, 1.0)\",\"dash\":\"solid\",\"shape\":\"linear\",\"width\":1.3},\"marker\":{\"size\":2,\"symbol\":\"circle\"},\"mode\":\"markers\",\"name\":\"D\",\"text\":\"\",\"x\":[1.9688512544483658,-0.4670637559025583,0.21254837098282703,-0.6516910209747601,0.5283780997882954,-1.2545542878657616,1.6196262049773122,-0.0801112350530872,-0.7475681227771004,0.24469448167629484,1.6293306874438243,-0.47887637572466163,1.188573074681109,-0.7866333001968231,0.31334116043312854,-0.04375166465709195,1.098106114839438,-0.6922329600140962,-0.08678247966329718,0.5916321638693771,0.5579565061049254,-0.42895243549659184,-1.0104381884188447,-0.04696434665995022,0.5255970409910206,-0.7692651839125656,-1.1831886025318505,-0.6098739873848457,0.200073280459851,0.35597959402749435,-1.0292670748632338,-2.7344802203594774,-1.9441523009659971,0.7664776115849087,0.1400537725754366,-0.05918159770352548,0.4147534739976277,-1.2948571424125193,0.3112117882655775,0.4244149300520934,-0.5285500823654952,1.1928624338539995,-0.5399231120915295,-2.107949793256516,-0.23417733605514487,-0.9429631778221665,-0.243928139249279,-0.7478968352502519,-2.1254677052723223,1.7849810984402206,-0.4496865266673635,0.4747596939931916,1.7597641814292622,2.2169333470703787,0.23712303060237905,0.7174429594687959,0.37119755461333565,0.23200153316338043,0.002307375506775622,-0.34379379002474475,-0.8362242041614424,0.693635298620592,1.5270303697667875,-0.5615117770353253,-0.4507910051518651,2.51222992189218,0.3743225171633774,-0.6613744747982596,-1.0765990318372107,-0.9498751295308068,-0.20863538597655457,-1.2243447350782934,-0.22068181642592458,-0.9684415650560166,0.125433771321192,-0.4480610459423625,-0.11039472512050559,1.631880303908501,-0.24522734417462194,-0.46818678858719415,-0.022683988280568904,0.5677990973495867,0.5837045662577841,0.04390125624770037,0.21052547505528604,-1.0780123528381345,-0.09850335676066076,0.858282999570995,-0.3403900020407947,0.5806164343650096,0.15819115598443267,0.6058230389773845,-0.46653901272156106,0.06218512014908821,0.811881185608445,0.47530021700031944,0.8139384613908115,-0.014767467695816593,0.10243941126630765,0.41556612363657],\"xaxis\":\"x15\",\"y\":[-1.098285288430023,0.14958184404167088,1.2461298679584585,0.1606633336917265,-1.064338879728997,0.348695820548867,1.262583843295249,-0.2652580066333978,-2.3186208013452423,0.5680034377426191,0.8338783569185281,-0.09585283640443476,-0.46464390932887145,-2.2972444978095994,2.183909433297379,-0.013972018416402835,-0.7126676632467435,0.22922192628897645,1.637605005809018,-0.5135535537717857,-0.9261790276114082,4.174738246936915,-2.1935206929409814,2.1005090209585315,0.888072400808627,-0.1984147753111766,-0.6060905714943685,-1.378091241350273,0.10749483146196324,-1.0123953977752262,0.09650733283282696,-1.2731302613177875,-0.4085654017370767,0.2065593374355364,0.5219102699111029,0.23253206010127903,0.8022753480334646,-0.7626616617721025,-3.1738291113978567,-1.6674810426247788,-1.1462399692068828,1.0907686369810152,-0.5378591090951689,0.4648710366387402,0.23158383235184826,-1.8685527054804556,-0.0677166558648092,0.9547035877335902,0.2736767899790965,-0.24510439633762685,1.8287532241266817,-0.9869759895749884,-0.8388354194328247,1.5022029095222333,0.611225234255143,-0.24614466274467448,0.43233252564391855,-1.0501994517387059,-0.8457157432194893,0.6255056240299353,0.15667749966855699,-0.4537303101034507,0.18872694836491294,1.7568123950413166,-0.30484909598802196,-0.03899430760080177,0.9187544549747515,0.5770909461636848,0.21081839895770305,-0.09285429791354204,0.25446224307737236,-0.7419890916278661,-0.009095920170494667,0.25596074176293654,-0.025723841005877705,0.7031950797014404,0.6907715831130319,-1.7153935493262509,-0.25408157808083154,1.1979840271940898,2.951036676812776,2.1671358251555866,-0.6410759273752508,0.339982431884618,0.11364826400115999,-0.7934179783598645,-0.8679177248664283,-1.4627692201330509,-2.5736579742436296,-1.3397880382466327,0.3491660530251151,0.2569914029439571,-0.7460985291208861,-0.7465245013540494,-0.8097864569083478,-0.5456804041774364,0.5808559193030063,-0.536706453502714,0.6344186541349182,-0.5613980713435446],\"yaxis\":\"y15\",\"type\":\"scatter\"},{\"histfunc\":\"count\",\"histnorm\":\"\",\"marker\":{\"color\":\"rgba(128, 0, 128, 1.0)\",\"line\":{\"color\":\"#4D5663\",\"width\":1.3}},\"name\":\"D\",\"nbinsx\":10,\"opacity\":0.8,\"orientation\":\"v\",\"x\":[-1.098285288430023,0.14958184404167088,1.2461298679584585,0.1606633336917265,-1.064338879728997,0.348695820548867,1.262583843295249,-0.2652580066333978,-2.3186208013452423,0.5680034377426191,0.8338783569185281,-0.09585283640443476,-0.46464390932887145,-2.2972444978095994,2.183909433297379,-0.013972018416402835,-0.7126676632467435,0.22922192628897645,1.637605005809018,-0.5135535537717857,-0.9261790276114082,4.174738246936915,-2.1935206929409814,2.1005090209585315,0.888072400808627,-0.1984147753111766,-0.6060905714943685,-1.378091241350273,0.10749483146196324,-1.0123953977752262,0.09650733283282696,-1.2731302613177875,-0.4085654017370767,0.2065593374355364,0.5219102699111029,0.23253206010127903,0.8022753480334646,-0.7626616617721025,-3.1738291113978567,-1.6674810426247788,-1.1462399692068828,1.0907686369810152,-0.5378591090951689,0.4648710366387402,0.23158383235184826,-1.8685527054804556,-0.0677166558648092,0.9547035877335902,0.2736767899790965,-0.24510439633762685,1.8287532241266817,-0.9869759895749884,-0.8388354194328247,1.5022029095222333,0.611225234255143,-0.24614466274467448,0.43233252564391855,-1.0501994517387059,-0.8457157432194893,0.6255056240299353,0.15667749966855699,-0.4537303101034507,0.18872694836491294,1.7568123950413166,-0.30484909598802196,-0.03899430760080177,0.9187544549747515,0.5770909461636848,0.21081839895770305,-0.09285429791354204,0.25446224307737236,-0.7419890916278661,-0.009095920170494667,0.25596074176293654,-0.025723841005877705,0.7031950797014404,0.6907715831130319,-1.7153935493262509,-0.25408157808083154,1.1979840271940898,2.951036676812776,2.1671358251555866,-0.6410759273752508,0.339982431884618,0.11364826400115999,-0.7934179783598645,-0.8679177248664283,-1.4627692201330509,-2.5736579742436296,-1.3397880382466327,0.3491660530251151,0.2569914029439571,-0.7460985291208861,-0.7465245013540494,-0.8097864569083478,-0.5456804041774364,0.5808559193030063,-0.536706453502714,0.6344186541349182,-0.5613980713435446],\"xaxis\":\"x16\",\"yaxis\":\"y16\",\"type\":\"histogram\"}],                        {\"bargap\":0.02,\"legend\":{\"bgcolor\":\"#F5F6F9\",\"font\":{\"color\":\"#4D5663\"}},\"paper_bgcolor\":\"#F5F6F9\",\"plot_bgcolor\":\"#F5F6F9\",\"showlegend\":false,\"template\":{\"data\":{\"barpolar\":[{\"marker\":{\"line\":{\"color\":\"rgb(17,17,17)\",\"width\":0.5},\"pattern\":{\"fillmode\":\"overlay\",\"size\":10,\"solidity\":0.2}},\"type\":\"barpolar\"}],\"bar\":[{\"error_x\":{\"color\":\"#f2f5fa\"},\"error_y\":{\"color\":\"#f2f5fa\"},\"marker\":{\"line\":{\"color\":\"rgb(17,17,17)\",\"width\":0.5},\"pattern\":{\"fillmode\":\"overlay\",\"size\":10,\"solidity\":0.2}},\"type\":\"bar\"}],\"carpet\":[{\"aaxis\":{\"endlinecolor\":\"#A2B1C6\",\"gridcolor\":\"#506784\",\"linecolor\":\"#506784\",\"minorgridcolor\":\"#506784\",\"startlinecolor\":\"#A2B1C6\"},\"baxis\":{\"endlinecolor\":\"#A2B1C6\",\"gridcolor\":\"#506784\",\"linecolor\":\"#506784\",\"minorgridcolor\":\"#506784\",\"startlinecolor\":\"#A2B1C6\"},\"type\":\"carpet\"}],\"choropleth\":[{\"colorbar\":{\"outlinewidth\":0,\"ticks\":\"\"},\"type\":\"choropleth\"}],\"contourcarpet\":[{\"colorbar\":{\"outlinewidth\":0,\"ticks\":\"\"},\"type\":\"contourcarpet\"}],\"contour\":[{\"colorbar\":{\"outlinewidth\":0,\"ticks\":\"\"},\"colorscale\":[[0.0,\"#0d0887\"],[0.1111111111111111,\"#46039f\"],[0.2222222222222222,\"#7201a8\"],[0.3333333333333333,\"#9c179e\"],[0.4444444444444444,\"#bd3786\"],[0.5555555555555556,\"#d8576b\"],[0.6666666666666666,\"#ed7953\"],[0.7777777777777778,\"#fb9f3a\"],[0.8888888888888888,\"#fdca26\"],[1.0,\"#f0f921\"]],\"type\":\"contour\"}],\"heatmapgl\":[{\"colorbar\":{\"outlinewidth\":0,\"ticks\":\"\"},\"colorscale\":[[0.0,\"#0d0887\"],[0.1111111111111111,\"#46039f\"],[0.2222222222222222,\"#7201a8\"],[0.3333333333333333,\"#9c179e\"],[0.4444444444444444,\"#bd3786\"],[0.5555555555555556,\"#d8576b\"],[0.6666666666666666,\"#ed7953\"],[0.7777777777777778,\"#fb9f3a\"],[0.8888888888888888,\"#fdca26\"],[1.0,\"#f0f921\"]],\"type\":\"heatmapgl\"}],\"heatmap\":[{\"colorbar\":{\"outlinewidth\":0,\"ticks\":\"\"},\"colorscale\":[[0.0,\"#0d0887\"],[0.1111111111111111,\"#46039f\"],[0.2222222222222222,\"#7201a8\"],[0.3333333333333333,\"#9c179e\"],[0.4444444444444444,\"#bd3786\"],[0.5555555555555556,\"#d8576b\"],[0.6666666666666666,\"#ed7953\"],[0.7777777777777778,\"#fb9f3a\"],[0.8888888888888888,\"#fdca26\"],[1.0,\"#f0f921\"]],\"type\":\"heatmap\"}],\"histogram2dcontour\":[{\"colorbar\":{\"outlinewidth\":0,\"ticks\":\"\"},\"colorscale\":[[0.0,\"#0d0887\"],[0.1111111111111111,\"#46039f\"],[0.2222222222222222,\"#7201a8\"],[0.3333333333333333,\"#9c179e\"],[0.4444444444444444,\"#bd3786\"],[0.5555555555555556,\"#d8576b\"],[0.6666666666666666,\"#ed7953\"],[0.7777777777777778,\"#fb9f3a\"],[0.8888888888888888,\"#fdca26\"],[1.0,\"#f0f921\"]],\"type\":\"histogram2dcontour\"}],\"histogram2d\":[{\"colorbar\":{\"outlinewidth\":0,\"ticks\":\"\"},\"colorscale\":[[0.0,\"#0d0887\"],[0.1111111111111111,\"#46039f\"],[0.2222222222222222,\"#7201a8\"],[0.3333333333333333,\"#9c179e\"],[0.4444444444444444,\"#bd3786\"],[0.5555555555555556,\"#d8576b\"],[0.6666666666666666,\"#ed7953\"],[0.7777777777777778,\"#fb9f3a\"],[0.8888888888888888,\"#fdca26\"],[1.0,\"#f0f921\"]],\"type\":\"histogram2d\"}],\"histogram\":[{\"marker\":{\"pattern\":{\"fillmode\":\"overlay\",\"size\":10,\"solidity\":0.2}},\"type\":\"histogram\"}],\"mesh3d\":[{\"colorbar\":{\"outlinewidth\":0,\"ticks\":\"\"},\"type\":\"mesh3d\"}],\"parcoords\":[{\"line\":{\"colorbar\":{\"outlinewidth\":0,\"ticks\":\"\"}},\"type\":\"parcoords\"}],\"pie\":[{\"automargin\":true,\"type\":\"pie\"}],\"scatter3d\":[{\"line\":{\"colorbar\":{\"outlinewidth\":0,\"ticks\":\"\"}},\"marker\":{\"colorbar\":{\"outlinewidth\":0,\"ticks\":\"\"}},\"type\":\"scatter3d\"}],\"scattercarpet\":[{\"marker\":{\"colorbar\":{\"outlinewidth\":0,\"ticks\":\"\"}},\"type\":\"scattercarpet\"}],\"scattergeo\":[{\"marker\":{\"colorbar\":{\"outlinewidth\":0,\"ticks\":\"\"}},\"type\":\"scattergeo\"}],\"scattergl\":[{\"marker\":{\"line\":{\"color\":\"#283442\"}},\"type\":\"scattergl\"}],\"scattermapbox\":[{\"marker\":{\"colorbar\":{\"outlinewidth\":0,\"ticks\":\"\"}},\"type\":\"scattermapbox\"}],\"scatterpolargl\":[{\"marker\":{\"colorbar\":{\"outlinewidth\":0,\"ticks\":\"\"}},\"type\":\"scatterpolargl\"}],\"scatterpolar\":[{\"marker\":{\"colorbar\":{\"outlinewidth\":0,\"ticks\":\"\"}},\"type\":\"scatterpolar\"}],\"scatter\":[{\"marker\":{\"line\":{\"color\":\"#283442\"}},\"type\":\"scatter\"}],\"scatterternary\":[{\"marker\":{\"colorbar\":{\"outlinewidth\":0,\"ticks\":\"\"}},\"type\":\"scatterternary\"}],\"surface\":[{\"colorbar\":{\"outlinewidth\":0,\"ticks\":\"\"},\"colorscale\":[[0.0,\"#0d0887\"],[0.1111111111111111,\"#46039f\"],[0.2222222222222222,\"#7201a8\"],[0.3333333333333333,\"#9c179e\"],[0.4444444444444444,\"#bd3786\"],[0.5555555555555556,\"#d8576b\"],[0.6666666666666666,\"#ed7953\"],[0.7777777777777778,\"#fb9f3a\"],[0.8888888888888888,\"#fdca26\"],[1.0,\"#f0f921\"]],\"type\":\"surface\"}],\"table\":[{\"cells\":{\"fill\":{\"color\":\"#506784\"},\"line\":{\"color\":\"rgb(17,17,17)\"}},\"header\":{\"fill\":{\"color\":\"#2a3f5f\"},\"line\":{\"color\":\"rgb(17,17,17)\"}},\"type\":\"table\"}]},\"layout\":{\"annotationdefaults\":{\"arrowcolor\":\"#f2f5fa\",\"arrowhead\":0,\"arrowwidth\":1},\"autotypenumbers\":\"strict\",\"coloraxis\":{\"colorbar\":{\"outlinewidth\":0,\"ticks\":\"\"}},\"colorscale\":{\"diverging\":[[0,\"#8e0152\"],[0.1,\"#c51b7d\"],[0.2,\"#de77ae\"],[0.3,\"#f1b6da\"],[0.4,\"#fde0ef\"],[0.5,\"#f7f7f7\"],[0.6,\"#e6f5d0\"],[0.7,\"#b8e186\"],[0.8,\"#7fbc41\"],[0.9,\"#4d9221\"],[1,\"#276419\"]],\"sequential\":[[0.0,\"#0d0887\"],[0.1111111111111111,\"#46039f\"],[0.2222222222222222,\"#7201a8\"],[0.3333333333333333,\"#9c179e\"],[0.4444444444444444,\"#bd3786\"],[0.5555555555555556,\"#d8576b\"],[0.6666666666666666,\"#ed7953\"],[0.7777777777777778,\"#fb9f3a\"],[0.8888888888888888,\"#fdca26\"],[1.0,\"#f0f921\"]],\"sequentialminus\":[[0.0,\"#0d0887\"],[0.1111111111111111,\"#46039f\"],[0.2222222222222222,\"#7201a8\"],[0.3333333333333333,\"#9c179e\"],[0.4444444444444444,\"#bd3786\"],[0.5555555555555556,\"#d8576b\"],[0.6666666666666666,\"#ed7953\"],[0.7777777777777778,\"#fb9f3a\"],[0.8888888888888888,\"#fdca26\"],[1.0,\"#f0f921\"]]},\"colorway\":[\"#636efa\",\"#EF553B\",\"#00cc96\",\"#ab63fa\",\"#FFA15A\",\"#19d3f3\",\"#FF6692\",\"#B6E880\",\"#FF97FF\",\"#FECB52\"],\"font\":{\"color\":\"#f2f5fa\"},\"geo\":{\"bgcolor\":\"rgb(17,17,17)\",\"lakecolor\":\"rgb(17,17,17)\",\"landcolor\":\"rgb(17,17,17)\",\"showlakes\":true,\"showland\":true,\"subunitcolor\":\"#506784\"},\"hoverlabel\":{\"align\":\"left\"},\"hovermode\":\"closest\",\"mapbox\":{\"style\":\"dark\"},\"paper_bgcolor\":\"rgb(17,17,17)\",\"plot_bgcolor\":\"rgb(17,17,17)\",\"polar\":{\"angularaxis\":{\"gridcolor\":\"#506784\",\"linecolor\":\"#506784\",\"ticks\":\"\"},\"bgcolor\":\"rgb(17,17,17)\",\"radialaxis\":{\"gridcolor\":\"#506784\",\"linecolor\":\"#506784\",\"ticks\":\"\"}},\"scene\":{\"xaxis\":{\"backgroundcolor\":\"rgb(17,17,17)\",\"gridcolor\":\"#506784\",\"gridwidth\":2,\"linecolor\":\"#506784\",\"showbackground\":true,\"ticks\":\"\",\"zerolinecolor\":\"#C8D4E3\"},\"yaxis\":{\"backgroundcolor\":\"rgb(17,17,17)\",\"gridcolor\":\"#506784\",\"gridwidth\":2,\"linecolor\":\"#506784\",\"showbackground\":true,\"ticks\":\"\",\"zerolinecolor\":\"#C8D4E3\"},\"zaxis\":{\"backgroundcolor\":\"rgb(17,17,17)\",\"gridcolor\":\"#506784\",\"gridwidth\":2,\"linecolor\":\"#506784\",\"showbackground\":true,\"ticks\":\"\",\"zerolinecolor\":\"#C8D4E3\"}},\"shapedefaults\":{\"line\":{\"color\":\"#f2f5fa\"}},\"sliderdefaults\":{\"bgcolor\":\"#C8D4E3\",\"bordercolor\":\"rgb(17,17,17)\",\"borderwidth\":1,\"tickwidth\":0},\"ternary\":{\"aaxis\":{\"gridcolor\":\"#506784\",\"linecolor\":\"#506784\",\"ticks\":\"\"},\"baxis\":{\"gridcolor\":\"#506784\",\"linecolor\":\"#506784\",\"ticks\":\"\"},\"bgcolor\":\"rgb(17,17,17)\",\"caxis\":{\"gridcolor\":\"#506784\",\"linecolor\":\"#506784\",\"ticks\":\"\"}},\"title\":{\"x\":0.05},\"updatemenudefaults\":{\"bgcolor\":\"#506784\",\"borderwidth\":0},\"xaxis\":{\"automargin\":true,\"gridcolor\":\"#283442\",\"linecolor\":\"#506784\",\"ticks\":\"\",\"title\":{\"standoff\":15},\"zerolinecolor\":\"#283442\",\"zerolinewidth\":2},\"yaxis\":{\"automargin\":true,\"gridcolor\":\"#283442\",\"linecolor\":\"#506784\",\"ticks\":\"\",\"title\":{\"standoff\":15},\"zerolinecolor\":\"#283442\",\"zerolinewidth\":2}}},\"title\":{\"font\":{\"color\":\"#4D5663\"}},\"xaxis\":{\"anchor\":\"y\",\"domain\":[0.0,0.2125],\"gridcolor\":\"#E1E5ED\",\"showgrid\":false,\"tickfont\":{\"color\":\"#4D5663\"},\"title\":{\"font\":{\"color\":\"#4D5663\"},\"text\":\"\"},\"zerolinecolor\":\"#E1E5ED\"},\"yaxis\":{\"anchor\":\"x\",\"domain\":[0.8025,1.0],\"gridcolor\":\"#E1E5ED\",\"showgrid\":false,\"tickfont\":{\"color\":\"#4D5663\"},\"title\":{\"font\":{\"color\":\"#4D5663\"},\"text\":\"\"},\"zerolinecolor\":\"#E1E5ED\"},\"xaxis2\":{\"anchor\":\"y2\",\"domain\":[0.2625,0.475],\"gridcolor\":\"#E1E5ED\",\"showgrid\":false,\"tickfont\":{\"color\":\"#4D5663\"},\"title\":{\"font\":{\"color\":\"#4D5663\"},\"text\":\"\"},\"zerolinecolor\":\"#E1E5ED\"},\"yaxis2\":{\"anchor\":\"x2\",\"domain\":[0.8025,1.0],\"gridcolor\":\"#E1E5ED\",\"showgrid\":false,\"tickfont\":{\"color\":\"#4D5663\"},\"title\":{\"font\":{\"color\":\"#4D5663\"},\"text\":\"\"},\"zerolinecolor\":\"#E1E5ED\"},\"xaxis3\":{\"anchor\":\"y3\",\"domain\":[0.525,0.7375],\"gridcolor\":\"#E1E5ED\",\"showgrid\":false,\"tickfont\":{\"color\":\"#4D5663\"},\"title\":{\"font\":{\"color\":\"#4D5663\"},\"text\":\"\"},\"zerolinecolor\":\"#E1E5ED\"},\"yaxis3\":{\"anchor\":\"x3\",\"domain\":[0.8025,1.0],\"gridcolor\":\"#E1E5ED\",\"showgrid\":false,\"tickfont\":{\"color\":\"#4D5663\"},\"title\":{\"font\":{\"color\":\"#4D5663\"},\"text\":\"\"},\"zerolinecolor\":\"#E1E5ED\"},\"xaxis4\":{\"anchor\":\"y4\",\"domain\":[0.7875,1.0],\"gridcolor\":\"#E1E5ED\",\"showgrid\":false,\"tickfont\":{\"color\":\"#4D5663\"},\"title\":{\"font\":{\"color\":\"#4D5663\"},\"text\":\"\"},\"zerolinecolor\":\"#E1E5ED\"},\"yaxis4\":{\"anchor\":\"x4\",\"domain\":[0.8025,1.0],\"gridcolor\":\"#E1E5ED\",\"showgrid\":false,\"tickfont\":{\"color\":\"#4D5663\"},\"title\":{\"font\":{\"color\":\"#4D5663\"},\"text\":\"\"},\"zerolinecolor\":\"#E1E5ED\"},\"xaxis5\":{\"anchor\":\"y5\",\"domain\":[0.0,0.2125],\"gridcolor\":\"#E1E5ED\",\"showgrid\":false,\"tickfont\":{\"color\":\"#4D5663\"},\"title\":{\"font\":{\"color\":\"#4D5663\"},\"text\":\"\"},\"zerolinecolor\":\"#E1E5ED\"},\"yaxis5\":{\"anchor\":\"x5\",\"domain\":[0.535,0.7325],\"gridcolor\":\"#E1E5ED\",\"showgrid\":false,\"tickfont\":{\"color\":\"#4D5663\"},\"title\":{\"font\":{\"color\":\"#4D5663\"},\"text\":\"\"},\"zerolinecolor\":\"#E1E5ED\"},\"xaxis6\":{\"anchor\":\"y6\",\"domain\":[0.2625,0.475],\"gridcolor\":\"#E1E5ED\",\"showgrid\":false,\"tickfont\":{\"color\":\"#4D5663\"},\"title\":{\"font\":{\"color\":\"#4D5663\"},\"text\":\"\"},\"zerolinecolor\":\"#E1E5ED\"},\"yaxis6\":{\"anchor\":\"x6\",\"domain\":[0.535,0.7325],\"gridcolor\":\"#E1E5ED\",\"showgrid\":false,\"tickfont\":{\"color\":\"#4D5663\"},\"title\":{\"font\":{\"color\":\"#4D5663\"},\"text\":\"\"},\"zerolinecolor\":\"#E1E5ED\"},\"xaxis7\":{\"anchor\":\"y7\",\"domain\":[0.525,0.7375],\"gridcolor\":\"#E1E5ED\",\"showgrid\":false,\"tickfont\":{\"color\":\"#4D5663\"},\"title\":{\"font\":{\"color\":\"#4D5663\"},\"text\":\"\"},\"zerolinecolor\":\"#E1E5ED\"},\"yaxis7\":{\"anchor\":\"x7\",\"domain\":[0.535,0.7325],\"gridcolor\":\"#E1E5ED\",\"showgrid\":false,\"tickfont\":{\"color\":\"#4D5663\"},\"title\":{\"font\":{\"color\":\"#4D5663\"},\"text\":\"\"},\"zerolinecolor\":\"#E1E5ED\"},\"xaxis8\":{\"anchor\":\"y8\",\"domain\":[0.7875,1.0],\"gridcolor\":\"#E1E5ED\",\"showgrid\":false,\"tickfont\":{\"color\":\"#4D5663\"},\"title\":{\"font\":{\"color\":\"#4D5663\"},\"text\":\"\"},\"zerolinecolor\":\"#E1E5ED\"},\"yaxis8\":{\"anchor\":\"x8\",\"domain\":[0.535,0.7325],\"gridcolor\":\"#E1E5ED\",\"showgrid\":false,\"tickfont\":{\"color\":\"#4D5663\"},\"title\":{\"font\":{\"color\":\"#4D5663\"},\"text\":\"\"},\"zerolinecolor\":\"#E1E5ED\"},\"xaxis9\":{\"anchor\":\"y9\",\"domain\":[0.0,0.2125],\"gridcolor\":\"#E1E5ED\",\"showgrid\":false,\"tickfont\":{\"color\":\"#4D5663\"},\"title\":{\"font\":{\"color\":\"#4D5663\"},\"text\":\"\"},\"zerolinecolor\":\"#E1E5ED\"},\"yaxis9\":{\"anchor\":\"x9\",\"domain\":[0.2675,0.465],\"gridcolor\":\"#E1E5ED\",\"showgrid\":false,\"tickfont\":{\"color\":\"#4D5663\"},\"title\":{\"font\":{\"color\":\"#4D5663\"},\"text\":\"\"},\"zerolinecolor\":\"#E1E5ED\"},\"xaxis10\":{\"anchor\":\"y10\",\"domain\":[0.2625,0.475],\"gridcolor\":\"#E1E5ED\",\"showgrid\":false,\"tickfont\":{\"color\":\"#4D5663\"},\"title\":{\"font\":{\"color\":\"#4D5663\"},\"text\":\"\"},\"zerolinecolor\":\"#E1E5ED\"},\"yaxis10\":{\"anchor\":\"x10\",\"domain\":[0.2675,0.465],\"gridcolor\":\"#E1E5ED\",\"showgrid\":false,\"tickfont\":{\"color\":\"#4D5663\"},\"title\":{\"font\":{\"color\":\"#4D5663\"},\"text\":\"\"},\"zerolinecolor\":\"#E1E5ED\"},\"xaxis11\":{\"anchor\":\"y11\",\"domain\":[0.525,0.7375],\"gridcolor\":\"#E1E5ED\",\"showgrid\":false,\"tickfont\":{\"color\":\"#4D5663\"},\"title\":{\"font\":{\"color\":\"#4D5663\"},\"text\":\"\"},\"zerolinecolor\":\"#E1E5ED\"},\"yaxis11\":{\"anchor\":\"x11\",\"domain\":[0.2675,0.465],\"gridcolor\":\"#E1E5ED\",\"showgrid\":false,\"tickfont\":{\"color\":\"#4D5663\"},\"title\":{\"font\":{\"color\":\"#4D5663\"},\"text\":\"\"},\"zerolinecolor\":\"#E1E5ED\"},\"xaxis12\":{\"anchor\":\"y12\",\"domain\":[0.7875,1.0],\"gridcolor\":\"#E1E5ED\",\"showgrid\":false,\"tickfont\":{\"color\":\"#4D5663\"},\"title\":{\"font\":{\"color\":\"#4D5663\"},\"text\":\"\"},\"zerolinecolor\":\"#E1E5ED\"},\"yaxis12\":{\"anchor\":\"x12\",\"domain\":[0.2675,0.465],\"gridcolor\":\"#E1E5ED\",\"showgrid\":false,\"tickfont\":{\"color\":\"#4D5663\"},\"title\":{\"font\":{\"color\":\"#4D5663\"},\"text\":\"\"},\"zerolinecolor\":\"#E1E5ED\"},\"xaxis13\":{\"anchor\":\"y13\",\"domain\":[0.0,0.2125],\"gridcolor\":\"#E1E5ED\",\"showgrid\":false,\"tickfont\":{\"color\":\"#4D5663\"},\"title\":{\"font\":{\"color\":\"#4D5663\"},\"text\":\"\"},\"zerolinecolor\":\"#E1E5ED\"},\"yaxis13\":{\"anchor\":\"x13\",\"domain\":[0.0,0.1975],\"gridcolor\":\"#E1E5ED\",\"showgrid\":false,\"tickfont\":{\"color\":\"#4D5663\"},\"title\":{\"font\":{\"color\":\"#4D5663\"},\"text\":\"\"},\"zerolinecolor\":\"#E1E5ED\"},\"xaxis14\":{\"anchor\":\"y14\",\"domain\":[0.2625,0.475],\"gridcolor\":\"#E1E5ED\",\"showgrid\":false,\"tickfont\":{\"color\":\"#4D5663\"},\"title\":{\"font\":{\"color\":\"#4D5663\"},\"text\":\"\"},\"zerolinecolor\":\"#E1E5ED\"},\"yaxis14\":{\"anchor\":\"x14\",\"domain\":[0.0,0.1975],\"gridcolor\":\"#E1E5ED\",\"showgrid\":false,\"tickfont\":{\"color\":\"#4D5663\"},\"title\":{\"font\":{\"color\":\"#4D5663\"},\"text\":\"\"},\"zerolinecolor\":\"#E1E5ED\"},\"xaxis15\":{\"anchor\":\"y15\",\"domain\":[0.525,0.7375],\"gridcolor\":\"#E1E5ED\",\"showgrid\":false,\"tickfont\":{\"color\":\"#4D5663\"},\"title\":{\"font\":{\"color\":\"#4D5663\"},\"text\":\"\"},\"zerolinecolor\":\"#E1E5ED\"},\"yaxis15\":{\"anchor\":\"x15\",\"domain\":[0.0,0.1975],\"gridcolor\":\"#E1E5ED\",\"showgrid\":false,\"tickfont\":{\"color\":\"#4D5663\"},\"title\":{\"font\":{\"color\":\"#4D5663\"},\"text\":\"\"},\"zerolinecolor\":\"#E1E5ED\"},\"xaxis16\":{\"anchor\":\"y16\",\"domain\":[0.7875,1.0],\"gridcolor\":\"#E1E5ED\",\"showgrid\":false,\"tickfont\":{\"color\":\"#4D5663\"},\"title\":{\"font\":{\"color\":\"#4D5663\"},\"text\":\"\"},\"zerolinecolor\":\"#E1E5ED\"},\"yaxis16\":{\"anchor\":\"x16\",\"domain\":[0.0,0.1975],\"gridcolor\":\"#E1E5ED\",\"showgrid\":false,\"tickfont\":{\"color\":\"#4D5663\"},\"title\":{\"font\":{\"color\":\"#4D5663\"},\"text\":\"\"},\"zerolinecolor\":\"#E1E5ED\"}},                        {\"showLink\": true, \"linkText\": \"Export to plot.ly\", \"plotlyServerURL\": \"https://plot.ly\", \"responsive\": true}                    ).then(function(){\n                            \nvar gd = document.getElementById('64214dbb-1ec0-412d-b772-ae3b71fc7119');\nvar x = new MutationObserver(function (mutations, observer) {{\n        var display = window.getComputedStyle(gd).display;\n        if (!display || display === 'none') {{\n            console.log([gd, 'removed!']);\n            Plotly.purge(gd);\n            observer.disconnect();\n        }}\n}});\n\n// Listen for the removal of the full notebook cells\nvar notebookContainer = gd.closest('#notebook-container');\nif (notebookContainer) {{\n    x.observe(notebookContainer, {childList: true});\n}}\n\n// Listen for the clearing of the current output cell\nvar outputEl = gd.closest('.output');\nif (outputEl) {{\n    x.observe(outputEl, {childList: true});\n}}\n\n                        })                };                });            </script>        </div>"
     },
     "metadata": {},
     "output_type": "display_data"
    }
   ],
   "source": [
    "df.scatter_matrix()\n"
   ],
   "metadata": {
    "collapsed": false,
    "pycharm": {
     "name": "#%%\n"
    }
   }
  },
  {
   "cell_type": "code",
   "execution_count": null,
   "outputs": [],
   "source": [],
   "metadata": {
    "collapsed": false,
    "pycharm": {
     "name": "#%%\n"
    }
   }
  }
 ],
 "metadata": {
  "kernelspec": {
   "display_name": "Python 3",
   "language": "python",
   "name": "python3"
  },
  "language_info": {
   "codemirror_mode": {
    "name": "ipython",
    "version": 2
   },
   "file_extension": ".py",
   "mimetype": "text/x-python",
   "name": "python",
   "nbconvert_exporter": "python",
   "pygments_lexer": "ipython2",
   "version": "2.7.6"
  }
 },
 "nbformat": 4,
 "nbformat_minor": 0
}