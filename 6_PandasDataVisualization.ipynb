{
 "cells": [
  {
   "cell_type": "markdown",
   "id": "f18818c6-f2ae-4838-b12f-39b97df95fae",
   "metadata": {},
   "source": [
    "# Pandas build-in Data Visualization\n",
    "Based on Matplotlib but included in Pandas for easier use."
   ]
  },
  {
   "cell_type": "code",
   "execution_count": 3,
   "id": "ac239bfa-a6bf-4685-b894-879db621338c",
   "metadata": {},
   "outputs": [],
   "source": [
    "import numpy as np\n",
    "import pandas as pd\n",
    "%matplotlib inline"
   ]
  },
  {
   "cell_type": "code",
   "execution_count": 4,
   "id": "ed5e6d6a-f6c1-4139-ac37-8b30ecb49bea",
   "metadata": {},
   "outputs": [
    {
     "name": "stdout",
     "output_type": "stream",
     "text": [
      "Python 3.9.7\n",
      "C:\\Users\\HAL9000\\anaconda3\\envs\\data_science\\python.exe\n"
     ]
    }
   ],
   "source": [
    "!python -V\n",
    "import sys\n",
    "print(sys.executable)"
   ]
  },
  {
   "cell_type": "code",
   "execution_count": null,
   "id": "ace3bf53-6a95-4e25-a454-6cda5b870357",
   "metadata": {},
   "outputs": [],
   "source": []
  }
 ],
 "metadata": {
  "kernelspec": {
   "display_name": "Python 3 (ipykernel)",
   "language": "python",
   "name": "python3"
  },
  "language_info": {
   "codemirror_mode": {
    "name": "ipython",
    "version": 3
   },
   "file_extension": ".py",
   "mimetype": "text/x-python",
   "name": "python",
   "nbconvert_exporter": "python",
   "pygments_lexer": "ipython3",
   "version": "3.9.7"
  }
 },
 "nbformat": 4,
 "nbformat_minor": 5
}
